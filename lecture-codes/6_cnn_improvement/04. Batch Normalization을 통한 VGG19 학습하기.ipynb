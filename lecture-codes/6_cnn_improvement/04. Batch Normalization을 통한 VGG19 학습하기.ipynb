{
 "cells": [
  {
   "cell_type": "markdown",
   "metadata": {},
   "source": [
    "<i><b>Public AI</b></i>\n",
    "<br>\n",
    "# Batch Normalization을 통한 VGG19 학습하기\n",
    "\n",
    "### _Objective_\n",
    "* Batch Normalization을 VGG19에 포함시킨 후, 어떤식으로 학습하는지 배워보도록 하겠습니다.\n"
   ]
  },
  {
   "cell_type": "code",
   "execution_count": null,
   "metadata": {},
   "outputs": [],
   "source": [
    "%matplotlib inline\n",
    "import numpy as np\n",
    "import matplotlib.pyplot as plt\n",
    "import tensorflow as tf"
   ]
  },
  {
   "cell_type": "markdown",
   "metadata": {},
   "source": [
    "## 예제 데이터셋) CIFAR-10"
   ]
  },
  {
   "cell_type": "code",
   "execution_count": null,
   "metadata": {},
   "outputs": [],
   "source": [
    "from tensorflow.keras.datasets import cifar10\n",
    "(train_x, train_y), (test_x, test_y) = cifar10.load_data()\n",
    "train_y = train_y.flatten()\n",
    "test_y = test_y.flatten()\n",
    "\n",
    "# 이미지 시각화하기\n",
    "fig = plt.figure(figsize=(10,3))\n",
    "axes = fig.subplots(1, 5)\n",
    "\n",
    "for ax, image, label in zip(axes, train_x, train_y):\n",
    "    ax.set_title(label)\n",
    "    ax.imshow(image)\n",
    "plt.show()"
   ]
  },
  {
   "cell_type": "markdown",
   "metadata": {},
   "source": [
    "<br>\n",
    "\n",
    "# \\[ 1. BatchNormalization을 포함한 VGG 19 구성하기 \\]\n",
    "\n",
    "---\n",
    "\n",
    "Batch Normalization이 나온 후, 많은 인공 신경망에서는 Fully Connected Layer 혹은  Convolution Layer 이후에 추가하였습니다. Batch Normalization을 통해, 복잡한 Transfer Learning 없이도 VGG 19를 한번에 학습시킬 수 있게 되었습니다."
   ]
  },
  {
   "cell_type": "markdown",
   "metadata": {},
   "source": [
    "<br>\n",
    "\n",
    "## 1. Batch Normalization Layer을 추가시키기\n",
    "\n",
    "* 논문에서는 Activation Function 이전에 Batch Normalization Layer을 포함시켰습니다.<br>\n",
    "* 하지만, Activation Function 이후에 Batch Normalization Layer을 포함시켜야, Activation Function으로 인한 분포의 변화가 발생하지 않기 때문입니다.<br>\n",
    "* 심지어 실험을 했을 때, Activation Function 이후에 Batch Normalization Layer을 포함시켰을 때, 성능 향상이 더 좋았다는 보고도 있습니다.<br>\n",
    "* 이는 아직도 논의중에 있는 상황이므로, 판단에 따라 사용하시길 바랍니다.\n",
    "\n",
    "참고 : [reddit - Batch Normalization before or after ReLU](https://www.reddit.com/r/MachineLearning/comments/67gonq/d_batch_normalization_before_or_after_relu/)"
   ]
  },
  {
   "cell_type": "markdown",
   "metadata": {},
   "source": [
    "### (1) Convolution Network 구성하기\n",
    "\n",
    "![Imgur](https://i.imgur.com/YeoF2AE.png)\n",
    "\n",
    "* 이전과 동일하되, Convolution Layer와 Fully Connected 이후에 Batch Normalization을 포함시키도록 하겠습니다. \n",
    "* Batch Normalization은 약간의 정규화 효과가 있기 때문에, Dropout의 Rate을 50%에서 40%로 줄이겠습니다."
   ]
  },
  {
   "cell_type": "code",
   "execution_count": null,
   "metadata": {},
   "outputs": [],
   "source": [
    "from tensorflow.keras.layers import Input\n",
    "from tensorflow.keras.layers import Conv2D, MaxPooling2D\n",
    "from tensorflow.keras.layers import Flatten\n",
    "from tensorflow.keras.layers import Dense\n",
    "from tensorflow.keras.layers import BatchNormalization\n",
    "from tensorflow.keras.layers import Dropout\n",
    "from tensorflow.keras.regularizers import l2\n",
    "\n",
    "from tensorflow.keras.models import Model"
   ]
  },
  {
   "cell_type": "code",
   "execution_count": null,
   "metadata": {},
   "outputs": [],
   "source": [
    "#"
   ]
  },
  {
   "cell_type": "markdown",
   "metadata": {},
   "source": [
    "<br>\n",
    "\n",
    "## 2. 학습에 관련된 부분들 구성하기\n",
    "---\n",
    "\n",
    "* 논문과 동일하게 구현하도록 하겠습니다."
   ]
  },
  {
   "cell_type": "markdown",
   "metadata": {},
   "source": [
    "### (1) Loss Function 설정하기"
   ]
  },
  {
   "cell_type": "code",
   "execution_count": null,
   "metadata": {},
   "outputs": [],
   "source": [
    "#"
   ]
  },
  {
   "cell_type": "markdown",
   "metadata": {},
   "source": [
    "### (2) Optimizer 구성하기\n"
   ]
  },
  {
   "cell_type": "code",
   "execution_count": null,
   "metadata": {},
   "outputs": [],
   "source": [
    "#"
   ]
  },
  {
   "cell_type": "markdown",
   "metadata": {},
   "source": [
    "### (3) Metric 구성하기"
   ]
  },
  {
   "cell_type": "code",
   "execution_count": 1,
   "metadata": {},
   "outputs": [],
   "source": [
    "#"
   ]
  },
  {
   "cell_type": "markdown",
   "metadata": {},
   "source": [
    "### (4) 모델 컴파일 하기"
   ]
  },
  {
   "cell_type": "code",
   "execution_count": 2,
   "metadata": {},
   "outputs": [],
   "source": [
    "#"
   ]
  },
  {
   "cell_type": "markdown",
   "metadata": {},
   "source": [
    "<br>\n",
    "\n",
    "# \\[ 2. VGG 19 학습하기 \\]\n",
    "---\n",
    "\n",
    "CIFAR-100을 통해 모델을 학습시키도록 하겠습니다."
   ]
  },
  {
   "cell_type": "markdown",
   "metadata": {},
   "source": [
    "### 1. Callback 함수설정하기"
   ]
  },
  {
   "cell_type": "code",
   "execution_count": null,
   "metadata": {},
   "outputs": [],
   "source": [
    "#"
   ]
  },
  {
   "cell_type": "markdown",
   "metadata": {},
   "source": [
    "### 2. 모델 학습시키기"
   ]
  },
  {
   "cell_type": "code",
   "execution_count": null,
   "metadata": {},
   "outputs": [],
   "source": [
    "#"
   ]
  },
  {
   "cell_type": "markdown",
   "metadata": {},
   "source": [
    "#  \n",
    "\n",
    "---\n",
    "\n",
    "    Copyright(c) 2019 by Public AI. All rights reserved.<br>\n",
    "    Writen by PAI, SangJae Kang ( rocketgrowthsj@publicai.co.kr )  last updated on 2019/05/07\n",
    "\n",
    "---"
   ]
  }
 ],
 "metadata": {
  "kernelspec": {
   "display_name": "Python 3",
   "language": "python",
   "name": "python3"
  },
  "language_info": {
   "codemirror_mode": {
    "name": "ipython",
    "version": 3
   },
   "file_extension": ".py",
   "mimetype": "text/x-python",
   "name": "python",
   "nbconvert_exporter": "python",
   "pygments_lexer": "ipython3",
   "version": "3.6.6"
  },
  "toc": {
   "base_numbering": 1,
   "nav_menu": {},
   "number_sections": false,
   "sideBar": true,
   "skip_h1_title": false,
   "title_cell": "Table of Contents",
   "title_sidebar": "Contents",
   "toc_cell": false,
   "toc_position": {},
   "toc_section_display": true,
   "toc_window_display": false
  },
  "varInspector": {
   "cols": {
    "lenName": 16,
    "lenType": 16,
    "lenVar": 40
   },
   "kernels_config": {
    "python": {
     "delete_cmd_postfix": "",
     "delete_cmd_prefix": "del ",
     "library": "var_list.py",
     "varRefreshCmd": "print(var_dic_list())"
    },
    "r": {
     "delete_cmd_postfix": ") ",
     "delete_cmd_prefix": "rm(",
     "library": "var_list.r",
     "varRefreshCmd": "cat(var_dic_list()) "
    }
   },
   "types_to_exclude": [
    "module",
    "function",
    "builtin_function_or_method",
    "instance",
    "_Feature"
   ],
   "window_display": false
  }
 },
 "nbformat": 4,
 "nbformat_minor": 2
}
