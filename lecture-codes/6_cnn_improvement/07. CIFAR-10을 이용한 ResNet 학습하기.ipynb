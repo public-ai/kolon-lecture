{
 "cells": [
  {
   "cell_type": "markdown",
   "metadata": {},
   "source": [
    "\n",
    "\n",
    "<i><b>Public AI</b></i>\n",
    "<br>\n",
    "# CIFAR-10을 이용한 ResNet 학습하기\n",
    "\n",
    "### _Objective_\n",
    "* CIFAR-10 데이터셋을 바탕으로, ResNet 학습시켜 보도록 하겠습니다. <br>\n",
    "* ResNet 논문과 같이 유사한 결과가 나타나는 지 확인해보도록 하겠습니다. <br>\n"
   ]
  },
  {
   "cell_type": "code",
   "execution_count": 1,
   "metadata": {},
   "outputs": [],
   "source": [
    "%matplotlib inline\n",
    "import numpy as np\n",
    "import matplotlib.pyplot as plt\n",
    "import tensorflow as tf\n"
   ]
  },
  {
   "cell_type": "markdown",
   "metadata": {},
   "source": [
    "### 예제 데이터셋) CIFAR-10\n",
    "\n",
    "ResNet에서는 `CIFAR-10` 데이터셋을 이용해 학습하고, 성능 평가에 대한 결과를 내놓았습니다. <br> 논문과 비슷하게 나올 수 있도록 모델을 학습시켜 보도록 하겠습니다."
   ]
  },
  {
   "cell_type": "code",
   "execution_count": 2,
   "metadata": {},
   "outputs": [],
   "source": [
    "from tensorflow.keras.datasets import cifar10\n",
    "(train_x, train_y), (test_x, test_y) = cifar10.load_data()\n",
    "train_y = train_y.flatten()\n",
    "test_y = test_y.flatten()\n",
    "\n",
    "# 이미지 시각화하기\n",
    "fig = plt.figure(figsize=(10,3))\n",
    "axes = fig.subplots(1, 5)\n",
    "\n",
    "for ax, image, label in zip(axes, train_x, train_y):\n",
    "    ax.set_title(label)\n",
    "    ax.set_xticks([])\n",
    "    ax.set_yticks([])    \n",
    "    ax.imshow(image)\n",
    "plt.show()"
   ]
  },
  {
   "cell_type": "markdown",
   "metadata": {},
   "source": [
    "<br>\n",
    "\n",
    "# \\[ 1. ResNet 구성하기 \\]\n",
    "---\n",
    "\n",
    "ResNet 팀은 깊이에 따른 성능 변화를 추적하기 위해, CIFAR 데이터셋을 이용해 학습하였습니다. ResNet 팀이 진행했던 CIFAR-10 결과를 재현해보도록 하겠습니다."
   ]
  },
  {
   "cell_type": "markdown",
   "metadata": {},
   "source": [
    "여기서 보면 CIFAR 데이터셋을 처리하기 위해 진행했던 여러 수정사항들을 확인해 볼 수 있습니다.\n",
    "\n",
    "1. 첫번째 레이어를 3x3 Convolution Layer로 변경하였습니다.\n",
    "2. 총 2번의 Pooling을 거쳐서 32x32 -> 16x16 -> 8x8로 Feature map의 크기가 줄어듭니다.\n",
    "3. 총 Layer의 갯수가 6n+2일 때, 각 Layer의 필터 갯수는 위의 규칙을 따릅니다."
   ]
  },
  {
   "cell_type": "markdown",
   "metadata": {},
   "source": [
    "\n",
    "![Imgur](https://i.imgur.com/wg5Or2h.png)\n",
    "\n",
    "위의 규칙에 따라 Inference Network 내 Layer의 수를 따지면 아래와 같습니다.\n",
    "\n",
    "#### 각 구간 별 Layer의 수 \n",
    "\n",
    "|Output map size | 32x32 | 16x16 | 8x8 | 출력층 |\n",
    "|---|---|---|---|---|\n",
    "|resnet-20 | 7 | 6 | 6 | 1 |\n",
    "|resnet-32 | 11 | 10 | 10 | 1 |\n",
    "|resnet-44 | 15 | 14 | 14 | 1 |\n",
    "|resnet-56 | 19 | 18 | 18 | 1 |\n",
    "|resnet-110 | 37 | 36 | 36 | 1 |\n",
    "|resnet-1202 | 401 | 400 | 400 | 1 |"
   ]
  },
  {
   "cell_type": "markdown",
   "metadata": {},
   "source": [
    "이번 시간에서는 resnet-20을 구성하여 Test error가 8.75% 수준으로 나오는지 확인해 보도록 하겠습니다."
   ]
  },
  {
   "cell_type": "markdown",
   "metadata": {},
   "source": [
    "<br>\n",
    "\n",
    "## 1. Inference Network 구성하기\n",
    "\n",
    "|Output map size | 32x32 | 16x16 | 8x8 | 출력층 |\n",
    "|---|---|---|---|---|\n",
    "|resnet-20 | 7 | 6 | 6 | 1 |\n",
    "\n",
    "이 규칙에 따라 구성해보도록 하겠습니다. "
   ]
  },
  {
   "cell_type": "code",
   "execution_count": 4,
   "metadata": {},
   "outputs": [],
   "source": [
    "from tensorflow.keras.layers import Input\n",
    "from tensorflow.keras.layers import Conv2D\n",
    "from tensorflow.keras.layers import MaxPooling2D\n",
    "from tensorflow.keras.layers import BatchNormalization\n",
    "from tensorflow.keras.layers import ReLU\n",
    "from tensorflow.keras.layers import GlobalAveragePooling2D\n",
    "from tensorflow.keras.layers import Dense\n",
    "from tensorflow.keras.models import Model"
   ]
  },
  {
   "cell_type": "code",
   "execution_count": 5,
   "metadata": {},
   "outputs": [],
   "source": [
    "def residual_block(input_layer, filters, strides=(1,1)):\n",
    "    if input_layer.shape.as_list()[-1] != filters:\n",
    "        # input_layer의 필터 갯수와 filters가 다르면, projection layer을 거침\n",
    "        projection = Conv2D(\n",
    "            filters, (1,1), strides=strides, padding='SAME')(input_layer)\n",
    "    else:\n",
    "        # 동일하면 바로 이어줌\n",
    "        projection = input_layer\n",
    "        \n",
    "    conv = Conv2D(filters, (3,3), strides, padding='SAME')(input_layer)\n",
    "    bn = BatchNormalization()(conv)\n",
    "    act = ReLU()(bn)\n",
    "    conv = Conv2D(filters, (3,3), padding='SAME')(act)\n",
    "    bn = BatchNormalization()(conv)\n",
    "    added = projection + bn\n",
    "    out = tf.nn.relu(added)       \n",
    "\n",
    "    return out        "
   ]
  },
  {
   "cell_type": "code",
   "execution_count": 7,
   "metadata": {},
   "outputs": [],
   "source": [
    "input_shape = (32,32,3)\n",
    "num_classes = 10\n",
    "\n",
    "inputs = Input(input_shape, name='images')\n",
    "\n",
    "rgb_mean = np.array([123.68, 116.779, 103.939], np.float32)\n",
    "preprocessed = (inputs - rgb_mean) / 255.\n",
    "\n",
    "\n",
    "for i in range(1,5):\n",
    "    if i == 1:\n",
    "        conv = Conv2D(16, (3,3), padding='SAME')(preprocessed)\n",
    "    else:\n",
    "        conv = residual_block(conv, 16)\n",
    "    \n",
    "for i in range(1,4):\n",
    "    if i == 1:\n",
    "        conv = residual_block(conv, 32, strides=(2,2))            \n",
    "    else:\n",
    "        conv = residual_block(conv, 32)\n",
    "\n",
    "for i in range(1,4):\n",
    "    if i == 1:\n",
    "        conv = residual_block(conv, 64, strides=(2,2))\n",
    "    else:\n",
    "        conv = residual_block(conv, 64)\n",
    "\n",
    "gap = GlobalAveragePooling2D()(conv)\n",
    "pred = Dense(num_classes, activation='softmax')(gap)\n",
    "\n",
    "model = Model(inputs, pred)"
   ]
  },
  {
   "cell_type": "code",
   "execution_count": 8,
   "metadata": {},
   "outputs": [
    {
     "name": "stdout",
     "output_type": "stream",
     "text": [
      "Model: \"model_1\"\n",
      "__________________________________________________________________________________________________\n",
      "Layer (type)                    Output Shape         Param #     Connected to                     \n",
      "==================================================================================================\n",
      "images (InputLayer)             [(None, 32, 32, 3)]  0                                            \n",
      "__________________________________________________________________________________________________\n",
      "tf_op_layer_sub_1 (TensorFlowOp [(None, 32, 32, 3)]  0           images[0][0]                     \n",
      "__________________________________________________________________________________________________\n",
      "tf_op_layer_truediv_1 (TensorFl [(None, 32, 32, 3)]  0           tf_op_layer_sub_1[0][0]          \n",
      "__________________________________________________________________________________________________\n",
      "conv2d_23 (Conv2D)              (None, 32, 32, 16)   448         tf_op_layer_truediv_1[0][0]      \n",
      "__________________________________________________________________________________________________\n",
      "conv2d_24 (Conv2D)              (None, 32, 32, 16)   2320        conv2d_23[0][0]                  \n",
      "__________________________________________________________________________________________________\n",
      "batch_normalization_20 (BatchNo (None, 32, 32, 16)   64          conv2d_24[0][0]                  \n",
      "__________________________________________________________________________________________________\n",
      "re_lu_10 (ReLU)                 (None, 32, 32, 16)   0           batch_normalization_20[0][0]     \n",
      "__________________________________________________________________________________________________\n",
      "conv2d_25 (Conv2D)              (None, 32, 32, 16)   2320        re_lu_10[0][0]                   \n",
      "__________________________________________________________________________________________________\n",
      "batch_normalization_21 (BatchNo (None, 32, 32, 16)   64          conv2d_25[0][0]                  \n",
      "__________________________________________________________________________________________________\n",
      "tf_op_layer_add_10 (TensorFlowO [(None, 32, 32, 16)] 0           conv2d_23[0][0]                  \n",
      "                                                                 batch_normalization_21[0][0]     \n",
      "__________________________________________________________________________________________________\n",
      "tf_op_layer_Relu_10 (TensorFlow [(None, 32, 32, 16)] 0           tf_op_layer_add_10[0][0]         \n",
      "__________________________________________________________________________________________________\n",
      "conv2d_26 (Conv2D)              (None, 32, 32, 16)   2320        tf_op_layer_Relu_10[0][0]        \n",
      "__________________________________________________________________________________________________\n",
      "batch_normalization_22 (BatchNo (None, 32, 32, 16)   64          conv2d_26[0][0]                  \n",
      "__________________________________________________________________________________________________\n",
      "re_lu_11 (ReLU)                 (None, 32, 32, 16)   0           batch_normalization_22[0][0]     \n",
      "__________________________________________________________________________________________________\n",
      "conv2d_27 (Conv2D)              (None, 32, 32, 16)   2320        re_lu_11[0][0]                   \n",
      "__________________________________________________________________________________________________\n",
      "batch_normalization_23 (BatchNo (None, 32, 32, 16)   64          conv2d_27[0][0]                  \n",
      "__________________________________________________________________________________________________\n",
      "tf_op_layer_add_11 (TensorFlowO [(None, 32, 32, 16)] 0           tf_op_layer_Relu_10[0][0]        \n",
      "                                                                 batch_normalization_23[0][0]     \n",
      "__________________________________________________________________________________________________\n",
      "tf_op_layer_Relu_11 (TensorFlow [(None, 32, 32, 16)] 0           tf_op_layer_add_11[0][0]         \n",
      "__________________________________________________________________________________________________\n",
      "conv2d_28 (Conv2D)              (None, 32, 32, 16)   2320        tf_op_layer_Relu_11[0][0]        \n",
      "__________________________________________________________________________________________________\n",
      "batch_normalization_24 (BatchNo (None, 32, 32, 16)   64          conv2d_28[0][0]                  \n",
      "__________________________________________________________________________________________________\n",
      "re_lu_12 (ReLU)                 (None, 32, 32, 16)   0           batch_normalization_24[0][0]     \n",
      "__________________________________________________________________________________________________\n",
      "conv2d_29 (Conv2D)              (None, 32, 32, 16)   2320        re_lu_12[0][0]                   \n",
      "__________________________________________________________________________________________________\n",
      "batch_normalization_25 (BatchNo (None, 32, 32, 16)   64          conv2d_29[0][0]                  \n",
      "__________________________________________________________________________________________________\n",
      "tf_op_layer_add_12 (TensorFlowO [(None, 32, 32, 16)] 0           tf_op_layer_Relu_11[0][0]        \n",
      "                                                                 batch_normalization_25[0][0]     \n",
      "__________________________________________________________________________________________________\n",
      "tf_op_layer_Relu_12 (TensorFlow [(None, 32, 32, 16)] 0           tf_op_layer_add_12[0][0]         \n",
      "__________________________________________________________________________________________________\n",
      "conv2d_31 (Conv2D)              (None, 16, 16, 32)   4640        tf_op_layer_Relu_12[0][0]        \n",
      "__________________________________________________________________________________________________\n",
      "batch_normalization_26 (BatchNo (None, 16, 16, 32)   128         conv2d_31[0][0]                  \n",
      "__________________________________________________________________________________________________\n",
      "re_lu_13 (ReLU)                 (None, 16, 16, 32)   0           batch_normalization_26[0][0]     \n",
      "__________________________________________________________________________________________________\n",
      "conv2d_32 (Conv2D)              (None, 16, 16, 32)   9248        re_lu_13[0][0]                   \n",
      "__________________________________________________________________________________________________\n",
      "conv2d_30 (Conv2D)              (None, 16, 16, 32)   544         tf_op_layer_Relu_12[0][0]        \n",
      "__________________________________________________________________________________________________\n",
      "batch_normalization_27 (BatchNo (None, 16, 16, 32)   128         conv2d_32[0][0]                  \n",
      "__________________________________________________________________________________________________\n",
      "tf_op_layer_add_13 (TensorFlowO [(None, 16, 16, 32)] 0           conv2d_30[0][0]                  \n",
      "                                                                 batch_normalization_27[0][0]     \n",
      "__________________________________________________________________________________________________\n",
      "tf_op_layer_Relu_13 (TensorFlow [(None, 16, 16, 32)] 0           tf_op_layer_add_13[0][0]         \n",
      "__________________________________________________________________________________________________\n",
      "conv2d_33 (Conv2D)              (None, 16, 16, 32)   9248        tf_op_layer_Relu_13[0][0]        \n",
      "__________________________________________________________________________________________________\n",
      "batch_normalization_28 (BatchNo (None, 16, 16, 32)   128         conv2d_33[0][0]                  \n",
      "__________________________________________________________________________________________________\n",
      "re_lu_14 (ReLU)                 (None, 16, 16, 32)   0           batch_normalization_28[0][0]     \n",
      "__________________________________________________________________________________________________\n",
      "conv2d_34 (Conv2D)              (None, 16, 16, 32)   9248        re_lu_14[0][0]                   \n",
      "__________________________________________________________________________________________________\n",
      "batch_normalization_29 (BatchNo (None, 16, 16, 32)   128         conv2d_34[0][0]                  \n",
      "__________________________________________________________________________________________________\n",
      "tf_op_layer_add_14 (TensorFlowO [(None, 16, 16, 32)] 0           tf_op_layer_Relu_13[0][0]        \n",
      "                                                                 batch_normalization_29[0][0]     \n",
      "__________________________________________________________________________________________________\n",
      "tf_op_layer_Relu_14 (TensorFlow [(None, 16, 16, 32)] 0           tf_op_layer_add_14[0][0]         \n",
      "__________________________________________________________________________________________________\n",
      "conv2d_35 (Conv2D)              (None, 16, 16, 32)   9248        tf_op_layer_Relu_14[0][0]        \n",
      "__________________________________________________________________________________________________\n",
      "batch_normalization_30 (BatchNo (None, 16, 16, 32)   128         conv2d_35[0][0]                  \n",
      "__________________________________________________________________________________________________\n",
      "re_lu_15 (ReLU)                 (None, 16, 16, 32)   0           batch_normalization_30[0][0]     \n",
      "__________________________________________________________________________________________________\n",
      "conv2d_36 (Conv2D)              (None, 16, 16, 32)   9248        re_lu_15[0][0]                   \n",
      "__________________________________________________________________________________________________\n",
      "batch_normalization_31 (BatchNo (None, 16, 16, 32)   128         conv2d_36[0][0]                  \n",
      "__________________________________________________________________________________________________\n",
      "tf_op_layer_add_15 (TensorFlowO [(None, 16, 16, 32)] 0           tf_op_layer_Relu_14[0][0]        \n",
      "                                                                 batch_normalization_31[0][0]     \n",
      "__________________________________________________________________________________________________\n",
      "tf_op_layer_Relu_15 (TensorFlow [(None, 16, 16, 32)] 0           tf_op_layer_add_15[0][0]         \n",
      "__________________________________________________________________________________________________\n",
      "conv2d_38 (Conv2D)              (None, 8, 8, 64)     18496       tf_op_layer_Relu_15[0][0]        \n",
      "__________________________________________________________________________________________________\n",
      "batch_normalization_32 (BatchNo (None, 8, 8, 64)     256         conv2d_38[0][0]                  \n",
      "__________________________________________________________________________________________________\n",
      "re_lu_16 (ReLU)                 (None, 8, 8, 64)     0           batch_normalization_32[0][0]     \n",
      "__________________________________________________________________________________________________\n",
      "conv2d_39 (Conv2D)              (None, 8, 8, 64)     36928       re_lu_16[0][0]                   \n",
      "__________________________________________________________________________________________________\n",
      "conv2d_37 (Conv2D)              (None, 8, 8, 64)     2112        tf_op_layer_Relu_15[0][0]        \n",
      "__________________________________________________________________________________________________\n",
      "batch_normalization_33 (BatchNo (None, 8, 8, 64)     256         conv2d_39[0][0]                  \n",
      "__________________________________________________________________________________________________\n",
      "tf_op_layer_add_16 (TensorFlowO [(None, 8, 8, 64)]   0           conv2d_37[0][0]                  \n",
      "                                                                 batch_normalization_33[0][0]     \n",
      "__________________________________________________________________________________________________\n",
      "tf_op_layer_Relu_16 (TensorFlow [(None, 8, 8, 64)]   0           tf_op_layer_add_16[0][0]         \n",
      "__________________________________________________________________________________________________\n",
      "conv2d_40 (Conv2D)              (None, 8, 8, 64)     36928       tf_op_layer_Relu_16[0][0]        \n",
      "__________________________________________________________________________________________________\n",
      "batch_normalization_34 (BatchNo (None, 8, 8, 64)     256         conv2d_40[0][0]                  \n",
      "__________________________________________________________________________________________________\n",
      "re_lu_17 (ReLU)                 (None, 8, 8, 64)     0           batch_normalization_34[0][0]     \n",
      "__________________________________________________________________________________________________\n",
      "conv2d_41 (Conv2D)              (None, 8, 8, 64)     36928       re_lu_17[0][0]                   \n",
      "__________________________________________________________________________________________________\n",
      "batch_normalization_35 (BatchNo (None, 8, 8, 64)     256         conv2d_41[0][0]                  \n",
      "__________________________________________________________________________________________________\n",
      "tf_op_layer_add_17 (TensorFlowO [(None, 8, 8, 64)]   0           tf_op_layer_Relu_16[0][0]        \n",
      "                                                                 batch_normalization_35[0][0]     \n",
      "__________________________________________________________________________________________________\n",
      "tf_op_layer_Relu_17 (TensorFlow [(None, 8, 8, 64)]   0           tf_op_layer_add_17[0][0]         \n",
      "__________________________________________________________________________________________________\n",
      "conv2d_42 (Conv2D)              (None, 8, 8, 64)     36928       tf_op_layer_Relu_17[0][0]        \n",
      "__________________________________________________________________________________________________\n",
      "batch_normalization_36 (BatchNo (None, 8, 8, 64)     256         conv2d_42[0][0]                  \n",
      "__________________________________________________________________________________________________\n",
      "re_lu_18 (ReLU)                 (None, 8, 8, 64)     0           batch_normalization_36[0][0]     \n",
      "__________________________________________________________________________________________________\n",
      "conv2d_43 (Conv2D)              (None, 8, 8, 64)     36928       re_lu_18[0][0]                   \n",
      "__________________________________________________________________________________________________\n",
      "batch_normalization_37 (BatchNo (None, 8, 8, 64)     256         conv2d_43[0][0]                  \n",
      "__________________________________________________________________________________________________\n",
      "tf_op_layer_add_18 (TensorFlowO [(None, 8, 8, 64)]   0           tf_op_layer_Relu_17[0][0]        \n",
      "                                                                 batch_normalization_37[0][0]     \n",
      "__________________________________________________________________________________________________\n",
      "tf_op_layer_Relu_18 (TensorFlow [(None, 8, 8, 64)]   0           tf_op_layer_add_18[0][0]         \n",
      "__________________________________________________________________________________________________\n",
      "global_average_pooling2d_1 (Glo (None, 64)           0           tf_op_layer_Relu_18[0][0]        \n",
      "__________________________________________________________________________________________________\n",
      "dense_1 (Dense)                 (None, 10)           650         global_average_pooling2d_1[0][0] \n",
      "==================================================================================================\n",
      "Total params: 274,378\n",
      "Trainable params: 273,034\n",
      "Non-trainable params: 1,344\n",
      "__________________________________________________________________________________________________\n"
     ]
    }
   ],
   "source": [
    "model.summary()"
   ]
  },
  {
   "cell_type": "markdown",
   "metadata": {},
   "source": [
    "<br>\n",
    "\n",
    "## 2. 학습에 관련된 부분들 구성하기\n",
    "\n",
    "논문과 동일하게 구현하도록 하겠습니다.<br>"
   ]
  },
  {
   "cell_type": "markdown",
   "metadata": {},
   "source": [
    "###  (1) Loss Function 구성하기\n",
    "\n",
    "![Imgur](https://i.imgur.com/RkeK3yI.png)\n"
   ]
  },
  {
   "cell_type": "code",
   "execution_count": 9,
   "metadata": {},
   "outputs": [],
   "source": [
    "from tensorflow.keras.losses import CategoricalCrossentropy\n",
    "\n",
    "loss = CategoricalCrossentropy()"
   ]
  },
  {
   "cell_type": "markdown",
   "metadata": {},
   "source": [
    "### (2) Optimizer 구성하기\n",
    "\n",
    "논문과 동일하게 Momentum Optimizer을 이용하도록 하겠습니다."
   ]
  },
  {
   "cell_type": "code",
   "execution_count": 11,
   "metadata": {},
   "outputs": [],
   "source": [
    "from tensorflow.keras.optimizers import SGD\n",
    "\n",
    "optim = SGD(1e-1, 0.9)"
   ]
  },
  {
   "cell_type": "markdown",
   "metadata": {},
   "source": [
    "### (3) Metric 구성하기\n"
   ]
  },
  {
   "cell_type": "code",
   "execution_count": 12,
   "metadata": {},
   "outputs": [],
   "source": [
    "from tensorflow.keras.metrics import CategoricalAccuracy\n",
    "\n",
    "acc_metric = CategoricalAccuracy()"
   ]
  },
  {
   "cell_type": "markdown",
   "metadata": {},
   "source": [
    "### (4) 모델 컴파일 하기"
   ]
  },
  {
   "cell_type": "code",
   "execution_count": 13,
   "metadata": {},
   "outputs": [],
   "source": [
    "model.compile(optim, \n",
    "              loss=loss,metrics=[acc_metric])"
   ]
  },
  {
   "cell_type": "markdown",
   "metadata": {},
   "source": [
    "<br>\n",
    "\n",
    "## 3. 모델 학습시키기\n"
   ]
  },
  {
   "cell_type": "markdown",
   "metadata": {},
   "source": [
    "### (1) Callback 함수설정하기"
   ]
  },
  {
   "cell_type": "code",
   "execution_count": 14,
   "metadata": {},
   "outputs": [],
   "source": [
    "from tensorflow.keras.callbacks import ReduceLROnPlateau"
   ]
  },
  {
   "cell_type": "code",
   "execution_count": 15,
   "metadata": {},
   "outputs": [],
   "source": [
    "reduce_lr = ReduceLROnPlateau(factor=1e-1, patience=1)\n",
    "callbacks = [reduce_lr]"
   ]
  },
  {
   "cell_type": "markdown",
   "metadata": {},
   "source": [
    "### (2) 모델 학습시키기"
   ]
  },
  {
   "cell_type": "code",
   "execution_count": 16,
   "metadata": {},
   "outputs": [],
   "source": [
    "from tensorflow.keras.utils import to_categorical\n",
    "\n",
    "onehot_y = to_categorical(train_y, num_classes)"
   ]
  },
  {
   "cell_type": "code",
   "execution_count": null,
   "metadata": {},
   "outputs": [],
   "source": [
    "model.fit(train_x, onehot_y, \n",
    "          batch_size=64, \n",
    "          epochs=100, \n",
    "          callbacks=callbacks)"
   ]
  },
  {
   "cell_type": "markdown",
   "metadata": {},
   "source": [
    "#  \n",
    "\n",
    "---\n",
    "\n",
    "    Copyright(c) 2019 by Public AI. All rights reserved.<br>\n",
    "    Writen by PAI, SangJae Kang ( rocketgrowthsj@publicai.co.kr )  last updated on 2019/05/14\n",
    "\n",
    "---"
   ]
  }
 ],
 "metadata": {
  "kernelspec": {
   "display_name": "Python 3",
   "language": "python",
   "name": "python3"
  },
  "language_info": {
   "codemirror_mode": {
    "name": "ipython",
    "version": 3
   },
   "file_extension": ".py",
   "mimetype": "text/x-python",
   "name": "python",
   "nbconvert_exporter": "python",
   "pygments_lexer": "ipython3",
   "version": "3.6.6"
  },
  "toc": {
   "base_numbering": 1,
   "nav_menu": {},
   "number_sections": false,
   "sideBar": true,
   "skip_h1_title": false,
   "title_cell": "Table of Contents",
   "title_sidebar": "Contents",
   "toc_cell": false,
   "toc_position": {},
   "toc_section_display": true,
   "toc_window_display": false
  },
  "varInspector": {
   "cols": {
    "lenName": 16,
    "lenType": 16,
    "lenVar": 40
   },
   "kernels_config": {
    "python": {
     "delete_cmd_postfix": "",
     "delete_cmd_prefix": "del ",
     "library": "var_list.py",
     "varRefreshCmd": "print(var_dic_list())"
    },
    "r": {
     "delete_cmd_postfix": ") ",
     "delete_cmd_prefix": "rm(",
     "library": "var_list.r",
     "varRefreshCmd": "cat(var_dic_list()) "
    }
   },
   "types_to_exclude": [
    "module",
    "function",
    "builtin_function_or_method",
    "instance",
    "_Feature"
   ],
   "window_display": false
  }
 },
 "nbformat": 4,
 "nbformat_minor": 2
}
