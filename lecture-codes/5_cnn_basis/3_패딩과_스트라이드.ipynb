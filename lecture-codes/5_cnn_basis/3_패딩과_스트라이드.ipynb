{
 "cells": [
  {
   "cell_type": "markdown",
   "metadata": {
    "colab_type": "text",
    "id": "AA5PG3B4iHE-"
   },
   "source": [
    "<i><b>Public AI</b></i>\n",
    "<br>\n",
    "\n",
    "# Padding & Strides\n",
    "\n",
    "### _Objective_\n",
    "\n",
    "1. 합성곱 연산 전후 특징맵의 크기를 보존해주는 패딩에 대해 배워보도록 하겠습니다.<br>\n",
    "2. 합성곱 연산량을 줄여주는 스트라이드(Stride)에 대해 배워보도록 하겠습니다.\n",
    "  "
   ]
  },
  {
   "cell_type": "code",
   "execution_count": 1,
   "metadata": {
    "colab": {},
    "colab_type": "code",
    "id": "hnBIA2x6iHE_"
   },
   "outputs": [],
   "source": [
    "%matplotlib inline\n",
    "import numpy as np\n",
    "import matplotlib.pyplot as plt\n",
    "import tensorflow as tf\n",
    "import numpy as np\n",
    "\n",
    "from tensorflow.keras.layers import Input, Conv2D\n",
    "from tensorflow.keras.models import Model"
   ]
  },
  {
   "cell_type": "markdown",
   "metadata": {
    "colab_type": "text",
    "id": "eoeah51siHFD"
   },
   "source": [
    "# \\[ 1. 패딩이란 \\]\n",
    "\n",
    "----\n",
    "\n",
    "합성곱 연산을 거치게 되면, 특징맵의 크기는 약간씩 줄게 됩니다. 패딩은 합성곱 연산을 거치더라도, 특징맵의 크기가 줄어들지 않도록 만듭니다.\n"
   ]
  },
  {
   "cell_type": "markdown",
   "metadata": {
    "colab_type": "text",
    "id": "B6YiE4VyiHFD"
   },
   "source": [
    "## 1. 합성곱 연산의 문제점 : 크기의 축소\n",
    "\n",
    "\n",
    "합성곱 연산을 적용할 경우, 특징맵의 가장자리 부분은 연산에서 제외되기 때문에 약간씩 줄어들게 됩니다.\n",
    "\n",
    "![Imgur](https://i.imgur.com/gBUh9dG.png)"
   ]
  },
  {
   "cell_type": "markdown",
   "metadata": {},
   "source": [
    "### (1) 예제 이미지 구성하기"
   ]
  },
  {
   "cell_type": "code",
   "execution_count": 2,
   "metadata": {},
   "outputs": [
    {
     "data": {
      "image/png": "[encoded data removed]",
      "text/plain": [
       "<Figure size 432x288 with 1 Axes>"
      ]
     },
     "metadata": {},
     "output_type": "display_data"
    }
   ],
   "source": [
    "image = np.zeros((10, 10),dtype=np.uint8)\n",
    "image[:,:5] = 10\n",
    "\n",
    "plt.imshow(image, cmap='gray')\n",
    "plt.show()"
   ]
  },
  {
   "cell_type": "markdown",
   "metadata": {},
   "source": [
    "### (2) 세로방향 Sobel 필터인 모델 구성하기"
   ]
  },
  {
   "cell_type": "code",
   "execution_count": 3,
   "metadata": {},
   "outputs": [],
   "source": [
    "# 모델 구성하기\n",
    "inputs = Input(shape=(None, None, 1))\n",
    "conv_1 = Conv2D(1, 3, use_bias=False, name='conv_1')(inputs)\n",
    "model = Model(inputs, conv_1)\n",
    "\n",
    "# 소벨 필터 구성하기\n",
    "v_sobel = np.array([[1,0,-1], \n",
    "                    [2,0,-2], \n",
    "                    [1,0,-1]]) \n",
    "res_v_sobel = v_sobel.reshape(3,3,1,1)\n",
    "\n",
    "# 소벨필터 값을 모델에 적용하기\n",
    "model.get_layer('conv_1').set_weights([res_v_sobel])"
   ]
  },
  {
   "cell_type": "code",
   "execution_count": 4,
   "metadata": {},
   "outputs": [],
   "source": [
    "# Get result \n",
    "res_image = image[None,:,:,None]\n",
    "result = model.predict(res_image)\n",
    "result = np.squeeze(result)"
   ]
  },
  {
   "cell_type": "code",
   "execution_count": 5,
   "metadata": {
    "colab": {},
    "colab_type": "code",
    "id": "GVmDy5CJiHFI",
    "outputId": "1e45a177-6e37-47f2-9afa-e28514ca5e91"
   },
   "outputs": [
    {
     "data": {
      "image/png": "[encoded data removed]",
      "text/plain": [
       "<Figure size 720x720 with 2 Axes>"
      ]
     },
     "metadata": {},
     "output_type": "display_data"
    }
   ],
   "source": [
    "fig = plt.figure(figsize=(10,10))\n",
    "ax = fig.add_subplot(1,2,1)\n",
    "ax.set_title('Before')\n",
    "ax.imshow(image, cmap='gray')\n",
    "\n",
    "ax = fig.add_subplot(1,2,2)\n",
    "ax.set_title('After')\n",
    "ax.imshow(result, cmap='gray')\n",
    "plt.show()"
   ]
  },
  {
   "cell_type": "code",
   "execution_count": 6,
   "metadata": {},
   "outputs": [
    {
     "name": "stdout",
     "output_type": "stream",
     "text": [
      "원본 이미지의 크기 : (10, 10)\n",
      "결과 이미지의 크기 : (8, 8)\n"
     ]
    }
   ],
   "source": [
    "print(\"원본 이미지의 크기 : {}\".format(image.shape))\n",
    "print(\"결과 이미지의 크기 : {}\".format(result.shape))"
   ]
  },
  {
   "cell_type": "markdown",
   "metadata": {},
   "source": [
    "원본 이미지 대비 결과 이미지의 크기가 가로 방향 세로 방향 모두 2씩 줄어든 것을 확인할 수 있습니다.<br>"
   ]
  },
  {
   "cell_type": "markdown",
   "metadata": {
    "colab_type": "text",
    "id": "17Jsb7sgiHFL"
   },
   "source": [
    "## 2. Padding이란\n",
    "\n",
    "합성곱 연산을 할때마다 조금씩 이미지의 크기가 줄어듭니다. 이는 크게 2가지 문제를 유발합니다.\n",
    "\n",
    "1. 깊게 쌓으면 이미지의 크기가 지나치게 작아지게 됨 <br>\n",
    "2. 가장자리의 정보가 계속 유실되게 됨 <br>\n",
    "\n",
    "이러한 문제를 해결하기 위해, 가장자리에 이미지를 덧대주는 작업을 거치게 됩니다."
   ]
  },
  {
   "cell_type": "markdown",
   "metadata": {},
   "source": [
    "### (1) 패딩 적용하기\n"
   ]
  },
  {
   "cell_type": "code",
   "execution_count": 7,
   "metadata": {},
   "outputs": [
    {
     "name": "stdout",
     "output_type": "stream",
     "text": [
      "Before Feature Map size : (10, 10)\n",
      "After padding size : (12, 12)\n"
     ]
    }
   ],
   "source": [
    "print(\"Before Feature Map size :\",image.shape)\n",
    "image_with_pad = # FIXME\n",
    "print(\"After padding size :\",image_with_pad.shape)"
   ]
  },
  {
   "cell_type": "markdown",
   "metadata": {},
   "source": [
    "`np.pad`를 이용하면 좀 더 편하게 작업할 수 있습니다."
   ]
  },
  {
   "cell_type": "code",
   "execution_count": 8,
   "metadata": {},
   "outputs": [
    {
     "name": "stdout",
     "output_type": "stream",
     "text": [
      "Before Feature Map size : (10, 10)\n",
      "After padding size : (12, 12)\n"
     ]
    }
   ],
   "source": [
    "print(\"Before Feature Map size :\",image.shape)\n",
    "image_with_pad # FIXME\n",
    "print(\"After padding size :\",image_with_pad.shape)"
   ]
  },
  {
   "cell_type": "markdown",
   "metadata": {},
   "source": [
    "당연히 Tensorflow에서도 구현이 되어 있습니다."
   ]
  },
  {
   "cell_type": "code",
   "execution_count": 12,
   "metadata": {},
   "outputs": [
    {
     "name": "stdout",
     "output_type": "stream",
     "text": [
      "Before Feature Map size : (10, 10)\n",
      "After padding size : (12, 12)\n"
     ]
    }
   ],
   "source": [
    "print(\"Before Feature Map size :\",image.shape)\n",
    "image_with_pad # FIXME\n",
    "print(\"After padding size :\",image_with_pad.shape)"
   ]
  },
  {
   "cell_type": "markdown",
   "metadata": {},
   "source": [
    "### (2) 모델 적용하기"
   ]
  },
  {
   "cell_type": "code",
   "execution_count": 14,
   "metadata": {
    "colab": {},
    "colab_type": "code",
    "id": "HzeE5oa5iHFM",
    "outputId": "b5ffc92d-4449-4fde-c42d-715aa2007c28"
   },
   "outputs": [
    {
     "name": "stdout",
     "output_type": "stream",
     "text": [
      "After Feature Map size : (10, 10)\n"
     ]
    }
   ],
   "source": [
    "# Get result \n",
    "res_image = image_with_pad[None,:,:,None]\n",
    "result = model.predict(res_image)\n",
    "result = np.squeeze(result)\n",
    "\n",
    "print(\"After Feature Map size :\",result.shape)"
   ]
  },
  {
   "cell_type": "code",
   "execution_count": 15,
   "metadata": {
    "colab": {},
    "colab_type": "code",
    "id": "i3pEBfPKiHFQ",
    "outputId": "60aa0e31-f8b3-4b72-efae-c4449f320af8"
   },
   "outputs": [
    {
     "data": {
      "image/png": "[encoded data removed]",
      "text/plain": [
       "<Figure size 720x720 with 3 Axes>"
      ]
     },
     "metadata": {},
     "output_type": "display_data"
    }
   ],
   "source": [
    "fig = plt.figure(figsize=(10,10))\n",
    "ax = fig.add_subplot(1,3,1)\n",
    "ax.set_title('Before')\n",
    "ax.imshow(image, cmap='gray')\n",
    "\n",
    "ax = fig.add_subplot(1,3,2)\n",
    "ax.set_title('After padding')\n",
    "ax.imshow(image_with_pad, cmap='gray')\n",
    "\n",
    "ax = fig.add_subplot(1,3,3)\n",
    "ax.set_title('After')\n",
    "ax.imshow(result, cmap='gray')\n",
    "plt.show()"
   ]
  },
  {
   "cell_type": "markdown",
   "metadata": {
    "colab_type": "text",
    "id": "ZmcgLI8UiHFT"
   },
   "source": [
    "Input과 Output의 크기가 동일합니다.<br>\n",
    "작은 이미지에서는 패딩에 의해, 결과가 약간씩 왜곡되지만, 실제로 대부분 이미지에서<br>\n",
    "패딩으로 인한 왜곡 현상은 무시할 수 있을 만큼 작습니다."
   ]
  },
  {
   "cell_type": "markdown",
   "metadata": {
    "colab_type": "text",
    "id": "gnr46lkUiHFT"
   },
   "source": [
    "<br>\n",
    "\n",
    "## 3. 패딩의 크기 결정\n",
    "\n",
    "텐서플로우에서도 Convolution 에 padding 을 쉽게 적용 가능합니다. <br>\n",
    "Convolution에서 패딩의 크기를 결정하는 것에는 크게 2가지 방식이 존재합니다.\n",
    "\n"
   ]
  },
  {
   "cell_type": "markdown",
   "metadata": {},
   "source": [
    "1. VALID :  패딩을 붙이지 않습니다. Window 에 Kernel 의 사이즈 보다 적은 데이터 셋이 있다면 Convolution 연산을 수행하지 않습니다. \n",
    "\n",
    "![Imgur](https://i.imgur.com/uVU6FlS.png)"
   ]
  },
  {
   "cell_type": "markdown",
   "metadata": {},
   "source": [
    "2. SAME : Convoluiton 연산을 수행하기 위해 이미지에 padding 을 붙입니다.  Window 에 Kernel 의 사이즈 보다 적은 데이터 셋이 있다면 padding 을 붙여 Convolution 을 수행합니다.\n",
    "\n",
    "![Imgur](https://i.imgur.com/gBvXhZw.png)"
   ]
  },
  {
   "cell_type": "markdown",
   "metadata": {
    "colab_type": "text",
    "id": "3VEZCmZgiHFU"
   },
   "source": [
    "### (1) SAME 시 패딩의 크기를 결정하기"
   ]
  },
  {
   "cell_type": "markdown",
   "metadata": {
    "colab_type": "text",
    "id": "BlqQ_e8yiHFU"
   },
   "source": [
    "출력의 크기는 아래와 같이 결정됩니다.<br>\n",
    "$$\n",
    "n_{out} = n_{in}+2p-k +1\\\\\n",
    "-------------\\\\\n",
    "n_{in} : \\mbox{number of input features}\\\\\n",
    "n_{out} : \\mbox{number of output features}\\\\\n",
    "k : \\mbox{convolution kernel size}\\\\\n",
    "p : \\mbox{convolution padding size}\\\\\n",
    "$$\n",
    "\n",
    "출력의 크기와 입력의 크기가 동일하게 만들어주기 위해서는<br>\n",
    "패딩의 크기가 아래와 같아져야 합니다.<br>\n",
    "$$\n",
    "p = \\frac{k-1}{2}\n",
    "$$"
   ]
  },
  {
   "cell_type": "markdown",
   "metadata": {
    "colab_type": "text",
    "id": "Re-In6jEiHFV"
   },
   "source": [
    "### (2) 필터의 크기\n"
   ]
  },
  {
   "cell_type": "markdown",
   "metadata": {},
   "source": [
    "필터의 크기는 보통 홀수로 정합니다. 그 이유는 크게 2가지로 \n",
    "1. 짝수의 경우, 패딩의 크기를 좌우 비대칭으로 형성해야 함\n",
    "   \n",
    "2. 필터의 크기가 홀수일 경우, 가운데 필터 값이 중심 픽셀에 위치"
   ]
  },
  {
   "cell_type": "markdown",
   "metadata": {
    "colab_type": "text",
    "id": "QZ4k__Zrc1TE"
   },
   "source": [
    "## 4. Conv2D 함수에 padding 적용하기 "
   ]
  },
  {
   "cell_type": "markdown",
   "metadata": {},
   "source": [
    "`tensorflow.keras.layers.Conv2D` 함수에 `same`, `valid` padding 알고리즘을 적용하는 법을 배워보고 결과를 확인합니다. \n",
    "\n",
    "default 값은 `valid` 로 되어 있습니다\n",
    "<img src = \"https://i.imgur.com/RNsXx9O.png\" width=\"400\">\n"
   ]
  },
  {
   "cell_type": "markdown",
   "metadata": {},
   "source": [
    "### (1) 패딩 타입이 Valid인 경우"
   ]
  },
  {
   "cell_type": "code",
   "execution_count": 10,
   "metadata": {
    "colab": {
     "base_uri": "https://localhost:8080/",
     "height": 34
    },
    "colab_type": "code",
    "id": "DvKdoptna3Ti",
    "outputId": "292d979d-de83-4377-d941-3824c33f89b4"
   },
   "outputs": [
    {
     "name": "stdout",
     "output_type": "stream",
     "text": [
      "Model: \"model_1\"\n",
      "_________________________________________________________________\n",
      "Layer (type)                 Output Shape              Param #   \n",
      "=================================================================\n",
      "input_2 (InputLayer)         [(None, 10, 10, 1)]       0         \n",
      "_________________________________________________________________\n",
      "conv_1 (Conv2D)              (None, 8, 8, 1)           9         \n",
      "=================================================================\n",
      "Total params: 9\n",
      "Trainable params: 9\n",
      "Non-trainable params: 0\n",
      "_________________________________________________________________\n"
     ]
    }
   ],
   "source": [
    "# 합성곱 연산 적용 with Keras \n",
    "inputs = Input(shape=(10, 10, 1))\n",
    "conv_1 = Conv2D(1, 3 ,use_bias=False, \n",
    "                padding='valid', name='conv_1')(inputs)\n",
    "\n",
    "# Model \n",
    "model = Model(inputs, conv_1)\n",
    "model.summary()"
   ]
  },
  {
   "cell_type": "markdown",
   "metadata": {},
   "source": [
    "### (2) 패딩 타입이 `same`인 경우"
   ]
  },
  {
   "cell_type": "code",
   "execution_count": 11,
   "metadata": {},
   "outputs": [
    {
     "name": "stdout",
     "output_type": "stream",
     "text": [
      "Model: \"model_2\"\n",
      "_________________________________________________________________\n",
      "Layer (type)                 Output Shape              Param #   \n",
      "=================================================================\n",
      "input_3 (InputLayer)         [(None, 10, 10, 1)]       0         \n",
      "_________________________________________________________________\n",
      "conv_1 (Conv2D)              (None, 10, 10, 1)         9         \n",
      "=================================================================\n",
      "Total params: 9\n",
      "Trainable params: 9\n",
      "Non-trainable params: 0\n",
      "_________________________________________________________________\n"
     ]
    }
   ],
   "source": [
    "# 합성곱 연산 적용 with Keras \n",
    "inputs = Input(shape=(10, 10, 1))\n",
    "conv_1 = Conv2D(1, 3, use_bias=False, \n",
    "                padding='same', name='conv_1')(inputs)\n",
    "\n",
    "# Model \n",
    "model = Model(inputs, conv_1)\n",
    "model.summary()"
   ]
  },
  {
   "cell_type": "markdown",
   "metadata": {
    "colab_type": "text",
    "id": "oYh6EZeWiHFV"
   },
   "source": [
    "# \\[ 2. 스트라이드란 \\]\n",
    "\n",
    "----\n",
    "\n",
    "Window 는 Image 에 filter 가 적용되는 공간을 의미 합니다. stride는 window의 이동 간격을 뜻합니다. 기존의 필터는 한칸씩 이동했다면, stride가 1보다 클 경우, 그 수 만큼 필터가 이동하게 됩니다.\n",
    "<img src=\"https://i.imgur.com/qcsl6sz.png\" width=\"400\">"
   ]
  },
  {
   "cell_type": "markdown",
   "metadata": {
    "colab_type": "text",
    "id": "MU-v3HfMiHFW"
   },
   "source": [
    "## 1. 스트라이드 적용하기\n",
    "\n",
    "Stride는 대표적으로 영상의 출력값 크기를 결정짓는 요인입니다. Stride에 따라 어떤 식으로 영상 크기가 바뀌는지를 보도록 하겠습니다."
   ]
  },
  {
   "cell_type": "markdown",
   "metadata": {},
   "source": [
    "### (1) (2, 2) 스트라이드 적용하기\n"
   ]
  },
  {
   "cell_type": "markdown",
   "metadata": {},
   "source": [
    "#### Padding이 Valid인 경우\n",
    "$$\n",
    "n_{out} = \\lfloor \\frac{n_{in} - k}{s}\\rfloor +1\\\\\n",
    "-------------\\\\\\\n",
    "n_{in} : \\mbox{number of input features}\\\\\n",
    "n_{out} : \\mbox{number of output features}\\\\\n",
    "k : \\mbox{convolution kernel size}\\\\\n",
    "s : \\mbox{convolution stride size}\\\\\n",
    "$$\n"
   ]
  },
  {
   "cell_type": "code",
   "execution_count": 12,
   "metadata": {
    "colab": {},
    "colab_type": "code",
    "id": "T89bTe0NiHFZ",
    "outputId": "fca64278-618e-4096-f94f-79b113270d18"
   },
   "outputs": [
    {
     "name": "stdout",
     "output_type": "stream",
     "text": [
      "Model: \"model_3\"\n",
      "_________________________________________________________________\n",
      "Layer (type)                 Output Shape              Param #   \n",
      "=================================================================\n",
      "input_4 (InputLayer)         [(None, 10, 10, 1)]       0         \n",
      "_________________________________________________________________\n",
      "conv_0 (Conv2D)              (None, 4, 4, 1)           10        \n",
      "=================================================================\n",
      "Total params: 10\n",
      "Trainable params: 10\n",
      "Non-trainable params: 0\n",
      "_________________________________________________________________\n"
     ]
    }
   ],
   "source": [
    "# 합성곱 연산 적용 with Keras \n",
    "inputs = Input(shape=(10, 10, 1))\n",
    "\n",
    "conv_0 = Conv2D(1, 3, strides=(2, 2), name='conv_0')(inputs)\n",
    "\n",
    "# Model \n",
    "model = Model(inputs, conv_0)\n",
    "model.summary()"
   ]
  },
  {
   "cell_type": "markdown",
   "metadata": {},
   "source": [
    "#### Padding이 SAME인 경우\n",
    "$$\n",
    "n_{out} = \\lceil \\frac{n_{in}}{s}\\rceil \\\\\n",
    "-------------\\\\\\\n",
    "n_{in} : \\mbox{number of input features}\\\\\n",
    "n_{out} : \\mbox{number of output features}\\\\\n",
    "s : \\mbox{convolution stride size}\\\\\n",
    "$$\n"
   ]
  },
  {
   "cell_type": "code",
   "execution_count": 13,
   "metadata": {},
   "outputs": [
    {
     "name": "stdout",
     "output_type": "stream",
     "text": [
      "Model: \"model_4\"\n",
      "_________________________________________________________________\n",
      "Layer (type)                 Output Shape              Param #   \n",
      "=================================================================\n",
      "input_5 (InputLayer)         [(None, 10, 10, 1)]       0         \n",
      "_________________________________________________________________\n",
      "conv_0 (Conv2D)              (None, 5, 5, 1)           10        \n",
      "=================================================================\n",
      "Total params: 10\n",
      "Trainable params: 10\n",
      "Non-trainable params: 0\n",
      "_________________________________________________________________\n"
     ]
    }
   ],
   "source": [
    "# 합성곱 연산 적용 with Keras \n",
    "inputs = Input(shape=(10, 10, 1))\n",
    "\n",
    "conv_0 = Conv2D(1, 3, strides=(2, 2), \n",
    "                padding='SAME', name='conv_0')(inputs)\n",
    "\n",
    "# Model \n",
    "model = Model(inputs, conv_0)\n",
    "model.summary()"
   ]
  },
  {
   "cell_type": "markdown",
   "metadata": {},
   "source": [
    "### (2) (3, 3) 스트라이드 적용하기"
   ]
  },
  {
   "cell_type": "markdown",
   "metadata": {},
   "source": [
    "#### Padding이 Valid인 경우\n",
    "$$\n",
    "n_{out} = \\lfloor \\frac{n_{in} - k}{s}\\rfloor +1\\\\\n",
    "-------------\\\\\\\n",
    "n_{in} : \\mbox{number of input features}\\\\\n",
    "n_{out} : \\mbox{number of output features}\\\\\n",
    "k : \\mbox{convolution kernel size}\\\\\n",
    "s : \\mbox{convolution stride size}\\\\\n",
    "$$\n"
   ]
  },
  {
   "cell_type": "code",
   "execution_count": 14,
   "metadata": {
    "colab": {},
    "colab_type": "code",
    "id": "T89bTe0NiHFZ",
    "outputId": "fca64278-618e-4096-f94f-79b113270d18"
   },
   "outputs": [
    {
     "name": "stdout",
     "output_type": "stream",
     "text": [
      "Model: \"model_5\"\n",
      "_________________________________________________________________\n",
      "Layer (type)                 Output Shape              Param #   \n",
      "=================================================================\n",
      "input_6 (InputLayer)         [(None, 10, 10, 1)]       0         \n",
      "_________________________________________________________________\n",
      "conv_0 (Conv2D)              (None, 3, 3, 1)           10        \n",
      "=================================================================\n",
      "Total params: 10\n",
      "Trainable params: 10\n",
      "Non-trainable params: 0\n",
      "_________________________________________________________________\n"
     ]
    }
   ],
   "source": [
    "# 합성곱 연산 적용 with Keras \n",
    "inputs = Input(shape=(10, 10, 1))\n",
    "\n",
    "conv_0 = Conv2D(1, 3, strides=(3, 3), name='conv_0')(inputs)\n",
    "\n",
    "# Model \n",
    "model = Model(inputs, conv_0)\n",
    "model.summary()"
   ]
  },
  {
   "cell_type": "markdown",
   "metadata": {},
   "source": [
    "#### Padding이 SAME인 경우\n",
    "$$\n",
    "n_{out} = \\lceil \\frac{n_{in}}{s}\\rceil \\\\\n",
    "-------------\\\\\\\n",
    "n_{in} : \\mbox{number of input features}\\\\\n",
    "n_{out} : \\mbox{number of output features}\\\\\n",
    "s : \\mbox{convolution stride size}\\\\\n",
    "$$\n"
   ]
  },
  {
   "cell_type": "code",
   "execution_count": 15,
   "metadata": {},
   "outputs": [
    {
     "name": "stdout",
     "output_type": "stream",
     "text": [
      "Model: \"model_6\"\n",
      "_________________________________________________________________\n",
      "Layer (type)                 Output Shape              Param #   \n",
      "=================================================================\n",
      "input_7 (InputLayer)         [(None, 10, 10, 1)]       0         \n",
      "_________________________________________________________________\n",
      "conv_0 (Conv2D)              (None, 4, 4, 1)           10        \n",
      "=================================================================\n",
      "Total params: 10\n",
      "Trainable params: 10\n",
      "Non-trainable params: 0\n",
      "_________________________________________________________________\n"
     ]
    }
   ],
   "source": [
    "# 합성곱 연산 적용 with Keras \n",
    "inputs = Input(shape=(10, 10, 1))\n",
    "\n",
    "conv_0 = Conv2D(1, 3 ,strides=(3, 3), \n",
    "                padding='SAME',name='conv_0')(inputs)\n",
    "\n",
    "# Model \n",
    "model = Model(inputs, conv_0)\n",
    "model.summary()"
   ]
  },
  {
   "cell_type": "markdown",
   "metadata": {
    "colab_type": "text",
    "id": "vnWMOuHyiHFd"
   },
   "source": [
    "---\n",
    "⊙ Copyright(c) 2020 by PublicAI. All rights reserved <br>\n",
    "All pictures, codes, writings cannot be copied without permission. <br>\n",
    "Writen by PAI(info@publicai.co.kr) <br>\n",
    "last updated on 2020/01/4 <br>\n",
    "\n",
    "---"
   ]
  }
 ],
 "metadata": {
  "colab": {
   "collapsed_sections": [],
   "name": "2_패딩과 스트라이드.ipynb",
   "provenance": [],
   "version": "0.3.2"
  },
  "kernelspec": {
   "display_name": "Python 3",
   "language": "python",
   "name": "python3"
  },
  "language_info": {
   "codemirror_mode": {
    "name": "ipython",
    "version": 3
   },
   "file_extension": ".py",
   "mimetype": "text/x-python",
   "name": "python",
   "nbconvert_exporter": "python",
   "pygments_lexer": "ipython3",
   "version": "3.6.6"
  },
  "toc": {
   "base_numbering": 1,
   "nav_menu": {},
   "number_sections": false,
   "sideBar": true,
   "skip_h1_title": false,
   "title_cell": "Table of Contents",
   "title_sidebar": "Contents",
   "toc_cell": false,
   "toc_position": {},
   "toc_section_display": true,
   "toc_window_display": false
  },
  "varInspector": {
   "cols": {
    "lenName": 16,
    "lenType": 16,
    "lenVar": 40
   },
   "kernels_config": {
    "python": {
     "delete_cmd_postfix": "",
     "delete_cmd_prefix": "del ",
     "library": "var_list.py",
     "varRefreshCmd": "print(var_dic_list())"
    },
    "r": {
     "delete_cmd_postfix": ") ",
     "delete_cmd_prefix": "rm(",
     "library": "var_list.r",
     "varRefreshCmd": "cat(var_dic_list()) "
    }
   },
   "types_to_exclude": [
    "module",
    "function",
    "builtin_function_or_method",
    "instance",
    "_Feature"
   ],
   "window_display": false
  }
 },
 "nbformat": 4,
 "nbformat_minor": 1
}
