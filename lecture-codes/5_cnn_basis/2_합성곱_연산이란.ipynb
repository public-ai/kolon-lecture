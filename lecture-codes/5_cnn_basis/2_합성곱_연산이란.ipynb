{
 "cells": [
  {
   "cell_type": "markdown",
   "metadata": {
    "colab_type": "text",
    "id": "qIV-yPrfZWiC"
   },
   "source": [
    "<i><b>Public AI</b></i>\n",
    "<br>\n",
    "# 합성곱 연산이란\n",
    "\n",
    "### _Objective_\n",
    "\n",
    "대부분의 합성곱 연산은 4차원의 데이터를 다룹니다. 이를 어떻게 연산하는 지를 keras 을 활용해 배워봅니다. <br>\n",
    "  "
   ]
  },
  {
   "cell_type": "code",
   "execution_count": 1,
   "metadata": {
    "colab": {},
    "colab_type": "code",
    "id": "z9x7PNljZWiD"
   },
   "outputs": [],
   "source": [
    "%matplotlib inline\n",
    "import numpy as np\n",
    "import matplotlib.pyplot as plt\n",
    "import cv2\n",
    "\n",
    "from tensorflow.keras.utils import get_file"
   ]
  },
  {
   "cell_type": "markdown",
   "metadata": {
    "colab_type": "text",
    "id": "5UL_wFLEZWiG"
   },
   "source": [
    "# \\[ 합성곱 연산으로 특징 추출하기 \\]\n",
    "\n",
    "----\n",
    "\n",
    "합성곱 연산은 딥러닝이 도입되기 이전부터, 컴퓨터비전 분야에서 영상 속 특징을 파악하기 위해,이용된 방법입니다. 몇 가지 예시를 통해, 어떤 식으로 특징을 추출\n",
    "하는지 파악해보도록 하겠습니다."
   ]
  },
  {
   "cell_type": "markdown",
   "metadata": {
    "colab_type": "text",
    "id": "-laBzOBmZWiH"
   },
   "source": [
    "## 1. 합성곱 연산의 동작\n",
    "\n",
    "<img src=\"https://i.imgur.com/Iglf7jZ.png\" width=\"500\">\n",
    "\n",
    "합성곱을 연산하기 위해서는 입력 특징 맵과 필터가 필요합니다.<br>"
   ]
  },
  {
   "cell_type": "markdown",
   "metadata": {
    "colab_type": "text",
    "id": "rTHu7byaZWiH"
   },
   "source": [
    "### (1) 입력 특징 맵과 필터를 구성하기"
   ]
  },
  {
   "cell_type": "code",
   "execution_count": 2,
   "metadata": {
    "colab": {
     "base_uri": "https://localhost:8080/",
     "height": 88
    },
    "colab_type": "code",
    "id": "AX_hnqygZWiI",
    "outputId": "369d78cb-6982-4162-a910-126650ad3493"
   },
   "outputs": [],
   "source": [
    "features = np.array([\n",
    "    [ 1, 1, 1, 0, 0],\n",
    "    [ 0, 1, 1, 1, 0],\n",
    "    [ 0, 0, 1, 1, 1],\n",
    "    [ 0, 0, 1, 1, 0],\n",
    "    [ 0, 1, 1, 0, 0]])\n",
    "\n",
    "filter_ = np.array([\n",
    "    [1,0,1],\n",
    "    [0,1,0],\n",
    "    [1,0,1]])"
   ]
  },
  {
   "cell_type": "code",
   "execution_count": 3,
   "metadata": {},
   "outputs": [
    {
     "name": "stdout",
     "output_type": "stream",
     "text": [
      "features :  [[1 1 1 0 0]\n",
      " [0 1 1 1 0]\n",
      " [0 0 1 1 1]\n",
      " [0 0 1 1 0]\n",
      " [0 1 1 0 0]]\n",
      "features shape :  (5, 5)\n",
      "filter :  [[1 0 1]\n",
      " [0 1 0]\n",
      " [1 0 1]]\n",
      "filter shape :  (3, 3)\n"
     ]
    }
   ],
   "source": [
    "print(\"features : \", features)\n",
    "print(\"features shape : \", features.shape)\n",
    "print(\"filter : \", filter_)\n",
    "print(\"filter shape : \", filter_.shape)"
   ]
  },
  {
   "cell_type": "markdown",
   "metadata": {
    "colab_type": "text",
    "id": "Qlg2sjBIZWiN"
   },
   "source": [
    "### (2)  합성곱 연산 수행하기\n",
    "\n",
    "\n",
    "![](https://miro.medium.com/max/1052/1*GcI7G-JLAQiEoCON7xFbhg.gif)\n",
    "\n",
    "합성곱 연산은 특징 맵에서 필터의 크기만큼 패치를 추출합니다.<br>\n",
    "해당 패치와 필터끼리 대응하는 원소끼리 곱한 후, 그 총합을 구합니다. "
   ]
  },
  {
   "cell_type": "code",
   "execution_count": 5,
   "metadata": {
    "colab": {
     "base_uri": "https://localhost:8080/",
     "height": 52
    },
    "colab_type": "code",
    "id": "oT7yx7tNZWiO",
    "outputId": "764302f6-2e89-42f8-b984-255058954f9d"
   },
   "outputs": [],
   "source": [
    "# convolution 과정 후 결과가 담길 matrix 생성하기\n",
    "result_h = features.shape[0]- filter_.shape[0] + 1\n",
    "result_w = features.shape[1]- filter_.shape[1] + 1\n",
    "filter_h = filter_.shape[0]\n",
    "filter_w = filter_.shape[1]\n",
    "result = np.zeros([result_h, result_w])"
   ]
  },
  {
   "cell_type": "code",
   "execution_count": null,
   "metadata": {},
   "outputs": [],
   "source": [
    "# Loop 구문을 돌면서 Convolution 연산 수행\n",
    "# FIXME"
   ]
  },
  {
   "cell_type": "markdown",
   "metadata": {
    "colab_type": "text",
    "id": "piWpdiDPZWiQ"
   },
   "source": [
    "### (3) 합성곱 연산의 장점\n",
    "\n",
    "1. 변수 공유 (Parameter Sharing) <br>\n",
    "\n",
    "    이미지의 한 부분에 유의미했던 필터가 다른 부분에서도 동일하게 유의미할 수 있습니다.<br>\n",
    "    이 덕분에 Parameter의 수가 획기적으로 줄어들 수 있었습니다.\n",
    "\n",
    "2. 희소 연결 (Sparsity of connections)\n",
    "    \n",
    "    출력값이 이미지의 일부(작은 입력값)에 영향을 받고, 나머지 픽셀들의 영향을 거의 받지 않습니다.<br>\n",
    "    이미지의 일부만 뽑아 처리하기 때문에, 과대적합 문제를 해결할 수 있습니다."
   ]
  },
  {
   "cell_type": "markdown",
   "metadata": {
    "colab_type": "text",
    "id": "b234hk9uZWiR"
   },
   "source": [
    "## 2. 예제 ) 선분 추출하기\n",
    "\n",
    "합성곱 연산은 영상 속에서 특징들을 추출하는 데 쓰입니다. 필터 값에 따라 다양한 특징들이 추출됩니다.\n",
    "간단한 필터를 통해, 어떤 식으로 영상에서 특징을 추출하는지를 파악할 수 있습니다.<br>"
   ]
  },
  {
   "cell_type": "markdown",
   "metadata": {
    "colab_type": "text",
    "id": "pBzdmPf3ZWiS"
   },
   "source": [
    "### (1) 이미지 구성하기\n",
    "\n",
    "아래와 같이 체크무늬로 구성된 이미지를 만들어 보겠습니다."
   ]
  },
  {
   "cell_type": "code",
   "execution_count": null,
   "metadata": {
    "colab": {
     "base_uri": "https://localhost:8080/",
     "height": 269
    },
    "colab_type": "code",
    "id": "madzGu0HZWiS",
    "outputId": "bfbde97a-e46d-435d-809e-e0fe294283c9"
   },
   "outputs": [],
   "source": [
    "image = np.zeros((100, 100), dtype=np.uint8)\n",
    "# 10 pixel 씩 건너 뛰면서 행에 픽셀값 10을 부여 합니다. \n",
    "image[::10, :] = 10\n",
    "# 10 pixel 씩 건너 뛰면서 열에 픽셀값 10을 부여 합니다. \n",
    "image[:, ::10] = 10\n",
    "\n",
    "plt.imshow(image,cmap='gray')\n",
    "plt.show()"
   ]
  },
  {
   "cell_type": "markdown",
   "metadata": {
    "colab_type": "text",
    "id": "_XVNCmtFZWiV"
   },
   "source": [
    "### (2) 필터 구성하기\n",
    "\n",
    "소벨 필터는 대표적인 윤곽선을 잡아주는 필터입니다. 소벨 필터 중 아래는 수평방향에 대한 값의 변화를 잡는 필터입니다. 아래 필터는 소벨 필터로 영상 처리에서 수직선을 잡는데 쓰입니다."
   ]
  },
  {
   "cell_type": "code",
   "execution_count": null,
   "metadata": {
    "colab": {
     "base_uri": "https://localhost:8080/",
     "height": 269
    },
    "colab_type": "code",
    "id": "z6FursuCZWiV",
    "outputId": "9e9ed2c3-490d-4cc9-9875-12519d23022a"
   },
   "outputs": [],
   "source": [
    "v_filter = np.array([\n",
    "    [1,0,-1],\n",
    "    [2,0,-2],\n",
    "    [1,0,-1],\n",
    "])\n",
    "plt.imshow(v_filter,cmap='gray')\n",
    "plt.show()"
   ]
  },
  {
   "cell_type": "markdown",
   "metadata": {
    "colab_type": "text",
    "id": "umej8vsGZWiX"
   },
   "source": [
    "### (3) 합성곱 연산 수행하기\n",
    "\n",
    "위의 필터는 수직 방향의 값이 바뀌는 부분에서만 Edge 부분에서만 값을 가집니다."
   ]
  },
  {
   "cell_type": "code",
   "execution_count": null,
   "metadata": {
    "colab": {
     "base_uri": "https://localhost:8080/",
     "height": 287
    },
    "colab_type": "code",
    "id": "wFGeeiWJVAZ8",
    "outputId": "555f6dd9-e71d-4547-dfdb-edafa51ea0db"
   },
   "outputs": [],
   "source": [
    "result_h = image.shape[0]- v_filter.shape[0] + 1\n",
    "result_w = image.shape[1]- v_filter.shape[1] + 1\n",
    "filter_h = v_filter.shape[0]\n",
    "filter_w = v_filter.shape[1]\n",
    "result = np.zeros([result_h, result_w], dtype=np.uint8)"
   ]
  },
  {
   "cell_type": "code",
   "execution_count": null,
   "metadata": {},
   "outputs": [],
   "source": [
    "# Loop 구문을 돌면서 Convolution 연산 수행\n",
    "# FIXME"
   ]
  },
  {
   "cell_type": "code",
   "execution_count": null,
   "metadata": {},
   "outputs": [],
   "source": [
    "plt.imshow(result, cmap='gray')\n",
    "plt.show()"
   ]
  },
  {
   "cell_type": "markdown",
   "metadata": {
    "colab_type": "text",
    "id": "J7BqVoIpZWia"
   },
   "source": [
    "### (4) 수평선 추출하기\n",
    "반대로, 수평 방향으로 구성할 경우 우리는 수평방향 선분만을 추출할 수 있게 됩니다."
   ]
  },
  {
   "cell_type": "code",
   "execution_count": null,
   "metadata": {
    "colab": {
     "base_uri": "https://localhost:8080/",
     "height": 269
    },
    "colab_type": "code",
    "id": "ImR7bhLKZWib",
    "outputId": "34be52e1-e0ff-46ce-d03a-dba99eab9ff0"
   },
   "outputs": [],
   "source": [
    "h_filter = np.array([\n",
    "    [1,2,1],\n",
    "    [0,0,0],\n",
    "    [-1,-2,-1],\n",
    "])\n",
    "plt.imshow(h_filter,cmap='gray')\n",
    "plt.show()"
   ]
  },
  {
   "cell_type": "code",
   "execution_count": null,
   "metadata": {
    "colab": {
     "base_uri": "https://localhost:8080/",
     "height": 287
    },
    "colab_type": "code",
    "id": "aKPGgwwTZWid",
    "outputId": "c3f70a98-408c-4cc9-cfcd-b89a3783bcfa",
    "scrolled": true
   },
   "outputs": [],
   "source": [
    "result_h = image.shape[0]- v_filter.shape[0] + 1\n",
    "result_w = image.shape[1]- v_filter.shape[1] + 1\n",
    "filter_h = h_filter.shape[0]\n",
    "filter_w = h_filter.shape[1]\n",
    "result = np.zeros([result_h, result_w], dtype=np.uint8)\n",
    "\n",
    "for i in range(result_h):\n",
    "    for j in range(result_w):\n",
    "        # (1) 특징 맵에서 필터크기 만큼 패치를 하나씩 가져옴\n",
    "        patch = image[i:i+filter_h, j:j+filter_w] \n",
    "        # (2) 원소 별로 곱한 후 그 총합을 계산\n",
    "        value = np.sum(patch * h_filter)\n",
    "        # (3) 결과를 result에 저장\n",
    "        result[i,j] = value\n",
    "result\n",
    "plt.imshow(result, cmap='gray')"
   ]
  },
  {
   "cell_type": "markdown",
   "metadata": {
    "colab_type": "text",
    "id": "8Q8rdEwAZWig"
   },
   "source": [
    "## 3. 예제 ) 윤곽선 추출하기\n",
    "\n",
    "\n",
    "위에서 이용한 수평 방향 필터와 수직 방향 필터의 조합으로 윤곽선을 추출해보도록 하겠습니다."
   ]
  },
  {
   "cell_type": "markdown",
   "metadata": {
    "colab_type": "text",
    "id": "UaGPLqriZWig"
   },
   "source": [
    "### (1) 데이터 가져오기\n",
    "\n",
    "손 이미지를 하나 가져와서, 손의 윤곽선을 추출해보도록 하겠습니다.<br>"
   ]
  },
  {
   "cell_type": "code",
   "execution_count": null,
   "metadata": {
    "colab": {
     "base_uri": "https://localhost:8080/",
     "height": 484
    },
    "colab_type": "code",
    "id": "tNkBSQPEZWih",
    "outputId": "7ebf3768-7937-4ccd-c313-baf27f8d0623"
   },
   "outputs": [],
   "source": [
    "fpath = get_file('hands.jpg',\n",
    "                 'https://s3.ap-northeast-2.amazonaws.com/pai-datasets/alai-deeplearning/hands.jpg' )\n",
    "    \n",
    "    \n",
    "# open CV 을 이용해 image 을 load 합니다.\n",
    "hand_image = cv2.imread(fpath, cv2.IMREAD_GRAYSCALE)\n",
    "plt.imshow(hand_image,cmap='gray')\n",
    "plt.show()"
   ]
  },
  {
   "cell_type": "markdown",
   "metadata": {
    "colab_type": "text",
    "id": "jDwdPOFQZWik"
   },
   "source": [
    "### (2) 수직 방향, 수평 방향 성분 추출하기\n",
    "\n",
    "아까와 동일하게 필터를 구성해 가져오도록 하겠습니다."
   ]
  },
  {
   "cell_type": "code",
   "execution_count": null,
   "metadata": {
    "colab": {},
    "colab_type": "code",
    "id": "yXcqzWvIYOmy"
   },
   "outputs": [],
   "source": [
    "w_sobel = np.array([\n",
    "    [1,2,1],\n",
    "    [0,0,0],\n",
    "    [-1,-2,-1],\n",
    "])\n",
    "\n",
    "h_sobel = np.array([\n",
    "    [1,0,-1],\n",
    "    [2,0,-2],\n",
    "    [1,0,-1],\n",
    "])\n",
    "# hand_image 에 w_sobel filter 을 적용합니다. \n",
    "result_h = hand_image.shape[0]- w_sobel.shape[0] + 1\n",
    "result_w = hand_image.shape[1]- w_sobel.shape[1] + 1\n",
    "filter_h = w_sobel.shape[0]\n",
    "filter_w = w_sobel.shape[1]"
   ]
  },
  {
   "cell_type": "code",
   "execution_count": null,
   "metadata": {},
   "outputs": [],
   "source": [
    "# Loop 구문을 돌면서 Convolution 연산 수행\n",
    "# FIXME"
   ]
  },
  {
   "cell_type": "markdown",
   "metadata": {
    "colab_type": "text",
    "id": "lDdRGRybZWim"
   },
   "source": [
    "### (3) 수직 방향, 수평 방향 성분 시각화하기"
   ]
  },
  {
   "cell_type": "code",
   "execution_count": null,
   "metadata": {
    "colab": {
     "base_uri": "https://localhost:8080/",
     "height": 269
    },
    "colab_type": "code",
    "id": "YEy9SNVxZWin",
    "outputId": "4eabd578-f48c-4f27-9e5e-a6590c49981c"
   },
   "outputs": [],
   "source": [
    "fig = plt.figure(figsize=(10,10))\n",
    "ax = fig.add_subplot(1,3,1)\n",
    "ax.set_title('original image')\n",
    "ax.imshow(hand_image,cmap='gray')\n",
    "ax = fig.add_subplot(1,3,2)\n",
    "ax.set_title('w sobel image')\n",
    "ax.imshow(w_image, cmap='gray')\n",
    "ax = fig.add_subplot(1,3,3)\n",
    "ax.set_title('h sobel image')\n",
    "ax.imshow(h_image, cmap='gray')\n",
    "plt.show()"
   ]
  },
  {
   "cell_type": "markdown",
   "metadata": {
    "colab_type": "text",
    "id": "s_aE9O1dZWit"
   },
   "source": [
    "### (4) 윤곽선 추출하기\n",
    "\n",
    "윤곽선은 수평 방향의 성분과 수직 방향의 성분의 제곱 합으로 구성됩니다.<br>\n",
    "\n",
    "$$\n",
    "I_{i,j} = \\sqrt{W_{i,j}^2+H_{i,j}^2}\n",
    "$$"
   ]
  },
  {
   "cell_type": "code",
   "execution_count": null,
   "metadata": {
    "colab": {
     "base_uri": "https://localhost:8080/",
     "height": 381
    },
    "colab_type": "code",
    "id": "v1RuftrBZWit",
    "outputId": "c21aa753-ddd5-41e5-f61b-1856bc76c255"
   },
   "outputs": [],
   "source": [
    "edge_image = #\n",
    "edge_image = edge_image.astype(np.uint8)\n",
    "\n",
    "fig = plt.figure(figsize=(10,10))\n",
    "ax = fig.add_subplot(1,2,1)\n",
    "ax.set_title('original image')\n",
    "ax.imshow(hand_image,cmap='gray')\n",
    "ax = fig.add_subplot(1,2,2)\n",
    "ax.set_title('edge image')\n",
    "ax.imshow(edge_image,cmap='gray')\n",
    "plt.show()"
   ]
  },
  {
   "cell_type": "markdown",
   "metadata": {},
   "source": [
    "## 4. 예제 ) Keras를 활용한 윤곽선 추출하기\n",
    "\n",
    "Keras의 코드에서 윤곽선은 어떤식으로 추출될 수 있는지를 확인해보도록 하겠습니다."
   ]
  },
  {
   "cell_type": "markdown",
   "metadata": {},
   "source": [
    "### (1) 모델 구성하기"
   ]
  },
  {
   "cell_type": "code",
   "execution_count": null,
   "metadata": {},
   "outputs": [],
   "source": [
    "from tensorflow.keras.layers import Input\n",
    "from tensorflow.keras.layers import Conv2D\n",
    "from tensorflow.keras.models import Model\n",
    "import tensorflow as tf"
   ]
  },
  {
   "cell_type": "code",
   "execution_count": null,
   "metadata": {},
   "outputs": [],
   "source": [
    "inputs = Input(shape=(None, None, 1))\n",
    "\n",
    "w_conv = Conv2D(filters=1, kernel_size=3, \n",
    "                name='w_conv2d', use_bias=False)(inputs)\n",
    "res_w_sobel = w_sobel[:,:,None,None] # [f_h, f_w, in_ch, out_ch]\n",
    "model.get_layer('w_conv2d').set_weights([res_w_sobel])\n",
    "\n",
    "\n",
    "h_conv = Conv2D(filters=1, kernel_size=3, \n",
    "                name='h_conv2d', use_bias=False )(inputs)\n",
    "res_h_sobel = h_sobel.reshape(3,3,1,1) # [f_h, f_w, in_ch, out_ch]\n",
    "model.get_layer('h_conv2d').set_weights([res_h_sobel])\n",
    "\n",
    "filtered = tf.sqrt(w_conv ** 2 + h_conv**2)\n",
    "model = Model(inputs, filtered)"
   ]
  },
  {
   "cell_type": "markdown",
   "metadata": {},
   "source": [
    "### (2) 이미지를 통해 추론하기"
   ]
  },
  {
   "cell_type": "code",
   "execution_count": null,
   "metadata": {},
   "outputs": [],
   "source": [
    "res_hand = hand_image[None,:,:,None] # 배치 축과 색 축 추가하기\n",
    "pred = model.predict(res_hand)\n",
    "\n",
    "# 후처리\n",
    "pred = np.squeeze(pred)\n",
    "pred = pred.astype(np.uint8)"
   ]
  },
  {
   "cell_type": "code",
   "execution_count": null,
   "metadata": {},
   "outputs": [],
   "source": [
    "fig = plt.figure(figsize=(10,10))\n",
    "ax = fig.add_subplot(1,2,1)\n",
    "ax.set_title('original image')\n",
    "ax.imshow(hand_image, cmap='gray')\n",
    "ax = fig.add_subplot(1,2,2)\n",
    "ax.set_title('edge image')\n",
    "ax.imshow(sqz_pred, cmap='gray')\n",
    "plt.show()"
   ]
  },
  {
   "cell_type": "markdown",
   "metadata": {},
   "source": [
    "Convolution Layer가 학습해야 하는 것들은 위와 같이 Convolution 내 Weight들입니다. <br>\n",
    "손을 구분하는 데 중요한 특징들(외각선, 손금, 손가락의 형태 등)을 convolution Layer가 추출하고 <br>\n",
    "이를 조합하는 방식으로 진행됩니다."
   ]
  },
  {
   "cell_type": "markdown",
   "metadata": {},
   "source": [
    "#  \n",
    "\n",
    "---\n",
    "\n",
    "    Copyright(c) 2019 by Public AI. All rights reserved.\n",
    "    Writen by PAI, SangJae Kang ( rocketgrowthsj@publicai.co.kr )  last updated on 2020/01/13\n",
    "\n",
    "\n",
    "---"
   ]
  }
 ],
 "metadata": {
  "colab": {
   "collapsed_sections": [],
   "name": "수업_1_합성곱 연산이란.ipynb",
   "provenance": [],
   "version": "0.3.2"
  },
  "kernelspec": {
   "display_name": "tf2.0",
   "language": "python",
   "name": "tf2.0"
  },
  "language_info": {
   "codemirror_mode": {
    "name": "ipython",
    "version": 3
   },
   "file_extension": ".py",
   "mimetype": "text/x-python",
   "name": "python",
   "nbconvert_exporter": "python",
   "pygments_lexer": "ipython3",
   "version": "3.6.8"
  },
  "toc": {
   "base_numbering": 1,
   "nav_menu": {},
   "number_sections": false,
   "sideBar": true,
   "skip_h1_title": false,
   "title_cell": "Table of Contents",
   "title_sidebar": "Contents",
   "toc_cell": false,
   "toc_position": {
    "height": "calc(100% - 180px)",
    "left": "10px",
    "top": "150px",
    "width": "165px"
   },
   "toc_section_display": true,
   "toc_window_display": true
  },
  "varInspector": {
   "cols": {
    "lenName": 16,
    "lenType": 16,
    "lenVar": 40
   },
   "kernels_config": {
    "python": {
     "delete_cmd_postfix": "",
     "delete_cmd_prefix": "del ",
     "library": "var_list.py",
     "varRefreshCmd": "print(var_dic_list())"
    },
    "r": {
     "delete_cmd_postfix": ") ",
     "delete_cmd_prefix": "rm(",
     "library": "var_list.r",
     "varRefreshCmd": "cat(var_dic_list()) "
    }
   },
   "types_to_exclude": [
    "module",
    "function",
    "builtin_function_or_method",
    "instance",
    "_Feature"
   ],
   "window_display": false
  }
 },
 "nbformat": 4,
 "nbformat_minor": 1
}
