{
 "cells": [
  {
   "cell_type": "markdown",
   "metadata": {},
   "source": [
    "***Public-AI***\n",
    "\n",
    "# Additional. 합성곱 연산 최적화하기\n",
    "\n",
    "### _Objective_\n",
    "* CNN 모델을 연산할 때, 실제로는 For 구문으로 동작하는 것이 아닌, 4차원 행렬을 2차원으로 변환 후(im2col) 행렬곱 연산하는 방식으로 진행합니다.<br>\n",
    "* 어떤 식으로 동작하는 지 배워보도록 하겠습니다.\n"
   ]
  },
  {
   "cell_type": "code",
   "execution_count": 1,
   "metadata": {},
   "outputs": [],
   "source": [
    "%matplotlib inline\n",
    "\n",
    "import numpy as np\n",
    "import pandas as pd\n",
    "\n",
    "import matplotlib.pyplot as plt\n",
    "\n",
    "from tensorflow.keras.datasets.cifar10 import load_data"
   ]
  },
  {
   "cell_type": "markdown",
   "metadata": {},
   "source": [
    "### 데이터 셋 가져오기"
   ]
  },
  {
   "cell_type": "code",
   "execution_count": 2,
   "metadata": {},
   "outputs": [],
   "source": [
    "(train_X, train_Y), (test_X, test_Y) = load_data()"
   ]
  },
  {
   "cell_type": "code",
   "execution_count": 3,
   "metadata": {},
   "outputs": [
    {
     "data": {
      "image/png": "[encoded data removed]",
      "text/plain": [
       "<Figure size 432x288 with 1 Axes>"
      ]
     },
     "metadata": {},
     "output_type": "display_data"
    }
   ],
   "source": [
    "xs = train_X[0]\n",
    "\n",
    "plt.imshow(xs)\n",
    "plt.show()"
   ]
  },
  {
   "cell_type": "markdown",
   "metadata": {},
   "source": [
    "<br><br>\n",
    "\n",
    "# \\[ 1. 실제 합성곱 연산의 동작 방식 \\]\n",
    "\n",
    "----\n",
    "----\n",
    " \n",
    "> *합성곱 연산은 3중 For구문의 형태로 구성되어 있습니다. 이렇게 구현된 경우, 속도가 매우 느려지는 이슈가 발생합니다.*<br>\n",
    "> *이러한 이슈를 줄이기 위해, 4차원 행렬을 2차원으로 펼치는 작업을 거칩니다. 실제로 GPU 머신에서 돌아가는 방식이기도 합니다.*<br>"
   ]
  },
  {
   "cell_type": "markdown",
   "metadata": {},
   "source": [
    "## 1. For 구문으로 합성곱 연산 구현하기\n",
    "---\n"
   ]
  },
  {
   "cell_type": "markdown",
   "metadata": {},
   "source": [
    "### (1) 필터 구성하기\n",
    "\n",
    "필터의 형태는 (필터의 갯수, 필터의 높이, 필터의 폭, 입력 특징 맵의 채널 수)로 결정됩니다.<br>\n",
    "아래와 같이 sobel 필터를 기준으로 설정해보도록 하겠습니다."
   ]
  },
  {
   "cell_type": "code",
   "execution_count": 4,
   "metadata": {},
   "outputs": [
    {
     "data": {
      "text/plain": [
       "(2, 3, 3, 3)"
      ]
     },
     "execution_count": 4,
     "metadata": {},
     "output_type": "execute_result"
    }
   ],
   "source": [
    "w_sobel = np.array([\n",
    "    [[1,1,1],[0,0,0],[-1,-1,-1]],\n",
    "    [[2,2,2],[0,0,0],[-2,-2,-2]],\n",
    "    [[1,1,1],[0,0,0],[-1,-1,-1]]\n",
    "])\n",
    "\n",
    "h_sobel = np.array([\n",
    "    [[1,1,1],[2,2,2],[1,1,1]],\n",
    "    [[0,0,0],[0,0,0],[0,0,0]],\n",
    "    [[-1,-1,-1],[-2,-2,-2],[-1,-1,-1]]\n",
    "])\n",
    "\n",
    "filters = np.stack([w_sobel,h_sobel])\n",
    "filters.shape"
   ]
  },
  {
   "cell_type": "markdown",
   "metadata": {},
   "source": [
    "### (2) 합성곱 연산 적용하기\n",
    "\n",
    "하나의 이미지를 가져오겠습니다. "
   ]
  },
  {
   "cell_type": "code",
   "execution_count": 10,
   "metadata": {},
   "outputs": [
    {
     "name": "stdout",
     "output_type": "stream",
     "text": [
      "(32, 32, 3)\n"
     ]
    }
   ],
   "source": [
    "image = train_X[0]\n",
    "print(image.shape)"
   ]
  },
  {
   "cell_type": "code",
   "execution_count": 14,
   "metadata": {},
   "outputs": [
    {
     "name": "stdout",
     "output_type": "stream",
     "text": [
      "10.4 ms ± 48.6 µs per loop (mean ± std. dev. of 7 runs, 100 loops each)\n"
     ]
    }
   ],
   "source": [
    "%%timeit\n",
    "output = np.zeros([30,30,2]) # valid padding, stride=1일때\n",
    "for y in range(image.shape[0]-2):\n",
    "    for x in range(image.shape[1]-2):\n",
    "        patch = image[y:y+3,x:x+3]\n",
    "        for k in range(len(filters)):\n",
    "            output[y,x,k] = np.sum(patch * filters[k])\n"
   ]
  },
  {
   "cell_type": "markdown",
   "metadata": {},
   "source": [
    "## 2. im2col로 특징 맵을 펼치기\n",
    "---\n",
    "\n",
    "합성곱 연산을 원래대로 한다면, For 구문을 3중으로 짜야합니다. 이렇게 될 경우,<br>\n",
    "연산의 성능이 크게 떨어집니다.<br>\n",
    "\n",
    "이를 방지하기 위해 입력 데이터를 2차원의 벡터로 펼치는 작업을 우선 진행합니다.<br>\n"
   ]
  },
  {
   "cell_type": "markdown",
   "metadata": {},
   "source": [
    "### (1) im2col 동작 구조\n",
    "\n",
    "![Imgur](https://i.imgur.com/g4o3ffZ.png)\n",
    "\n",
    "위와 같이 우리는 Stride 단위로 패치들을 하나씩 행 방향으로 쌓습니다.<br>\n",
    "이렇게 쌓은 2차원 행렬은 Fully Connected Layer처럼<br>\n",
    "아래와 같이, 행렬곱 연산이 가능해집니다.\n",
    "\n",
    "![Imgur](https://i.imgur.com/LtkqENo.png)"
   ]
  },
  {
   "cell_type": "code",
   "execution_count": 16,
   "metadata": {},
   "outputs": [],
   "source": [
    "def im2col(feature, filter_shape, stride=1):\n",
    "    \"\"\"다수의 입력 특징 맵을 입력받아 2차원 배열로 변환합니다.(평탄화).\n",
    "    \n",
    "    Parameters\n",
    "    ----------\n",
    "    feature : 4차원 배열 형태의 입력 데이터(배치 갯수, 높이, 폭, 채널 수)\n",
    "    filter_shape : 필터의 크기 (필터의 높이, 필터의 폭, 필터의 갯수)\n",
    "    stride : 스트라이드의 크기\n",
    "    \n",
    "    Returns\n",
    "    -------\n",
    "    col : 2차원 배열 (배치 갯수  * 출력의 높이 * 출력의 폭 * 필터의 갯수, \n",
    "                    필터의 높이 * 필터의 폭  * 채널 수)\n",
    "    \"\"\"\n",
    "    batch_size, h_in, w_in, c_in = feature.shape\n",
    "    filter_h, filter_w = filter_shape[:2]\n",
    "    \n",
    "    out_h = (h_in - filter_h)//stride + 1\n",
    "    out_w = (w_in - filter_w)//stride + 1\n",
    "\n",
    "    col = np.zeros((batch_size, filter_h, filter_w, out_h, out_w,c_in))\n",
    "\n",
    "    for y in range(filter_h):\n",
    "        y_max = y + stride*out_h\n",
    "        for x in range(filter_w):\n",
    "            x_max = x + stride*out_w\n",
    "            col[:, y, x, :, :, :] = feature[:, y:y_max:stride, x:x_max:stride]\n",
    "\n",
    "    col = (col\n",
    "            .transpose(0, 3, 4, 1, 2, 5)\n",
    "            .reshape(batch_size*out_h*out_w, -1))\n",
    "    return col\n",
    "\n",
    "def col2im(col, feature_shape, filter_shape, stride=1):\n",
    "    \"\"\"im2col과 반대로 동작하는 함수로, 2차원 배열을 받아 원래의 입력 특징 맵으로 복원합니다.\n",
    "    \n",
    "    Parameters\n",
    "    ----------\n",
    "    cols : 2차원 배열(입력 데이터)\n",
    "    feature_shape : 특징맵의 본래 형태 (배치 갯수, 높이, 폭, 채널 수)\n",
    "    filter_shape : 필터의 크기 (필터의 높이, 필터의 폭, 필터의 갯수)\n",
    "    stride : 스트라이드의 크기\n",
    "    \n",
    "    Returns\n",
    "    -------\n",
    "    features : 변환된 입력 형태들\n",
    "    \"\"\"\n",
    "    batch_size, h_in, w_in, c_in = feature_shape\n",
    "    filter_h, filter_w = filter_shape[:2]\n",
    "    \n",
    "    out_h = (h_in - filter_h)//stride + 1\n",
    "    out_w = (w_in - filter_w)//stride + 1\n",
    "    col = (col\n",
    "           .reshape(batch_size, out_h, out_w, filter_h, filter_w, c_in)\n",
    "           .transpose(0,3,4,1,2,5))\n",
    "    \n",
    "    feature = np.zeros((batch_size, h_in, w_in, c_in))\n",
    "    for y in range(filter_h):\n",
    "        y_max = y + stride*out_h\n",
    "        for x in range(filter_w):\n",
    "            x_max = x + stride*out_w\n",
    "            feature[:, y:y_max:stride, x:x_max:stride] = col[:, y, x, :, :, :]\n",
    "    return feature"
   ]
  },
  {
   "cell_type": "markdown",
   "metadata": {},
   "source": [
    "### (2) im2col 적용하기\n",
    "\n",
    "im2col을 적용했을 때의 동작을 코드로 확인해 봅시다."
   ]
  },
  {
   "cell_type": "code",
   "execution_count": 17,
   "metadata": {},
   "outputs": [
    {
     "name": "stdout",
     "output_type": "stream",
     "text": [
      "Feature Map의 형태 :  (1, 32, 32, 3)\n",
      "col의 형태 :  (900, 27)\n"
     ]
    }
   ],
   "source": [
    "filter_shape = (h_f, w_f) = (3,3) # Filter의 크기를 (3,3)으로 둚\n",
    "\n",
    "xs = train_X[:1]\n",
    "print(\"Feature Map의 형태 : \",xs.shape)\n",
    "\n",
    "col = im2col(xs,filter_shape)\n",
    "print(\"col의 형태 : \",col.shape)"
   ]
  },
  {
   "cell_type": "code",
   "execution_count": 18,
   "metadata": {},
   "outputs": [
    {
     "data": {
      "text/plain": [
       "array([[[[59, 62, 63],\n",
       "         [43, 46, 45],\n",
       "         [50, 48, 43]],\n",
       "\n",
       "        [[16, 20, 20],\n",
       "         [ 0,  0,  0],\n",
       "         [18,  8,  0]],\n",
       "\n",
       "        [[25, 24, 21],\n",
       "         [16,  7,  0],\n",
       "         [49, 27,  8]]]], dtype=uint8)"
      ]
     },
     "execution_count": 18,
     "metadata": {},
     "output_type": "execute_result"
    }
   ],
   "source": [
    "patch_1 = xs[:,:h_f,:w_f] # 첫번째 패치\n",
    "patch_1"
   ]
  },
  {
   "cell_type": "code",
   "execution_count": 19,
   "metadata": {},
   "outputs": [
    {
     "data": {
      "text/plain": [
       "array([59., 62., 63., 43., 46., 45., 50., 48., 43., 16., 20., 20.,  0.,\n",
       "        0.,  0., 18.,  8.,  0., 25., 24., 21., 16.,  7.,  0., 49., 27.,\n",
       "        8.])"
      ]
     },
     "execution_count": 19,
     "metadata": {},
     "output_type": "execute_result"
    }
   ],
   "source": [
    "col[0] # 첫번째 패치를 편것"
   ]
  },
  {
   "cell_type": "code",
   "execution_count": 20,
   "metadata": {},
   "outputs": [
    {
     "data": {
      "text/plain": [
       "array([[[[43, 46, 45],\n",
       "         [50, 48, 43],\n",
       "         [68, 54, 42]],\n",
       "\n",
       "        [[ 0,  0,  0],\n",
       "         [18,  8,  0],\n",
       "         [51, 27,  8]],\n",
       "\n",
       "        [[16,  7,  0],\n",
       "         [49, 27,  8],\n",
       "         [83, 50, 23]]]], dtype=uint8)"
      ]
     },
     "execution_count": 20,
     "metadata": {},
     "output_type": "execute_result"
    }
   ],
   "source": [
    "# 두 번째 패치 (stride 1만큼 움직임)\n",
    "xs[:,:h_f,1:w_f+1] "
   ]
  },
  {
   "cell_type": "code",
   "execution_count": 21,
   "metadata": {},
   "outputs": [
    {
     "data": {
      "text/plain": [
       "array([43., 46., 45., 50., 48., 43., 68., 54., 42.,  0.,  0.,  0., 18.,\n",
       "        8.,  0., 51., 27.,  8., 16.,  7.,  0., 49., 27.,  8., 83., 50.,\n",
       "       23.])"
      ]
     },
     "execution_count": 21,
     "metadata": {},
     "output_type": "execute_result"
    }
   ],
   "source": [
    "col[1] # 두 번째 윈도우를 편 것"
   ]
  },
  {
   "cell_type": "markdown",
   "metadata": {},
   "source": [
    "## 3. im2col을 통해, 합성곱 연산 적용하기\n",
    "---\n"
   ]
  },
  {
   "cell_type": "markdown",
   "metadata": {},
   "source": [
    "### (1) 필터 구성하기\n",
    "\n",
    "필터의 형태는 (필터의 갯수, 필터의 높이, 필터의 폭, 입력 특징 맵의 채널 수)로 결정됩니다.<br>\n",
    "아래와 같이 sobel 필터를 기준으로 설정해보도록 하겠습니다."
   ]
  },
  {
   "cell_type": "code",
   "execution_count": 22,
   "metadata": {},
   "outputs": [
    {
     "data": {
      "text/plain": [
       "(2, 3, 3, 3)"
      ]
     },
     "execution_count": 22,
     "metadata": {},
     "output_type": "execute_result"
    }
   ],
   "source": [
    "w_sobel = np.array([\n",
    "    [[1,1,1],[0,0,0],[-1,-1,-1]],\n",
    "    [[2,2,2],[0,0,0],[-2,-2,-2]],\n",
    "    [[1,1,1],[0,0,0],[-1,-1,-1]]\n",
    "])\n",
    "\n",
    "h_sobel = np.array([\n",
    "    [[1,1,1],[2,2,2],[1,1,1]],\n",
    "    [[0,0,0],[0,0,0],[0,0,0]],\n",
    "    [[-1,-1,-1],[-2,-2,-2],[-1,-1,-1]]\n",
    "])\n",
    "\n",
    "filters = np.stack([w_sobel,h_sobel])\n",
    "filters.shape"
   ]
  },
  {
   "cell_type": "markdown",
   "metadata": {},
   "source": [
    "### (2) 행렬곱 계산하기\n",
    "\n",
    "im2col로 펼쳐주고, 형태에 맞춰 t_filers에 맞춰줍니다."
   ]
  },
  {
   "cell_type": "code",
   "execution_count": 23,
   "metadata": {},
   "outputs": [
    {
     "name": "stdout",
     "output_type": "stream",
     "text": [
      "입력값의 형태 :  (900, 27)\n",
      "필터의 형태  :  (27, 2)\n",
      "출력값의 형태 :  (900, 2)\n"
     ]
    }
   ],
   "source": [
    "col = im2col(xs,(3,3)) # 입력값을 펴줍니다. \n",
    "\n",
    "t_filters = filters.reshape(2,-1).T # 필터를 (필터의 갯수, -1)로 펴줍니다.\n",
    "\n",
    "ys = np.matmul(col,t_filters)\n",
    "\n",
    "print(\"입력값의 형태 : \", col.shape)\n",
    "print(\"필터의 형태  : \", t_filters.shape)\n",
    "print(\"출력값의 형태 : \", ys.shape)"
   ]
  },
  {
   "cell_type": "code",
   "execution_count": 24,
   "metadata": {},
   "outputs": [
    {
     "name": "stdout",
     "output_type": "stream",
     "text": [
      "145 µs ± 3.28 µs per loop (mean ± std. dev. of 7 runs, 10000 loops each)\n"
     ]
    }
   ],
   "source": [
    "%%timeit\n",
    "col = im2col(xs,(3,3)) # 입력값을 펴줍니다. \n",
    "\n",
    "t_filters = filters.reshape(2,-1).T # 필터를 (필터의 갯수, -1)로 펴줍니다.\n",
    "\n",
    "ys = np.matmul(col,t_filters)"
   ]
  },
  {
   "cell_type": "markdown",
   "metadata": {},
   "source": [
    "70배 이상 빨라졌습니다. 이미지가 커질수록 보다 차이가 극명하게 나타날 것입니다.<br>"
   ]
  },
  {
   "cell_type": "markdown",
   "metadata": {},
   "source": [
    "### (3) 결과 확인하기"
   ]
  },
  {
   "cell_type": "code",
   "execution_count": 207,
   "metadata": {},
   "outputs": [
    {
     "data": {
      "image/png": "[encoded data removed]",
      "text/plain": [
       "<Figure size 720x720 with 3 Axes>"
      ]
     },
     "metadata": {},
     "output_type": "display_data"
    }
   ],
   "source": [
    "ys = ys.reshape(30,30,2)\n",
    "\n",
    "fig = plt.figure(figsize=(10,10))\n",
    "ax = fig.add_subplot(1,3,1)\n",
    "ax.imshow(xs[0],cmap='gray')\n",
    "ax = fig.add_subplot(1,3,2)\n",
    "ax.imshow(ys[:,:,0],cmap='gray')\n",
    "ax = fig.add_subplot(1,3,3)\n",
    "ax.imshow(ys[:,:,1],cmap='gray')\n",
    "plt.show()"
   ]
  },
  {
   "cell_type": "markdown",
   "metadata": {},
   "source": [
    "## 4. im2col을 통해, 풀링 연산 적용하기\n",
    "---\n",
    "\n",
    "풀링 연산도 기본적으로 합성곱 연산과 거의 동일합니다.<br>"
   ]
  },
  {
   "cell_type": "markdown",
   "metadata": {},
   "source": [
    "### (1) 필터 구성하기\n",
    "\n",
    "풀링 연산에서의 필터는 너비와 폭의 크기로 구성되어 있습니다."
   ]
  },
  {
   "cell_type": "code",
   "execution_count": 266,
   "metadata": {},
   "outputs": [],
   "source": [
    "filter_size = (2,2)\n",
    "h_f, h_w = filter_size"
   ]
  },
  {
   "cell_type": "markdown",
   "metadata": {},
   "source": [
    "### (2) im2col 적용하기\n",
    "\n",
    "합성곱과 다르게, 채널 별로 max pooling을 적용해야 하기 때문에<br>\n",
    "행렬의 크기를 변환하는 작업을 거칩니다."
   ]
  },
  {
   "cell_type": "code",
   "execution_count": 280,
   "metadata": {},
   "outputs": [
    {
     "data": {
      "text/plain": [
       "array([[59., 43., 16.,  0.],\n",
       "       [62., 46., 20.,  0.],\n",
       "       [63., 45., 20.,  0.]])"
      ]
     },
     "execution_count": 280,
     "metadata": {},
     "output_type": "execute_result"
    }
   ],
   "source": [
    "_, h_in, w_in, c_in = xs.shape\n",
    "\n",
    "stride = 2\n",
    "\n",
    "col = im2col(xs,(h_f, h_w), stride) # 입력값을 펴줌\n",
    "col = (col\n",
    "       .reshape(-1,h_f, h_w,3) \n",
    "       .transpose(0,3,1,2) # 채널별로 적용하기 위해, transpose 적용\n",
    "       .reshape(-1,h_f * h_w)) # 각 행 별로 patch들이 정렬되어 있음\n",
    "col[:3]"
   ]
  },
  {
   "cell_type": "markdown",
   "metadata": {},
   "source": [
    "### (3) maxpooling 적용하기"
   ]
  },
  {
   "cell_type": "code",
   "execution_count": 281,
   "metadata": {},
   "outputs": [],
   "source": [
    "col = np.max(col,axis=1) # 행 별로 최댓 값 가져오기\n",
    "ys = col.reshape(h_in//stride,w_in//stride,c_in)"
   ]
  },
  {
   "cell_type": "code",
   "execution_count": 282,
   "metadata": {},
   "outputs": [
    {
     "data": {
      "image/png": "[encoded data removed]",
      "text/plain": [
       "<Figure size 432x288 with 1 Axes>"
      ]
     },
     "metadata": {},
     "output_type": "display_data"
    },
    {
     "name": "stdout",
     "output_type": "stream",
     "text": [
      "Max Pooling 적용 전 ;  (32, 32, 3)\n",
      "Max Pooling 적용 후 :  (16, 16, 3)\n"
     ]
    }
   ],
   "source": [
    "ys = ys.astype(np.uint8)\n",
    "plt.imshow(ys)\n",
    "plt.show()\n",
    "\n",
    "print(\"Max Pooling 적용 전 ; \",xs.shape[1:])\n",
    "print(\"Max Pooling 적용 후 : \",ys.shape)"
   ]
  },
  {
   "cell_type": "markdown",
   "metadata": {},
   "source": [
    "#  \n",
    "\n",
    "---\n",
    "\n",
    "    Copyright(c) 2019 by Public AI. All rights reserved.<br>\n",
    "    Writen by PAI, SangJae Kang ( rocketgrowthsj@publicai.co.kr )  last updated on 2019/04/25\n",
    "\n",
    "---"
   ]
  }
 ],
 "metadata": {
  "kernelspec": {
   "display_name": "tf2.0",
   "language": "python",
   "name": "tf2.0"
  },
  "language_info": {
   "codemirror_mode": {
    "name": "ipython",
    "version": 3
   },
   "file_extension": ".py",
   "mimetype": "text/x-python",
   "name": "python",
   "nbconvert_exporter": "python",
   "pygments_lexer": "ipython3",
   "version": "3.6.8"
  },
  "toc": {
   "base_numbering": 1,
   "nav_menu": {},
   "number_sections": false,
   "sideBar": true,
   "skip_h1_title": false,
   "title_cell": "Table of Contents",
   "title_sidebar": "Contents",
   "toc_cell": false,
   "toc_position": {},
   "toc_section_display": true,
   "toc_window_display": false
  },
  "varInspector": {
   "cols": {
    "lenName": 16,
    "lenType": 16,
    "lenVar": 40
   },
   "kernels_config": {
    "python": {
     "delete_cmd_postfix": "",
     "delete_cmd_prefix": "del ",
     "library": "var_list.py",
     "varRefreshCmd": "print(var_dic_list())"
    },
    "r": {
     "delete_cmd_postfix": ") ",
     "delete_cmd_prefix": "rm(",
     "library": "var_list.r",
     "varRefreshCmd": "cat(var_dic_list()) "
    }
   },
   "types_to_exclude": [
    "module",
    "function",
    "builtin_function_or_method",
    "instance",
    "_Feature"
   ],
   "window_display": false
  }
 },
 "nbformat": 4,
 "nbformat_minor": 2
}
