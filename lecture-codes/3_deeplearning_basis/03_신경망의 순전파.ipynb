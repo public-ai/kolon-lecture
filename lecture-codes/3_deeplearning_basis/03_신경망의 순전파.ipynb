{
 "cells": [
  {
   "cell_type": "markdown",
   "metadata": {},
   "source": [
    "<i><b>Public AI</b></i>\n",
    "<br>\n",
    "# 신경망의 순전파\n",
    "\n",
    "### _Objective_\n",
    "1. **Feedforward Network**: Feedforward Network가 무엇인지 알아봅니다.<br>\n",
    "2. **Feedforward with Keras**: Keras를 사용해 feedforward 모델을 모델링해봅니다.<br>\n",
    "3. **Feedforward with Numpy**: Numpy를 사용해 간단하게 순전파 수식을 구현해 봅니다.<br>"
   ]
  },
  {
   "cell_type": "code",
   "execution_count": 3,
   "metadata": {},
   "outputs": [],
   "source": [
    "%matplotlib inline\n",
    "\n",
    "import os\n",
    "import numpy as np\n",
    "import pandas as pd\n",
    "\n",
    "import matplotlib.pyplot as plt\n",
    "from tensorflow.keras.utils import get_file"
   ]
  },
  {
   "cell_type": "markdown",
   "metadata": {},
   "source": [
    "# \\[ 1. Feedforward Network \\]\n",
    "\n",
    "순전파(Feedforward)란 신경망에서 입력층부터 출력층까지 각 층을 거쳐가며 신호가 타고넘어가는 일련의 과정을 뜻합니다. 입력층부터 출력층까지 앞에서 뒤로 신호가 타고 넘어가 '순전파'라는 이름이 붙었습니다. Keras와 Numpy를 이용해 구현해보겠습니다."
   ]
  },
  {
   "cell_type": "markdown",
   "metadata": {},
   "source": [
    "## 1. 유닛 단위의 순전파 연산\n",
    "\n",
    "순전파에서 유닛의 연산은 아래의 두 단계로 이루어져 있습니다. 각층에서 입력값을 수합하는 로짓과, 해당 로짓값에 따라 어떠한 시그널을 반환할지 결정하는 활성화 함수로 나누어져 있습니다.<br>\n",
    "\n",
    "1. 로짓(z)를 계산하는 부분 : <br>\n",
    "$\n",
    "z = w_0 + w_1x_1 + w_2x_2 + w_3x_3\\\\\n",
    "$\n",
    "\n",
    "2. 활성화 함수($\\sigma$)를 거치는 부분 : <br>\n",
    "$a = \\sigma(z) = \\frac{1}{1+e^{-z}}$\n",
    "\n",
    "<img src=\"https://i.imgur.com/26G8oSL.png\" width=\"600\" height=\"450\"/>\n",
    "\n"
   ]
  },
  {
   "cell_type": "markdown",
   "metadata": {},
   "source": [
    "## 2. 층 단위의 순전파 연산"
   ]
  },
  {
   "cell_type": "markdown",
   "metadata": {},
   "source": [
    "입력층과 은닉층(유닛 수, 활성화 함수 등)을 설정하는 방법을 살펴보았습니다. 그럼 이제 아래와 같이 생긴 2층 신경망을 처음부터 끝까지 구현하는 코드를 살펴봅시다.  \n",
    "\n",
    "<img src=\"https://i.imgur.com/T9jkFuv.png\" width=\"600\" height=\"450\"/><br>\n",
    "\n",
    "$$\n",
    "z1 = X\\cdot W1 + b1 \\\\\n",
    "a1 = \\sigma(z1) \\\\\n",
    "z2 = a1 \\cdot W2 + b2 \\\\\n",
    "\\hat y = \\sigma(z2)\n",
    "$$"
   ]
  },
  {
   "cell_type": "markdown",
   "metadata": {},
   "source": [
    "# \\[ 2. Keras로 Feedforward Network 구현하기 \\]"
   ]
  },
  {
   "cell_type": "markdown",
   "metadata": {},
   "source": [
    "### 예제 데이터 ) 암 환자 데이터 셋\n",
    "\n",
    "나이와 종양크기를 바탕으로 암 환자의 종양이 양성인지 음성인지를 분류하는 데이터셋입니다."
   ]
  },
  {
   "cell_type": "code",
   "execution_count": 5,
   "metadata": {
    "scrolled": false
   },
   "outputs": [
    {
     "data": {
      "image/png": "[encoded data removed]",
      "text/plain": [
       "<Figure size 504x504 with 1 Axes>"
      ]
     },
     "metadata": {},
     "output_type": "display_data"
    }
   ],
   "source": [
    "fpath = get_file(\"cancer_dataset.csv\",\n",
    "                 \"https://s3.ap-northeast-2.amazonaws.com/pai-datasets/alai-deeplearning/cancer_dataset.csv\")\n",
    "cancer_df = pd.read_csv(fpath)\n",
    "X = cancer_df[['age','tumor_size']]\n",
    "y = cancer_df[\"label\"]\n",
    "\n",
    "X = (X - X.min()) / (X.max() - X.min())\n",
    "\n",
    "### 데이터 시각화\n",
    "fig = plt.figure(figsize=(7,7))\n",
    "ax = fig.add_subplot(1,1,1)\n",
    "\n",
    "# 0: 정상\n",
    "X[y==0].plot('age','tumor_size',ax=ax,legend=True,\n",
    "                           kind='scatter',color='red')\n",
    "# 1: 암환자\n",
    "X[y==1].plot('age','tumor_size',ax=ax,legend=True,\n",
    "                           kind='scatter',color='green')\n",
    "plt.legend(['Normal','Cancer'])\n",
    "plt.title(\"Cancer Or Not\")\n",
    "plt.show()"
   ]
  },
  {
   "cell_type": "markdown",
   "metadata": {},
   "source": [
    "### (1) Input 설정하기\n",
    "\n",
    "신경망의 Input Layer에 넣을 입력 신호를 설정하기 위해 keras에서는 `keras.layers.Input` API를 지원합니다."
   ]
  },
  {
   "cell_type": "code",
   "execution_count": 6,
   "metadata": {},
   "outputs": [],
   "source": [
    "from tensorflow.keras.layers import Input"
   ]
  },
  {
   "cell_type": "markdown",
   "metadata": {},
   "source": [
    "위 예제 데이터에서 입력 데이터 `X`는 나이(age)와 종양의 크기(tumor_size)로 구성됩니다. X가 2 가지이므로, 입력층의 shape은 `(2,)`으로 설정하여 `Input(shape=(2,), name='x')`로 입력층을 생성합니다."
   ]
  },
  {
   "cell_type": "code",
   "execution_count": 7,
   "metadata": {
    "scrolled": true
   },
   "outputs": [
    {
     "data": {
      "text/plain": [
       "<tf.Tensor 'x:0' shape=(?, 2) dtype=float32>"
      ]
     },
     "metadata": {},
     "output_type": "display_data"
    }
   ],
   "source": [
    "inputs = Input(shape=(2,), name='x')\n",
    "display(inputs)"
   ]
  },
  {
   "cell_type": "markdown",
   "metadata": {},
   "source": [
    "그런데 `display(inputs)`로 입력층의 내용을 출력해보면 `shape=(None, 2)`라고 확인됩니다. 여기서 None은 무슨 의미일까요? "
   ]
  },
  {
   "cell_type": "markdown",
   "metadata": {},
   "source": [
    "이전 Section에서 말했듯이 keras에서는 첫번째 축이 Batch 축으로 세팅되어 있으며, 따로 설정해 주지 않으면 None을 반환합니다. 위 예제에서 Batch 축을 따로 세팅하지 않았으므로, 입력층의 shape이 `(None,2)`가 됨을 볼 수 있습니다. \n",
    "\n",
    "데이터를 하나로 묶은 입력 데이터를 **배치(Batch)**라고 하는데, None은 입력한 데이터 전체를 하나로 묶어 처리한다는 뜻입니다. 위 예제에서는 batch를 따로 설정하지 않았기 때문에 100명 분의 데이터가 전부 한 번에 처리가 될 것입니다. batch를 10, 50 등으로 설정하면 10명, 50명 분의 데이터가 하나의 batch로 묶여서 돌아가게 됩니다.\n",
    "\n",
    "배치 처리를 수행함으로써 컴퓨터는 큰 배열로 이루어진 계산을 하게 되는데, 컴퓨터에서는 큰 배열을 한꺼번에 계산하는 것이 분할된 작은 배열을 여러 번 계산하는 것보다 빠릅니다. 덕분에 배치 처리를 하게 되면, 환자 한 명의 정보를 처리하는 것보다, 환자 한 명당 처리 시간이 대폭 줄어드는 이득을 얻을 수 있습니다."
   ]
  },
  {
   "cell_type": "markdown",
   "metadata": {},
   "source": [
    "### (2) 가중치(weight)와 편향(bias) 생성하기\n",
    "\n",
    "입력층이 설정되었습니다. 앞서 예로 든 것처럼 10개 유닛으로 구성된 1번 층을 만들어 2층 신경망을 구성하게 되면, 학습해야 하는 가중치와 편향에는 ($w_1$,$b_1$,$w_2$,$b_2$) 등이 있습니다. keras에서는 가중치를 계산하며 층을 쌓을 때는 `keras.layers.Dense` API를 이용합니다."
   ]
  },
  {
   "cell_type": "code",
   "execution_count": 8,
   "metadata": {},
   "outputs": [
    {
     "name": "stderr",
     "output_type": "stream",
     "text": [
      "WARNING: Logging before flag parsing goes to stderr.\n",
      "W0206 14:33:17.565533 4593669568 deprecation.py:506] From /Users/ksj/anaconda3/lib/python3.6/site-packages/tensorflow/python/ops/init_ops.py:1251: calling VarianceScaling.__init__ (from tensorflow.python.ops.init_ops) with dtype is deprecated and will be removed in a future version.\n",
      "Instructions for updating:\n",
      "Call initializer instance with the dtype argument instead of passing it to the constructor\n"
     ]
    },
    {
     "data": {
      "text/plain": [
       "<tf.Tensor 'dense/BiasAdd:0' shape=(?, 10) dtype=float32>"
      ]
     },
     "execution_count": 8,
     "metadata": {},
     "output_type": "execute_result"
    }
   ],
   "source": [
    "from tensorflow.keras.layers import Dense\n",
    "dense1 = Dense(units=10)\n",
    "dense1(inputs)"
   ]
  },
  {
   "cell_type": "markdown",
   "metadata": {},
   "source": [
    "dense1의 가중치 $w_1$와 편향$b_1$가 어떤 형태인지 확인해봅시다. "
   ]
  },
  {
   "cell_type": "code",
   "execution_count": 9,
   "metadata": {},
   "outputs": [
    {
     "name": "stdout",
     "output_type": "stream",
     "text": [
      "W >>> shape  : (2, 10)\n"
     ]
    },
    {
     "data": {
      "text/plain": [
       "array([[-0.21187508, -0.6685274 , -0.13168496,  0.33453053,  0.5471074 ,\n",
       "         0.22738713,  0.29944414, -0.21073222, -0.3261217 ,  0.11663514],\n",
       "       [ 0.13643831, -0.47447217,  0.21555805,  0.14377892, -0.24046782,\n",
       "         0.5733635 ,  0.19999272,  0.18049693,  0.05054754,  0.42945474]],\n",
       "      dtype=float32)"
      ]
     },
     "metadata": {},
     "output_type": "display_data"
    },
    {
     "name": "stdout",
     "output_type": "stream",
     "text": [
      "b >>> shape  : (10,)\n"
     ]
    },
    {
     "data": {
      "text/plain": [
       "array([0., 0., 0., 0., 0., 0., 0., 0., 0., 0.], dtype=float32)"
      ]
     },
     "metadata": {},
     "output_type": "display_data"
    }
   ],
   "source": [
    "W, b = dense1.get_weights()\n",
    "print(f\"W >>> shape  : {W.shape}\")\n",
    "display(W)\n",
    "\n",
    "print(f\"b >>> shape  : {b.shape}\")\n",
    "display(b)"
   ]
  },
  {
   "cell_type": "markdown",
   "metadata": {},
   "source": [
    "위 내용을 보면, 입력 데이터의 크기에 맞게 자동으로 가중치(`W`와 `b`)가 생성되어 있음을 알 수 있습니다.<br>\n",
    "입력 데이터에 피쳐가 2가지이고 유닛은 10개이므로, $w_1$는 (2, 10) 형태를 가지게 되었으며, $b_1$은 (10,)의 형태를 가지게 되었습니다. "
   ]
  },
  {
   "cell_type": "markdown",
   "metadata": {},
   "source": [
    "10개의 유닛으로 구성된 1번째 층이 생성되었으니, 입력신호를 `dense1`층에 통과시켜 보겠습니다."
   ]
  },
  {
   "cell_type": "code",
   "execution_count": 10,
   "metadata": {},
   "outputs": [
    {
     "data": {
      "text/plain": [
       "<tf.Tensor 'dense_1/BiasAdd:0' shape=(?, 10) dtype=float32>"
      ]
     },
     "execution_count": 10,
     "metadata": {},
     "output_type": "execute_result"
    }
   ],
   "source": [
    "dense1_out = dense1(inputs)\n",
    "dense1_out"
   ]
  },
  {
   "cell_type": "markdown",
   "metadata": {},
   "source": [
    "이렇게 1번째 층을 통과하여 얻어진`dense1_out1`은 활성화 함수의 입력값이 될 것입니다. "
   ]
  },
  {
   "cell_type": "markdown",
   "metadata": {},
   "source": [
    "### (3) 활성화 함수 적용하기"
   ]
  },
  {
   "cell_type": "markdown",
   "metadata": {},
   "source": [
    "활성화 함수로 딥러닝에서 가장 많이 쓰이는 `relu`함수를 이용해 입력 신호의 총합을 출력 신호로 변환하겠습니다. ReLU 함수란 아래와 같습니다.\n",
    "\n",
    "$$\n",
    "RELU(x) = \\begin{cases} \n",
    "x && \\mbox{if x } \\ge 0 \\\\\n",
    "0 && \\mbox{if x } < 0 \\\\\n",
    "\\end{cases}\n",
    "$$\n"
   ]
  },
  {
   "cell_type": "markdown",
   "metadata": {},
   "source": [
    "0보다 작은 값을 받으면 0을 반환하고, 0보다 크거나 같은 값을 받으면 입력 값을 그대로 반환하는 형태입니다.\n",
    "\n",
    "앞서 `dense1`을 통과하여 얻은 `dense1_out`을 `relu`에 입력하면 0 또는`x`로 변환된 `relu_out`을 얻을 수 있습니다."
   ]
  },
  {
   "cell_type": "code",
   "execution_count": 11,
   "metadata": {},
   "outputs": [
    {
     "data": {
      "text/plain": [
       "<tf.Tensor 'Relu:0' shape=(?, 10) dtype=float32>"
      ]
     },
     "execution_count": 11,
     "metadata": {},
     "output_type": "execute_result"
    }
   ],
   "source": [
    "from tensorflow.keras.activations import relu, sigmoid\n",
    "relu1_out = relu(dense1_out)\n",
    "relu1_out"
   ]
  },
  {
   "cell_type": "markdown",
   "metadata": {},
   "source": [
    "실제 신경망을 구성할 때는 층을 구성할 때 `activation`이라는 인자를 이용해 활성화 함수를 설정할 수 있습니다. 가령 1번째 층에서 유닛을 10개로 설정하고, 활성화 함수는 `relu`로 설정하려면 아래와 같이 설정하면 됩니다."
   ]
  },
  {
   "cell_type": "code",
   "execution_count": 12,
   "metadata": {},
   "outputs": [],
   "source": [
    "dense1 = Dense(10,activation='relu', name='hidden')\n",
    "dense1_output = dense1(inputs)"
   ]
  },
  {
   "cell_type": "markdown",
   "metadata": {},
   "source": [
    "### (4) 2층 신경망 구현하기\n",
    "\n",
    "입력층과 은닉층(유닛 수, 활성화 함수 등)을 설정하는 방법을 살펴보았습니다. 그럼 이제 아래와 같이 생긴 2층 신경망을 처음부터 끝까지 구현하는 코드를 살펴봅시다.  \n",
    "\n",
    "<img src=\"https://i.imgur.com/T9jkFuv.png\" width=\"600\" height=\"450\"/><br>\n",
    "\n",
    "$$\n",
    "z1 = X\\cdot W1 + b1 \\\\\n",
    "a1 = \\sigma(z1) \\\\\n",
    "z2 = a1 \\cdot W2 + b2 \\\\\n",
    "\\hat y = \\sigma(z2)\n",
    "$$\n",
    "\n",
    "keras에서는 keras의 함수형 API를 사용할 때, input과 output을 지정해주면 신경망의 흐름대로 모델을 생성하는 `keras.models.Model` API를 지원합니다. `Model`에 입력층과 출력층을 인자로 입력하면 신경망 모델이 생성됩니다."
   ]
  },
  {
   "cell_type": "code",
   "execution_count": 13,
   "metadata": {},
   "outputs": [],
   "source": [
    "from tensorflow.keras.models import Model\n",
    "\n",
    "# 신경망 구현\n",
    "inputs = Input(2,name='x')\n",
    "\n",
    "dense1 = Dense(10,activation='relu', name='hidden')\n",
    "dense1_output = dense1(inputs)\n",
    "\n",
    "dense2 = Dense(1,activation='sigmoid', name='output')\n",
    "output = dense2(dense1_output)\n",
    "\n",
    "# 신경망 모델 생성\n",
    "model = Model(inputs, output, name='train')"
   ]
  },
  {
   "cell_type": "markdown",
   "metadata": {},
   "source": [
    "### (5) 신경망에 대한 정보 확인하기"
   ]
  },
  {
   "cell_type": "markdown",
   "metadata": {},
   "source": [
    "keras에서는 `summary()`함수를 활용해 현재 생성된 모델에 대한 정보를 확인할 수 있습니다."
   ]
  },
  {
   "cell_type": "code",
   "execution_count": 14,
   "metadata": {
    "scrolled": true
   },
   "outputs": [
    {
     "name": "stdout",
     "output_type": "stream",
     "text": [
      "Model: \"train\"\n",
      "_________________________________________________________________\n",
      "Layer (type)                 Output Shape              Param #   \n",
      "=================================================================\n",
      "x (InputLayer)               [(None, 2)]               0         \n",
      "_________________________________________________________________\n",
      "hidden (Dense)               (None, 10)                30        \n",
      "_________________________________________________________________\n",
      "output (Dense)               (None, 1)                 11        \n",
      "=================================================================\n",
      "Total params: 41\n",
      "Trainable params: 41\n",
      "Non-trainable params: 0\n",
      "_________________________________________________________________\n"
     ]
    }
   ],
   "source": [
    "model.summary()"
   ]
  },
  {
   "cell_type": "markdown",
   "metadata": {},
   "source": [
    "### (6) 모델 사용하기"
   ]
  },
  {
   "cell_type": "markdown",
   "metadata": {},
   "source": [
    "keras에서는 `model.predict(input_sample)`를 통해 입력값(input_sample)`X`가 model을 통과했을 때의 예측값(ouput prediction)을 얻을 수 있습니다. 여기서 얻은 예측값은 아직 최선의 가중치를 찾지 않은 초기 가중치 값을 통해 얻은 값이므로 오차율은 높을 수 있습니다."
   ]
  },
  {
   "cell_type": "code",
   "execution_count": 15,
   "metadata": {
    "scrolled": true
   },
   "outputs": [
    {
     "data": {
      "text/plain": [
       "array([[0.503305  ],\n",
       "       [0.5252884 ],\n",
       "       [0.50513995],\n",
       "       [0.50419974],\n",
       "       [0.5037489 ],\n",
       "       [0.53838974],\n",
       "       [0.5020858 ],\n",
       "       [0.50603205],\n",
       "       [0.5053304 ],\n",
       "       [0.5143832 ],\n",
       "       [0.5031317 ],\n",
       "       [0.50914985],\n",
       "       [0.50586075],\n",
       "       [0.51517624],\n",
       "       [0.5133932 ],\n",
       "       [0.5525272 ],\n",
       "       [0.5054168 ],\n",
       "       [0.5077903 ],\n",
       "       [0.50894964],\n",
       "       [0.5061574 ],\n",
       "       [0.50335854],\n",
       "       [0.50312424],\n",
       "       [0.51061183],\n",
       "       [0.5152103 ],\n",
       "       [0.51487654],\n",
       "       [0.53701794],\n",
       "       [0.5095317 ],\n",
       "       [0.50427556],\n",
       "       [0.5168734 ],\n",
       "       [0.5273168 ],\n",
       "       [0.50395095],\n",
       "       [0.5047447 ],\n",
       "       [0.5017355 ],\n",
       "       [0.50928736],\n",
       "       [0.50429565],\n",
       "       [0.5394362 ],\n",
       "       [0.5086502 ],\n",
       "       [0.50744957],\n",
       "       [0.50794566],\n",
       "       [0.51507944],\n",
       "       [0.52879435],\n",
       "       [0.5058379 ],\n",
       "       [0.50453365],\n",
       "       [0.5099561 ],\n",
       "       [0.5129918 ],\n",
       "       [0.51253706],\n",
       "       [0.50681686],\n",
       "       [0.5062328 ],\n",
       "       [0.52074265],\n",
       "       [0.5185671 ],\n",
       "       [0.5045338 ],\n",
       "       [0.50787795],\n",
       "       [0.51934224],\n",
       "       [0.50551903],\n",
       "       [0.5130335 ],\n",
       "       [0.53622603],\n",
       "       [0.5124375 ],\n",
       "       [0.515138  ],\n",
       "       [0.50763613],\n",
       "       [0.5059645 ],\n",
       "       [0.52730006],\n",
       "       [0.53592986],\n",
       "       [0.5030567 ],\n",
       "       [0.51220715],\n",
       "       [0.5082994 ],\n",
       "       [0.5105203 ],\n",
       "       [0.52203554],\n",
       "       [0.50832826],\n",
       "       [0.5058364 ],\n",
       "       [0.5065141 ],\n",
       "       [0.5062    ],\n",
       "       [0.506005  ],\n",
       "       [0.5018259 ],\n",
       "       [0.5081527 ],\n",
       "       [0.50644195],\n",
       "       [0.52513856],\n",
       "       [0.50592816],\n",
       "       [0.5104306 ],\n",
       "       [0.5174901 ],\n",
       "       [0.5040977 ],\n",
       "       [0.5029018 ],\n",
       "       [0.50565404],\n",
       "       [0.5183352 ],\n",
       "       [0.50346935],\n",
       "       [0.5075824 ],\n",
       "       [0.51240253],\n",
       "       [0.50696856],\n",
       "       [0.5094681 ],\n",
       "       [0.5126456 ],\n",
       "       [0.5094244 ],\n",
       "       [0.5060377 ],\n",
       "       [0.5035167 ],\n",
       "       [0.50889003],\n",
       "       [0.50228965],\n",
       "       [0.51116925],\n",
       "       [0.509116  ],\n",
       "       [0.5077916 ],\n",
       "       [0.50951374],\n",
       "       [0.50335616],\n",
       "       [0.5036842 ]], dtype=float32)"
      ]
     },
     "execution_count": 15,
     "metadata": {},
     "output_type": "execute_result"
    }
   ],
   "source": [
    "model.predict(X)"
   ]
  },
  {
   "cell_type": "markdown",
   "metadata": {},
   "source": [
    "# \\[ 3. Numpy를 이용해 순전파 과정 진행하기 \\]\n",
    "\n",
    "Keras로 구현한 순전파 네트워크가 잘 돌아가는지, Keras에서 얻은 가중치 값을 가져와 Numpy 코드로 직접 수식을 구현하여 단계별로 얻어지는 값을 확인하고, 예측 결과 값을 비교해보겠습니다. 앞서 사용한 암환자 데이터셋을 이용해보겠습니다."
   ]
  },
  {
   "cell_type": "markdown",
   "metadata": {},
   "source": [
    "### (1) 가중치 가져오기"
   ]
  },
  {
   "cell_type": "markdown",
   "metadata": {},
   "source": [
    "keras에서는 `model.get_layer('layer_name').get_weights()`을 통해 모델 내 원하는 층의 가중치 값을 가져올 수 있습니다. 이는 class 또는 instance의 이동으로 다른 구조에서 가중치 값을 간단하게 공유할 수 있다는 점은 keras의 장점 중 하나입니다."
   ]
  },
  {
   "cell_type": "code",
   "execution_count": 16,
   "metadata": {
    "scrolled": true
   },
   "outputs": [
    {
     "name": "stdout",
     "output_type": "stream",
     "text": [
      "W1 >>>\n"
     ]
    },
    {
     "data": {
      "text/plain": [
       "array([[-0.404,  0.215,  0.574, -0.286, -0.186, -0.578, -0.078,  0.474,\n",
       "        -0.545,  0.214],\n",
       "       [ 0.288, -0.571, -0.637,  0.206, -0.466, -0.401, -0.354,  0.047,\n",
       "         0.429,  0.685]], dtype=float32)"
      ]
     },
     "metadata": {},
     "output_type": "display_data"
    },
    {
     "name": "stdout",
     "output_type": "stream",
     "text": [
      "B1 >>>\n"
     ]
    },
    {
     "data": {
      "text/plain": [
       "array([0., 0., 0., 0., 0., 0., 0., 0., 0., 0.], dtype=float32)"
      ]
     },
     "metadata": {},
     "output_type": "display_data"
    },
    {
     "name": "stdout",
     "output_type": "stream",
     "text": [
      "W2 >>>\n"
     ]
    },
    {
     "data": {
      "text/plain": [
       "array([[ 0.591],\n",
       "       [ 0.545],\n",
       "       [ 0.545],\n",
       "       [-0.329],\n",
       "       [-0.7  ],\n",
       "       [-0.692],\n",
       "       [-0.142],\n",
       "       [-0.202],\n",
       "       [-0.221],\n",
       "       [ 0.167]], dtype=float32)"
      ]
     },
     "metadata": {},
     "output_type": "display_data"
    },
    {
     "name": "stdout",
     "output_type": "stream",
     "text": [
      "B2 >>>\n"
     ]
    },
    {
     "data": {
      "text/plain": [
       "array([0.], dtype=float32)"
      ]
     },
     "metadata": {},
     "output_type": "display_data"
    }
   ],
   "source": [
    "W1, B1 = model.get_layer('hidden').get_weights()\n",
    "W2, B2 = model.get_layer('output').get_weights()\n",
    "\n",
    "np.set_printoptions(3)\n",
    "print(\"W1 >>>\")\n",
    "display(W1)\n",
    "print(\"B1 >>>\")\n",
    "display(B1)\n",
    "print(\"W2 >>>\")\n",
    "display(W2)\n",
    "print(\"B2 >>>\")\n",
    "display(B2)"
   ]
  },
  {
   "cell_type": "markdown",
   "metadata": {},
   "source": [
    "### (2) 순전파 수식 구현\n",
    "첫번째 층을 통과하는 과정을 살펴봅시다.\n",
    "\n",
    "<img src=\"https://i.imgur.com/o1SgBJZ.png\" width=\"600\" height=\"450\"/><br>"
   ]
  },
  {
   "cell_type": "markdown",
   "metadata": {},
   "source": [
    "위에 도식에서 입력 데이터 X가 가중치와 곱해진 결과값을 얻는 과정을 수식으로 나타내면 다음과 같습니다.\n",
    "\n",
    "$\n",
    "Z_1 = X \\cdot W_1 + B_1\n",
    "$\n",
    "\n",
    "이를 numpy 식으로 구현하면 아래와 같이 됩니다. "
   ]
  },
  {
   "cell_type": "code",
   "execution_count": 17,
   "metadata": {},
   "outputs": [],
   "source": [
    "X = cancer_df[['age','tumor_size']].values\n",
    "hidden1 = np.dot(X, W1) + B1\n",
    "# hidden1"
   ]
  },
  {
   "cell_type": "markdown",
   "metadata": {},
   "source": [
    "### (3) 활성화 함수 적용\n",
    "이렇게 입력값에 가중치를 곱해 얻은 $Z_1$, 즉`hidden1`에 `relu`활성화 함수를 적용해 보겠습니다.\n",
    "\n",
    "<img src=\"https://i.imgur.com/QVfBn7d.png\" width=\"600\" height=\"450\"/><br>"
   ]
  },
  {
   "cell_type": "markdown",
   "metadata": {},
   "source": [
    "$a_1 = RELU(z_1)$\n",
    "\n",
    "\n",
    "이를 numpy 식으로 구현하면 아래와 같이 됩니다. "
   ]
  },
  {
   "cell_type": "code",
   "execution_count": 18,
   "metadata": {},
   "outputs": [],
   "source": [
    "hidden1_np_output = np.maximum(hidden1,0)\n",
    "# hidden1_np_output"
   ]
  },
  {
   "cell_type": "markdown",
   "metadata": {},
   "source": [
    "### (4) 순전파 수식 구현\n",
    "두번째 layer를 통과하는 과정입니다.\n",
    "\n",
    "<img src=\"https://i.imgur.com/WKOjOg6.png\" width=\"600\" height=\"450\"/><br>"
   ]
  },
  {
   "cell_type": "markdown",
   "metadata": {},
   "source": [
    "첫 번째 층을 통과한 결과 값을 입력 값으로 받아 가중치 $W_2$와 곱하고, 편향 $b_2$를 더합니다. "
   ]
  },
  {
   "cell_type": "code",
   "execution_count": 19,
   "metadata": {
    "scrolled": true
   },
   "outputs": [],
   "source": [
    "output_z = np.dot(hidden1_np_output, W2) + B2\n",
    "# output_z"
   ]
  },
  {
   "cell_type": "markdown",
   "metadata": {},
   "source": [
    "### (5) 활성화 함수 적용\n",
    "최종적으로 두 번째 층의 결과값을 내기 위해 `output_z`에 `sigmoid`활성화 함수를 적용해 보겠습니다.\n",
    "<img src=\"https://i.imgur.com/9AceY76.png\" width=\"600\" height=\"450\"/><br>"
   ]
  },
  {
   "cell_type": "code",
   "execution_count": 20,
   "metadata": {
    "scrolled": true
   },
   "outputs": [
    {
     "data": {
      "text/plain": [
       "array([[0.541],\n",
       "       [0.68 ],\n",
       "       [0.574],\n",
       "       [0.56 ],\n",
       "       [0.549],\n",
       "       [0.753],\n",
       "       [0.536],\n",
       "       [0.584],\n",
       "       [0.565],\n",
       "       [0.603],\n",
       "       [0.545],\n",
       "       [0.615],\n",
       "       [0.581],\n",
       "       [0.671],\n",
       "       [0.645],\n",
       "       [0.841],\n",
       "       [0.568],\n",
       "       [0.606],\n",
       "       [0.566],\n",
       "       [0.545],\n",
       "       [0.546],\n",
       "       [0.542],\n",
       "       [0.616],\n",
       "       [0.668],\n",
       "       [0.589],\n",
       "       [0.765],\n",
       "       [0.558],\n",
       "       [0.557],\n",
       "       [0.69 ],\n",
       "       [0.685],\n",
       "       [0.558],\n",
       "       [0.524],\n",
       "       [0.531],\n",
       "       [0.548],\n",
       "       [0.52 ],\n",
       "       [0.77 ],\n",
       "       [0.608],\n",
       "       [0.597],\n",
       "       [0.607],\n",
       "       [0.614],\n",
       "       [0.698],\n",
       "       [0.531],\n",
       "       [0.56 ],\n",
       "       [0.606],\n",
       "       [0.648],\n",
       "       [0.563],\n",
       "       [0.587],\n",
       "       [0.536],\n",
       "       [0.651],\n",
       "       [0.643],\n",
       "       [0.541],\n",
       "       [0.546],\n",
       "       [0.625],\n",
       "       [0.535],\n",
       "       [0.594],\n",
       "       [0.761],\n",
       "       [0.644],\n",
       "       [0.607],\n",
       "       [0.601],\n",
       "       [0.585],\n",
       "       [0.705],\n",
       "       [0.753],\n",
       "       [0.548],\n",
       "       [0.575],\n",
       "       [0.552],\n",
       "       [0.629],\n",
       "       [0.644],\n",
       "       [0.593],\n",
       "       [0.537],\n",
       "       [0.584],\n",
       "       [0.588],\n",
       "       [0.539],\n",
       "       [0.532],\n",
       "       [0.596],\n",
       "       [0.589],\n",
       "       [0.678],\n",
       "       [0.568],\n",
       "       [0.63 ],\n",
       "       [0.626],\n",
       "       [0.543],\n",
       "       [0.54 ],\n",
       "       [0.569],\n",
       "       [0.636],\n",
       "       [0.542],\n",
       "       [0.589],\n",
       "       [0.593],\n",
       "       [0.587],\n",
       "       [0.566],\n",
       "       [0.592],\n",
       "       [0.557],\n",
       "       [0.541],\n",
       "       [0.553],\n",
       "       [0.56 ],\n",
       "       [0.536],\n",
       "       [0.623],\n",
       "       [0.609],\n",
       "       [0.547],\n",
       "       [0.553],\n",
       "       [0.55 ],\n",
       "       [0.545]])"
      ]
     },
     "execution_count": 20,
     "metadata": {},
     "output_type": "execute_result"
    }
   ],
   "source": [
    "np_output = 1/(1+np.exp(-output_z))\n",
    "np_output"
   ]
  },
  {
   "cell_type": "markdown",
   "metadata": {},
   "source": [
    "### (6) keras 결과와 비교하기"
   ]
  },
  {
   "cell_type": "markdown",
   "metadata": {},
   "source": [
    "numpy에서 제공하는 testing 모듈을 통해 keras와 numpy를 이용해 만든 각각의 결과를 비교해보도록 하겠습니다. 아래 코드를 동작했을 때 아무 문제없이 작동하면 두 결과가 거의 일치하는 것이고, 그렇지 않다면 오류 메시지를 반환할 것입니다."
   ]
  },
  {
   "cell_type": "code",
   "execution_count": 21,
   "metadata": {},
   "outputs": [],
   "source": [
    "keras_output = model.predict(cancer_df[['age','tumor_size']])\n",
    "np.testing.assert_array_almost_equal(np_output, keras_output)"
   ]
  },
  {
   "cell_type": "markdown",
   "metadata": {},
   "source": [
    "#  \n",
    "\n",
    "---\n",
    "\n",
    "    Copyright(c) 2019 by Public AI. All rights reserved.\n",
    "    Writen by PAI, SangJae Kang ( rocketgrowthsj@publicai.co.kr )  last updated on 2019/09/16\n",
    "\n",
    "\n",
    "---"
   ]
  }
 ],
 "metadata": {
  "kernelspec": {
   "display_name": "Python 3",
   "language": "python",
   "name": "python3"
  },
  "language_info": {
   "codemirror_mode": {
    "name": "ipython",
    "version": 3
   },
   "file_extension": ".py",
   "mimetype": "text/x-python",
   "name": "python",
   "nbconvert_exporter": "python",
   "pygments_lexer": "ipython3",
   "version": "3.6.6"
  },
  "toc": {
   "base_numbering": 1,
   "nav_menu": {},
   "number_sections": false,
   "sideBar": true,
   "skip_h1_title": false,
   "title_cell": "Table of Contents",
   "title_sidebar": "Contents",
   "toc_cell": false,
   "toc_position": {},
   "toc_section_display": true,
   "toc_window_display": false
  },
  "varInspector": {
   "cols": {
    "lenName": 16,
    "lenType": 16,
    "lenVar": 40
   },
   "kernels_config": {
    "python": {
     "delete_cmd_postfix": "",
     "delete_cmd_prefix": "del ",
     "library": "var_list.py",
     "varRefreshCmd": "print(var_dic_list())"
    },
    "r": {
     "delete_cmd_postfix": ") ",
     "delete_cmd_prefix": "rm(",
     "library": "var_list.r",
     "varRefreshCmd": "cat(var_dic_list()) "
    }
   },
   "types_to_exclude": [
    "module",
    "function",
    "builtin_function_or_method",
    "instance",
    "_Feature"
   ],
   "window_display": false
  }
 },
 "nbformat": 4,
 "nbformat_minor": 4
}
