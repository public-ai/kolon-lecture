{
 "cells": [
  {
   "cell_type": "markdown",
   "metadata": {},
   "source": [
    "<i><b>Public AI</b></i>\n",
    "<br>\n",
    "# 신경망의 순전파\n",
    "\n",
    "### _Objective_\n",
    "1. **Feedforward Network**: Feedforward Network가 무엇인지 알아봅니다.<br>\n",
    "2. **Feedforward with Keras**: Keras를 사용해 feedforward 모델을 모델링해봅니다.<br>\n",
    "3. **Feedforward with Numpy**: Numpy를 사용해 간단하게 순전파 수식을 구현해 봅니다.<br>"
   ]
  },
  {
   "cell_type": "code",
   "execution_count": null,
   "metadata": {},
   "outputs": [],
   "source": [
    "%matplotlib inline\n",
    "\n",
    "import os\n",
    "import numpy as np\n",
    "import pandas as pd\n",
    "\n",
    "import matplotlib.pyplot as plt\n",
    "from tensorflow.keras.utils import get_file\n",
    "\n",
    "np.set_printoptions(3)"
   ]
  },
  {
   "cell_type": "markdown",
   "metadata": {},
   "source": [
    "# \\[ 1. Feedforward Network \\]\n",
    "\n",
    "순전파(Feedforward)란 신경망에서 입력층부터 출력층까지 각 층을 거쳐가며 신호가 타고넘어가는 일련의 과정을 뜻합니다. 입력층부터 출력층까지 앞에서 뒤로 신호가 타고 넘어가 '순전파'라는 이름이 붙었습니다. Keras와 Numpy를 이용해 구현해보겠습니다."
   ]
  },
  {
   "cell_type": "markdown",
   "metadata": {},
   "source": [
    "## 1. 유닛 단위의 순전파 연산\n",
    "\n",
    "순전파에서 유닛의 연산은 아래의 두 단계로 이루어져 있습니다. 각층에서 입력값을 수합하는 로짓과, 해당 로짓값에 따라 어떠한 시그널을 반환할지 결정하는 활성화 함수로 나누어져 있습니다.<br>\n",
    "\n",
    "1. 로짓(z)를 계산하는 부분 : <br>\n",
    "$\n",
    "z = w_0 + w_1x_1 + w_2x_2 + w_3x_3\\\\\n",
    "$\n",
    "\n",
    "2. 활성화 함수($\\sigma$)를 거치는 부분 : <br>\n",
    "$a = \\sigma(z) = \\frac{1}{1+e^{-z}}$\n",
    "\n",
    "<img src=\"https://i.imgur.com/26G8oSL.png\" width=\"600\" height=\"450\"/>\n",
    "\n"
   ]
  },
  {
   "cell_type": "markdown",
   "metadata": {},
   "source": [
    "## 2. 층 단위의 순전파 연산"
   ]
  },
  {
   "cell_type": "markdown",
   "metadata": {},
   "source": [
    "입력층과 은닉층(유닛 수, 활성화 함수 등)을 설정하는 방법을 살펴보았습니다. 그럼 이제 아래와 같이 생긴 2층 신경망을 처음부터 끝까지 구현하는 코드를 살펴봅시다.  \n",
    "\n",
    "<img src=\"https://i.imgur.com/T9jkFuv.png\" width=\"600\" height=\"450\"/><br>\n",
    "\n",
    "$$\n",
    "z1 = X\\cdot W1 + b1 \\\\\n",
    "a1 = \\sigma(z1) \\\\\n",
    "z2 = a1 \\cdot W2 + b2 \\\\\n",
    "\\hat y = \\sigma(z2)\n",
    "$$"
   ]
  },
  {
   "cell_type": "markdown",
   "metadata": {},
   "source": [
    "# \\[ 2. Keras로 Feedforward Network 구현하기 \\]"
   ]
  },
  {
   "cell_type": "markdown",
   "metadata": {},
   "source": [
    "### 예제 데이터 ) 암 환자 데이터 셋\n",
    "\n",
    "나이와 종양크기를 바탕으로 암 환자의 종양이 양성인지 음성인지를 분류하는 데이터셋입니다."
   ]
  },
  {
   "cell_type": "code",
   "execution_count": null,
   "metadata": {
    "scrolled": false
   },
   "outputs": [],
   "source": [
    "fpath = get_file(\"cancer_dataset.csv\",\n",
    "                 \"https://s3.ap-northeast-2.amazonaws.com/pai-datasets/alai-deeplearning/cancer_dataset.csv\")\n",
    "cancer_df = pd.read_csv(fpath)\n",
    "X = cancer_df[['age','tumor_size']]\n",
    "y = cancer_df[\"label\"]\n",
    "\n",
    "X = (X - X.min()) / (X.max() - X.min())\n",
    "\n",
    "### 데이터 시각화\n",
    "fig = plt.figure(figsize=(7,7))\n",
    "ax = fig.add_subplot(1,1,1)\n",
    "\n",
    "# 0: 정상\n",
    "X[y==0].plot('age','tumor_size',ax=ax,legend=True,\n",
    "                           kind='scatter',color='red')\n",
    "# 1: 암환자\n",
    "X[y==1].plot('age','tumor_size',ax=ax,legend=True,\n",
    "                           kind='scatter',color='green')\n",
    "plt.legend(['Normal','Cancer'])\n",
    "plt.title(\"Cancer Or Not\")\n",
    "plt.show()"
   ]
  },
  {
   "cell_type": "markdown",
   "metadata": {},
   "source": [
    "### (1) Input 설정하기\n",
    "\n",
    "신경망의 Input Layer에 넣을 입력 신호를 설정하기 위해 keras에서는 `keras.layers.Input` API를 지원합니다."
   ]
  },
  {
   "cell_type": "code",
   "execution_count": null,
   "metadata": {},
   "outputs": [],
   "source": [
    "from tensorflow.keras.layers import Input"
   ]
  },
  {
   "cell_type": "markdown",
   "metadata": {},
   "source": [
    "위 예제 데이터에서 입력 데이터 `X`는 나이(age)와 종양의 크기(tumor_size)로 구성됩니다. "
   ]
  },
  {
   "cell_type": "code",
   "execution_count": null,
   "metadata": {
    "scrolled": true
   },
   "outputs": [],
   "source": [
    "inputs = # TODO\n",
    "display(inputs)"
   ]
  },
  {
   "cell_type": "markdown",
   "metadata": {},
   "source": [
    "그런데 `display(inputs)`로 입력층의 내용을 출력해보면 `shape=(None, 2)`라고 확인됩니다. 여기서 None은 무슨 의미일까요? "
   ]
  },
  {
   "cell_type": "markdown",
   "metadata": {},
   "source": [
    "이전 Section에서 말했듯이 keras에서는 첫번째 축이 Batch 축으로 세팅되어 있으며, 따로 설정해 주지 않으면 None을 반환합니다. 위 예제에서 Batch 축을 따로 세팅하지 않았으므로, 입력층의 shape이 `(None,2)`가 됨을 볼 수 있습니다. \n",
    "\n",
    "데이터를 하나로 묶은 입력 데이터를 **배치(Batch)**라고 하는데, None은 입력한 데이터 전체를 하나로 묶어 처리한다는 뜻입니다. 위 예제에서는 batch를 따로 설정하지 않았기 때문에 100명 분의 데이터가 전부 한 번에 처리가 될 것입니다. batch를 10, 50 등으로 설정하면 10명, 50명 분의 데이터가 하나의 batch로 묶여서 돌아가게 됩니다.\n",
    "\n",
    "배치 처리를 수행함으로써 컴퓨터는 큰 배열로 이루어진 계산을 하게 되는데, 컴퓨터에서는 큰 배열을 한꺼번에 계산하는 것이 분할된 작은 배열을 여러 번 계산하는 것보다 빠릅니다. 덕분에 배치 처리를 하게 되면, 환자 한 명의 정보를 처리하는 것보다, 환자 한 명당 처리 시간이 대폭 줄어드는 이득을 얻을 수 있습니다."
   ]
  },
  {
   "cell_type": "markdown",
   "metadata": {},
   "source": [
    "### (2) 가중치(weight)와 편향(bias) 생성하기\n",
    "\n",
    "입력층이 설정되었습니다. 앞서 예로 든 것처럼 10개 유닛으로 구성된 1번 층을 만들어 2층 신경망을 구성하게 되면, 학습해야 하는 가중치와 편향에는 ($w_1$,$b_1$,$w_2$,$b_2$) 등이 있습니다. keras에서는 가중치를 계산하며 층을 쌓을 때는 `keras.layers.Dense` API를 이용합니다."
   ]
  },
  {
   "cell_type": "code",
   "execution_count": null,
   "metadata": {},
   "outputs": [],
   "source": [
    "from tensorflow.keras.layers import Dense\n",
    "\n",
    "dense1 = # unit이 10개인 Dense 레이어 만들기\n",
    "dense1(inputs)"
   ]
  },
  {
   "cell_type": "markdown",
   "metadata": {},
   "source": [
    "dense1의 가중치 $w_1$와 편향$b_1$가 어떤 형태인지 확인해봅시다. "
   ]
  },
  {
   "cell_type": "code",
   "execution_count": null,
   "metadata": {},
   "outputs": [],
   "source": [
    "W, b = dense1.get_weights()\n",
    "print(f\"W >>> shape  : {W.shape}\")\n",
    "display(W)\n",
    "\n",
    "print(f\"b >>> shape  : {b.shape}\")\n",
    "display(b)"
   ]
  },
  {
   "cell_type": "markdown",
   "metadata": {},
   "source": [
    "위 내용을 보면, 입력 데이터의 크기에 맞게 자동으로 가중치(`W`와 `b`)가 생성되어 있음을 알 수 있습니다.<br>\n",
    "입력 데이터에 피쳐가 2가지이고 유닛은 10개이므로, $w_1$는 (2, 10) 형태를 가지게 되었으며, $b_1$은 (10,)의 형태를 가지게 되었습니다. "
   ]
  },
  {
   "cell_type": "markdown",
   "metadata": {},
   "source": [
    "10개의 유닛으로 구성된 1번째 층이 생성되었으니, 입력신호를 `dense1`층에 통과시켜 보겠습니다."
   ]
  },
  {
   "cell_type": "code",
   "execution_count": null,
   "metadata": {},
   "outputs": [],
   "source": [
    "dense1_out = dense1(inputs)\n",
    "dense1_out"
   ]
  },
  {
   "cell_type": "markdown",
   "metadata": {},
   "source": [
    "이렇게 1번째 층을 통과하여 얻어진`dense1_out1`은 활성화 함수의 입력값이 될 것입니다. "
   ]
  },
  {
   "cell_type": "markdown",
   "metadata": {},
   "source": [
    "### (3) 활성화 함수 적용하기"
   ]
  },
  {
   "cell_type": "markdown",
   "metadata": {},
   "source": [
    "활성화 함수로 딥러닝에서 가장 많이 쓰이는 `relu`함수를 이용해 입력 신호의 총합을 출력 신호로 변환하겠습니다. ReLU 함수란 아래와 같습니다.\n",
    "\n",
    "$$\n",
    "RELU(x) = \\begin{cases} \n",
    "x && \\mbox{if x } \\ge 0 \\\\\n",
    "0 && \\mbox{if x } < 0 \\\\\n",
    "\\end{cases}\n",
    "$$\n"
   ]
  },
  {
   "cell_type": "markdown",
   "metadata": {},
   "source": [
    "0보다 작은 값을 받으면 0을 반환하고, 0보다 크거나 같은 값을 받으면 입력 값을 그대로 반환하는 형태입니다.\n",
    "\n",
    "앞서 `dense1`을 통과하여 얻은 `dense1_out`을 `relu`에 입력하면 0 또는`x`로 변환된 `relu_out`을 얻을 수 있습니다."
   ]
  },
  {
   "cell_type": "code",
   "execution_count": null,
   "metadata": {},
   "outputs": [],
   "source": [
    "from tensorflow.keras.activations import relu\n",
    "relu1_out = relu(dense1_out)\n",
    "relu1_out"
   ]
  },
  {
   "cell_type": "markdown",
   "metadata": {},
   "source": [
    "실제 신경망을 구성할 때는 층을 구성할 때 `activation`이라는 인자를 이용해 활성화 함수를 설정할 수 있습니다. 가령 1번째 층에서 유닛을 10개로 설정하고, 활성화 함수는 `relu`로 설정하려면 아래와 같이 설정하면 됩니다."
   ]
  },
  {
   "cell_type": "code",
   "execution_count": null,
   "metadata": {},
   "outputs": [],
   "source": [
    "dense1 = Dense(10, activation='relu', name='hidden')\n",
    "dense1_output = dense1(inputs)"
   ]
  },
  {
   "cell_type": "markdown",
   "metadata": {},
   "source": [
    "### (4) 2층 신경망 구현하기\n",
    "\n",
    "입력층과 은닉층(유닛 수, 활성화 함수 등)을 설정하는 방법을 살펴보았습니다. 그럼 이제 아래와 같이 생긴 2층 신경망을 처음부터 끝까지 구현하는 코드를 살펴봅시다.  \n",
    "\n",
    "<img src=\"https://i.imgur.com/T9jkFuv.png\" width=\"600\" height=\"450\"/><br>\n",
    "\n",
    "$$\n",
    "z1 = X\\cdot W1 + b1 \\\\\n",
    "a1 = relu(z1) \\\\\n",
    "z2 = a1 \\cdot W2 + b2 \\\\\n",
    "\\hat y = \\frac{1}{1+e^{-z2}}\n",
    "$$\n",
    "\n",
    "keras에서는 keras의 함수형 API를 사용할 때, input과 output을 지정해주면 신경망의 흐름대로 모델을 생성하는 `keras.models.Model` API를 지원합니다. `Model`에 입력층과 출력층을 인자로 입력하면 신경망 모델이 생성됩니다."
   ]
  },
  {
   "cell_type": "code",
   "execution_count": null,
   "metadata": {},
   "outputs": [],
   "source": [
    "from tensorflow.keras.models import Model\n",
    "\n",
    "# 신경망 구현\n",
    "#\n",
    "#\n",
    "#\n",
    "\n",
    "# 신경망 모델 생성\n",
    "model = Model(inputs, output, name='train')"
   ]
  },
  {
   "cell_type": "markdown",
   "metadata": {},
   "source": [
    "### (5) 신경망에 대한 정보 확인하기"
   ]
  },
  {
   "cell_type": "markdown",
   "metadata": {},
   "source": [
    "keras에서는 `summary()`함수를 활용해 현재 생성된 모델에 대한 정보를 확인할 수 있습니다."
   ]
  },
  {
   "cell_type": "code",
   "execution_count": null,
   "metadata": {
    "scrolled": true
   },
   "outputs": [],
   "source": [
    "model.summary()"
   ]
  },
  {
   "cell_type": "markdown",
   "metadata": {},
   "source": [
    "### (6) 모델 사용하기"
   ]
  },
  {
   "cell_type": "markdown",
   "metadata": {},
   "source": [
    "keras에서는 `model.predict(input_sample)`를 통해 입력값(input_sample)`X`가 model을 통과했을 때의 예측값(ouput prediction)을 얻을 수 있습니다. 여기서 얻은 예측값은 아직 최선의 가중치를 찾지 않은 초기 가중치 값을 통해 얻은 값이므로 오차율은 높을 수 있습니다."
   ]
  },
  {
   "cell_type": "code",
   "execution_count": null,
   "metadata": {
    "scrolled": true
   },
   "outputs": [],
   "source": [
    "model.predict(X)"
   ]
  },
  {
   "cell_type": "markdown",
   "metadata": {},
   "source": [
    "# \\[ 3. Numpy를 이용해 순전파 과정 진행하기 \\]\n",
    "\n",
    "Keras로 구현한 순전파 네트워크가 잘 돌아가는지, Keras에서 얻은 가중치 값을 가져와 Numpy 코드로 직접 수식을 구현하여 단계별로 얻어지는 값을 확인하고, 예측 결과 값을 비교해보겠습니다. 앞서 사용한 암환자 데이터셋을 이용해보겠습니다."
   ]
  },
  {
   "cell_type": "markdown",
   "metadata": {},
   "source": [
    "### (1) 가중치 가져오기"
   ]
  },
  {
   "cell_type": "markdown",
   "metadata": {},
   "source": [
    "keras에서는 `model.get_layer('layer_name').get_weights()`을 통해 모델 내 원하는 층의 가중치 값을 가져올 수 있습니다. 이는 class 또는 instance의 이동으로 다른 구조에서 가중치 값을 간단하게 공유할 수 있다는 점은 keras의 장점 중 하나입니다."
   ]
  },
  {
   "cell_type": "code",
   "execution_count": null,
   "metadata": {
    "scrolled": true
   },
   "outputs": [],
   "source": [
    "W1, B1 = model.get_layer('hidden').get_weights()\n",
    "W2, B2 = model.get_layer('output').get_weights()\n",
    "\n",
    "print(\"W1 >>>\")\n",
    "display(W1)\n",
    "print(\"B1 >>>\")\n",
    "display(B1)\n",
    "print(\"W2 >>>\")\n",
    "display(W2)\n",
    "print(\"B2 >>>\")\n",
    "display(B2)"
   ]
  },
  {
   "cell_type": "markdown",
   "metadata": {},
   "source": [
    "### (2) 순전파 수식 구현\n",
    "첫번째 층을 통과하는 과정을 살펴봅시다.\n",
    "\n",
    "<img src=\"https://i.imgur.com/o1SgBJZ.png\" width=\"600\" height=\"450\"/><br>"
   ]
  },
  {
   "cell_type": "markdown",
   "metadata": {},
   "source": [
    "위에 도식에서 입력 데이터 X가 가중치와 곱해진 결과값을 얻는 과정을 수식으로 나타내면 다음과 같습니다.\n",
    "\n",
    "$\n",
    "Z_1 = X \\cdot W_1 + B_1\n",
    "$\n",
    "\n",
    "이를 numpy 식으로 구현하면 아래와 같이 됩니다. "
   ]
  },
  {
   "cell_type": "code",
   "execution_count": null,
   "metadata": {},
   "outputs": [],
   "source": [
    "X = cancer_df[['age','tumor_size']].values\n",
    "hidden1 = #\n"
   ]
  },
  {
   "cell_type": "markdown",
   "metadata": {},
   "source": [
    "### (3) 활성화 함수 적용\n",
    "이렇게 입력값에 가중치를 곱해 얻은 $Z_1$, 즉`hidden1`에 `relu`활성화 함수를 적용해 보겠습니다.\n",
    "\n",
    "<img src=\"https://i.imgur.com/QVfBn7d.png\" width=\"600\" height=\"450\"/><br>"
   ]
  },
  {
   "cell_type": "markdown",
   "metadata": {},
   "source": [
    "$a_1 = RELU(z_1)$\n",
    "\n",
    "\n",
    "이를 numpy 식으로 구현하면 아래와 같이 됩니다. "
   ]
  },
  {
   "cell_type": "code",
   "execution_count": null,
   "metadata": {},
   "outputs": [],
   "source": [
    "hidden1_np_output = #"
   ]
  },
  {
   "cell_type": "markdown",
   "metadata": {},
   "source": [
    "### (4) 순전파 수식 구현\n",
    "두번째 layer를 통과하는 과정입니다.\n",
    "\n",
    "<img src=\"https://i.imgur.com/WKOjOg6.png\" width=\"600\" height=\"450\"/><br>"
   ]
  },
  {
   "cell_type": "markdown",
   "metadata": {},
   "source": [
    "첫 번째 층을 통과한 결과 값을 입력 값으로 받아 가중치 $W_2$와 곱하고, 편향 $b_2$를 더합니다. "
   ]
  },
  {
   "cell_type": "code",
   "execution_count": null,
   "metadata": {
    "scrolled": true
   },
   "outputs": [],
   "source": [
    "output_z = #"
   ]
  },
  {
   "cell_type": "markdown",
   "metadata": {},
   "source": [
    "### (5) 활성화 함수 적용\n",
    "최종적으로 두 번째 층의 결과값을 내기 위해 `output_z`에 `sigmoid`활성화 함수를 적용해 보겠습니다.\n",
    "<img src=\"https://i.imgur.com/9AceY76.png\" width=\"600\" height=\"450\"/><br>\n",
    "\n",
    "$$\n",
    "sigmoid(x) = \\frac{1}{1+e^{-x}}\n",
    "$$"
   ]
  },
  {
   "cell_type": "code",
   "execution_count": null,
   "metadata": {
    "scrolled": true
   },
   "outputs": [],
   "source": [
    "np_output = #\n",
    "np_output"
   ]
  },
  {
   "cell_type": "markdown",
   "metadata": {},
   "source": [
    "### (6) keras 결과와 비교하기"
   ]
  },
  {
   "cell_type": "markdown",
   "metadata": {},
   "source": [
    "numpy에서 제공하는 testing 모듈을 통해 keras와 numpy를 이용해 만든 각각의 결과를 비교해보도록 하겠습니다. 아래 코드를 동작했을 때 아무 문제없이 작동하면 두 결과가 거의 일치하는 것이고, 그렇지 않다면 오류 메시지를 반환할 것입니다."
   ]
  },
  {
   "cell_type": "code",
   "execution_count": null,
   "metadata": {},
   "outputs": [],
   "source": [
    "keras_output = model.predict(cancer_df[['age','tumor_size']])\n",
    "np.testing.assert_array_almost_equal(np_output, keras_output)"
   ]
  },
  {
   "cell_type": "markdown",
   "metadata": {},
   "source": [
    "#  \n",
    "\n",
    "---\n",
    "\n",
    "    Copyright(c) 2019 by Public AI. All rights reserved.\n",
    "    Writen by PAI, SangJae Kang ( rocketgrowthsj@publicai.co.kr )  last updated on 2019/09/16\n",
    "\n",
    "\n",
    "---"
   ]
  }
 ],
 "metadata": {
  "kernelspec": {
   "display_name": "tf2.0",
   "language": "python",
   "name": "tf2.0"
  },
  "language_info": {
   "codemirror_mode": {
    "name": "ipython",
    "version": 3
   },
   "file_extension": ".py",
   "mimetype": "text/x-python",
   "name": "python",
   "nbconvert_exporter": "python",
   "pygments_lexer": "ipython3",
   "version": "3.6.8"
  },
  "toc": {
   "base_numbering": 1,
   "nav_menu": {},
   "number_sections": false,
   "sideBar": true,
   "skip_h1_title": false,
   "title_cell": "Table of Contents",
   "title_sidebar": "Contents",
   "toc_cell": false,
   "toc_position": {},
   "toc_section_display": true,
   "toc_window_display": false
  },
  "varInspector": {
   "cols": {
    "lenName": 16,
    "lenType": 16,
    "lenVar": 40
   },
   "kernels_config": {
    "python": {
     "delete_cmd_postfix": "",
     "delete_cmd_prefix": "del ",
     "library": "var_list.py",
     "varRefreshCmd": "print(var_dic_list())"
    },
    "r": {
     "delete_cmd_postfix": ") ",
     "delete_cmd_prefix": "rm(",
     "library": "var_list.r",
     "varRefreshCmd": "cat(var_dic_list()) "
    }
   },
   "types_to_exclude": [
    "module",
    "function",
    "builtin_function_or_method",
    "instance",
    "_Feature"
   ],
   "window_display": false
  }
 },
 "nbformat": 4,
 "nbformat_minor": 4
}
