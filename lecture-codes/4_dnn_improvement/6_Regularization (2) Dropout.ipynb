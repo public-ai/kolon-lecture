{
 "cells": [
  {
   "cell_type": "markdown",
   "metadata": {},
   "source": [
    "<i><b>Public AI</b></i>\n",
    "\n",
    "# Regularization (2) Dropout\n",
    "\n",
    "### _Objective_\n",
    "* 딥러닝에서 많이 이용하는 정규화 방법 중 하나인 Dropout에 대해 배워보도록 하겠습니다. <br>\n",
    "  "
   ]
  },
  {
   "cell_type": "code",
   "execution_count": 1,
   "metadata": {},
   "outputs": [],
   "source": [
    "%matplotlib inline\n",
    "import os\n",
    "import numpy as np\n",
    "\n",
    "import tensorflow as tf\n",
    "import matplotlib.pyplot as plt\n",
    "import time\n",
    "from tqdm import tqdm\n",
    "\n",
    "np.random.seed(30)\n",
    "tf.random.set_seed(30)"
   ]
  },
  {
   "cell_type": "markdown",
   "metadata": {},
   "source": [
    "## 예제 데이터 ) 기술투자 비율과 예상 수익률 데이터 셋\n",
    "\n",
    "기술 투자 비율과 예상 수익률에 대한 데이터셋입니다. <br>\n",
    "아래와 같이 랜덤으로 50개의 데이터셋을 만들고, Test 데이터셋은 노이즈를 주지 않았습니다.<br>\n",
    "데이터에 노이즈가 많고, 수가 적을 때 일반적으로 Overfitting이 발생하기 쉽습니다."
   ]
  },
  {
   "cell_type": "code",
   "execution_count": 32,
   "metadata": {},
   "outputs": [
    {
     "name": "stdout",
     "output_type": "stream",
     "text": [
      "train 데이터셋 크기 : 50\n",
      "test 데이터셋 크기 : 30\n"
     ]
    }
   ],
   "source": [
    "random_polynomial = lambda x : 3.5*x**3-4*x**2+x+0.5\n",
    "\n",
    "train_invests = np.random.uniform(0.05,0.9, 50)\n",
    "train_growths = np.array([random_polynomial(x)+np.random.normal(0,0.02) \n",
    "           for x in train_invests]) # 예상 수익률\n",
    "\n",
    "train_invests = train_invests.reshape(-1,1) \n",
    "train_growths = train_growths.reshape(-1,1) \n",
    "\n",
    "test_invests = np.linspace(0.05,0.9,30)\n",
    "test_growths = np.array([random_polynomial(x)\n",
    "                         for x in test_invests])\n",
    "\n",
    "test_invests = test_invests.reshape(-1,1)\n",
    "test_growths = test_growths.reshape(-1,1)\n",
    "\n",
    "print(\"train 데이터셋 크기 : {}\".format(len(train_invests)))\n",
    "print(\"test 데이터셋 크기 : {}\".format(len(test_invests)))"
   ]
  },
  {
   "cell_type": "code",
   "execution_count": 33,
   "metadata": {},
   "outputs": [
    {
     "data": {
      "image/png": "[encoded data removed]",
      "text/plain": [
       "<Figure size 720x576 with 1 Axes>"
      ]
     },
     "metadata": {
      "needs_background": "light"
     },
     "output_type": "display_data"
    }
   ],
   "source": [
    "plt.figure(figsize=(10,8))\n",
    "plt.scatter(train_invests, train_growths, s=3,label='train')\n",
    "plt.scatter(test_invests, test_growths, s=3,label='test')\n",
    "plt.title(\"R&D Investment ROI Plot\")\n",
    "plt.xlabel(\"R&D Investment Ratio\")\n",
    "plt.ylabel(\"growth ratio\")\n",
    "plt.legend()\n",
    "plt.show()"
   ]
  },
  {
   "cell_type": "markdown",
   "metadata": {},
   "source": [
    "<br><br>\n",
    "\n",
    "# \\[ 1. 드랍아웃이란? \\]\n",
    "\n",
    "----\n",
    "\n",
    "\n",
    "* 드랍아웃은 매우 간단한 아이디어로, 딥러닝 모델에 강력한 정규화 효과를 가져다 주는 알고리즘입니다."
   ]
  },
  {
   "cell_type": "markdown",
   "metadata": {},
   "source": [
    "## 1. 드랍아웃 알고리즘\n",
    "\n",
    "![Imgur](https://i.imgur.com/m9diJOx.png)\n",
    "\n",
    "드랍아웃 알고리즘은 매우 간단합니다. 매 훈련 스텝에서 각 유닛들은 p%확률로 꺼버리게 됩니다.<br>그리고 테스트를 하는 단계에서는 드롭아웃을 적용하지 않습니다."
   ]
  },
  {
   "cell_type": "markdown",
   "metadata": {},
   "source": [
    "<br>\n",
    "## 2. 직접 Keras Layer를 구현하여 이해하기\n",
    "\n",
    "\n",
    "* 놓치지 말아야할 것중 하나는 바로 훈련하는 동안에 각 뉴런의 출력을 보존 확률($1-p$)로 나누어야 합니다.<br>\n",
    "* 이를 통해, Test 때의 입력값의 크기와 Train 때의 입력값의 크기가 비슷하도록 만들어 줍니다.<br>"
   ]
  },
  {
   "cell_type": "markdown",
   "metadata": {},
   "source": [
    "### (1) dropout 레이어 구성하기 "
   ]
  },
  {
   "cell_type": "code",
   "execution_count": 72,
   "metadata": {},
   "outputs": [],
   "source": [
    "from tensorflow.keras.layers import Layer\n",
    "from tensorflow.keras import backend as K"
   ]
  },
  {
   "cell_type": "code",
   "execution_count": 74,
   "metadata": {},
   "outputs": [],
   "source": [
    "class NaiveDropout(Layer):\n",
    "    \"\"\"\n",
    "    직접 구현하기\n",
    "    \"\"\"\n",
    "    def __init__(self, drop_ratio=0.5, **kwargs):\n",
    "        self.drop_ratio = drop_ratio # 비율을 어떻게 \n",
    "        super().__init__(**kwargs)\n",
    "        \n",
    "    def call(self, inputs, training=None):            \n",
    "        if training:\n",
    "            self.mask = K.random_binomial(tf.shape(inputs),\n",
    "                                          1-self.drop_ratio)\n",
    "            self.out = self.mask * inputs * (1.0/(1-self.drop_ratio))\n",
    "        else:\n",
    "            self.out = inputs\n",
    "        return self.out"
   ]
  },
  {
   "cell_type": "markdown",
   "metadata": {},
   "source": [
    "### (2) Test 때와 Train 때의 동작 비교"
   ]
  },
  {
   "cell_type": "code",
   "execution_count": 75,
   "metadata": {},
   "outputs": [],
   "source": [
    "x = np.ones([10,124], np.float32)"
   ]
  },
  {
   "cell_type": "code",
   "execution_count": 76,
   "metadata": {},
   "outputs": [
    {
     "data": {
      "text/plain": [
       "<tf.Tensor: id=362, shape=(10, 124), dtype=float32, numpy=\n",
       "array([[0. , 0. , 2.5, ..., 0. , 0. , 2.5],\n",
       "       [0. , 2.5, 2.5, ..., 0. , 2.5, 0. ],\n",
       "       [2.5, 0. , 0. , ..., 2.5, 0. , 0. ],\n",
       "       ...,\n",
       "       [2.5, 2.5, 2.5, ..., 0. , 0. , 2.5],\n",
       "       [2.5, 0. , 0. , ..., 0. , 0. , 0. ],\n",
       "       [0. , 2.5, 0. , ..., 0. , 0. , 0. ]], dtype=float32)>"
      ]
     },
     "execution_count": 76,
     "metadata": {},
     "output_type": "execute_result"
    }
   ],
   "source": [
    "train_phase_out = NaiveDropout(drop_ratio=0.6)(x, training=True)\n",
    "train_phase_out"
   ]
  },
  {
   "cell_type": "code",
   "execution_count": 77,
   "metadata": {},
   "outputs": [
    {
     "data": {
      "text/plain": [
       "<tf.Tensor: id=363, shape=(10, 124), dtype=float32, numpy=\n",
       "array([[1., 1., 1., ..., 1., 1., 1.],\n",
       "       [1., 1., 1., ..., 1., 1., 1.],\n",
       "       [1., 1., 1., ..., 1., 1., 1.],\n",
       "       ...,\n",
       "       [1., 1., 1., ..., 1., 1., 1.],\n",
       "       [1., 1., 1., ..., 1., 1., 1.],\n",
       "       [1., 1., 1., ..., 1., 1., 1.]], dtype=float32)>"
      ]
     },
     "execution_count": 77,
     "metadata": {},
     "output_type": "execute_result"
    }
   ],
   "source": [
    "test_phase_out = Dropout(drop_ratio=0.6)(x, training=False)\n",
    "test_phase_out"
   ]
  },
  {
   "cell_type": "markdown",
   "metadata": {},
   "source": [
    "<br>\n",
    "## 3. Tensorflow에서의 동작 확인하기\n"
   ]
  },
  {
   "cell_type": "markdown",
   "metadata": {},
   "source": [
    "### (1) Training 때의 동작 확인하기"
   ]
  },
  {
   "cell_type": "code",
   "execution_count": 78,
   "metadata": {},
   "outputs": [],
   "source": [
    "from tensorflow.keras.layers import Dropout"
   ]
  },
  {
   "cell_type": "code",
   "execution_count": 79,
   "metadata": {},
   "outputs": [
    {
     "data": {
      "text/plain": [
       "<tf.Tensor: id=379, shape=(10, 124), dtype=float32, numpy=\n",
       "array([[0.       , 1.6666666, 1.6666666, ..., 1.6666666, 0.       ,\n",
       "        1.6666666],\n",
       "       [1.6666666, 1.6666666, 0.       , ..., 0.       , 1.6666666,\n",
       "        0.       ],\n",
       "       [1.6666666, 1.6666666, 1.6666666, ..., 1.6666666, 1.6666666,\n",
       "        0.       ],\n",
       "       ...,\n",
       "       [0.       , 1.6666666, 1.6666666, ..., 0.       , 1.6666666,\n",
       "        1.6666666],\n",
       "       [1.6666666, 0.       , 1.6666666, ..., 0.       , 1.6666666,\n",
       "        0.       ],\n",
       "       [1.6666666, 1.6666666, 1.6666666, ..., 1.6666666, 1.6666666,\n",
       "        0.       ]], dtype=float32)>"
      ]
     },
     "execution_count": 79,
     "metadata": {},
     "output_type": "execute_result"
    }
   ],
   "source": [
    "x = tf.ones([10,124],tf. float32)\n",
    "\n",
    "y = Dropout(rate=0.4)(x,training=True)\n",
    "y"
   ]
  },
  {
   "cell_type": "markdown",
   "metadata": {},
   "source": [
    "### (2) Test 때의 동작 확인하기"
   ]
  },
  {
   "cell_type": "code",
   "execution_count": 80,
   "metadata": {},
   "outputs": [
    {
     "data": {
      "text/plain": [
       "<tf.Tensor: id=382, shape=(10, 124), dtype=float32, numpy=\n",
       "array([[1., 1., 1., ..., 1., 1., 1.],\n",
       "       [1., 1., 1., ..., 1., 1., 1.],\n",
       "       [1., 1., 1., ..., 1., 1., 1.],\n",
       "       ...,\n",
       "       [1., 1., 1., ..., 1., 1., 1.],\n",
       "       [1., 1., 1., ..., 1., 1., 1.],\n",
       "       [1., 1., 1., ..., 1., 1., 1.]], dtype=float32)>"
      ]
     },
     "execution_count": 80,
     "metadata": {},
     "output_type": "execute_result"
    }
   ],
   "source": [
    "x = tf.ones([10,124],tf.float32)\n",
    "\n",
    "y = Dropout(rate=0.4)(x,training=False)\n",
    "y"
   ]
  },
  {
   "cell_type": "markdown",
   "metadata": {},
   "source": [
    "<br><br>\n",
    "\n",
    "# \\[ 2. 드랍아웃 적용하기 \\]\n",
    "\n",
    "----\n",
    "\n",
    "* 텐서플로우 내 Dropout을 이용하여 신경망에 적용해 보도록 하겠습니다.\n",
    "* 드롭아웃을 적용할 수 있는 모형이나 훈련 절차에 별 제한이 없어, 사용성이 매우 좋습니다."
   ]
  },
  {
   "cell_type": "markdown",
   "metadata": {},
   "source": [
    "<br>\n",
    "## 1. 드랍아웃을 포함한 그래프 구성하기"
   ]
  },
  {
   "cell_type": "code",
   "execution_count": 81,
   "metadata": {},
   "outputs": [],
   "source": [
    "from tensorflow.keras.layers import Input\n",
    "from tensorflow.keras.layers import Dense\n",
    "from tensorflow.keras.layers import Dropout\n",
    "from tensorflow.keras.initializers import he_normal, glorot_normal\n",
    "\n",
    "from tensorflow.keras.models import Model\n",
    "from tensorflow.keras.losses import MeanSquaredError\n",
    "from tensorflow.keras.metrics import RootMeanSquaredError\n",
    "from tensorflow.keras.optimizers import Adam"
   ]
  },
  {
   "cell_type": "code",
   "execution_count": 82,
   "metadata": {},
   "outputs": [],
   "source": [
    "num_hidden1 = 100 # 1번째 은닉층 unit 수\n",
    "num_hidden2 = 100 # 2번째 은닉층 unit 수\n",
    "\n",
    "x = Input((1,), name='x')\n",
    "hidden1 = Dense(num_hidden1, 'relu', kernel_initializer=he_normal())(x)\n",
    "hidden1 = Dropout(0.4)(hidden1)\n",
    "hidden2 = Dense(num_hidden2, 'relu', kernel_initializer=he_normal())(hidden1)\n",
    "hidden2 = Dropout(0.4)(hidden2)\n",
    "y_pred = Dense(1, kernel_initializer=glorot_normal())(hidden2)\n",
    "    \n",
    "model = Model(x, y_pred)\n",
    "    \n",
    "model.compile(Adam(1e-2),\n",
    "              loss=MeanSquaredError(),\n",
    "              metrics=[RootMeanSquaredError()])"
   ]
  },
  {
   "cell_type": "markdown",
   "metadata": {},
   "source": [
    "<br>\n",
    "## 2. 모델학습시키기\n",
    "\n",
    "* dropout은 train 상태일때와 test 상태일때 동작이 다릅니다. 이를 유의해서 사용해야 합니다.<br>"
   ]
  },
  {
   "cell_type": "code",
   "execution_count": 83,
   "metadata": {},
   "outputs": [
    {
     "name": "stdout",
     "output_type": "stream",
     "text": [
      "학습 총 소요 시간 ---- 37.593s\n"
     ]
    }
   ],
   "source": [
    "full_size = len(train_invests)\n",
    "batch_size = 10\n",
    "\n",
    "start_time = time.time()\n",
    "history = model.fit(train_invests,\n",
    "                    train_growths,\n",
    "                    batch_size=batch_size,\n",
    "                    epochs=28000*batch_size//full_size,\n",
    "                    verbose=0)\n",
    "\n",
    "consumed_time = time.time() - start_time # 학습에 총 걸린 시간\n",
    "print(\"학습 총 소요 시간 ---- {:.3f}s\".format(consumed_time))"
   ]
  },
  {
   "cell_type": "markdown",
   "metadata": {},
   "source": [
    "## 3. 결과 확인하기"
   ]
  },
  {
   "cell_type": "code",
   "execution_count": 84,
   "metadata": {},
   "outputs": [
    {
     "data": {
      "image/png": "[encoded data removed]",
      "text/plain": [
       "<Figure size 432x288 with 1 Axes>"
      ]
     },
     "metadata": {
      "needs_background": "light"
     },
     "output_type": "display_data"
    }
   ],
   "source": [
    "# 0부터 1까지 순서대로 1000개를 출력\n",
    "test_xs = np.linspace(0.1,0.9,1000)\n",
    "test_xs = test_xs.reshape(-1,1)\n",
    "pred_ys = model.predict(test_xs)\n",
    "\n",
    "plt.plot(test_invests, test_growths,label='test')\n",
    "plt.plot(test_xs,pred_ys,'r--',label='pred')\n",
    "plt.scatter(train_invests, train_growths, s=3, label='train')\n",
    "plt.title(\"R&D Investment ROI Prediction Plot\")\n",
    "plt.xlabel(\"R&D Invesetment Ratio\")\n",
    "plt.ylabel(\"ROI\")\n",
    "plt.legend()\n",
    "plt.show()"
   ]
  },
  {
   "cell_type": "markdown",
   "metadata": {},
   "source": [
    "<br>\n",
    "\n",
    "## 4. Dropout의 기술적 특징\n",
    "\n",
    "1. Dropout은 일종의 앙상블 기법으로 설명하기도 합니다.<br>\n",
    "    앙상블이란, 복수 개의 모델을 같이 이용해 결과를 계산하는 기법을 통칭합니다.<br>\n",
    "    Dropout은 일부 뉴런들을 꺼줌으로써, 부분 신경망(SubNetwork)를 구성하는 효과를 가집니다.<br>\n",
    "    \n",
    "2. Dropout은 한 유닛이 특정 input에만 의존하지 못하도록 만듭니다.<br>\n",
    "   모든 input 유닛 값에 주의를 기울이게 되므로, 입력 값의 작은 변화에 덜 민감해집니다."
   ]
  },
  {
   "cell_type": "markdown",
   "metadata": {},
   "source": [
    "#  \n",
    "\n",
    "---\n",
    "\n",
    "    Copyright(c) 2019 by Public AI. All rights reserved.<br>\n",
    "    Writen by PAI, SangJae Kang ( rocketgrowthsj@publicai.co.kr )  last updated on 2019/04/05\n",
    "\n",
    "---"
   ]
  }
 ],
 "metadata": {
  "kernelspec": {
   "display_name": "tf2.0",
   "language": "python",
   "name": "tf2.0"
  },
  "language_info": {
   "codemirror_mode": {
    "name": "ipython",
    "version": 3
   },
   "file_extension": ".py",
   "mimetype": "text/x-python",
   "name": "python",
   "nbconvert_exporter": "python",
   "pygments_lexer": "ipython3",
   "version": "3.6.8"
  },
  "toc": {
   "base_numbering": 1,
   "nav_menu": {},
   "number_sections": false,
   "sideBar": true,
   "skip_h1_title": false,
   "title_cell": "Table of Contents",
   "title_sidebar": "Contents",
   "toc_cell": false,
   "toc_position": {},
   "toc_section_display": true,
   "toc_window_display": false
  },
  "varInspector": {
   "cols": {
    "lenName": 16,
    "lenType": 16,
    "lenVar": 40
   },
   "kernels_config": {
    "python": {
     "delete_cmd_postfix": "",
     "delete_cmd_prefix": "del ",
     "library": "var_list.py",
     "varRefreshCmd": "print(var_dic_list())"
    },
    "r": {
     "delete_cmd_postfix": ") ",
     "delete_cmd_prefix": "rm(",
     "library": "var_list.r",
     "varRefreshCmd": "cat(var_dic_list()) "
    }
   },
   "types_to_exclude": [
    "module",
    "function",
    "builtin_function_or_method",
    "instance",
    "_Feature"
   ],
   "window_display": false
  }
 },
 "nbformat": 4,
 "nbformat_minor": 2
}
