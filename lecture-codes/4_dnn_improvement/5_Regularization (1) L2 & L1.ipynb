{
 "cells": [
  {
   "cell_type": "markdown",
   "metadata": {},
   "source": [
    "<i><b>Public AI</b></i>\n",
    "\n",
    "# Regularization (1) L2 & L1\n",
    "\n",
    "### _Objective_\n",
    "* Regularization 정규화에 대해 배워보도록 하겠습니다. <br>\n",
    "* 대표적인 Regularization 기법인 L1와 L2에 대해 배워보도록 하겠습니다. <br>\n",
    "  "
   ]
  },
  {
   "cell_type": "code",
   "execution_count": 3,
   "metadata": {},
   "outputs": [],
   "source": [
    "%matplotlib inline\n",
    "import os\n",
    "import numpy as np\n",
    "\n",
    "import tensorflow as tf\n",
    "import matplotlib.pyplot as plt\n",
    "import time\n",
    "from tqdm import tqdm"
   ]
  },
  {
   "cell_type": "markdown",
   "metadata": {},
   "source": [
    "## 예제 데이터 ) 기술투자 비율과 예상 수익률 데이터 셋\n",
    "\n",
    "기술 투자 비율과 예상 수익률에 대한 데이터셋입니다. <br>\n",
    "아래와 같이 랜덤으로 50개의 데이터셋을 만들고, Test 데이터셋은 노이즈를 주지 않았습니다.<br>\n",
    "데이터에 노이즈가 많고, 수가 적을 때 일반적으로 Overfitting이 발생하기 쉽습니다."
   ]
  },
  {
   "cell_type": "code",
   "execution_count": 4,
   "metadata": {},
   "outputs": [
    {
     "name": "stdout",
     "output_type": "stream",
     "text": [
      "train 데이터셋 크기 : 50\n",
      "test 데이터셋 크기 : 100\n"
     ]
    }
   ],
   "source": [
    "random_polynomial = lambda x : 3.5*x**3-4*x**2+x+0.5\n",
    "\n",
    "train_invests = np.random.uniform(0.05,0.9, 50)\n",
    "train_growths = np.array([random_polynomial(x)+np.random.normal(0,0.02) \n",
    "           for x in train_invests]) # 예상 수익률\n",
    "\n",
    "train_invests = train_invests.reshape(-1,1) \n",
    "train_growths = train_growths.reshape(-1,1) \n",
    "\n",
    "test_invests = np.linspace(0.05,0.9,100)\n",
    "test_growths = np.array([random_polynomial(x)\n",
    "                         for x in test_invests])\n",
    "\n",
    "test_invests = test_invests.reshape(-1,1)\n",
    "test_growths = test_growths.reshape(-1,1)\n",
    "\n",
    "print(\"train 데이터셋 크기 : {}\".format(len(train_invests)))\n",
    "print(\"test 데이터셋 크기 : {}\".format(len(test_invests)))"
   ]
  },
  {
   "cell_type": "code",
   "execution_count": 5,
   "metadata": {},
   "outputs": [
    {
     "data": {
      "image/png": "[encoded data removed]",
      "text/plain": [
       "<Figure size 720x576 with 1 Axes>"
      ]
     },
     "metadata": {
      "needs_background": "light"
     },
     "output_type": "display_data"
    }
   ],
   "source": [
    "plt.figure(figsize=(10,8))\n",
    "plt.scatter(train_invests, train_growths, s=3,label='train')\n",
    "plt.scatter(test_invests, test_growths, s=3,label='test')\n",
    "plt.title(\"R&D Investment ROI Plot\")\n",
    "plt.xlabel(\"R&D Investment Ratio\")\n",
    "plt.ylabel(\"growth ratio\")\n",
    "plt.legend()\n",
    "plt.show()"
   ]
  },
  {
   "cell_type": "markdown",
   "metadata": {},
   "source": [
    "<br><br>\n",
    "\n",
    "# \\[ 1. 정규화의 효과 \\]\n",
    "\n",
    "----\n",
    "\n",
    "머신러닝 모형에서 정규화란 아래의 의미를 가집니다.\n",
    "````\n",
    "Regularization is any modification we make to a learning algorithm\n",
    "that is intended to reduce its generalization error but not its training error.\n",
    "\n",
    "-IAN GoodFellow\n",
    "````\n",
    "우리는 학습 데이터셋에서만 잘 동작하는 머신러닝 모형이 아닌, 실제 환경에서도 잘 동작하는 모형을 만드는 것을 목표로 합니다. 학습 데이터를 충분하게 수집하는 것은 어렵기 때문에, 많은 경우 소수의 학습 데이터로 모델을 학습시키게 됩니다. 이 경우, 학습 데이터에서만 정확도, 혹은 성능이 매우 높게 나오고 실제 환경에서는 성능이 크게 떨어지는 현상이 발생하는데 이를 Overfitting, 과적합이라고 부릅니다. 또 이렇게 학습 데이터셋에서의 성능과 실제 상황에서의 성능 차이를 줄이는 것을 일반화(Generalization)라고 부릅니다.\n",
    "\n",
    "우리는 이렇게 일반화를 하기 위해, 다양한 정규화(Regularization) 방법을 이용합니다."
   ]
  },
  {
   "cell_type": "markdown",
   "metadata": {},
   "source": [
    "<br>\n",
    "## 1. 정규화 수식이 없는 인공 신경망\n",
    "\n",
    "* 데이터가 부족하거나, 노이즈가 많은 상황에서 인공 신경망은 쉽게 과적합이 될 수 있습니다.<br>"
   ]
  },
  {
   "cell_type": "markdown",
   "metadata": {},
   "source": [
    "### (1) 모델 구성하기\n",
    "\n",
    "* 3층짜리 신경망을 구성해보도록 하겠습니다.\n",
    "* 구성한 신경망을 통해 정규화에 따라 어떤식으로 바뀌는지 확인해보도록 하겠습니다."
   ]
  },
  {
   "cell_type": "code",
   "execution_count": 10,
   "metadata": {},
   "outputs": [],
   "source": [
    "from tensorflow.keras.layers import Input\n",
    "from tensorflow.keras.layers import Dense\n",
    "from tensorflow.keras.initializers import he_normal, glorot_normal\n",
    "\n",
    "from tensorflow.keras.models import Model\n",
    "from tensorflow.keras.losses import MeanSquaredError\n",
    "from tensorflow.keras.metrics import RootMeanSquaredError\n",
    "from tensorflow.keras.optimizers import Adam\n",
    "\n",
    "np.random.seed(30)\n",
    "if \"set_random_seed\" in dir(tf.random):\n",
    "    tf.random.set_random_seed(30)\n",
    "else:\n",
    "    tf.random.set_seed(30)"
   ]
  },
  {
   "cell_type": "code",
   "execution_count": 11,
   "metadata": {},
   "outputs": [],
   "source": [
    "num_hidden1 = 50 # 1번째 은닉층 unit 수\n",
    "num_hidden2 = 50 # 2번째 은닉층 unit 수\n",
    "\n",
    "x = Input((1,), name='x')\n",
    "hidden1 = Dense(num_hidden1, 'relu', \n",
    "                kernel_initializer=he_normal())(x)\n",
    "hidden2 = Dense(num_hidden2, 'relu', \n",
    "                kernel_initializer=he_normal())(hidden1)\n",
    "y_pred = Dense(1, kernel_initializer=glorot_normal())(hidden2)\n",
    "    \n",
    "model = Model(x, y_pred)\n",
    "    \n",
    "model.compile(Adam(1e-2),\n",
    "              loss=MeanSquaredError(),\n",
    "              metrics=[RootMeanSquaredError()])"
   ]
  },
  {
   "cell_type": "markdown",
   "metadata": {},
   "source": [
    "### (2) 구성한 모델 학습하기 \n",
    "\n",
    "작은 데이터셋에서 epoch을 10000번하는 것은 과적합이 발생하기 쉽습니다.<br>\n",
    "과적합 현상을 이해하기 위해 과하게 적합하도록 하겠습니다."
   ]
  },
  {
   "cell_type": "code",
   "execution_count": 13,
   "metadata": {},
   "outputs": [
    {
     "name": "stdout",
     "output_type": "stream",
     "text": [
      "학습 총 소요 시간 ---- 26.657s\n"
     ]
    }
   ],
   "source": [
    "start_time = time.time()\n",
    "history = model.fit(train_invests,\n",
    "                    train_growths,\n",
    "                    epochs=10000,\n",
    "                    verbose=0)\n",
    "\n",
    "consumed_time = time.time() - start_time # 학습에 총 걸린 시간\n",
    "print(\"학습 총 소요 시간 ---- {:.3f}s\".format(consumed_time))"
   ]
  },
  {
   "cell_type": "markdown",
   "metadata": {},
   "source": [
    "### (3) 결과 확인하기"
   ]
  },
  {
   "cell_type": "code",
   "execution_count": 15,
   "metadata": {},
   "outputs": [
    {
     "data": {
      "image/png": "[encoded data removed]",
      "text/plain": [
       "<Figure size 432x288 with 1 Axes>"
      ]
     },
     "metadata": {
      "needs_background": "light"
     },
     "output_type": "display_data"
    }
   ],
   "source": [
    "# 0부터 1까지 순서대로 1000개를 출력\n",
    "test_xs = np.linspace(0.1,0.9,1000)\n",
    "test_xs = test_xs.reshape(-1,1)\n",
    "pred_ys = model.predict(test_xs)\n",
    "\n",
    "plt.plot(test_xs,pred_ys,'r--',label='pred')\n",
    "plt.plot(test_invests, test_growths,label='We Want')\n",
    "plt.scatter(train_invests, train_growths, s=3, label='train')\n",
    "plt.title(\"R&D Investment ROI Prediction Plot\")\n",
    "plt.xlabel(\"R&D Invesetment Ratio\")\n",
    "plt.ylabel(\"ROI\")\n",
    "plt.legend()\n",
    "plt.show()"
   ]
  },
  {
   "cell_type": "markdown",
   "metadata": {},
   "source": [
    "<br>\n",
    "## 2. L2 정규화\n",
    "\n",
    "* 신경망이 데이터를 과적합하는 문제가 발견되었을 때에는 보통 정규화를 적용합니다.<br>\n",
    "* 가장 대표적인 정규화에는 매개변수의 제곱항을 추가하는 L2 정규화입니다.<br>\n",
    "* 선형회귀에 L2 정규화를 취해준 모델을 보통 Ridge 선형회귀라고 부릅니다.\n"
   ]
  },
  {
   "cell_type": "markdown",
   "metadata": {},
   "source": [
    "### (1) L2 정규화 수식\n",
    "\n",
    "L2 정규화란, 손실함수에 매개변수의 제곱항을 추가한 것입니다.<br>\n",
    "\n",
    "$$\n",
    "\\mbox{손실함수 : } J(w,b) = \\frac{1}{m}\\sum^{m}_{i=1}L(\\hat y^{(i)},y^{(i)}) + \\frac{\\lambda}{2m}||w||^2\\\\\n",
    "$$\n",
    "추가된 항을 보통 L2 Norm, 혹은 Frobenius 노름이라고 부릅니다.<br>\n",
    "위의 항을 추가하면, 손실함수의 Gradient 식에 변화가 생깁니다.<br>\n",
    "\n",
    "$$\n",
    "dW^{[L]} = \\mbox{(기존의 역전파로 온 값)} + \\frac{\\lambda}{m}W^{[L]}\n",
    "$$\n",
    "이를 Gradient Descent 수식에 적용하면 수식이 아래와 같이 변형됩니다.<br>\n",
    "$$\n",
    "W_{new}^{[L]} = W^{[L]} - \\alpha*dW\\\\\n",
    "W_{new}^{[L]} = W^{[L]} - \\alpha*(\\mbox{(기존의 역전파로 온 값)} + \\frac{\\lambda}{m}W^{[L]})\\\\\n",
    "W_{new}^{[L]} = (1-\\frac{\\alpha \\lambda}{m})W^{[L]} - \\alpha*(\\mbox{(기존의 역전파로 온 값)}\n",
    "$$\n",
    "\n",
    "L2 정규화를 취해주게 되면 언제나 Weight값이 좀 더 줄어드는 효과가 생깁니다.<br>\n",
    "그렇기 때문에 L2 정규화는 다른 말로 Weight decay라고도 불립니다."
   ]
  },
  {
   "cell_type": "markdown",
   "metadata": {},
   "source": [
    "### (2) L2 정규화를 케라스에서 구현하기\n",
    "\n",
    "모든 Weight의 제곱합이 필요합니다. 이를 구현하면 아래와 같이 작성할 수 있습니다."
   ]
  },
  {
   "cell_type": "code",
   "execution_count": 33,
   "metadata": {},
   "outputs": [],
   "source": [
    "num_hidden1 = 50 # 1번째 은닉층 unit 수\n",
    "num_hidden2 = 50 # 2번째 은닉층 unit 수\n",
    "beta = 0.0005\n",
    "\n",
    "x = Input((1,), name='x')\n",
    "hidden1 = Dense(num_hidden1, 'relu', \n",
    "                kernel_initializer=he_normal(), name='hidden1')(x)\n",
    "hidden2 = Dense(num_hidden2, 'relu', kernel_initializer=he_normal(), name='hidden2')(hidden1)\n",
    "y_pred = Dense(1, kernel_initializer=glorot_normal(), name='output')(hidden2)\n",
    "model = Model(x, y_pred)\n",
    "\n",
    "l2_loss = tf.add_n([beta*tf.reduce_sum(variable**2)/2. for variable in model.variables])\n",
    "model.add_loss(lambda: l2_loss)    \n",
    "\n",
    "model.compile(Adam(1e-2),\n",
    "              loss=[MeanSquaredError()],\n",
    "              metrics=[RootMeanSquaredError()])"
   ]
  },
  {
   "cell_type": "markdown",
   "metadata": {},
   "source": [
    "L2 정규화의 경우, API를 이용하여 작성하면 아래와 같이 작성할 수 있습니다."
   ]
  },
  {
   "cell_type": "code",
   "execution_count": 34,
   "metadata": {},
   "outputs": [],
   "source": [
    "from tensorflow.keras.regularizers import l2\n",
    "\n",
    "num_hidden1 = 50 # 1번째 은닉층 unit 수\n",
    "num_hidden2 = 50 # 2번째 은닉층 unit 수\n",
    "beta = 0.0005\n",
    "\n",
    "x = Input((1,), name='x')\n",
    "hidden1 = Dense(num_hidden1, 'relu', kernel_initializer=he_normal(), \n",
    "                kernel_regularizer=l2(beta), name='hidden1')(x)\n",
    "hidden2 = Dense(num_hidden2, 'relu', kernel_initializer=he_normal(), \n",
    "                kernel_regularizer=l2(beta), name='hidden2')(hidden1)\n",
    "y_pred = Dense(1, kernel_initializer=glorot_normal(), \n",
    "               kernel_regularizer=l2(beta), name='output')(hidden2)\n",
    "model = Model(x, y_pred)\n",
    "\n",
    "model.compile(Adam(1e-2),\n",
    "              loss=[MeanSquaredError()],\n",
    "              metrics=[RootMeanSquaredError()])"
   ]
  },
  {
   "cell_type": "markdown",
   "metadata": {},
   "source": [
    "### (3) 구성한 모델 학습하기 "
   ]
  },
  {
   "cell_type": "code",
   "execution_count": 35,
   "metadata": {},
   "outputs": [
    {
     "name": "stdout",
     "output_type": "stream",
     "text": [
      "학습 총 소요 시간 ---- 27.195s\n"
     ]
    }
   ],
   "source": [
    "start_time = time.time()\n",
    "history = model.fit(train_invests,\n",
    "                    train_growths,\n",
    "                    epochs=10000,\n",
    "                    verbose=0)\n",
    "\n",
    "consumed_time = time.time() - start_time # 학습에 총 걸린 시간\n",
    "print(\"학습 총 소요 시간 ---- {:.3f}s\".format(consumed_time))"
   ]
  },
  {
   "cell_type": "markdown",
   "metadata": {},
   "source": [
    "### (4) 결과 확인하기 "
   ]
  },
  {
   "cell_type": "code",
   "execution_count": 36,
   "metadata": {},
   "outputs": [
    {
     "data": {
      "image/png": "[encoded data removed]",
      "text/plain": [
       "<Figure size 432x288 with 1 Axes>"
      ]
     },
     "metadata": {
      "needs_background": "light"
     },
     "output_type": "display_data"
    }
   ],
   "source": [
    "# 0부터 1까지 순서대로 1000개를 출력\n",
    "test_xs = np.linspace(0.1,0.9,1000)\n",
    "test_xs = test_xs.reshape(-1,1)\n",
    "pred_ys = model.predict(test_xs)\n",
    "\n",
    "\n",
    "plt.plot(test_invests, test_growths,label='test')\n",
    "plt.plot(test_xs,pred_ys,'r--',label='pred')\n",
    "plt.scatter(train_invests, train_growths, s=3,label='train')\n",
    "plt.title(\"R&D Investment ROI Prediction Plot\")\n",
    "plt.xlabel(\"R&D Invesetment Ratio\")\n",
    "plt.ylabel(\"ROI\")\n",
    "plt.legend()\n",
    "plt.show()"
   ]
  },
  {
   "cell_type": "markdown",
   "metadata": {},
   "source": [
    "<br>\n",
    "## 3. L1 정규화\n",
    "\n",
    "* 매개변수의 절대값을 추가하는 L1 정규화입니다.<br>\n",
    "* L1 정규화는 수학적으로는 깔끔한 대수적 해가 존재하지 않을 수 있지만, 좀 더 모델이 Noise에 강건하게 만들어준다고 합니다.<br>\n",
    "* 선형회귀에 L1 정규화를 취해준 모델을 보통 Lasso 선형회귀라고 부릅니다.\n"
   ]
  },
  {
   "cell_type": "markdown",
   "metadata": {},
   "source": [
    "### (1) L1 정규화 수식\n",
    "\n",
    "L2 정규화란, 손실함수에 매개변수의 절대값을 추가한 것입니다.<br>"
   ]
  },
  {
   "cell_type": "markdown",
   "metadata": {},
   "source": [
    "$$\n",
    "\\mbox{손실함수 : } J(w,b) = \\frac{1}{m}\\sum^{m}_{i=1}L(\\hat y^{(i)},y^{(i)}) + \\frac{\\lambda}{2m}||w||\\\\\n",
    "$$\n",
    "추가된 항을 보통 L1 Norm이라고 부릅니다.<br>\n",
    "위의 항을 추가하면, 손실함수의 Gradient 식에 변화가 생깁니다.<br>\n",
    "\n",
    "$$\n",
    "dW^{[L]} = \\mbox{(기존의 역전파로 온 값)} + \\frac{\\lambda}{m}sign(W)\n",
    "$$\n",
    "\n",
    "L2 정규화와 달리, Weight의 크기에 비례하지 않고, 단순히 Weight의 부호에 의해 결정됩니다.<br>\n",
    "이 항의 추가로 인해, 0으로 되도 좋은 weight들을 0으로 만드는 효과를 발생합니다.<br>\n",
    "그래서 L1 정규화는 주로, 특징 선택을 위한 하나의 수단으로도 이용되어 왔습니다.\n",
    "\n"
   ]
  },
  {
   "cell_type": "markdown",
   "metadata": {},
   "source": [
    "### (2) L1 정규화를 케라스에서 구현하기\n",
    "\n",
    "모든 Weight의 절대값이 필요합니다. 이를 구현하면 아래와 같이 작성할 수 있습니다."
   ]
  },
  {
   "cell_type": "code",
   "execution_count": 41,
   "metadata": {},
   "outputs": [],
   "source": [
    "num_hidden1 = 50 # 1번째 은닉층 unit 수\n",
    "num_hidden2 = 50 # 2번째 은닉층 unit 수\n",
    "beta = 0.0002\n",
    "\n",
    "x = Input((1,), name='x')\n",
    "hidden1 = Dense(num_hidden1, 'relu', kernel_initializer=he_normal(), name='hidden1')(x)\n",
    "hidden2 = Dense(num_hidden2, 'relu', kernel_initializer=he_normal(), name='hidden2')(hidden1)\n",
    "y_pred = Dense(1, kernel_initializer=glorot_normal(), name='output')(hidden2)\n",
    "model = Model(x, y_pred)\n",
    "\n",
    "l1_loss = tf.add_n([beta*tf.reduce_sum(tf.abs(variable))/2. for variable in model.variables])\n",
    "model.add_loss(lambda: l1_loss)    \n",
    "\n",
    "model.compile(Adam(1e-2),\n",
    "              loss=[MeanSquaredError()],\n",
    "              metrics=[RootMeanSquaredError()])"
   ]
  },
  {
   "cell_type": "markdown",
   "metadata": {},
   "source": [
    "L1 정규화의 경우, API를 이용하여 작성하면 아래와 같이 작성할 수 있습니다."
   ]
  },
  {
   "cell_type": "code",
   "execution_count": 42,
   "metadata": {},
   "outputs": [],
   "source": [
    "from tensorflow.keras.regularizers import l1\n",
    "\n",
    "num_hidden1 = 50 # 1번째 은닉층 unit 수\n",
    "num_hidden2 = 50 # 2번째 은닉층 unit 수\n",
    "beta = 0.0002\n",
    "\n",
    "x = Input((1,), name='x')\n",
    "hidden1 = Dense(num_hidden1, 'relu', kernel_initializer=he_normal(), \n",
    "                kernel_regularizer=l1(beta), name='hidden1')(x)\n",
    "hidden2 = Dense(num_hidden2, 'relu', kernel_initializer=he_normal(), \n",
    "                kernel_regularizer=l1(beta), name='hidden2')(hidden1)\n",
    "y_pred = Dense(1, kernel_initializer=glorot_normal(), \n",
    "               kernel_regularizer=l1(beta), name='output')(hidden2)\n",
    "model = Model(x, y_pred)\n",
    "\n",
    "model.compile(Adam(1e-2),\n",
    "              loss=[MeanSquaredError()],\n",
    "              metrics=[RootMeanSquaredError()])"
   ]
  },
  {
   "cell_type": "markdown",
   "metadata": {},
   "source": [
    "### (3) L1 Loss 추가한 모델 학습시키기 "
   ]
  },
  {
   "cell_type": "code",
   "execution_count": 43,
   "metadata": {},
   "outputs": [
    {
     "name": "stdout",
     "output_type": "stream",
     "text": [
      "학습 총 소요 시간 ---- 29.592s\n"
     ]
    }
   ],
   "source": [
    "start_time = time.time()\n",
    "history = model.fit(train_invests,\n",
    "                    train_growths,\n",
    "                    epochs=10000,\n",
    "                    verbose=0)\n",
    "\n",
    "consumed_time = time.time() - start_time # 학습에 총 걸린 시간\n",
    "print(\"학습 총 소요 시간 ---- {:.3f}s\".format(consumed_time))"
   ]
  },
  {
   "cell_type": "markdown",
   "metadata": {},
   "source": [
    "### (4) 결과 확인하기 "
   ]
  },
  {
   "cell_type": "code",
   "execution_count": 44,
   "metadata": {},
   "outputs": [
    {
     "data": {
      "image/png": "[encoded data removed]",
      "text/plain": [
       "<Figure size 432x288 with 1 Axes>"
      ]
     },
     "metadata": {
      "needs_background": "light"
     },
     "output_type": "display_data"
    }
   ],
   "source": [
    "# 0부터 1까지 순서대로 1000개를 출력\n",
    "test_xs = np.linspace(0.1,0.9,1000)\n",
    "test_xs = test_xs.reshape(-1,1)\n",
    "pred_ys = model.predict(test_xs)\n",
    "\n",
    "plt.plot(test_invests, test_growths,label='test')\n",
    "plt.plot(test_xs,pred_ys,'r--',label='pred')\n",
    "plt.scatter(train_invests, train_growths, s=3,label='train')\n",
    "plt.title(\"R&D Investment ROI Prediction Plot\")\n",
    "plt.xlabel(\"R&D Invesetment Ratio\")\n",
    "plt.ylabel(\"ROI\")\n",
    "plt.legend()\n",
    "plt.show()"
   ]
  },
  {
   "cell_type": "markdown",
   "metadata": {},
   "source": [
    "## 4. L1 정규화와 L2 정규화 비교\n",
    "\n",
    "![](https://www.chioka.in/wp-content/uploads/2013/12/L1-norm-and-L2-norm-distance.png)\n",
    "\n",
    "주로 L1정규화와 L2 정규화를 비교하면 아래와 같습니다.\n",
    "\n",
    "|차이| L1 정규화 | L2 정규화|\n",
    "|---|---|---|\n",
    "|solution uniqueness|단일해를 보장하지 못함|단일해를 보장|\n",
    "|sparsity|행렬의 원소를 0으로 만듦|행렬의 원소를 0으로 만들지 않음|\n",
    "|robustness|데이터 내에 노이즈가 많으면 성능이 크게 저하|데이터 내에 노이즈가 많아도 성능이 안정적|\n",
    "\n",
    "일반적으로 좀 더 안정적인 성능을 보장하는 L2 정규화를 선호하지만 Noise가 많은 상황에서는 L1 정규화가 성능이 보다 좋습니다.\n"
   ]
  },
  {
   "cell_type": "markdown",
   "metadata": {},
   "source": [
    "#  \n",
    "\n",
    "---\n",
    "\n",
    "    Copyright(c) 2019 by Public AI. All rights reserved.\n",
    "    Writen by PAI, SangJae Kang ( rocketgrowthsj@publicai.co.kr )  last updated on 2019/04/05\n",
    "\n",
    "---"
   ]
  }
 ],
 "metadata": {
  "kernelspec": {
   "display_name": "tf2.0",
   "language": "python",
   "name": "tf2.0"
  },
  "language_info": {
   "codemirror_mode": {
    "name": "ipython",
    "version": 3
   },
   "file_extension": ".py",
   "mimetype": "text/x-python",
   "name": "python",
   "nbconvert_exporter": "python",
   "pygments_lexer": "ipython3",
   "version": "3.6.8"
  },
  "toc": {
   "base_numbering": 1,
   "nav_menu": {},
   "number_sections": false,
   "sideBar": true,
   "skip_h1_title": false,
   "title_cell": "Table of Contents",
   "title_sidebar": "Contents",
   "toc_cell": false,
   "toc_position": {},
   "toc_section_display": true,
   "toc_window_display": false
  },
  "varInspector": {
   "cols": {
    "lenName": 16,
    "lenType": 16,
    "lenVar": 40
   },
   "kernels_config": {
    "python": {
     "delete_cmd_postfix": "",
     "delete_cmd_prefix": "del ",
     "library": "var_list.py",
     "varRefreshCmd": "print(var_dic_list())"
    },
    "r": {
     "delete_cmd_postfix": ") ",
     "delete_cmd_prefix": "rm(",
     "library": "var_list.r",
     "varRefreshCmd": "cat(var_dic_list()) "
    }
   },
   "types_to_exclude": [
    "module",
    "function",
    "builtin_function_or_method",
    "instance",
    "_Feature"
   ],
   "window_display": false
  }
 },
 "nbformat": 4,
 "nbformat_minor": 2
}
