{
 "cells": [
  {
   "cell_type": "markdown",
   "metadata": {
    "colab_type": "text",
    "id": "tC2Ek5GX41JS"
   },
   "source": [
    "###  &nbsp;&nbsp; **✎&nbsp;&nbsp;Week 2. Numpy Basis**\n",
    "# Section 1. Numpy의 필요성\n",
    "\n",
    "지난 주차에 Python을 다루는 방법과 프로그래밍의 기본기를 배우면서 Python에는 데이터를 다루는 데 잘 만들어진 패키지가 있어 이를 활용하면 좋다는 이야기를 했었습니다. **Numpy**는 Python을 대표하는 패키지 중 하나로, 다차원의 데이터를 효율적으로 다루게 해주는 패키지입니다.  Numpy에서의 Array는 수를 다루기 위한 자료구조로, 파이썬에 내장되어 있는 list보다 데이터 처리를 훨씬 빠르고 효율적으로 할 수 있습니다. 이번 주차에는 Numpy를 이용해 효율적으로 데이터를 처리하는 방법을 살펴보겠습니다. \n",
    "\n",
    "Numpy의 기능을 본격적으로 살펴보기 전에, 이번 Section1에서는 예제를 통해 Numpy array와 list를 비교해보면서 Numpy가 어떤 경우에 강력한 힘을 발휘하는지 살펴보도록 하겠습니다.\n",
    "\n",
    "### _Objective_\n",
    "1. **Numpy 불러오기** : Numpy 패키지를 불러와서 활용하는 방법을 배웁니다. <br>\n",
    "2. **List와 Numpy Array 비교하기** : Numpy array를 이용하면 효율적인 인덱싱, 집계연산, 요소별 연산 등이 가능한 사례를 살펴봅니다."
   ]
  },
  {
   "cell_type": "markdown",
   "metadata": {},
   "source": [
    "# \\[ 1. Numpy 불러오기\\]\n",
    "\n",
    "Numpy를 쓰기 위해서는 Numpy를 호출해야 합니다. `as`를 이용하면 패키지를 별명으로 호출할 수 있는데, Numpy는 주로 np로 줄여서 부릅니다."
   ]
  },
  {
   "cell_type": "code",
   "execution_count": null,
   "metadata": {
    "colab": {},
    "colab_type": "code",
    "id": "8haRCcip41JT"
   },
   "outputs": [],
   "source": [
    "import numpy as np"
   ]
  },
  {
   "cell_type": "markdown",
   "metadata": {},
   "source": [
    "`np.array()`를 이용하면 list 로 만들어진 자료 구조를 Numpy Array로 바꾸어 생성할 수 있습니다. "
   ]
  },
  {
   "cell_type": "code",
   "execution_count": null,
   "metadata": {},
   "outputs": [],
   "source": [
    "np_array = np.array([10, 12])\n",
    "print(type(np_array))"
   ]
  },
  {
   "cell_type": "markdown",
   "metadata": {
    "colab_type": "text",
    "id": "7t4m-iaH41JY"
   },
   "source": [
    "### 예제 데이터 ) **중간고사, 학생들의 국영수 성적표**\n",
    "\n",
    "학생들의 성적표를 List와 Numpy로 각각 저장하여 동일한 작업을 할 때 어떻게 다르게 작동하는지 살펴보겠습니다.<br>\n",
    "\n",
    "\n",
    "| 학생 번호 | 국어 | 영어 | 수학 | \n",
    "|  ----   | --- |---| --- |\n",
    "|0 |80 |92 |70 |\n",
    "|1 |91 |75 |90|\n",
    "|2 |86 |76 |42 |\n",
    "|3 |77 |92 |52 |\n",
    "|4 |75 |85 |85 | \n",
    "|5 |96 |90 |95 |\n",
    "\n",
    "우선 위의 성적표를 Python이 이해할 수 있는 형식인 list나 Numpy Array로 정리해야 합니다. 6명의 성적표는 학생 별로 성적을 묶어서 아래와 같이 정의할 수 있습니다."
   ]
  },
  {
   "cell_type": "code",
   "execution_count": null,
   "metadata": {
    "colab": {},
    "colab_type": "code",
    "id": "Y3HMTSxm41JZ"
   },
   "outputs": [],
   "source": [
    "# list로 표현된 학생들의 성적표\n",
    "scores_list = [\n",
    "    [80, 92, 70],\n",
    "    [91, 75, 90],\n",
    "    [86, 96, 42],\n",
    "    [77, 92, 52],\n",
    "    [75, 85, 85],\n",
    "    [96, 90, 95]\n",
    "]\n",
    "\n",
    "# np.array로 표현된 학생들의 성적\n",
    "scores_np = np.array([\n",
    "    [80, 92, 70],\n",
    "    [91, 75, 90],\n",
    "    [86, 96, 42],\n",
    "    [77, 92, 52],\n",
    "    [75, 85, 85],\n",
    "    [96, 90, 95]\n",
    "])"
   ]
  },
  {
   "cell_type": "markdown",
   "metadata": {},
   "source": [
    "# \\[ 2. List와 Numpy Array 비교하기\\]\n",
    "\n",
    "여기까지 보면 Numpy Array는 지난 주차에 배운 list와 매우 유사해 보입니다. 그런데 왜 Numpy Array가 보편적으로 쓰일까요? **인덱스로 원하는 요소 가져오기**, **집계 연산하기**, **요소별 연산하기** 등의 기본적인 기능이 작동하는 방식을 비교해보면서 Numpy의 필요성을 이해해 봅시다. 각각에 대한 자세한 내용은 이번 주차 전반에 걸쳐 배울 예정이니 가볍게 이해하고 넘어가시면 됩니다.  "
   ]
  },
  {
   "cell_type": "markdown",
   "metadata": {
    "colab_type": "text",
    "id": "3VYICmUI7E9c"
   },
   "source": [
    "## 1. List와 Numpy의 인덱싱 방법 비교하기\n",
    "- 지난 주차에 배웠듯이, 인덱싱이란 데이터에서 원하는 값을 가져오는 기능을 뜻합니다. \n",
    "- List와 Numpy Array에서 저장된 요소들을 불러오는 '인덱싱' 코드를 비교하여 그 차이를 살펴보겠습니다."
   ]
  },
  {
   "cell_type": "markdown",
   "metadata": {
    "colab_type": "text",
    "id": "XQM8v73N41Jc"
   },
   "source": [
    "### 예제 (1) 1번째 학생의 성적 가져오기"
   ]
  },
  {
   "cell_type": "markdown",
   "metadata": {
    "colab_type": "text",
    "id": "oJf4KsCV41Jd"
   },
   "source": [
    "#### 1) `list`로 가져오기"
   ]
  },
  {
   "cell_type": "code",
   "execution_count": null,
   "metadata": {
    "colab": {
     "base_uri": "https://localhost:8080/",
     "height": 33
    },
    "colab_type": "code",
    "executionInfo": {
     "elapsed": 607,
     "status": "ok",
     "timestamp": 1551239237409,
     "user": {
      "displayName": "최선열",
      "photoUrl": "",
      "userId": "00663027191814710813"
     },
     "user_tz": -540
    },
    "id": "wyueDBad41Je",
    "outputId": "12c030c3-9cb7-4ef5-ac3f-086574aed1ab"
   },
   "outputs": [],
   "source": [
    "\n"
   ]
  },
  {
   "cell_type": "markdown",
   "metadata": {
    "colab_type": "text",
    "id": "mwMxpCpK41Jj"
   },
   "source": [
    "#### 2) `np.array`로 가져오기 "
   ]
  },
  {
   "cell_type": "code",
   "execution_count": null,
   "metadata": {
    "colab": {
     "base_uri": "https://localhost:8080/",
     "height": 33
    },
    "colab_type": "code",
    "executionInfo": {
     "elapsed": 607,
     "status": "ok",
     "timestamp": 1551239240818,
     "user": {
      "displayName": "최선열",
      "photoUrl": "",
      "userId": "00663027191814710813"
     },
     "user_tz": -540
    },
    "id": "d71cywer41Jk",
    "outputId": "1017b98c-840f-4c9a-a7c5-b4ac9596009b"
   },
   "outputs": [],
   "source": [
    "\n"
   ]
  },
  {
   "cell_type": "markdown",
   "metadata": {
    "colab_type": "text",
    "id": "-qeQzOx941Jn"
   },
   "source": [
    "### 예제 (2) 1번부터 3번까지의 학생 성적 가져오기"
   ]
  },
  {
   "cell_type": "markdown",
   "metadata": {
    "colab_type": "text",
    "id": "gaLXVhQY41Jo"
   },
   "source": [
    "#### 1) `list`로 가져오기"
   ]
  },
  {
   "cell_type": "code",
   "execution_count": null,
   "metadata": {
    "colab": {
     "base_uri": "https://localhost:8080/",
     "height": 33
    },
    "colab_type": "code",
    "executionInfo": {
     "elapsed": 561,
     "status": "ok",
     "timestamp": 1551679671185,
     "user": {
      "displayName": "최선열",
      "photoUrl": "",
      "userId": "00663027191814710813"
     },
     "user_tz": -540
    },
    "id": "rkO3x4ut41Jp",
    "outputId": "1c7edbd7-f5dd-4d85-c1a1-4fb67f5633cd"
   },
   "outputs": [],
   "source": [
    "\n"
   ]
  },
  {
   "cell_type": "markdown",
   "metadata": {
    "colab_type": "text",
    "id": "Sy-RQUx541Js"
   },
   "source": [
    "#### 2) `np.array`로 가져오기 "
   ]
  },
  {
   "cell_type": "code",
   "execution_count": null,
   "metadata": {
    "colab": {
     "base_uri": "https://localhost:8080/",
     "height": 66
    },
    "colab_type": "code",
    "executionInfo": {
     "elapsed": 657,
     "status": "ok",
     "timestamp": 1551240357902,
     "user": {
      "displayName": "최선열",
      "photoUrl": "",
      "userId": "00663027191814710813"
     },
     "user_tz": -540
    },
    "id": "FrcfLudV41Jt",
    "outputId": "db64737e-c9d6-458f-d45e-eb65f670aa95"
   },
   "outputs": [],
   "source": [
    "\n"
   ]
  },
  {
   "cell_type": "markdown",
   "metadata": {
    "colab_type": "text",
    "id": "oA8PiL6w41Jw"
   },
   "source": [
    "### 예제 (3) 0번, 4번,5번의 학생 성적 가져오기\n",
    "여기까지는 Numpy Array와 list의 차이가 거의 보이질 않습니다. 행 단위(이 경우 학생 단위)의 개별 인덱싱이나 범위를 이용한 인덱싱 방법은 거의 유사한 걸 확인했습니다. 이번에는 특정 학생들의 성적을 가져와봅시다. "
   ]
  },
  {
   "cell_type": "markdown",
   "metadata": {
    "colab_type": "text",
    "id": "0fzk_7_Q41Jx"
   },
   "source": [
    "#### 1) `list`로 가져오기"
   ]
  },
  {
   "cell_type": "code",
   "execution_count": null,
   "metadata": {
    "colab": {},
    "colab_type": "code",
    "id": "Xtg2kX1W41Jx"
   },
   "outputs": [],
   "source": [
    "\n"
   ]
  },
  {
   "cell_type": "markdown",
   "metadata": {
    "colab_type": "text",
    "id": "CeSDL1Bi41J5"
   },
   "source": [
    "#### 2) `np.array`로 가져오기 \n",
    "한편, Numpy Array에서는 간단하게 **인덱스 리스트를 만들어** 기존의 Numpy Array에서 여러 행(이 경우 0, 4, 5번 학생들)의 성적을 가져올 수 있습니다. "
   ]
  },
  {
   "cell_type": "code",
   "execution_count": null,
   "metadata": {
    "colab": {},
    "colab_type": "code",
    "id": "pvLsMgqY41J6",
    "outputId": "9a1dfcfe-e964-43d6-83a0-1ba638992f6c"
   },
   "outputs": [],
   "source": [
    "\n"
   ]
  },
  {
   "cell_type": "markdown",
   "metadata": {
    "colab_type": "text",
    "id": "YjG0UpEI41J9"
   },
   "source": [
    "### 예제 (4) 모든 학생들의 국어 성적 가져오기\n",
    "행 단위의 인덱싱을 살펴보았으니 이번에는 열 단위 인덱싱이 어떻게 되는지 살펴볼까요? 위의 성적 데이터에서 각 열은 과목을 나타냅니다. 국어 과목의 전체 성적을 가져와봅시다. "
   ]
  },
  {
   "cell_type": "markdown",
   "metadata": {
    "colab_type": "text",
    "id": "nhtvxKlm41J-"
   },
   "source": [
    "#### 1) `list`로 가져오기\n",
    "\n",
    "list를 사용할 경우, 앞서 `예제1)`에서 각 학생의 성적에 접근했던 방식으로 각 학생의 성적에 접근하여 0번째 과목인 국어의 성적을 가져와야 합니다. 국어 성적을 모아 담을 `language_scores` 라는 빈 list 를 만든 후 `for loop`을 돌며 각 학생의 국어 성적을 추가합니다.  "
   ]
  },
  {
   "cell_type": "code",
   "execution_count": null,
   "metadata": {
    "colab": {},
    "colab_type": "code",
    "id": "rQBnNQCN41J_",
    "outputId": "d13a3cf4-9874-46c5-93c5-5cd52f64a4e9"
   },
   "outputs": [],
   "source": [
    "\n"
   ]
  },
  {
   "cell_type": "markdown",
   "metadata": {
    "colab_type": "text",
    "id": "2h3FJIMf41KE"
   },
   "source": [
    "#### 2) `np.array`로 가져오기 \n",
    "\n",
    "한편, Numpy 에서는 열에 대해서도 행을 인덱싱 하여 가져왔던 것처럼 바로 접근이 가능합니다. 인덱스 시, `[` 와 `]` 안에 학생을 인덱싱하는 첫번째 자리에는 전체 학생을 의미하는 `:`를 넣고, 과목을 가져오는 두 번째 자리에 국어 과목의 인덱스인 0을 넣습니다. 이렇게 하면 전체 학생의 국어 성적 리스트를 손쉽게 가져올 수 있습니다. "
   ]
  },
  {
   "cell_type": "code",
   "execution_count": null,
   "metadata": {
    "colab": {},
    "colab_type": "code",
    "id": "V3TLDygh41KF",
    "outputId": "9997928c-90b6-4f14-bd2b-da55e57c33d0"
   },
   "outputs": [],
   "source": [
    "\n"
   ]
  },
  {
   "cell_type": "markdown",
   "metadata": {
    "colab_type": "text",
    "id": "P6hah_RL7tsr"
   },
   "source": [
    "## 2. List와 Numpy의 집계연산 비교하기\n",
    "- 집계연산이란, 여러개의 값을 하나의 값(예: 합, 평균, 요소의 수, 최소값, 최대값 등)으로 결과를 내는 연산을 의미합니다.\n",
    "- List와 Numpy Array로 구현된 데이터의 집계연산 코드를 비교해 보겠습니다."
   ]
  },
  {
   "cell_type": "markdown",
   "metadata": {
    "colab_type": "text",
    "id": "WclA6xCo41KL"
   },
   "source": [
    "\n",
    "### 예제 (5) 중간고사 학생별 전과목 점수 총합"
   ]
  },
  {
   "cell_type": "markdown",
   "metadata": {
    "colab_type": "text",
    "id": "gV8RlNjy41KN"
   },
   "source": [
    "#### 1)  `list`로 가져오기\n",
    "\n",
    "Python에서는 기본적으로 list를 구성하는 요소의 총합을 구하는 내장함수 `sum`을 제공합니다. 각 학생의 성적을 가져와 각 학생의 성적 총합을 구하여 점수 총합 리스트에 추가해야 합니다. "
   ]
  },
  {
   "cell_type": "code",
   "execution_count": 3,
   "metadata": {
    "colab": {
     "base_uri": "https://localhost:8080/",
     "height": 33
    },
    "colab_type": "code",
    "executionInfo": {
     "elapsed": 604,
     "status": "ok",
     "timestamp": 1551680921249,
     "user": {
      "displayName": "최선열",
      "photoUrl": "",
      "userId": "00663027191814710813"
     },
     "user_tz": -540
    },
    "id": "ZrM8ejyX41KO",
    "outputId": "0fee3abe-7754-4dce-d21f-0d3b67207394"
   },
   "outputs": [],
   "source": [
    "\n"
   ]
  },
  {
   "cell_type": "markdown",
   "metadata": {
    "colab_type": "text",
    "id": "cuICBqHQ41KR"
   },
   "source": [
    "#### 2) `np.array`로 가져오기 \n",
    "한편, Numpy 에서는 아래와 같이 한 줄 코드로 각 학생의 성적 총합을 구할 수 있습니다. "
   ]
  },
  {
   "cell_type": "code",
   "execution_count": null,
   "metadata": {
    "colab": {
     "base_uri": "https://localhost:8080/",
     "height": 33
    },
    "colab_type": "code",
    "executionInfo": {
     "elapsed": 366,
     "status": "ok",
     "timestamp": 1551680921532,
     "user": {
      "displayName": "최선열",
      "photoUrl": "",
      "userId": "00663027191814710813"
     },
     "user_tz": -540
    },
    "id": "cB_spmLn41KR",
    "outputId": "2e1c7d5b-bb59-4362-cff4-ab0b311d2f9b"
   },
   "outputs": [],
   "source": [
    "\n"
   ]
  },
  {
   "cell_type": "markdown",
   "metadata": {
    "colab_type": "text",
    "id": "nZmEqP3h41KU"
   },
   "source": [
    "### 예제 (6) 중간고사 과목별 평균 성적"
   ]
  },
  {
   "cell_type": "markdown",
   "metadata": {
    "colab_type": "text",
    "id": "Xx6FY3za41KU"
   },
   "source": [
    "#### 1)  `list`로 가져오기"
   ]
  },
  {
   "cell_type": "code",
   "execution_count": null,
   "metadata": {
    "colab": {},
    "colab_type": "code",
    "id": "KPLO9jJ941KV",
    "outputId": "16283844-dc9e-4742-ad1c-8affae6b896d"
   },
   "outputs": [],
   "source": [
    "\n"
   ]
  },
  {
   "cell_type": "markdown",
   "metadata": {
    "colab_type": "text",
    "id": "ChYDn5Fe41KY"
   },
   "source": [
    "#### 2) `np.array`로 가져오기 \n"
   ]
  },
  {
   "cell_type": "code",
   "execution_count": null,
   "metadata": {
    "colab": {},
    "colab_type": "code",
    "id": "foOT8gnm41KZ",
    "outputId": "64192af7-1af3-4e92-d6b8-f74c3a3e846b"
   },
   "outputs": [],
   "source": [
    "\n"
   ]
  },
  {
   "cell_type": "markdown",
   "metadata": {
    "colab_type": "text",
    "id": "SE6lfxpFHGFf"
   },
   "source": [
    "## 3. 각 원소 별 연산 적용 비교하기\n",
    "\n",
    "+ 원소 별 연산이란 List나 Array를 구성하는 각각의 원소 별로 값을 더하거나 빼는 등의 연산을 말합니다. \n",
    "+ List와 Numpy Array 각 경우 원소 별 연산을 적용하는 방법을 살펴보겠습니다."
   ]
  },
  {
   "cell_type": "markdown",
   "metadata": {
    "colab_type": "text",
    "id": "nPK9uNkf41Kc"
   },
   "source": [
    "\n",
    "### 예제 (7) 학생들이 만점 대비 각각 몇 점씩 감점 받았는지 표로 만들기"
   ]
  },
  {
   "cell_type": "markdown",
   "metadata": {
    "colab_type": "text",
    "id": "rpCDFzYT41Kd"
   },
   "source": [
    "#### 1) `list`로 가져오기\n",
    "list에서 각 점수를 만점인 100점에서 빼주는 연산을 하려면 `for loop`을 돌면서 리스트의 각 원소를 꺼내 연산을 적용한 후 다시 list에 `append`하는 작업을 반복해야 합니다. "
   ]
  },
  {
   "cell_type": "code",
   "execution_count": null,
   "metadata": {
    "colab": {},
    "colab_type": "code",
    "id": "BulmSv-U41Kd",
    "outputId": "d83c1893-bdc4-433a-b0b8-d46a880c3a87"
   },
   "outputs": [],
   "source": [
    "\n"
   ]
  },
  {
   "cell_type": "markdown",
   "metadata": {
    "colab_type": "text",
    "id": "je_PNQWT41Kh"
   },
   "source": [
    "#### 2) `np.array`로 가져오기 \n",
    "한편, Numpy Array에서는 아래와 같이 100에서 성적표 Array를 빼주면 모든 원소에 대해 `100-점수`라는 연산이 적용됩니다. 한 줄로 간단하게 원소별 연산을 적용할 수 있게 되는 것이죠."
   ]
  },
  {
   "cell_type": "code",
   "execution_count": null,
   "metadata": {
    "colab": {},
    "colab_type": "code",
    "id": "HamucM7141Kh",
    "outputId": "c0b6a0f7-27a9-4723-dbb3-ea8fe919b22e"
   },
   "outputs": [],
   "source": [
    "\n"
   ]
  },
  {
   "cell_type": "markdown",
   "metadata": {
    "colab_type": "text",
    "id": "r3TjL9Bt41Kk"
   },
   "source": [
    "### 예제 (8) 중간고사 대비 기말고사 성적 변동 표 만들기\n",
    "`예제 (7)`에서 각 원소에 대해 동일하게 100에서 빼는 연산을 적용했다면, 이번에는 각 학생이 과목별로 기말 고사에서 받은 점수가 중간고사 대비 얼마나 성장했는지 계산해보겠습니다. 학생들의 기말고사 성적은 아래와 같습니다. "
   ]
  },
  {
   "cell_type": "code",
   "execution_count": null,
   "metadata": {
    "colab": {},
    "colab_type": "code",
    "id": "DlAgaxZ141Kk"
   },
   "outputs": [],
   "source": [
    "# list로 표현된 학생들의 기말고사 성적표\n",
    "final_scores_list = [\n",
    "    [85, 95, 72],\n",
    "    [93, 60, 95],\n",
    "    [80, 90, 70],\n",
    "    [80, 94, 56],\n",
    "    [77, 82, 80],\n",
    "    [90, 95, 90]\n",
    "]\n",
    "\n",
    "# np.array로 표현된 학생들의 기말고사 성적표\n",
    "final_scores_np = np.array([\n",
    "    [85, 95, 72],\n",
    "    [93, 60, 95],\n",
    "    [80, 90, 70],\n",
    "    [80, 94, 56],\n",
    "    [77, 82, 80],\n",
    "    [90, 95, 90]\n",
    "])"
   ]
  },
  {
   "cell_type": "markdown",
   "metadata": {
    "colab_type": "text",
    "id": "A2y1KKmU41Km"
   },
   "source": [
    "#### 1) `list`로 가져오기\n",
    "중간고사 성적(`mid_scores`)과 기말고사 성적(`final_scores`) 두 성적표가 있으니 각 학생의 과목별 중간 고사 및 기말 고사 성적을 묶어 차이를 계산해야 합니다. `zip` 함수를 사용하여 `for loop`을 돌며 각 학생의 과목별 중간/기말 고사 점수를 서로 빼준 후 다시 `diff_scores`라는 결과 리스트에 넣어주어야 합니다. "
   ]
  },
  {
   "cell_type": "code",
   "execution_count": null,
   "metadata": {
    "colab": {},
    "colab_type": "code",
    "id": "noLc7jU641Kn",
    "outputId": "957e51c7-88ef-4dcd-e53e-648f5ac70905"
   },
   "outputs": [],
   "source": [
    "# TODO\n"
   ]
  },
  {
   "cell_type": "markdown",
   "metadata": {
    "colab_type": "text",
    "id": "Bsys2oiG41Kp"
   },
   "source": [
    "#### 2)  `np.array`로 가져오기 \n",
    "한편 Numpy 에서는 두 Array에 대해 `-` 연산을 하면 자동으로 같은 자리의 원소끼리 값을 뺀 결과를 반환합니다. "
   ]
  },
  {
   "cell_type": "code",
   "execution_count": null,
   "metadata": {
    "colab": {},
    "colab_type": "code",
    "id": "hOzNp5_841Kq",
    "outputId": "cc4a61f7-b366-4fb7-d115-ede77e87ab57"
   },
   "outputs": [],
   "source": [
    "#TODO\n"
   ]
  },
  {
   "cell_type": "markdown",
   "metadata": {},
   "source": [
    "이처럼 Numpy Array는 list와 유사하게 생겼지만 다양한 연산을 보다 간단한 코드로 적용할 수 있다는 강점을 가지고 있습니다. 코드 작성에 드는 시간과 노력을 아껴줄 뿐만 아니라 실제 연산이 작동하는 시간 역시 훨씬 빠르기 때문에 대용량 데이터 연산일수록 Numpy가 널리 활용되고 있습니다. 그럼 지금부터 본격적으로 Numpy에 대해 알아보겠습니다. "
   ]
  },
  {
   "cell_type": "markdown",
   "metadata": {
    "colab_type": "text",
    "id": "_Kv9NOLt41Ky"
   },
   "source": [
    "#  \n",
    "\n",
    "---\n",
    "\n",
    "    Copyright(c) 2019 by Public AI. All rights reserved.\n",
    "    Writen by PAI, SangJae Kang ( rocketgrowthsj@publicai.co.kr )  last updated on 2019/03/04\n",
    "\n",
    "---"
   ]
  }
 ],
 "metadata": {
  "colab": {
   "collapsed_sections": [
    "7t4m-iaH41JY",
    "XQM8v73N41Jc",
    "oJf4KsCV41Jd",
    "mwMxpCpK41Jj",
    "-qeQzOx941Jn",
    "gaLXVhQY41Jo",
    "Sy-RQUx541Js",
    "oA8PiL6w41Jw",
    "0fzk_7_Q41Jx",
    "CeSDL1Bi41J5",
    "YjG0UpEI41J9",
    "nhtvxKlm41J-",
    "2h3FJIMf41KE",
    "WclA6xCo41KL",
    "gV8RlNjy41KN",
    "cuICBqHQ41KR",
    "nZmEqP3h41KU",
    "Xx6FY3za41KU",
    "ChYDn5Fe41KY",
    "nPK9uNkf41Kc",
    "rpCDFzYT41Kd",
    "je_PNQWT41Kh",
    "r3TjL9Bt41Kk",
    "A2y1KKmU41Km",
    "Bsys2oiG41Kp"
   ],
   "name": "1_Numpy의 필요성.ipynb",
   "provenance": [],
   "toc_visible": true,
   "version": "0.3.2"
  },
  "kernelspec": {
   "display_name": "Python 3",
   "language": "python",
   "name": "python3"
  },
  "toc": {
   "base_numbering": 1,
   "nav_menu": {},
   "number_sections": false,
   "sideBar": true,
   "skip_h1_title": false,
   "title_cell": "Table of Contents",
   "title_sidebar": "Contents",
   "toc_cell": false,
   "toc_position": {},
   "toc_section_display": true,
   "toc_window_display": false
  },
  "varInspector": {
   "cols": {
    "lenName": 16,
    "lenType": 16,
    "lenVar": 40
   },
   "kernels_config": {
    "python": {
     "delete_cmd_postfix": "",
     "delete_cmd_prefix": "del ",
     "library": "var_list.py",
     "varRefreshCmd": "print(var_dic_list())"
    },
    "r": {
     "delete_cmd_postfix": ") ",
     "delete_cmd_prefix": "rm(",
     "library": "var_list.r",
     "varRefreshCmd": "cat(var_dic_list()) "
    }
   },
   "types_to_exclude": [
    "module",
    "function",
    "builtin_function_or_method",
    "instance",
    "_Feature"
   ],
   "window_display": false
  }
 },
 "nbformat": 4,
 "nbformat_minor": 2
}
