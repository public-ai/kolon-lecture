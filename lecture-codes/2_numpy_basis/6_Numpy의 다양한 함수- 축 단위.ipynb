{
 "cells": [
  {
   "cell_type": "markdown",
   "metadata": {
    "colab_type": "text",
    "id": "JwXVP87OO6RW"
   },
   "source": [
    "<i><b>Public AI</b></i>\n",
    "<br>\n",
    "### Week 2. Numpy 기본기 다지기\n",
    "\n",
    "# Section 3. Numpy의 다양한 함수: 축 단위\n",
    "\n",
    "Numpy Array에서는 축을 기준으로 집계연산을 할 수 있기 때문에, 집계 연산을 해내야 하는 데이터의 묶음과 기준을 명확히 이해하고 이를 적절한 Numpy Array의 shape으로 구성하거나 변형할 수 있어야 합니다. 그래야 Numpy Array로부터 다양한 정보를 뽑아낼 수 있습니다. 이번 Section에서는 앞서 Section 2에서 배운 Numpy Array의 **축** 개념을 활용하여 집계 연산에 활용해보겠습니다. "
   ]
  },
  {
   "cell_type": "markdown",
   "metadata": {},
   "source": [
    "### _Objective_\n",
    "1. **Numpy Array의 축 단위 적용 함수의 작동 원리** : 2차원 행렬과 3차원 행렬의 예시를 통해 축을 기준으로 작동하는 함수의 작동 원리를 배웁니다. \n",
    "2. **Numpy Array의 축 기준 집계 연산**: Numpy Array에서 축을 따라 연산하는 집계함수들(sum, mean 등)을 배웁니다. <br>\n",
    "3. **Numpy Array의 축 기준 정렬**: Numpy Array에서 축을 따라 정렬하고 정렬 결과의 인덱스를 가져오는 함수에 대해 배웁니다.<br>"
   ]
  },
  {
   "cell_type": "code",
   "execution_count": null,
   "metadata": {
    "colab": {},
    "colab_type": "code",
    "id": "k-o8zDSkO6RZ"
   },
   "outputs": [],
   "source": [
    "import numpy as np"
   ]
  },
  {
   "cell_type": "markdown",
   "metadata": {},
   "source": [
    "# \\[ 1. Numpy Array의 축 단위 적용 함수의 작동 원리 \\]\n",
    "\n",
    "앞서 Section 2에서 Numpy Array의 핵심 개념 중 '축(axis)'에 대해 배웠습니다. 이번 Section 6에서는 축 기준으로 작동하는 다양한 Numpy 함수를 배워 보려 합니다. 축을 기준으로 작동하는 함수는 함수의 파라미터로 `axis`를 설정할 수 있게 되어있습니다. 축 단위로 작동하는 함수를 배우기 전에 축 기준 연산의 어떻게 작동하는지 2차원 행렬과 3차원 행렬을 예시로 살펴보며 하나씩 뜯어봅시다."
   ]
  },
  {
   "cell_type": "markdown",
   "metadata": {},
   "source": [
    "## 1. 2차원 행렬에서 축 기준 연산의 작동"
   ]
  },
  {
   "cell_type": "markdown",
   "metadata": {},
   "source": [
    "아래와 같은 2차원 행렬의 shape은 `(3,7)`입니다."
   ]
  },
  {
   "cell_type": "code",
   "execution_count": null,
   "metadata": {},
   "outputs": [],
   "source": [
    "A = np.array(\n",
    "    [[ 0,  1,  2,  3,  4,  5,  6],\n",
    "    [ 7,  8,  9, 10, 11, 12, 13],\n",
    "    [ 14,  15,  16, 17, 18, 19, 20]])\n",
    "A.shape"
   ]
  },
  {
   "cell_type": "markdown",
   "metadata": {},
   "source": [
    "`(3,7)`은 각각 0번 축, 1번 축의 요소 수를 알려줍니다. 즉, 0번 축에는 3개의 요소로 구성되어 있고(= 행이 3개), 1번 축에는 7개의 요소로 구성되어 있음(= 열이 7개)을 알 수 있습니다. "
   ]
  },
  {
   "cell_type": "markdown",
   "metadata": {},
   "source": [
    "### 1) 0번 축 기준 집계 예시\n",
    "\n",
    "이러한 행렬 A에서 **0번 축을 기준으로 합을 집계하고 싶다**면, `.sum(axis = 0)`으로 설정하면 됩니다. 이 함수는 0번 축을 구성하는 3개의 요소를 각각 합친 값을 반환합니다. 따라서 기존의 `(3,7)` 행렬에서 0번 축이 압축(혹은 집계, aggregate)되기 때문에 `(7,)` 형태의 결과를 반환하게 됩니다. "
   ]
  },
  {
   "cell_type": "code",
   "execution_count": null,
   "metadata": {},
   "outputs": [],
   "source": [
    "print('0번째 축을 기준으로 합을 구하면?', A.sum(axis=0))\n",
    "print('결과의 형태는?',  A.sum(axis=0).shape)"
   ]
  },
  {
   "cell_type": "markdown",
   "metadata": {},
   "source": [
    "어떤 값이 합쳐진 결과인지 구체적으로 살펴봅시다."
   ]
  },
  {
   "cell_type": "code",
   "execution_count": null,
   "metadata": {},
   "outputs": [],
   "source": [
    "print('결과의 0번째 값은?', A[0,0], A[1,0], A[2,0], '==>', A[0,0] + A[1,0] + A[2,0]) \n",
    "print('결과의 1번째 값은?', A[0,1], A[1,1], A[2,1], '==>', A[0,1] + A[1,1] + A[2,1])\n",
    "print('결과의 2번째 값은?', A[0,2], A[1,2], A[2,2], '==>', A[0,2] + A[1,2] + A[2,2])\n",
    "print('결과의 3번째 값은?', A[0,3], A[1,3], A[2,3], '==>', A[0,3] + A[1,3] + A[2,3])\n",
    "print('결과의 4번째 값은?', A[0,4], A[1,4], A[2,4], '==>', A[0,4] + A[1,4] + A[2,4])\n",
    "print('결과의 5번째 값은?', A[0,5], A[1,5], A[2,5], '==>', A[0,5] + A[1,5] + A[2,5])\n",
    "print('결과의 6번째 값은?', A[0,6], A[1,6], A[2,6], '==>', A[0,6] + A[1,6] + A[2,6])"
   ]
  },
  {
   "cell_type": "markdown",
   "metadata": {},
   "source": [
    "### 2) 1번 축 기준 집계 예시\n",
    "\n",
    "그럼 1번 축을 기준으로 합을 집계한다는 의미에서 sum(axis = 1)로 설정하면 어떻게 될까요? 1번 축의 0번 요소부터 3번 요소까지 각각을 구성하는 7개의 값을 합친 결과를 반환합니다."
   ]
  },
  {
   "cell_type": "code",
   "execution_count": null,
   "metadata": {},
   "outputs": [],
   "source": [
    "print('1번째 축을 기준으로 합을 구하면?', A.sum(axis=1))\n",
    "print('결과의 형태는?',  A.sum(axis=1).shape)\n",
    "print('결과의 0번째 값은?', A[0,0], A[0,1], A[0,2], A[0,3], A[0,4], A[0,5], A[0,6], '==>', A[0,0] + A[0,1] + A[0,2] + A[0,3] + A[0,4] + A[0,5] + A[0,6])\n",
    "print('결과의 1번째 값은?', A[1,0], A[1,1], A[1,2], A[1,3], A[1,4], A[1,5], A[1,6], '==>', A[1,0] + A[1,1] + A[1,2] + A[1,3] + A[1,4] + A[1,5] + A[1,6])\n",
    "print('결과의 1번째 값은?', A[2,0], A[2,1], A[2,2], A[2,3], A[2,4], A[2,5], A[2,6], '==>', A[2,0] + A[2,1] + A[2,2] + A[2,3] + A[2,4] + A[2,5] + A[2,6])"
   ]
  },
  {
   "cell_type": "markdown",
   "metadata": {},
   "source": [
    "## 2. 3차원 행렬에서 축 기준 연산의 작동\n",
    "\n",
    "이번에는 3차원 행렬을 살펴봅시다."
   ]
  },
  {
   "cell_type": "code",
   "execution_count": null,
   "metadata": {},
   "outputs": [],
   "source": [
    "A = np.array([\n",
    "    [[ 0,  1,  2,  3,  4,  5,  6],\n",
    "     [ 7,  8,  9, 10, 11, 12, 13]], \n",
    "    \n",
    "    [[10, 11, 12, 13, 14, 15, 16],\n",
    "     [17, 18, 19, 20, 21, 22, 23]]])\n",
    "A.shape"
   ]
  },
  {
   "cell_type": "markdown",
   "metadata": {},
   "source": [
    "### 1) 1번 축 기준 예시\n",
    "\n",
    "1번 축의 0번 요소는 다음과 같습니다. "
   ]
  },
  {
   "cell_type": "code",
   "execution_count": null,
   "metadata": {},
   "outputs": [],
   "source": [
    "print('1번 축의 0번 요소는 ?')\n",
    "print(A[:, 0, :])\n",
    "print('====================')\n",
    "print('1번 축의 1번 요소는 ?')\n",
    "print(A[:, 1, :])"
   ]
  },
  {
   "cell_type": "markdown",
   "metadata": {},
   "source": [
    "그렇다면 1번 축을 기준으로 합계를 구하면 어떻게 될까요? 아래와 같이 1번 축의 0번 요소와 1번 요소를 가지고 각각 같은 자리에 있는 값을 합치면 아래와 같을 것입니다. "
   ]
  },
  {
   "cell_type": "code",
   "execution_count": null,
   "metadata": {},
   "outputs": [],
   "source": [
    "print(A[:, 0, :] + A[:, 1, :])"
   ]
  },
  {
   "cell_type": "markdown",
   "metadata": {},
   "source": [
    "`A.sum(axis=1)`를 이용하면 위의 결과를 한 번에 얻을 수 있습니다. 1번 축을 구성하는 값을 압축하여 합계인 하나의 값을 만드는 것이죠. "
   ]
  },
  {
   "cell_type": "code",
   "execution_count": null,
   "metadata": {},
   "outputs": [],
   "source": [
    "A.sum(axis=1)"
   ]
  },
  {
   "cell_type": "markdown",
   "metadata": {},
   "source": [
    "### 2) 2번 축 기준 예시\n",
    "\n",
    "이번에는 2번축을 기준으로 합을 구해봅시다. 2번 축의 0번 요소는 아래와 같습니다. "
   ]
  },
  {
   "cell_type": "code",
   "execution_count": null,
   "metadata": {},
   "outputs": [],
   "source": [
    "A[:, :, 0] "
   ]
  },
  {
   "cell_type": "markdown",
   "metadata": {},
   "source": [
    "2번 축을 기준으로 합계한다는 것은 2번 축을 구성하는 7개의 요소를 더해서 압축한다는 뜻입니다. 2번 축을 기준으로 합계를 해보면 아래와 같을 것입니다. "
   ]
  },
  {
   "cell_type": "code",
   "execution_count": null,
   "metadata": {},
   "outputs": [],
   "source": [
    "A[:,:,0]xz + A[:,:,1] + A[:,:,2] + A[:,:,3] + A[:,:,4] + A[:,:,5] + A[:,:,6]"
   ]
  },
  {
   "cell_type": "markdown",
   "metadata": {},
   "source": [
    "`A.sum(axis = 2)`을 해봅시다. shape `(2, 2, 7)`의 2번 축은 7개의 원소로 구성되어 있다는 뜻입니다. 2번 축을 기준으로 데이터의 합을 구하면 이 7개의 값이 합쳐져 다음과 같이 (2,2)의 행렬이 생성됩니다. "
   ]
  },
  {
   "cell_type": "code",
   "execution_count": null,
   "metadata": {},
   "outputs": [],
   "source": [
    "A.sum(axis=2)"
   ]
  },
  {
   "cell_type": "code",
   "execution_count": null,
   "metadata": {},
   "outputs": [],
   "source": [
    "A.sum(axis=2).shape"
   ]
  },
  {
   "cell_type": "markdown",
   "metadata": {},
   "source": [
    "`A.sum(axis=2)`를 구성하는 각각은 어떤 값으로부터 생성되었을까요? 0번 축과 1번 축 각각 `[0, 0]`, `[0, 1]`, `[1, 0]`, `[1, 1]` 로 고정된 상태에서 2번 축을 이루는 7개의 값이 합쳐져서 위와 같은 결과가 반환된 것입니다. 각 합계는 아래와 같은 값이 더해진 것입니다."
   ]
  },
  {
   "cell_type": "code",
   "execution_count": null,
   "metadata": {},
   "outputs": [],
   "source": [
    "print('sum(axis = 2)의 [0, 0] 값은?', A[0, 0, 0] + A[0, 0, 1] + A[0, 0, 2] + A[0, 0, 3] + A[0, 0, 4] + A[0, 0, 5] + A[0, 0, 6])\n",
    "print('sum(axis = 2)의 [0, 1] 값은?', A[0, 1, 0] + A[0, 1, 1] + A[0, 1, 2] + A[0, 1, 3] + A[0, 1, 4] + A[0, 1, 5] + A[0, 1, 6])\n",
    "print('sum(axis = 2)의 [1, 0] 값은?', A[1, 0, 0] + A[1, 0, 1] + A[1, 0, 2] + A[1, 0, 3] + A[1, 0, 4] + A[1, 0, 5] + A[1, 0, 6])\n",
    "print('sum(axis = 2)의 [1, 1] 값은?', A[1, 1, 0] + A[1, 1, 1] + A[1, 1, 2] + A[1, 1, 3] + A[1, 1, 4] + A[1, 1, 5] + A[1, 1, 6])"
   ]
  },
  {
   "cell_type": "markdown",
   "metadata": {},
   "source": [
    "이처럼 `sum(axis = 2)`은 2번 축, 즉 제일 안쪽 대괄호를 구성하는 7 개의 요소로 서로 합친 결과를 반환합니다. "
   ]
  },
  {
   "cell_type": "markdown",
   "metadata": {},
   "source": [
    "### 3) 0번 축 기준 예시\n",
    "0번 축을 기준으로 합계하는 `A.sum(axis=0)`을 하면 어떻게 될까요? 0번 축을 기준으로 데이터의 합을 구하면 2개의 값씩 압축되어 다음과 같이 (2,7)의 행렬이 생성됩니다. "
   ]
  },
  {
   "cell_type": "code",
   "execution_count": null,
   "metadata": {},
   "outputs": [],
   "source": [
    "A.sum(axis = 0)"
   ]
  },
  {
   "cell_type": "code",
   "execution_count": null,
   "metadata": {},
   "outputs": [],
   "source": [
    "A.sum(axis = 0).shape"
   ]
  },
  {
   "cell_type": "markdown",
   "metadata": {},
   "source": [
    "위 결과는 아래와 같이 0번 축을 구성하는 0번 요소와 1번 요소를 가지고 각각 같은 자리에 있는 값을 더한 결과입니다. "
   ]
  },
  {
   "cell_type": "code",
   "execution_count": null,
   "metadata": {},
   "outputs": [],
   "source": [
    "A[0, :, :] + A[1, :, :]"
   ]
  },
  {
   "cell_type": "markdown",
   "metadata": {},
   "source": [
    "즉 A 행렬에서 제일 바깥 대괄호를 구성하는 두 개의 요소(0번 축 구성 요소)를 서로 짝을 이루어 합친 결과를 반환합니다. "
   ]
  },
  {
   "cell_type": "code",
   "execution_count": null,
   "metadata": {},
   "outputs": [],
   "source": [
    "print('sum(axis = 0)의 [0, 0] 값은?', A[0, 0, 0] + A[1, 0, 0])\n",
    "print('sum(axis = 0)의 [0, 1] 값은?', A[0, 0, 1] + A[1, 0, 1])\n",
    "print('sum(axis = 0)의 [0, 2] 값은?', A[0, 0, 2] + A[1, 0, 2])\n",
    "print('sum(axis = 0)의 [0, 3] 값은?', A[0, 0, 3] + A[1, 0, 3])\n",
    "print('sum(axis = 0)의 [0, 4] 값은?', A[0, 0, 4] + A[1, 0, 4])\n",
    "print('sum(axis = 0)의 [0, 5] 값은?', A[0, 0, 5] + A[1, 0, 5])\n",
    "print('sum(axis = 0)의 [0, 6] 값은?', A[0, 0, 6] + A[1, 0, 6])"
   ]
  },
  {
   "cell_type": "markdown",
   "metadata": {
    "colab_type": "text",
    "id": "-xLXSgg4O6Rd"
   },
   "source": [
    "# \\[ 2. Numpy Array의 축 기준 집계 연산 \\]\n",
    "\n",
    "`np.array`는 축을 기준으로 집계 계산하는, sum, mean, std, max, min 등의 연산을 지원합니다. 집계함수는 한 축이 갖는 여러개의 값을  그룹당 하나의 값으로 반환합니다."
   ]
  },
  {
   "cell_type": "markdown",
   "metadata": {
    "colab_type": "text",
    "id": "34r66vr2O6Re"
   },
   "source": [
    "### 예제 데이터 )  학생들의 국영수사과 성적표\n",
    "앞서 Section 4에서 사용했던 학생들의 과목별 중간/기말 고사 성적 데이터를 활용하겠습니다. "
   ]
  },
  {
   "cell_type": "markdown",
   "metadata": {
    "colab_type": "text",
    "id": "UvPQnmcgyKzr"
   },
   "source": [
    "\n",
    "#### 데이터 1) 중간고사, 학생들의 국영수사과 성적표\n",
    "`middle_scores`\n",
    "\n",
    "| 학생 번호 | 국어 | 영어 | 수학 | 사회 | 과학 |\n",
    "|  ----   | --- |---| --- | --- | --- |\n",
    "|0 |80 |92 |70 | 65 | 92 |\n",
    "|1 |91 |75 |90 | 68 | 85 | \n",
    "|2 |86 |76 |42 | 72 | 88 |\n",
    "|3 |77 |92 |52 | 60 | 80 |\n",
    "|4 |75 |85 |85 | 92 | 95 |\n",
    "|5 |96 |90 |95 | 81 | 72 |\n",
    "\n",
    "#### 데이터 2) 기말고사, 학생들의 국영수사과 성적표\n",
    "`final_scores`\n",
    "\n",
    "| 학생 번호 | 국어 | 영어 | 수학 | 사회 | 과학 |\n",
    "|  ----   | --- |---| --- | --- | --- |\n",
    "|0 |85 |95 |90 | 66 | 93 |\n",
    "|1 |93 |70 |80 | 60 | 81 | \n",
    "|2 |89 |78 |55 | 75 | 80 |\n",
    "|3 |80 |94 |59 | 72 | 90 |\n",
    "|4 |70 |82 |81 | 95 | 72 |\n",
    "|5 |90 |76 |93 | 82 | 89 |"
   ]
  },
  {
   "cell_type": "code",
   "execution_count": null,
   "metadata": {
    "colab": {
     "base_uri": "https://localhost:8080/",
     "height": 228
    },
    "colab_type": "code",
    "executionInfo": {
     "elapsed": 375,
     "status": "ok",
     "timestamp": 1551671291404,
     "user": {
      "displayName": "최선열",
      "photoUrl": "",
      "userId": "00663027191814710813"
     },
     "user_tz": -540
    },
    "id": "WrSWb4HgO6Rf",
    "outputId": "08a25e9e-2e34-4884-b203-7536c019feac"
   },
   "outputs": [],
   "source": [
    "middle_scores = np.array([\n",
    "    [80,92,70,65,92],\n",
    "    [91,75,90,68,85],\n",
    "    [86,76,42,72,88],\n",
    "    [77,92,52,60,80],\n",
    "    [75,85,85,92,95],\n",
    "    [96,90,95,81,72]\n",
    "])\n",
    "\n",
    "final_scores = np.array([\n",
    "    [85,95,90,66,93],\n",
    "    [93,70,80,60,81],\n",
    "    [89,78,55,75,80],\n",
    "    [80,94,59,72,90],\n",
    "    [70,82,81,95,72],\n",
    "    [90,76,93,82,89]\n",
    "])\n",
    "\n",
    "scores = np.stack([middle_scores,final_scores])\n",
    "\n",
    "scores"
   ]
  },
  {
   "cell_type": "code",
   "execution_count": null,
   "metadata": {
    "colab": {
     "base_uri": "https://localhost:8080/",
     "height": 33
    },
    "colab_type": "code",
    "executionInfo": {
     "elapsed": 570,
     "status": "ok",
     "timestamp": 1551671305980,
     "user": {
      "displayName": "최선열",
      "photoUrl": "",
      "userId": "00663027191814710813"
     },
     "user_tz": -540
    },
    "id": "kNGnWsIb0RBW",
    "outputId": "6a41bb2f-3c32-4c5c-f0ab-f83b7936fc19"
   },
   "outputs": [],
   "source": [
    "scores.shape"
   ]
  },
  {
   "cell_type": "markdown",
   "metadata": {
    "colab_type": "text",
    "id": "M1nhRjsbO6Rl"
   },
   "source": [
    "## 1. Numpy Array에서 축을 중심으로 평균 구하기"
   ]
  },
  {
   "cell_type": "code",
   "execution_count": null,
   "metadata": {
    "colab": {
     "base_uri": "https://localhost:8080/",
     "height": 33
    },
    "colab_type": "code",
    "executionInfo": {
     "elapsed": 556,
     "status": "ok",
     "timestamp": 1551672616102,
     "user": {
      "displayName": "최선열",
      "photoUrl": "",
      "userId": "00663027191814710813"
     },
     "user_tz": -540
    },
    "id": "xPZouEPM5QrB",
    "outputId": "b864aa61-fd2b-4666-be0e-f571cb297286"
   },
   "outputs": [],
   "source": [
    "scores.shape"
   ]
  },
  {
   "cell_type": "markdown",
   "metadata": {
    "colab_type": "text",
    "id": "KALm-dei5SbX"
   },
   "source": [
    "shape의 (2, 6, 5)의 의미는 아래와 같습니다. <br>\n",
    "\n",
    "\n",
    "axis = 0 에서 2 : 각 기간(중간고사, 기말고사)를 의미<br>\n",
    "axis = 1 에서 6 : 여섯명의 학생들을 의미<br>\n",
    "axis = 2 에서 5 : 다섯개의 과목들을 의미<br>"
   ]
  },
  {
   "cell_type": "markdown",
   "metadata": {
    "colab_type": "text",
    "id": "F_ac_F0QO6Rm"
   },
   "source": [
    "### 예제 1) 전체 평균 점수 \n",
    "\n",
    "중간, 기말을 통틀어, 학생들이 받는 평균 성적은 얼마인지 알아보려면 어떻게 해야 할까요? 모든 원소를 더해야 하기 때문에 연산의 기준이 되는 축을 지정하지 않습니다. "
   ]
  },
  {
   "cell_type": "code",
   "execution_count": null,
   "metadata": {
    "colab": {},
    "colab_type": "code",
    "id": "L7YAyDE3O6Rn",
    "outputId": "314997bf-5d82-4513-f24b-fbfdba4a9439"
   },
   "outputs": [],
   "source": [
    "# TODO\n"
   ]
  },
  {
   "cell_type": "markdown",
   "metadata": {
    "colab_type": "text",
    "id": "KVPGifrHO6Rs"
   },
   "source": [
    "### 예제 2) (학생 X 과목) 별 평균 점수 \n",
    "\n",
    "학생들의 과목 별 평균 성적(즉 중간과 기말의 평균)을 구하려면 어떻게 해야 할까요? 기존의 scores 데이터는 (시험 시기, 학생 번호, 과목)의 형태였습니다. 중간고사와 기말고사 성적을 평균내어 (학생 X 과목) 형태의 결과를 반환해야 합니다. 평균을 구하는 기준인 \"시험 시기\"는 0번 축이기 때문에 `.mean(axis = 0)`으로 설정합니다. "
   ]
  },
  {
   "cell_type": "code",
   "execution_count": null,
   "metadata": {
    "colab": {
     "base_uri": "https://localhost:8080/",
     "height": 115
    },
    "colab_type": "code",
    "executionInfo": {
     "elapsed": 586,
     "status": "ok",
     "timestamp": 1551672124422,
     "user": {
      "displayName": "최선열",
      "photoUrl": "",
      "userId": "00663027191814710813"
     },
     "user_tz": -540
    },
    "id": "Fofxw1b0O6Rt",
    "outputId": "e015e785-8929-42b2-e7e6-b49ca997c088"
   },
   "outputs": [],
   "source": [
    "# TODO \n"
   ]
  },
  {
   "cell_type": "markdown",
   "metadata": {
    "colab_type": "text",
    "id": "w0DhJX6fO6Rw"
   },
   "source": [
    "### 예제 3) (시험 시기 X 과목) 별 평균 점수 \n",
    "\n",
    "과목 별로 중간 기말의 성적 차이는 어떻게 확인해야 할까요? 학생들의 성적을 하나로 합쳐서 (시험 시기 X 과목) 형태의 결과를 구해야 할 것입니다. 즉, 각 기간별로 각 과목별 모든 학생들의 평균을 구해야 하는 것이죠. "
   ]
  },
  {
   "cell_type": "code",
   "execution_count": null,
   "metadata": {},
   "outputs": [],
   "source": [
    "# TODO\n"
   ]
  },
  {
   "cell_type": "markdown",
   "metadata": {
    "colab_type": "text",
    "id": "GR30sa9BO6R1"
   },
   "source": [
    "### 예제 4) (학생 X 기간) 별 평균 점수\n",
    "\n",
    "학생 별로 중간 고사 대비 기말 고사가 얼마나 올라갔는지 확인하려면 어떻게 해야 할까요? 각 학생, 기간별 모든 과목의 평균을 알기 위해서는 과목별 점수를 하나로 합쳐서 (학생 X 시험 시기) 형태의 결과를 만들어야 합니다. "
   ]
  },
  {
   "cell_type": "code",
   "execution_count": null,
   "metadata": {
    "colab": {
     "base_uri": "https://localhost:8080/",
     "height": 33
    },
    "colab_type": "code",
    "executionInfo": {
     "elapsed": 610,
     "status": "ok",
     "timestamp": 1551672857545,
     "user": {
      "displayName": "최선열",
      "photoUrl": "",
      "userId": "00663027191814710813"
     },
     "user_tz": -540
    },
    "id": "byUSb92G1wxM",
    "outputId": "deed6b09-b931-4027-f971-edf1a369df10"
   },
   "outputs": [],
   "source": [
    "# TODO\n"
   ]
  },
  {
   "cell_type": "markdown",
   "metadata": {
    "colab_type": "text",
    "id": "h3-sxdSFO6R-"
   },
   "source": [
    "### 예제 5) 학생 별 평균 점수 \n",
    "\n",
    "이번에는 1학기 학업 등수를 내기 위해, 학생 별 전체 평균 성적을 구해봅시다. 각 학생이 본 중간고사와 기말고사의 모든 성적을 합쳐 `(6,)` 형태의 결과를 반환해야 합니다. 즉, axis = 0 인 각 기간과 axis = 2인 각 과목의 값을 하나로 합쳐야 하는 것이죠. `.mean(axis = (0,2))`로 설정합니다. "
   ]
  },
  {
   "cell_type": "code",
   "execution_count": null,
   "metadata": {
    "colab": {
     "base_uri": "https://localhost:8080/",
     "height": 33
    },
    "colab_type": "code",
    "executionInfo": {
     "elapsed": 714,
     "status": "ok",
     "timestamp": 1551672377488,
     "user": {
      "displayName": "최선열",
      "photoUrl": "",
      "userId": "00663027191814710813"
     },
     "user_tz": -540
    },
    "id": "pQT44qtO2hgW",
    "outputId": "9bc7f160-75cb-4ab1-c087-4fbdcbab6f81"
   },
   "outputs": [],
   "source": [
    "# TODO\n"
   ]
  },
  {
   "cell_type": "markdown",
   "metadata": {
    "colab_type": "text",
    "id": "l2xZeidfO6SM"
   },
   "source": [
    "### 예제 6) 과목 별 평균 점수 \n",
    "\n",
    "1학기 과목별 난이도를 평가하기 위해 과목별 전체 평균 성적을 구해봅시다. 각 과목별로 중간고사와 기말고사의 모든 성적을 합쳐 `(5,)` 형태의 결과를 반환해야 합니다. 즉, axis = 0 인 각 기간과 axis = 1인 각 학생의 값을 하나로 합쳐야 하는 것이죠. `.mean(axis = (0,1))`로 설정합니다. "
   ]
  },
  {
   "cell_type": "code",
   "execution_count": null,
   "metadata": {},
   "outputs": [],
   "source": [
    "# TODO\n"
   ]
  },
  {
   "cell_type": "markdown",
   "metadata": {
    "colab_type": "text",
    "id": "ElsyQ5ceO6Se"
   },
   "source": [
    "## 2. 기초 통계량 집계함수\n",
    "+ 평균 이외에도 `min`, `max`, `std`, `sum` 등의 함수가 동작합니다.\n",
    "\n",
    "아래의 예시를 통해 다양하게 적용해 봅시다."
   ]
  },
  {
   "cell_type": "markdown",
   "metadata": {
    "colab_type": "text",
    "id": "_cqP61PsO6Sf"
   },
   "source": [
    "### 1) 전체를 기준으로 적용"
   ]
  },
  {
   "cell_type": "code",
   "execution_count": null,
   "metadata": {
    "colab": {},
    "colab_type": "code",
    "id": "kpZXxzWoO6Sg",
    "outputId": "58d35134-3e81-4ba7-e23a-2b54315f71d7"
   },
   "outputs": [],
   "source": [
    "np.sum(scores) # 전체 합"
   ]
  },
  {
   "cell_type": "code",
   "execution_count": null,
   "metadata": {
    "colab": {},
    "colab_type": "code",
    "id": "4qrZIHaRO6Sj",
    "outputId": "2e3d37fe-0a68-4925-e016-862706c74170"
   },
   "outputs": [],
   "source": [
    "np.max(scores) # 전체 중 최대값"
   ]
  },
  {
   "cell_type": "code",
   "execution_count": null,
   "metadata": {
    "colab": {},
    "colab_type": "code",
    "id": "7uISZjAwO6Sn",
    "outputId": "c16952b9-31f1-4e2d-c5a3-f7576b42bc41"
   },
   "outputs": [],
   "source": [
    "np.min(scores) # 전체 중 최소값"
   ]
  },
  {
   "cell_type": "code",
   "execution_count": null,
   "metadata": {
    "colab": {},
    "colab_type": "code",
    "id": "bUwSWxSbO6St",
    "outputId": "46ce3939-5ca1-4f5d-d59f-567c33f2224b"
   },
   "outputs": [],
   "source": [
    "np.std(scores) # 전체의 표준 편자"
   ]
  },
  {
   "cell_type": "markdown",
   "metadata": {
    "colab_type": "text",
    "id": "Jji3drmvO6Sw"
   },
   "source": [
    "### 예제 2) (학생 X 과목) 별로 적용"
   ]
  },
  {
   "cell_type": "code",
   "execution_count": null,
   "metadata": {
    "colab": {},
    "colab_type": "code",
    "id": "N7jOKuy8O6Sx",
    "outputId": "f379407b-63b5-4fcc-c8d9-d6c5f3d0c26d"
   },
   "outputs": [],
   "source": [
    "np.sum(scores,axis=0) # 학생 & 과목 별 합"
   ]
  },
  {
   "cell_type": "code",
   "execution_count": null,
   "metadata": {
    "colab": {},
    "colab_type": "code",
    "id": "KQRQXWzKO6S1",
    "outputId": "d3b6233b-60f4-4d92-d9c3-834973afab0d"
   },
   "outputs": [],
   "source": [
    "np.max(scores,axis=0) # 학생 & 과목 별 최대값"
   ]
  },
  {
   "cell_type": "code",
   "execution_count": null,
   "metadata": {
    "colab": {},
    "colab_type": "code",
    "id": "ZRE21300O6S4",
    "outputId": "96df8c71-0f31-42d8-96eb-a5702c28ac1e"
   },
   "outputs": [],
   "source": [
    "np.min(scores,axis=0) # 학생 & 과목 별 최소값"
   ]
  },
  {
   "cell_type": "code",
   "execution_count": null,
   "metadata": {
    "colab": {},
    "colab_type": "code",
    "id": "evj9PzmUO6S8",
    "outputId": "68a9eede-bd2d-4800-ae67-17cbff156352"
   },
   "outputs": [],
   "source": [
    "np.std(scores,axis=0) # 학생 & 과목 별 표준 편자"
   ]
  },
  {
   "cell_type": "markdown",
   "metadata": {
    "colab_type": "text",
    "id": "ZCgp3cyUO6TD"
   },
   "source": [
    "### 예제 3) (기간 X 과목) 별로 적용\n"
   ]
  },
  {
   "cell_type": "code",
   "execution_count": null,
   "metadata": {
    "colab": {},
    "colab_type": "code",
    "id": "VsLP4DiJO6TE",
    "outputId": "4ed8a800-ccc2-4f19-ae8a-222e91fc50a0"
   },
   "outputs": [],
   "source": [
    "np.sum(scores,axis=1) # 기간 & 과목 별 합"
   ]
  },
  {
   "cell_type": "code",
   "execution_count": null,
   "metadata": {
    "colab": {},
    "colab_type": "code",
    "id": "MgajNUU6O6TH",
    "outputId": "6be724bd-d06f-433a-cf29-20f46cad066e"
   },
   "outputs": [],
   "source": [
    "np.max(scores,axis=1) # 기간 & 과목 별 최대값"
   ]
  },
  {
   "cell_type": "code",
   "execution_count": null,
   "metadata": {
    "colab": {},
    "colab_type": "code",
    "id": "qAr7r1McO6TM",
    "outputId": "ddfd7b23-c56f-4771-ed66-5e3539329b51"
   },
   "outputs": [],
   "source": [
    "np.min(scores,axis=1) # 기간 & 과목 별 최소값"
   ]
  },
  {
   "cell_type": "code",
   "execution_count": null,
   "metadata": {
    "colab": {},
    "colab_type": "code",
    "id": "zEerK_4KO6Te",
    "outputId": "6f0e3061-71af-4be7-9c9e-f9647f979d57"
   },
   "outputs": [],
   "source": [
    "np.std(scores,axis=1) # 기간 & 과목 별 표준 편자"
   ]
  },
  {
   "cell_type": "markdown",
   "metadata": {
    "colab_type": "text",
    "id": "4swWHPVWO6Tm"
   },
   "source": [
    "### 예제 4) (학생 X 기간) 별 적용\n"
   ]
  },
  {
   "cell_type": "code",
   "execution_count": null,
   "metadata": {
    "colab": {},
    "colab_type": "code",
    "id": "X36zwYPuO6To",
    "outputId": "8b68d2cb-da26-4782-a633-9e661d5ddc44"
   },
   "outputs": [],
   "source": [
    "np.sum(scores,axis=2) # 기간 & 과목 별 합"
   ]
  },
  {
   "cell_type": "code",
   "execution_count": null,
   "metadata": {
    "colab": {},
    "colab_type": "code",
    "id": "68t_9fJGO6Ts",
    "outputId": "b3d77356-533b-4fb5-f443-4b53b9bde494"
   },
   "outputs": [],
   "source": [
    "np.max(scores,axis=2) # 기간 & 과목 별 최대값"
   ]
  },
  {
   "cell_type": "code",
   "execution_count": null,
   "metadata": {
    "colab": {},
    "colab_type": "code",
    "id": "TwO9cb8UO6T2",
    "outputId": "524ecdf8-59ea-4260-ea63-6711df70d705"
   },
   "outputs": [],
   "source": [
    "np.min(scores,axis=2) # 기간 & 과목 별 최소값"
   ]
  },
  {
   "cell_type": "code",
   "execution_count": null,
   "metadata": {
    "colab": {},
    "colab_type": "code",
    "id": "Y_qS4-QhO6T_",
    "outputId": "505a8c24-7f93-4295-ddec-a9cf03486e76",
    "scrolled": true
   },
   "outputs": [],
   "source": [
    "np.std(scores,axis=2) # 기간 & 과목 별 표준 편자"
   ]
  },
  {
   "cell_type": "markdown",
   "metadata": {},
   "source": [
    "## 3. 기타 집계함수\n",
    "* Numpy에는 위와 같은 연산 함수들 뿐만 아니라 다양한 집계함수들이 있습니다.\n",
    "* `np.all`, `np.any`, `np.unique`등의 함수에 대해 알아봅시다."
   ]
  },
  {
   "cell_type": "markdown",
   "metadata": {},
   "source": [
    "### (1) np.all()\n",
    "\n",
    "`np.all`함수는 구성 원소 모두가 True 일때만 True를 반환하고 하나라도 False가 있으면 False를 반환합니다. 예를 들어 축을 기준으로 구성 원소들이 조건을 하나라도 충족하지 못하는 경우 False를 반환하며, 모든 원소들이 조건을 만족시켜야 True를 반환합니다. 또는 Array 간 비교 시 원소가 하나라도 같지 않으면 False를, 원소가 모두 같다면 True를 반환합니다. "
   ]
  },
  {
   "cell_type": "markdown",
   "metadata": {},
   "source": [
    "#### 예제 ) 장학금 수령 가능 학생 수 구하기\n",
    "중간고사와 기말고사 영어성적이 모두 90점 이상인 학생에게 영어과목 장학금을 수여하고자 할 때, 영어과목 장학금을 받을 수 있는 학생수를 구해봅시다. 중간고사와 \n",
    "기말고사 모두 90점 이상이어야 하므로 `np.all()` 함수를 사용할 수 있을 것입니다. 그럼 기준 축은 무엇이 되어야 할까요? **중간고사와 기말고사 성적을 압축해서 True 혹은 False 값으로 나타내야 하므로 시험시기에 해당하는 0번 축을 기준으로 `np.all()` 연산을 수행해야 합니다.**\n",
    "\n",
    "학생 6명의 중간고사와 기말고사 영어 성적은 다음과 같습니다. "
   ]
  },
  {
   "cell_type": "code",
   "execution_count": null,
   "metadata": {},
   "outputs": [],
   "source": [
    "# TODO\n"
   ]
  },
  {
   "cell_type": "markdown",
   "metadata": {},
   "source": [
    "중간고사와 기말고사 각각이 90점을 넘었는지 확인해보면 아래와 같습니다. "
   ]
  },
  {
   "cell_type": "code",
   "execution_count": null,
   "metadata": {},
   "outputs": [],
   "source": [
    "# TODO"
   ]
  },
  {
   "cell_type": "markdown",
   "metadata": {},
   "source": [
    "위 결과를 가지고 중간고사와 기말고사 성적 모두 True를 반환한 결과를 얻으려면 `axis =0`으로 설정합니다. "
   ]
  },
  {
   "cell_type": "code",
   "execution_count": null,
   "metadata": {
    "scrolled": false
   },
   "outputs": [],
   "source": [
    "# TODO"
   ]
  },
  {
   "cell_type": "markdown",
   "metadata": {},
   "source": [
    "마지막 학생의 경우 중간고사는 90점(True)이었지만 기말고사는 76점(False)이어서 False를 반환했습니다. \n",
    "\n",
    "중간고사와 기말고사 모두 90점을 넘은 학생의 수, 즉 장학금을 받아야 할 학생은 몇 명인가요? True와 False 같이 논리형 연산자로 구성된 Numpy Array로 sum을 하게 되면 True의 총 갯수를 반환합니다. "
   ]
  },
  {
   "cell_type": "code",
   "execution_count": null,
   "metadata": {},
   "outputs": [],
   "source": [
    "# TODO"
   ]
  },
  {
   "cell_type": "markdown",
   "metadata": {},
   "source": [
    "### (2) np.any()\n",
    "\n",
    "`np.any`함수는 구성 원소 중 하나라도 True가 있으면 True를 반환합니다. 예를 들어 축을 기준으로 구성 원소들이 원소들이 조건을 하나라도 충족할 때는 True를 반환하고, 모두 조건을 충족하지 않아야 False를 반환합니다. 또는 Array 간 비교 시 원소가 모두 달라야 False를, 원소가 하나라도 같으면 True를 반환합니다. \n",
    "\n"
   ]
  },
  {
   "cell_type": "markdown",
   "metadata": {},
   "source": [
    "#### 예제 ) 수학과목 계절학기 필수 수강 학생 수 구하기\n",
    "중간고사, 기말고사의 수학 점수가 하나라도 55점 이하라면 수학과목 계절학기를 필수적으로 수강해야한다고 할 때, 수강해야 하는 학생 수를 구해봅시다. \n",
    "\n",
    "학생들의 중간고사와 기말고사 수학 성적은 아래와 같습니다. "
   ]
  },
  {
   "cell_type": "code",
   "execution_count": null,
   "metadata": {},
   "outputs": [],
   "source": [
    "# TODO\n"
   ]
  },
  {
   "cell_type": "markdown",
   "metadata": {},
   "source": [
    "중간고사와 기말고사 각각이 55 점을 넘지 못했는지 확인해보면 아래와 같습니다. "
   ]
  },
  {
   "cell_type": "code",
   "execution_count": null,
   "metadata": {},
   "outputs": [],
   "source": [
    "# TODO\n"
   ]
  },
  {
   "cell_type": "markdown",
   "metadata": {},
   "source": [
    "위 결과를 가지고 중간고사와 기말고사 성적 둘 중 하나라도 True이면 True를 반환한 결과를 얻으려면 `axis =0`으로 설정합니다. "
   ]
  },
  {
   "cell_type": "code",
   "execution_count": null,
   "metadata": {},
   "outputs": [],
   "source": [
    "# TODO\n"
   ]
  },
  {
   "cell_type": "markdown",
   "metadata": {},
   "source": [
    "수학 과목 계절학기를 수강해야 하는 학생 수는 아래와 같습니다. "
   ]
  },
  {
   "cell_type": "code",
   "execution_count": null,
   "metadata": {},
   "outputs": [],
   "source": [
    "# TODO\n"
   ]
  },
  {
   "cell_type": "markdown",
   "metadata": {},
   "source": [
    "### (3) np.unique()\n",
    "\n",
    "`np.unique()` 함수는 입력된 Array에서 중복된 원소를 제거한 후, 중복되지 않는 유일한 요소들의 numpy array를 정렬하여 반환합니다. 이는 python의 `set`자료형과 비슷해보이지만 더 많은 기능을 가지고 있습니다. `np.unique`함수는 여러 parameter값이 존재하는데, 우리는 이 parameter값들을 조정하여 numpy array의 원소의 갯수를 구할 수 있습니다."
   ]
  },
  {
   "cell_type": "markdown",
   "metadata": {
    "colab_type": "text",
    "id": "34r66vr2O6Re"
   },
   "source": [
    "#### 예제 데이터 ) 워터파크 손님들의 연령대\n",
    "\n",
    "지난 여름 어느날 워터파크를 방문한 손님의 연령대와 관련해 아래와 같은 데이터를 얻었다고 합시다. "
   ]
  },
  {
   "cell_type": "code",
   "execution_count": null,
   "metadata": {},
   "outputs": [],
   "source": [
    "A = np.array([\"영유아\",\"성인\",\"성인\",\"청소년\", \"성인\", \"성인\", \"청소년\", \"영유아\",\n",
    "              \"청소년\",\"영유아\",\"청소년\",\"성인\",\"성인\", \"영유아\", \"성인\", \"청소년\",\n",
    "              \"청소년\",\"성인\",\"영유아\",\"청소년\",\"영유아\", \"청소년\", \"성인\", \"성인\"])"
   ]
  },
  {
   "cell_type": "markdown",
   "metadata": {},
   "source": [
    "#### 예제 1) Numpy Array의 고유한 값 찾기\n",
    "\n",
    "`np.unique`함수를 통해 `A`를 구성하는 고유한 값이 정렬된 결과를 확인할 수 있습니다."
   ]
  },
  {
   "cell_type": "code",
   "execution_count": null,
   "metadata": {
    "scrolled": false
   },
   "outputs": [],
   "source": [
    "np.unique(A)"
   ]
  },
  {
   "cell_type": "markdown",
   "metadata": {},
   "source": [
    "#### 예제 2) `np.unique`의 파라미터 : `return_index`\n",
    "\n",
    "`np.unique`함수의 parameter `return_index`에 True의 값을 주면, 유일한 값들이 처음으로 등장하는 index를 반환합니다."
   ]
  },
  {
   "cell_type": "code",
   "execution_count": null,
   "metadata": {
    "scrolled": true
   },
   "outputs": [],
   "source": [
    "np.unique(A, return_index=True)"
   ]
  },
  {
   "cell_type": "markdown",
   "metadata": {},
   "source": [
    "#### 예제 3) `np.unique`의 파라미터 : `return_inverse`\n",
    "\n",
    "`np.unique`함수의 parameter `return_inverse`에 True의 값을 주면, `np.unique()`함수에 입력한 Array `A`를 고유값 Array(`np.unique(A)`)의 인덱스로 바꾼 Array를 반환합니다."
   ]
  },
  {
   "cell_type": "code",
   "execution_count": null,
   "metadata": {
    "scrolled": true
   },
   "outputs": [],
   "source": [
    "np.unique(A,return_inverse=True)"
   ]
  },
  {
   "cell_type": "markdown",
   "metadata": {},
   "source": [
    "이렇게 `return_inverse`에 True의 값을 주어 문자형 데이터를 unique array와 unique array의 인덱스 값이 저장된 Array로 분리하여 저장하면  문자열 데이터를 정수형 데이터로 재구성할 수 있게 되며, 메모리의 압축 효과를 얻을 수 있습니다."
   ]
  },
  {
   "cell_type": "markdown",
   "metadata": {},
   "source": [
    "#### 예제 4) `np.unique`의 파라미터 : `return_counts`\n",
    "\n",
    "`np.unique`함수의 파라미터로 `return_counts`에 True의 값을 주면, Array안에 중복되는 값들이 몇 개나 존재하는지를 반환합니다. 우리는 이를 통해 각각의 고유한 값이 몇 개씩 들어있는지 알 수 있습니다. "
   ]
  },
  {
   "cell_type": "code",
   "execution_count": null,
   "metadata": {
    "scrolled": false
   },
   "outputs": [],
   "source": [
    "np.unique(A,return_counts=True)"
   ]
  },
  {
   "cell_type": "markdown",
   "metadata": {},
   "source": [
    "고유한 값 Array와 각 값의 갯수를 담은 Array를 각각 `arr`과 `count`에 저장한 후, `count.sum()`을 하면 전체 원소의 수를 구할 수도 있습니다. "
   ]
  },
  {
   "cell_type": "code",
   "execution_count": null,
   "metadata": {
    "scrolled": true
   },
   "outputs": [],
   "source": [
    "arr, count = np.unique(A,return_counts=True)\n",
    "count.sum()"
   ]
  },
  {
   "cell_type": "markdown",
   "metadata": {},
   "source": [
    "각각의 교유한 값이 몇 개씩 존재하는지를 직관적으로 확인하고 싶다면 dictionary 형태로 만들어 저장하면 됩니다. "
   ]
  },
  {
   "cell_type": "code",
   "execution_count": null,
   "metadata": {
    "scrolled": false
   },
   "outputs": [],
   "source": [
    "{key:values for key, values in zip(*np.unique(A,return_counts=True))}"
   ]
  },
  {
   "cell_type": "markdown",
   "metadata": {},
   "source": [
    "# \\[ 2. Numpy Array의 축 기준 정렬 \\]\n",
    "\n",
    "`np.sort`함수의 파라미터로 축을 설정하면 해당 축을 기준으로 array 안의 원소를 크기에 따라 정렬할 수 있으며, `np.argsort`를 이용하면 정렬된 값의 인덱스를 확인할 수 있습니다."
   ]
  },
  {
   "cell_type": "markdown",
   "metadata": {
    "colab_type": "text",
    "id": "34r66vr2O6Re"
   },
   "source": [
    "### 예제 데이터 )  학생들의 국영수사과 성적표\n",
    "\n",
    "\n",
    "#### 데이터 1) 중간고사, 학생들의 국영수사과 성적표\n",
    "`middle_scores`\n",
    "\n",
    "| 학생 번호 | 국어 | 영어 | 수학 | 사회 | 과학 |\n",
    "|  ----   | --- |---| --- | --- | --- |\n",
    "|0 |80 |92 |70 | 65 | 92 |\n",
    "|1 |91 |75 |90 | 68 | 85 | \n",
    "|2 |86 |76 |42 | 72 | 88 |\n",
    "|3 |77 |92 |52 | 60 | 80 |\n",
    "|4 |75 |85 |85 | 92 | 95 |\n",
    "|5 |96 |90 |95 | 81 | 72 |\n",
    "\n",
    "#### 데이터 2) 기말고사, 학생들의 국영수사과 성적표\n",
    "`final_scores`\n",
    "\n",
    "| 학생 번호 | 국어 | 영어 | 수학 | 사회 | 과학 |\n",
    "|  ----   | --- |---| --- | --- | --- |\n",
    "|0 |85 |95 |90 | 66 | 93 |\n",
    "|1 |93 |70 |80 | 60 | 81 | \n",
    "|2 |89 |78 |55 | 75 | 80 |\n",
    "|3 |80 |94 |59 | 72 | 90 |\n",
    "|4 |70 |82 |81 | 95 | 72 |\n",
    "|5 |90 |76 |93 | 82 | 89 |"
   ]
  },
  {
   "cell_type": "code",
   "execution_count": null,
   "metadata": {},
   "outputs": [],
   "source": [
    "middle_scores = np.array([\n",
    "    [80,92,70,65,92],\n",
    "    [91,75,90,68,85],\n",
    "    [86,76,42,72,88],\n",
    "    [77,92,52,60,80],\n",
    "    [75,85,85,92,95],\n",
    "    [96,90,95,81,72]\n",
    "])\n",
    "\n",
    "final_scores = np.array([\n",
    "    [85,95,90,66,93],\n",
    "    [93,70,80,60,81],\n",
    "    [89,78,55,75,80],\n",
    "    [80,94,59,72,90],\n",
    "    [70,82,81,95,72],\n",
    "    [90,76,93,82,89]\n",
    "])\n",
    "\n",
    "scores = np.stack([middle_scores,final_scores])\n",
    "\n",
    "scores # shape : (2, 6, 5) --> (중간/기말, 학생, 과목)"
   ]
  },
  {
   "cell_type": "markdown",
   "metadata": {
    "colab_type": "text",
    "id": "h3-sxdSFO6R-"
   },
   "source": [
    "### 예제 1) 학생들의 국어성적 정렬하기 : 벡터의 `np.sort`\n",
    "\n",
    "학생들의 중간고사 국어성적을 정렬하기 위해 `np.sort`를 사용해보겠습니다. `scores`는 `(2,6,5)`의 shape을 가지는 Array로, 각각 `(시험시기, 학생, 과목)`을 의미합니다. 중간고사는 0번 축의 0번 요소이고 국어 과목은 2번 축의 0번 요소이므로 `[0, :, 0]`으로 인덱싱하면 중간고사 국어 성적을 가져올 수 있습니다. 중간고사 국어 성적을 정렬해봅시다. "
   ]
  },
  {
   "cell_type": "code",
   "execution_count": null,
   "metadata": {
    "scrolled": true
   },
   "outputs": [],
   "source": [
    "# TODO : 모든학생들의 중간고사 국어성적을 오름차순 정렬하기\n"
   ]
  },
  {
   "cell_type": "markdown",
   "metadata": {
    "colab_type": "text",
    "id": "h3-sxdSFO6R-"
   },
   "source": [
    "### 예제 2) 학생들의 전체 성적 정렬 : 행렬의 `np.sort`\n",
    "\n",
    "학생들의 중간고사 성적을 학생별로 오름차순으로 정렬해봅시다. 중간고사 성적은 다음과 같습니다. "
   ]
  },
  {
   "cell_type": "code",
   "execution_count": null,
   "metadata": {},
   "outputs": [],
   "source": [
    "# TODO : 학생들의 중간고사 성적을 오름차순으로 정렬하기\n"
   ]
  },
  {
   "cell_type": "markdown",
   "metadata": {
    "colab_type": "text",
    "id": "h3-sxdSFO6R-"
   },
   "source": [
    "### 예제 3) 학생들의 국어성적 정렬 결과의 원본 인덱스 가져오기 : 벡터의 `np.argsort`\n",
    "\n",
    "정렬된 학생들이 원본 Array에서 어떤 값인지 알려면 인덱스를 알아야 합니다. 중간고사 국어성적의 인덱스를 `np.argsort`를 사용해 알아봅시다."
   ]
  },
  {
   "cell_type": "code",
   "execution_count": null,
   "metadata": {
    "scrolled": true
   },
   "outputs": [],
   "source": [
    "# TODO : 학생들의 중간고사 국어성적 정렬 결과의 원본 인덱스 가져오기 (학생 번호 가져오기)\n"
   ]
  },
  {
   "cell_type": "markdown",
   "metadata": {
    "colab_type": "text",
    "id": "h3-sxdSFO6R-"
   },
   "source": [
    "### 예제 4) 학생들의 국어성적 정렬 : 행렬의 `np.argsort`\n",
    "\n",
    "이번에는 중간 고사 국어 성적이 높은 순서대로 `scores` 전체 데이터를 정렬해봅시다. 즉, 중간고사 국어성적을 기준으로 전체 성적을 정렬하는 것이죠. 중간고사 국어성적은 아래와 같습니다. "
   ]
  },
  {
   "cell_type": "code",
   "execution_count": null,
   "metadata": {},
   "outputs": [],
   "source": [
    "scores[0,:,0]"
   ]
  },
  {
   "cell_type": "markdown",
   "metadata": {},
   "source": [
    "중간고사 국어 성적을 낮은 점수부터 높은 점수 순서대로 정렬하면 아래와 같습니다. "
   ]
  },
  {
   "cell_type": "code",
   "execution_count": null,
   "metadata": {},
   "outputs": [],
   "source": [
    "np.sort(scores[0,:,0])"
   ]
  },
  {
   "cell_type": "markdown",
   "metadata": {},
   "source": [
    "위 결과에 해당하는 중간고사 국어 성적 순으로 학생 번호(=index)를 알아보면 아래와 같습니다."
   ]
  },
  {
   "cell_type": "code",
   "execution_count": null,
   "metadata": {},
   "outputs": [],
   "source": [
    "np.argsort(scores[0,:,0])"
   ]
  },
  {
   "cell_type": "markdown",
   "metadata": {},
   "source": [
    "이번에는 Section 3에서 배운 인덱싱 방법을 다시 떠올려봅시다. 인덱스는 단일 값으로 인덱싱 할수도 있고, Array로 만들어 인덱싱할 수도 있었습니다. `np.argsort(scores[0,:,0])`의 결과로 얻은 인덱스 Array로 1번 축(학생)의 인덱싱을 하게 되면 그 순서에 따라 정렬한 학생 성적을 얻을 수 있게 됩니다. "
   ]
  },
  {
   "cell_type": "code",
   "execution_count": null,
   "metadata": {
    "scrolled": true
   },
   "outputs": [],
   "source": [
    "# 중간고사 국어성적을 기준으로 정렬!\n",
    "scores[:,np.argsort(scores[0,:,0]), :]"
   ]
  },
  {
   "cell_type": "markdown",
   "metadata": {},
   "source": [
    "위 결과를 보면 중간고사 국어 성적 자리(=`[0, : ,0]`)가 아래와 같이 정렬되어 있음을 확인할 수 있습니다. "
   ]
  },
  {
   "cell_type": "code",
   "execution_count": null,
   "metadata": {},
   "outputs": [],
   "source": [
    "scores[:,np.argsort(scores[0,:,0]), :][0, : ,0]"
   ]
  },
  {
   "cell_type": "markdown",
   "metadata": {
    "colab_type": "text",
    "id": "sqE9TAC1O6UF"
   },
   "source": [
    "#  \n",
    "\n",
    "---\n",
    "\n",
    "    Copyright(c) 2019 by Public AI. All rights reserved.<br>\n",
    "    Writen by PAI, SangJae Kang ( rocketgrowthsj@publicai.co.kr )  last updated on 2019/03/04\n",
    "\n",
    "---"
   ]
  }
 ],
 "metadata": {
  "colab": {
   "collapsed_sections": [
    "34r66vr2O6Re",
    "UvPQnmcgyKzr",
    "F_ac_F0QO6Rm",
    "KVPGifrHO6Rs",
    "w0DhJX6fO6Rw",
    "GR30sa9BO6R1",
    "h3-sxdSFO6R-",
    "l2xZeidfO6SM",
    "_cqP61PsO6Sf",
    "Jji3drmvO6Sw",
    "ZCgp3cyUO6TD",
    "4swWHPVWO6Tm"
   ],
   "name": "5_Numpy의 주요함수들(2).ipynb",
   "provenance": [],
   "toc_visible": true,
   "version": "0.3.2"
  },
  "kernelspec": {
   "display_name": "Python 3",
   "language": "python",
   "name": "python3"
  },
  "language_info": {
   "codemirror_mode": {
    "name": "ipython",
    "version": 3
   },
   "file_extension": ".py",
   "mimetype": "text/x-python",
   "name": "python",
   "nbconvert_exporter": "python",
   "pygments_lexer": "ipython3",
   "version": "3.6.6"
  },
  "toc": {
   "base_numbering": 1,
   "nav_menu": {},
   "number_sections": false,
   "sideBar": true,
   "skip_h1_title": false,
   "title_cell": "Table of Contents",
   "title_sidebar": "Contents",
   "toc_cell": false,
   "toc_position": {},
   "toc_section_display": true,
   "toc_window_display": false
  },
  "varInspector": {
   "cols": {
    "lenName": 16,
    "lenType": 16,
    "lenVar": 40
   },
   "kernels_config": {
    "python": {
     "delete_cmd_postfix": "",
     "delete_cmd_prefix": "del ",
     "library": "var_list.py",
     "varRefreshCmd": "print(var_dic_list())"
    },
    "r": {
     "delete_cmd_postfix": ") ",
     "delete_cmd_prefix": "rm(",
     "library": "var_list.r",
     "varRefreshCmd": "cat(var_dic_list()) "
    }
   },
   "types_to_exclude": [
    "module",
    "function",
    "builtin_function_or_method",
    "instance",
    "_Feature"
   ],
   "window_display": false
  }
 },
 "nbformat": 4,
 "nbformat_minor": 2
}
