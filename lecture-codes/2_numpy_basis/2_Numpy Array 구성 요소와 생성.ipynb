{
 "cells": [
  {
   "cell_type": "markdown",
   "metadata": {
    "colab_type": "text",
    "id": "dx6VQXFIJTYy"
   },
   "source": [
    "<i><b>Public AI</b></i>\n",
    "<br>\n",
    "### Week 2. Numpy 기본기 다지기\n",
    "# Section 2. Numpy Array 구성 요소와 생성\n",
    "\n",
    "Array는 Numpy에서 데이터를 다루는 가장 기본이 되는 자료구조입니다. Numpy에서는 내부적으로 **Array를 중심으로 벡터화하여 연산이 구현(vectorized operation)되어 있기 때문에, 복잡한 선형대수 연산도 간단하고 빠르게 실행할 수 있습니다**. 따라서 Numpy의 강점을 극대화하여 활용하기 위해선 Numpy의 기본 자료 구조인 Array를 이해하는 것이 매우 중요합니다. \n",
    "\n",
    "지난 주차에 컴퓨터가 데이터를 처리하는 기본 기능에는 CRUD, 생성(Create), 읽기(Read), 갱신(Update), 삭제(Delete)가 있다고 배웠습니다. 이번 Section 2에서는 Numpy 패키지의 기본 자료구조인 Numpy Array의 구성 요소인 value, shape, data type 등을 이해하고, 이를 기반으로 Numpy Array를 생성(Create)하는 방법을 배워보겠습니다. "
   ]
  },
  {
   "cell_type": "markdown",
   "metadata": {},
   "source": [
    "\n",
    "### _Objective_\n",
    "1. **Numpy Array의 구성 요소**: Numpy Array 생성시 필수 설정 요소인 shape과 data type을 중심으로 numpy array의 기본 구조 및 차원과 축의 개념을 배웁니다. <br>\n",
    "2. **Numpy Array 생성하기**: Numpy Array를 생성하는 다양한 방법을 배웁니다.  <br>\n"
   ]
  },
  {
   "cell_type": "code",
   "execution_count": null,
   "metadata": {
    "colab": {},
    "colab_type": "code",
    "id": "QafQCnsuJTY0"
   },
   "outputs": [],
   "source": [
    "import numpy as np"
   ]
  },
  {
   "cell_type": "markdown",
   "metadata": {
    "colab_type": "text",
    "id": "o8MdmdUkJTY3"
   },
   "source": [
    "# \\[ 1. Numpy Array의 구성요소 \\]\n",
    "\n",
    "Numpy Array는 구성 요소(element)의 값(value)과 array의 형태(shape)를 설정해야 생성됩니다. 설정된 값에 따라 데이터 타입(Data type)이 자동으로 부여되기도 하고, 직접 명시할 수도 있습니다. Numpy Array의 중요한 특징인 shape과 datatype에 대해 배워봅시다."
   ]
  },
  {
   "cell_type": "markdown",
   "metadata": {
    "colab_type": "text",
    "id": "HjKYGaAUJTaj"
   },
   "source": [
    "## 1. Data Type\n",
    "\n",
    "+ Python에서 변수 생성 시, 입력한 데이터의 타입을 파악하여 자동으로 설정됩니다.\n",
    "+ List에서는 구성 요소의 데이터 타입이 달라도 상관 없습니다. 반면, Numpy의 Numpy Array에서는 **모든 구성 요소의 데이터 타입이 동일해야 합니다.**\n",
    "+ 때문에 Numpy Array를 생성할 때 입력하는 데이터의 Data Type을 확인( `dtype` 이용)하거나 변환( `astype` 이용)해야 할 때도 있습니다."
   ]
  },
  {
   "cell_type": "markdown",
   "metadata": {
    "colab_type": "text",
    "id": "HzIQi04rJTak"
   },
   "source": [
    "### (1) Numpy Array의 자료형변환(`type-casting`)\n",
    "\n",
    "List는 각 원소의 데이터 타입이 달라도 됩니다. 예를 들어 아래와 같이 정수형, 실수형, 논리형 데이터가 하나의 리스트 안에 들어갈 수도 있습니다. "
   ]
  },
  {
   "cell_type": "code",
   "execution_count": null,
   "metadata": {
    "colab": {},
    "colab_type": "code",
    "id": "-4uwutzHJTan",
    "outputId": "40d23558-e9ae-41d1-dacc-4bbf4570c506"
   },
   "outputs": [],
   "source": [
    "# List\n",
    "A_ = [1,1.2,False]\n",
    "A_"
   ]
  },
  {
   "cell_type": "markdown",
   "metadata": {
    "colab_type": "text",
    "id": "_66ATY4BJTal"
   },
   "source": [
    "반면, `np.array`는 `list`와 다르게 행렬 내 모든 타입이 같은 타입이어야만 합니다. 앞서 만든 List와 같이 `[1,1.2,False]`로 Array를 구성하면, 자동으로 `False`를 `0.`으로 바꾸어 Array를 생성합니다. 이처럼 Numpy에서는 서로 다른 형의 데이터를 입력하여 Array를 구성하면 **데이터의 타입을 통일하기 위해 자동 변환**하여 Array에 담습니다. "
   ]
  },
  {
   "cell_type": "code",
   "execution_count": null,
   "metadata": {
    "colab": {},
    "colab_type": "code",
    "id": "WnusSgqxJTav",
    "outputId": "73daa6bc-13d9-4c65-d837-5beb43518483"
   },
   "outputs": [],
   "source": [
    "# numpy array\n",
    "A = np.array([1,1.2,False])\n",
    "A"
   ]
  },
  {
   "cell_type": "markdown",
   "metadata": {
    "colab_type": "text",
    "id": "SFbGSW_2JTcA"
   },
   "source": [
    "### (2) `astype`으로 데이터의 타입 임의 변환하기\n",
    "`astype({변환할 데이터 타입})`으로, np.array를 구성하는 데이터를 원하는 타입으로 바꿀 수 있습니다."
   ]
  },
  {
   "cell_type": "code",
   "execution_count": null,
   "metadata": {
    "colab": {},
    "colab_type": "code",
    "id": "8AgAyhrRJTb3",
    "outputId": "41ad63e5-6cc8-4d5a-c58b-20160fd61a1b"
   },
   "outputs": [],
   "source": [
    "A = np.array([0,1,2,3,4,5])\n",
    "A"
   ]
  },
  {
   "cell_type": "code",
   "execution_count": null,
   "metadata": {
    "colab": {},
    "colab_type": "code",
    "id": "wrtRyX18JTcC",
    "outputId": "ea8f67ea-63c2-40fb-fd3c-d8990ecee82e"
   },
   "outputs": [],
   "source": [
    "A.astype(np.float) # int -> float으로 바꾸기"
   ]
  },
  {
   "cell_type": "code",
   "execution_count": null,
   "metadata": {
    "colab": {},
    "colab_type": "code",
    "id": "BE9YSFiYJTcH",
    "outputId": "46d3d1cd-c289-4c78-bdcc-275ba1933be4"
   },
   "outputs": [],
   "source": [
    "A.astype(np.bool) # int -> bool으로 바꾸기"
   ]
  },
  {
   "cell_type": "markdown",
   "metadata": {
    "colab_type": "text",
    "id": "EuFX48LDJTa4"
   },
   "source": [
    "### (3) `dtype` 으로 `np.array`의 데이터 타입 확인하기\n",
    "`dtype` 메소드를 이용해 현재 `np.array`를 구성하는 데이터 타입이 무엇인지 알 수 있습니다."
   ]
  },
  {
   "cell_type": "markdown",
   "metadata": {
    "colab_type": "text",
    "id": "DpXYaAyGJTa7"
   },
   "source": [
    "#### 1) boolean array"
   ]
  },
  {
   "cell_type": "code",
   "execution_count": null,
   "metadata": {
    "colab": {},
    "colab_type": "code",
    "id": "SqBKtLIYJTa-",
    "outputId": "70a5af68-efeb-4cb3-b148-27d08ebacb0d"
   },
   "outputs": [],
   "source": [
    "A = np.array([True,False])\n",
    "\n",
    "print(A.dtype)"
   ]
  },
  {
   "cell_type": "markdown",
   "metadata": {
    "colab_type": "text",
    "id": "hTtaYiYNJTbN"
   },
   "source": [
    "#### 2) int array"
   ]
  },
  {
   "cell_type": "code",
   "execution_count": null,
   "metadata": {
    "colab": {},
    "colab_type": "code",
    "id": "yN8EGcWUJTbO",
    "outputId": "67dec292-3222-453a-b817-9105b29f6d10"
   },
   "outputs": [],
   "source": [
    "A = np.array([1,2,3])\n",
    "\n",
    "print(A.dtype)"
   ]
  },
  {
   "cell_type": "markdown",
   "metadata": {
    "colab_type": "text",
    "id": "gt1C9mXmJTbY"
   },
   "source": [
    "#### 3) float array"
   ]
  },
  {
   "cell_type": "code",
   "execution_count": null,
   "metadata": {
    "colab": {},
    "colab_type": "code",
    "id": "Aj7qbzM1JTbb",
    "outputId": "7aa1f911-e75e-4b24-b4be-8ff5382d5086"
   },
   "outputs": [],
   "source": [
    "A = np.array([1.0,2.0,3.0])\n",
    "\n",
    "print(A.dtype)"
   ]
  },
  {
   "cell_type": "markdown",
   "metadata": {
    "colab_type": "text",
    "id": "0nQWNSoEJTbs"
   },
   "source": [
    "#### ※ numpy의 다양한 데이터 타입들\n",
    "Numpy에서는 이러한 논리형, 실수형, 정수형 데이터 외에도 다양한 데이터를 다룰 수 있습니다.\n",
    "\n",
    "|Data Type | Description |\n",
    "|----|----|\n",
    "|bool_ | Boolean (True or False) stored as a byte|\n",
    "|int_ | Default integer type (same as C long; normally either int64 or int32)|\n",
    "|intc | Identical to C int (normally int32 or int64)|\n",
    "|intp | Integer used for indexing (same as C ssize_t; normally either int32 or int64)|\n",
    "|int8 | Byte (-128 to 127)|\n",
    "|int16 | Integer (-32768 to 32767)|\n",
    "|int32 | Integer (-2147483648 to 2147483647)|\n",
    "|int64 | Integer (-9223372036854775808 to 9223372036854775807)|\n",
    "|uint8 | Unsigned integer (0 to 255)|\n",
    "|uint16 | Unsigned integer (0 to 65535)|\n",
    "|uint32 | Unsigned integer (0 to 4294967295)|\n",
    "|uint64 | Unsigned integer (0 to 18446744073709551615)|\n",
    "|float_ | Shorthand for float64.|\n",
    "|float16 | Half precision float: sign bit, 5 bits exponent, 10 bits mantissa|\n",
    "|float32 | Single precision float: sign bit, 8 bits exponent, 23 bits mantissa|\n",
    "|float64 | Double precision float: sign bit, 11 bits exponent, 52 bits mantissa|\n",
    "|complex_ | Shorthand for complex128.|\n",
    "|complex64 | Complex number, represented by two 32-bit floats (real and imaginary components)|\n",
    "|complex128 | Complex number, represented by two 64-bit floats (real and imaginary components)|"
   ]
  },
  {
   "cell_type": "markdown",
   "metadata": {
    "colab_type": "text",
    "id": "pT2GWVTsJTY4"
   },
   "source": [
    "## 2. Shape\n",
    "\n",
    "+ Numpy에서의 **Shape**은 Array의 '형태'를 뜻합니다. 수학에서의 행렬과 마찬가지로 Numpy Array는 각 축(예: 행과 열)을 구성하는 요소의 수가 같아야 합니다. <br>\n",
    "+ 메소드 `{array}.shape`로 형태는 어떠한지, `{array}.ndim`으로 몇 차원인지 확인할 수 있으며, `{array}.size`로 몇 개의 원소로 구성되어 있는지 확인할 수 있습니다.<br>\n",
    "+ Numpy Array에서는 1차원 벡터부터 N차원까지 다차원 행렬까지 모두 구현이 가능하며, `[`과`]`으로 차원을 구분하고 추가합니다. <br>\n",
    "+ N차원 Numpy Array에서 축은 0번부터 N-1번 까지 번호가 부여됩니다. 축은 집계 연산 혹은 데이터 추가 등 여러 Numpy 함수가 작동하는 기준이 됩니다. "
   ]
  },
  {
   "cell_type": "markdown",
   "metadata": {
    "colab_type": "text",
    "id": "aIgW-QwyJTZc"
   },
   "source": [
    "### (1) Numpy Array의 Shape 조건\n",
    "\n",
    "Numpy의 Array는 **각 축을 구성하는 요소의 갯수가 같아야 한다**는 점에서 Python의 List와 가장 큰 차이가 있습니다. `list`는 아래와 같이 서로 다른 길이의 리스트를 원소로 담을 수 있습니다."
   ]
  },
  {
   "cell_type": "code",
   "execution_count": null,
   "metadata": {
    "colab": {},
    "colab_type": "code",
    "id": "f7aUp4i5JTZe",
    "outputId": "2d22ea80-1d49-4b6d-eba5-b3ffd30f1c44"
   },
   "outputs": [],
   "source": [
    "# list는 아래와 같이 담을 수 있음\n",
    "A_ = [\n",
    "    [1,2,3,4,5], # 크기가 5\n",
    "    [2,3,4,5], # 크기가 4\n",
    "    [3,4,5,6,7] # 크기가 5\n",
    "]\n",
    "A_"
   ]
  },
  {
   "cell_type": "markdown",
   "metadata": {
    "colab_type": "text",
    "id": "2cB5-M1TJTZl"
   },
   "source": [
    "반면 `numpy.array`는 아래와 같이 각 행과 열별로 구성하는 원소의 수가 동일하게 정해져 있어야 하며, 이 갯수가 통일되지 않으면 생성할 수 없습니다. `np.array`는 수학에서의 행렬과 같다고 보면 됩니다. "
   ]
  },
  {
   "cell_type": "code",
   "execution_count": null,
   "metadata": {
    "colab": {},
    "colab_type": "code",
    "id": "prgNgM_3JTZo",
    "outputId": "6249a618-013b-4ccb-c9e3-3194dc998a61"
   },
   "outputs": [],
   "source": [
    "# array는 행 또는 열별로 크기가 다르면 하나의 array에 담을 수 없음\n",
    "A = np.array([\n",
    "    [1,2,3,4,5], # 크기가 5\n",
    "    [2,3,4,5], # 크기가 4\n",
    "    [3,4,5,6,7] # 크기가 5\n",
    "],dtype=np.int64)\n",
    "A"
   ]
  },
  {
   "cell_type": "markdown",
   "metadata": {},
   "source": [
    "어떻게 고쳐야 할까요? 아래와 같이 각 축(예: 행 또는 열)의 크기가 같아야 np.array를 생성할 수 있습니다."
   ]
  },
  {
   "cell_type": "code",
   "execution_count": null,
   "metadata": {},
   "outputs": [],
   "source": [
    "# array는 행 또는 열별로 크기가 같아야 함\n",
    "A = np.array([\n",
    "    [1,2,3,4,5], # 크기가 5\n",
    "    [2,3,4,5,6], # 크기가 5\n",
    "    [3,4,5,6,7] # 크기가 5\n",
    "],dtype=np.int64)\n",
    "A"
   ]
  },
  {
   "cell_type": "markdown",
   "metadata": {},
   "source": [
    "위 Array는 3개의 행과 5개의 열로 구성되어 있으며, Numpy Array에서는 이런 행렬의 shape을 아래와 같이 표기합니다."
   ]
  },
  {
   "cell_type": "code",
   "execution_count": null,
   "metadata": {},
   "outputs": [],
   "source": [
    "A.shape"
   ]
  },
  {
   "cell_type": "markdown",
   "metadata": {},
   "source": [
    "shape 표기는 오른쪽에서 왼쪽으로 읽으면 이해하기 쉽습니다. 위 경우 5개의 요소 묶음이 3개 있다는 뜻입니다.  <br> 즉 3 X 5, 15개의 원소로 구성된 array라는 뜻입니다. 이는 `.size`를 이용해 바로 확인할 수 있습니다.  "
   ]
  },
  {
   "cell_type": "code",
   "execution_count": null,
   "metadata": {},
   "outputs": [],
   "source": [
    "A.size"
   ]
  },
  {
   "cell_type": "markdown",
   "metadata": {
    "colab_type": "text",
    "id": "rxCrKYzVJTY4"
   },
   "source": [
    "### (2) Numpy Array의 차원(dimension)\n",
    "\n",
    "Numpy Array에서는 1차원 벡터부터 다차원 행렬까지 모두 구현이 가능하며, `[`과 `]`으로 차원을 구분하고 추가합니다. 예제를 통해 구체적으로 어떻게 작동하는지 살펴봅시다. "
   ]
  },
  {
   "cell_type": "markdown",
   "metadata": {},
   "source": [
    "#### 1) 1차원 행렬 `(n,)` \n",
    "\n",
    "1차원 행렬은 **Vector(벡터)**라고 부릅니다. 벡터는 `[`와 `]`을 한 단위로 볼 때 한 블럭의 데이터만으로 구성된 Array로 구현됩니다."
   ]
  },
  {
   "cell_type": "code",
   "execution_count": null,
   "metadata": {
    "colab": {},
    "colab_type": "code",
    "id": "ij-aqTb9JTY5",
    "outputId": "b770b13c-2928-4f0e-944c-b6fb9f76d901"
   },
   "outputs": [],
   "source": [
    "A_1D = np.array([1,2,3,4,5])\n",
    "\n",
    "print(\"A_1D 차원(ndim) : \", A_1D.ndim)\n",
    "print(\"A_1D 형태(shape) : \", A_1D.shape)\n",
    "print(\"A_1D 크기(size) : \", A_1D.size)"
   ]
  },
  {
   "cell_type": "markdown",
   "metadata": {},
   "source": [
    "1차원 행렬의 경우 `.shape`를 사용하면 하나의 숫자를 반환합니다. 이는 1차원 행렬이라는 의미이며, 이 숫자는 벡터를 구성하는 원소의 갯수를 의미합니다. "
   ]
  },
  {
   "cell_type": "markdown",
   "metadata": {
    "colab_type": "text",
    "id": "3_pFKUXOJTZJ"
   },
   "source": [
    "#### 2) 2차원 행렬 `(n, m)`\n",
    "\n",
    "\n",
    "2차원 행렬은 수학에서 **Matrix(행렬)**이라고 불립니다. 2차원 행렬은 행과 열로 구성되는데, **`[ 원소 ]` 블럭을 두 레벨로 구성하여 구현**할 수 있습니다. `[`로 블럭을 열고 그 안에 다시 `[`와 `]`로 구성된 벡터를 넣은 후 `]`로 바깥 블럭을 닫으면 두 레벨로 Array가 구성되며 이는 곧 2차원 행렬이 됩니다. "
   ]
  },
  {
   "cell_type": "code",
   "execution_count": null,
   "metadata": {
    "colab": {},
    "colab_type": "code",
    "id": "IeFEV_18JTZK",
    "outputId": "6a54eef8-826d-4072-ae68-c3401f6fb434"
   },
   "outputs": [],
   "source": [
    "B_2D = np.array([\n",
    "    [1,2,3,4,5],\n",
    "    [2,3,4,5,6],\n",
    "    [3,4,5,6,7]\n",
    "],dtype=np.int64)\n",
    "\n",
    "print(\"B_2D의 차원(ndim) : \", B_2D.ndim)\n",
    "print(\"B_2D의 형태(shape) : \", B_2D.shape)\n",
    "print(\"B_2D의 크기(size) : \", B_2D.size)"
   ]
  },
  {
   "cell_type": "markdown",
   "metadata": {},
   "source": [
    "Numpy Array에서 Array의 shape의 값은 **가장 바깥에 있는 블럭부터 블럭을 구성하는 요소의 수를 나타낸다** 보면 됩니다. 위의 행렬 `B_2D`를 보면 가\n",
    "장 바깥 블럭은 벡터 3개로 구성되어 있으며, 각각의 벡터는 안에는 5개의 원소가 있습니다. 따라서 `A`의 형태는 (3,5)이며, 이는 행이 3개이고 열이 5개인 Array라는 의미이기도 합니다. \n",
    "\n",
    "조금 더 헷갈릴 수 있는 케이스를 볼까요? 아래의 Array `A_2D`는 앞서 만들었던 1차원 행렬, 벡터 `A_1D`와 동일한 수의 원소로 구성되어 있습니다. "
   ]
  },
  {
   "cell_type": "code",
   "execution_count": null,
   "metadata": {},
   "outputs": [],
   "source": [
    "A_1D = np.array([1, 2, 3, 4, 5])\n",
    "A_2D = np.array([[1,2,3, 4, 5]])\n",
    "\n",
    "print('A_1D의 차원(ndim) :', A_1D.ndim)\n",
    "print('A_2D의 차원(shape) :', A_2D.ndim)\n",
    "\n",
    "print('A_1D의 형태 :', A_1D.shape)\n",
    "print('A_2D의 형태 :', A_2D.shape)\n",
    "\n",
    "print('A_1D의 크기(size) :', A_1D.size)\n",
    "print('A_2D의 크기(size) :', A_2D.size)"
   ]
  },
  {
   "cell_type": "markdown",
   "metadata": {},
   "source": [
    "이 부분은 Numpy Array에서 1차원 행렬(벡터)인 Array를 만들때 가장 착각하기 쉬운 부분이기도 합니다. Array를 생성하거나 `print`해보면 `[`와 `]` 사이에 가로로 값을 쓰여 있기 때문에 np.arrary로 구현된 벡터가 (1, n) 형태를 가지는 2차원 행렬의 '행'에 해당한다고 착각하기 쉽습니다. \n",
    "하지만 A_1D Array를 보면 `[]` 하나를 두고 안에 원소가 들어가있는 반면, `A_2D` Array는 `[[ ]]` 와 같이 대괄호가 2개 입니다. 이는 `(1,5)` 형태를 가지는 2차원 array라는 뜻입니다. 앞서 설명했듯이 **가장 바깥 쪽에 있는 블럭은 1개의 요소로 구성되어 있고, 그 다음 안쪽의 블럭은 5개의 원소로 구성되어 있기 때문에** `(1,5)`의 형태로 표현되는 것이죠. shape을 확인해보면 A_1D는 (n, )의 형태로, 원소 n개로 구성되어 있으며 2차원은 없는 형태임을 기억해야 합니다. "
   ]
  },
  {
   "cell_type": "markdown",
   "metadata": {
    "colab_type": "text",
    "id": "PYNPvYTLJTZt"
   },
   "source": [
    "#### ③ 3차원 행렬 `(n, m, d)`\n",
    "\n",
    "3차원 이상의 행렬은 수학에서 주로 **다차원 행렬(Multidimensional Matrix)라고 부릅니다. `[ ]` 블럭을 세 레벨로 구성하여 구현**할 수 있습니다. 이렇게 크기가 N차원 이상인 모든 행렬들을 통칭해 Tensor라 부릅니다. 이후 배우게 될 `tensorflow` 라이브러리는 tensor, 즉 다차원 행렬을 연산하기 위해 고안된 라이브러리입니다.<br>"
   ]
  },
  {
   "cell_type": "code",
   "execution_count": null,
   "metadata": {
    "colab": {},
    "colab_type": "code",
    "id": "olBIKFq8JTZu",
    "outputId": "14c1425d-4ffb-4703-b622-32c020728840"
   },
   "outputs": [],
   "source": [
    "A = np.array([\n",
    "    [\n",
    "        [1,2,3,4,5],\n",
    "        [2,3,4,5,6],\n",
    "        [3,4,5,6,7]\n",
    "    ],\n",
    "    [\n",
    "        [1,2,3,4,5],\n",
    "        [2,3,4,5,6],\n",
    "        [3,4,5,6,7]\n",
    "    ]\n",
    "])\n",
    "\n",
    "print(\"A 차원(ndim) : \", A.ndim)\n",
    "print(\"A 형태(shape) : \", A.shape)\n",
    "print(\"A 크기(size) : \", A.size)"
   ]
  },
  {
   "cell_type": "markdown",
   "metadata": {},
   "source": [
    "2차원 Array에서 shape은 **가장 바깥에 있는 블럭부터 블럭을 구성하는 요소의 수를 나타낸다**고 했습니다. 위의 3차원 행렬 `A`를 보면 가장 바깥 블럭은 (3,5)의 shape을 가지는 2차원 행렬 2개로 구성되어 있습니다. 따라서 `A`의 형태는 가장 바깥에 있는 블럭부터 요소의 수를 나타낸 `(2, 3, 5)`이 됩니다. 이는 행이 3개이고 열이 5개인 2차원 행렬이 2개있는 3차원 행렬이라는 의미이기도 합니다."
   ]
  },
  {
   "cell_type": "markdown",
   "metadata": {},
   "source": [
    "### (3) Numpy Array의 축(axis)\n",
    "\n",
    "**데이터가 N차원이라는 것은 N개의 축(axis)이 존재한다**는 의미입니다. Numpy에서는 축을 기준으로 데이터를 다루는 다양한 기능(집계, 데이터 추가 등)을 제공하고 있습니다. 따라서 축의 개념과 집계연산을 할 축을 지정하는 방법을 정확히 이해해야 합니다. 헷갈리기 쉬운 부분이므로 차근 차근 예제를 살펴보며 이해해봅시다.\n",
    "\n",
    "#### 1) 1차원 벡터의 축\n",
    "먼저, Numpy에서 축에 이름을 붙이는 방법을 알아봅시다. Numpy에서는 Python의 기본적인 인덱싱 방법을 따라 **축의 이름 역시 0부터 부여합니다**. \n",
    "\n",
    "예를 들어, 6개 값으로 구성된 벡터 `A`가 있다고 해봅시다. 벡터 `A`는 1차원 행렬로, 축 또한 1개입니다. shape을 확인하면 `(6,)`라는 결과가 나옵니다. 7개의 값으로 구성된 이 축을 우리는 **0번 축** 이라고 부릅니다.\n"
   ]
  },
  {
   "cell_type": "code",
   "execution_count": null,
   "metadata": {},
   "outputs": [],
   "source": [
    "A = np.array([1,  2,  3,  4,  5,  6])\n",
    "\n",
    "print(\"A의 차원(ndim) : \", A.ndim)\n",
    "print(\"A의 형태(shape) : \", A.shape)\n",
    "print(\"A의 크기(size) : \", A.size)"
   ]
  },
  {
   "cell_type": "markdown",
   "metadata": {},
   "source": [
    "합계를 구할 때 **0번 축을 기준으로 합을 집계한다**는 의미에서 `sum(axis = 0)`으로 설정하면 오류 없이 전체 원소를 더한 값이 계산됩니다. (축을 기준으로하는 다양한 집계함수를 다음 단원에서 배우겠지만, 축의 개념을 이해하기 위해 이번 Section에서는 `sum`을 먼저 사용해보겠습니다.)"
   ]
  },
  {
   "cell_type": "markdown",
   "metadata": {},
   "source": [
    "![](https://cdn-images-1.medium.com/max/1500/1*MWYX6ziOe9-8r0VbwhLlXw.png)"
   ]
  },
  {
   "cell_type": "code",
   "execution_count": null,
   "metadata": {},
   "outputs": [],
   "source": [
    "A.sum(axis=0)"
   ]
  },
  {
   "cell_type": "markdown",
   "metadata": {},
   "source": [
    "축이 0번 축 하나뿐인 벡터를 가지고 **1번 축을 기준으로 합을 집계한다**고 하면 어떻게 될까요? 벡터 `A`에는 1번 축이 없으므로 아래와 같이 오류를 반환합니다. "
   ]
  },
  {
   "cell_type": "code",
   "execution_count": null,
   "metadata": {},
   "outputs": [],
   "source": [
    "A.sum(axis=1)"
   ]
  },
  {
   "cell_type": "markdown",
   "metadata": {},
   "source": [
    "#### ② 2차원 행렬의 축\n",
    "2차원 행렬에서는 어떨까요? 2차원 행렬 `A`의 shape은 다음과 같이 `(2,3)`입니다. 2개의 축으로 이루어져 있죠."
   ]
  },
  {
   "cell_type": "code",
   "execution_count": null,
   "metadata": {},
   "outputs": [],
   "source": [
    "A = np.array([[1,2,3], [4,5,6]])\n",
    "\n",
    "print(\"A의 차원(ndim) : \", A.ndim)\n",
    "print(\"A의 형태(shape) : \", A.shape)\n",
    "print(\"A의 크기(size) : \", A.size)"
   ]
  },
  {
   "cell_type": "markdown",
   "metadata": {},
   "source": [
    "shape의 왼쪽부터 시작해서 순서대로 축의 이름을 붙입니다. `(2, 3)`은 각각 0번 축, 1번 축의 요소 수를 알려줍니다. 즉, 0번 축에는 2개의 요소로 구성되어 있고, 1번 축에는 7개의 요소로 구성되어 있음을 알 수 있습니다. \n",
    "\n",
    "![](https://cdn-images-1.medium.com/max/1000/1*DC3vpqXdKZ-ATgqrZiz34w.png)\n",
    "\n",
    "이번에는 3차원 행렬 `A`를 살펴봅시다. "
   ]
  },
  {
   "cell_type": "code",
   "execution_count": null,
   "metadata": {},
   "outputs": [],
   "source": [
    "A = np.array([\n",
    "    [[1,2,3],\n",
    "     [4,5,6]], \n",
    "    [[1,2,3],\n",
    "     [4,5,6]]])\n",
    "A"
   ]
  },
  {
   "cell_type": "code",
   "execution_count": null,
   "metadata": {},
   "outputs": [],
   "source": [
    "A.shape"
   ]
  },
  {
   "cell_type": "markdown",
   "metadata": {},
   "source": [
    "`(2, 2, 3)`은 각각 0번 축, 1번 축, 2번 축의 요소 수를 알려줍니다. 즉, 0번 축에는 2개의 요소로 구성되어 있고, 1번 축에는 2개의 요소로 구성되어 있\n",
    "고, 2번 축은 3개 요소로 구성되어 있음을 알 수 있습니다. \n",
    "\n",
    "![](https://cdn-images-1.medium.com/max/1000/1*DG93TCxGCbFKfb5JaqyzXA.png)\n",
    "\n",
    "Numpy에는 축을 기준으로 다양한 작업을 할 수 있습니다. Section 3에서는 원하는 축을 선택하여 가져오는 인덱싱 방법을 배우고, Section 4에서는 축을 기준으로 데이터를 합치는 방법을 배울 예정입니다.  끝으로 Section 6에서는 축 단위로 데이터에 접근하여 적용할 수 있는 다양한 함수(집계함수, 정렬 함수 등)를 배워보겠습니다. "
   ]
  },
  {
   "cell_type": "markdown",
   "metadata": {
    "colab_type": "text",
    "id": "ym0Rs3d0JTcM"
   },
   "source": [
    "\n",
    "\n",
    "# \\[ 2. Numpy Array 생성하기 \\]\n",
    "\n",
    "Numpy Array를 만드는 방법은 다양합니다. 다른 자료구조로부터 데이터를 받아와 생성할 수도 있고, 하나의 원소로만 구성되는 경우에는 값과 형태와 데이터 타입 등 Array의 구성을 설정하여 생성할 수도 있습니다.   "
   ]
  },
  {
   "cell_type": "markdown",
   "metadata": {
    "colab_type": "text",
    "id": "yY_HlZpXXTfT"
   },
   "source": [
    "## 1. 다른 자료로부터 Numpy Array 생성하기\n",
    "\n",
    "* 이미 생성된 List나 Tuple 또는 다른 Array를 활용하여 새로운 Array를 생성할 수 있습니다.<br>\n",
    "* List, Tuple로부터 Numpy Array를 생성할 때는 `np.array` 를 사용하고, 다른 Numpy Array로부터 Numpy Array를 복사하여 생성할 때는 `np.copy` 를 활용합니다."
   ]
  },
  {
   "cell_type": "markdown",
   "metadata": {
    "colab_type": "text",
    "id": "QyiuDMSoJTcN"
   },
   "source": [
    "\n",
    "### (1) List 혹은 Tuple로 Array 만들기 : `np.array()`\n",
    "\n",
    "가장 기본적인 array를 만드는 방식으로, 주로 list나 tuple을 변환하여 array로 만듭니다."
   ]
  },
  {
   "cell_type": "code",
   "execution_count": null,
   "metadata": {
    "colab": {},
    "colab_type": "code",
    "id": "QvYxjiv8JTcO",
    "outputId": "7503879a-cdfd-4454-a8e4-9c10224d650f"
   },
   "outputs": [],
   "source": [
    "A = np.array([1,2,3,4,5])\n",
    "A"
   ]
  },
  {
   "cell_type": "markdown",
   "metadata": {
    "colab_type": "text",
    "id": "0hoTKsdaJTcd"
   },
   "source": [
    "### (2) 기존 Array 복사하기 :  `np.copy()`\n",
    "\n",
    "똑같은 값을 가진 Array를 만들고자 한다면, `np.copy()`를 이용해야 합니다."
   ]
  },
  {
   "cell_type": "code",
   "execution_count": null,
   "metadata": {
    "colab": {},
    "colab_type": "code",
    "id": "UHEBQX2hJTci",
    "outputId": "11005144-423a-4a98-b09d-215b235d8f84"
   },
   "outputs": [],
   "source": [
    "A = np.array([1,2,3,4,5])\n",
    "A"
   ]
  },
  {
   "cell_type": "markdown",
   "metadata": {},
   "source": [
    "이렇게 할 경우, A를 복사하는 것이 아닌, 똑같은 A의 값을 가르키고 있는 상태가 됩니다."
   ]
  },
  {
   "cell_type": "code",
   "execution_count": null,
   "metadata": {
    "colab": {},
    "colab_type": "code",
    "id": "UFWbzHGxJTcn"
   },
   "outputs": [],
   "source": [
    "B = A\n",
    "print(id(B))\n",
    "print(id(A))"
   ]
  },
  {
   "cell_type": "markdown",
   "metadata": {},
   "source": [
    "`A`와 `B`는 같은 변수를 의미하므로, 하나의 변수 이름(예: B)으로 데이터를 불러 값을 바꾸더라도 다른 변수 이름(예: A)로 불러오는 값도 바뀝니다."
   ]
  },
  {
   "cell_type": "code",
   "execution_count": null,
   "metadata": {
    "colab": {},
    "colab_type": "code",
    "id": "eqBJ8_qyJTcu",
    "outputId": "b5c52e8b-2949-4eaa-9fd9-a963b7be6018"
   },
   "outputs": [],
   "source": [
    "A = np.array([1,2,3,4,5])\n",
    "B = A\n",
    "\n",
    "B[0] = 0 # B를 변경\n",
    "\n",
    "print(\"A :\", A)\n",
    "print(\"B :\", B)"
   ]
  },
  {
   "cell_type": "markdown",
   "metadata": {
    "colab_type": "text",
    "id": "cnEqFDsJJTdB"
   },
   "source": [
    "**값만 가져와 새로운 변수를 생성하고, 기존 변수에는 영향을 미치고 싶지 않다**면 어떻게 해야 할까요? 위와 같은 상황을 방지하기 위해서는 `copy`라는 메소드를 이용해야 합니다."
   ]
  },
  {
   "cell_type": "code",
   "execution_count": null,
   "metadata": {
    "colab": {},
    "colab_type": "code",
    "id": "VYIh3GJWJTdC",
    "outputId": "66598915-df61-40c0-a38b-6f83d527435f"
   },
   "outputs": [],
   "source": [
    "A = np.array([1,2,3,4,5])\n",
    "A"
   ]
  },
  {
   "cell_type": "code",
   "execution_count": null,
   "metadata": {
    "colab": {},
    "colab_type": "code",
    "id": "bAlULnxVJTdG"
   },
   "outputs": [],
   "source": [
    "B = A.copy() # 이렇게 할 경우, A를 복사하여 저장\n",
    "print(id(B))\n",
    "print(id(A)) # 서로 다른 메모리 위치에 저장"
   ]
  },
  {
   "cell_type": "code",
   "execution_count": null,
   "metadata": {
    "colab": {},
    "colab_type": "code",
    "id": "6ywARThuJTdK",
    "outputId": "692cf505-f8f8-4403-f298-f03981f16e5e"
   },
   "outputs": [],
   "source": [
    "A = np.array([1,2,3,4,5])\n",
    "B = A.copy()\n",
    "\n",
    "B[0] = 0 # B를 변경\n",
    "\n",
    "print(\"A :\", A)\n",
    "print(\"B :\", B)"
   ]
  },
  {
   "cell_type": "markdown",
   "metadata": {
    "colab_type": "text",
    "id": "ZETabvc0cEq0"
   },
   "source": [
    "<br>\n",
    "\n",
    "## 2. 구성을 설정하여 Numpy Array 생성하기\n",
    "\n",
    "+ 앞서 Numpy Array는 값(Value), 형태(Shape), 데이터 타입(Data type)로 구성된다고 배웠습니다. 이런 구성(Value, Shape, Datatype)을 각각 설정하여 Numpy Array를 생성할수도 있습니다.<br>\n",
    "+ Array의 구성 요소가 동일한 값을 가지도록 하여 생성할 수도 있습니다.(예:  np.zeros() ,  np.ones() ,  np.full() 활용)\n",
    "+ 기존 Numpy Array의 Shape만 가져와 다른 값을 가지도록 생성할 수도 있습니다.(예: np.zeros_like() ,  np.ones_like() ,  np.full_like() 활용)\n",
    "+ 요소들의 값들을 등간격으로 설정하여 생성할 수도 있습니다.(예: np.linspace()  ,   np.arange() 활용)\n"
   ]
  },
  {
   "cell_type": "markdown",
   "metadata": {
    "colab_type": "text",
    "id": "6SFPWskvJTdT"
   },
   "source": [
    "### (1) 값이 일정한 Array 생성하기: `np.zeros()`&nbsp;,&nbsp; `np.ones()`&nbsp;,&nbsp; `np.full()`\n",
    "\n",
    "Array를 생성할 때, 지정할 수 있는 파라미터에는 크게 `shape`, `value`, `dtype` 등이 있습니다. Array를 동일한 값으로 구성하려 한다면,  `value`는 정해졌으므로 `shape`와 `dtype`를 정해 설정합니다. "
   ]
  },
  {
   "cell_type": "code",
   "execution_count": null,
   "metadata": {
    "colab": {},
    "colab_type": "code",
    "id": "b5Ziq7cHJTdU",
    "outputId": "e6ad6100-f06f-471c-94e5-27c65a440100"
   },
   "outputs": [],
   "source": [
    "# 값은 0이고, 3행 2열로 구성된 행렬\n",
    "A = np.zeros(shape=(3, 2), dtype=np.float64)\n",
    "A"
   ]
  },
  {
   "cell_type": "code",
   "execution_count": null,
   "metadata": {
    "colab": {},
    "colab_type": "code",
    "id": "j0pqN1X1JTdX",
    "outputId": "5baeb37f-cc4b-4844-d227-4c66a75c558d"
   },
   "outputs": [],
   "source": [
    "# 값은 1이고, 3행 2열로 구성된 행렬\n",
    "A = np.ones(shape=(3,2), dtype=np.float64)\n",
    "A"
   ]
  },
  {
   "cell_type": "code",
   "execution_count": null,
   "metadata": {
    "colab": {},
    "colab_type": "code",
    "id": "mHLCzgmGJTda",
    "outputId": "85b79c60-7467-4088-fa40-3f21366d1e92"
   },
   "outputs": [],
   "source": [
    "# 값은 3이고, 3행 2열로 구성된 행렬\n",
    "A = np.full(shape=(3,2), fill_value=3., dtype=np.float64)\n",
    "A"
   ]
  },
  {
   "cell_type": "markdown",
   "metadata": {
    "colab_type": "text",
    "id": "RR8tPo1EJTdi"
   },
   "source": [
    "### (2) 기존 Array와 동일한 shape의 Array 생성하기 : `np.zeros_like()`&nbsp;, &nbsp;`np.ones_like()`&nbsp;, &nbsp;`np.full_like()`&nbsp;\n",
    "기존의 Numpy Array의 형태(shape)가 동일하되, 원하는 값으로 채워진 Numpy Array를 생성할 수 있습니다."
   ]
  },
  {
   "cell_type": "code",
   "execution_count": null,
   "metadata": {
    "colab": {
     "base_uri": "https://localhost:8080/",
     "height": 33
    },
    "colab_type": "code",
    "executionInfo": {
     "elapsed": 823,
     "status": "ok",
     "timestamp": 1551246684793,
     "user": {
      "displayName": "최선열",
      "photoUrl": "",
      "userId": "00663027191814710813"
     },
     "user_tz": -540
    },
    "id": "iJhXJer8JTdj",
    "outputId": "ee54ca08-5dcc-44f8-f139-1a6a6311b00a"
   },
   "outputs": [],
   "source": [
    "# Shape를 본 딸 Numpy Array : A 생성\n",
    "A = np.array([1,2,3,4,5])\n",
    "A"
   ]
  },
  {
   "cell_type": "code",
   "execution_count": null,
   "metadata": {
    "colab": {
     "base_uri": "https://localhost:8080/",
     "height": 33
    },
    "colab_type": "code",
    "executionInfo": {
     "elapsed": 692,
     "status": "ok",
     "timestamp": 1551246711813,
     "user": {
      "displayName": "최선열",
      "photoUrl": "",
      "userId": "00663027191814710813"
     },
     "user_tz": -540
    },
    "id": "lShdPcX5JTdl",
    "outputId": "a01ae018-83f8-4559-a623-ec1ecc35617d"
   },
   "outputs": [],
   "source": [
    "np.zeros_like(A, dtype=np.int) "
   ]
  },
  {
   "cell_type": "code",
   "execution_count": null,
   "metadata": {
    "colab": {},
    "colab_type": "code",
    "id": "haaqzV67JTdn",
    "outputId": "ba5f3ccb-f476-40ed-dd40-8d8b6b102a8b"
   },
   "outputs": [],
   "source": [
    "np.ones_like(A, dtype=np.int) "
   ]
  },
  {
   "cell_type": "code",
   "execution_count": null,
   "metadata": {
    "colab": {},
    "colab_type": "code",
    "id": "5KJnr4IQJTdp",
    "outputId": "e2b51270-11c6-40ea-d419-6ed3c01c0395"
   },
   "outputs": [],
   "source": [
    "np.full_like(A, fill_value=13, dtype=np.int) "
   ]
  },
  {
   "cell_type": "markdown",
   "metadata": {
    "colab_type": "text",
    "id": "BLH0P5TxJTds"
   },
   "source": [
    "### (3) 같은 간격의 값으로 구성된 Array 생성하기 :  `np.linspace()`&nbsp; , &nbsp; `np.arange()`\n",
    "\n",
    "등간격으로 배치된 Array를 만들고 싶을 때도 Numpy에서는 메소드를 통해 간단히 만들 수 있습니다. 예를 들어 1부터 10까지 일정 간격으로 커지는 연속적인 값으로 구성된 Array를 구성한다면 다음 두 가지 방법을 활용할 수 있습니다.\n",
    "\n",
    "* `np.linspace` : 1부터 10 사이를 **<몇 개의 숫자로 구성할까?>를 기준**으로 Array를 만듭니다.\n",
    "* `np.arange` : 1부터 10 사이를 **<얼만큼의 간격으로 나눌까?>를 기준**으로 Array를 만듭니다."
   ]
  },
  {
   "cell_type": "code",
   "execution_count": null,
   "metadata": {
    "colab": {},
    "colab_type": "code",
    "id": "vmlAdrogJTdt",
    "outputId": "c0b9dc0a-61e2-43f4-e8fb-af7c7f717c64"
   },
   "outputs": [],
   "source": [
    "np.linspace(start=1,stop=10, num=19)"
   ]
  },
  {
   "cell_type": "code",
   "execution_count": null,
   "metadata": {
    "colab": {},
    "colab_type": "code",
    "id": "nt5clvfEJTdy",
    "outputId": "7591fbc0-72f9-417a-b995-e1cd32ad58d9"
   },
   "outputs": [],
   "source": [
    "np.arange(1,10,0.5)"
   ]
  },
  {
   "cell_type": "markdown",
   "metadata": {
    "colab_type": "text",
    "id": "0w7BbDHnJTd2"
   },
   "source": [
    "#  \n",
    "\n",
    "---\n",
    "\n",
    "    Copyright(c) 2019 by Public AI. All rights reserved.\n",
    "    Writen by PAI, SangJae Kang ( rocketgrowthsj@publicai.co.kr )  last updated on 2019/08/25\n",
    "\n",
    "\n",
    "---"
   ]
  }
 ],
 "metadata": {
  "colab": {
   "collapsed_sections": [
    "rxCrKYzVJTY4",
    "3_pFKUXOJTZJ",
    "aIgW-QwyJTZc",
    "PYNPvYTLJTZt",
    "RzCUGXkwJTaF",
    "Ot3FlsxDJTaU",
    "jkvN1lGnJTag",
    "HzIQi04rJTak",
    "DpXYaAyGJTa7",
    "hTtaYiYNJTbN",
    "gt1C9mXmJTbY",
    "0nQWNSoEJTbs",
    "dKGJATBTJTb0",
    "QyiuDMSoJTcN",
    "0hoTKsdaJTcd",
    "6SFPWskvJTdT",
    "RR8tPo1EJTdi",
    "BLH0P5TxJTds"
   ],
   "name": "2_Numpy의 구조와 생성.ipynb",
   "provenance": [],
   "toc_visible": true,
   "version": "0.3.2"
  },
  "kernelspec": {
   "display_name": "Python 3",
   "language": "python",
   "name": "python3"
  },
  "language_info": {
   "codemirror_mode": {
    "name": "ipython",
    "version": 3
   },
   "file_extension": ".py",
   "mimetype": "text/x-python",
   "name": "python",
   "nbconvert_exporter": "python",
   "pygments_lexer": "ipython3",
   "version": "3.6.6"
  },
  "toc": {
   "base_numbering": 1,
   "nav_menu": {},
   "number_sections": false,
   "sideBar": true,
   "skip_h1_title": false,
   "title_cell": "Table of Contents",
   "title_sidebar": "Contents",
   "toc_cell": false,
   "toc_position": {},
   "toc_section_display": true,
   "toc_window_display": false
  },
  "varInspector": {
   "cols": {
    "lenName": 16,
    "lenType": 16,
    "lenVar": 40
   },
   "kernels_config": {
    "python": {
     "delete_cmd_postfix": "",
     "delete_cmd_prefix": "del ",
     "library": "var_list.py",
     "varRefreshCmd": "print(var_dic_list())"
    },
    "r": {
     "delete_cmd_postfix": ") ",
     "delete_cmd_prefix": "rm(",
     "library": "var_list.r",
     "varRefreshCmd": "cat(var_dic_list()) "
    }
   },
   "types_to_exclude": [
    "module",
    "function",
    "builtin_function_or_method",
    "instance",
    "_Feature"
   ],
   "window_display": false
  }
 },
 "nbformat": 4,
 "nbformat_minor": 2
}
