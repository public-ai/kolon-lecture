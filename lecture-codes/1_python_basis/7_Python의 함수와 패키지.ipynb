{
 "cells": [
  {
   "cell_type": "markdown",
   "metadata": {
    "colab_type": "text",
    "id": "gylcBRjAuJwh",
    "nbpresent": {
     "id": "9bf7b65a-f9ba-4866-a163-c12882bc840d"
    }
   },
   "source": [
    " <i><b>Public AI</b></i>\n",
    "<br>\n",
    "### **&nbsp;&nbsp;Week1. Python 기본기 다지기**\n",
    "# Section 7. Python의 함수와 패키지\n",
    "\n",
    "프로그래밍에서는 똑같은 내용을 반복하는 경우, 그 과정을 하나의 **함수**로 정의하여 재사용함으로 불필요한 코드의 반복을 피합니다. 한편, 다른 개발자들이 잘 만들어둔 함수의 모음, **패키지**를 적절히 활용하면 보다 효율적으로 프로그램을 만들 수 있습니다.<br>\n",
    "이번 Section 7에서는 함수와 패키지를 배워보겠습니다.\n"
   ]
  },
  {
   "cell_type": "markdown",
   "metadata": {
    "nbpresent": {
     "id": "fa586315-8006-494e-b154-d88056d37cf2"
    }
   },
   "source": [
    "### _Objective_\n",
    "1. **Python의 함수** : 여러번 반복 이용하게 되는 코드를 함수로 정의하고 호출하는 방법을 배웁니다. <br>\n",
    "2. **Python의 패키지** : 다른 개발자들이 이미 만들어 놓은 \"패키지\"를 가져와 사용하는 방법을 배웁니다.<br>"
   ]
  },
  {
   "cell_type": "markdown",
   "metadata": {
    "colab_type": "text",
    "id": "PhwLa--puJwi",
    "nbpresent": {
     "id": "67681f37-1f68-4540-a19c-38b5a879a7a4"
    }
   },
   "source": [
    "# \\[ 1. Python의 함수 \\]\n",
    "\n",
    "\n",
    "Python에서의 함수는 수학에서의 함수와 비슷하면서도 다릅니다. 수학에서는 숫자 `input x`를 받아 수식 `function f`를 거쳐 `output f(x)`를 반환하는 것을 함수라 하죠. <br>\n",
    "Python의 함수 역시 `input x`를 받아 일련의 과정인 `function f`를 거쳐 `output f(x)`를 반환할 수 있다는 점에서 수학의 함수와 유사하지만, 수식 뿐만 아니라 다양한 종류의 데이터 처리 과정이 `function f`가 될 수 있고, 입력값이나 출력값이 필수는 아니라는 점에서 다릅니다.<br>\n",
    "함수를 만드는 방법을 배워보고, 직접 만든 함수 혹은 파이썬에 이미 정의된 내장 함수를 불러와 활용하는 방법을 살펴보겠습니다."
   ]
  },
  {
   "cell_type": "markdown",
   "metadata": {
    "colab_type": "text",
    "id": "2lpkoeG9uJwj",
    "nbpresent": {
     "id": "b0b301ce-962a-4b2c-a275-92103f8b7449"
    }
   },
   "source": [
    "## 1. 함수 만들기\n",
    "\n",
    "+ 함수를 만든다는 표현을 흔히 함수를 **'정의한다'**고 합니다. \n",
    "+ 파이썬에서는 `def`라는 예약어를 이용해 함수를 정의할 수 있습니다. 이는 '정의하다'라는 뜻의 **define**의 약자입니다. \n",
    "+ 함수를 정의할 때는 **함수의 이름**이 필수로 요구되며, 필요에 따라 **매개 변수**와 **출력값**을 설정할 수 있습니다. \n",
    "+ **매개 변수**와 **출력값**는 필수가 아니기 때문에 필요에 따라 다양한 형태로 함수를 구성할 수 있습니다. "
   ]
  },
  {
   "cell_type": "markdown",
   "metadata": {
    "colab_type": "text",
    "id": "mVFGxufsuJwj",
    "nbpresent": {
     "id": "a7d21c04-6340-436f-966c-d05dfa460263"
    }
   },
   "source": [
    "### (1) 함수 정의하기\n",
    "파이썬에서의 함수 구조는 아래와 같습니다."
   ]
  },
  {
   "cell_type": "code",
   "execution_count": null,
   "metadata": {
    "nbpresent": {
     "id": "f8f6aa73-d0af-4f96-8df6-b1c1f81a8351"
    }
   },
   "outputs": [],
   "source": [
    "def add(a, b):\n",
    "    result = a + b\n",
    "    return result"
   ]
  },
  {
   "cell_type": "markdown",
   "metadata": {
    "nbpresent": {
     "id": "0789d0f2-648d-402c-8d2a-96cf4a876400"
    }
   },
   "source": [
    "+ `add` : 해당 함수의 이름(**필수**) \n",
    "+ `a,b` : 함수에 전달되는 입력값, 매개변수(*옵션*)\n",
    "+  `return` : 함수가 내보낼 출력값(*옵션*)"
   ]
  },
  {
   "cell_type": "markdown",
   "metadata": {
    "nbpresent": {
     "id": "1e01f6f1-4eae-4f37-bfcc-081300af53e9"
    }
   },
   "source": [
    "위 함수는 `def` 예약어 다음에 함수를 호출할 때 사용할 함수의 이름 `add`를 제시하고 괄호 안에 함수에 전달할 입력값, 즉 **매개변수(parameter)** `a`와 `b`를 설정하였습니다. 이 함수는 두 입력값을 받아 처리하겠다는 뜻이죠. 두 번째 줄을 보면 입력받은 두 값, `a`와 `b`를 더해서 `result`라는 변수에 담고 있습니다. 그리고 마지막 줄에서 예약어 `return`을 이용해 `result`값을 함수의 출력값으로 반환하고 있습니다."
   ]
  },
  {
   "cell_type": "markdown",
   "metadata": {
    "nbpresent": {
     "id": "d46b72a6-3b08-4ee8-a54c-049fa3764e6d"
    }
   },
   "source": [
    "### (2) 함수 호출하기\n",
    "함수를 호출해보겠습니다."
   ]
  },
  {
   "cell_type": "code",
   "execution_count": null,
   "metadata": {
    "colab": {
     "base_uri": "https://localhost:8080/",
     "height": 34
    },
    "colab_type": "code",
    "executionInfo": {
     "elapsed": 984,
     "status": "ok",
     "timestamp": 1550800502984,
     "user": {
      "displayName": "최선열",
      "photoUrl": "",
      "userId": "00663027191814710813"
     },
     "user_tz": -540
    },
    "id": "Y_JWvAojuJwo",
    "nbpresent": {
     "id": "276af433-27cd-44a8-a176-9a7643fbc753"
    },
    "outputId": "a49a41f5-ecc1-4902-9352-763f57c57758"
   },
   "outputs": [],
   "source": [
    "y = add(3,5) # 매개변수 a,b에 각각 3,5 값을 입력\n",
    "y # 결과는 y에 담을 수 있음"
   ]
  },
  {
   "cell_type": "markdown",
   "metadata": {
    "nbpresent": {
     "id": "96caa273-d4a4-4f9a-8d3f-6d0ea0a3f779"
    }
   },
   "source": [
    "함수 `add`는 3,5를 입력받아 8이라는 결과값을 출력하였습니다. 여기서 매개변수에 입력한 3과 5를 **인수(argument)**라고 부릅니다. 이처럼 매개변수가 있는 함수를 호출할 때 인수를 설정하지 않으면 아래와 같은 오류를 반환합니다. "
   ]
  },
  {
   "cell_type": "code",
   "execution_count": null,
   "metadata": {
    "nbpresent": {
     "id": "f7516491-d806-4594-ad97-440c1ffc1118"
    }
   },
   "outputs": [],
   "source": [
    "add() "
   ]
  },
  {
   "cell_type": "markdown",
   "metadata": {
    "colab_type": "text",
    "id": "3HmlT-zNuJwu",
    "nbpresent": {
     "id": "7fb09673-8b62-45b1-b353-6ab2ded84fe6"
    }
   },
   "source": [
    "### (3) 매개변수와 출력값 여부에 따라 함수 정의하기\n",
    "앞서 정의한 함수는 매개변수와 출력값이 모두 존재하는 함수였지만, 매개변수와 출력값이 함수 정의에 반드시 들어가야할 필수 요소는 아닙니다. 매개변수가 없는 함수를 정의할 때는 매개변수를 입력받는 괄호 안을 빈칸으로 남겨두고,  출력값이 없는 함수를 정의할 때는 `return` 문을 이용한 결과값을 제시하지 않으면 됩니다. 결과값이 없으면 함수 안에 정의된 문장만 실행되기 때문에 함수를 y에 할당하더라도, y가 받는 값이 없음을 확인할 수 있습니다. "
   ]
  },
  {
   "cell_type": "markdown",
   "metadata": {
    "colab_type": "text",
    "id": "2Upmg5J8uJwu",
    "nbpresent": {
     "id": "bbd173f3-2f71-4c76-99af-75b17ee42d19"
    }
   },
   "source": [
    "#### 1. 매개변수와 출력값이 모두 없는 함수"
   ]
  },
  {
   "cell_type": "code",
   "execution_count": null,
   "metadata": {
    "colab": {},
    "colab_type": "code",
    "id": "M95YhRmBuJwv",
    "nbpresent": {
     "id": "3e2339c0-2e61-44f4-a317-5bcf1db4858b"
    },
    "outputId": "e3a5d4b6-91c3-478b-cf57-e150732237d0"
   },
   "outputs": [],
   "source": [
    "# 함수를 정의하기\n",
    "def make_a_sound():\n",
    "    print(\"Quack\")\n",
    "    \n",
    "# 함수를 호출하기\n",
    "y = make_a_sound()"
   ]
  },
  {
   "cell_type": "code",
   "execution_count": null,
   "metadata": {
    "colab": {},
    "colab_type": "code",
    "id": "OYLrtnAjuJwz",
    "nbpresent": {
     "id": "31ad093e-3d36-4384-88fa-aa50bd42fd51"
    }
   },
   "outputs": [],
   "source": [
    "y # None, 즉 아무 값도 없음을 의미"
   ]
  },
  {
   "cell_type": "markdown",
   "metadata": {
    "colab_type": "text",
    "id": "CCTPOlXNuJw2",
    "nbpresent": {
     "id": "a78baed1-07e1-42ad-a606-4e6fdca64cc8"
    }
   },
   "source": [
    "#### 2. 매개변수만 없는 함수"
   ]
  },
  {
   "cell_type": "code",
   "execution_count": null,
   "metadata": {
    "colab": {},
    "colab_type": "code",
    "id": "zngDFR76uJw2",
    "nbpresent": {
     "id": "699beecf-0d45-4fcb-b33c-25ea801c3c64"
    }
   },
   "outputs": [],
   "source": [
    "# 함수를 정의하기\n",
    "def agree():\n",
    "    return True\n",
    "\n",
    "# 함수를 호출하기\n",
    "y = agree()"
   ]
  },
  {
   "cell_type": "markdown",
   "metadata": {
    "colab_type": "text",
    "id": "qSnYnh4luJw-",
    "nbpresent": {
     "id": "b34c2698-2361-4dde-8943-8ad085d37cd6"
    }
   },
   "source": [
    "#### 3. 반환값만 없는 함수"
   ]
  },
  {
   "cell_type": "code",
   "execution_count": null,
   "metadata": {
    "colab": {},
    "colab_type": "code",
    "id": "FwbJQlXcuJw_",
    "nbpresent": {
     "id": "c5b1fb13-ab6a-4f12-9fa5-ecf7d981ec81"
    },
    "outputId": "49ff3707-f828-4618-bfd0-0ab516cc8d1e"
   },
   "outputs": [],
   "source": [
    "# 함수를 정의하기\n",
    "def hello_by(name):\n",
    "    print(\"안녕하세요, {}님\".format(name))\n",
    "    \n",
    "# 함수를 호출하기\n",
    "y = hello_by(\"철수\")"
   ]
  },
  {
   "cell_type": "markdown",
   "metadata": {
    "colab_type": "text",
    "id": "9bR9zPKjuJxZ",
    "nbpresent": {
     "id": "9fa6f484-9c34-4fd0-9c0e-737c37e724fa"
    }
   },
   "source": [
    "### (4) 매개변수의 디폴트 값 설정하기\n",
    "함수의 매개변수에는 아무 인자를 전달하지 않아도 적용될 기본값(또는 디폴트 값)을 지정할 수 있습니다. 함수를 정의할 때 인자 옆에 등호(`=`)와 함께 값을 지정하면 됩니다. 함수 호출시 인자를 입력하지 않으면 이때 지정해둔 값을 기본값으로 불러옵니다."
   ]
  },
  {
   "cell_type": "code",
   "execution_count": null,
   "metadata": {
    "colab": {},
    "colab_type": "code",
    "id": "KmaYHQCKuJxa",
    "nbpresent": {
     "id": "f1cbee18-1926-4b52-bdd0-c9b9d4a8d13a"
    }
   },
   "outputs": [],
   "source": [
    "def print_with_arguments(name=\"'미상'\", age=20):\n",
    "    print(\"당신의 이름은 {}이며, 나이는 {}입니다.\".format(name, age))"
   ]
  },
  {
   "cell_type": "code",
   "execution_count": null,
   "metadata": {
    "colab": {},
    "colab_type": "code",
    "id": "2pcXZyXOuJxc",
    "nbpresent": {
     "id": "80dc7bc4-0c75-4890-b11c-980bc547bd05"
    },
    "outputId": "6ba5c74f-17ca-42de-f88d-2ea776d130e5"
   },
   "outputs": [],
   "source": [
    "# 모든 인자가 지정되었을 때\n",
    "print_with_arguments(\"철수\", 32)"
   ]
  },
  {
   "cell_type": "code",
   "execution_count": null,
   "metadata": {
    "colab": {},
    "colab_type": "code",
    "id": "Abuh3mt_uJxh",
    "nbpresent": {
     "id": "3d410759-ccdd-49a4-a3a6-c38d6fcd2f7c"
    },
    "outputId": "1b5209a3-1e64-44ac-bd83-18f78894216e"
   },
   "outputs": [],
   "source": [
    "# 인자는 기본적으로 순서대로 채워들어갑니다.\n",
    "print_with_arguments(\"철수\")"
   ]
  },
  {
   "cell_type": "code",
   "execution_count": null,
   "metadata": {
    "colab": {},
    "colab_type": "code",
    "id": "kJgT6supuJxk",
    "nbpresent": {
     "id": "9ef71c2f-56bd-4e7a-b2e7-80feb16e8717"
    },
    "outputId": "38c32d26-1341-486c-ae1c-ab95ae8d1735"
   },
   "outputs": [],
   "source": [
    "# 기본값으로 이름에는 \"미상\", age에는 20이 들어갑니다.\n",
    "print_with_arguments()"
   ]
  },
  {
   "cell_type": "code",
   "execution_count": null,
   "metadata": {
    "colab": {},
    "colab_type": "code",
    "id": "2I7qG3UEuJxm",
    "nbpresent": {
     "id": "552ac236-9c4e-4da9-9bd4-51c7288c0b63"
    },
    "outputId": "fbe671b4-01dd-40a9-928b-afc52dfce4cd"
   },
   "outputs": [],
   "source": [
    "# 인자를 넣을 때, 다음과 같이 인자를 지정할 수 있습니다.\n",
    "print_with_arguments(name='철수',age=32) "
   ]
  },
  {
   "cell_type": "code",
   "execution_count": null,
   "metadata": {
    "colab": {},
    "colab_type": "code",
    "id": "JcTtk8Z7uJxq",
    "nbpresent": {
     "id": "13483b70-1076-474e-91ed-76769541dd58"
    },
    "outputId": "b8e10500-ec9e-4457-8e07-867304603ccd"
   },
   "outputs": [],
   "source": [
    "# age에만 값을 지정하고 싶은 경우 아래와 같이 지정할 수 있습니다.\n",
    "print_with_arguments(age=32) "
   ]
  },
  {
   "cell_type": "code",
   "execution_count": null,
   "metadata": {},
   "outputs": [],
   "source": [
    "# TODO : 시간, 분, 초를 입력받아서 총 시간을 초 단위로 반환하는 함수를 구성하세요\n",
    "def to_second():\n",
    "    pass"
   ]
  },
  {
   "cell_type": "code",
   "execution_count": null,
   "metadata": {},
   "outputs": [],
   "source": [
    "# TODO : 세 개의 숫자를 받아 평균을 계산하는 함수를 구성하세요\n",
    "def average():\n",
    "    pass"
   ]
  },
  {
   "cell_type": "markdown",
   "metadata": {
    "colab_type": "text",
    "id": "WReA62p3uJxC",
    "nbpresent": {
     "id": "530bfbae-e775-4d9a-a280-a05e4c52e5e9"
    }
   },
   "source": [
    "<br>\n",
    "## 2. 파이썬의 함수 종류\n",
    "\n",
    "+ 파이썬에는 이처럼 직접 함수를 정의하여 사용하는 **사용자 정의 함수** 외에도, 아무 설정 없이 바로 사용할 수 있는 **내장함수**, 이름 없이 사용하는 **익명함수** 등이 있습니다. "
   ]
  },
  {
   "cell_type": "markdown",
   "metadata": {
    "colab_type": "text",
    "id": "xREZ5KJ8uJxC",
    "nbpresent": {
     "id": "a27c0d29-4bde-401b-a4b1-82f153a42dd2"
    }
   },
   "source": [
    "### (1) 파이썬 내장 함수 활용하기\n",
    "파이썬에는 아무 설정 없이 바로 사용할 수 있는 함수가 내장되어 있는데, 이를 **내장 함수**(built-in functions)가 존재합니다. 따라서 간단한 기능을 구현할 때는 필요한 함수를 정의하기 전에 이미 정의된 내장 함수는 없는지 살펴보는 것이 좋습니다. 이전에 배운 `len`, `sorted`도 내장 함수였으며, 이 외에도 `sum`, `max`, `min`, `abs` 등 기본적인 연산은 대부분 내장 함수로 정의되어 있습니다. "
   ]
  },
  {
   "cell_type": "markdown",
   "metadata": {
    "colab_type": "text",
    "id": "z-fWdiacuJxD",
    "nbpresent": {
     "id": "64cce8a0-3ae3-4e84-bf1f-03497bccb430"
    }
   },
   "source": [
    "#### 1. sum : 리스트의 원소들의 합을 구합니다."
   ]
  },
  {
   "cell_type": "code",
   "execution_count": null,
   "metadata": {
    "colab": {},
    "colab_type": "code",
    "id": "2IL9m-4iuJxE",
    "nbpresent": {
     "id": "1467c8e8-9dd2-455c-838c-921110c2f1f3"
    },
    "outputId": "ad9721e3-b228-442f-88e8-62ea465eea61"
   },
   "outputs": [],
   "source": [
    "lst1 = [1,2,3,4,5]\n",
    "sum(lst1)"
   ]
  },
  {
   "cell_type": "markdown",
   "metadata": {
    "colab_type": "text",
    "id": "eAU6C2JFuJxI",
    "nbpresent": {
     "id": "0da956db-7a55-4c9c-be17-47099cdca53f"
    }
   },
   "source": [
    "#### 2. max : 리스트 중 제일 큰 값을 반환합니다."
   ]
  },
  {
   "cell_type": "code",
   "execution_count": null,
   "metadata": {
    "colab": {},
    "colab_type": "code",
    "id": "_x6OsVZOuJxI",
    "nbpresent": {
     "id": "c3b5b510-e04b-4207-9cd6-706c4bf4d480"
    },
    "outputId": "7fadc5b9-2514-4848-8afb-c31a602392ae"
   },
   "outputs": [],
   "source": [
    "lst1 = [1,2,3,4,5]\n",
    "max(lst1)"
   ]
  },
  {
   "cell_type": "markdown",
   "metadata": {
    "colab_type": "text",
    "id": "mlhv3F1KuJxL",
    "nbpresent": {
     "id": "8d9459a3-99cd-4651-9831-b60ee405eb6c"
    }
   },
   "source": [
    "#### 3. min : 리스트 중 제일 작은 값을 반환합니다."
   ]
  },
  {
   "cell_type": "code",
   "execution_count": null,
   "metadata": {
    "colab": {},
    "colab_type": "code",
    "id": "gSDQ_0VluJxN",
    "nbpresent": {
     "id": "98a0ad51-eca8-4515-af10-061c0f971032"
    },
    "outputId": "ba18621e-4c6e-4979-9ce2-92144b13617a"
   },
   "outputs": [],
   "source": [
    "lst1 = [1,2,3,4,5]\n",
    "min(lst1)"
   ]
  },
  {
   "cell_type": "markdown",
   "metadata": {
    "colab_type": "text",
    "id": "WjhVLp66uJxQ",
    "nbpresent": {
     "id": "18e82063-7742-40dc-b44b-a7997da16db6"
    }
   },
   "source": [
    "#### 4. abs : 절대값으로 바꾸어 줍니다"
   ]
  },
  {
   "cell_type": "code",
   "execution_count": null,
   "metadata": {
    "colab": {},
    "colab_type": "code",
    "id": "h4g7CSgFuJxQ",
    "nbpresent": {
     "id": "1204f1a4-1237-4b2f-8431-4af1c5557321"
    },
    "outputId": "9aee613a-9633-4cce-fbe5-cbbda043b624"
   },
   "outputs": [],
   "source": [
    "abs(-1.7)"
   ]
  },
  {
   "cell_type": "markdown",
   "metadata": {
    "nbpresent": {
     "id": "273b0a14-428a-4530-9675-3a082bd8e025"
    }
   },
   "source": [
    "#### 5. map : 자료구조 내 원소에 하나씩 적용하여 반환합니다."
   ]
  },
  {
   "cell_type": "code",
   "execution_count": null,
   "metadata": {
    "nbpresent": {
     "id": "7dbf8d66-b90e-46ce-8754-02cb0fbf7a12"
    }
   },
   "outputs": [],
   "source": [
    "def add_1(x):\n",
    "    return x + 1\n",
    "\n",
    "lst1 = [1,2,3,4,5]\n",
    "list(map(add_1, lst1))"
   ]
  },
  {
   "cell_type": "markdown",
   "metadata": {
    "nbpresent": {
     "id": "3ce6f257-d799-4d8f-b0ff-0576288d31e4"
    }
   },
   "source": [
    "#### 6. filter : 자료구조 내 원소에서 조건에 맞는 원소만을 모아 반환합니다."
   ]
  },
  {
   "cell_type": "code",
   "execution_count": null,
   "metadata": {
    "nbpresent": {
     "id": "84e40a4b-b989-4a43-897c-3ff94df2549a"
    }
   },
   "outputs": [],
   "source": [
    "def is_even(x):\n",
    "    return x % 2 == 0\n",
    "\n",
    "lst1 = [1,2,3,4,5]\n",
    "list(filter(is_even, lst1))"
   ]
  },
  {
   "cell_type": "markdown",
   "metadata": {
    "nbpresent": {
     "id": "ef1f3c3b-a358-4211-b9cf-9b63316900c1"
    }
   },
   "source": [
    "### (2) 익명함수 `lambda` 활용하기\n",
    "앞서 사용자 정의 함수를 만들 때 함수의 이름이 필수라고 설명했는데, 파이썬에는 함수의 이름 없이 함수를 만드는 방법도 있습니다. 바로 **익명 함수**라는 개념입니다. 익명 함수는 함수명을 정의해 사용하는 함수처럼 이름으로 함수를 호출해 재사용하는 것은 불가능하지만, 한줄로 간결하게 만들수 있어 복잡하지 않고 간단한 함수를 구현할 때 용이합니다. 단, 한 줄이 넘어가는 코드의 경우에는 익명함수 사용시 가독성이 떨어질 수 있으므로 주의해야 합니다. \n",
    "<br>\n",
    "앞서 정의했던 함수를 익명함수로 바꿔보겠습니다. "
   ]
  },
  {
   "cell_type": "code",
   "execution_count": null,
   "metadata": {
    "nbpresent": {
     "id": "cc2084e7-30a4-4abd-b7b0-6662e53c2666"
    }
   },
   "outputs": [],
   "source": [
    "def add(x, y):\n",
    "    return x + y\n",
    "\n",
    "add(1, 2)"
   ]
  },
  {
   "cell_type": "markdown",
   "metadata": {
    "nbpresent": {
     "id": "fd9c260f-1480-4cdf-9fbc-bb8aa8e84d6b"
    }
   },
   "source": [
    "위와 같은 함수는 익명함수를 사용하면 아래처럼 간결하게 나타낼 수 있습니다."
   ]
  },
  {
   "cell_type": "code",
   "execution_count": null,
   "metadata": {
    "nbpresent": {
     "id": "9a3a7baf-a5d0-4c66-868b-b525b1eadff0"
    }
   },
   "outputs": [],
   "source": [
    "add_by_lambda = lambda x, y : x + y\n",
    "add_by_lambda(1, 2)"
   ]
  },
  {
   "cell_type": "markdown",
   "metadata": {
    "nbpresent": {
     "id": "e6343252-3fae-424f-8afc-56f86ceb6651"
    }
   },
   "source": [
    "예약어 `lambda` 다음에 매개변수를 제시하고, `:` 다음에 표현식을 써서 정의할 수 있습니다. 위 함수는 매개변수 `x`와 `y`를 받아 `x+y` 연산을 하는 함수\n",
    "입니다.  <br>\n",
    "\n",
    "`lambda`는 아래와 같이 한 줄로 끝나는 간단한 함수 경우에 유용하게 사용됩니다."
   ]
  },
  {
   "cell_type": "code",
   "execution_count": null,
   "metadata": {
    "nbpresent": {
     "id": "6034097a-23aa-40fc-90f7-01223245096b"
    }
   },
   "outputs": [],
   "source": [
    "def add_1(x):\n",
    "    return x + 1\n",
    "\n",
    "lst1 = [1,2,3,4,5]\n",
    "list(map(add_1, lst1))\n",
    "\n",
    "# 위의 코드 대신 아래와 같이 구성할 수 있습니다.\n",
    "\n",
    "lst1 = [1,2,3,4,5]\n",
    "list(map(lambda x : x + 1, lst1)) "
   ]
  },
  {
   "cell_type": "markdown",
   "metadata": {
    "nbpresent": {
     "id": "aaee5d2c-7aa0-4dbd-aa7c-b6c6c6ef0e53"
    }
   },
   "source": [
    "### [Advanced] (3) generator 함수 구성하기\n",
    "\n",
    "앞서 `python의 제어문(2) 순회문`에서 `Generator Expression`에 대해 우리는 배웠습니다. \n",
    "\n",
    "````python\n",
    "(i*100 for i in (1,2,3,4,5)) # generator compression\n",
    "````\n",
    "\n",
    "여기에 등장한 Generator는 사실 일종의 함수입니다. 위의 Generator Compression을 함수 형태로 정의할 수 있습니다."
   ]
  },
  {
   "cell_type": "code",
   "execution_count": null,
   "metadata": {
    "nbpresent": {
     "id": "c1bb58fc-883a-4311-84e8-f0dba5d7b20f"
    }
   },
   "outputs": [],
   "source": [
    "def generator():\n",
    "    for i in (1,2,3,4,5):\n",
    "        yield i * 100"
   ]
  },
  {
   "cell_type": "markdown",
   "metadata": {
    "nbpresent": {
     "id": "e22b26da-456a-48bb-8d9c-acaafbee1205"
    }
   },
   "source": [
    "함수와 유일한 차이점은 `return` 대신 `yield`가 들어간다는 점입니다. 위의 형태로 구성된 generator는 `Generator Expression`와 동일한 방식으로 동작합니다."
   ]
  },
  {
   "cell_type": "code",
   "execution_count": null,
   "metadata": {
    "nbpresent": {
     "id": "5f6e831d-cac9-40a8-b2b9-7a1eda4ff437"
    }
   },
   "outputs": [],
   "source": [
    "generator_sample = generator() # = (i*100 for i in (1,2,3,4,5))\n",
    "print(next(generator_sample))\n",
    "print(next(generator_sample))\n",
    "print(next(generator_sample))\n",
    "print(next(generator_sample))\n",
    "print(next(generator_sample))"
   ]
  },
  {
   "cell_type": "markdown",
   "metadata": {
    "nbpresent": {
     "id": "5dbe0e24-120e-4080-8a27-567d26b66859"
    }
   },
   "source": [
    "next는 generator 안에 있는 원소를 꺼내오는 것이기 때문에, 남은 것이 없으면 오류를 반환합니다. "
   ]
  },
  {
   "cell_type": "code",
   "execution_count": null,
   "metadata": {
    "nbpresent": {
     "id": "dcfac713-536d-4175-a366-7a08598d5701"
    }
   },
   "outputs": [],
   "source": [
    "print(next(generator_sample))"
   ]
  },
  {
   "cell_type": "code",
   "execution_count": null,
   "metadata": {
    "nbpresent": {
     "id": "636c0ff0-32ba-4504-addd-4c4215da3773"
    }
   },
   "outputs": [],
   "source": [
    "for item in generator():\n",
    "    print(item)"
   ]
  },
  {
   "cell_type": "markdown",
   "metadata": {
    "colab_type": "text",
    "id": "QiLOWxDKuJxt",
    "nbpresent": {
     "id": "2fc71a83-a0ee-41fb-88ab-d828c4bc325e"
    }
   },
   "source": [
    "# \\[ 2. Python의 패키지 \\]\n",
    "\n",
    "패키지란 디렉토리 구조로 관리되는 코드의 집합을 뜻합니다. 패키지를 활용하면 다른 개발자들이 만들고 성능이 검증되었고 효율적으로 설계된 모듈을 손쉽게 쓸 수 있습니다. <br>\n",
    "특히 Python에는 데이터를 다루는 패키지(예: Numpy, Pandas, Scipy 등)가 다른 언어에 비해 특히 잘 구성되어 있으므로 패키지를 적극적으로 활용하기를 추천합니다. <br>\n",
    "Python에서 패키지를 설치하고 불러와 활용해보는 방법을 배워보겠습니다."
   ]
  },
  {
   "cell_type": "markdown",
   "metadata": {
    "nbpresent": {
     "id": "eb261165-5ff4-4e9f-b36d-4ffa264e26a4"
    }
   },
   "source": [
    "## 1. `pip`으로 패키지 관리하기\n",
    "\n",
    "+ 파이썬의 패키지들은 패키지 관리 시스템인 `pip`를 통해, 손쉽게 패키지를 설치, 제거할 수 있습니다.\n",
    "+ 콘솔창에서는 `pip 명령어`로 조작 가능하며, 주피터 노트북 환경에서는 `!pip 명령어`로 동일하게 조작할 수 있습니다. "
   ]
  },
  {
   "cell_type": "markdown",
   "metadata": {
    "nbpresent": {
     "id": "d9bac638-3ed7-4aa0-ac30-ea95d5e476ea"
    }
   },
   "source": [
    "### (1) 설치된 패키지 리스트 확인하기\n",
    "`pip list`를 통해 설치된 패키지에는 어떤 것이 있는지 확인할 수 있습니다."
   ]
  },
  {
   "cell_type": "code",
   "execution_count": null,
   "metadata": {
    "nbpresent": {
     "id": "36689154-3f05-4cac-bc15-c93da7a7b3cc"
    }
   },
   "outputs": [],
   "source": [
    "# 현재 설치된 패키지 리스트 확인하기\n",
    "!pip list"
   ]
  },
  {
   "cell_type": "markdown",
   "metadata": {
    "nbpresent": {
     "id": "64698b6c-d7a0-4eb8-9667-b0151b318068"
    }
   },
   "source": [
    "### (2) 패키지 다운로드하기\n",
    "`pip install <package name>`를 통해 패키지를 다운로드 할 수 있습니다.\n",
    "   "
   ]
  },
  {
   "cell_type": "code",
   "execution_count": null,
   "metadata": {
    "nbpresent": {
     "id": "7b980832-e84c-4bbf-b624-3ce5813909e9"
    }
   },
   "outputs": [],
   "source": [
    "# 패키지 설치하기 (wget : 파일을 다운로드하는 것을 도와주는 패키지)\n",
    "!pip install wget"
   ]
  },
  {
   "cell_type": "markdown",
   "metadata": {
    "nbpresent": {
     "id": "7b2a804c-897e-4a2d-869b-13083e9dad88"
    }
   },
   "source": [
    "### (3) 패키지 가져오기\n",
    "`import <package name>`를 통해 다운로드 한 패키지를 가져올 수 있습니다. "
   ]
  },
  {
   "cell_type": "code",
   "execution_count": null,
   "metadata": {
    "nbpresent": {
     "id": "81bb5f79-a015-4522-8318-93b34d84a0c5"
    }
   },
   "outputs": [],
   "source": [
    "import wget"
   ]
  },
  {
   "cell_type": "markdown",
   "metadata": {
    "nbpresent": {
     "id": "2fd30fa5-e07c-43bf-8a1b-466fac482204"
    }
   },
   "source": [
    "패키지 안의 매소드가 어떤 매개변수를 요구하는지 파악하고 싶다면 `?패키지명.매소드명`을 이용할 수 있습니다. 아래 내용을 살펴보면, `wget` 패키지에는 url을 다운받을 수 있는 `dowmload`라는 매소드는 `url`이라는 매개변수가 필요하며, `out`과 `bar` 매개변수에는 디폴트 값이 지정되어 있음을 알 수 있습니다.  "
   ]
  },
  {
   "cell_type": "code",
   "execution_count": null,
   "metadata": {
    "nbpresent": {
     "id": "8ad50e0b-14c0-4f4b-8f72-7f34cc198234"
    }
   },
   "outputs": [],
   "source": [
    "# 아래 이미지 다운로드를 현재 폴더로 다운로드 하기\n",
    "wget.download(\"https://upload.wikimedia.org/wikipedia/commons/thumb/8/88/Ward_Cunningham_-_Commons-1.jpg/400px-Ward_Cunningham_-_Commons-1.jpg\")"
   ]
  },
  {
   "cell_type": "code",
   "execution_count": null,
   "metadata": {
    "nbpresent": {
     "id": "cc823c13-cd76-455a-8e33-6d77d490e764"
    }
   },
   "outputs": [],
   "source": [
    "# 현재 폴더 내 파일들 검색\n",
    "!ls"
   ]
  },
  {
   "cell_type": "markdown",
   "metadata": {
    "nbpresent": {
     "id": "0d182c49-e846-4da6-b342-d16e4525ee3f"
    }
   },
   "source": [
    "### (4) 패키지 지우기\n",
    "\n",
    "   * `pip uninstall -y <package name>`를 통해 설치한 패키지를 지울수 있습니다."
   ]
  },
  {
   "cell_type": "code",
   "execution_count": null,
   "metadata": {
    "nbpresent": {
     "id": "230bfb33-c50d-4832-b4aa-eb56c8b75338"
    }
   },
   "outputs": [],
   "source": [
    "# 설치된 패키지 지우기\n",
    "!pip uninstall -y wget "
   ]
  },
  {
   "cell_type": "markdown",
   "metadata": {
    "colab_type": "text",
    "id": "MTZevRuFXG5i",
    "nbpresent": {
     "id": "4b70631e-6f5a-4c34-8b63-9fb8bbbfb827"
    }
   },
   "source": [
    "## 2. 패키지를 호출하는 다양한 방법 익히기\n",
    "\n",
    "+ `import` 예약어를 통해 패키지를 호출하면 패키지 안에서 기본으로 불러와지도록 설정된 모듈만 불러오게 됩니다. \n",
    "+ 패키지 안에서 필요한 모듈만 특정하여 가져오려면 `from`과 예약어와 함께 `import`를 사용합니다. \n",
    "+ 반복적으로 사용되는 패키지에는 `as` 예약어를 이용해 별칭을 붙여서(Aliasing) 간편하게 사용할 수도 있습니다."
   ]
  },
  {
   "cell_type": "markdown",
   "metadata": {
    "colab_type": "text",
    "id": "uAV_0b8KuJyb",
    "nbpresent": {
     "id": "79fba193-57ac-4e5e-840e-9110de6388b2"
    }
   },
   "source": [
    "### (1) 패키지 내 특정 모듈만 가져오기\n",
    "\n",
    "random이라는 패키지 안에 있는 다양한 메소드 중 shuffle만 가져오고 싶을 때에는 `from`을 이용하면 됩니다."
   ]
  },
  {
   "cell_type": "code",
   "execution_count": null,
   "metadata": {
    "colab": {},
    "colab_type": "code",
    "id": "qcQk4N9GuJyc",
    "nbpresent": {
     "id": "ede4503e-24b2-4925-93bc-ad0ada2c1971"
    }
   },
   "outputs": [],
   "source": [
    "from random import shuffle"
   ]
  },
  {
   "cell_type": "code",
   "execution_count": null,
   "metadata": {
    "colab": {},
    "colab_type": "code",
    "id": "IKSu091puJye",
    "nbpresent": {
     "id": "58c3af82-ad7a-43b7-a2a9-4d30188852a2"
    },
    "outputId": "d48b13b9-53ad-4d1c-c74b-5ddaf94b3615"
   },
   "outputs": [],
   "source": [
    "lst1 = [1,2,3,4,5]\n",
    "shuffle(lst1)\n",
    "lst1"
   ]
  },
  {
   "cell_type": "markdown",
   "metadata": {
    "colab_type": "text",
    "id": "y7u0m-6rmAue",
    "nbpresent": {
     "id": "19b0d435-2ba3-4679-9974-bb3de7bb19da"
    }
   },
   "source": [
    "다음과 같이 콤마(`,`)를 이용해 특정 패키지 안의 여러개 매소드를 한 번에 호출할 수도 있습니다."
   ]
  },
  {
   "cell_type": "code",
   "execution_count": null,
   "metadata": {
    "colab": {},
    "colab_type": "code",
    "id": "BqlpaMA6mLGL",
    "nbpresent": {
     "id": "9fa14d37-bd6b-4ae2-b416-f9ca37a87ace"
    }
   },
   "outputs": [],
   "source": [
    "from random import choice, randint"
   ]
  },
  {
   "cell_type": "code",
   "execution_count": null,
   "metadata": {
    "colab": {
     "base_uri": "https://localhost:8080/",
     "height": 34
    },
    "colab_type": "code",
    "executionInfo": {
     "elapsed": 759,
     "status": "ok",
     "timestamp": 1550812111191,
     "user": {
      "displayName": "최선열",
      "photoUrl": "",
      "userId": "00663027191814710813"
     },
     "user_tz": -540
    },
    "id": "bM0jtR-rmm2G",
    "nbpresent": {
     "id": "da9713a7-14cb-45e0-a1b0-dfafefadfb96"
    },
    "outputId": "3d239275-f485-466a-ec32-55503e191296"
   },
   "outputs": [],
   "source": [
    "lst1 = [1,2,3,4,5]\n",
    "random.choice(lst1)"
   ]
  },
  {
   "cell_type": "markdown",
   "metadata": {
    "colab_type": "text",
    "id": "I-_A6Tzwmz-8",
    "nbpresent": {
     "id": "6c2cb206-d3e2-421a-8d91-c47fbca4b8d2"
    }
   },
   "source": [
    "다음과 같이 * ( wildcard ; 와일드카드)를 사용하여 모듈 내의 모든 메소드를 한번에 호출할 수도 있습니다. 이때는 메소드 앞에 패키지명을 특정하지 않아도 메소드를 바로 사용할 수 있습니다. <br>"
   ]
  },
  {
   "cell_type": "code",
   "execution_count": null,
   "metadata": {
    "colab": {},
    "colab_type": "code",
    "id": "agNt4-LKmxDI",
    "nbpresent": {
     "id": "85b6951b-4cdf-4ef4-b289-895f1536c2da"
    }
   },
   "outputs": [],
   "source": [
    "from random import *"
   ]
  },
  {
   "cell_type": "code",
   "execution_count": null,
   "metadata": {
    "colab": {
     "base_uri": "https://localhost:8080/",
     "height": 68
    },
    "colab_type": "code",
    "executionInfo": {
     "elapsed": 613,
     "status": "ok",
     "timestamp": 1550812727025,
     "user": {
      "displayName": "최선열",
      "photoUrl": "",
      "userId": "00663027191814710813"
     },
     "user_tz": -540
    },
    "id": "IKM4KxRYozcm",
    "nbpresent": {
     "id": "a4bec371-29f4-4793-8541-30e3da2b30e4"
    },
    "outputId": "7cc4b65a-d846-4321-b2eb-4460a9f4af32"
   },
   "outputs": [],
   "source": [
    "lst1 = [1,2,3,4,5]\n",
    "print(choice(lst1)) # random 패키지의 choice 메소드를 random.choice 가 아닌 choice로 바로 활용 \n",
    "shuffle(lst1) # random 패키지의 shuffle 메소드를 random.shuffle 가 아닌 suffle로 바로 활용\n",
    "print(lst1)\n",
    "print(randint(5,10))"
   ]
  },
  {
   "cell_type": "markdown",
   "metadata": {
    "colab_type": "text",
    "id": "w6S5A-dMuJyh",
    "nbpresent": {
     "id": "bdcd7335-56de-4ca3-a9d6-c3f1db676ea2"
    }
   },
   "source": [
    "### (2) 별칭으로 패키지 불러오기\n",
    "\n",
    "패키지에는 numpy처럼 짧은 이름을 가진 패키지도 있지만, beutifulsoup 처럼 긴 이름을 가진 패키지도 있습니다. 패키지 이름이 매번 명시하기에는 길거나 매우 빈번하게 사용하는 패키지의 경우, 파이썬에서는 다음과 같이 **`as`를 통해**  별칭으로 바꿔 불러올 수 있습니다.\n",
    "<br>\n",
    "<br>\n",
    "가령 `numpy`는 `np`로, `pandas`는 `pd`로 줄여서 불러오는 관행이 있습니다.  "
   ]
  },
  {
   "cell_type": "code",
   "execution_count": null,
   "metadata": {
    "colab": {
     "base_uri": "https://localhost:8080/",
     "height": 34
    },
    "colab_type": "code",
    "executionInfo": {
     "elapsed": 1462,
     "status": "ok",
     "timestamp": 1550812888958,
     "user": {
      "displayName": "최선열",
      "photoUrl": "",
      "userId": "00663027191814710813"
     },
     "user_tz": -540
    },
    "id": "haDUA_n4uJyh",
    "nbpresent": {
     "id": "d8767afe-8c0d-4030-9ff2-550e3d0c2e64"
    },
    "outputId": "002d80cc-b699-432e-90a2-12096c8c9cf7"
   },
   "outputs": [],
   "source": [
    "import numpy as np\n",
    "\n",
    "lst1 = [1,2,3,4,5]\n",
    "np.add(lst1, 1)"
   ]
  },
  {
   "cell_type": "markdown",
   "metadata": {
    "colab_type": "text",
    "id": "E5xyqXf2uJxt",
    "nbpresent": {
     "id": "85d2e054-1442-40a5-88ba-a9ffc2804b3d"
    }
   },
   "source": [
    "<br>\n",
    "## 3. Python의 표준 패키지 활용하기\n",
    "\n",
    "+ 파이썬은 다양한 표준 패키지(혹은 표준 라이브러리)를 지원합니다.\n",
    "+ 표준 패키지 중 자주 사용되는 time 패키지, os 패키지, random 패키지를 예로 들어 패키지를 어떤식으로 사용하는지 익혀봅시다."
   ]
  },
  {
   "cell_type": "markdown",
   "metadata": {
    "colab_type": "text",
    "id": "mHW0cYdCuJxt",
    "nbpresent": {
     "id": "83acca27-a0b0-47aa-bf52-785f38ba1ea4"
    }
   },
   "source": [
    "### (1) time 패키지\n",
    "`time`은 시간을 측정하는 패키지입니다. `time` 패키지 안에 있는 `time` 메소드 호출할 때는 `time.time()`으로 표현합니다. "
   ]
  },
  {
   "cell_type": "code",
   "execution_count": null,
   "metadata": {
    "colab": {},
    "colab_type": "code",
    "id": "3ymqoDrruJxv",
    "nbpresent": {
     "id": "7762afd1-9414-4152-8568-74d5b1fdb97c"
    }
   },
   "outputs": [],
   "source": [
    "import time"
   ]
  },
  {
   "cell_type": "code",
   "execution_count": null,
   "metadata": {
    "colab": {
     "base_uri": "https://localhost:8080/",
     "height": 34
    },
    "colab_type": "code",
    "executionInfo": {
     "elapsed": 703,
     "status": "ok",
     "timestamp": 1550807558503,
     "user": {
      "displayName": "최선열",
      "photoUrl": "",
      "userId": "00663027191814710813"
     },
     "user_tz": -540
    },
    "id": "epveDb4HuJxw",
    "nbpresent": {
     "id": "9e03b659-ced1-48c2-a44e-69389f7a4a19"
    },
    "outputId": "da31f917-0fc8-40e8-a1a7-5ea5d681ec26"
   },
   "outputs": [],
   "source": [
    "time.time() # 현재 초단위로 측정되고 있는 OS의 시간을 반환. "
   ]
  },
  {
   "cell_type": "markdown",
   "metadata": {
    "colab_type": "text",
    "id": "vBAsHxHeuJx0",
    "nbpresent": {
     "id": "f7953e64-2bb6-4cdb-a099-01502928af31"
    }
   },
   "source": [
    "`time.time()`는 주로 다음과 같이 프로그램이 동작하는 데 얼마나 시간이 걸리는지 측정하는 데에 많이 쓰입니다."
   ]
  },
  {
   "cell_type": "code",
   "execution_count": null,
   "metadata": {
    "colab": {
     "base_uri": "https://localhost:8080/",
     "height": 34
    },
    "colab_type": "code",
    "executionInfo": {
     "elapsed": 633,
     "status": "ok",
     "timestamp": 1550807743477,
     "user": {
      "displayName": "최선열",
      "photoUrl": "",
      "userId": "00663027191814710813"
     },
     "user_tz": -540
    },
    "id": "0TBZEv7MuJx1",
    "nbpresent": {
     "id": "5bf4df77-ff51-4136-b024-075d85936c8c"
    },
    "outputId": "d742d163-dbf7-4657-f956-179cdf6b5c17"
   },
   "outputs": [],
   "source": [
    "start = time.time()\n",
    "# \n",
    "total = 1\n",
    "for i in range(1,1000):\n",
    "    total *= i\n",
    "\n",
    "end = time.time()\n",
    "\n",
    "print(end - start)"
   ]
  },
  {
   "cell_type": "markdown",
   "metadata": {
    "colab_type": "text",
    "id": "TsE6URWluJx3",
    "nbpresent": {
     "id": "2804689b-7dee-473c-8412-1b9e64c8ddd7"
    }
   },
   "source": [
    "### (2) os 패키지\n",
    "\n",
    "OS(운영체제) 내에 있는 여러 기능들을 파이썬에서 이용할 수 있도록 만든 패키지입니다."
   ]
  },
  {
   "cell_type": "code",
   "execution_count": null,
   "metadata": {
    "colab": {},
    "colab_type": "code",
    "id": "frBlfN4buJx4",
    "nbpresent": {
     "id": "d2f4834f-f481-4e9c-ba2d-e143152e7e49"
    }
   },
   "outputs": [],
   "source": [
    "import os"
   ]
  },
  {
   "cell_type": "markdown",
   "metadata": {
    "colab_type": "text",
    "id": "QfkEY9iquJx6",
    "nbpresent": {
     "id": "a1ba64f3-dfdf-4761-a029-50fe69984a4e"
    }
   },
   "source": [
    "`listdir` 메소드를 이용하면 디렉토리 내 파일 이름 가져오거나, 상위 폴더에 있는 파일을 전부 가져올 수 있습니다. "
   ]
  },
  {
   "cell_type": "code",
   "execution_count": null,
   "metadata": {
    "colab": {
     "base_uri": "https://localhost:8080/",
     "height": 34
    },
    "colab_type": "code",
    "executionInfo": {
     "elapsed": 581,
     "status": "ok",
     "timestamp": 1550807756202,
     "user": {
      "displayName": "최선열",
      "photoUrl": "",
      "userId": "00663027191814710813"
     },
     "user_tz": -540
    },
    "id": "VXJyvlgEuJx7",
    "nbpresent": {
     "id": "0e020a12-3c51-49a5-a57a-755503d28876"
    },
    "outputId": "3a2ff6b1-8e70-492c-861f-757d28e77674"
   },
   "outputs": [],
   "source": [
    "os.listdir(\"./\") # os 패키지 내 listdir 메소드 사용. 현재 폴더에 있는 파일들을 가져옴"
   ]
  },
  {
   "cell_type": "code",
   "execution_count": null,
   "metadata": {
    "nbpresent": {
     "id": "fdc451e1-a795-42c4-b64c-799249a3db1f"
    }
   },
   "outputs": [],
   "source": [
    "os.listdir(\"../\") # 상위 폴더에 있는 파일들을 가져옴"
   ]
  },
  {
   "cell_type": "markdown",
   "metadata": {
    "colab_type": "text",
    "id": "00lKkR7auJx_",
    "nbpresent": {
     "id": "50d49a67-d5dc-4b46-ab53-94998c027065"
    }
   },
   "source": [
    "파일경로 문자열에서 파일명과 디렉토리 분리하는 작업도 `path.split(파일경로)`을 이용해 간단하게 할 수 있습니다. "
   ]
  },
  {
   "cell_type": "code",
   "execution_count": null,
   "metadata": {
    "colab": {
     "base_uri": "https://localhost:8080/",
     "height": 34
    },
    "colab_type": "code",
    "executionInfo": {
     "elapsed": 600,
     "status": "ok",
     "timestamp": 1550807762651,
     "user": {
      "displayName": "최선열",
      "photoUrl": "",
      "userId": "00663027191814710813"
     },
     "user_tz": -540
    },
    "id": "aGBssGftuJx_",
    "nbpresent": {
     "id": "f5117747-3ffa-4ee4-89fd-e84108f8048c"
    },
    "outputId": "7e55e601-3322-4669-86a4-c8960f92e5b3"
   },
   "outputs": [],
   "source": [
    "file_path = \"/images/cat.png\" \n",
    "os.path.split(file_path) # 디렉토리와 파일이름을 나누기"
   ]
  },
  {
   "cell_type": "markdown",
   "metadata": {
    "colab_type": "text",
    "id": "4R4GVuicuJyC",
    "nbpresent": {
     "id": "fd069ede-175f-4d00-b9f4-c94a25cd79dd"
    }
   },
   "source": [
    "### (3) random\n",
    "`random`은 파이썬에서 무작위로 값을 만들어주거나, 고르거나, 섞을 때 주로 이용하는 패키지입니다."
   ]
  },
  {
   "cell_type": "code",
   "execution_count": null,
   "metadata": {
    "colab": {},
    "colab_type": "code",
    "id": "GSH6wdLxuJyD",
    "nbpresent": {
     "id": "8cc69bb9-ad3c-4257-971e-4f9ac3f2bdcb"
    }
   },
   "outputs": [],
   "source": [
    "import random"
   ]
  },
  {
   "cell_type": "markdown",
   "metadata": {
    "colab_type": "text",
    "id": "5UlnzoB4uJyE",
    "nbpresent": {
     "id": "3fea610a-c23b-4c1a-9da0-a542be4bc22f"
    }
   },
   "source": [
    "`random` 패키지의 `random` 메소드를 사용하면 무작위로 0~1 사이의 값이 반환됩니다. "
   ]
  },
  {
   "cell_type": "code",
   "execution_count": null,
   "metadata": {
    "colab": {
     "base_uri": "https://localhost:8080/",
     "height": 34
    },
    "colab_type": "code",
    "executionInfo": {
     "elapsed": 676,
     "status": "ok",
     "timestamp": 1550807800432,
     "user": {
      "displayName": "최선열",
      "photoUrl": "",
      "userId": "00663027191814710813"
     },
     "user_tz": -540
    },
    "id": "hGL_B_dduJyE",
    "nbpresent": {
     "id": "278ee6f9-3fb8-4c24-b7fc-88ccb2bd23e0"
    },
    "outputId": "2fb48eff-7d8a-49aa-fd64-46e964e5fc1f"
   },
   "outputs": [],
   "source": [
    "random.random()"
   ]
  },
  {
   "cell_type": "markdown",
   "metadata": {
    "colab_type": "text",
    "id": "nhcliZtquJyH",
    "nbpresent": {
     "id": "a0729641-8fe7-43d7-8be3-74b4f2944013"
    }
   },
   "source": [
    "`random`패키지의 `randint`를 이용하면 a,b 사이의 정수(a<=값<=b) 중 하나를 무작위로 반환합니다. "
   ]
  },
  {
   "cell_type": "code",
   "execution_count": null,
   "metadata": {
    "colab": {
     "base_uri": "https://localhost:8080/",
     "height": 34
    },
    "colab_type": "code",
    "executionInfo": {
     "elapsed": 621,
     "status": "ok",
     "timestamp": 1550807809606,
     "user": {
      "displayName": "최선열",
      "photoUrl": "",
      "userId": "00663027191814710813"
     },
     "user_tz": -540
    },
    "id": "CvzXlkWBuJyI",
    "nbpresent": {
     "id": "8ef11161-4a2d-4beb-a9e6-0dff1a62b137"
    },
    "outputId": "328d3d90-1b4b-49ac-bf55-d2ab95f354b4"
   },
   "outputs": [],
   "source": [
    "a = 5\n",
    "b = 10\n",
    "random.randint(a,b)"
   ]
  },
  {
   "cell_type": "markdown",
   "metadata": {
    "colab_type": "text",
    "id": "wmNkiLSduJyM",
    "nbpresent": {
     "id": "1133add3-3080-4262-8e55-85aa1791e4d8"
    }
   },
   "source": [
    "`random`패키지의 `choice`를 이용하면 리스트 중 하나의 요소를 무작위로 꺼내줍니다. "
   ]
  },
  {
   "cell_type": "code",
   "execution_count": null,
   "metadata": {
    "colab": {},
    "colab_type": "code",
    "id": "pMymnwRhuJyQ",
    "nbpresent": {
     "id": "415bac2e-487e-4aa8-8c2f-71e681151127"
    },
    "outputId": "5499cc93-f646-4661-f381-ad1069d00dff"
   },
   "outputs": [],
   "source": [
    "lst1 = [1,2,3,4,5]\n",
    "random.choice(lst1)"
   ]
  },
  {
   "cell_type": "markdown",
   "metadata": {
    "colab_type": "text",
    "id": "W2nod0xvuJyU",
    "nbpresent": {
     "id": "42b9bcb2-87e6-4e47-bcac-330f6b084167"
    }
   },
   "source": [
    "`random` 패키지의 `shuffle`를 이용하면 리스트의 순서를 무작위로 섞어줍니다. "
   ]
  },
  {
   "cell_type": "code",
   "execution_count": null,
   "metadata": {
    "colab": {
     "base_uri": "https://localhost:8080/",
     "height": 34
    },
    "colab_type": "code",
    "executionInfo": {
     "elapsed": 592,
     "status": "ok",
     "timestamp": 1550808005726,
     "user": {
      "displayName": "최선열",
      "photoUrl": "",
      "userId": "00663027191814710813"
     },
     "user_tz": -540
    },
    "id": "1gqhF5hEuJyW",
    "nbpresent": {
     "id": "629e6849-44cc-42c6-83a0-fd412bf3ab88"
    },
    "outputId": "ffdf6558-eff5-4f23-f3ac-4fe696a4e8b7"
   },
   "outputs": [],
   "source": [
    "lst1 = [1,2,3,4,5]\n",
    "random.shuffle(lst1)\n",
    "lst1"
   ]
  },
  {
   "cell_type": "markdown",
   "metadata": {
    "colab_type": "text",
    "id": "NKVGfRi2uJyj",
    "nbpresent": {
     "id": "c8c8f2d3-046b-44e6-a165-58b69cb517cb"
    }
   },
   "source": [
    "#  \n",
    "\n",
    "---\n",
    "\n",
    "    Copyright(c) 2019 by Public AI. All rights reserved.\n",
    "    Writen by PAI, SangJae Kang ( rocketgrowthsj@publicai.co.kr )  last updated on 2019/02/22\n",
    "---"
   ]
  }
 ],
 "metadata": {
  "colab": {
   "collapsed_sections": [
    "FkAkLgIouJwk",
    "2Upmg5J8uJwu",
    "CCTPOlXNuJw2",
    "qSnYnh4luJw-",
    "xREZ5KJ8uJxC",
    "z-fWdiacuJxD",
    "eAU6C2JFuJxI",
    "mlhv3F1KuJxL",
    "WjhVLp66uJxQ",
    "9bR9zPKjuJxZ",
    "mHW0cYdCuJxt",
    "TsE6URWluJx3",
    "QfkEY9iquJx6",
    "00lKkR7auJx_",
    "4R4GVuicuJyC",
    "5UlnzoB4uJyE",
    "nhcliZtquJyH",
    "wmNkiLSduJyM",
    "W2nod0xvuJyU",
    "uAV_0b8KuJyb",
    "w6S5A-dMuJyh"
   ],
   "name": "7_Python의 함수와 패키지들.ipynb",
   "provenance": [],
   "toc_visible": true,
   "version": "0.3.2"
  },
  "kernelspec": {
   "display_name": "Python 3",
   "language": "python",
   "name": "python3"
  },
  "language_info": {
   "codemirror_mode": {
    "name": "ipython",
    "version": 3
   },
   "file_extension": ".py",
   "mimetype": "text/x-python",
   "name": "python",
   "nbconvert_exporter": "python",
   "pygments_lexer": "ipython3",
   "version": "3.6.6"
  },
  "nbpresent": {
   "slides": {
    "030015f3-c5da-458f-97f7-c9681df0f311": {
     "id": "030015f3-c5da-458f-97f7-c9681df0f311",
     "prev": "20e03e79-2288-43a0-9299-c4ccd6d0a6a9",
     "regions": {
      "edab3571-7bd8-4b1e-8fb8-5ba09ab62aac": {
       "attrs": {
        "height": 0.8,
        "width": 0.8,
        "x": 0.1,
        "y": 0.1
       },
       "content": {
        "cell": "276af433-27cd-44a8-a176-9a7643fbc753",
        "part": "whole"
       },
       "id": "edab3571-7bd8-4b1e-8fb8-5ba09ab62aac"
      }
     }
    },
    "08f7aa31-ff05-4b57-8c94-b6a3050641df": {
     "id": "08f7aa31-ff05-4b57-8c94-b6a3050641df",
     "prev": "d0a1d31a-8984-4deb-ba6d-e686c370f6ba",
     "regions": {
      "6aab65e8-f3d9-4eee-bf4b-ece8ba81006c": {
       "attrs": {
        "height": 0.8,
        "width": 0.8,
        "x": 0.1,
        "y": 0.1
       },
       "content": {
        "cell": "fd069ede-175f-4d00-b9f4-c94a25cd79dd",
        "part": "whole"
       },
       "id": "6aab65e8-f3d9-4eee-bf4b-ece8ba81006c"
      }
     }
    },
    "0af1018f-964b-4fcf-8cf9-fc4775dc4de1": {
     "id": "0af1018f-964b-4fcf-8cf9-fc4775dc4de1",
     "prev": "394afe1a-4cf0-49eb-835e-95da78c18427",
     "regions": {
      "7e0960e6-3e15-49ff-a91b-62621f7b29c7": {
       "attrs": {
        "height": 0.8,
        "width": 0.8,
        "x": 0.1,
        "y": 0.1
       },
       "content": {
        "cell": "5dbe0e24-120e-4080-8a27-567d26b66859",
        "part": "whole"
       },
       "id": "7e0960e6-3e15-49ff-a91b-62621f7b29c7"
      }
     }
    },
    "0db3893c-d254-4748-aa40-236e71cb31ab": {
     "id": "0db3893c-d254-4748-aa40-236e71cb31ab",
     "prev": "ded91dfc-448d-4214-a124-96e46964c6c8",
     "regions": {
      "3349413f-cef4-4b0f-a1aa-7cc89123db61": {
       "attrs": {
        "height": 0.8,
        "width": 0.8,
        "x": 0.1,
        "y": 0.1
       },
       "content": {
        "cell": "415bac2e-487e-4aa8-8c2f-71e681151127",
        "part": "whole"
       },
       "id": "3349413f-cef4-4b0f-a1aa-7cc89123db61"
      }
     }
    },
    "13d2ae1e-7be8-4fcb-9d5a-6b5986055174": {
     "id": "13d2ae1e-7be8-4fcb-9d5a-6b5986055174",
     "prev": "19fa3907-1dc5-4996-bcb8-ddd1d1f2c6a1",
     "regions": {
      "91930a96-c7a3-4944-8c57-a2d1df85bad4": {
       "attrs": {
        "height": 0.8,
        "width": 0.8,
        "x": 0.1,
        "y": 0.1
       },
       "content": {
        "cell": "81bb5f79-a015-4522-8318-93b34d84a0c5",
        "part": "whole"
       },
       "id": "91930a96-c7a3-4944-8c57-a2d1df85bad4"
      }
     }
    },
    "183e7824-87e0-4f62-8ed3-7ab3fe4e97e9": {
     "id": "183e7824-87e0-4f62-8ed3-7ab3fe4e97e9",
     "prev": "42dca838-b986-40b3-9e25-c5ecb48470f5",
     "regions": {
      "56910b7b-7e1b-474c-a5fb-dd57d34b3b72": {
       "attrs": {
        "height": 0.8,
        "width": 0.8,
        "x": 0.1,
        "y": 0.1
       },
       "content": {
        "cell": "3fea610a-c23b-4c1a-9da0-a542be4bc22f",
        "part": "whole"
       },
       "id": "56910b7b-7e1b-474c-a5fb-dd57d34b3b72"
      }
     }
    },
    "19fa3907-1dc5-4996-bcb8-ddd1d1f2c6a1": {
     "id": "19fa3907-1dc5-4996-bcb8-ddd1d1f2c6a1",
     "prev": "96a3aa05-53c2-4aa6-96b2-7156725f0c73",
     "regions": {
      "07cc0fa1-f562-4ebb-9202-016c2336bcdf": {
       "attrs": {
        "height": 0.8,
        "width": 0.8,
        "x": 0.1,
        "y": 0.1
       },
       "content": {
        "cell": "7b2a804c-897e-4a2d-869b-13083e9dad88",
        "part": "whole"
       },
       "id": "07cc0fa1-f562-4ebb-9202-016c2336bcdf"
      }
     }
    },
    "1bd0ed97-59ea-4efc-849d-27e9bd5e8210": {
     "id": "1bd0ed97-59ea-4efc-849d-27e9bd5e8210",
     "prev": "618e10c3-81ff-4855-b7de-b6c7abcb0cf5",
     "regions": {
      "219913c4-affd-4819-91b8-8e0e6445bc5d": {
       "attrs": {
        "height": 0.8,
        "width": 0.8,
        "x": 0.1,
        "y": 0.1
       },
       "content": {
        "cell": "0da956db-7a55-4c9c-be17-47099cdca53f",
        "part": "whole"
       },
       "id": "219913c4-affd-4819-91b8-8e0e6445bc5d"
      }
     }
    },
    "1c7c9229-6fa6-43bb-a0ee-2bca27a38046": {
     "id": "1c7c9229-6fa6-43bb-a0ee-2bca27a38046",
     "prev": "5885fbad-e553-4c0e-8e53-46a1ce66ae2b",
     "regions": {
      "dbea4dc0-35ba-428c-8083-53e7c8712e81": {
       "attrs": {
        "height": 0.8,
        "width": 0.8,
        "x": 0.1,
        "y": 0.1
       },
       "content": {
        "cell": "9ef71c2f-56bd-4e7a-b2e7-80feb16e8717",
        "part": "whole"
       },
       "id": "dbea4dc0-35ba-428c-8083-53e7c8712e81"
      }
     }
    },
    "1d5f61d0-d169-4f3f-ab1d-0b0e961f4a59": {
     "id": "1d5f61d0-d169-4f3f-ab1d-0b0e961f4a59",
     "prev": "f9e03a29-ac01-4a9e-9d13-0e0b23e65f58",
     "regions": {
      "863165cd-417d-4397-bbe6-652bf8de8781": {
       "attrs": {
        "height": 0.8,
        "width": 0.8,
        "x": 0.1,
        "y": 0.1
       },
       "content": {
        "cell": "18e82063-7742-40dc-b44b-a7997da16db6",
        "part": "whole"
       },
       "id": "863165cd-417d-4397-bbe6-652bf8de8781"
      }
     }
    },
    "20e03e79-2288-43a0-9299-c4ccd6d0a6a9": {
     "id": "20e03e79-2288-43a0-9299-c4ccd6d0a6a9",
     "prev": "3d860f28-5d80-462c-ae60-4d21f11d5cb9",
     "regions": {
      "5e4f1726-6875-4847-9cf6-007af9c7a7b3": {
       "attrs": {
        "height": 0.8,
        "width": 0.8,
        "x": 0.1,
        "y": 0.1
       },
       "content": {
        "cell": "d46b72a6-3b08-4ee8-a54c-049fa3764e6d",
        "part": "whole"
       },
       "id": "5e4f1726-6875-4847-9cf6-007af9c7a7b3"
      }
     }
    },
    "210b0fc5-618a-4ed8-87ab-54d671f0e993": {
     "id": "210b0fc5-618a-4ed8-87ab-54d671f0e993",
     "prev": "8af02457-8b3a-401f-b522-9e9073aecc0b",
     "regions": {
      "2c0864b9-974f-472c-80ef-319e84db1519": {
       "attrs": {
        "height": 0.8,
        "width": 0.8,
        "x": 0.1,
        "y": 0.1
       },
       "content": {
        "cell": "85b6951b-4cdf-4ef4-b289-895f1536c2da",
        "part": "whole"
       },
       "id": "2c0864b9-974f-472c-80ef-319e84db1519"
      }
     }
    },
    "24ea3e9a-d07e-45bf-96a8-faa0ebdfa355": {
     "id": "24ea3e9a-d07e-45bf-96a8-faa0ebdfa355",
     "prev": "62965c04-93d9-40ab-a333-5aab5d157c6f",
     "regions": {
      "768fbf7e-4b93-4560-a596-47a1c64bb074": {
       "attrs": {
        "height": 0.8,
        "width": 0.8,
        "x": 0.1,
        "y": 0.1
       },
       "content": {
        "cell": "d2f4834f-f481-4e9c-ba2d-e143152e7e49",
        "part": "whole"
       },
       "id": "768fbf7e-4b93-4560-a596-47a1c64bb074"
      }
     }
    },
    "25b90e26-089d-4154-a61d-99e04c7a750c": {
     "id": "25b90e26-089d-4154-a61d-99e04c7a750c",
     "prev": "e5c70fb3-e2b2-4595-b7ea-25f9a83ac388",
     "regions": {
      "7821a730-93c9-4a5c-ade6-3d8ed9913780": {
       "attrs": {
        "height": 0.8,
        "width": 0.8,
        "x": 0.1,
        "y": 0.1
       },
       "content": {
        "cell": "50d49a67-d5dc-4b46-ab53-94998c027065",
        "part": "whole"
       },
       "id": "7821a730-93c9-4a5c-ade6-3d8ed9913780"
      }
     }
    },
    "2cba4f92-6ece-4e53-96a5-8355e0a29cb3": {
     "id": "2cba4f92-6ece-4e53-96a5-8355e0a29cb3",
     "prev": "ce064ebf-0d62-4669-af19-dfdce011448c",
     "regions": {
      "dee37a0f-bbdc-46d6-9fee-dcba167c6268": {
       "attrs": {
        "height": 0.8,
        "width": 0.8,
        "x": 0.1,
        "y": 0.1
       },
       "content": {
        "cell": "5bf4df77-ff51-4136-b024-075d85936c8c",
        "part": "whole"
       },
       "id": "dee37a0f-bbdc-46d6-9fee-dcba167c6268"
      }
     }
    },
    "300a8f01-b878-4162-a389-abe9dc66b7dd": {
     "id": "300a8f01-b878-4162-a389-abe9dc66b7dd",
     "prev": "b2e859fc-424b-4dd2-94f7-f80d2eafd174",
     "regions": {
      "bb4c4b47-e162-4b67-a227-f508808810e6": {
       "attrs": {
        "height": 0.8,
        "width": 0.8,
        "x": 0.1,
        "y": 0.1
       },
       "content": {
        "cell": "c1bb58fc-883a-4311-84e8-f0dba5d7b20f",
        "part": "whole"
       },
       "id": "bb4c4b47-e162-4b67-a227-f508808810e6"
      }
     }
    },
    "327eb353-4080-43e8-8623-ed9d851079d8": {
     "id": "327eb353-4080-43e8-8623-ed9d851079d8",
     "prev": "9aad6ac4-696d-4480-be31-2edad1c450c8",
     "regions": {
      "84542ab1-c7c8-4d32-94d8-90363c42e649": {
       "attrs": {
        "height": 0.8,
        "width": 0.8,
        "x": 0.1,
        "y": 0.1
       },
       "content": {
        "cell": "636c0ff0-32ba-4504-addd-4c4215da3773",
        "part": "whole"
       },
       "id": "84542ab1-c7c8-4d32-94d8-90363c42e649"
      }
     }
    },
    "34512fc6-8f69-4168-a833-b730f8ff1244": {
     "id": "34512fc6-8f69-4168-a833-b730f8ff1244",
     "prev": "13d2ae1e-7be8-4fcb-9d5a-6b5986055174",
     "regions": {
      "0dc18b29-4dfb-4cab-9d9f-cf87c52d0150": {
       "attrs": {
        "height": 0.8,
        "width": 0.8,
        "x": 0.1,
        "y": 0.1
       },
       "content": {
        "cell": "2fd30fa5-e07c-43bf-8a1b-466fac482204",
        "part": "whole"
       },
       "id": "0dc18b29-4dfb-4cab-9d9f-cf87c52d0150"
      }
     }
    },
    "35266990-e24b-48d7-a6df-c4f41d2afeee": {
     "id": "35266990-e24b-48d7-a6df-c4f41d2afeee",
     "prev": "5ac178fb-f711-4470-9859-9eb875d54d5d",
     "regions": {
      "ae1920ac-dd54-4864-8272-25a0199bbbba": {
       "attrs": {
        "height": 0.8,
        "width": 0.8,
        "x": 0.1,
        "y": 0.1
       },
       "content": {
        "cell": "67681f37-1f68-4540-a19c-38b5a879a7a4",
        "part": "whole"
       },
       "id": "ae1920ac-dd54-4864-8272-25a0199bbbba"
      }
     }
    },
    "3674ceed-91a0-45a7-bfff-acdfa5a021bc": {
     "id": "3674ceed-91a0-45a7-bfff-acdfa5a021bc",
     "prev": "dbc2f644-31b2-4eb8-afb7-abef716f173f",
     "regions": {
      "f0af1b0d-bbc8-4ad2-b393-529f6a30d904": {
       "attrs": {
        "height": 0.8,
        "width": 0.8,
        "x": 0.1,
        "y": 0.1
       },
       "content": {
        "cell": "9a3a7baf-a5d0-4c66-868b-b525b1eadff0",
        "part": "whole"
       },
       "id": "f0af1b0d-bbc8-4ad2-b393-529f6a30d904"
      }
     }
    },
    "394afe1a-4cf0-49eb-835e-95da78c18427": {
     "id": "394afe1a-4cf0-49eb-835e-95da78c18427",
     "prev": "970c26d5-52ee-4dd5-882b-a7e6a265fd0d",
     "regions": {
      "3cdad421-4a8a-44b9-adb7-e531d0379dce": {
       "attrs": {
        "height": 0.8,
        "width": 0.8,
        "x": 0.1,
        "y": 0.1
       },
       "content": {
        "cell": "5f6e831d-cac9-40a8-b2b9-7a1eda4ff437",
        "part": "whole"
       },
       "id": "3cdad421-4a8a-44b9-adb7-e531d0379dce"
      }
     }
    },
    "3c4af886-c836-4923-9e7c-a832d7fa409e": {
     "id": "3c4af886-c836-4923-9e7c-a832d7fa409e",
     "prev": "ff94c8f6-e092-4783-9739-1a038de10908",
     "regions": {
      "fca5f867-f3cf-486b-98f6-48cc48f1498d": {
       "attrs": {
        "height": 0.8,
        "width": 0.8,
        "x": 0.1,
        "y": 0.1
       },
       "content": {
        "cell": "84e40a4b-b989-4a43-897c-3ff94df2549a",
        "part": "whole"
       },
       "id": "fca5f867-f3cf-486b-98f6-48cc48f1498d"
      }
     }
    },
    "3d860f28-5d80-462c-ae60-4d21f11d5cb9": {
     "id": "3d860f28-5d80-462c-ae60-4d21f11d5cb9",
     "prev": "f454f9f1-eba3-48bf-b5e9-6d6f8811566f",
     "regions": {
      "235b8b61-f9a4-4019-b491-7ba1847cd421": {
       "attrs": {
        "height": 0.8,
        "width": 0.8,
        "x": 0.1,
        "y": 0.1
       },
       "content": {
        "cell": "1e01f6f1-4eae-4f37-bfcc-081300af53e9",
        "part": "whole"
       },
       "id": "235b8b61-f9a4-4019-b491-7ba1847cd421"
      }
     }
    },
    "3ed5c508-a005-469a-bf67-d15022dde256": {
     "id": "3ed5c508-a005-469a-bf67-d15022dde256",
     "prev": "92cca49c-50de-4f6f-a9a0-93c80576425f",
     "regions": {
      "4e7d4e0f-7add-4641-8d25-a16883a49a01": {
       "attrs": {
        "height": 0.8,
        "width": 0.8,
        "x": 0.1,
        "y": 0.1
       },
       "content": {
        "cell": "da9713a7-14cb-45e0-a1b0-dfafefadfb96",
        "part": "whole"
       },
       "id": "4e7d4e0f-7add-4641-8d25-a16883a49a01"
      }
     }
    },
    "41a79ffe-afb4-4c33-a9a8-63c5674df282": {
     "id": "41a79ffe-afb4-4c33-a9a8-63c5674df282",
     "prev": "d3d69f5f-0bf8-4529-af3a-2e9b3a936297",
     "regions": {
      "9ed90d54-f668-439b-8756-9e1fe93e9398": {
       "attrs": {
        "height": 0.8,
        "width": 0.8,
        "x": 0.1,
        "y": 0.1
       },
       "content": {
        "cell": "cc823c13-cd76-455a-8e33-6d77d490e764",
        "part": "whole"
       },
       "id": "9ed90d54-f668-439b-8756-9e1fe93e9398"
      }
     }
    },
    "42dca838-b986-40b3-9e25-c5ecb48470f5": {
     "id": "42dca838-b986-40b3-9e25-c5ecb48470f5",
     "prev": "08f7aa31-ff05-4b57-8c94-b6a3050641df",
     "regions": {
      "0a78e637-e3de-45fe-ab25-c2be6bbd8267": {
       "attrs": {
        "height": 0.8,
        "width": 0.8,
        "x": 0.1,
        "y": 0.1
       },
       "content": {
        "cell": "8cc69bb9-ad3c-4257-971e-4f9ac3f2bdcb",
        "part": "whole"
       },
       "id": "0a78e637-e3de-45fe-ab25-c2be6bbd8267"
      }
     }
    },
    "45b25e9f-bac6-4048-a15d-9461f2e6c677": {
     "id": "45b25e9f-bac6-4048-a15d-9461f2e6c677",
     "prev": "3674ceed-91a0-45a7-bfff-acdfa5a021bc",
     "regions": {
      "b622a5e2-9930-4565-bf2b-e814e7388c0a": {
       "attrs": {
        "height": 0.8,
        "width": 0.8,
        "x": 0.1,
        "y": 0.1
       },
       "content": {
        "cell": "e6343252-3fae-424f-8afc-56f86ceb6651",
        "part": "whole"
       },
       "id": "b622a5e2-9930-4565-bf2b-e814e7388c0a"
      }
     }
    },
    "475d69c2-0414-4c4b-b087-8c19b03d78f0": {
     "id": "475d69c2-0414-4c4b-b087-8c19b03d78f0",
     "prev": "796a3e40-ec10-4ce9-bc34-8e9a09f7cf6d",
     "regions": {
      "86dbf6d5-df50-48ef-bba3-1b10f4f6b3fe": {
       "attrs": {
        "height": 0.8,
        "width": 0.8,
        "x": 0.1,
        "y": 0.1
       },
       "content": {
        "cell": "230bfb33-c50d-4832-b4aa-eb56c8b75338",
        "part": "whole"
       },
       "id": "86dbf6d5-df50-48ef-bba3-1b10f4f6b3fe"
      }
     }
    },
    "47fac9b3-e7dd-45bd-99ef-e876982c1748": {
     "id": "47fac9b3-e7dd-45bd-99ef-e876982c1748",
     "prev": "96d5f38d-2ef4-4ee9-b87b-c3bdefec2c23",
     "regions": {
      "0a875cc0-0280-422c-a71e-358912f1b67b": {
       "attrs": {
        "height": 0.8,
        "width": 0.8,
        "x": 0.1,
        "y": 0.1
       },
       "content": {
        "cell": "64cce8a0-3ae3-4e84-bf1f-03497bccb430",
        "part": "whole"
       },
       "id": "0a875cc0-0280-422c-a71e-358912f1b67b"
      }
     }
    },
    "4a530cff-88a2-48d9-9470-f4585120c911": {
     "id": "4a530cff-88a2-48d9-9470-f4585120c911",
     "prev": "9843254b-7703-438b-ad6a-53abee5a67b0",
     "regions": {
      "7a45c5cb-6881-47cc-aa8b-8fd49e8d6371": {
       "attrs": {
        "height": 0.8,
        "width": 0.8,
        "x": 0.1,
        "y": 0.1
       },
       "content": {
        "cell": "ede4503e-24b2-4925-93bc-ad0ada2c1971",
        "part": "whole"
       },
       "id": "7a45c5cb-6881-47cc-aa8b-8fd49e8d6371"
      }
     }
    },
    "4ccedeb0-e51f-4851-ba72-d1b203c53131": {
     "id": "4ccedeb0-e51f-4851-ba72-d1b203c53131",
     "prev": "db42f845-bf93-4181-b668-a94e4f62a3b2",
     "regions": {
      "a3d19361-36eb-4a22-b6c9-aa0f89d928e8": {
       "attrs": {
        "height": 0.8,
        "width": 0.8,
        "x": 0.1,
        "y": 0.1
       },
       "content": {
        "cell": "d9bac638-3ed7-4aa0-ac30-ea95d5e476ea",
        "part": "whole"
       },
       "id": "a3d19361-36eb-4a22-b6c9-aa0f89d928e8"
      }
     }
    },
    "4d78eb3e-a6d4-4634-8518-26f4a288dfc6": {
     "id": "4d78eb3e-a6d4-4634-8518-26f4a288dfc6",
     "prev": "bd7d435e-8fb6-4176-97a1-c38032fcd0ea",
     "regions": {
      "db56cc7e-adeb-4d59-a8a7-6e22d2d8f96b": {
       "attrs": {
        "height": 0.8,
        "width": 0.8,
        "x": 0.1,
        "y": 0.1
       },
       "content": {
        "cell": "19b0d435-2ba3-4679-9974-bb3de7bb19da",
        "part": "whole"
       },
       "id": "db56cc7e-adeb-4d59-a8a7-6e22d2d8f96b"
      }
     }
    },
    "50f393ec-41ed-43b2-8265-0dad5c8834cf": {
     "id": "50f393ec-41ed-43b2-8265-0dad5c8834cf",
     "prev": "645700bc-fb1e-44b0-b500-75c0790eaec0",
     "regions": {
      "aed610fa-3451-457a-a4eb-ab489abe1bee": {
       "attrs": {
        "height": 0.8,
        "width": 0.8,
        "x": 0.1,
        "y": 0.1
       },
       "content": {
        "cell": "7762afd1-9414-4152-8568-74d5b1fdb97c",
        "part": "whole"
       },
       "id": "aed610fa-3451-457a-a4eb-ab489abe1bee"
      }
     }
    },
    "5885fbad-e553-4c0e-8e53-46a1ce66ae2b": {
     "id": "5885fbad-e553-4c0e-8e53-46a1ce66ae2b",
     "prev": "81da3fe0-999b-47e2-aa99-0b6fe7b152fe",
     "regions": {
      "048df220-ee83-422c-984a-15afda396249": {
       "attrs": {
        "height": 0.8,
        "width": 0.8,
        "x": 0.1,
        "y": 0.1
       },
       "content": {
        "cell": "3d410759-ccdd-49a4-a3a6-c38d6fcd2f7c",
        "part": "whole"
       },
       "id": "048df220-ee83-422c-984a-15afda396249"
      }
     }
    },
    "5ac178fb-f711-4470-9859-9eb875d54d5d": {
     "id": "5ac178fb-f711-4470-9859-9eb875d54d5d",
     "prev": "b701cfc7-fde8-46f9-a0ce-7f21b2ad5f79",
     "regions": {
      "b1e3690c-9c26-4f02-b328-96f9d0154fde": {
       "attrs": {
        "height": 0.8,
        "width": 0.8,
        "x": 0.1,
        "y": 0.1
       },
       "content": {
        "cell": "fa586315-8006-494e-b154-d88056d37cf2",
        "part": "whole"
       },
       "id": "b1e3690c-9c26-4f02-b328-96f9d0154fde"
      }
     }
    },
    "618e10c3-81ff-4855-b7de-b6c7abcb0cf5": {
     "id": "618e10c3-81ff-4855-b7de-b6c7abcb0cf5",
     "prev": "47fac9b3-e7dd-45bd-99ef-e876982c1748",
     "regions": {
      "5278da25-9990-4ba7-8c16-6872d3ac925f": {
       "attrs": {
        "height": 0.8,
        "width": 0.8,
        "x": 0.1,
        "y": 0.1
       },
       "content": {
        "cell": "1467c8e8-9dd2-455c-838c-921110c2f1f3",
        "part": "whole"
       },
       "id": "5278da25-9990-4ba7-8c16-6872d3ac925f"
      }
     }
    },
    "62965c04-93d9-40ab-a333-5aab5d157c6f": {
     "id": "62965c04-93d9-40ab-a333-5aab5d157c6f",
     "prev": "2cba4f92-6ece-4e53-96a5-8355e0a29cb3",
     "regions": {
      "3310c8bf-3299-41f2-99d3-02ba1c2a8840": {
       "attrs": {
        "height": 0.8,
        "width": 0.8,
        "x": 0.1,
        "y": 0.1
       },
       "content": {
        "cell": "2804689b-7dee-473c-8412-1b9e64c8ddd7",
        "part": "whole"
       },
       "id": "3310c8bf-3299-41f2-99d3-02ba1c2a8840"
      }
     }
    },
    "645700bc-fb1e-44b0-b500-75c0790eaec0": {
     "id": "645700bc-fb1e-44b0-b500-75c0790eaec0",
     "prev": "e73a3db3-a80d-4cd3-a94c-d3632a0f105c",
     "regions": {
      "6ac4ec85-7e0f-462a-a76e-b43095ab7c51": {
       "attrs": {
        "height": 0.8,
        "width": 0.8,
        "x": 0.1,
        "y": 0.1
       },
       "content": {
        "cell": "83acca27-a0b0-47aa-bf52-785f38ba1ea4",
        "part": "whole"
       },
       "id": "6ac4ec85-7e0f-462a-a76e-b43095ab7c51"
      }
     }
    },
    "66c231e7-d34f-443e-b6c7-be459ebc8da5": {
     "id": "66c231e7-d34f-443e-b6c7-be459ebc8da5",
     "prev": "8a953b80-bcf4-41d5-b95e-015fbd4ce6a4",
     "regions": {
      "d11a46ea-42cf-4419-a673-f447fc608703": {
       "attrs": {
        "height": 0.8,
        "width": 0.8,
        "x": 0.1,
        "y": 0.1
       },
       "content": {
        "cell": "a0729641-8fe7-43d7-8be3-74b4f2944013",
        "part": "whole"
       },
       "id": "d11a46ea-42cf-4419-a673-f447fc608703"
      }
     }
    },
    "67563f13-98d9-4fc8-9d97-44349526790c": {
     "id": "67563f13-98d9-4fc8-9d97-44349526790c",
     "prev": "7902c8bd-b6bb-40d8-a84d-24f54153129b",
     "regions": {
      "c233ab6f-1285-43f9-bac4-cb24d5b17aa8": {
       "attrs": {
        "height": 0.8,
        "width": 0.8,
        "x": 0.1,
        "y": 0.1
       },
       "content": {
        "cell": "0e020a12-3c51-49a5-a57a-755503d28876",
        "part": "whole"
       },
       "id": "c233ab6f-1285-43f9-bac4-cb24d5b17aa8"
      }
     }
    },
    "68ff58e9-26d9-4e7c-a7c1-3e7f79bdb2da": {
     "id": "68ff58e9-26d9-4e7c-a7c1-3e7f79bdb2da",
     "prev": "bbacf680-fd93-4230-b581-b21daa85c2e1",
     "regions": {
      "6cfea725-91bb-4631-af97-bf29229618e2": {
       "attrs": {
        "height": 0.8,
        "width": 0.8,
        "x": 0.1,
        "y": 0.1
       },
       "content": {
        "cell": "a78baed1-07e1-42ad-a606-4e6fdca64cc8",
        "part": "whole"
       },
       "id": "6cfea725-91bb-4631-af97-bf29229618e2"
      }
     }
    },
    "77f67793-f3dd-4856-8eb5-0957488e3419": {
     "id": "77f67793-f3dd-4856-8eb5-0957488e3419",
     "prev": "8a5fb1f2-f27b-47ca-b5c3-dd071ff158cc",
     "regions": {
      "5e6513f3-5f10-46d6-9bf4-ec7efba62793": {
       "attrs": {
        "height": 0.8,
        "width": 0.8,
        "x": 0.1,
        "y": 0.1
       },
       "content": {
        "cell": "629e6849-44cc-42c6-83a0-fd412bf3ab88",
        "part": "whole"
       },
       "id": "5e6513f3-5f10-46d6-9bf4-ec7efba62793"
      }
     }
    },
    "7902c8bd-b6bb-40d8-a84d-24f54153129b": {
     "id": "7902c8bd-b6bb-40d8-a84d-24f54153129b",
     "prev": "24ea3e9a-d07e-45bf-96a8-faa0ebdfa355",
     "regions": {
      "f7e63861-219a-4ac7-9455-9d89dfc328e8": {
       "attrs": {
        "height": 0.8,
        "width": 0.8,
        "x": 0.1,
        "y": 0.1
       },
       "content": {
        "cell": "a1ba64f3-dfdf-4761-a029-50fe69984a4e",
        "part": "whole"
       },
       "id": "f7e63861-219a-4ac7-9455-9d89dfc328e8"
      }
     }
    },
    "796a3e40-ec10-4ce9-bc34-8e9a09f7cf6d": {
     "id": "796a3e40-ec10-4ce9-bc34-8e9a09f7cf6d",
     "prev": "41a79ffe-afb4-4c33-a9a8-63c5674df282",
     "regions": {
      "3aa043da-9520-4288-97be-f44c506a1ae1": {
       "attrs": {
        "height": 0.8,
        "width": 0.8,
        "x": 0.1,
        "y": 0.1
       },
       "content": {
        "cell": "0d182c49-e846-4da6-b342-d16e4525ee3f",
        "part": "whole"
       },
       "id": "3aa043da-9520-4288-97be-f44c506a1ae1"
      }
     }
    },
    "7c9464d1-58de-420d-9762-007849be78cb": {
     "id": "7c9464d1-58de-420d-9762-007849be78cb",
     "prev": "3c4af886-c836-4923-9e7c-a832d7fa409e",
     "regions": {
      "398681f8-73c0-48e3-aa82-8dab73361a29": {
       "attrs": {
        "height": 0.8,
        "width": 0.8,
        "x": 0.1,
        "y": 0.1
       },
       "content": {
        "cell": "ef1f3c3b-a358-4211-b9cf-9b63316900c1",
        "part": "whole"
       },
       "id": "398681f8-73c0-48e3-aa82-8dab73361a29"
      }
     }
    },
    "80f7049a-1049-4ae3-8641-3ad57a136244": {
     "id": "80f7049a-1049-4ae3-8641-3ad57a136244",
     "prev": "9f396339-7b1c-4601-bc76-0acf7ce0f2be",
     "regions": {
      "6908c977-ec1f-403c-b398-741e00611e14": {
       "attrs": {
        "height": 0.8,
        "width": 0.8,
        "x": 0.1,
        "y": 0.1
       },
       "content": {
        "cell": "9fa6f484-9c34-4fd0-9c0e-737c37e724fa",
        "part": "whole"
       },
       "id": "6908c977-ec1f-403c-b398-741e00611e14"
      }
     }
    },
    "8189c261-1411-48f8-afd3-f05f918c5426": {
     "id": "8189c261-1411-48f8-afd3-f05f918c5426",
     "prev": "45b25e9f-bac6-4048-a15d-9461f2e6c677",
     "regions": {
      "ad27670c-f796-4a66-96e5-4d810ceb2442": {
       "attrs": {
        "height": 0.8,
        "width": 0.8,
        "x": 0.1,
        "y": 0.1
       },
       "content": {
        "cell": "6034097a-23aa-40fc-90f7-01223245096b",
        "part": "whole"
       },
       "id": "ad27670c-f796-4a66-96e5-4d810ceb2442"
      }
     }
    },
    "81da3fe0-999b-47e2-aa99-0b6fe7b152fe": {
     "id": "81da3fe0-999b-47e2-aa99-0b6fe7b152fe",
     "prev": "a2b37c16-d59f-488c-90c2-c7f3f2d68534",
     "regions": {
      "22b1bdbf-2a3b-4b43-9262-6b3350b620c4": {
       "attrs": {
        "height": 0.8,
        "width": 0.8,
        "x": 0.1,
        "y": 0.1
       },
       "content": {
        "cell": "80dc7bc4-0c75-4890-b11c-980bc547bd05",
        "part": "whole"
       },
       "id": "22b1bdbf-2a3b-4b43-9262-6b3350b620c4"
      }
     }
    },
    "83c1ebc8-0a4e-4b39-82a6-647f1086b229": {
     "id": "83c1ebc8-0a4e-4b39-82a6-647f1086b229",
     "prev": "66c231e7-d34f-443e-b6c7-be459ebc8da5",
     "regions": {
      "5d593bee-011e-46aa-836f-5158b0553834": {
       "attrs": {
        "height": 0.8,
        "width": 0.8,
        "x": 0.1,
        "y": 0.1
       },
       "content": {
        "cell": "8ef11161-4a2d-4beb-a9e6-0dff1a62b137",
        "part": "whole"
       },
       "id": "5d593bee-011e-46aa-836f-5158b0553834"
      }
     }
    },
    "8887edaa-b976-4dfa-8dc5-d23a623b05b0": {
     "id": "8887edaa-b976-4dfa-8dc5-d23a623b05b0",
     "prev": "aa050bd2-3b80-46f3-889e-0b139da62d9b",
     "regions": {
      "661728c1-7020-4c00-bbd4-9fa7dd600e48": {
       "attrs": {
        "height": 0.8,
        "width": 0.8,
        "x": 0.1,
        "y": 0.1
       },
       "content": {
        "cell": "530bfbae-e775-4d9a-a280-a05e4c52e5e9",
        "part": "whole"
       },
       "id": "661728c1-7020-4c00-bbd4-9fa7dd600e48"
      }
     }
    },
    "8a5fb1f2-f27b-47ca-b5c3-dd071ff158cc": {
     "id": "8a5fb1f2-f27b-47ca-b5c3-dd071ff158cc",
     "prev": "0db3893c-d254-4748-aa40-236e71cb31ab",
     "regions": {
      "64175259-6372-43ad-9fb8-3bb68d520587": {
       "attrs": {
        "height": 0.8,
        "width": 0.8,
        "x": 0.1,
        "y": 0.1
       },
       "content": {
        "cell": "42b9bcb2-87e6-4e47-bcac-330f6b084167",
        "part": "whole"
       },
       "id": "64175259-6372-43ad-9fb8-3bb68d520587"
      }
     }
    },
    "8a953b80-bcf4-41d5-b95e-015fbd4ce6a4": {
     "id": "8a953b80-bcf4-41d5-b95e-015fbd4ce6a4",
     "prev": "183e7824-87e0-4f62-8ed3-7ab3fe4e97e9",
     "regions": {
      "6118cea5-4dde-403f-9adf-f44b1e5822e5": {
       "attrs": {
        "height": 0.8,
        "width": 0.8,
        "x": 0.1,
        "y": 0.1
       },
       "content": {
        "cell": "278ee6f9-3fb8-4c24-b7fc-88ccb2bd23e0",
        "part": "whole"
       },
       "id": "6118cea5-4dde-403f-9adf-f44b1e5822e5"
      }
     }
    },
    "8af02457-8b3a-401f-b522-9e9073aecc0b": {
     "id": "8af02457-8b3a-401f-b522-9e9073aecc0b",
     "prev": "3ed5c508-a005-469a-bf67-d15022dde256",
     "regions": {
      "f9a993e5-df84-4b91-835a-8b0c2fee9220": {
       "attrs": {
        "height": 0.8,
        "width": 0.8,
        "x": 0.1,
        "y": 0.1
       },
       "content": {
        "cell": "6c2cb206-d3e2-421a-8d91-c47fbca4b8d2",
        "part": "whole"
       },
       "id": "f9a993e5-df84-4b91-835a-8b0c2fee9220"
      }
     }
    },
    "92cca49c-50de-4f6f-a9a0-93c80576425f": {
     "id": "92cca49c-50de-4f6f-a9a0-93c80576425f",
     "prev": "4d78eb3e-a6d4-4634-8518-26f4a288dfc6",
     "regions": {
      "6fccdd75-38bd-4680-9743-b58087d596c1": {
       "attrs": {
        "height": 0.8,
        "width": 0.8,
        "x": 0.1,
        "y": 0.1
       },
       "content": {
        "cell": "9fa14d37-bd6b-4ae2-b416-f9ca37a87ace",
        "part": "whole"
       },
       "id": "6fccdd75-38bd-4680-9743-b58087d596c1"
      }
     }
    },
    "96a3aa05-53c2-4aa6-96b2-7156725f0c73": {
     "id": "96a3aa05-53c2-4aa6-96b2-7156725f0c73",
     "prev": "f0009615-b1d6-4776-b73b-ffa52db81fd4",
     "regions": {
      "ae1241fd-bf9c-465c-a2bd-b2faa8500ee3": {
       "attrs": {
        "height": 0.8,
        "width": 0.8,
        "x": 0.1,
        "y": 0.1
       },
       "content": {
        "cell": "7b980832-e84c-4bbf-b624-3ce5813909e9",
        "part": "whole"
       },
       "id": "ae1241fd-bf9c-465c-a2bd-b2faa8500ee3"
      }
     }
    },
    "96d5f38d-2ef4-4ee9-b87b-c3bdefec2c23": {
     "id": "96d5f38d-2ef4-4ee9-b87b-c3bdefec2c23",
     "prev": "8887edaa-b976-4dfa-8dc5-d23a623b05b0",
     "regions": {
      "0752cad6-a62f-480d-b549-fd90916cd016": {
       "attrs": {
        "height": 0.8,
        "width": 0.8,
        "x": 0.1,
        "y": 0.1
       },
       "content": {
        "cell": "a27c0d29-4bde-401b-a4b1-82f153a42dd2",
        "part": "whole"
       },
       "id": "0752cad6-a62f-480d-b549-fd90916cd016"
      }
     }
    },
    "970c26d5-52ee-4dd5-882b-a7e6a265fd0d": {
     "id": "970c26d5-52ee-4dd5-882b-a7e6a265fd0d",
     "prev": "300a8f01-b878-4162-a389-abe9dc66b7dd",
     "regions": {
      "b002a8e3-c552-4487-85b9-64d5a0cc1883": {
       "attrs": {
        "height": 0.8,
        "width": 0.8,
        "x": 0.1,
        "y": 0.1
       },
       "content": {
        "cell": "e22b26da-456a-48bb-8d9c-acaafbee1205",
        "part": "whole"
       },
       "id": "b002a8e3-c552-4487-85b9-64d5a0cc1883"
      }
     }
    },
    "9843254b-7703-438b-ad6a-53abee5a67b0": {
     "id": "9843254b-7703-438b-ad6a-53abee5a67b0",
     "prev": "9f760aff-3763-4e2a-a75b-dbc669b3c44d",
     "regions": {
      "a91cf7da-50d9-45d9-bfb5-2bc0027b4c69": {
       "attrs": {
        "height": 0.8,
        "width": 0.8,
        "x": 0.1,
        "y": 0.1
       },
       "content": {
        "cell": "79fba193-57ac-4e5e-840e-9110de6388b2",
        "part": "whole"
       },
       "id": "a91cf7da-50d9-45d9-bfb5-2bc0027b4c69"
      }
     }
    },
    "9aad6ac4-696d-4480-be31-2edad1c450c8": {
     "id": "9aad6ac4-696d-4480-be31-2edad1c450c8",
     "prev": "0af1018f-964b-4fcf-8cf9-fc4775dc4de1",
     "regions": {
      "3747af3d-8f66-4e29-a8e3-b21be1dc6073": {
       "attrs": {
        "height": 0.8,
        "width": 0.8,
        "x": 0.1,
        "y": 0.1
       },
       "content": {
        "cell": "dcfac713-536d-4175-a366-7a08598d5701",
        "part": "whole"
       },
       "id": "3747af3d-8f66-4e29-a8e3-b21be1dc6073"
      }
     }
    },
    "9f396339-7b1c-4601-bc76-0acf7ce0f2be": {
     "id": "9f396339-7b1c-4601-bc76-0acf7ce0f2be",
     "prev": "ed4fccf8-a506-485e-9298-ba7027b23fb0",
     "regions": {
      "3733e9ba-4df6-48bf-abed-c773d2181ddf": {
       "attrs": {
        "height": 0.8,
        "width": 0.8,
        "x": 0.1,
        "y": 0.1
       },
       "content": {
        "cell": "c5b1fb13-ab6a-4f12-9fa5-ecf7d981ec81",
        "part": "whole"
       },
       "id": "3733e9ba-4df6-48bf-abed-c773d2181ddf"
      }
     }
    },
    "9f760aff-3763-4e2a-a75b-dbc669b3c44d": {
     "id": "9f760aff-3763-4e2a-a75b-dbc669b3c44d",
     "prev": "475d69c2-0414-4c4b-b087-8c19b03d78f0",
     "regions": {
      "1f7873d8-376f-4fe8-a93b-387fdd128ed7": {
       "attrs": {
        "height": 0.8,
        "width": 0.8,
        "x": 0.1,
        "y": 0.1
       },
       "content": {
        "cell": "4b70631e-6f5a-4c34-8b63-9fb8bbbfb827",
        "part": "whole"
       },
       "id": "1f7873d8-376f-4fe8-a93b-387fdd128ed7"
      }
     }
    },
    "a2b37c16-d59f-488c-90c2-c7f3f2d68534": {
     "id": "a2b37c16-d59f-488c-90c2-c7f3f2d68534",
     "prev": "80f7049a-1049-4ae3-8641-3ad57a136244",
     "regions": {
      "fc386dd0-29e5-4f3a-af2c-3fb196f47a23": {
       "attrs": {
        "height": 0.8,
        "width": 0.8,
        "x": 0.1,
        "y": 0.1
       },
       "content": {
        "cell": "f1cbee18-1926-4b52-bdd0-c9b9d4a8d13a",
        "part": "whole"
       },
       "id": "fc386dd0-29e5-4f3a-af2c-3fb196f47a23"
      }
     }
    },
    "a48d5492-b585-4081-ba87-3c4b7794ff55": {
     "id": "a48d5492-b585-4081-ba87-3c4b7794ff55",
     "prev": "b6f69c6a-de59-4e9c-a92c-c96aec5c6f12",
     "regions": {
      "16ceb1bf-1640-47b2-ae64-314b966cb998": {
       "attrs": {
        "height": 0.8,
        "width": 0.8,
        "x": 0.1,
        "y": 0.1
       },
       "content": {
        "cell": "7dbf8d66-b90e-46ce-8754-02cb0fbf7a12",
        "part": "whole"
       },
       "id": "16ceb1bf-1640-47b2-ae64-314b966cb998"
      }
     }
    },
    "aa050bd2-3b80-46f3-889e-0b139da62d9b": {
     "id": "aa050bd2-3b80-46f3-889e-0b139da62d9b",
     "prev": "e42a6b22-cb98-49b5-a8fa-7078874e18c5",
     "regions": {
      "63603076-86c5-4d4b-b309-b1530768df90": {
       "attrs": {
        "height": 0.8,
        "width": 0.8,
        "x": 0.1,
        "y": 0.1
       },
       "content": {
        "cell": "13483b70-1076-474e-91ed-76769541dd58",
        "part": "whole"
       },
       "id": "63603076-86c5-4d4b-b309-b1530768df90"
      }
     }
    },
    "aa221a3a-fc15-498d-864a-5db4241b0087": {
     "id": "aa221a3a-fc15-498d-864a-5db4241b0087",
     "prev": "4ccedeb0-e51f-4851-ba72-d1b203c53131",
     "regions": {
      "5a6f2261-ce6c-404e-9684-ea29a3098055": {
       "attrs": {
        "height": 0.8,
        "width": 0.8,
        "x": 0.1,
        "y": 0.1
       },
       "content": {
        "cell": "36689154-3f05-4cac-bc15-c93da7a7b3cc",
        "part": "whole"
       },
       "id": "5a6f2261-ce6c-404e-9684-ea29a3098055"
      }
     }
    },
    "aee7c3e1-3dd1-4487-874c-9255dcfa4241": {
     "id": "aee7c3e1-3dd1-4487-874c-9255dcfa4241",
     "prev": "7c9464d1-58de-420d-9762-007849be78cb",
     "regions": {
      "be7ac118-6e2d-4193-a157-ef1a21d12b52": {
       "attrs": {
        "height": 0.8,
        "width": 0.8,
        "x": 0.1,
        "y": 0.1
       },
       "content": {
        "cell": "cc2084e7-30a4-4abd-b7b0-6662e53c2666",
        "part": "whole"
       },
       "id": "be7ac118-6e2d-4193-a157-ef1a21d12b52"
      }
     }
    },
    "aef80f8a-7df8-478f-9b8c-e21575f2c80e": {
     "id": "aef80f8a-7df8-478f-9b8c-e21575f2c80e",
     "prev": "f329cc37-3b95-4102-9f5b-375b33bf7d33",
     "regions": {
      "7ccc00d5-7a91-40ed-8adf-4410061f9dd3": {
       "attrs": {
        "height": 0.8,
        "width": 0.8,
        "x": 0.1,
        "y": 0.1
       },
       "content": {
        "cell": "f8f6aa73-d0af-4f96-8df6-b1c1f81a8351",
        "part": "whole"
       },
       "id": "7ccc00d5-7a91-40ed-8adf-4410061f9dd3"
      }
     }
    },
    "b1d69fb7-dae8-4a7a-86f9-45b2f629de54": {
     "id": "b1d69fb7-dae8-4a7a-86f9-45b2f629de54",
     "prev": "e9348225-e51d-441f-a75f-abbf95a80e59",
     "regions": {
      "dceb4e7d-7a8f-4279-8c8b-f07ce9d5c8c0": {
       "attrs": {
        "height": 0.8,
        "width": 0.8,
        "x": 0.1,
        "y": 0.1
       },
       "content": {
        "cell": "7fb09673-8b62-45b1-b353-6ab2ded84fe6",
        "part": "whole"
       },
       "id": "dceb4e7d-7a8f-4279-8c8b-f07ce9d5c8c0"
      }
     }
    },
    "b2e859fc-424b-4dd2-94f7-f80d2eafd174": {
     "id": "b2e859fc-424b-4dd2-94f7-f80d2eafd174",
     "prev": "8189c261-1411-48f8-afd3-f05f918c5426",
     "regions": {
      "77218bbd-cf85-4da0-9621-e113da28967f": {
       "attrs": {
        "height": 0.8,
        "width": 0.8,
        "x": 0.1,
        "y": 0.1
       },
       "content": {
        "cell": "aaee5d2c-7aa0-4dbd-aa7c-b6c6c6ef0e53",
        "part": "whole"
       },
       "id": "77218bbd-cf85-4da0-9621-e113da28967f"
      }
     }
    },
    "b6f69c6a-de59-4e9c-a92c-c96aec5c6f12": {
     "id": "b6f69c6a-de59-4e9c-a92c-c96aec5c6f12",
     "prev": "db3e2893-68f8-42b8-84aa-845ea941ca27",
     "regions": {
      "18df75d9-cff4-4b7b-8ad9-b679d44099a8": {
       "attrs": {
        "height": 0.8,
        "width": 0.8,
        "x": 0.1,
        "y": 0.1
       },
       "content": {
        "cell": "273b0a14-428a-4530-9675-3a082bd8e025",
        "part": "whole"
       },
       "id": "18df75d9-cff4-4b7b-8ad9-b679d44099a8"
      }
     }
    },
    "b701cfc7-fde8-46f9-a0ce-7f21b2ad5f79": {
     "id": "b701cfc7-fde8-46f9-a0ce-7f21b2ad5f79",
     "prev": null,
     "regions": {
      "644d2636-9dcd-4af5-b952-50e4fd9c1947": {
       "attrs": {
        "height": 0.8,
        "width": 0.8,
        "x": 0.1,
        "y": 0.1
       },
       "content": {
        "cell": "9bf7b65a-f9ba-4866-a163-c12882bc840d",
        "part": "whole"
       },
       "id": "644d2636-9dcd-4af5-b952-50e4fd9c1947"
      }
     }
    },
    "bad9fd35-1af6-4d91-a2da-5cdcbed865df": {
     "id": "bad9fd35-1af6-4d91-a2da-5cdcbed865df",
     "prev": "f568e60a-4363-4b0f-974e-5434e23949a5",
     "regions": {
      "9100de7c-366e-4805-b423-e99cc5bc475b": {
       "attrs": {
        "height": 0.8,
        "width": 0.8,
        "x": 0.1,
        "y": 0.1
       },
       "content": {
        "cell": "3e2339c0-2e61-44f4-a317-5bcf1db4858b",
        "part": "whole"
       },
       "id": "9100de7c-366e-4805-b423-e99cc5bc475b"
      }
     }
    },
    "bbacf680-fd93-4230-b581-b21daa85c2e1": {
     "id": "bbacf680-fd93-4230-b581-b21daa85c2e1",
     "prev": "bad9fd35-1af6-4d91-a2da-5cdcbed865df",
     "regions": {
      "a9a39a27-afaa-432c-b20a-af517455340d": {
       "attrs": {
        "height": 0.8,
        "width": 0.8,
        "x": 0.1,
        "y": 0.1
       },
       "content": {
        "cell": "31ad093e-3d36-4384-88fa-aa50bd42fd51",
        "part": "whole"
       },
       "id": "a9a39a27-afaa-432c-b20a-af517455340d"
      }
     }
    },
    "bcf80434-1b80-4052-91a7-a381fa5d6af4": {
     "id": "bcf80434-1b80-4052-91a7-a381fa5d6af4",
     "prev": "1bd0ed97-59ea-4efc-849d-27e9bd5e8210",
     "regions": {
      "a9e983e2-81fc-45a8-b9d3-d83857c8f33b": {
       "attrs": {
        "height": 0.8,
        "width": 0.8,
        "x": 0.1,
        "y": 0.1
       },
       "content": {
        "cell": "c3b5b510-e04b-4207-9cd6-706c4bf4d480",
        "part": "whole"
       },
       "id": "a9e983e2-81fc-45a8-b9d3-d83857c8f33b"
      }
     }
    },
    "bd7d435e-8fb6-4176-97a1-c38032fcd0ea": {
     "id": "bd7d435e-8fb6-4176-97a1-c38032fcd0ea",
     "prev": "4a530cff-88a2-48d9-9470-f4585120c911",
     "regions": {
      "2c8578bc-5358-46a3-8529-37eb92652392": {
       "attrs": {
        "height": 0.8,
        "width": 0.8,
        "x": 0.1,
        "y": 0.1
       },
       "content": {
        "cell": "58c3af82-ad7a-43b7-a2a9-4d30188852a2",
        "part": "whole"
       },
       "id": "2c8578bc-5358-46a3-8529-37eb92652392"
      }
     }
    },
    "c0436ce3-b179-4a66-8b6b-0d9c14b512b5": {
     "id": "c0436ce3-b179-4a66-8b6b-0d9c14b512b5",
     "prev": "68ff58e9-26d9-4e7c-a7c1-3e7f79bdb2da",
     "regions": {
      "0d58f57c-d7da-45db-bcff-d871aaaba13f": {
       "attrs": {
        "height": 0.8,
        "width": 0.8,
        "x": 0.1,
        "y": 0.1
       },
       "content": {
        "cell": "699beecf-0d45-4fcb-b33c-25ea801c3c64",
        "part": "whole"
       },
       "id": "0d58f57c-d7da-45db-bcff-d871aaaba13f"
      }
     }
    },
    "c37c7505-6b14-4e40-a83b-7ddc40cddc50": {
     "id": "c37c7505-6b14-4e40-a83b-7ddc40cddc50",
     "prev": "35266990-e24b-48d7-a6df-c4f41d2afeee",
     "regions": {
      "3c048c71-55b6-452a-93c4-996b268df76a": {
       "attrs": {
        "height": 0.8,
        "width": 0.8,
        "x": 0.1,
        "y": 0.1
       },
       "content": {
        "cell": "b0b301ce-962a-4b2c-a275-92103f8b7449",
        "part": "whole"
       },
       "id": "3c048c71-55b6-452a-93c4-996b268df76a"
      }
     }
    },
    "c90e6c08-86bd-45a3-98ce-116045015964": {
     "id": "c90e6c08-86bd-45a3-98ce-116045015964",
     "prev": "e8d0c842-4576-4209-b343-372978888dfa",
     "regions": {
      "a719bf2f-574c-4355-964f-bf7643f98020": {
       "attrs": {
        "height": 0.8,
        "width": 0.8,
        "x": 0.1,
        "y": 0.1
       },
       "content": {
        "cell": "bdcd7335-56de-4ca3-a9d6-c3f1db676ea2",
        "part": "whole"
       },
       "id": "a719bf2f-574c-4355-964f-bf7643f98020"
      }
     }
    },
    "cd3f3a7e-b5fc-4c69-9860-b4d250b76b94": {
     "id": "cd3f3a7e-b5fc-4c69-9860-b4d250b76b94",
     "prev": "77f67793-f3dd-4856-8eb5-0957488e3419",
     "regions": {
      "895fa600-a8b2-4fc6-9b30-fe7f0b304bf7": {
       "attrs": {
        "height": 0.8,
        "width": 0.8,
        "x": 0.1,
        "y": 0.1
       },
       "content": {
        "cell": "c8c8f2d3-046b-44e6-a165-58b69cb517cb",
        "part": "whole"
       },
       "id": "895fa600-a8b2-4fc6-9b30-fe7f0b304bf7"
      }
     }
    },
    "cdee5d41-03c7-4b3d-beaf-9ab482982654": {
     "id": "cdee5d41-03c7-4b3d-beaf-9ab482982654",
     "prev": "327eb353-4080-43e8-8623-ed9d851079d8",
     "regions": {
      "77bd5524-2b61-4ac6-81e5-d8bfefd659e9": {
       "attrs": {
        "height": 0.8,
        "width": 0.8,
        "x": 0.1,
        "y": 0.1
       },
       "content": {
        "cell": "2fc71a83-a0ee-41fb-88ab-d828c4bc325e",
        "part": "whole"
       },
       "id": "77bd5524-2b61-4ac6-81e5-d8bfefd659e9"
      }
     }
    },
    "ce064ebf-0d62-4669-af19-dfdce011448c": {
     "id": "ce064ebf-0d62-4669-af19-dfdce011448c",
     "prev": "d8b887e4-775f-4034-a063-679ea23a0e83",
     "regions": {
      "f4cc645c-f845-47cc-ae1c-f4c61ce4b6db": {
       "attrs": {
        "height": 0.8,
        "width": 0.8,
        "x": 0.1,
        "y": 0.1
       },
       "content": {
        "cell": "f7953e64-2bb6-4cdb-a099-01502928af31",
        "part": "whole"
       },
       "id": "f4cc645c-f845-47cc-ae1c-f4c61ce4b6db"
      }
     }
    },
    "d0a1d31a-8984-4deb-ba6d-e686c370f6ba": {
     "id": "d0a1d31a-8984-4deb-ba6d-e686c370f6ba",
     "prev": "25b90e26-089d-4154-a61d-99e04c7a750c",
     "regions": {
      "d703571b-c415-423f-a483-5bb91f5816f8": {
       "attrs": {
        "height": 0.8,
        "width": 0.8,
        "x": 0.1,
        "y": 0.1
       },
       "content": {
        "cell": "f5117747-3ffa-4ee4-89fd-e84108f8048c",
        "part": "whole"
       },
       "id": "d703571b-c415-423f-a483-5bb91f5816f8"
      }
     }
    },
    "d336fae5-24b5-47a2-989c-1838cb72599e": {
     "id": "d336fae5-24b5-47a2-989c-1838cb72599e",
     "prev": "bcf80434-1b80-4052-91a7-a381fa5d6af4",
     "regions": {
      "09487637-4a28-46de-a0e8-dbc6d72749b3": {
       "attrs": {
        "height": 0.8,
        "width": 0.8,
        "x": 0.1,
        "y": 0.1
       },
       "content": {
        "cell": "8d9459a3-99cd-4651-9831-b60ee405eb6c",
        "part": "whole"
       },
       "id": "09487637-4a28-46de-a0e8-dbc6d72749b3"
      }
     }
    },
    "d3d69f5f-0bf8-4529-af3a-2e9b3a936297": {
     "id": "d3d69f5f-0bf8-4529-af3a-2e9b3a936297",
     "prev": "34512fc6-8f69-4168-a833-b730f8ff1244",
     "regions": {
      "258f3275-7f3b-47e7-a23c-80fa1e348be1": {
       "attrs": {
        "height": 0.8,
        "width": 0.8,
        "x": 0.1,
        "y": 0.1
       },
       "content": {
        "cell": "8ad50e0b-14c0-4f4b-8f72-7f34cc198234",
        "part": "whole"
       },
       "id": "258f3275-7f3b-47e7-a23c-80fa1e348be1"
      }
     }
    },
    "d8b887e4-775f-4034-a063-679ea23a0e83": {
     "id": "d8b887e4-775f-4034-a063-679ea23a0e83",
     "prev": "50f393ec-41ed-43b2-8265-0dad5c8834cf",
     "regions": {
      "bf63eb62-9b1e-4f7b-af5a-0e56e2f5eea5": {
       "attrs": {
        "height": 0.8,
        "width": 0.8,
        "x": 0.1,
        "y": 0.1
       },
       "content": {
        "cell": "9e03b659-ced1-48c2-a44e-69389f7a4a19",
        "part": "whole"
       },
       "id": "bf63eb62-9b1e-4f7b-af5a-0e56e2f5eea5"
      }
     }
    },
    "d9021ead-62aa-42a1-bb9b-4660397eac2b": {
     "id": "d9021ead-62aa-42a1-bb9b-4660397eac2b",
     "prev": "030015f3-c5da-458f-97f7-c9681df0f311",
     "regions": {
      "da899c51-8c41-4bb4-8545-76a05def61fa": {
       "attrs": {
        "height": 0.8,
        "width": 0.8,
        "x": 0.1,
        "y": 0.1
       },
       "content": {
        "cell": "96caa273-d4a4-4f9a-8d3f-6d0ea0a3f779",
        "part": "whole"
       },
       "id": "da899c51-8c41-4bb4-8545-76a05def61fa"
      }
     }
    },
    "db3e2893-68f8-42b8-84aa-845ea941ca27": {
     "id": "db3e2893-68f8-42b8-84aa-845ea941ca27",
     "prev": "1d5f61d0-d169-4f3f-ab1d-0b0e961f4a59",
     "regions": {
      "db214562-272f-4998-b5db-1ecc3d316fd3": {
       "attrs": {
        "height": 0.8,
        "width": 0.8,
        "x": 0.1,
        "y": 0.1
       },
       "content": {
        "cell": "1204f1a4-1237-4b2f-8431-4af1c5557321",
        "part": "whole"
       },
       "id": "db214562-272f-4998-b5db-1ecc3d316fd3"
      }
     }
    },
    "db42f845-bf93-4181-b668-a94e4f62a3b2": {
     "id": "db42f845-bf93-4181-b668-a94e4f62a3b2",
     "prev": "cdee5d41-03c7-4b3d-beaf-9ab482982654",
     "regions": {
      "79ae39c2-cf1a-4633-9f36-c568ed8065a8": {
       "attrs": {
        "height": 0.8,
        "width": 0.8,
        "x": 0.1,
        "y": 0.1
       },
       "content": {
        "cell": "eb261165-5ff4-4e9f-b36d-4ffa264e26a4",
        "part": "whole"
       },
       "id": "79ae39c2-cf1a-4633-9f36-c568ed8065a8"
      }
     }
    },
    "dbc2f644-31b2-4eb8-afb7-abef716f173f": {
     "id": "dbc2f644-31b2-4eb8-afb7-abef716f173f",
     "prev": "aee7c3e1-3dd1-4487-874c-9255dcfa4241",
     "regions": {
      "0078ecc9-0354-418b-a89e-18d10c540bc8": {
       "attrs": {
        "height": 0.8,
        "width": 0.8,
        "x": 0.1,
        "y": 0.1
       },
       "content": {
        "cell": "fd9c260f-1480-4cdf-9fbc-bb8aa8e84d6b",
        "part": "whole"
       },
       "id": "0078ecc9-0354-418b-a89e-18d10c540bc8"
      }
     }
    },
    "ded91dfc-448d-4214-a124-96e46964c6c8": {
     "id": "ded91dfc-448d-4214-a124-96e46964c6c8",
     "prev": "83c1ebc8-0a4e-4b39-82a6-647f1086b229",
     "regions": {
      "ebb9a9b4-b910-4527-bbdb-5363f864c6bd": {
       "attrs": {
        "height": 0.8,
        "width": 0.8,
        "x": 0.1,
        "y": 0.1
       },
       "content": {
        "cell": "1133add3-3080-4262-8e55-85aa1791e4d8",
        "part": "whole"
       },
       "id": "ebb9a9b4-b910-4527-bbdb-5363f864c6bd"
      }
     }
    },
    "e42a6b22-cb98-49b5-a8fa-7078874e18c5": {
     "id": "e42a6b22-cb98-49b5-a8fa-7078874e18c5",
     "prev": "1c7c9229-6fa6-43bb-a0ee-2bca27a38046",
     "regions": {
      "6d14325d-9520-4e49-a9d0-085caaa0f4d5": {
       "attrs": {
        "height": 0.8,
        "width": 0.8,
        "x": 0.1,
        "y": 0.1
       },
       "content": {
        "cell": "552ac236-9c4e-4da9-9bd4-51c7288c0b63",
        "part": "whole"
       },
       "id": "6d14325d-9520-4e49-a9d0-085caaa0f4d5"
      }
     }
    },
    "e5c70fb3-e2b2-4595-b7ea-25f9a83ac388": {
     "id": "e5c70fb3-e2b2-4595-b7ea-25f9a83ac388",
     "prev": "67563f13-98d9-4fc8-9d97-44349526790c",
     "regions": {
      "25f2b6c9-16b9-4cf0-ba1b-703a279f41c6": {
       "attrs": {
        "height": 0.8,
        "width": 0.8,
        "x": 0.1,
        "y": 0.1
       },
       "content": {
        "cell": "fdc451e1-a795-42c4-b64c-799249a3db1f",
        "part": "whole"
       },
       "id": "25f2b6c9-16b9-4cf0-ba1b-703a279f41c6"
      }
     }
    },
    "e73a3db3-a80d-4cd3-a94c-d3632a0f105c": {
     "id": "e73a3db3-a80d-4cd3-a94c-d3632a0f105c",
     "prev": "e83e265f-d569-4b2b-80ac-933571430a75",
     "regions": {
      "1afd1fef-cbf5-4656-90a1-3344e3eff374": {
       "attrs": {
        "height": 0.8,
        "width": 0.8,
        "x": 0.1,
        "y": 0.1
       },
       "content": {
        "cell": "85d2e054-1442-40a5-88ba-a9ffc2804b3d",
        "part": "whole"
       },
       "id": "1afd1fef-cbf5-4656-90a1-3344e3eff374"
      }
     }
    },
    "e83e265f-d569-4b2b-80ac-933571430a75": {
     "id": "e83e265f-d569-4b2b-80ac-933571430a75",
     "prev": "c90e6c08-86bd-45a3-98ce-116045015964",
     "regions": {
      "563bc594-d115-4e90-a29d-e16a3012cf7c": {
       "attrs": {
        "height": 0.8,
        "width": 0.8,
        "x": 0.1,
        "y": 0.1
       },
       "content": {
        "cell": "d8767afe-8c0d-4030-9ff2-550e3d0c2e64",
        "part": "whole"
       },
       "id": "563bc594-d115-4e90-a29d-e16a3012cf7c"
      }
     }
    },
    "e8d0c842-4576-4209-b343-372978888dfa": {
     "id": "e8d0c842-4576-4209-b343-372978888dfa",
     "prev": "210b0fc5-618a-4ed8-87ab-54d671f0e993",
     "regions": {
      "06a7b2d3-63fb-4263-8a32-28295ef2a455": {
       "attrs": {
        "height": 0.8,
        "width": 0.8,
        "x": 0.1,
        "y": 0.1
       },
       "content": {
        "cell": "a4bec371-29f4-4793-8541-30e3da2b30e4",
        "part": "whole"
       },
       "id": "06a7b2d3-63fb-4263-8a32-28295ef2a455"
      }
     }
    },
    "e9348225-e51d-441f-a75f-abbf95a80e59": {
     "id": "e9348225-e51d-441f-a75f-abbf95a80e59",
     "prev": "d9021ead-62aa-42a1-bb9b-4660397eac2b",
     "regions": {
      "dc569d69-dad0-4e71-821b-c89c33821d24": {
       "attrs": {
        "height": 0.8,
        "width": 0.8,
        "x": 0.1,
        "y": 0.1
       },
       "content": {
        "cell": "f7516491-d806-4594-ad97-440c1ffc1118",
        "part": "whole"
       },
       "id": "dc569d69-dad0-4e71-821b-c89c33821d24"
      }
     }
    },
    "ed4fccf8-a506-485e-9298-ba7027b23fb0": {
     "id": "ed4fccf8-a506-485e-9298-ba7027b23fb0",
     "prev": "c0436ce3-b179-4a66-8b6b-0d9c14b512b5",
     "regions": {
      "57b22498-5379-4975-8071-62c55a7fec6f": {
       "attrs": {
        "height": 0.8,
        "width": 0.8,
        "x": 0.1,
        "y": 0.1
       },
       "content": {
        "cell": "b34c2698-2361-4dde-8943-8ad085d37cd6",
        "part": "whole"
       },
       "id": "57b22498-5379-4975-8071-62c55a7fec6f"
      }
     }
    },
    "f0009615-b1d6-4776-b73b-ffa52db81fd4": {
     "id": "f0009615-b1d6-4776-b73b-ffa52db81fd4",
     "prev": "aa221a3a-fc15-498d-864a-5db4241b0087",
     "regions": {
      "11d4f745-d871-4d7c-8f92-7c675eecabd1": {
       "attrs": {
        "height": 0.8,
        "width": 0.8,
        "x": 0.1,
        "y": 0.1
       },
       "content": {
        "cell": "64698b6c-d7a0-4eb8-9667-b0151b318068",
        "part": "whole"
       },
       "id": "11d4f745-d871-4d7c-8f92-7c675eecabd1"
      }
     }
    },
    "f329cc37-3b95-4102-9f5b-375b33bf7d33": {
     "id": "f329cc37-3b95-4102-9f5b-375b33bf7d33",
     "prev": "c37c7505-6b14-4e40-a83b-7ddc40cddc50",
     "regions": {
      "a2910228-5345-4a34-a0b9-3a34a412c498": {
       "attrs": {
        "height": 0.8,
        "width": 0.8,
        "x": 0.1,
        "y": 0.1
       },
       "content": {
        "cell": "a7d21c04-6340-436f-966c-d05dfa460263",
        "part": "whole"
       },
       "id": "a2910228-5345-4a34-a0b9-3a34a412c498"
      }
     }
    },
    "f454f9f1-eba3-48bf-b5e9-6d6f8811566f": {
     "id": "f454f9f1-eba3-48bf-b5e9-6d6f8811566f",
     "prev": "aef80f8a-7df8-478f-9b8c-e21575f2c80e",
     "regions": {
      "bb098463-4aef-4efa-bbd5-2eb4f907fe01": {
       "attrs": {
        "height": 0.8,
        "width": 0.8,
        "x": 0.1,
        "y": 0.1
       },
       "content": {
        "cell": "0789d0f2-648d-402c-8d2a-96cf4a876400",
        "part": "whole"
       },
       "id": "bb098463-4aef-4efa-bbd5-2eb4f907fe01"
      }
     }
    },
    "f568e60a-4363-4b0f-974e-5434e23949a5": {
     "id": "f568e60a-4363-4b0f-974e-5434e23949a5",
     "prev": "b1d69fb7-dae8-4a7a-86f9-45b2f629de54",
     "regions": {
      "94220eed-fdaf-43db-ae5d-e6596c2c8e96": {
       "attrs": {
        "height": 0.8,
        "width": 0.8,
        "x": 0.1,
        "y": 0.1
       },
       "content": {
        "cell": "bbd173f3-2f71-4c76-99af-75b17ee42d19",
        "part": "whole"
       },
       "id": "94220eed-fdaf-43db-ae5d-e6596c2c8e96"
      }
     }
    },
    "f9e03a29-ac01-4a9e-9d13-0e0b23e65f58": {
     "id": "f9e03a29-ac01-4a9e-9d13-0e0b23e65f58",
     "prev": "d336fae5-24b5-47a2-989c-1838cb72599e",
     "regions": {
      "bf60c17a-4f25-4adb-ab7c-ad7b2e5b9136": {
       "attrs": {
        "height": 0.8,
        "width": 0.8,
        "x": 0.1,
        "y": 0.1
       },
       "content": {
        "cell": "98a0ad51-eca8-4515-af10-061c0f971032",
        "part": "whole"
       },
       "id": "bf60c17a-4f25-4adb-ab7c-ad7b2e5b9136"
      }
     }
    },
    "ff94c8f6-e092-4783-9739-1a038de10908": {
     "id": "ff94c8f6-e092-4783-9739-1a038de10908",
     "prev": "a48d5492-b585-4081-ba87-3c4b7794ff55",
     "regions": {
      "08a93527-1655-4a7e-bc65-295c2cb9d1aa": {
       "attrs": {
        "height": 0.8,
        "width": 0.8,
        "x": 0.1,
        "y": 0.1
       },
       "content": {
        "cell": "3ce6f257-d799-4d8f-b0ff-0576288d31e4",
        "part": "whole"
       },
       "id": "08a93527-1655-4a7e-bc65-295c2cb9d1aa"
      }
     }
    }
   },
   "themes": {
    "default": "53cd3be0-d134-40af-a013-d15ee7e8f001",
    "theme": {
     "53cd3be0-d134-40af-a013-d15ee7e8f001": {
      "id": "53cd3be0-d134-40af-a013-d15ee7e8f001",
      "palette": {
       "19cc588f-0593-49c9-9f4b-e4d7cc113b1c": {
        "id": "19cc588f-0593-49c9-9f4b-e4d7cc113b1c",
        "rgb": [
         252,
         252,
         252
        ]
       },
       "31af15d2-7e15-44c5-ab5e-e04b16a89eff": {
        "id": "31af15d2-7e15-44c5-ab5e-e04b16a89eff",
        "rgb": [
         68,
         68,
         68
        ]
       },
       "50f92c45-a630-455b-aec3-788680ec7410": {
        "id": "50f92c45-a630-455b-aec3-788680ec7410",
        "rgb": [
         155,
         177,
         192
        ]
       },
       "c5cc3653-2ee1-402a-aba2-7caae1da4f6c": {
        "id": "c5cc3653-2ee1-402a-aba2-7caae1da4f6c",
        "rgb": [
         43,
         126,
         184
        ]
       },
       "efa7f048-9acb-414c-8b04-a26811511a21": {
        "id": "efa7f048-9acb-414c-8b04-a26811511a21",
        "rgb": [
         25.118061674008803,
         73.60176211453744,
         107.4819383259912
        ]
       }
      },
      "rules": {
       "blockquote": {
        "color": "50f92c45-a630-455b-aec3-788680ec7410"
       },
       "code": {
        "font-family": "Anonymous Pro"
       },
       "h1": {
        "color": "c5cc3653-2ee1-402a-aba2-7caae1da4f6c",
        "font-family": "Lato",
        "font-size": 8
       },
       "h2": {
        "color": "c5cc3653-2ee1-402a-aba2-7caae1da4f6c",
        "font-family": "Lato",
        "font-size": 6
       },
       "h3": {
        "color": "50f92c45-a630-455b-aec3-788680ec7410",
        "font-family": "Lato",
        "font-size": 5.5
       },
       "h4": {
        "color": "c5cc3653-2ee1-402a-aba2-7caae1da4f6c",
        "font-family": "Lato",
        "font-size": 5
       },
       "h5": {
        "font-family": "Lato"
       },
       "h6": {
        "font-family": "Lato"
       },
       "h7": {
        "font-family": "Lato"
       },
       "pre": {
        "font-family": "Anonymous Pro",
        "font-size": 4
       }
      },
      "text-base": {
       "font-family": "Merriweather",
       "font-size": 4
      }
     }
    }
   }
  },
  "toc": {
   "base_numbering": 1,
   "nav_menu": {},
   "number_sections": false,
   "sideBar": true,
   "skip_h1_title": false,
   "title_cell": "Table of Contents",
   "title_sidebar": "Contents",
   "toc_cell": false,
   "toc_position": {},
   "toc_section_display": true,
   "toc_window_display": false
  },
  "varInspector": {
   "cols": {
    "lenName": 16,
    "lenType": 16,
    "lenVar": 40
   },
   "kernels_config": {
    "python": {
     "delete_cmd_postfix": "",
     "delete_cmd_prefix": "del ",
     "library": "var_list.py",
     "varRefreshCmd": "print(var_dic_list())"
    },
    "r": {
     "delete_cmd_postfix": ") ",
     "delete_cmd_prefix": "rm(",
     "library": "var_list.r",
     "varRefreshCmd": "cat(var_dic_list()) "
    }
   },
   "types_to_exclude": [
    "module",
    "function",
    "builtin_function_or_method",
    "instance",
    "_Feature"
   ],
   "window_display": false
  }
 },
 "nbformat": 4,
 "nbformat_minor": 2
}
