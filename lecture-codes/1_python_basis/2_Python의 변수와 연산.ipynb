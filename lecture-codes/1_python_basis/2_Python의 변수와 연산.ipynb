{
 "cells": [
  {
   "cell_type": "markdown",
   "metadata": {
    "colab_type": "text",
    "id": "7bxgJleAF7L6",
    "nbpresent": {
     "id": "bd34da6f-4128-4059-96c3-6963f02a2a67"
    }
   },
   "source": [
    "<i><b>Public AI</b></i>\n",
    "<br>\n",
    "### **&nbsp;&nbsp;Week1. Python 기본기 다지기**\n",
    "# Section 2. 변수와 연산\n",
    "\n",
    "컴퓨터는 변수를 통해 데이터를 저장 및 조작할 수 있는데, Python은 변수를 만들고 조작하는 방법이 다른 언어에 비해 매우 간결합니다. 이번 주차에는 컴퓨터가 데이터를 처리하는 기본 기능인 CRUD, 즉 생성(Create), 읽기(Read), 갱신(Update), 삭제(Delete) 기능이 Python에서는 어떻게 작동하는지 살펴보겠습니다. \n",
    "<br>\n",
    "<br>\n",
    "이번 Section2 에서는 Python을 이용해 숫자형, 문자형, 논리형 변수를 생성해보고, 변수를 다루는 기본적인 방법을 데이터의 종류(예: 숫자 데이터와 문자열 데이터) 별로 배워보겠습니다. "
   ]
  },
  {
   "cell_type": "markdown",
   "metadata": {
    "nbpresent": {
     "id": "d5c724d0-2454-4125-8bd4-9f8d738466cf"
    }
   },
   "source": [
    "\n",
    "### _Objective_\n",
    "1. **Python의 변수** : 변수를 만들고 값을 저장하는 방법을 배웁니다. <br>\n",
    "2. **Python의 기본 자료형과 연산자** : 숫자형, 문자형, 논리형 데이터를 변수에 담아 다루는 방법을 배웁니다. <br>"
   ]
  },
  {
   "cell_type": "markdown",
   "metadata": {
    "colab_type": "text",
    "id": "nMFEI34vF7L9",
    "nbpresent": {
     "id": "f49b6b0e-a310-4b33-8d37-9011b6598aee"
    }
   },
   "source": [
    "# \\[ 1. Python의 변수 \\]\n",
    "\n",
    "Python에서 데이터를 담는 \"변수\" 라는 개념에 대해서 배워보겠습니다."
   ]
  },
  {
   "cell_type": "markdown",
   "metadata": {
    "colab_type": "text",
    "id": "RURMh7c3F7L9",
    "nbpresent": {
     "id": "76414aba-7924-4aff-a055-e0d06b266f3d"
    }
   },
   "source": [
    "## 1. 변수는 무엇인가\n",
    "\n",
    "+ 컴퓨터에서의 변수를 이해할 때는 **데이터를 담는 공간**이라고 생각해보면 도움이 됩니다. \n",
    "+ 컴퓨터에는 데이터를 저장할 수 있는 공간이 있는데, 프로그램을 실행하면 컴퓨터는 변수에 데이터를 담아 저장하게 됩니다."
   ]
  },
  {
   "cell_type": "markdown",
   "metadata": {
    "nbpresent": {
     "id": "7987cf54-d6a4-4ee7-81d9-902914b0a435"
    }
   },
   "source": [
    "## 2. Python 에서의 변수 \n",
    "\n",
    "+ Python 에서도 컴퓨터의 메모리 공간에 **값**을 담아 **저장**하고, 거기에 **이름**을 붙여 그 값을 가져올 수 있는데, 이를 **\"변수\"**라고 합니다. \n",
    "+ 변수를 만드는 것을 변수를 '선언(declare)'한다고 표현하기도 하는데, 다른 언어와 다르게 Python 에서는 변수를 선언하는 명령어 없이, 변수에 값을 할당(혹은 저장)하는 순간에 변수가 만들어집니다. \n",
    "+ 변수에는 **값**을 저장할 수도 있고, **변수**를 저장할 수도 있으며, **연산 결과**를 저장할 수도 있습니다."
   ]
  },
  {
   "cell_type": "markdown",
   "metadata": {
    "colab_type": "text",
    "id": "Ogrrzdw8F7L-",
    "nbpresent": {
     "id": "8947d11b-7023-4bb2-acb8-35644f93f472"
    }
   },
   "source": [
    "### (1) 변수 생성하기 및 값 할당하기\n",
    "\n",
    "다른 언어(C언어 등)에서는 변수를 먼저 선언한 후 값을 할당하는 순으로 절차가 분리되어 있는데 반해, Python에서는 `=`을 통해 변수를 생성함과 동시에 데이터를 할당하게 됩니다. 이러한 차이로, Python에서는 변수 생성의 절차가 줄어듦과 더불어 변수 선언 시 변수에 담길 데이터의 자료형을 미리 지정해주지 않아도 된다는 편리함이 있습니다. 기존에 담겨있던 데이터와 다른 형의 데이터가 할당되더라도 문제 없이 값이 덮어씌워진다는 장점도 있습니다. \n",
    "<br>"
   ]
  },
  {
   "cell_type": "code",
   "execution_count": null,
   "metadata": {
    "colab": {},
    "colab_type": "code",
    "id": "eKL9Sg3eF7MA",
    "nbpresent": {
     "id": "3bb952f2-10ff-48f1-aae5-8f9064d68592"
    }
   },
   "outputs": [],
   "source": [
    "a = True # 논리형(참 거짓)\n",
    "x = 1 # 정수형\n",
    "y = 1.2 # 실수형\n",
    "z = \"string\" # 문자열형\n",
    "\n",
    "lst = [1,2,3,4,\"a\",\"b\",\"c\",\"d\"] # list 형\n",
    "\n",
    "# TODO : 문자 \"3\"을 변수 three에 담기\n"
   ]
  },
  {
   "cell_type": "markdown",
   "metadata": {
    "nbpresent": {
     "id": "926ae74b-08ce-49c7-8ee7-ccfad3388cb4"
    }
   },
   "source": [
    "변수의 자료형을 특정해두지 않는다는 점에는 이 외에도 \n"
   ]
  },
  {
   "cell_type": "code",
   "execution_count": null,
   "metadata": {
    "colab": {},
    "colab_type": "code",
    "id": "cnuLAcLtF7MF",
    "nbpresent": {
     "id": "13abeef9-375c-443b-8361-df2f5c752d77"
    }
   },
   "outputs": [],
   "source": [
    "# 1을 담았던 x에 문자열 값을 덮어 씌울 수 있음\n",
    "x = \"hello python\""
   ]
  },
  {
   "cell_type": "markdown",
   "metadata": {
    "nbpresent": {
     "id": "8128ae37-652c-43fe-a6a5-df70ee2482e8"
    }
   },
   "source": [
    "### (2) 변수 이름 짓기\n",
    "\n",
    "변수의 이름은 알파벳 소문자, 대문자, 숫자, `_`로 구성할 수 있으나, 숫자로 시작할 수는 없습니다. 변수가 무엇을 담고 있는지 혹은 어떤 용도인지 의미를 담아 짓는 것이 좋습니다. 의미있는 변수명을 선택하는 것도 좋은 프로그래밍의 시작이죠."
   ]
  },
  {
   "cell_type": "code",
   "execution_count": null,
   "metadata": {
    "colab": {},
    "colab_type": "code",
    "id": "_xFi-9QgF7MI",
    "nbpresent": {
     "id": "8593a794-1f73-4903-b76a-3d550812c739"
    }
   },
   "outputs": [],
   "source": [
    "# 문자와 숫자\n",
    "hello1 = \"Hello Python\""
   ]
  },
  {
   "cell_type": "code",
   "execution_count": null,
   "metadata": {
    "colab": {
     "base_uri": "https://localhost:8080/",
     "height": 130
    },
    "colab_type": "code",
    "executionInfo": {
     "elapsed": 570,
     "status": "error",
     "timestamp": 1550737156018,
     "user": {
      "displayName": "최선열",
      "photoUrl": "",
      "userId": "00663027191814710813"
     },
     "user_tz": -540
    },
    "id": "vIUbcWiKF7ML",
    "nbpresent": {
     "id": "2d54916f-602b-4c0c-bce0-acc62129cbcb"
    },
    "outputId": "0b984f92-29af-43f3-c513-9249013123ed",
    "scrolled": true
   },
   "outputs": [],
   "source": [
    "# 예외적으로 변수의 이름에 숫자가 먼저 나올 수는 없음.\n",
    "1hello = \"Hello Python\" "
   ]
  },
  {
   "cell_type": "markdown",
   "metadata": {
    "nbpresent": {
     "id": "0bb0777d-0197-4d1a-a643-44a0ec9ded1d"
    }
   },
   "source": [
    "띄어쓰기 대신 `_`를 사용할 수도 있습니다. 다만, 파이썬 프로그래머들 사이에는 특별한 경우에 `_` (single underscore) 혹은 `__` (double underscore 또는 dunder)을 변수명 앞 혹은 뒤에 사용하자는 약속이 있으니 주의하세요!(참고: [PEP 8 : Naming Conventions](https://www.python.org/dev/peps/pep-0008/#naming-conventions))"
   ]
  },
  {
   "cell_type": "code",
   "execution_count": null,
   "metadata": {
    "nbpresent": {
     "id": "96fc19e8-31aa-4cbb-86ff-fbd1568d42de"
    }
   },
   "outputs": [],
   "source": [
    "# 변수명에 띄어쓰기를 할 수는 없지만, _를 활용할 수 있음\n",
    "greet_person = \"안녕하세요 여러분!\" "
   ]
  },
  {
   "cell_type": "markdown",
   "metadata": {
    "nbpresent": {
     "id": "9021509b-1f4c-4bb5-bb98-497fcdb3ebbd"
    }
   },
   "source": [
    "또한, 모든 프로그래밍 언어에는 **'예약어(keywords)'** 가 있습니다. 예약어는 언어가 특정 기능을 하도록 미리 지정해놓은 키워드라고 생각하면 됩니다. 따라서 예약어는 데이터를 담을 변수 이름으로는 사용할 수 없습니다. (참고: [Python Keywords](https://www.w3schools.com/python/python_ref_keywords.asp))"
   ]
  },
  {
   "cell_type": "code",
   "execution_count": null,
   "metadata": {
    "nbpresent": {
     "id": "49610383-850b-4019-9195-5d9ca37dc4bf"
    }
   },
   "outputs": [],
   "source": [
    "try = 1 # try는 예약어이므로, 변수명으로 지정할 경우 오류 발생"
   ]
  },
  {
   "cell_type": "code",
   "execution_count": null,
   "metadata": {
    "nbpresent": {
     "id": "4ef38d08-6411-4a87-961e-ff2be14e4bdc"
    }
   },
   "outputs": [],
   "source": [
    "True = 1 # true는 예약어이므로, 변수명으로 지정할 경우 오류 발생"
   ]
  },
  {
   "cell_type": "markdown",
   "metadata": {
    "colab_type": "text",
    "id": "oHX7y_zWF7MP",
    "nbpresent": {
     "id": "ce3eee30-0547-49c7-8883-82cdc112a7b8"
    }
   },
   "source": [
    "### (3) 변수에 변수를 저장하기\n",
    "변수에는 이처럼 데이터 값을 직접 저장할 수도 있지만, 이미 만들어진 변수를 담을 수도 있습니다. 이 역시 `=`을 사용하여 변수를 대입하게 되면, 오른쪽의 변수가 지칭하고 있는 값을 왼쪽의 변수로도 지칭할 수 있게 됩니다. 즉, 왼쪽의 변수도 오른쪽의 변수가 데이터를 담고 있던 공간을 바라보게 되는 것이죠. 아래 예시에서 각각의 변수가 컴퓨터 메모리상에서 저장된 주소값(```id(변수)```로 호출)을 보면, `y`에 `x`를 담은 후에 `x`의 주소 바뀌어 `y`와 동일한 공간을 바라보고 있음을 알 수 있습니다. "
   ]
  },
  {
   "cell_type": "code",
   "execution_count": null,
   "metadata": {
    "colab": {},
    "colab_type": "code",
    "id": "1LS7iR23F7MR",
    "nbpresent": {
     "id": "df17f457-78b9-4631-aba2-bc2b73bd1b93"
    },
    "outputId": "f7cc08eb-65f8-4ac7-9863-5153fc7e15b8"
   },
   "outputs": [],
   "source": [
    "# 각각 독자적인 값을 갖는 변수 x와 y를 생성합니다. \n",
    "x = 1\n",
    "y = 1.5\n",
    "\n",
    "print(\"Before x = y\")\n",
    "print(\"x : \", x)\n",
    "print(\"y : \", y)"
   ]
  },
  {
   "cell_type": "code",
   "execution_count": null,
   "metadata": {
    "colab": {},
    "colab_type": "code",
    "id": "K_mcsnG1F7MW",
    "nbpresent": {
     "id": "e8bbacae-aaa1-40f6-9f58-13d01e1a1885"
    },
    "outputId": "c4db2400-ee01-4275-e59f-4b15bf62a0eb"
   },
   "outputs": [],
   "source": [
    "# = 을 이용해 y에 있었던 값을 x에 담을 수 있습니다.\n",
    "x = y\n",
    "\n",
    "print(\"After x = y\")\n",
    "print(\"x : \",x)\n",
    "print(\"y : \",y)"
   ]
  },
  {
   "cell_type": "code",
   "execution_count": null,
   "metadata": {},
   "outputs": [],
   "source": [
    "x = 1\n",
    "y = 2\n",
    "\n",
    "# TODO : x에 있는 값을 y로, y에 있는 값을 x로 옮기기 (swap)"
   ]
  },
  {
   "cell_type": "markdown",
   "metadata": {
    "colab_type": "text",
    "id": "8SO3JN_zF7Ma",
    "nbpresent": {
     "id": "22086301-1320-4d7a-8c0a-a230f21cfdde"
    }
   },
   "source": [
    "### (4) 변수에 연산 결과를 저장하기\n",
    "\n",
    "또는 연산 결과를 바로 저장할 수도 있습니다. "
   ]
  },
  {
   "cell_type": "code",
   "execution_count": null,
   "metadata": {
    "colab": {},
    "colab_type": "code",
    "id": "Szt_qp64F7Mb",
    "nbpresent": {
     "id": "51d75b6b-1506-4ce2-bc34-8e60b1a23dc9"
    },
    "outputId": "17867b2a-4a9f-41d4-f038-96053049e3a4",
    "scrolled": true
   },
   "outputs": [],
   "source": [
    "# x에 1과 2를 더한 값을 저장할 수 있습니다.\n",
    "x = 1 + 2\n",
    "x"
   ]
  },
  {
   "cell_type": "code",
   "execution_count": null,
   "metadata": {
    "nbpresent": {
     "id": "b809717d-63fc-4f7d-85f8-66baf968d31f"
    }
   },
   "outputs": [],
   "source": [
    "# y에 문자열 연결하여 바로 저장할 수 있습니다. \n",
    "y = 'hello' + '_' + 'there!!'\n",
    "print(y)"
   ]
  },
  {
   "cell_type": "markdown",
   "metadata": {
    "nbpresent": {
     "id": "b461d118-5494-49a5-9a71-bcc7d244a6ee"
    }
   },
   "source": [
    "### (5) 변수 지우기\n",
    "\n",
    "`=`을 통해 변수를 생성했다면, 변수 지우기는 `del` 명령어를 이용하면 됩니다. 변수명 앞에 `del`을 붙여 실행하게 되면, 변수가 삭제되어 더이상 해당 변수명으로 데이터에 접근할 수 없게 됩니다. "
   ]
  },
  {
   "cell_type": "code",
   "execution_count": null,
   "metadata": {},
   "outputs": [],
   "source": [
    "del x\n",
    "x"
   ]
  },
  {
   "cell_type": "markdown",
   "metadata": {
    "colab_type": "text",
    "id": "JbzIeBo7F7Me",
    "nbpresent": {
     "id": "a95ece6b-7e57-42e8-923a-6eed1ac40478"
    }
   },
   "source": [
    "# \\[ 2. Python의 기본 자료형과 연산자 \\]\n",
    "\n",
    "\n",
    "앞서 **(1)변수 생성하기 및 값 할당하기**에서 간략히 살펴보았듯이, Python에서 변수에 담을 수 있는 **값**은 기본적으로 **정수형**, **실수형**, **참거짓형**, **문자형** 등으로 나누어집니다. 어떤 데이터 유형인지에 따라 사용할 수 있는 **연산자**의 구성이 다르며, 연산자의 작동 방식 또한 다르게 구현되어 있습니다. 값의 다양한 타입과 타입별 다양한 연산자에 대해 배워봅시다. "
   ]
  },
  {
   "cell_type": "markdown",
   "metadata": {
    "colab_type": "text",
    "id": "8mLoBjqCF7Me",
    "nbpresent": {
     "id": "d5d6bd95-e57f-446b-b01f-4bea99bd0be5"
    }
   },
   "source": [
    "## 1. 정수형/실수형 데이터 다루기\n",
    "\n",
    "+ Python 에서 숫자형 데이터는 크게 정수형(integer)과 실수형(float)으로 나뉩니다. \n",
    "+ 기본에 알고 있는 사칙연산 기호인 `+`, `-`, `*`, `/`를 이용해 숫자를 더하고, 빼고, 곱하고 나눌 수 있습니다.\n",
    "+ 그 외에도 나머지(`//`)와 몫(`%`), 지수승(`**`)을 한 번에 구할 수 있습니다. "
   ]
  },
  {
   "cell_type": "code",
   "execution_count": null,
   "metadata": {
    "nbpresent": {
     "id": "17a562e6-f7f2-4549-a80d-d54944730518"
    }
   },
   "outputs": [],
   "source": [
    "print(type(1), '1의 자료형은 정수(integer)이며, int라고 표현됩니다.')\n",
    "print(type(1.2), '1.2의 자료형은 실수(float-point number)이며, float으로 표현됩니다. ')"
   ]
  },
  {
   "cell_type": "markdown",
   "metadata": {
    "colab_type": "text",
    "id": "xtKhM9-9F7Mg",
    "nbpresent": {
     "id": "c87811f6-d2ac-4e29-849f-90f606dbfc66"
    }
   },
   "source": [
    "### (1) 더하기 "
   ]
  },
  {
   "cell_type": "code",
   "execution_count": null,
   "metadata": {
    "colab": {},
    "colab_type": "code",
    "id": "4cegFAIrF7Mg",
    "nbpresent": {
     "id": "8b52b5a9-d194-4354-961a-09b36c7d582d"
    },
    "outputId": "edadd77f-2a67-40db-bd83-7733e2bdae7e"
   },
   "outputs": [],
   "source": [
    "1 + 2"
   ]
  },
  {
   "cell_type": "code",
   "execution_count": null,
   "metadata": {
    "colab": {},
    "colab_type": "code",
    "id": "9Ebi4deTF7Mj",
    "nbpresent": {
     "id": "e6480963-b0d3-45d8-b374-17180a39e7cb"
    },
    "outputId": "c4973b6f-9bfa-410d-d7f7-6043eaca5889",
    "scrolled": true
   },
   "outputs": [],
   "source": [
    "# 정수형과 실수형을 연산하면, \n",
    "# 실수형으로 결과값이 나타납니다.\n",
    "1 + 1.2 "
   ]
  },
  {
   "cell_type": "code",
   "execution_count": null,
   "metadata": {
    "colab": {},
    "colab_type": "code",
    "id": "Y-cexNCyF7Mm",
    "nbpresent": {
     "id": "794f5b0c-b4ab-4997-8369-504a48aa4923"
    },
    "outputId": "655da674-65fd-4fcd-e763-0b549ff77aff"
   },
   "outputs": [],
   "source": [
    "# 실수형의 경우에는 컴퓨터의 부동소수점 방식으로 인해, \n",
    "# 약간의 오차가 발생합니다.\n",
    "1.2 + 2.4 "
   ]
  },
  {
   "cell_type": "markdown",
   "metadata": {
    "colab_type": "text",
    "id": "ok6GtGgzF7Mt",
    "nbpresent": {
     "id": "c2a7ea83-7244-452c-a26b-76a8f4004c78"
    }
   },
   "source": [
    "### (2)  빼기"
   ]
  },
  {
   "cell_type": "code",
   "execution_count": null,
   "metadata": {
    "colab": {},
    "colab_type": "code",
    "id": "Hnk65HGUF7Mv",
    "nbpresent": {
     "id": "1a02b895-5816-4fe4-bd66-2e1feb0748b0"
    },
    "outputId": "b5d29bf1-570c-4346-9642-b706b9e15f66"
   },
   "outputs": [],
   "source": [
    "3 - 2 "
   ]
  },
  {
   "cell_type": "code",
   "execution_count": null,
   "metadata": {
    "colab": {},
    "colab_type": "code",
    "id": "Mj9MUeU1F7M2",
    "nbpresent": {
     "id": "be32563a-a664-4db1-ad4f-af7dd55dc4bf"
    },
    "outputId": "2761e4fc-fa7b-4c5c-e735-a11453e2c6a2"
   },
   "outputs": [],
   "source": [
    "3 - 1.4"
   ]
  },
  {
   "cell_type": "code",
   "execution_count": null,
   "metadata": {
    "colab": {},
    "colab_type": "code",
    "id": "z5LpS5rhF7M8",
    "nbpresent": {
     "id": "d0dd834a-3443-4969-b683-71044d732c4c"
    },
    "outputId": "e65b103f-c3c0-4911-a909-f636a696beac"
   },
   "outputs": [],
   "source": [
    "3.2 - 1.4"
   ]
  },
  {
   "cell_type": "markdown",
   "metadata": {
    "colab_type": "text",
    "id": "_LYX9p_gF7NC",
    "nbpresent": {
     "id": "30fbfc6c-b85e-4ccd-8f6e-4964cd72818e"
    }
   },
   "source": [
    "### (3) 곱하기"
   ]
  },
  {
   "cell_type": "code",
   "execution_count": null,
   "metadata": {
    "colab": {},
    "colab_type": "code",
    "id": "Gz4C0HdFF7ND",
    "nbpresent": {
     "id": "efca72cd-b6c9-4d05-88bb-b18aae68a350"
    },
    "outputId": "6f2963de-b419-4560-8af4-1cd9f9584331"
   },
   "outputs": [],
   "source": [
    "3 * 2"
   ]
  },
  {
   "cell_type": "code",
   "execution_count": null,
   "metadata": {
    "colab": {},
    "colab_type": "code",
    "id": "ptZYAFp6F7NH",
    "nbpresent": {
     "id": "ce582e33-ac66-49bc-ac8a-59e39d16250b"
    },
    "outputId": "cca20d35-7fc4-4af8-8d27-c3f59bb869ad"
   },
   "outputs": [],
   "source": [
    "3.2 * 2"
   ]
  },
  {
   "cell_type": "code",
   "execution_count": null,
   "metadata": {
    "colab": {},
    "colab_type": "code",
    "id": "PFFhIUnxF7NK",
    "nbpresent": {
     "id": "8f9b1ccb-0d0f-4030-917d-a4a9450decbb"
    },
    "outputId": "762bba54-2075-4424-e1f0-131007a2c86f"
   },
   "outputs": [],
   "source": [
    "3.2 * 2.1"
   ]
  },
  {
   "cell_type": "markdown",
   "metadata": {
    "colab_type": "text",
    "id": "zD6wCrC1F7NN",
    "nbpresent": {
     "id": "c3744033-98fb-4e6b-9b0d-de90922e781f"
    }
   },
   "source": [
    "### (4) 나누기"
   ]
  },
  {
   "cell_type": "code",
   "execution_count": null,
   "metadata": {
    "colab": {},
    "colab_type": "code",
    "id": "NqGCKgf2F7NO",
    "nbpresent": {
     "id": "323938e2-03e9-4b93-a03c-e903cebea23d"
    },
    "outputId": "a58eaf59-71d8-424d-b60a-6bb58ab7a4aa"
   },
   "outputs": [],
   "source": [
    "4 / 2 # 나누기를 할 경우 자동으로 실수형으로 형 변환 됩니다."
   ]
  },
  {
   "cell_type": "code",
   "execution_count": null,
   "metadata": {
    "colab": {},
    "colab_type": "code",
    "id": "0xBVOfP3F7NS",
    "nbpresent": {
     "id": "5825886d-af53-4857-b3e0-5b1314fae1cd"
    },
    "outputId": "05ad4a2c-2b9a-44f1-d54e-9c9d8ad6ef1e"
   },
   "outputs": [],
   "source": [
    "4.2 / 2.1"
   ]
  },
  {
   "cell_type": "code",
   "execution_count": null,
   "metadata": {
    "colab": {},
    "colab_type": "code",
    "id": "Bpckh74YF7NV",
    "nbpresent": {
     "id": "5828dd67-363a-438e-b3ce-5b5f5162550c"
    },
    "outputId": "6f1a7a27-a96b-4f74-d06e-c58ba050dc0d"
   },
   "outputs": [],
   "source": [
    "4.2 / 0 # 0으로 나누기를 시도할 경우, zeroDivisionError로 에러가 발생합니다."
   ]
  },
  {
   "cell_type": "markdown",
   "metadata": {
    "colab_type": "text",
    "id": "fMRVmGMlF7NY",
    "nbpresent": {
     "id": "08011097-0eb9-4690-ac75-6f13b5401d8f"
    }
   },
   "source": [
    "### (5) 몫"
   ]
  },
  {
   "cell_type": "code",
   "execution_count": null,
   "metadata": {
    "colab": {},
    "colab_type": "code",
    "id": "cexpcPmiF7NY",
    "nbpresent": {
     "id": "a491bf2d-382d-432d-bc54-613111e6751d"
    },
    "outputId": "61b86700-d07d-463b-a8a5-1f37d2663b98"
   },
   "outputs": [],
   "source": [
    "5 // 2 # 나누기의 몫 부분을 반환합니다."
   ]
  },
  {
   "cell_type": "markdown",
   "metadata": {
    "colab_type": "text",
    "id": "g7IXuy0XF7Nc",
    "nbpresent": {
     "id": "fee57d8d-b587-43ea-b229-e11d4279f50a"
    }
   },
   "source": [
    "### (6) 나머지 "
   ]
  },
  {
   "cell_type": "code",
   "execution_count": null,
   "metadata": {
    "colab": {},
    "colab_type": "code",
    "id": "SNoxYDsZF7Nc",
    "nbpresent": {
     "id": "2b0ce703-e18b-490e-9d15-71bfbd57352f"
    },
    "outputId": "cb3c9f2c-d5a3-4839-9e3d-78ab268d4c83"
   },
   "outputs": [],
   "source": [
    "5 % 2"
   ]
  },
  {
   "cell_type": "markdown",
   "metadata": {
    "colab_type": "text",
    "id": "RiUBl_BGF7Ng",
    "nbpresent": {
     "id": "a78e7261-ebcd-4124-be93-8ec2cb887086"
    }
   },
   "source": [
    "### (7) 지수\n",
    "\n",
    "$3**2 = 3^2$"
   ]
  },
  {
   "cell_type": "code",
   "execution_count": null,
   "metadata": {
    "colab": {
     "base_uri": "https://localhost:8080/",
     "height": 34
    },
    "colab_type": "code",
    "executionInfo": {
     "elapsed": 701,
     "status": "ok",
     "timestamp": 1550737468521,
     "user": {
      "displayName": "최선열",
      "photoUrl": "",
      "userId": "00663027191814710813"
     },
     "user_tz": -540
    },
    "id": "Dgro0GgeF7Nh",
    "nbpresent": {
     "id": "74e930a5-8698-47bd-b6d9-da60135931c8"
    },
    "outputId": "ab77c0de-4139-47bf-ca0a-5e45ec82f24d"
   },
   "outputs": [],
   "source": [
    "3 ** 2"
   ]
  },
  {
   "cell_type": "code",
   "execution_count": null,
   "metadata": {
    "colab": {
     "base_uri": "https://localhost:8080/",
     "height": 34
    },
    "colab_type": "code",
    "executionInfo": {
     "elapsed": 433,
     "status": "ok",
     "timestamp": 1550737468523,
     "user": {
      "displayName": "최선열",
      "photoUrl": "",
      "userId": "00663027191814710813"
     },
     "user_tz": -540
    },
    "id": "gGjCqic5F7Nm",
    "nbpresent": {
     "id": "493e39d2-aa42-457f-8ef9-beba31235884"
    },
    "outputId": "89c9ac61-61ec-4d26-f544-8a48c488da94"
   },
   "outputs": [],
   "source": [
    "3 ** 2.1"
   ]
  },
  {
   "cell_type": "code",
   "execution_count": null,
   "metadata": {
    "colab": {
     "base_uri": "https://localhost:8080/",
     "height": 34
    },
    "colab_type": "code",
    "executionInfo": {
     "elapsed": 1077,
     "status": "ok",
     "timestamp": 1550737469737,
     "user": {
      "displayName": "최선열",
      "photoUrl": "",
      "userId": "00663027191814710813"
     },
     "user_tz": -540
    },
    "id": "M1m5R-KOF7Np",
    "nbpresent": {
     "id": "231f354d-0735-46b8-8bf1-a996cc27c2ee"
    },
    "outputId": "52ebdd4d-b25b-4b35-a290-5b452447d137"
   },
   "outputs": [],
   "source": [
    "3.1 ** 2"
   ]
  },
  {
   "cell_type": "markdown",
   "metadata": {
    "colab_type": "text",
    "id": "PPwIqaaGeGu9",
    "nbpresent": {
     "id": "37f1735a-57f7-4ff4-a93a-f2c51c211ccf"
    }
   },
   "source": [
    "### (8) 변수에도 동일하게 적용되는 숫자 연산자\n",
    " 앞서 살펴보았던 연산자는 숫자를 담은 변수에 대해서도 동일하게 적용됩니다. <br>\n",
    " <br>\n",
    "\n",
    "  $x=3,y=2$일 때,  $x^2 + y^3 + 2xy+3x + 4y$를 계산한다면, `x`와 `y` 변수에 숫자를 담아서 계산할 수 있습니다.\n",
    "  "
   ]
  },
  {
   "cell_type": "code",
   "execution_count": null,
   "metadata": {
    "colab": {
     "base_uri": "https://localhost:8080/",
     "height": 34
    },
    "colab_type": "code",
    "executionInfo": {
     "elapsed": 832,
     "status": "ok",
     "timestamp": 1550743057968,
     "user": {
      "displayName": "최선열",
      "photoUrl": "",
      "userId": "00663027191814710813"
     },
     "user_tz": -540
    },
    "id": "cFnEnpn_dwJN",
    "nbpresent": {
     "id": "2ec721a4-dc94-4303-9510-a99c76f6344d"
    },
    "outputId": "e3f80b43-0812-421f-d93b-24f8a137bc87",
    "scrolled": true
   },
   "outputs": [],
   "source": [
    "x = 3\n",
    "y = 2\n",
    "# TODO 위의 수식을 풀어보기"
   ]
  },
  {
   "cell_type": "markdown",
   "metadata": {
    "colab_type": "text",
    "id": "qOhWUhQ9dzNe",
    "nbpresent": {
     "id": "4ae70ed7-bfb2-4183-86da-16230acc6744"
    }
   },
   "source": [
    "### (9) 괄호()로 연산의 우선순위 정하기\n",
    "수학문제를 풀 때 연산의 우선순위를 나타낼 때 괄호를 사용하듯이, Python에서도 괄호를 이용해 연산의 우선순위를 정할 수 있습니다. 다만 수학에서 쓰던 `{ }`나 `[ ]`는 사용하지 않고, `()`만 사용합니다.<br>\n",
    "\n",
    " $x=3,y=2$일 때, $x^2 + y^3 + 2xy+ 3(x + 4y)$를 계산한다면 아래와 같이 하면 됩니다."
   ]
  },
  {
   "cell_type": "code",
   "execution_count": null,
   "metadata": {
    "colab": {
     "base_uri": "https://localhost:8080/",
     "height": 34
    },
    "colab_type": "code",
    "executionInfo": {
     "elapsed": 618,
     "status": "ok",
     "timestamp": 1550742675657,
     "user": {
      "displayName": "최선열",
      "photoUrl": "",
      "userId": "00663027191814710813"
     },
     "user_tz": -540
    },
    "id": "ck_6GQwNd1c6",
    "nbpresent": {
     "id": "40a26f0b-4d2d-4626-9f3e-532b5d0b2dfb"
    },
    "outputId": "97e99782-b0c7-4eed-c255-e065eb7f3856"
   },
   "outputs": [],
   "source": [
    "x = 3\n",
    "y = 2\n",
    "# TODO 위의 수식을 계산해보기"
   ]
  },
  {
   "cell_type": "markdown",
   "metadata": {
    "colab_type": "text",
    "id": "VyoVX_6rF7Nz",
    "nbpresent": {
     "id": "720b6e37-c3dc-43e4-875c-bc0d639d4798"
    }
   },
   "source": [
    "<br>\n",
    "\n",
    "##  2. 논리형 데이터 다루기\n",
    "\n",
    "\n",
    "+ Python 에서 참과 거짓을 나타내는 논리형 데이터는 `True` 와 `False`입니다. \n",
    "+ 논리형 데이터를 결과값으로 반환하는 비교 연산자는 아래와 같습니다.\n",
    "\n",
    "| 연산자 | True 의 의미 |\n",
    "| ---- | ---- |\n",
    "| a==b | 같음 |\n",
    "| a!=b | 다름  |\n",
    "| a>b  | a가 b보다 큼 |\n",
    "| a>=b | a가 b보다 크거나 같음 |\n",
    "| a<b  | a가 b보다 작음 |\n",
    "| a<=b | a가 b보다 작거나 같음 |\n",
    "\n",
    "+ 위 연산자를 사용하게 되면 두 값을 비교하여 True 혹은 False 를 반환하게 됩니다. \n",
    "+ 대부분 수학에서 다루는 연산자의 의미를 그대로 사용하게 됩니다. \n",
    "+ `!=`를 `=!`로 쓰거나 `>=`를 `=>`로 쓰는 등 순서를 바꾸어 쓸 수는 없습니다.\n",
    "<br>\n",
    "<br>\n",
    "+ 이 외에도 논리형 연산자**에** 쓸 수 있는 연산자가 있습니다. \n",
    "\n",
    "| 연산자 | 반환값의 의미 |\n",
    "| ---- | ---- |\n",
    "| a and b | a와 b가 모두 참일 때 True |\n",
    "| a or b | a 또는 b 중 하나라도 참일때 True  |\n",
    "| not b | b 의 반대(예: not False는 True) |\n",
    "| a is b | a와 b의 주소값이 같을 때 True |"
   ]
  },
  {
   "cell_type": "markdown",
   "metadata": {
    "colab_type": "text",
    "id": "ziETakfhF7N0",
    "nbpresent": {
     "id": "c0e7c4e8-84c9-4c44-93e7-61f707fff809"
    }
   },
   "source": [
    "### (1) == "
   ]
  },
  {
   "cell_type": "code",
   "execution_count": null,
   "metadata": {
    "colab": {},
    "colab_type": "code",
    "id": "c46r-eyRF7N1",
    "nbpresent": {
     "id": "74dcfdd3-60da-4be2-bdf2-c31941c4351f"
    },
    "outputId": "ac040fa9-75b0-4587-d1e7-646c75ea6c23"
   },
   "outputs": [],
   "source": [
    "1 == 1"
   ]
  },
  {
   "cell_type": "markdown",
   "metadata": {
    "colab_type": "text",
    "id": "5Y8QhuACF7N9",
    "nbpresent": {
     "id": "2d22cb85-d7ee-4360-a028-00b25adad230"
    }
   },
   "source": [
    "### (2) !=\n"
   ]
  },
  {
   "cell_type": "code",
   "execution_count": null,
   "metadata": {
    "colab": {},
    "colab_type": "code",
    "id": "KDw-wyYLF7N9",
    "nbpresent": {
     "id": "11e25e03-5f4b-4da7-be63-1483eb4897b8"
    },
    "outputId": "b74a5634-29af-447c-ba92-b9fadb9a1b06"
   },
   "outputs": [],
   "source": [
    "1 != 2"
   ]
  },
  {
   "cell_type": "markdown",
   "metadata": {
    "colab_type": "text",
    "id": "KHz4hp2DF7OG",
    "nbpresent": {
     "id": "c8c265fa-62e7-42e3-a0ab-deeb596d48ab"
    }
   },
   "source": [
    "### (3) > "
   ]
  },
  {
   "cell_type": "code",
   "execution_count": null,
   "metadata": {
    "colab": {},
    "colab_type": "code",
    "id": "-yiDH-IBF7OH",
    "nbpresent": {
     "id": "31df1d1d-493d-4786-978f-4fc82122d039"
    },
    "outputId": "4ddf4c03-fc5b-4964-eb8f-981c650a0083",
    "scrolled": true
   },
   "outputs": [],
   "source": [
    "2 > 2"
   ]
  },
  {
   "cell_type": "code",
   "execution_count": null,
   "metadata": {
    "nbpresent": {
     "id": "14506f97-560e-4938-9691-580a9374f15f"
    }
   },
   "outputs": [],
   "source": [
    "'a' <= 'b' # 문자열 데이터에 대해서도 사용할 수 있음"
   ]
  },
  {
   "cell_type": "markdown",
   "metadata": {
    "colab_type": "text",
    "id": "h4MX1JgTF7OQ",
    "nbpresent": {
     "id": "86e8d18f-3d44-4f09-8816-f7a5febece82"
    }
   },
   "source": [
    "### (4) >="
   ]
  },
  {
   "cell_type": "code",
   "execution_count": null,
   "metadata": {
    "colab": {},
    "colab_type": "code",
    "id": "O0yjwQQxF7OS",
    "nbpresent": {
     "id": "c5f6a99d-9278-4b25-b74d-63e30e3843b0"
    },
    "outputId": "26589b50-5a5a-455f-a93e-973525466b79"
   },
   "outputs": [],
   "source": [
    "2 >= 2"
   ]
  },
  {
   "cell_type": "code",
   "execution_count": null,
   "metadata": {
    "nbpresent": {
     "id": "e0f5e110-a49a-45f9-ba8a-d316485cefaa"
    }
   },
   "outputs": [],
   "source": [
    "2 =< 2 # =와 <의 순서가 바뀌면 오류 반환"
   ]
  },
  {
   "cell_type": "markdown",
   "metadata": {
    "colab_type": "text",
    "id": "MUamdvetF7Oa",
    "nbpresent": {
     "id": "383b3cf2-9495-4733-b362-1c662a69d572"
    }
   },
   "source": [
    "### (5) <"
   ]
  },
  {
   "cell_type": "code",
   "execution_count": null,
   "metadata": {
    "colab": {},
    "colab_type": "code",
    "id": "m5OYBeH9F7Oc",
    "nbpresent": {
     "id": "b05c2568-9cf2-4476-b416-a6ed1297cb68"
    },
    "outputId": "790f315d-08eb-41d2-8d59-e26f397f3dc2"
   },
   "outputs": [],
   "source": [
    "2 < 3"
   ]
  },
  {
   "cell_type": "markdown",
   "metadata": {
    "colab_type": "text",
    "id": "mu3RgvOEF7Of",
    "nbpresent": {
     "id": "76d96afd-e651-4b09-86d7-26b8d9e48866"
    }
   },
   "source": [
    "### (6) <="
   ]
  },
  {
   "cell_type": "code",
   "execution_count": null,
   "metadata": {
    "colab": {},
    "colab_type": "code",
    "id": "GgsxKrxSF7Og",
    "nbpresent": {
     "id": "2f7cbccd-cf76-43ef-b712-0f42e13ead69"
    },
    "outputId": "8e5d6a15-3d5a-473c-ccd4-8de698314007"
   },
   "outputs": [],
   "source": [
    "2 <= 3"
   ]
  },
  {
   "cell_type": "markdown",
   "metadata": {
    "colab_type": "text",
    "id": "dXf7tcqPF7On",
    "nbpresent": {
     "id": "0a609ed2-a608-4212-adc2-1ca9a5d5d45f"
    }
   },
   "source": [
    "### (7) and 연산\n",
    "\n",
    "and 연산은 두 개 모두 참일 때 참을 반환합니다."
   ]
  },
  {
   "cell_type": "code",
   "execution_count": null,
   "metadata": {
    "colab": {},
    "colab_type": "code",
    "id": "NSFqsJHnF7Oo",
    "nbpresent": {
     "id": "3719b6ad-ffc2-4d9a-85d0-d851d57e9135"
    },
    "outputId": "7ab39d19-84e7-47c5-f635-6b43668a4227"
   },
   "outputs": [],
   "source": [
    "True and True"
   ]
  },
  {
   "cell_type": "code",
   "execution_count": null,
   "metadata": {
    "colab": {},
    "colab_type": "code",
    "id": "Hv0ZgVKAF7Ox",
    "nbpresent": {
     "id": "1a599dd2-d612-4b2d-b92b-98cdd5f01420"
    },
    "outputId": "eae729ae-8575-4a15-ed69-5a716cdb8114"
   },
   "outputs": [],
   "source": [
    "True and False"
   ]
  },
  {
   "cell_type": "code",
   "execution_count": null,
   "metadata": {
    "colab": {},
    "colab_type": "code",
    "id": "1YTuyBGoF7O2",
    "nbpresent": {
     "id": "c292b6c2-dd56-4921-9f5f-2c3f0fc8e014"
    },
    "outputId": "5927eb21-90f7-4971-a1e3-073bedab3975"
   },
   "outputs": [],
   "source": [
    "False and False"
   ]
  },
  {
   "cell_type": "markdown",
   "metadata": {
    "colab_type": "text",
    "id": "LRgy96saF7O6",
    "nbpresent": {
     "id": "37458f9a-ca55-460d-ae53-dbaaca630e96"
    }
   },
   "source": [
    "### (8) or 연산\n",
    "or 연산은 두 개 중 하나라도 참일 때 참을 반환합니다."
   ]
  },
  {
   "cell_type": "code",
   "execution_count": null,
   "metadata": {
    "colab": {},
    "colab_type": "code",
    "id": "VrrYa8OpF7O9",
    "nbpresent": {
     "id": "9e7ba950-522f-44ce-b4b6-457217b13a28"
    },
    "outputId": "f4a474e2-9a72-4d6c-d1ee-11ea216ec6c1"
   },
   "outputs": [],
   "source": [
    "True or True"
   ]
  },
  {
   "cell_type": "code",
   "execution_count": null,
   "metadata": {
    "colab": {},
    "colab_type": "code",
    "id": "BdffIs1yF7PA",
    "nbpresent": {
     "id": "cd2485ab-ad0d-49af-badf-03472ab2b264"
    },
    "outputId": "d0b9dc7e-45cc-4902-9863-f6f5494c40b1"
   },
   "outputs": [],
   "source": [
    "True or False"
   ]
  },
  {
   "cell_type": "code",
   "execution_count": null,
   "metadata": {
    "colab": {},
    "colab_type": "code",
    "id": "5LSzkZhMF7PF",
    "nbpresent": {
     "id": "abb9bd43-a687-4f81-9a1a-cd36d2210cbd"
    },
    "outputId": "c8078092-d4cf-4492-a104-104c96666cca"
   },
   "outputs": [],
   "source": [
    "False or False"
   ]
  },
  {
   "cell_type": "markdown",
   "metadata": {
    "nbpresent": {
     "id": "948725f4-49b6-4183-b795-dd3202cbaec2"
    }
   },
   "source": [
    "### (9) not 연산\n",
    "not 연산은 참 거짓을 뒤집어 반환합니다."
   ]
  },
  {
   "cell_type": "code",
   "execution_count": null,
   "metadata": {
    "nbpresent": {
     "id": "f7e75281-0b58-4eba-a351-a1d35e4abffe"
    }
   },
   "outputs": [],
   "source": [
    "not True"
   ]
  },
  {
   "cell_type": "code",
   "execution_count": null,
   "metadata": {
    "nbpresent": {
     "id": "08f1b6d3-e93b-4484-903e-40dd39c5345b"
    }
   },
   "outputs": [],
   "source": [
    "not False"
   ]
  },
  {
   "cell_type": "markdown",
   "metadata": {
    "nbpresent": {
     "id": "a1e434df-c95d-4745-952c-de7535da1a6e"
    }
   },
   "source": [
    "### (10) and or not 조합\n",
    "\n",
    "and or not 연산자는 아래와 같이 이용할 수 있습니다."
   ]
  },
  {
   "cell_type": "code",
   "execution_count": null,
   "metadata": {
    "nbpresent": {
     "id": "075874d6-7654-4908-8425-81a0f60da6a2"
    }
   },
   "outputs": [],
   "source": [
    "# x,y,z가 다음처럼 주어졌을 때,\n",
    "x = 1\n",
    "y = 3\n",
    "z = 4\n",
    "\n",
    "# 비교 수식들을 조합하여 사용할 수 있음\n",
    "(z > x and z > y) or not (y <= x)"
   ]
  },
  {
   "cell_type": "markdown",
   "metadata": {
    "nbpresent": {
     "id": "e7ddf99c-70cc-4e74-a38f-4ae944584e9a"
    }
   },
   "source": [
    "### (11) is 연산자\n",
    "\n",
    "같음을 비교하는 연산에는 `==` 외에도, `is` 연산자가 있습니다. `==`은 두 개의 **값**이 같은지를 비교하고, `is`는 두 개의 **주소값**이 같은지를 비교합니다. 컴퓨터가 데이터를 담아두는 공간(혹은 위치)이 같은 곳인지 비교하는 것이죠."
   ]
  },
  {
   "cell_type": "code",
   "execution_count": null,
   "metadata": {
    "nbpresent": {
     "id": "34a723eb-5664-4a30-83eb-08ff5b580dc5"
    }
   },
   "outputs": [],
   "source": [
    "# list에 대한 자세한 내용은 다음 챕터 참고 \n",
    "a = [1,2,3,4,5] # list 선언\n",
    "b = [1,2,3,4,5] # a와 동일한 값을 가져온 list 선언"
   ]
  },
  {
   "cell_type": "code",
   "execution_count": null,
   "metadata": {
    "nbpresent": {
     "id": "7b9d051d-03a9-431a-93ca-61f522c892e0"
    }
   },
   "outputs": [],
   "source": [
    "a == b # 두 list의 값이 같은지를 비교"
   ]
  },
  {
   "cell_type": "code",
   "execution_count": null,
   "metadata": {
    "nbpresent": {
     "id": "02108f23-bc47-4966-92de-1f903681853f"
    }
   },
   "outputs": [],
   "source": [
    "a is b # 두 list의 주소값이 같은지를 비교"
   ]
  },
  {
   "cell_type": "code",
   "execution_count": null,
   "metadata": {
    "nbpresent": {
     "id": "38825ea6-b2e0-4ff4-9eeb-63e0e76f4198"
    }
   },
   "outputs": [],
   "source": [
    "print(\"a가 저장된 공간의 주소 : \", id(a))\n",
    "print(\"b가 저장된 공간의 주소 : \", id(b))"
   ]
  },
  {
   "cell_type": "markdown",
   "metadata": {
    "nbpresent": {
     "id": "e75ae58c-6870-48f5-bade-3adf807d17f2"
    }
   },
   "source": [
    "`a`와 `b`는 동일한 값을 가지고 있지만, 저장된 공간의 **주소**는 위와 같이 다릅니다. 각각이 독자적인 변수로 선언되었기 때문입니다. "
   ]
  },
  {
   "cell_type": "code",
   "execution_count": null,
   "metadata": {
    "nbpresent": {
     "id": "08445e53-e03f-4560-9e65-055a5cfa51bf"
    }
   },
   "outputs": [],
   "source": [
    "a = [1,2,3,4,5] \n",
    "b = a # 이 경우, a의 주소값을 b에 담음"
   ]
  },
  {
   "cell_type": "code",
   "execution_count": null,
   "metadata": {
    "nbpresent": {
     "id": "fc15c75d-af96-4768-b930-22e4b2c276d3"
    }
   },
   "outputs": [],
   "source": [
    "a == b"
   ]
  },
  {
   "cell_type": "code",
   "execution_count": null,
   "metadata": {
    "nbpresent": {
     "id": "463d5e6d-7438-429d-b1b8-5f12bbb570f3"
    }
   },
   "outputs": [],
   "source": [
    "a is b"
   ]
  },
  {
   "cell_type": "code",
   "execution_count": null,
   "metadata": {
    "nbpresent": {
     "id": "d338e01d-e98f-4e3f-8a9e-eff8ef40cf8b"
    }
   },
   "outputs": [],
   "source": [
    "print(\"a가 저장된 공간의 주소 위치 : \", id(a))\n",
    "print(\"b가 저장된 공간의 주소 위치 : \", id(b))"
   ]
  },
  {
   "cell_type": "markdown",
   "metadata": {
    "nbpresent": {
     "id": "da635eda-cf81-4924-b969-8137fc8e0d00"
    }
   },
   "source": [
    "`True`,`False`,`None`과 같이 자주 쓰이는 값들을 Python에서는 늘 같은 주소값에 위치시킵니다. \n",
    "\n",
    "그래서 `True`, `False`의 경우에는 `is`와 `==`이 항상 같은 결과를 반환하지만, 일반적으로 속도가 조금 더 빠른 `is` 연산을 이용합니다."
   ]
  },
  {
   "cell_type": "code",
   "execution_count": null,
   "metadata": {
    "nbpresent": {
     "id": "2e5d2f22-b684-4afd-a384-aeac27926925"
    }
   },
   "outputs": [],
   "source": [
    "a = True"
   ]
  },
  {
   "cell_type": "code",
   "execution_count": null,
   "metadata": {
    "nbpresent": {
     "id": "57258cea-a40b-44ad-a965-1f8cfe601096"
    }
   },
   "outputs": [],
   "source": [
    "a == True"
   ]
  },
  {
   "cell_type": "code",
   "execution_count": null,
   "metadata": {
    "nbpresent": {
     "id": "200b0848-d6ec-414d-baa1-8204535c866d"
    }
   },
   "outputs": [],
   "source": [
    "a is True"
   ]
  },
  {
   "cell_type": "code",
   "execution_count": null,
   "metadata": {
    "nbpresent": {
     "id": "dd9b7204-f02f-484e-8da1-7ba1abc17728"
    }
   },
   "outputs": [],
   "source": [
    "%%timeit\n",
    "a == True"
   ]
  },
  {
   "cell_type": "code",
   "execution_count": null,
   "metadata": {
    "nbpresent": {
     "id": "131fee7a-8416-44ce-b646-c7c10ecdb6a5"
    }
   },
   "outputs": [],
   "source": [
    "%%timeit\n",
    "# == 보다 is 연산이 좀 더 빠르다\n",
    "a is True"
   ]
  },
  {
   "cell_type": "markdown",
   "metadata": {
    "colab_type": "text",
    "id": "0kETL-XIhtk6",
    "nbpresent": {
     "id": "d4f8b1ec-f292-4c5d-81e7-be63bac27451"
    }
   },
   "source": [
    "##  3. 문자열형 데이터 다루기\n",
    "\n",
    "+ 이외에도 문자가 나열된 문자열형 데이터가 있으며, 연산자나 내장함수를 이용해 변수에 담긴 문자열이나 문자열 자체를 직접 처리할 수 있습니다. \n",
    "+ Python에서는 문자열을 활용하는 강력한 기능들이 있습니다."
   ]
  },
  {
   "cell_type": "markdown",
   "metadata": {
    "colab_type": "text",
    "id": "odmb9Jt8F7PH",
    "nbpresent": {
     "id": "6eaa2153-735b-4db3-9c41-1fecca4a748b"
    }
   },
   "source": [
    "### (1) 문자열 만들기\n",
    "문자열을 만들기 위해서는, `\"안녕하세요\"`나 `'안녕하세요'`처럼, `\"` 혹은 `'`으로 감싸주면 됩니다."
   ]
  },
  {
   "cell_type": "code",
   "execution_count": null,
   "metadata": {
    "colab": {},
    "colab_type": "code",
    "id": "9UwLkRZSF7PH",
    "nbpresent": {
     "id": "3824a091-7ffc-4b76-a899-4e72a8dfed4a"
    },
    "outputId": "99231ef8-378a-4768-a3a0-c95e7e3ab63a"
   },
   "outputs": [],
   "source": [
    "str1 = \"hello\"\n",
    "str2 = 'Python'\n",
    "\n",
    "print(str1)\n",
    "print(str2)"
   ]
  },
  {
   "cell_type": "markdown",
   "metadata": {
    "colab_type": "text",
    "id": "8BezVuFLF7PO",
    "nbpresent": {
     "id": "cd844eb0-8a17-40fb-a302-7fdd1698cb1c"
    }
   },
   "source": [
    "줄이 나뉘는 문자열로 넣고 싶다면, `\"\"\"`나 `'''`처럼 따옴표를 3번 연달아서 감싸 주면 됩니다. "
   ]
  },
  {
   "cell_type": "code",
   "execution_count": null,
   "metadata": {
    "colab": {},
    "colab_type": "code",
    "id": "lcosQqxsF7PP",
    "nbpresent": {
     "id": "25de2384-ba12-4120-ba2c-d9ca34a84dd7"
    },
    "outputId": "77d53cd4-3356-45d7-9881-f37cb62e1daa"
   },
   "outputs": [],
   "source": [
    "str1 = \"\"\"\n",
    "5Days for Deep Learning 코스에 오신 것을\n",
    "진심으로 환영합니다!\n",
    "\"\"\"\n",
    "print(str1)"
   ]
  },
  {
   "cell_type": "markdown",
   "metadata": {
    "colab_type": "text",
    "id": "d_y8FZ4yF7PU",
    "nbpresent": {
     "id": "d8c0bc71-0196-467d-bba6-f5411feb088d"
    }
   },
   "source": [
    "### (2) + "
   ]
  },
  {
   "cell_type": "code",
   "execution_count": null,
   "metadata": {
    "colab": {},
    "colab_type": "code",
    "id": "dZncIlgeF7PU",
    "nbpresent": {
     "id": "f34b8b11-a2bb-43a9-9e16-6a1973814adc"
    },
    "outputId": "2d00b1bb-2d8b-4e3f-bbb1-1b170b605e26"
   },
   "outputs": [],
   "source": [
    "str1 = \"Hello,\"\n",
    "str2 = \"world!\"\n",
    "str1 + str2"
   ]
  },
  {
   "cell_type": "markdown",
   "metadata": {
    "colab_type": "text",
    "id": "UFAnpQJFF7PW",
    "nbpresent": {
     "id": "f30cd7a1-b294-4239-897f-7517884a45cc"
    }
   },
   "source": [
    "### (3) *\n",
    "\n",
    "문자열을 곱할 경우, 해당 문자열을 곱한 수만큼 반복합니다."
   ]
  },
  {
   "cell_type": "code",
   "execution_count": null,
   "metadata": {
    "colab": {},
    "colab_type": "code",
    "id": "flG0GrDVF7PW",
    "nbpresent": {
     "id": "06513a0f-c944-435a-8ca8-fbeafaaba6a4"
    },
    "outputId": "c4900601-601f-413f-ef09-717819ce98f6"
   },
   "outputs": [],
   "source": [
    "str1 = \"Hello!\"\n",
    "str1 * 3"
   ]
  },
  {
   "cell_type": "markdown",
   "metadata": {
    "colab_type": "text",
    "id": "mo85CGQBF7PY",
    "nbpresent": {
     "id": "7090be72-0fa5-4efd-b015-be3cc79c13d4"
    }
   },
   "source": [
    "### (4) 문자열 길이 구하기"
   ]
  },
  {
   "cell_type": "code",
   "execution_count": null,
   "metadata": {
    "colab": {},
    "colab_type": "code",
    "id": "U2hMl3WXF7PY",
    "nbpresent": {
     "id": "11eff096-8cd3-4806-ab4f-70fcbfbbde34"
    },
    "outputId": "f85b821d-7461-4542-d54b-143696791f5b"
   },
   "outputs": [],
   "source": [
    "str1 = \"Hello~ \"\n",
    "len(str1) # 총 7개의 글자가 존재(space도 포함)"
   ]
  },
  {
   "cell_type": "markdown",
   "metadata": {
    "colab_type": "text",
    "id": "mKwyZJF8F7Pf",
    "nbpresent": {
     "id": "632932e1-5870-4c18-9246-c640bbf221b7"
    }
   },
   "source": [
    "### (5) 문자열 인덱싱\n",
    "\n",
    "순서가 있는 데이터에서 특정 위치의 값을 가져오는 것을 '인덱싱(indexing)'이라고 합니다. 문장 혹은 단어의 특정 위치의 데이터를 끊어서 가져오려면 `[위치값]`를 문자열 변수 뒤에 붙이면 됩니다. \n",
    "<br> \n",
    "다만 몇 가지 주의할 점이 있습니다. \n",
    "+ Python에서 인덱싱은 **0부터 시작**합니다. (예: 첫 번째 값을 가져오려면 `[0]`으로 인덱싱)\n",
    "+ a부터 **b 미만**까지 가져오려면 `:`을 이용합니다. (예: `[a:b]`는 b위치의 값은 가져오지 않음)"
   ]
  },
  {
   "cell_type": "code",
   "execution_count": null,
   "metadata": {
    "colab": {
     "base_uri": "https://localhost:8080/",
     "height": 34
    },
    "colab_type": "code",
    "executionInfo": {
     "elapsed": 599,
     "status": "ok",
     "timestamp": 1550743417613,
     "user": {
      "displayName": "최선열",
      "photoUrl": "",
      "userId": "00663027191814710813"
     },
     "user_tz": -540
    },
    "id": "X8koC46vF7Pf",
    "nbpresent": {
     "id": "86288e52-08e5-4b91-bb23-a8522f5dc856"
    },
    "outputId": "346365d6-7f6b-40a1-8541-5558c49060b6"
   },
   "outputs": [],
   "source": [
    "str1 = \"This is Python World!\"\n",
    "# TODO 1) \"P\" 가져오기\n",
    "\n",
    "# TODO 2) \"This\" 가져오기\n"
   ]
  },
  {
   "cell_type": "markdown",
   "metadata": {
    "nbpresent": {
     "id": "12f56d37-7eea-48d5-becd-27dead2ade64"
    }
   },
   "source": [
    "**list**와 **tuple**이라는 자료형에서도 동일한 방식으로 인덱싱을 하게 됩니다. 보다 자세한 인덱싱 방법은 다음 챕터에서 list 와 tuple을 다루며 배워보겠습니다. "
   ]
  },
  {
   "cell_type": "markdown",
   "metadata": {
    "colab_type": "text",
    "id": "hwt2XQqxF7Pk",
    "nbpresent": {
     "id": "709f5d79-3674-4504-979c-686c4a855a54"
    }
   },
   "source": [
    "### (6) 문자열 쪼개기\n",
    "\n",
    "문자열 자료형에는 `split`이라는 내장 함수가 있습니다. 이를 기준으로 문자열을 쪼갤 수 있습니다."
   ]
  },
  {
   "cell_type": "code",
   "execution_count": null,
   "metadata": {
    "colab": {},
    "colab_type": "code",
    "id": "M8QUKOVdF7Pl",
    "nbpresent": {
     "id": "0a956a1a-fb71-4b77-9a7e-83dc67b95097"
    },
    "outputId": "fa164695-f2a3-41c2-ae12-22adccbd0d69"
   },
   "outputs": [],
   "source": [
    "str1 = \"This is Python World!\"\n",
    "str1.split(\" \") # 공백을 기준으로 나누기\n",
    "\n",
    "# TODO 1) \"is\"을 기준으로 나누기"
   ]
  },
  {
   "cell_type": "markdown",
   "metadata": {
    "colab_type": "text",
    "id": "tkXZ_a3EF7Ps",
    "nbpresent": {
     "id": "44fbf446-bd14-4812-9368-676b52b71f88"
    }
   },
   "source": [
    "### (7) 문자열의 반복 출력을 위한 문자열 포멧팅\n",
    "문자열 내에 어떤 부분을 비워두고, 원하는 값으로 채워놓을 수 있도록 도와주는 기능을 **문자열 포맷팅**이라고 합니다. \n",
    "예를 들어, 머신러닝을 학습할 때에는 아래와 같은 문장을 반복하여 만들어야 할때가 있습니다.\n",
    "\n",
    "```python\n",
    "accuracy_sentence = \"현재 32번째 학습하였습니다. 테스트의 정확도는 92.3%입니다.\"\n",
    "\n",
    "```\n",
    "\n",
    "이 문장의 포맷만 유지하고 값을 바꾸어 반복적으로 출력하고 싶다면, 아래처럼 할 수도 있습니다."
   ]
  },
  {
   "cell_type": "code",
   "execution_count": null,
   "metadata": {
    "colab": {},
    "colab_type": "code",
    "id": "c4WR4ixJF7Pu",
    "nbpresent": {
     "id": "aab0ec01-7280-475e-8de5-09521f03493f"
    }
   },
   "outputs": [],
   "source": [
    "step = 32\n",
    "accuracy = 92.3\n",
    "\n",
    "# TODO 1) \"현재 32번째 학습하였습니다. 테스트의 정확도는 92.3%입니다.\"을 출력하기"
   ]
  },
  {
   "cell_type": "markdown",
   "metadata": {
    "colab_type": "text",
    "id": "tm-jEfu1F7Pz",
    "nbpresent": {
     "id": "da8774e5-418e-4464-bc95-fbf5a93f3b9f"
    }
   },
   "source": [
    "하지만 매번 변수의 타입을 문자열로 바꿔주고, `+` 연산자를 써야한다는 점이 불편할 수 있습니다. Python에서는 아래와 같이 좀 더 명확하고 간단하게 쓸 수 있는 방법을 제공합니다. <br>\n",
    "<br>\n",
    "**Python에서 문자열 포매팅하는 방법**<br>\n",
    "- 방법1: 포매팅 할 문자가 들어갈 부분에 중괄호({})를 넣어 비워두고 `.format()`에 중괄호 순서대로 대입하기<br>\n",
    "\n",
    "- 방법2: 문자열 앞에 `f`를 붙이고 문자열 안에 변수 입력하기 ([Python 버전 3.6에 추가](https://docs.python.org/ko/3/reference/lexical_analysis.html#f-strings)) <br>"
   ]
  },
  {
   "cell_type": "code",
   "execution_count": null,
   "metadata": {
    "colab": {},
    "colab_type": "code",
    "id": "SUCzk5-eF7P0",
    "nbpresent": {
     "id": "dc640b40-b186-43bb-8153-e7c1a5080328"
    },
    "outputId": "2df63cb8-8df7-4af8-e721-5cba83dd6ce2"
   },
   "outputs": [],
   "source": [
    "# format안에 들어가는 인자는 문자열이 아니더라도, 자동으로 문자열로 바꾸어서 입력해주어 편리함\n",
    "# 방법1\n",
    "\"현재 {}번째 학습하였습니다. 테스트의 정확도는 {}%입니다.\".format(step, accuracy) \n",
    "\n",
    "# 방법2\n",
    "f\"현재 {step}번째 학습하였습니다. 테스트의 정확도는 {accuracy}%입니다.\""
   ]
  },
  {
   "cell_type": "markdown",
   "metadata": {
    "colab_type": "text",
    "id": "g_Wl32vCF7P2",
    "nbpresent": {
     "id": "edf5dd24-94e4-4b89-9dc4-beb3a5e408b7"
    }
   },
   "source": [
    "아래와 같이 계속 진행될 경우, 글자의 길이가 달라져, 단이 맞지 않을 수 있습니다."
   ]
  },
  {
   "cell_type": "code",
   "execution_count": null,
   "metadata": {
    "colab": {},
    "colab_type": "code",
    "id": "7shBEH1VF7P2",
    "nbpresent": {
     "id": "2487c3b3-e4dd-4dbc-b5ff-2c730d7bd9a2"
    },
    "outputId": "6e70b3c9-4eda-4b59-dd31-6a7c7b20463b"
   },
   "outputs": [],
   "source": [
    "step = 1\n",
    "accuracy = 82.61921\n",
    "print(\"현재 {}번째 학습하였습니다. 테스트의 정확도는 {}%입니다.\".format(step, accuracy))\n",
    "step = 2\n",
    "accuracy = 85.415\n",
    "print(\"현재 {}번째 학습하였습니다. 테스트의 정확도는 {}%입니다.\".format(step, accuracy))\n",
    "\n",
    "# .... 학습이 진행 중\n",
    "\n",
    "step = 99\n",
    "accuracy = 92.5123\n",
    "print(\"현재 {}번째 학습하였습니다. 테스트의 정확도는 {}%입니다.\".format(step, accuracy))\n",
    "step = 100\n",
    "accuracy = 94.5\n",
    "print(\"현재 {}번째 학습하였습니다. 테스트의 정확도는 {}%입니다.\".format(step, accuracy))\n"
   ]
  },
  {
   "cell_type": "markdown",
   "metadata": {
    "colab_type": "text",
    "id": "Ftm0tm-RF7P4",
    "nbpresent": {
     "id": "2ddc5f94-1352-4f22-8d3e-07719f18409f"
    }
   },
   "source": [
    "이런 경우를 위해, `format`함수에서는 다양한 포맷팅 기법을 제공해줍니다."
   ]
  },
  {
   "cell_type": "code",
   "execution_count": null,
   "metadata": {
    "colab": {},
    "colab_type": "code",
    "id": "wcbZrb27F7P5",
    "nbpresent": {
     "id": "4566b3d6-f1c0-4cd8-b138-99a8b4e059d1"
    },
    "outputId": "7b9de401-5ac1-4bed-cc3a-a7ee07908e2b"
   },
   "outputs": [],
   "source": [
    "'{:>5}'.format('123') # 오른쪽 정렬로 총 글자 폭이 5만큼, 공백은 스페이스로 채워줌"
   ]
  },
  {
   "cell_type": "code",
   "execution_count": null,
   "metadata": {
    "colab": {},
    "colab_type": "code",
    "id": "ePu27Ja0F7P_",
    "nbpresent": {
     "id": "0da37a54-2fda-45b8-b610-81fd6eb438d8"
    },
    "outputId": "5d7f47f6-4eb0-47e6-e462-4c374a74ade0"
   },
   "outputs": [],
   "source": [
    "'{:>10}'.format('123') # 오른쪽 정렬로 총 글자 폭이 10만큼, 공백은 스페이스로 채워줌"
   ]
  },
  {
   "cell_type": "code",
   "execution_count": null,
   "metadata": {
    "colab": {},
    "colab_type": "code",
    "id": "CXBzYfm9F7QD",
    "nbpresent": {
     "id": "75f8f0ed-fac7-49d3-8bbb-4c8382cad4e8"
    },
    "outputId": "392d254f-ae28-4966-da61-80264dc63437"
   },
   "outputs": [],
   "source": [
    "'{:<10}'.format('123') # 왼쪽 정렬로 총 글자 폭이 10만큼, 공백은 스페이스로 채워줌"
   ]
  },
  {
   "cell_type": "code",
   "execution_count": null,
   "metadata": {
    "colab": {},
    "colab_type": "code",
    "id": "Cvi-yUdwF7QF",
    "nbpresent": {
     "id": "775474f2-4ad6-41ae-8d7c-1addb05dd56e"
    },
    "outputId": "6dc1ccc2-6bda-423e-9c80-69e9430f3894"
   },
   "outputs": [],
   "source": [
    "'{:<10}'.format(12.3) # 왼쪽 정렬로 총 글자 폭이 10만큼, 공백은 스페이스로 채워줌"
   ]
  },
  {
   "cell_type": "code",
   "execution_count": null,
   "metadata": {
    "colab": {},
    "colab_type": "code",
    "id": "4ZRhq4juF7QG",
    "nbpresent": {
     "id": "c75435b5-dfbb-4f0e-bb68-bd78ab973684"
    },
    "outputId": "1a62197a-e89d-494d-ab4a-7b96286514db"
   },
   "outputs": [],
   "source": [
    "\"{:.3f}\".format(12.38898) # 소숫점 3째자리 까지 잘라서 출력해줌"
   ]
  },
  {
   "cell_type": "code",
   "execution_count": null,
   "metadata": {
    "nbpresent": {
     "id": "dbdfb2af-0b8d-4b96-9b43-3b785775807c"
    }
   },
   "outputs": [],
   "source": [
    "# TODO : 아래와 같이 출력되는 format 문자열 구성하기\n",
    "\n",
    "# \n",
    "# 현재   1번째 학습하였습니다. 테스트의 정확도는 82.6%입니다.\n",
    "# 현재   2번째 학습하였습니다. 테스트의 정확도는 85.4%입니다.\n",
    "# 현재  99번째 학습하였습니다. 테스트의 정확도는 92.5%입니다.\n",
    "# 현재 100번째 학습하였습니다. 테스트의 정확도는 94.5%입니다.\n",
    "# "
   ]
  },
  {
   "cell_type": "markdown",
   "metadata": {
    "colab_type": "text",
    "id": "SGR4CWEdF7QT",
    "nbpresent": {
     "id": "ebf7c34b-57a4-4dd1-a9af-f3630b91b7cb"
    }
   },
   "source": [
    "#  \n",
    "\n",
    "---\n",
    "\n",
    "    Copyright(c) 2019 by Public AI. All rights reserved.\n",
    "    Writen by PAI, SeonYoul Choi ( Best10@publicai.co.kr )  last updated on 2019/02/24\n",
    "\n",
    "---"
   ]
  }
 ],
 "metadata": {
  "kernelspec": {
   "display_name": "Python 3",
   "language": "python",
   "name": "python3"
  },
  "language_info": {
   "codemirror_mode": {
    "name": "ipython",
    "version": 3
   },
   "file_extension": ".py",
   "mimetype": "text/x-python",
   "name": "python",
   "nbconvert_exporter": "python",
   "pygments_lexer": "ipython3",
   "version": "3.6.6"
  },
  "toc": {
   "base_numbering": 1,
   "nav_menu": {},
   "number_sections": false,
   "sideBar": true,
   "skip_h1_title": false,
   "title_cell": "Table of Contents",
   "title_sidebar": "Contents",
   "toc_cell": false,
   "toc_position": {},
   "toc_section_display": true,
   "toc_window_display": false
  },
  "varInspector": {
   "cols": {
    "lenName": 16,
    "lenType": 16,
    "lenVar": 40
   },
   "kernels_config": {
    "python": {
     "delete_cmd_postfix": "",
     "delete_cmd_prefix": "del ",
     "library": "var_list.py",
     "varRefreshCmd": "print(var_dic_list())"
    },
    "r": {
     "delete_cmd_postfix": ") ",
     "delete_cmd_prefix": "rm(",
     "library": "var_list.r",
     "varRefreshCmd": "cat(var_dic_list()) "
    }
   },
   "types_to_exclude": [
    "module",
    "function",
    "builtin_function_or_method",
    "instance",
    "_Feature"
   ],
   "window_display": false
  }
 },
 "nbformat": 4,
 "nbformat_minor": 2
}
