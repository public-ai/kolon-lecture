{
 "cells": [
  {
   "cell_type": "markdown",
   "metadata": {
    "colab_type": "text",
    "id": "KndzlbnQiwf5",
    "nbpresent": {
     "id": "acbcb769-dd0d-44a8-a37c-9fe1256259d8"
    }
   },
   "source": [
    "<i><b>Public AI</b></i>\n",
    "<br>\n",
    "### **&nbsp;&nbsp;Week1. Python 기본기 다지기**\n",
    "# Section 6. Python의 제어문(2) 순회문\n",
    "제어문은 실행순서를 변경시키거나 실행할 코드에 조건을 부여하여 프로그램의 흐름을 제어합니다. Python에서 제공하는 제어문은 크게 3가지, 조건문(if) / 반복문(while) / 순회문(for)입니다. 각각의 개념과 작동 방식을 명확히 이해해야 여러 제어문을 종합적으로 사용하는 프로그램을 만들어 볼 수 있습니다. \n",
    "<br> \n",
    "<br> \n",
    "Section 6에서는 순회문의 개념을 이해하고, 어떻게 작동하는지 살펴보겠습니다. \n"
   ]
  },
  {
   "cell_type": "markdown",
   "metadata": {
    "nbpresent": {
     "id": "c0b94167-469d-4a78-8eb7-0e8544ed6a68"
    }
   },
   "source": [
    "### _Objective_\n",
    "1. **순회문** :순회 가능한 자료구조에서 요소를 순차적으로 가져와 처리하는 순회문을 배웁니다. <br>\n",
    "2. **순회문 활용도를 높여주는 메소드** : 순회문에 활용할 수 있는 다양한 메소드(예: enumerate, range, zip 등)를 배웁니다.<br>\n",
    "3. **간결한 순회문** : 컴프리헨션(comprehension)으로 간결하게 순회문을 만드는 방법을 배웁니다. "
   ]
  },
  {
   "cell_type": "markdown",
   "metadata": {
    "colab_type": "text",
    "id": "DWLy5TS8iwf8",
    "nbpresent": {
     "id": "e3e7e713-0ad5-4782-90dc-690da08ee6e6"
    }
   },
   "source": [
    "# \\[ 1. 순회문(for) \\]\n",
    "\n",
    "제어문은 실행순서를 변경시키거나 실행할 코드에 조건을 부여하여 프로그램의 흐름을 제어합니다. Python에서 제공하는 제어문은 크게 3가지 조건문(if) / 반복문(while) / 순회문(for)이 존재합니다.\n",
    "<br>\n",
    "순회문은 <순회할자료구조>에서 값을 하나하나 꺼내와서 처리할 수 있도록 만드는 제어문입니다. 순회문을 사용할 수 있는 자료구조에는 list, tuple, set, dict 등이 있으며, 이들을 **순회 가능한(iterable) 자료구조**라고 표현합니다.\n",
    "<br>\n",
    "이번에는 파이썬에서 순회문의 기본 구조를 알아보고, 자료구조 별로 순회문이 작동하는 방식을 살펴보겠습니다."
   ]
  },
  {
   "cell_type": "markdown",
   "metadata": {
    "colab_type": "text",
    "id": "3afVLCvbiwf-",
    "nbpresent": {
     "id": "ab2b4c3f-701c-4849-b85e-084b0e82cbe4"
    }
   },
   "source": [
    "## 1. 순회문의 기본 구조\n",
    "\n",
    "\n",
    "순회문의 기본 구조는 아래와 같습니다. \n",
    "    \n",
    "````python\n",
    "for 원소 in 순회할자료구조:\n",
    "    수행할 문장1\n",
    "    수행할 문장2\n",
    "    ...\n",
    "````\n",
    "\n",
    "`for 원소 in 순회할자료구조:`에서 `순회할자료구조`에는 list, set, dict, tuple 등이 들어갈 수 있으며, `순회할자료구조`에서 원소는 하나씩 꺼내져 `원소`에 쓴 변수명에 담깁니다. `원소`에 담기는 값은 `순회할자료구조`에 따라 달라집니다. `수행할 문장1`, `수행할 문장2`에서는 이 `원소` 를 받은 변수명을 이용하여 데이터를 처리합니다.\n",
    "<br>\n"
   ]
  },
  {
   "cell_type": "markdown",
   "metadata": {
    "colab_type": "text",
    "id": "3afVLCvbiwf-",
    "nbpresent": {
     "id": "f24414b8-a509-4296-b9bb-30f7dd4feabe"
    }
   },
   "source": [
    "## 2. 리스트(List) 순회하기\n",
    "\n",
    "아래와 같은 데이터에서 순회 가능한 자료구조(예: list, set, dict, tuple 등)을 만들어보고, 각각에 순회문을 적용하여 순차적으로 데이터를 처리하는 코드를 작성해보겠습니다.<br>\n",
    "<br>\n",
    "**[예제 데이터] AOA 멤버 정보 리스트**\n",
    "\n",
    "| 이름 | 생년월일 | 포지션 | 천사명 |\n",
    "|----|----| ---- | ---- | \n",
    "| 지민 | 1991.1.8 | 리더, 래퍼 | 지미넬 |\n",
    "| 유나 | 1992.12.30 | 보컬, 키보드 | 유나리아 |\n",
    "| 혜정 | 1993.8.10 | 보컬, 댄서 | 혜정리너스 |\n",
    "| 민아 | 1993.9.21 | 래퍼, 보컬, 베이스 | 민아링 |\n",
    "| 설현 | 1995.1.3 | 보컬, 댄서 | 설현아리 |\n",
    "| 찬미 | 1996.6.19 | 래퍼, 보컬, 댄서 | 찬미 티티 |"
   ]
  },
  {
   "cell_type": "markdown",
   "metadata": {
    "colab_type": "text",
    "id": "d1BC3veJiwf_",
    "nbpresent": {
     "id": "b0f18e35-fcca-4544-8bca-fd68ebb3ae32"
    }
   },
   "source": [
    "### 예제 1. ) AOA 멤버들의 이름 출력하기 \n",
    "AOA의 멤버들의 이름이 리스트로 주어졌을 때, 이름을 하나씩 출력해봅시다. 리스트의 요소를 앞에서부터 순서대로 가져와 하나씩 출력함을 알 수 있습니다. "
   ]
  },
  {
   "cell_type": "code",
   "execution_count": null,
   "metadata": {
    "colab": {},
    "colab_type": "code",
    "id": "7p0dNdHaiwgA",
    "nbpresent": {
     "id": "97a35fbd-cbd9-4954-b4af-1073290b46da"
    },
    "outputId": "e33155b4-632a-4a98-dbd2-2a1069c21a14"
   },
   "outputs": [],
   "source": [
    "AOA = [\"지민\", \"유나\", \"혜정\", \"민아\", \"설현\", \"찬미\"]\n",
    "\n",
    "# TODO : 지민부터 찬미까지 아래와 같이 출력하기\n",
    "# 지민 : AOA의 멤버입니다\n",
    "# 유나 : AOA의 멤버입니다\n",
    "# ...\n",
    "# 찬미 : AOA의 멤버입니다\n"
   ]
  },
  {
   "cell_type": "markdown",
   "metadata": {
    "colab_type": "text",
    "id": "BZQcSEb5iwgI",
    "nbpresent": {
     "id": "216d9709-7017-4cb0-8dcf-68783bd51bf7"
    }
   },
   "source": [
    "### (1) `break`로 순회문 중단하기\n",
    "순회문을 멈출 때는 예약어 `break`를 사용합니다. 멤버 이름을 민아까지만 출력하고 순회문을 멈춰봅시다."
   ]
  },
  {
   "cell_type": "code",
   "execution_count": null,
   "metadata": {
    "colab": {},
    "colab_type": "code",
    "id": "Z3Ic3tV0iwgK",
    "nbpresent": {
     "id": "ddd22925-d8f9-493d-9526-4de2d8a56a15"
    },
    "outputId": "53469d47-7dfa-402b-fdeb-b1991064b862"
   },
   "outputs": [],
   "source": [
    "AOA = [\"지민\", \"유나\", \"혜정\", \"민아\", \"설현\", \"찬미\"]\n",
    "\n",
    "# TODO: 민아까지만 출력하기"
   ]
  },
  {
   "cell_type": "markdown",
   "metadata": {
    "colab_type": "text",
    "id": "QN4LcuP1iwgP",
    "nbpresent": {
     "id": "1404a00f-e3be-4659-ab89-0d40935367b5"
    }
   },
   "source": [
    "### (2) `continue`로 건너뛰기\n",
    "\n",
    "순회문에서 수행할 문장을 특정 조건에서 건너뛰게 하려면 `continue`를 사용합니다. 설현은 건너뛰고 다른 이름 멤버의 이름만 출력해봅시다."
   ]
  },
  {
   "cell_type": "code",
   "execution_count": null,
   "metadata": {
    "colab": {},
    "colab_type": "code",
    "id": "bofhJH24iwgR",
    "nbpresent": {
     "id": "24b9a05a-023f-45be-bd4a-c4cc4ef14995"
    },
    "outputId": "2105f490-97c5-47a4-d686-bc4c3a0acfb7"
   },
   "outputs": [],
   "source": [
    "AOA = [\"지민\", \"유나\", \"혜정\", \"민아\", \"설현\", \"찬미\"]\n",
    "\n",
    "# TODO: 설현 빼고 출력하기"
   ]
  },
  {
   "cell_type": "markdown",
   "metadata": {
    "colab_type": "text",
    "id": "IRiL8UMFiwgT",
    "nbpresent": {
     "id": "9dd36ddf-b980-412f-aa23-b0b651e516ef"
    }
   },
   "source": [
    "### (3) 이중 순회 구문으로 중첩 리스트 처리하기\n",
    "순회문 안에 순회문을 만들 수 있는데, 이를 **이중 순회 구문**이라고 합니다. 이중 순회문을 활용하면 리스트 안에 리스트가 요소로 들어간 중첩 리스트의 개별 요소를 처리할 수 있습니다. "
   ]
  },
  {
   "cell_type": "code",
   "execution_count": null,
   "metadata": {
    "colab": {},
    "colab_type": "code",
    "id": "osbtyCa5iwgV",
    "nbpresent": {
     "id": "b03b6081-971f-42f3-98b2-dcc03ac8aeb1"
    }
   },
   "outputs": [],
   "source": [
    "jimin = [\"지민\", \"리더\", \"래퍼\"]\n",
    "yuna = [\"유나\", \"보컬\", \"키보드\"]\n",
    "hyejung = [\"현정\", \"보컬\", \"댄서\"]\n",
    "mina = [\"미나\", \"래퍼\", \"보컬\", \"베이스\"]\n",
    "sulhyun = [\"설현\", \"보컬\",\"댄서\"]\n",
    "chanmi = [\"찬미\", \"래퍼\", \"보컬\", \"댄서\"]\n",
    "\n",
    "members_position = [jimin, yuna, hyejung, mina, sulhyun, chanmi]"
   ]
  },
  {
   "cell_type": "code",
   "execution_count": null,
   "metadata": {
    "colab": {
     "base_uri": "https://localhost:8080/",
     "height": 561
    },
    "colab_type": "code",
    "executionInfo": {
     "elapsed": 576,
     "status": "ok",
     "timestamp": 1551065322261,
     "user": {
      "displayName": "최선열",
      "photoUrl": "",
      "userId": "00663027191814710813"
     },
     "user_tz": -540
    },
    "id": "G6QXAqQsiwgX",
    "nbpresent": {
     "id": "be6158c3-9619-4360-96c4-03fce1a47fa9"
    },
    "outputId": "0a10d095-1e7c-4f9d-df71-0e67a44a76a7"
   },
   "outputs": [],
   "source": [
    "# TODO 멤버이름과 멤버 포지션 출력하기\n",
    "# 예시\n",
    "# 멤버이름 :  지민\n",
    "# 포지션 :\n",
    "#  *  리더\n",
    "#  *  래퍼\n",
    "# 멤버이름 :  유나\n",
    "# 포지션 :\n",
    "#  *  보컬\n",
    "#  *  키보드\n",
    "# ....\n",
    "# 멤버이름 :  찬미\n",
    "# 포지션 :\n",
    "#  *  래퍼\n",
    "#  *  보컬\n",
    "#  *  댄서"
   ]
  },
  {
   "cell_type": "markdown",
   "metadata": {
    "colab_type": "text",
    "id": "UiRVAitPiwga",
    "nbpresent": {
     "id": "d94a9ec4-f35f-417f-877f-9359d2fad90e"
    }
   },
   "source": [
    "## 3. Set 순회하기\n",
    "\n",
    "set은 순서가 정해지지 않은 자료구조로, **입력**했던 순서나 보여지는 순서에 무관하게 요소를 가져와 처리합니다.\n",
    "\n",
    "### 예제 2.) AOA 내의 포지션을 set으로 구성하고 하나씩 출력하기\n",
    "AOA의 멤버들의 포지션들은 다양한데, 한 포지션을 여러 멤버가 맡기도 합니다. AOA에 있는 포지션들을 중복이 없이 파악하기 위해 `set`으로 구성한 후, 이에 대해 순회문을 적용해 출력나열해 봅시다. \n",
    "\n",
    "| 이름 | 포지션 |\n",
    "|----|---- | \n",
    "| 지민 | 리더, 래퍼 | \n",
    "| 유나 | 보컬, 키보드 | \n",
    "| 혜정 | 보컬, 댄서 | \n",
    "| 민아 | 래퍼, 보컬, 베이스 |\n",
    "| 설현 | 보컬, 댄서 |\n",
    "| 찬미 | 래퍼, 보컬, 댄서 | "
   ]
  },
  {
   "cell_type": "code",
   "execution_count": null,
   "metadata": {
    "colab": {},
    "colab_type": "code",
    "id": "K6X54dr1iwgb",
    "nbpresent": {
     "id": "c6da7585-0ed5-42c2-b749-31aec1412616"
    },
    "outputId": "056f9b34-1f2c-4ffc-a5c3-bcb89b64f5aa"
   },
   "outputs": [],
   "source": [
    "jimin = {\"리더\", \"래퍼\"}\n",
    "yuna = {\"보컬\", \"키보드\"}\n",
    "hyejung = {\"보컬\", \"댄서\"}\n",
    "mina = {\"래퍼\", \"보컬\", \"베이스\"}\n",
    "sulhyun = {\"보컬\",\"댄서\"}\n",
    "chanmi = {\"래퍼\", \"보컬\", \"댄서\"}\n",
    "\n",
    "# TODO : AOA 내 모든 포지션을 출력하기 (hint : 중복제거한후)"
   ]
  },
  {
   "cell_type": "markdown",
   "metadata": {
    "colab_type": "text",
    "id": "zpdSQ5jqiwgi",
    "nbpresent": {
     "id": "f19ee9aa-b5e0-4b31-a594-f835cadebf21"
    }
   },
   "source": [
    "## 4. Dict 순회하기\n",
    "\n",
    "dict는 키와 값으로 구성되어 있어, 순회문을 이용하면 키와 값 각각에 대해 혹은 두 가지에 모두를 동시에 처리할 수 있습니다. \n",
    "\n",
    "### 예제3. ) AOA 멤버들의 이름과 생일을 같이 출력하기\n",
    "AOA의 멤버들의 이름과 생일을 dictionary 형식으로 구성하면 다음과 같이 만들 수 있습니다. \n",
    "\n",
    "````python\n",
    "AOA_with_birthday = {\n",
    "    \"지민\" : \"1991.1.8\",\n",
    "    \"유나\" : \"1992.12.30\",\n",
    "    \"혜정\" : \"1993.8.10\",\n",
    "    \"민아\" : \"1993.9.21\",\n",
    "    \"설현\" : \"1995.1.3\",\n",
    "    \"찬미\" : \"1996.6.19\"\n",
    "}\n",
    "````"
   ]
  },
  {
   "cell_type": "markdown",
   "metadata": {
    "colab_type": "text",
    "id": "pDZPqFPiiwgm",
    "nbpresent": {
     "id": "8491e5b3-cb7c-4c4a-b5e8-a45ea4d82ab8"
    }
   },
   "source": [
    "### (1) 키를 기준으로 순회하기\n",
    "키를 순회하고 싶으면, `keys()`로 가져오면 됩니다. 기본적인 순회문 구조에 특별한 설정 없이 dict형식의 변수를 넣어 순회하게 하면, 키를 중심으로 순회하게 됩니다."
   ]
  },
  {
   "cell_type": "code",
   "execution_count": null,
   "metadata": {
    "colab": {
     "base_uri": "https://localhost:8080/",
     "height": 119
    },
    "colab_type": "code",
    "executionInfo": {
     "elapsed": 406,
     "status": "ok",
     "timestamp": 1551063820173,
     "user": {
      "displayName": "최선열",
      "photoUrl": "",
      "userId": "00663027191814710813"
     },
     "user_tz": -540
    },
    "id": "66n3-K8ciwgn",
    "nbpresent": {
     "id": "7fa68e3d-a2ff-4773-a8ad-ab9cdcee3aab"
    },
    "outputId": "eaf4e626-dc4c-4ddf-df35-7b1363082aee"
   },
   "outputs": [],
   "source": [
    "AOA_with_birthday = {\n",
    "    \"지민\" : \"1991.1.8\",\n",
    "    \"유나\" : \"1992.12.30\",\n",
    "    \"혜정\" : \"1993.8.10\",\n",
    "    \"민아\" : \"1993.9.21\",\n",
    "    \"설현\" : \"1995.1.3\",\n",
    "    \"찬미\" : \"1996.6.19\"\n",
    "}\n",
    "\n",
    "# TODO : 모든 멤버의 이름 출력하기"
   ]
  },
  {
   "cell_type": "markdown",
   "metadata": {
    "colab_type": "text",
    "id": "KCkiEa7-iwgs",
    "nbpresent": {
     "id": "da48239e-c8be-4233-a411-a23a4eb18a8a"
    }
   },
   "source": [
    "### (2) 값을 기준으로 순회하기\n",
    "값을 순회하고 싶으면, `values()`로 값을 가져오게끔 한 다음 순회해야 합니다."
   ]
  },
  {
   "cell_type": "code",
   "execution_count": null,
   "metadata": {
    "colab": {
     "base_uri": "https://localhost:8080/",
     "height": 119
    },
    "colab_type": "code",
    "executionInfo": {
     "elapsed": 807,
     "status": "ok",
     "timestamp": 1551063821074,
     "user": {
      "displayName": "최선열",
      "photoUrl": "",
      "userId": "00663027191814710813"
     },
     "user_tz": -540
    },
    "id": "zvn4iNf_iwgu",
    "nbpresent": {
     "id": "1411e3cc-b23e-4dd7-b287-7bb4de76f8d1"
    },
    "outputId": "19a811d7-cd80-41a5-812e-02c4a9030352"
   },
   "outputs": [],
   "source": [
    "AOA_with_birthday = {\n",
    "    \"지민\" : \"1991.1.8\",\n",
    "    \"유나\" : \"1992.12.30\",\n",
    "    \"혜정\" : \"1993.8.10\",\n",
    "    \"민아\" : \"1993.9.21\",\n",
    "    \"설현\" : \"1995.1.3\",\n",
    "    \"찬미\" : \"1996.6.19\"\n",
    "}\n",
    "\n",
    "# TODO : 모든 멤버의 생일만 출력하기"
   ]
  },
  {
   "cell_type": "markdown",
   "metadata": {
    "colab_type": "text",
    "id": "239BSSXgiwg1",
    "nbpresent": {
     "id": "e0305a6f-d6c2-4834-aeb7-a4c02eab98ac"
    }
   },
   "source": [
    "### (3) 키와 값을 같이 순회하기\n",
    "키와 값을 동시에 가져와 순회하고 싶으면, `items()`를 이용합니다.  `.items()`는 키와 값을 튜플로 묶어서 각각을 변수로 받아 처리할 수 있게 해줍니다. "
   ]
  },
  {
   "cell_type": "code",
   "execution_count": null,
   "metadata": {
    "colab": {
     "base_uri": "https://localhost:8080/",
     "height": 119
    },
    "colab_type": "code",
    "executionInfo": {
     "elapsed": 417,
     "status": "ok",
     "timestamp": 1551063822065,
     "user": {
      "displayName": "최선열",
      "photoUrl": "",
      "userId": "00663027191814710813"
     },
     "user_tz": -540
    },
    "id": "JahlA76Giwg2",
    "nbpresent": {
     "id": "72ba588b-2a41-48ad-89bc-b0ff8082f04c"
    },
    "outputId": "22c580ea-b6b9-46a4-f22a-6556d1c34cd8"
   },
   "outputs": [],
   "source": [
    "AOA_with_birthday = {\n",
    "    \"지민\" : \"1991.1.8\",\n",
    "    \"유나\" : \"1992.12.30\",\n",
    "    \"혜정\" : \"1993.8.10\",\n",
    "    \"민아\" : \"1993.9.21\",\n",
    "    \"설현\" : \"1995.1.3\",\n",
    "    \"찬미\" : \"1996.6.19\"\n",
    "}\n",
    "\n",
    "# TODO : 모든 멤버의 이름과 생일을 출력하기\n"
   ]
  },
  {
   "cell_type": "markdown",
   "metadata": {
    "colab_type": "text",
    "id": "zpdSQ5jqiwgi",
    "nbpresent": {
     "id": "a06ae0f1-d948-459a-a86e-5af552786900"
    }
   },
   "source": [
    "## 5. Tuple 순회하기\n",
    "\n",
    "Tuple은 기본적으로 리스트와 유사하게 원소에 순서가 정해져 있지만, 원소를 바꿀 수 없다는 점에서 다릅니다. "
   ]
  },
  {
   "cell_type": "code",
   "execution_count": null,
   "metadata": {
    "nbpresent": {
     "id": "ae51cb72-a4aa-4584-a523-4100aa47db16"
    }
   },
   "outputs": [],
   "source": [
    "AOA = (\"지민\", \"유나\", \"혜정\", \"민아\", \"설현\", \"찬미\")\n",
    "\n",
    "for member in AOA:\n",
    "    print(member)"
   ]
  },
  {
   "cell_type": "markdown",
   "metadata": {
    "colab_type": "text",
    "id": "1U0gIAS6iwg5",
    "nbpresent": {
     "id": "1a3f6eb4-de5a-44ae-94ce-fb9fd4177db0"
    }
   },
   "source": [
    "# \\[ 2. 순회문 활용도를 높여주는 메소드 \\]\n",
    "\n",
    "지금까지는 데이터를 list, set, dict 등의 자료구조를 가지는 변수로 만들어 순회문을 작성해보았습니다. Python에서는 몇 가지 메소드를 활용하면 이렇게 '순회할 수 있는 변수'를 활용하는 방법 외에도 다양한 방식으로 순회문을 만들 수 있습니다.\n",
    "<br> \n",
    "가령 입력된 데이터에는 인덱스값이 없지만 인덱스를 붙여서 순회한다거나(**enumerate** 활용), 순회문 안에서 특정 범위의 숫자 배열을 만들어 순회한다거나(**range** 활용), 여러 리스트를 묶어서 순회할 수 있습니다(**zip** 활용).\n",
    "<br>\n",
    "이번에는 파이썬에서 순회문을 보다 풍부하게 해주는 다양한 메소드를 알아봅시다.\n"
   ]
  },
  {
   "cell_type": "markdown",
   "metadata": {
    "colab_type": "text",
    "id": "4UVehkGNiwg5",
    "nbpresent": {
     "id": "249aef44-20bf-48b0-8a2b-91139509ecdd"
    }
   },
   "source": [
    "## 1. 자료구조에 인덱스를 함께 출력하기 :  `enumerate`\n",
    "\n",
    "\n",
    "### 예제4. ) AOA 멤버의 이름과 순서를 같이 출력하기\n",
    "`enumerate`는 순회할 때, 원소와 함께 인덱스를 반환해줍니다. AOA 멤버 이름 리스트를 순회하되, 이번에는 순번도 함께 출력해봅시다."
   ]
  },
  {
   "cell_type": "code",
   "execution_count": null,
   "metadata": {
    "colab": {},
    "colab_type": "code",
    "id": "CKYIxNd4iwg6",
    "nbpresent": {
     "id": "a4e68912-eeab-45b2-9cc3-3a5f6fd87639"
    }
   },
   "outputs": [],
   "source": [
    "names = [\"지민\", \"유나\", \"혜정\", \"민아\", \"설현\", \"찬미\"]\n",
    "# TODO : 아래와 같은 형식으로 모든 멤버 이름 출력하기\n",
    "# 1번째 멤버 : 지민\n",
    "# 2번째 멤버 : 유나\n",
    "# 3번째 멤버 : 혜정\n",
    "# 4번째 멤버 : 민아\n",
    "# 5번째 멤버 : 설현\n",
    "# 6번째 멤버 : 찬미"
   ]
  },
  {
   "cell_type": "markdown",
   "metadata": {
    "colab_type": "text",
    "id": "XToIxmm1iwg_",
    "nbpresent": {
     "id": "c9e04989-f8cb-4f06-b721-35d1f54706fa"
    }
   },
   "source": [
    "`enumerate` 메소드는 `enumerate(<자료구조>,<시작값>)`으로 구성됩니다. 인덱스 시작값은 지정하지 않으면 0부터 시작합니다. `<시작값>` 자리에 시작하고자 하는 값을 지정하면, 시작값부터 1씩 인덱스가 증가합니다."
   ]
  },
  {
   "cell_type": "markdown",
   "metadata": {
    "colab_type": "text",
    "id": "APAw5KCYiwhD",
    "nbpresent": {
     "id": "4fa07dad-afba-41e4-84f8-772c6da4dfb0"
    }
   },
   "source": [
    "## 2. 숫자 배열 생성하여 순회하기 :  `range`\n",
    "\n",
    " ### 예제5. ) 0부터 5까지 순회하기\n",
    "0부터 5까지 순서대로 출력하려면 0부터 5 사이의 숫자로 구성된 리스트를 만들고, 순회문을 이용해 출력하면 됩니다. "
   ]
  },
  {
   "cell_type": "code",
   "execution_count": null,
   "metadata": {
    "colab": {},
    "colab_type": "code",
    "id": "CTR40u1diwhE",
    "nbpresent": {
     "id": "32003c7c-47bf-470d-9a61-de3c31587293"
    },
    "outputId": "04ed76d6-2627-46aa-91b1-9f92c0bd9c13"
   },
   "outputs": [],
   "source": [
    "# TODO : 0부터 5까지 출력하기\n"
   ]
  },
  {
   "cell_type": "markdown",
   "metadata": {
    "colab_type": "text",
    "id": "tynVRTsLiwhG",
    "nbpresent": {
     "id": "5e7117a4-a549-49d8-b09f-3ce1277c5b32"
    }
   },
   "source": [
    "아래처럼 `range` 구문을 활용하면 보다 간단히 숫자 배열을 만들 수 있습니다. "
   ]
  },
  {
   "cell_type": "code",
   "execution_count": null,
   "metadata": {
    "nbpresent": {
     "id": "ed23b8a5-11b7-4704-97d4-2e0518e5a319"
    }
   },
   "outputs": [],
   "source": [
    "for num in range(0,6):\n",
    "    print(num)"
   ]
  },
  {
   "cell_type": "markdown",
   "metadata": {
    "colab_type": "text",
    "id": "gmBtCukxiwhK",
    "nbpresent": {
     "id": "023ad544-76be-4f8f-9a20-1b3d727f89ef"
    }
   },
   "source": [
    "### 예제6. ) 0부터 10까지 짝수만 순회하기\n",
    "0부터 10까지 있는 숫자 중 짝수만 출력하고 싶다면, `range`에 숫자 범위와 함께 간격을 지정해주면 됩니다. "
   ]
  },
  {
   "cell_type": "code",
   "execution_count": null,
   "metadata": {
    "colab": {},
    "colab_type": "code",
    "id": "TUv32afZiwhL",
    "nbpresent": {
     "id": "395f1fbd-00bb-4a16-abc0-f9f429f07148"
    },
    "outputId": "2bae8a93-c342-4902-b874-84439b83ace6"
   },
   "outputs": [],
   "source": [
    "for num in range(0,10,2):\n",
    "    print(num)"
   ]
  },
  {
   "cell_type": "markdown",
   "metadata": {
    "colab_type": "text",
    "id": "0KlWztx6iwhO",
    "nbpresent": {
     "id": "f3037199-5b88-4b8a-9dab-78a307279601"
    }
   },
   "source": [
    "### 예제7. ) 10부터 1까지 거꾸로 순회하기\n",
    "10부터 1까지 감소하는 거꾸로 출력해고 싶다면 `-`를 붙여서 간격을 지정합니다."
   ]
  },
  {
   "cell_type": "code",
   "execution_count": 1,
   "metadata": {
    "colab": {},
    "colab_type": "code",
    "id": "L3q7WHQliwhP",
    "nbpresent": {
     "id": "9f88f966-4705-4083-b283-3d6421d4efe1"
    }
   },
   "outputs": [
    {
     "name": "stdout",
     "output_type": "stream",
     "text": [
      "10\n",
      "9\n",
      "8\n",
      "7\n",
      "6\n",
      "5\n",
      "4\n",
      "3\n",
      "2\n",
      "1\n"
     ]
    }
   ],
   "source": [
    "for num in range(10,0,-1):\n",
    "    print(num)"
   ]
  },
  {
   "cell_type": "code",
   "execution_count": 7,
   "metadata": {
    "nbpresent": {
     "id": "42ff8236-193a-4a74-b790-ac7bbc182f6b"
    }
   },
   "outputs": [
    {
     "name": "stdout",
     "output_type": "stream",
     "text": [
      "1\n",
      "2\n",
      "3\n",
      "4\n",
      "5\n",
      "6\n",
      "7\n",
      "8\n",
      "9\n"
     ]
    }
   ],
   "source": [
    "for num in range(1,10):  # 10부터 1까지 1씩 증가하는 배열을 만들 수는 없기 때문에 출력되는 값이 없음\n",
    "    print(num)"
   ]
  },
  {
   "cell_type": "markdown",
   "metadata": {
    "colab_type": "text",
    "id": "eefc4G5yiwhT",
    "nbpresent": {
     "id": "f2c414d4-a1f4-4b95-b2e1-8733f31c5edb"
    }
   },
   "source": [
    "## 3. 여러 자료구조를 함께 순회하기 :  `zip`\n"
   ]
  },
  {
   "cell_type": "markdown",
   "metadata": {
    "colab_type": "text",
    "id": "jFPlOP9tiwhT",
    "nbpresent": {
     "id": "83043c72-b448-493c-9601-b166347af852"
    }
   },
   "source": [
    "### 예제8. ) AOA 멤버의 이름과 천사명 같이 출력하기\n",
    "\n",
    "두 개 이상의 리스트를 묶어서 각각의 순서대로 순회문이 실행되어야 할 때도 있습니다. 이때 활용하는 것이 `zip` 메소드 입니다.<br>\n",
    "예를 들어 아래와 같이 AOA 멤버 이름 리스트와 천사명 리스트를 따로 받았을 때, 두 리스트를 엮어 순서대로 출력해봅시다."
   ]
  },
  {
   "cell_type": "code",
   "execution_count": 11,
   "metadata": {
    "colab": {},
    "colab_type": "code",
    "id": "z1CtR4FriwhU",
    "nbpresent": {
     "id": "f6ca743e-2f48-407c-b938-87b2abcb1e3f"
    },
    "outputId": "718e9599-3e36-45ec-fc99-494a1dc2f877"
   },
   "outputs": [
    {
     "name": "stdout",
     "output_type": "stream",
     "text": [
      "지민 - 지미넬\n",
      "유나 - 유나리아\n",
      "혜정 - 혜정리너스\n",
      "민아 - 민아링\n",
      "설현 - 설현아리\n",
      "찬미 - 찬미 티티\n"
     ]
    }
   ],
   "source": [
    "names = [\"지민\", \"유나\", \"혜정\", \"민아\", \"설현\", \"찬미\"]\n",
    "angels = [\"지미넬\",\"유나리아\",\"혜정리너스\",\"민아링\",\"설현아리\",\"찬미 티티\"]\n",
    "\n",
    "# TODO : 이름과 천사명을 동시에 출력하기\n",
    "for i in range(len(names)):\n",
    "    print(names[i],\"-\",angels[i])"
   ]
  },
  {
   "cell_type": "markdown",
   "metadata": {
    "nbpresent": {
     "id": "ecb664ec-e795-4e0c-87c7-5752417c0f81"
    }
   },
   "source": [
    "# \\[ 3. comprehension으로 간결한 순회문 만들기  \\]\n",
    "\n",
    "Python에서는 comprehension을 이용하여 순회문을 보다 간결하게 만들 수 있습니다. 이번 장에서는 list comprehension, dictionary comprehension을 배워보고, 심화 학습으로 generator expression을 배워보겠습니다."
   ]
  },
  {
   "cell_type": "markdown",
   "metadata": {
    "nbpresent": {
     "id": "83e791d5-194f-458a-ada5-cbaea9e337a7"
    }
   },
   "source": [
    "## 1. List Comprehension\n",
    "\n",
    "### 예제 1) 20까지의 짝수를 가지고 있는 List 만들기\n",
    "`list comprehension` 에서 순회문을 이용하면 매우 간결하게 리스트를 생성하는 코드를 작성할 수 있습니다.\n",
    "````python\n",
    "\n",
    "lst = [ 원소에 적용할 내용 for 원소 in 순회할자료구조 ]\n",
    "\n",
    "# 위의 구문은 아래와 동등합니다. \n",
    "\n",
    "lst = []\n",
    "for 원소 in 순회할자료구조:\n",
    "    적용된 원소 = 원소에 적용할 내용\n",
    "    lst.append(적용된 원소)\n",
    "\n",
    "````    \n",
    "\n"
   ]
  },
  {
   "cell_type": "code",
   "execution_count": 18,
   "metadata": {
    "nbpresent": {
     "id": "77fa8312-4170-44c2-b7cd-7693131ffe0f"
    }
   },
   "outputs": [],
   "source": [
    "# TODO : 0부터 20까지 짝수를 담은 숫자 리스트 만들기\n"
   ]
  },
  {
   "cell_type": "markdown",
   "metadata": {
    "nbpresent": {
     "id": "f68fe9d0-88be-4793-affc-79f7d490062c"
    }
   },
   "source": [
    "### 예제 2) AOA에서 보컬 역할을 가지고 있는 멤버들의 이름 리스트를 가져오기"
   ]
  },
  {
   "cell_type": "code",
   "execution_count": 20,
   "metadata": {
    "nbpresent": {
     "id": "e53ecf64-e80f-4583-a4fe-5be5036e192d"
    }
   },
   "outputs": [],
   "source": [
    "# 각 멤버의 이름과 포지션에 대한 dictionary 리스트\n",
    "jimin = {\n",
    "    \"name\" : \"지민\",\n",
    "    \"position\" : {\"리더\", \"래퍼\"}\n",
    "}\n",
    "yuna = {\n",
    "    \"name\" : \"유나\",\n",
    "    \"position\" : {\"보컬\", \"키보드\"}\n",
    "}\n",
    "hyejung = {\n",
    "    \"name\" : \"혜정\",\n",
    "    \"position\" : {\"보컬\", \"댄서\"}\n",
    "}\n",
    "mina = {\n",
    "    \"name\" : \"민아\",\n",
    "    \"position\": {\"래퍼\", \"보컬\", \"베이스\"}\n",
    "}\n",
    "sulhyun = {\n",
    "    \"name\" : \"설현\",\n",
    "    \"position\" : {\"보컬\",\"댄서\"}\n",
    "}\n",
    "chanmi = {\n",
    "    \"name\" : \"찬미\",\n",
    "    \"position\" : {\"래퍼\", \"보컬\", \"댄서\"}\n",
    "}\n",
    "\n",
    "all_members = [jimin, yuna, hyejung, mina, sulhyun, chanmi] \n",
    "\n",
    "# TODO : 보컬역할인 멤버들의 이름 가져오기"
   ]
  },
  {
   "cell_type": "markdown",
   "metadata": {
    "nbpresent": {
     "id": "5bfcb67d-bc1e-40c6-aa05-9967074b4788"
    }
   },
   "source": [
    "## 2. Dict Comprehension\n",
    "\n",
    "`dict comprehension`도 마찬가지로 `{<key>:<value> for key,value in <자료구조>}` 방식으로 간결하게 작성할 수 있습니다.\n",
    "\n",
    "### 예제 1) 이름과 천사명에 대한 dict 만들기\n",
    "\n",
    "| 이름 | 생년월일 | 포지션 | 천사명 |\n",
    "|----|----| ---- | ---- | \n",
    "| 지민 | 1991.1.8 | 리더, 래퍼 | 지미넬 |\n",
    "| 유나 | 1992.12.30 | 보컬, 키보드 | 유나리아 |\n",
    "| 혜정 | 1993.8.10 | 보컬, 댄서 | 혜정리너스 |\n",
    "| 민아 | 1993.9.21 | 래퍼, 보컬, 베이스 | 민아링 |\n",
    "| 설현 | 1995.1.3 | 보컬, 댄서 | 설현아리 |\n",
    "| 찬미 | 1996.6.19 | 래퍼, 보컬, 댄서 | 찬미 티티 |"
   ]
  },
  {
   "cell_type": "code",
   "execution_count": null,
   "metadata": {
    "nbpresent": {
     "id": "53b83f1c-f4eb-4f6c-998f-b278737037e6"
    }
   },
   "outputs": [],
   "source": [
    "# 각 멤버의 이름과 천사명에 대한 리스트\n",
    "member_names = [\"지민\",\"유나\",\"혜정\",\"민아\",\"설현\",\"찬미\"]\n",
    "angel_names = [\"지미넬\",\"유나리아\",\"혜정리너스\",\"민아링\",\"설현아리\",\"찬미 티티\"]\n",
    "\n",
    "# TODO : 각 멤버의 이름이 Key값이고 각 멤버의 천사명이 Value인 Dictionary 구성하기"
   ]
  },
  {
   "cell_type": "markdown",
   "metadata": {
    "nbpresent": {
     "id": "ddc9efe6-ee76-4c56-a8f6-5aaf75fa0957"
    }
   },
   "source": [
    "## [Advanced] 3. Generator Expression \n",
    "\n",
    "\n",
    "그렇다면 list와 유사한 tuple에도 comprehension이 있을까요? 어떻게 만들까요? `(i*100 for i in (1,2,3,4,5))` 혹은 `tuple(i*100 for i in (1,2,3,4,5))` 로 만들 수 있을 것 같습니다. 하지만, 두 가지 방법이 만들어내는 결과물은 다릅니다. "
   ]
  },
  {
   "cell_type": "code",
   "execution_count": null,
   "metadata": {
    "nbpresent": {
     "id": "f6ec231d-cb31-4d2e-b675-cbbfdf5f593c"
    }
   },
   "outputs": [],
   "source": [
    "print('1. ', tuple(i*100 for i in (1,2,3,4,5)))  \n",
    "print('2. ', (i*100 for i in (1,2,3,4,5))) # generator expression \n",
    "print('--> SAME? : ', (i*100 for i in (1,2,3,4,5)) == tuple(i*100 for i in (1,2,3,4,5)))"
   ]
  },
  {
   "cell_type": "markdown",
   "metadata": {
    "nbpresent": {
     "id": "88f18cfd-889d-4f2b-a824-bf26a567cd82"
    }
   },
   "source": [
    "위 결과를 보면, tuple로 감싸서 결과를 받는 경우 tuple로 결과가 출력됩니다. 이를 tuple comprehension이라고 부를 수도 있을 것 같지만, 파이썬 공식 문서를 살펴보면 'tuple comprehension'이라는 표현은 공식적으로 사용하지 않고 있습니다. \n",
    "<br>\n",
    "<br>\n",
    "`(`와 `)`를 이용해서 만든 후자의 경우 `<generator object <genexpr> at 0x00000284B5BEA938>` 라고 출력되는 것을 알 수 있습니다. 이를 우리는 **generator expression**이라고 부릅니다. generator expression은 메모리를 효율적으로 활용하기 위해 사용하는 순회 가능한 객체(iterable object)입니다. 어떻게 사용하는지 좀 더 자세하게 살펴봅시다.  \n",
    "<br>\n",
    "generator 안의 원소에 접근하려면 `next()`를 사용합니다. "
   ]
  },
  {
   "cell_type": "code",
   "execution_count": null,
   "metadata": {
    "nbpresent": {
     "id": "cafa3d37-447b-47ee-b67a-7374a273d7d7"
    }
   },
   "outputs": [],
   "source": [
    "generator_sample = (i*100 for i in (1,2,3,4,5))\n",
    "print(next(generator_sample))\n",
    "print(next(generator_sample))\n",
    "print(next(generator_sample))\n",
    "print(next(generator_sample))\n",
    "print(next(generator_sample))\n",
    "\n",
    "# next는 generator 안에 있는 원소를 꺼내오는 것이기 때문에, 남은 것이 없으면 오류를 반환합니다. \n",
    "print(next(generator_sample))"
   ]
  },
  {
   "cell_type": "markdown",
   "metadata": {
    "nbpresent": {
     "id": "78dfbaf9-4a77-486d-98f4-3a0189797647"
    }
   },
   "source": [
    "위와 같이 generator를 사용해 for loop을 만들 수도 있습니다."
   ]
  },
  {
   "cell_type": "code",
   "execution_count": null,
   "metadata": {
    "nbpresent": {
     "id": "602fb8fe-8b97-49e1-a7fb-4cde91b1138b"
    }
   },
   "outputs": [],
   "source": [
    "generator_sample = (i*100 for i in (1,2,3,4,5))\n",
    "for item in  generator_sample:\n",
    "    print(item)"
   ]
  },
  {
   "cell_type": "markdown",
   "metadata": {
    "nbpresent": {
     "id": "ca16076b-2878-4ed8-934e-ffbb9408a6ee"
    }
   },
   "source": [
    "보기에는 list(i*100 for i in (1,2,3,4,5))를 사용하는 것과 크게 달라보이지 않습니다. 그런데 왜 generator라는 개념을 따로 만들었을까요? 예시를 보면 generator는 안에 5개의 원소를 가지고 있는 것처럼 보이지만, 실제 원소 하나의 공간만을 차지합니다. `range`를 넓혀 두 변수의 사이즈를 비교해볼까요? "
   ]
  },
  {
   "cell_type": "code",
   "execution_count": null,
   "metadata": {
    "nbpresent": {
     "id": "b0430ee4-c24d-4a94-8705-812f90335d24"
    }
   },
   "outputs": [],
   "source": [
    "from sys import getsizeof\n",
    "\n",
    "tuple_sample = tuple(i*100 for i in range(1, 1000))\n",
    "generator_sample = (i*100 for i in range(1,1000))\n",
    "print('tuple 사이즈는? : ', getsizeof(tuple_sample))\n",
    "print('generator 사이즈는? : ', getsizeof(generator_sample))"
   ]
  },
  {
   "cell_type": "markdown",
   "metadata": {
    "nbpresent": {
     "id": "c3f1fe96-4f46-4ecb-89bf-86a593b07814"
    }
   },
   "source": [
    "range안에 들어가는 숫자의 범위를 좀 더 늘려보고, 차지하는 메모리 공간이 어떻게 변하는지 살펴봅시다. "
   ]
  },
  {
   "cell_type": "code",
   "execution_count": null,
   "metadata": {
    "nbpresent": {
     "id": "5418561a-df0e-48d6-be47-8d2e059157bc"
    }
   },
   "outputs": [],
   "source": [
    "tuple_sample = tuple(i*100 for i in range(1, 100000))\n",
    "generator_sample = (i*100 for i in range(1,100000))\n",
    "print('tuple 사이즈는? : ', getsizeof(tuple_sample))\n",
    "print('generator 사이즈는? : ', getsizeof(generator_sample))"
   ]
  },
  {
   "cell_type": "markdown",
   "metadata": {
    "nbpresent": {
     "id": "e494862b-6807-48da-bfee-e65b5de406fd"
    }
   },
   "source": [
    "generator가 차지하는 메모리 사이즈는 변화가 없습니다. generator를 활용하면 전체 데이터를 한 번에 불러오기 무거울 때 활용하면 메모리를 효율적으로 사용할 수 있음을 알 수 있습니다 ."
   ]
  },
  {
   "cell_type": "markdown",
   "metadata": {
    "colab_type": "text",
    "id": "p9KFYDD1iwhX",
    "nbpresent": {
     "id": "45c85d9c-f6dc-40a2-bc3c-768c772edc37"
    }
   },
   "source": [
    "#  \n",
    "\n",
    "<hr>\n",
    "\n",
    "    Copyright(c) 2019 by Public AI. All rights reserved.\n",
    "    Writen by PAI, SangJae Kang ( rocketgrowthsj@publicai.co.kr )  last updated on 2019/02/25\n",
    "<hr>"
   ]
  }
 ],
 "metadata": {
  "kernelspec": {
   "display_name": "Python 3",
   "language": "python",
   "name": "python3"
  },
  "language_info": {
   "codemirror_mode": {
    "name": "ipython",
    "version": 3
   },
   "file_extension": ".py",
   "mimetype": "text/x-python",
   "name": "python",
   "nbconvert_exporter": "python",
   "pygments_lexer": "ipython3",
   "version": "3.6.6"
  },
  "toc": {
   "base_numbering": 1,
   "nav_menu": {},
   "number_sections": false,
   "sideBar": true,
   "skip_h1_title": false,
   "title_cell": "Table of Contents",
   "title_sidebar": "Contents",
   "toc_cell": false,
   "toc_position": {},
   "toc_section_display": true,
   "toc_window_display": false
  },
  "varInspector": {
   "cols": {
    "lenName": 16,
    "lenType": 16,
    "lenVar": 40
   },
   "kernels_config": {
    "python": {
     "delete_cmd_postfix": "",
     "delete_cmd_prefix": "del ",
     "library": "var_list.py",
     "varRefreshCmd": "print(var_dic_list())"
    },
    "r": {
     "delete_cmd_postfix": ") ",
     "delete_cmd_prefix": "rm(",
     "library": "var_list.r",
     "varRefreshCmd": "cat(var_dic_list()) "
    }
   },
   "types_to_exclude": [
    "module",
    "function",
    "builtin_function_or_method",
    "instance",
    "_Feature"
   ],
   "window_display": false
  }
 },
 "nbformat": 4,
 "nbformat_minor": 2
}
