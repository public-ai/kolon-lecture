{
 "cells": [
  {
   "cell_type": "markdown",
   "metadata": {
    "colab_type": "text",
    "id": "u-pF5spyrjsr",
    "nbpresent": {
     "id": "60ee7103-185e-4237-bbfd-9b681c5850a0"
    }
   },
   "source": [
    " <i><b>Public AI</b></i>\n",
    "<br>\n",
    "### **&nbsp;&nbsp;Week1. Python 기본기 다지기**\n",
    "# Section 4. Python의 자료구조 (2) Set과 Dictionary\n",
    "\n",
    "Section3에서는 Python이 지원하는 자료구조 중 가장 기본적인 list와 tuple에 대해 배워보았습니다.\n",
    "\n",
    "이번 Section4에서는 그 중에서 Set형 자료구조 및 Dictionary형 자료구조의 개념을 이해한 후, 기본적인 조작 방법에 대해 살펴보겠습니다."
   ]
  },
  {
   "cell_type": "markdown",
   "metadata": {
    "nbpresent": {
     "id": "10a23b63-a8b4-4947-ae49-1af7d3f93163"
    }
   },
   "source": [
    "### _Objective_\n",
    "1. **Set** : 집합 자료형의 개념을 이해하고, 생성, 읽기, 수정, 제거하는 방법을 배워봅니다. \n",
    "2. **Dict** : 사전 자료형의 개념을 이해하고, 생성, 읽기, 제거하는 방법을 배워봅니다. "
   ]
  },
  {
   "cell_type": "markdown",
   "metadata": {
    "colab_type": "text",
    "id": "-C_Pxk-1rjss",
    "nbpresent": {
     "id": "c86d215f-f5c0-45b7-b6d5-3a73f76d409b"
    }
   },
   "source": [
    "# \\[1. Set \\]\n",
    "\n",
    "set(집합)은 list나 tuple과 유사하게 여러개의 객체를 담을 수 있는 자료구조이며, **중복을 허용하지 않으며**, **순서가 없다**는 특징을 가집니다."
   ]
  },
  {
   "cell_type": "markdown",
   "metadata": {
    "colab_type": "text",
    "id": "4zvkNV4FsVkH",
    "nbpresent": {
     "id": "3fb67ae2-eb33-478f-906f-741b0f6a9fdb"
    }
   },
   "source": [
    "## 1. Set의 특징 및 조작 방법\n",
    "\n",
    "+ 중복을 허용하지 않는 set의 특징 덕분에 데이터의 중복을 제거하기 위한 수단으로 자주 쓰입니다.<br> \n",
    "+ 대신 Set은 순서가 없기 때문에 list처럼 인덱싱으로 값을 얻을 수 없습니다. <br>"
   ]
  },
  {
   "cell_type": "markdown",
   "metadata": {
    "colab_type": "text",
    "id": "3fO0qx23rjss",
    "nbpresent": {
     "id": "d126a9f7-dbf5-4238-9685-20348c9b2f5f"
    }
   },
   "source": [
    "### (1) Set 생성하기\n",
    "\n",
    "Set 역시 `=`을 이용해 변수를 생성하되, `{`와 `}`로 감싸주거나 `set()` 로 생성해야 합니다. set 내에는 숫자 뿐 아니라 다양한 타입의 변수를 담을 수 있습니다."
   ]
  },
  {
   "cell_type": "code",
   "execution_count": null,
   "metadata": {
    "colab": {},
    "colab_type": "code",
    "id": "8LnegsKzrjsu",
    "nbpresent": {
     "id": "bf2361f1-8944-41e5-a898-915a5ebf7b30"
    },
    "outputId": "f80c2f44-b7a4-45d4-97cf-7e7738506038"
   },
   "outputs": [],
   "source": [
    "# 비어있는 Set를 생성\n",
    "set0 = set()\n",
    "set0"
   ]
  },
  {
   "cell_type": "code",
   "execution_count": null,
   "metadata": {
    "colab": {},
    "colab_type": "code",
    "id": "-yPx_ykMrjs2",
    "nbpresent": {
     "id": "a09deb90-bf91-487f-bcbd-2f41d62876fa"
    },
    "outputId": "8af04021-6716-4f62-80c6-c22e975722e0"
   },
   "outputs": [],
   "source": [
    "# 여러 값을 저장 가능하지만, 중복은 허용하지 않음\n",
    "set1 = {1,1,2,\"2\",\"text\",\"text\",3}\n",
    "set1"
   ]
  },
  {
   "cell_type": "code",
   "execution_count": null,
   "metadata": {
    "colab": {},
    "colab_type": "code",
    "id": "xf5FnEu3rjs6",
    "nbpresent": {
     "id": "1e83b04e-277b-4e39-a5d7-6447f7c70908"
    },
    "outputId": "e552bb5e-fe87-4e65-bcdf-f619b4376514"
   },
   "outputs": [],
   "source": [
    "# set은 list나 tuple과 다르게, set 안에 list를 넣지 못함\n",
    "set2 = {1,2,[1,2,3]}"
   ]
  },
  {
   "cell_type": "code",
   "execution_count": null,
   "metadata": {
    "colab": {},
    "colab_type": "code",
    "id": "9Q8VZsnyrjs8",
    "nbpresent": {
     "id": "399a89dd-aff5-4806-9d11-094dfe0c8d84"
    }
   },
   "outputs": [],
   "source": [
    "# 하지만 tuple은 set에 추가가 가능합니다.\n",
    "set2 = {1,2,(1,2,3)}"
   ]
  },
  {
   "cell_type": "markdown",
   "metadata": {
    "colab_type": "text",
    "id": "nSTDk8oLrjs-",
    "nbpresent": {
     "id": "bacc3ba0-ac4f-4382-a047-3da08ffe5243"
    }
   },
   "source": [
    "### (2) Set을 구성하는 값 가져오기 - 불가능!\n",
    "set에는 순서가 없기 때문에 index를 통해 값을 가져올 수 없습니다. 하지만 값이 있는지는 `in`으로  확인할 수 있습니다."
   ]
  },
  {
   "cell_type": "code",
   "execution_count": null,
   "metadata": {
    "colab": {},
    "colab_type": "code",
    "id": "cXTBAflzrjs_",
    "nbpresent": {
     "id": "07a30c1b-b492-4df2-a698-8a7a38712f5d"
    },
    "outputId": "2138e79b-6b72-445d-bb47-e37eb71a2668"
   },
   "outputs": [],
   "source": [
    "set1 = {1,1,2,\"2\",\"text\",\"text\",3}\n",
    "set1[0]"
   ]
  },
  {
   "cell_type": "markdown",
   "metadata": {
    "nbpresent": {
     "id": "be1c5c6b-225a-4944-8fcd-3b94be2fe6c9"
    }
   },
   "source": [
    "`.pop()`을 통해 값 하나를 가져올 수 있습니다."
   ]
  },
  {
   "cell_type": "code",
   "execution_count": null,
   "metadata": {
    "nbpresent": {
     "id": "4b42b9ca-ebbb-493b-8a20-861e4ee9a64f"
    }
   },
   "outputs": [],
   "source": [
    "# TODO : Set 안의 값 하나 꺼내기\n"
   ]
  },
  {
   "cell_type": "code",
   "execution_count": null,
   "metadata": {
    "colab": {},
    "colab_type": "code",
    "id": "8p_Eh9Hxrjsz",
    "nbpresent": {
     "id": "c550a962-e5e7-4a1d-8ecc-98004b58fb1b"
    },
    "outputId": "5def5138-34ac-4213-a2a7-a3a9e87723e9"
   },
   "outputs": [],
   "source": [
    "# 주로 이용하는 방식은 집합에 원하는 값이 있는지 없는지를 검색할 떄 씁니다.\n",
    "set1 = {1,2,3,4,5}\n",
    "\n",
    "print('6 in set1?', 6 in set1)\n",
    "print('1 in set1?', 1 in set1)"
   ]
  },
  {
   "cell_type": "code",
   "execution_count": null,
   "metadata": {
    "nbpresent": {
     "id": "ea16fd23-4ba8-40a8-8208-43f0361355a3"
    }
   },
   "outputs": [],
   "source": [
    "# TODO : 리스트와 set 중에서 이수근이 있는지 찾는 데 걸리는 시간이 어느쪽이 더 적게 걸릴까?\n",
    "mc_lst = [\"강호동\",\"유재석\",\"신동엽\",\"김용만\",\"김국진\",\"유희열\",\n",
    "          \"박명수\",\"배철수\",\"붐\",\"송해\",\"김구라\",\"김제동\",\"이경규\"]\n",
    "mc_set = {\"강호동\",\"유재석\",\"신동엽\",\"김용만\",\"김국진\",\"유희열\",\n",
    "          \"박명수\",\"배철수\",\"붐\",\"송해\",\"김구라\",\"김제동\",\"이경규\"}\n"
   ]
  },
  {
   "cell_type": "markdown",
   "metadata": {
    "colab_type": "text",
    "id": "Ocrq_mXLrjtD",
    "nbpresent": {
     "id": "1584ae54-a6d5-4685-8ffc-587ba2d101cf"
    }
   },
   "source": [
    "### (3) Set에 값 추가하기\n",
    "Set는 `add()`와 `update()` 를 통해 값을 추가할 수 있습니다."
   ]
  },
  {
   "cell_type": "code",
   "execution_count": null,
   "metadata": {
    "colab": {},
    "colab_type": "code",
    "id": "N6ypY1F7rjtD",
    "nbpresent": {
     "id": "0af95ba4-a775-4e42-b48d-9fea85591150"
    }
   },
   "outputs": [],
   "source": [
    "set1 = {1,2,3,4,5}"
   ]
  },
  {
   "cell_type": "code",
   "execution_count": null,
   "metadata": {
    "colab": {},
    "colab_type": "code",
    "id": "dCSaYNCCrjtG",
    "nbpresent": {
     "id": "cc7e11bb-3124-4114-9fc9-4436da72ad50"
    },
    "outputId": "ec165b29-1b0c-47d6-ac57-d19d27500e90"
   },
   "outputs": [],
   "source": [
    "# TODO : add를 이용하여 6을 추가하기\n"
   ]
  },
  {
   "cell_type": "code",
   "execution_count": null,
   "metadata": {
    "colab": {},
    "colab_type": "code",
    "id": "ulMSGt7OrjtJ",
    "nbpresent": {
     "id": "b30036f7-267c-4e98-955e-3fe8c001806f"
    },
    "outputId": "caca8868-9c08-4a2d-9c4e-be39a4382043"
   },
   "outputs": [],
   "source": [
    "# TODO : update를 이용하여 7,8,9를 동시에 추가하기\n"
   ]
  },
  {
   "cell_type": "markdown",
   "metadata": {
    "colab_type": "text",
    "id": "kvRNvCOXrjtL",
    "nbpresent": {
     "id": "2b9bf9b4-9f08-4c50-b7d7-fea59a75bb42"
    }
   },
   "source": [
    "### (4) Set의 특정 원소 제거하기\n",
    "`remove()`를 이용하여 값을 제거할 수 있습니다."
   ]
  },
  {
   "cell_type": "code",
   "execution_count": null,
   "metadata": {
    "colab": {},
    "colab_type": "code",
    "id": "jzWceUxirjtO",
    "nbpresent": {
     "id": "cae34543-57ab-4337-98f1-fcec6b9138f6"
    },
    "outputId": "ebfff0c7-9f01-4856-8f0f-407974f5b6d4"
   },
   "outputs": [],
   "source": [
    "set1 = {1,2,3,4,5}\n",
    "\n",
    "# TODO : remove를 이용하여 set내의 4 를 제거하기"
   ]
  },
  {
   "cell_type": "markdown",
   "metadata": {
    "colab_type": "text",
    "id": "BgGx8MUFrjtf",
    "nbpresent": {
     "id": "553307cd-a28e-489f-8eac-3ebca49276f6"
    }
   },
   "source": [
    "## 2. Set의 연산자 및 함수\n",
    "\n",
    "\n",
    "+ set(집합)은 그 이름답게, 집합에 관련된 연산들이 구현되어 있습니다.\n",
    "+ 집합에 해당하는 연산들은 아래와 같습니다.\n",
    "\n",
    "| 연산 | 설명 |\n",
    "| --- | --- |\n",
    "| $&$   | 교집합(두 집합에 공통으로 포함된 원소) |\n",
    "| $|$   | 합집합(두 집합의 모든 원소) |\n",
    "| A-B   | 차집합(A와 B의 교집합을 제외한 A의 원소) |\n",
    "| $^$   | 여집합(합집합에서 교집합을 뺀 모든 원소)|"
   ]
  },
  {
   "cell_type": "code",
   "execution_count": null,
   "metadata": {
    "colab": {},
    "colab_type": "code",
    "id": "OXj-nwx1rjth",
    "nbpresent": {
     "id": "31c85ffd-e932-4675-a136-8bc24688ec2a"
    }
   },
   "outputs": [],
   "source": [
    "A = {1,2,3,5}\n",
    "B = {3,5,6,8,9}"
   ]
  },
  {
   "cell_type": "markdown",
   "metadata": {
    "colab_type": "text",
    "id": "VLBp7J_qrjtl",
    "nbpresent": {
     "id": "1c2d04c0-6b58-4af2-9d60-3acdd0a7bca2"
    }
   },
   "source": [
    "### (1) 교집합\n",
    "A와 B의 공통 원소를 반환합니다."
   ]
  },
  {
   "cell_type": "code",
   "execution_count": null,
   "metadata": {
    "colab": {},
    "colab_type": "code",
    "id": "aDn4E_uhrjtn",
    "nbpresent": {
     "id": "99f03da4-9e2c-4f32-81f8-582963d3b34c"
    },
    "outputId": "cf802065-8b10-4c8c-d65f-3030ab40011a"
   },
   "outputs": [],
   "source": [
    "A = {1,2,3,5}\n",
    "B = {3,5,6,8,9}\n",
    "\n",
    "A & B"
   ]
  },
  {
   "cell_type": "markdown",
   "metadata": {
    "colab_type": "text",
    "id": "VOlsJMK7rjtq",
    "nbpresent": {
     "id": "3b6df21e-8cbd-488d-b384-d5f40b3dcceb"
    }
   },
   "source": [
    "### (2) 합집합\n",
    "A와 B의 모든 원소를 반환합니다."
   ]
  },
  {
   "cell_type": "code",
   "execution_count": null,
   "metadata": {
    "colab": {},
    "colab_type": "code",
    "id": "ddiZtJnzrjts",
    "nbpresent": {
     "id": "e105ffa7-be0d-4ea7-9acb-e9df166008e5"
    },
    "outputId": "67e2009e-5d70-43bd-a569-639111fd11ea"
   },
   "outputs": [],
   "source": [
    "A = {1,2,3,5}\n",
    "B = {3,5,6,8,9}\n",
    "\n",
    "A | B"
   ]
  },
  {
   "cell_type": "markdown",
   "metadata": {
    "colab_type": "text",
    "id": "KctDKtHfrjtt",
    "nbpresent": {
     "id": "57721f93-5525-42b5-9b45-cb3af46cf990"
    }
   },
   "source": [
    "### (3) 차집합\n",
    "A집합에서 A와 B의 교집합을 제외한 원소를 반환합니다."
   ]
  },
  {
   "cell_type": "code",
   "execution_count": null,
   "metadata": {
    "colab": {},
    "colab_type": "code",
    "id": "fJ4rl-EQrjtv",
    "nbpresent": {
     "id": "4979f6c7-757e-482f-a907-74702bdaa6a6"
    },
    "outputId": "bbd0b65e-f918-4e4c-e042-c05fa9f4f606"
   },
   "outputs": [],
   "source": [
    "A = {1,2,3,5}\n",
    "B = {3,5,6,8,9}\n",
    "\n",
    "A - B"
   ]
  },
  {
   "cell_type": "markdown",
   "metadata": {
    "colab_type": "text",
    "id": "qCZ4ygxErjty",
    "nbpresent": {
     "id": "846d5d8a-5f7f-4541-a669-59f353b59057"
    }
   },
   "source": [
    "### (4) 여집합\n",
    "A와 B의 합집합에서 교집합을 뺀 모든 원소를 반환합니다."
   ]
  },
  {
   "cell_type": "code",
   "execution_count": null,
   "metadata": {
    "colab": {},
    "colab_type": "code",
    "id": "sFHlfS4Wrjtz",
    "nbpresent": {
     "id": "7eefb8ac-5da1-4689-965b-897d62d2956b"
    },
    "outputId": "13a98453-f0b1-4b57-fe56-cd09b1a8d72a"
   },
   "outputs": [],
   "source": [
    "A = {1,2,3,5}\n",
    "B = {3,5,6,8,9}\n",
    "\n",
    "A ^ B"
   ]
  },
  {
   "cell_type": "markdown",
   "metadata": {
    "nbpresent": {
     "id": "2f59843e-c5bb-44b0-b091-346f925bc5b9"
    }
   },
   "source": [
    "### (5) len으로 크기 재기\n",
    "Set 안에 있는 원소의 수를 반환합니다."
   ]
  },
  {
   "cell_type": "code",
   "execution_count": null,
   "metadata": {
    "colab": {},
    "colab_type": "code",
    "id": "R8hLsgUTrjur",
    "nbpresent": {
     "id": "f1680c60-6b08-4ba0-87da-77cd5f96b685"
    },
    "outputId": "0f79441e-85b5-470d-d913-706342f77feb"
   },
   "outputs": [],
   "source": [
    "set1 = {1,2,3,4,4,5}\n",
    "# TODO : 원소의 갯수 세기"
   ]
  },
  {
   "cell_type": "markdown",
   "metadata": {
    "nbpresent": {
     "id": "0c543e50-b2b4-4b71-83bc-8a194b833f06"
    }
   },
   "source": [
    "### (6) sorted로 정렬하기\n",
    "Set 내에 있는 원소를 정렬합니다."
   ]
  },
  {
   "cell_type": "code",
   "execution_count": null,
   "metadata": {
    "colab": {},
    "colab_type": "code",
    "id": "Gj7vf3Xfrjuy",
    "nbpresent": {
     "id": "b5c07077-e681-4384-b8fb-3ae37bdd508b"
    },
    "outputId": "8071efdd-a6ea-4d7b-9749-6665d1c725fe"
   },
   "outputs": [],
   "source": [
    "set1 = {1,2,3,4,5}\n",
    "# TODO : 정렬하기"
   ]
  },
  {
   "cell_type": "markdown",
   "metadata": {
    "colab_type": "text",
    "id": "vwbbtYVhrjt1",
    "nbpresent": {
     "id": "4f9c6921-b9ea-4217-87a4-8215f2df78af"
    }
   },
   "source": [
    "# \\[ 2. Dictionary \\]\n",
    "\n",
    "Dictionary(dict, 딕셔너리) 자료형은 **키와 값**을 한 쌍으로 가지는 자료형입니다.\n"
   ]
  },
  {
   "cell_type": "markdown",
   "metadata": {
    "colab_type": "text",
    "id": "YBtyyIHts96x",
    "nbpresent": {
     "id": "cace7417-be93-4009-8cf2-7c8877af336e"
    }
   },
   "source": [
    "## 1. Dictionary의 생성과 원소\n",
    "\n",
    "+ Dictionary 앞서 변수 생성시에 사용했던 `=`을 동일하게 사용하되, `{key: value}` 혹은 `dict()`으로 생성합니다.\n",
    "+ Dictionary 저장된 자료는 순서가 없고 키는 set과 같이 중복을 허용하지 않습니다.\n",
    "+ Value 안에는 list나 tuple, dict 등이 들어갈 수 있습니다.\n",
    "+ List에서는 index로 원하는 위치의 값에 접근했다면, Dictionary에서는 key를 이용해서 데이터를 찾을 수 있습니다.<br>\n",
    "+ list의 index는 정수여야 하는 반면, dictionary의 key에는 모든 타입을 쓸 수 있습니다."
   ]
  },
  {
   "cell_type": "markdown",
   "metadata": {
    "colab_type": "text",
    "id": "LdrsWe3Trjt3",
    "nbpresent": {
     "id": "bfddc455-7a04-4a83-aafa-ae63856535ab"
    }
   },
   "source": [
    "### (1) Dictionary 생성하기\n",
    "Dictionary는 `{key: value}` 혹은 `dict()`으로 생성합니다. Dictionary의 **key**와 **value**에는 숫자 뿐 아니라 다양한 타입의 변수를 담을 수 있습니다. "
   ]
  },
  {
   "cell_type": "code",
   "execution_count": null,
   "metadata": {
    "colab": {},
    "colab_type": "code",
    "id": "OqPMKt2Frjt4",
    "nbpresent": {
     "id": "5b1a0e21-3296-4043-a94f-5534394daac3"
    },
    "outputId": "ea091847-6dfb-4abc-a974-1699d8581131"
   },
   "outputs": [],
   "source": [
    "# 비어있는 dict를 생성\n",
    "dict0 = {} #\n",
    "dict0 = dict()\n",
    "dict0"
   ]
  },
  {
   "cell_type": "code",
   "execution_count": null,
   "metadata": {
    "colab": {},
    "colab_type": "code",
    "id": "EQ0Uw8tUrjt6",
    "nbpresent": {
     "id": "7fa32ad3-15c4-4231-b266-023a07d6cb4c"
    },
    "outputId": "5c5e5a9d-17d8-49b6-e534-e050fc669d20"
   },
   "outputs": [],
   "source": [
    "# 여러개의 key와 value들을 저장\n",
    "dict1 = {'1':'a',\n",
    "        '2':'b',\n",
    "        '3':1,\n",
    "        'c':'test'}\n",
    "dict1"
   ]
  },
  {
   "cell_type": "code",
   "execution_count": null,
   "metadata": {
    "colab": {},
    "colab_type": "code",
    "id": "xTf6d5qJrjt9",
    "nbpresent": {
     "id": "51e2435d-8aca-4a32-8122-91a1b7a53264"
    },
    "outputId": "2385eb68-e887-4576-efbd-7cda78cce4e8"
   },
   "outputs": [],
   "source": [
    "# dict의 value 안에는 list나 tuple, dict 등이 들어갈 수 있음\n",
    "dict1 = {'1':'a',\n",
    "        '2':[1,2,3,4],\n",
    "        '3':(1,2,3),\n",
    "        'c':{1:'1',2:'2'}}\n",
    "dict1"
   ]
  },
  {
   "cell_type": "markdown",
   "metadata": {
    "colab_type": "text",
    "id": "-z70LSQrrjuD",
    "nbpresent": {
     "id": "dfab3f70-1001-46ca-a07f-e070f9aa5474"
    }
   },
   "source": [
    "### (2) Dictionary에서 값 얻기\n",
    "\n",
    "Dictionary 뒤의 대괄호에 key값을 넣어 가져옵니다."
   ]
  },
  {
   "cell_type": "code",
   "execution_count": null,
   "metadata": {
    "colab": {},
    "colab_type": "code",
    "id": "G5iA8FW7rjuD",
    "nbpresent": {
     "id": "f9f66ed5-dc28-47d8-8cca-d9773d57f773"
    }
   },
   "outputs": [],
   "source": [
    "dict1 = {\"1\":\"a\",\n",
    "         \"2\":\"b\",\n",
    "         \"3\":4}"
   ]
  },
  {
   "cell_type": "code",
   "execution_count": null,
   "metadata": {
    "colab": {},
    "colab_type": "code",
    "id": "Tb1EjM8urjuF",
    "nbpresent": {
     "id": "7afc35f7-8cdc-4d23-a7a8-90d0e846b7ae"
    },
    "outputId": "1855f6bf-1199-4f4d-c246-9a8a55d8b320"
   },
   "outputs": [],
   "source": [
    "dict1['1']"
   ]
  },
  {
   "cell_type": "code",
   "execution_count": null,
   "metadata": {
    "colab": {},
    "colab_type": "code",
    "id": "64Ot5SN6rjuH",
    "nbpresent": {
     "id": "89301b32-5fa3-422f-af82-f7582ff9d45a"
    },
    "outputId": "b8b731b3-b33d-4ad7-af77-9384b1a9bbb6"
   },
   "outputs": [],
   "source": [
    "dict1[3] # 문자열과 정수형은 구분해야 함"
   ]
  },
  {
   "cell_type": "markdown",
   "metadata": {
    "nbpresent": {
     "id": "ae5112e7-82cf-4383-ad76-da98ffcd046a"
    }
   },
   "source": [
    "`in` 연산자로 해당 값이 `key`로 있는지 확인할 수 있습니다."
   ]
  },
  {
   "cell_type": "code",
   "execution_count": null,
   "metadata": {
    "colab": {},
    "colab_type": "code",
    "id": "lsYVTS-rrjuK",
    "nbpresent": {
     "id": "87b0933c-3253-48de-9635-05c38685ae3d"
    },
    "outputId": "688d084a-bdb5-42cd-b12e-a4051bfda2d1"
   },
   "outputs": [],
   "source": [
    "\"1\" in dict1"
   ]
  },
  {
   "cell_type": "code",
   "execution_count": null,
   "metadata": {
    "colab": {},
    "colab_type": "code",
    "id": "SY4SAKcjrjuN",
    "nbpresent": {
     "id": "785e4c62-e36c-480a-8f04-3051b343c704"
    },
    "outputId": "273041d4-fe5d-4058-90c4-4142f934b00a"
   },
   "outputs": [],
   "source": [
    "3 in dict1 "
   ]
  },
  {
   "cell_type": "markdown",
   "metadata": {
    "nbpresent": {
     "id": "3bb7ac5e-f97d-46af-bac5-c113613cf292"
    }
   },
   "source": [
    "Dictionary내에 있는 value중에 list가 있다면, list의 특정 위치에 있는 원소는 index로 가져올 수 있습니다."
   ]
  },
  {
   "cell_type": "code",
   "execution_count": null,
   "metadata": {
    "colab": {},
    "colab_type": "code",
    "id": "UBLfcxrArjuB",
    "nbpresent": {
     "id": "e3f50e09-e35e-40a9-80b0-1bfa2609840d"
    },
    "outputId": "531f023b-5acc-4371-8818-6642e4419d0a"
   },
   "outputs": [],
   "source": [
    "# TODO 아래 딕셔너리에서 key값이 '2'인 list의 3번째 인덱스 값 가져오기\n",
    "dict1 = {'1':'a',\n",
    "        '2':[1,2,3,4],\n",
    "        '3':(1,2,3),\n",
    "        'c':{1:'1',2:'2'}}"
   ]
  },
  {
   "cell_type": "markdown",
   "metadata": {
    "colab_type": "text",
    "id": "sNK1rVz7rjuQ",
    "nbpresent": {
     "id": "23a6a3c2-9c51-42a6-ad11-99172cbce290"
    }
   },
   "source": [
    "### (3) Dictionary에 값 추가 혹은 변경하기\n",
    "값을 추가 혹은 변경할 key를 설정하고, 새로운 값을 할당합니다."
   ]
  },
  {
   "cell_type": "code",
   "execution_count": null,
   "metadata": {
    "colab": {},
    "colab_type": "code",
    "id": "6uoWdskYrjuS",
    "nbpresent": {
     "id": "aa01cc91-9c52-4edd-8355-83f7c41d3cb5"
    },
    "outputId": "13078601-4aba-49ae-85ac-54faaf82fea7"
   },
   "outputs": [],
   "source": [
    "dict2 = {\"1\":\"a\",\"2\":\"b\",\"3\":\"4\"}\n",
    "# TODO : dict2의 key '4'에 'hello'를 추가"
   ]
  },
  {
   "cell_type": "code",
   "execution_count": null,
   "metadata": {
    "colab": {},
    "colab_type": "code",
    "id": "hBHb50AMrjuV",
    "nbpresent": {
     "id": "53e8be12-a79d-40a4-8388-d8b5222eaeb4"
    },
    "outputId": "022ba3b8-03c9-4a2c-befd-7adb51e553cd"
   },
   "outputs": [],
   "source": [
    "dict2 = {\"1\":\"a\",\"2\":\"b\",\"3\":\"4\"}\n",
    "# TODO : dict2의 key '1'에 'a' 대신 10으로 변경"
   ]
  },
  {
   "cell_type": "markdown",
   "metadata": {
    "colab_type": "text",
    "id": "DG1zYzLdrjue",
    "nbpresent": {
     "id": "eaf43354-63a1-441b-9566-215331fd4b64"
    }
   },
   "source": [
    "### (4) Dictionary의 특정 원소 제거하기\n",
    "Dictionary 안에 있는 value를 지우는 방법에는 `del` 을 이용한 방법과 `.pop()`를 이용한 방법이 있습니다."
   ]
  },
  {
   "cell_type": "code",
   "execution_count": null,
   "metadata": {
    "colab": {},
    "colab_type": "code",
    "id": "J1RFPxXyrjui",
    "nbpresent": {
     "id": "b92ae53d-6dbf-4788-9225-b3017766e17d"
    },
    "outputId": "1bede146-efa2-4828-95fe-9483480b9811"
   },
   "outputs": [],
   "source": [
    "dict2 = {\"1\":\"a\",\"2\":\"b\",\"3\":\"4\"}\n",
    "# TODO : del을 이용하여 '1'의 키 값을 가진 쌍 제거하기"
   ]
  },
  {
   "cell_type": "code",
   "execution_count": null,
   "metadata": {
    "colab": {},
    "colab_type": "code",
    "id": "zDbBBMfDrjuo",
    "nbpresent": {
     "id": "a0a4660e-d0de-43f4-9495-b398b248a3f2"
    },
    "outputId": "1b0dacd5-b0d7-4ebe-825a-2a135e28766f"
   },
   "outputs": [],
   "source": [
    "dict2 = {\"1\":\"a\",\"2\":\"b\",\"3\":\"4\"}\n",
    "# TODO : pop를 이용하여 '2'의 키 값을 가진 쌍 제거하기\n",
    "# *주의 : 만약 pop(#) : # 의 값이 dict에 존재하지 않을 경우 ValueError 가 발생합니다."
   ]
  },
  {
   "cell_type": "markdown",
   "metadata": {
    "colab_type": "text",
    "id": "7_WJAZ6WnL0d",
    "nbpresent": {
     "id": "2fd29af0-064a-4878-bee0-8d4149a1d93b"
    }
   },
   "source": [
    "## 2. Dictionary의 연산자 및 함수\n",
    "\n",
    "+ Dictionary는 list와 tuple에서 사용하는 연산자 `+`와 `*`나 함수 `zip`을 쓸 수 없습니다. \n",
    "+ 내장형 함수를 이용하여 dictionary의 길이를 측정하거나(`len()`) key를 정렬할 수 있습니다(`sorted()`)."
   ]
  },
  {
   "cell_type": "markdown",
   "metadata": {
    "colab_type": "text",
    "id": "XjCjiuJYrjur",
    "nbpresent": {
     "id": "9aa7c83f-d1e3-4b21-a633-23c5b14ae2a6"
    }
   },
   "source": [
    "### (1) len으로 크기 재기\n",
    "Dictionary 안에 몇 개의 **key**가 있는지 반환합니다."
   ]
  },
  {
   "cell_type": "code",
   "execution_count": null,
   "metadata": {
    "colab": {},
    "colab_type": "code",
    "id": "Mr5V47xJrjut",
    "nbpresent": {
     "id": "c3243819-1d77-4a56-a736-b37a8319783f"
    },
    "outputId": "c0debb69-7e05-46a8-aafb-a585deb3f58d"
   },
   "outputs": [],
   "source": [
    "dict1 = {1:2,2:[3,4,5]}\n",
    "# TODO : 몇개의 키값이 있는지 세기"
   ]
  },
  {
   "cell_type": "markdown",
   "metadata": {
    "colab_type": "text",
    "id": "Gk-kc-whrjuy",
    "nbpresent": {
     "id": "2b2069c1-f099-432d-aa77-a8827e6602b3"
    }
   },
   "source": [
    "### (2) sorted로 정렬하기\n",
    "\n",
    "Dictionary의 key만을 정렬하며 list로 반환됩니다."
   ]
  },
  {
   "cell_type": "code",
   "execution_count": null,
   "metadata": {
    "colab": {},
    "colab_type": "code",
    "id": "EtZ9reMVrju3",
    "nbpresent": {
     "id": "1fa8402e-5e77-49df-9a4f-0c827df0db8f"
    },
    "outputId": "6b85b7c0-18d5-4186-9a01-8a220a37a184"
   },
   "outputs": [],
   "source": [
    "dict1 = {\n",
    "    \"유재석\": 178,\n",
    "    \"강호동\": 182,\n",
    "    \"신동엽\": 176,\n",
    "}\n",
    "# TODO : MC들의 이름을 사전순으로 정렬하기\n"
   ]
  },
  {
   "cell_type": "markdown",
   "metadata": {
    "colab_type": "text",
    "id": "pdBjEeiyrju5",
    "nbpresent": {
     "id": "eac5fbbe-3d9c-4cb9-a7bd-b1ddf593b541"
    }
   },
   "source": [
    "#  \n",
    "\n",
    "---\n",
    "\n",
    "    Copyright(c) 2019 by Public AI. All rights reserved.\n",
    "    Writen by PAI, SeonYoul Choi ( Best10@publicai.co.kr )  last updated on 2019/02/24\n",
    "---"
   ]
  }
 ],
 "metadata": {
  "colab": {
   "collapsed_sections": [
    "3fO0qx23rjss",
    "nSTDk8oLrjs-",
    "Ocrq_mXLrjtD",
    "kvRNvCOXrjtL",
    "VXy14gFVrjtS",
    "VLBp7J_qrjtl",
    "VOlsJMK7rjtq",
    "KctDKtHfrjtt",
    "LdrsWe3Trjt3",
    "-z70LSQrrjuD",
    "sNK1rVz7rjuQ",
    "DG1zYzLdrjue",
    "XjCjiuJYrjur",
    "Gk-kc-whrjuy"
   ],
   "name": "4_Python의 자료구조(2) Set와 Dict.ipynb",
   "provenance": [],
   "toc_visible": true,
   "version": "0.3.2"
  },
  "kernelspec": {
   "display_name": "Python 3",
   "language": "python",
   "name": "python3"
  },
  "language_info": {
   "codemirror_mode": {
    "name": "ipython",
    "version": 3
   },
   "file_extension": ".py",
   "mimetype": "text/x-python",
   "name": "python",
   "nbconvert_exporter": "python",
   "pygments_lexer": "ipython3",
   "version": "3.6.6"
  },
  "nbpresent": {
   "slides": {
    "059410fa-38bd-4e57-9769-653247c33b49": {
     "id": "059410fa-38bd-4e57-9769-653247c33b49",
     "prev": "1dfb6450-9220-4bc4-83d5-d698a083c51c",
     "regions": {
      "c7cd4f27-9b48-4ad0-a0d7-4a3899258cb7": {
       "attrs": {
        "height": 0.8,
        "width": 0.8,
        "x": 0.1,
        "y": 0.1
       },
       "content": {
        "cell": "cace7417-be93-4009-8cf2-7c8877af336e",
        "part": "whole"
       },
       "id": "c7cd4f27-9b48-4ad0-a0d7-4a3899258cb7"
      }
     }
    },
    "0fab8b05-8ae4-4b5d-88e2-d1146adf5dc6": {
     "id": "0fab8b05-8ae4-4b5d-88e2-d1146adf5dc6",
     "prev": "38103b29-e020-4775-ba84-9ba224bf7eb3",
     "regions": {
      "6e3e9023-c262-4151-9304-47f2f79e78a2": {
       "attrs": {
        "height": 0.8,
        "width": 0.8,
        "x": 0.1,
        "y": 0.1
       },
       "content": {
        "cell": "2d7d9c4a-5fa5-45d5-a61f-4e9a9b77a2ca",
        "part": "whole"
       },
       "id": "6e3e9023-c262-4151-9304-47f2f79e78a2"
      }
     }
    },
    "13ccff57-2294-4ca6-8148-51754ee99341": {
     "id": "13ccff57-2294-4ca6-8148-51754ee99341",
     "prev": "31beb6f8-d146-49f6-ac40-f2c363a9588c",
     "regions": {
      "d9d85c13-fad1-481c-a14f-f6e454707533": {
       "attrs": {
        "height": 0.8,
        "width": 0.8,
        "x": 0.1,
        "y": 0.1
       },
       "content": {
        "cell": "553307cd-a28e-489f-8eac-3ebca49276f6",
        "part": "whole"
       },
       "id": "d9d85c13-fad1-481c-a14f-f6e454707533"
      }
     }
    },
    "16aef3f5-52f2-455d-8607-689a2043bafa": {
     "id": "16aef3f5-52f2-455d-8607-689a2043bafa",
     "prev": "cdd33999-bcd7-46a4-a826-32da295add44",
     "regions": {
      "0e6d85b7-3775-49a2-92e0-e92dbf86ba7a": {
       "attrs": {
        "height": 0.8,
        "width": 0.8,
        "x": 0.1,
        "y": 0.1
       },
       "content": {
        "cell": "07a30c1b-b492-4df2-a698-8a7a38712f5d",
        "part": "whole"
       },
       "id": "0e6d85b7-3775-49a2-92e0-e92dbf86ba7a"
      }
     }
    },
    "1d5b7293-b1c9-4584-b27b-6417217c6e82": {
     "id": "1d5b7293-b1c9-4584-b27b-6417217c6e82",
     "prev": "471a6698-7d73-45a4-8da8-59c972c1360f",
     "regions": {
      "1675ae80-2f7a-4839-99d3-d3b9aaac8c46": {
       "attrs": {
        "height": 0.8,
        "width": 0.8,
        "x": 0.1,
        "y": 0.1
       },
       "content": {
        "cell": "7afc35f7-8cdc-4d23-a7a8-90d0e846b7ae",
        "part": "whole"
       },
       "id": "1675ae80-2f7a-4839-99d3-d3b9aaac8c46"
      }
     }
    },
    "1dfb6450-9220-4bc4-83d5-d698a083c51c": {
     "id": "1dfb6450-9220-4bc4-83d5-d698a083c51c",
     "prev": "3b2171a2-4898-4f84-84e6-d1dbe92fb8ec",
     "regions": {
      "9808d104-d259-4f60-a89c-859e602c0af4": {
       "attrs": {
        "height": 0.8,
        "width": 0.8,
        "x": 0.1,
        "y": 0.1
       },
       "content": {
        "cell": "4f9c6921-b9ea-4217-87a4-8215f2df78af",
        "part": "whole"
       },
       "id": "9808d104-d259-4f60-a89c-859e602c0af4"
      }
     }
    },
    "2a0d146f-71dd-42ea-9862-49b90a656deb": {
     "id": "2a0d146f-71dd-42ea-9862-49b90a656deb",
     "prev": "2ccffe7b-3f08-4cc6-8e5b-c4ed3989701e",
     "regions": {
      "b85bce1b-d1ba-48f2-adae-b7a9029f2126": {
       "attrs": {
        "height": 0.8,
        "width": 0.8,
        "x": 0.1,
        "y": 0.1
       },
       "content": {
        "cell": "c86d215f-f5c0-45b7-b6d5-3a73f76d409b",
        "part": "whole"
       },
       "id": "b85bce1b-d1ba-48f2-adae-b7a9029f2126"
      }
     }
    },
    "2ccffe7b-3f08-4cc6-8e5b-c4ed3989701e": {
     "id": "2ccffe7b-3f08-4cc6-8e5b-c4ed3989701e",
     "prev": "b35ad8b5-9645-400a-807b-df8f613295a7",
     "regions": {
      "2328b292-4e02-4264-8884-dda943e5306f": {
       "attrs": {
        "height": 0.8,
        "width": 0.8,
        "x": 0.1,
        "y": 0.1
       },
       "content": {
        "cell": "10a23b63-a8b4-4947-ae49-1af7d3f93163",
        "part": "whole"
       },
       "id": "2328b292-4e02-4264-8884-dda943e5306f"
      }
     }
    },
    "2d302e8a-c83b-4e91-bc12-89c29a835df5": {
     "id": "2d302e8a-c83b-4e91-bc12-89c29a835df5",
     "prev": "4296fa65-d4a8-4a6d-9412-4c12413a449a",
     "regions": {
      "5a5af48d-731a-44b4-9fec-22914382b005": {
       "attrs": {
        "height": 0.8,
        "width": 0.8,
        "x": 0.1,
        "y": 0.1
       },
       "content": {
        "cell": "399a89dd-aff5-4806-9d11-094dfe0c8d84",
        "part": "whole"
       },
       "id": "5a5af48d-731a-44b4-9fec-22914382b005"
      }
     }
    },
    "2d5e0edb-e3d7-4b06-98c1-ca3ada595971": {
     "id": "2d5e0edb-e3d7-4b06-98c1-ca3ada595971",
     "prev": "8397f9f8-820f-4e3d-826e-b893486c946d",
     "regions": {
      "8f45ab9e-8d50-464e-a41f-d6709f0dde8d": {
       "attrs": {
        "height": 0.8,
        "width": 0.8,
        "x": 0.1,
        "y": 0.1
       },
       "content": {
        "cell": "bf2361f1-8944-41e5-a898-915a5ebf7b30",
        "part": "whole"
       },
       "id": "8f45ab9e-8d50-464e-a41f-d6709f0dde8d"
      }
     }
    },
    "31beb6f8-d146-49f6-ac40-f2c363a9588c": {
     "id": "31beb6f8-d146-49f6-ac40-f2c363a9588c",
     "prev": "594ad77e-bf96-43f6-b802-b82d204e24ec",
     "regions": {
      "9a452cc3-452b-440a-833c-10bf662b1695": {
       "attrs": {
        "height": 0.8,
        "width": 0.8,
        "x": 0.1,
        "y": 0.1
       },
       "content": {
        "cell": "cae34543-57ab-4337-98f1-fcec6b9138f6",
        "part": "whole"
       },
       "id": "9a452cc3-452b-440a-833c-10bf662b1695"
      }
     }
    },
    "38103b29-e020-4775-ba84-9ba224bf7eb3": {
     "id": "38103b29-e020-4775-ba84-9ba224bf7eb3",
     "prev": "baa32e49-ecc1-4109-a738-92d1d235769f",
     "regions": {
      "d450296d-3bc5-475c-b7ca-38a3f190eb9f": {
       "attrs": {
        "height": 0.8,
        "width": 0.8,
        "x": 0.1,
        "y": 0.1
       },
       "content": {
        "cell": "eaf43354-63a1-441b-9566-215331fd4b64",
        "part": "whole"
       },
       "id": "d450296d-3bc5-475c-b7ca-38a3f190eb9f"
      }
     }
    },
    "39593ddd-e2b7-4aa6-ad5e-d8180059b358": {
     "id": "39593ddd-e2b7-4aa6-ad5e-d8180059b358",
     "prev": "0fab8b05-8ae4-4b5d-88e2-d1146adf5dc6",
     "regions": {
      "96e47c24-10e9-44d7-a501-15a8ca3856dc": {
       "attrs": {
        "height": 0.8,
        "width": 0.8,
        "x": 0.1,
        "y": 0.1
       },
       "content": {
        "cell": "b92ae53d-6dbf-4788-9225-b3017766e17d",
        "part": "whole"
       },
       "id": "96e47c24-10e9-44d7-a501-15a8ca3856dc"
      }
     }
    },
    "3b2171a2-4898-4f84-84e6-d1dbe92fb8ec": {
     "id": "3b2171a2-4898-4f84-84e6-d1dbe92fb8ec",
     "prev": "a1f96e6d-19ea-4b09-b53d-a5d276217840",
     "regions": {
      "0f53c0eb-cac8-4b0c-84bf-ebf102b942ad": {
       "attrs": {
        "height": 0.8,
        "width": 0.8,
        "x": 0.1,
        "y": 0.1
       },
       "content": {
        "cell": "b5c07077-e681-4384-b8fb-3ae37bdd508b",
        "part": "whole"
       },
       "id": "0f53c0eb-cac8-4b0c-84bf-ebf102b942ad"
      }
     }
    },
    "40de7a1a-50f5-4673-a3b8-1862ee05204b": {
     "id": "40de7a1a-50f5-4673-a3b8-1862ee05204b",
     "prev": "b9430bc3-6415-4d4b-be65-a75ccdb8357a",
     "regions": {
      "b5e3a4c7-7000-45b8-a52b-13ec6bf39943": {
       "attrs": {
        "height": 0.8,
        "width": 0.8,
        "x": 0.1,
        "y": 0.1
       },
       "content": {
        "cell": "7fa32ad3-15c4-4231-b266-023a07d6cb4c",
        "part": "whole"
       },
       "id": "b5e3a4c7-7000-45b8-a52b-13ec6bf39943"
      }
     }
    },
    "4296fa65-d4a8-4a6d-9412-4c12413a449a": {
     "id": "4296fa65-d4a8-4a6d-9412-4c12413a449a",
     "prev": "8861c2d1-6a05-4360-8ab0-149da7739693",
     "regions": {
      "bcb5a924-c552-4657-a99a-985bf37bb6af": {
       "attrs": {
        "height": 0.8,
        "width": 0.8,
        "x": 0.1,
        "y": 0.1
       },
       "content": {
        "cell": "1e83b04e-277b-4e39-a5d7-6447f7c70908",
        "part": "whole"
       },
       "id": "bcb5a924-c552-4657-a99a-985bf37bb6af"
      }
     }
    },
    "471a6698-7d73-45a4-8da8-59c972c1360f": {
     "id": "471a6698-7d73-45a4-8da8-59c972c1360f",
     "prev": "e80db102-8ec3-4d58-998c-66733443620a",
     "regions": {
      "8e7a1079-407e-4ddc-b44b-bc70f5551996": {
       "attrs": {
        "height": 0.8,
        "width": 0.8,
        "x": 0.1,
        "y": 0.1
       },
       "content": {
        "cell": "f9f66ed5-dc28-47d8-8cca-d9773d57f773",
        "part": "whole"
       },
       "id": "8e7a1079-407e-4ddc-b44b-bc70f5551996"
      }
     }
    },
    "49918bac-238f-474a-9fe2-808115e5a955": {
     "id": "49918bac-238f-474a-9fe2-808115e5a955",
     "prev": "a611016b-b925-4e0b-ac2e-bb9fbee623f2",
     "regions": {
      "f5ff8518-d840-4d2f-a091-11e562835abf": {
       "attrs": {
        "height": 0.8,
        "width": 0.8,
        "x": 0.1,
        "y": 0.1
       },
       "content": {
        "cell": "eac5fbbe-3d9c-4cb9-a7bd-b1ddf593b541",
        "part": "whole"
       },
       "id": "f5ff8518-d840-4d2f-a091-11e562835abf"
      }
     }
    },
    "4d4e2ef2-ef2e-4360-a895-dd0365e6ca46": {
     "id": "4d4e2ef2-ef2e-4360-a895-dd0365e6ca46",
     "prev": "a78dc9f0-68b7-4c9c-8f77-0993cbc2afd0",
     "regions": {
      "f101dd6b-6850-4152-9063-09e5dcd69c9f": {
       "attrs": {
        "height": 0.8,
        "width": 0.8,
        "x": 0.1,
        "y": 0.1
       },
       "content": {
        "cell": "4979f6c7-757e-482f-a907-74702bdaa6a6",
        "part": "whole"
       },
       "id": "f101dd6b-6850-4152-9063-09e5dcd69c9f"
      }
     }
    },
    "4debda56-75cf-4b54-aac0-12cbe83eb4ae": {
     "id": "4debda56-75cf-4b54-aac0-12cbe83eb4ae",
     "prev": "b787ef9e-f990-4f58-9c70-d937341cb543",
     "regions": {
      "4c48c6fd-6897-4d02-882a-e9b2993b28f7": {
       "attrs": {
        "height": 0.8,
        "width": 0.8,
        "x": 0.1,
        "y": 0.1
       },
       "content": {
        "cell": "3b6df21e-8cbd-488d-b384-d5f40b3dcceb",
        "part": "whole"
       },
       "id": "4c48c6fd-6897-4d02-882a-e9b2993b28f7"
      }
     }
    },
    "519a1bfe-e2a0-4c3b-a7b0-49de0bf9e6b6": {
     "id": "519a1bfe-e2a0-4c3b-a7b0-49de0bf9e6b6",
     "prev": "755127e4-f766-4ea2-8252-a550f787c841",
     "regions": {
      "73df48a4-3d8a-4a11-ad30-a94f56616efe": {
       "attrs": {
        "height": 0.8,
        "width": 0.8,
        "x": 0.1,
        "y": 0.1
       },
       "content": {
        "cell": "7eefb8ac-5da1-4689-965b-897d62d2956b",
        "part": "whole"
       },
       "id": "73df48a4-3d8a-4a11-ad30-a94f56616efe"
      }
     }
    },
    "51ba46be-b360-4e1b-b73f-d7f20c1b642d": {
     "id": "51ba46be-b360-4e1b-b73f-d7f20c1b642d",
     "prev": "40de7a1a-50f5-4673-a3b8-1862ee05204b",
     "regions": {
      "5664a94c-b474-4a80-a252-95da770c1bc3": {
       "attrs": {
        "height": 0.8,
        "width": 0.8,
        "x": 0.1,
        "y": 0.1
       },
       "content": {
        "cell": "51e2435d-8aca-4a32-8122-91a1b7a53264",
        "part": "whole"
       },
       "id": "5664a94c-b474-4a80-a252-95da770c1bc3"
      }
     }
    },
    "522708fc-4b8f-4864-a0a4-53bcd811f130": {
     "id": "522708fc-4b8f-4864-a0a4-53bcd811f130",
     "prev": "2a0d146f-71dd-42ea-9862-49b90a656deb",
     "regions": {
      "6887c6ad-cd60-4f31-97e5-ee402b0e24e3": {
       "attrs": {
        "height": 0.8,
        "width": 0.8,
        "x": 0.1,
        "y": 0.1
       },
       "content": {
        "cell": "3fb67ae2-eb33-478f-906f-741b0f6a9fdb",
        "part": "whole"
       },
       "id": "6887c6ad-cd60-4f31-97e5-ee402b0e24e3"
      }
     }
    },
    "594ad77e-bf96-43f6-b802-b82d204e24ec": {
     "id": "594ad77e-bf96-43f6-b802-b82d204e24ec",
     "prev": "d231288f-cce3-465c-baac-b70ee4b33895",
     "regions": {
      "54c43887-f655-4d23-851a-0748e5351167": {
       "attrs": {
        "height": 0.8,
        "width": 0.8,
        "x": 0.1,
        "y": 0.1
       },
       "content": {
        "cell": "2b9bf9b4-9f08-4c50-b7d7-fea59a75bb42",
        "part": "whole"
       },
       "id": "54c43887-f655-4d23-851a-0748e5351167"
      }
     }
    },
    "6c1a1c96-aa13-4a09-a582-9f982960391d": {
     "id": "6c1a1c96-aa13-4a09-a582-9f982960391d",
     "prev": "f79b3633-b274-4a5c-a716-5f3e6651073d",
     "regions": {
      "ca78de5b-5278-4f06-b01f-d93c9d8b1118": {
       "attrs": {
        "height": 0.8,
        "width": 0.8,
        "x": 0.1,
        "y": 0.1
       },
       "content": {
        "cell": "785e4c62-e36c-480a-8f04-3051b343c704",
        "part": "whole"
       },
       "id": "ca78de5b-5278-4f06-b01f-d93c9d8b1118"
      }
     }
    },
    "755127e4-f766-4ea2-8252-a550f787c841": {
     "id": "755127e4-f766-4ea2-8252-a550f787c841",
     "prev": "4d4e2ef2-ef2e-4360-a895-dd0365e6ca46",
     "regions": {
      "ff1f37c5-5a3b-41a3-876c-0da90424f6c2": {
       "attrs": {
        "height": 0.8,
        "width": 0.8,
        "x": 0.1,
        "y": 0.1
       },
       "content": {
        "cell": "846d5d8a-5f7f-4541-a669-59f353b59057",
        "part": "whole"
       },
       "id": "ff1f37c5-5a3b-41a3-876c-0da90424f6c2"
      }
     }
    },
    "77fc096a-940d-46ef-beb9-4c986358f4ba": {
     "id": "77fc096a-940d-46ef-beb9-4c986358f4ba",
     "prev": "16aef3f5-52f2-455d-8607-689a2043bafa",
     "regions": {
      "76a5309a-de55-4e72-acb4-2d423d6e1721": {
       "attrs": {
        "height": 0.8,
        "width": 0.8,
        "x": 0.1,
        "y": 0.1
       },
       "content": {
        "cell": "be1c5c6b-225a-4944-8fcd-3b94be2fe6c9",
        "part": "whole"
       },
       "id": "76a5309a-de55-4e72-acb4-2d423d6e1721"
      }
     }
    },
    "7999b3f6-6e82-4fa0-9d0e-bb8b06a315f5": {
     "id": "7999b3f6-6e82-4fa0-9d0e-bb8b06a315f5",
     "prev": "a3a14ea9-fdf7-4f78-a933-d4bb40d5d97a",
     "regions": {
      "dcd6ff91-79db-43b9-b3c4-b42eceec32cc": {
       "attrs": {
        "height": 0.8,
        "width": 0.8,
        "x": 0.1,
        "y": 0.1
       },
       "content": {
        "cell": "e3f50e09-e35e-40a9-80b0-1bfa2609840d",
        "part": "whole"
       },
       "id": "dcd6ff91-79db-43b9-b3c4-b42eceec32cc"
      }
     }
    },
    "7a1723f2-b5de-4147-873a-4c13aad117b4": {
     "id": "7a1723f2-b5de-4147-873a-4c13aad117b4",
     "prev": "519a1bfe-e2a0-4c3b-a7b0-49de0bf9e6b6",
     "regions": {
      "92981176-6212-43dc-aa16-db81f0bc28cb": {
       "attrs": {
        "height": 0.8,
        "width": 0.8,
        "x": 0.1,
        "y": 0.1
       },
       "content": {
        "cell": "2f59843e-c5bb-44b0-b091-346f925bc5b9",
        "part": "whole"
       },
       "id": "92981176-6212-43dc-aa16-db81f0bc28cb"
      }
     }
    },
    "7c88d05b-a6cf-4d84-bb5a-a1b894a98586": {
     "id": "7c88d05b-a6cf-4d84-bb5a-a1b894a98586",
     "prev": "87d76b54-9151-4b92-8282-41a20a15d1b1",
     "regions": {
      "928d4793-26e8-4876-86a6-984dec670322": {
       "attrs": {
        "height": 0.8,
        "width": 0.8,
        "x": 0.1,
        "y": 0.1
       },
       "content": {
        "cell": "ae5112e7-82cf-4383-ad76-da98ffcd046a",
        "part": "whole"
       },
       "id": "928d4793-26e8-4876-86a6-984dec670322"
      }
     }
    },
    "7f5dfe50-6d00-4b99-8c53-1bbcd4b93cb3": {
     "id": "7f5dfe50-6d00-4b99-8c53-1bbcd4b93cb3",
     "prev": "d46f1685-dfc9-4f1a-ad16-81b635d070aa",
     "regions": {
      "af2d8059-c78f-4df8-b0d5-df6371af791a": {
       "attrs": {
        "height": 0.8,
        "width": 0.8,
        "x": 0.1,
        "y": 0.1
       },
       "content": {
        "cell": "cc7e11bb-3124-4114-9fc9-4436da72ad50",
        "part": "whole"
       },
       "id": "af2d8059-c78f-4df8-b0d5-df6371af791a"
      }
     }
    },
    "7fcf9c64-ec46-44eb-9d4d-bf5a9ae9408a": {
     "id": "7fcf9c64-ec46-44eb-9d4d-bf5a9ae9408a",
     "prev": "39593ddd-e2b7-4aa6-ad5e-d8180059b358",
     "regions": {
      "5b77dfb1-2b73-40eb-8dbf-54a80534a029": {
       "attrs": {
        "height": 0.8,
        "width": 0.8,
        "x": 0.1,
        "y": 0.1
       },
       "content": {
        "cell": "a0a4660e-d0de-43f4-9495-b398b248a3f2",
        "part": "whole"
       },
       "id": "5b77dfb1-2b73-40eb-8dbf-54a80534a029"
      }
     }
    },
    "8397f9f8-820f-4e3d-826e-b893486c946d": {
     "id": "8397f9f8-820f-4e3d-826e-b893486c946d",
     "prev": "522708fc-4b8f-4864-a0a4-53bcd811f130",
     "regions": {
      "51795b54-9d36-4b24-9514-95ddc294cc5b": {
       "attrs": {
        "height": 0.8,
        "width": 0.8,
        "x": 0.1,
        "y": 0.1
       },
       "content": {
        "cell": "d126a9f7-dbf5-4238-9685-20348c9b2f5f",
        "part": "whole"
       },
       "id": "51795b54-9d36-4b24-9514-95ddc294cc5b"
      }
     }
    },
    "8478bd8e-bc99-48fd-9efe-a41c5d7a6db1": {
     "id": "8478bd8e-bc99-48fd-9efe-a41c5d7a6db1",
     "prev": "7fcf9c64-ec46-44eb-9d4d-bf5a9ae9408a",
     "regions": {
      "100e93ab-1b62-49cd-a415-1e76018eecf9": {
       "attrs": {
        "height": 0.8,
        "width": 0.8,
        "x": 0.1,
        "y": 0.1
       },
       "content": {
        "cell": "2fd29af0-064a-4878-bee0-8d4149a1d93b",
        "part": "whole"
       },
       "id": "100e93ab-1b62-49cd-a415-1e76018eecf9"
      }
     }
    },
    "86c63c9d-a0c7-400f-bc97-2517e88e1b17": {
     "id": "86c63c9d-a0c7-400f-bc97-2517e88e1b17",
     "prev": "7999b3f6-6e82-4fa0-9d0e-bb8b06a315f5",
     "regions": {
      "5f69d8a7-d3b6-48cb-83f3-e1153967f0c7": {
       "attrs": {
        "height": 0.8,
        "width": 0.8,
        "x": 0.1,
        "y": 0.1
       },
       "content": {
        "cell": "23a6a3c2-9c51-42a6-ad11-99172cbce290",
        "part": "whole"
       },
       "id": "5f69d8a7-d3b6-48cb-83f3-e1153967f0c7"
      }
     }
    },
    "87d76b54-9151-4b92-8282-41a20a15d1b1": {
     "id": "87d76b54-9151-4b92-8282-41a20a15d1b1",
     "prev": "1d5b7293-b1c9-4584-b27b-6417217c6e82",
     "regions": {
      "3c76775c-9107-4300-9594-7de3bd0a990f": {
       "attrs": {
        "height": 0.8,
        "width": 0.8,
        "x": 0.1,
        "y": 0.1
       },
       "content": {
        "cell": "89301b32-5fa3-422f-af82-f7582ff9d45a",
        "part": "whole"
       },
       "id": "3c76775c-9107-4300-9594-7de3bd0a990f"
      }
     }
    },
    "8861c2d1-6a05-4360-8ab0-149da7739693": {
     "id": "8861c2d1-6a05-4360-8ab0-149da7739693",
     "prev": "2d5e0edb-e3d7-4b06-98c1-ca3ada595971",
     "regions": {
      "c8c3f3df-7c0c-49aa-8fe1-9675fa11ce8b": {
       "attrs": {
        "height": 0.8,
        "width": 0.8,
        "x": 0.1,
        "y": 0.1
       },
       "content": {
        "cell": "a09deb90-bf91-487f-bcbd-2f41d62876fa",
        "part": "whole"
       },
       "id": "c8c3f3df-7c0c-49aa-8fe1-9675fa11ce8b"
      }
     }
    },
    "8e65bd51-336e-419a-af6f-092a61c5e83f": {
     "id": "8e65bd51-336e-419a-af6f-092a61c5e83f",
     "prev": "059410fa-38bd-4e57-9769-653247c33b49",
     "regions": {
      "abd2e6ed-9671-4a99-966a-ee737dd18afa": {
       "attrs": {
        "height": 0.8,
        "width": 0.8,
        "x": 0.1,
        "y": 0.1
       },
       "content": {
        "cell": "bfddc455-7a04-4a83-aafa-ae63856535ab",
        "part": "whole"
       },
       "id": "abd2e6ed-9671-4a99-966a-ee737dd18afa"
      }
     }
    },
    "95409481-4e72-45a5-a16b-e660425ca8c0": {
     "id": "95409481-4e72-45a5-a16b-e660425ca8c0",
     "prev": "b4c9fc39-e462-4cca-8631-77d5c61a8975",
     "regions": {
      "46cca4c3-1711-4642-bc41-7bf74fc78a51": {
       "attrs": {
        "height": 0.8,
        "width": 0.8,
        "x": 0.1,
        "y": 0.1
       },
       "content": {
        "cell": "c3243819-1d77-4a56-a736-b37a8319783f",
        "part": "whole"
       },
       "id": "46cca4c3-1711-4642-bc41-7bf74fc78a51"
      }
     }
    },
    "97ae4234-39be-420e-98b1-19537db702bd": {
     "id": "97ae4234-39be-420e-98b1-19537db702bd",
     "prev": "4debda56-75cf-4b54-aac0-12cbe83eb4ae",
     "regions": {
      "293ff08e-8843-43d4-aaae-b6edafcd67bf": {
       "attrs": {
        "height": 0.8,
        "width": 0.8,
        "x": 0.1,
        "y": 0.1
       },
       "content": {
        "cell": "e105ffa7-be0d-4ea7-9acb-e9df166008e5",
        "part": "whole"
       },
       "id": "293ff08e-8843-43d4-aaae-b6edafcd67bf"
      }
     }
    },
    "a1f96e6d-19ea-4b09-b53d-a5d276217840": {
     "id": "a1f96e6d-19ea-4b09-b53d-a5d276217840",
     "prev": "a556f669-c129-4ef1-8b93-934d04e4b04b",
     "regions": {
      "ea88d844-bf5a-4a31-ad96-fcfe85a9be13": {
       "attrs": {
        "height": 0.8,
        "width": 0.8,
        "x": 0.1,
        "y": 0.1
       },
       "content": {
        "cell": "0c543e50-b2b4-4b71-83bc-8a194b833f06",
        "part": "whole"
       },
       "id": "ea88d844-bf5a-4a31-ad96-fcfe85a9be13"
      }
     }
    },
    "a3a14ea9-fdf7-4f78-a933-d4bb40d5d97a": {
     "id": "a3a14ea9-fdf7-4f78-a933-d4bb40d5d97a",
     "prev": "6c1a1c96-aa13-4a09-a582-9f982960391d",
     "regions": {
      "9e480362-60e0-44a3-9eda-acd422e09657": {
       "attrs": {
        "height": 0.8,
        "width": 0.8,
        "x": 0.1,
        "y": 0.1
       },
       "content": {
        "cell": "3bb7ac5e-f97d-46af-bac5-c113613cf292",
        "part": "whole"
       },
       "id": "9e480362-60e0-44a3-9eda-acd422e09657"
      }
     }
    },
    "a556f669-c129-4ef1-8b93-934d04e4b04b": {
     "id": "a556f669-c129-4ef1-8b93-934d04e4b04b",
     "prev": "7a1723f2-b5de-4147-873a-4c13aad117b4",
     "regions": {
      "4ad1a46a-0c52-4bff-ad33-90ca22377270": {
       "attrs": {
        "height": 0.8,
        "width": 0.8,
        "x": 0.1,
        "y": 0.1
       },
       "content": {
        "cell": "f1680c60-6b08-4ba0-87da-77cd5f96b685",
        "part": "whole"
       },
       "id": "4ad1a46a-0c52-4bff-ad33-90ca22377270"
      }
     }
    },
    "a611016b-b925-4e0b-ac2e-bb9fbee623f2": {
     "id": "a611016b-b925-4e0b-ac2e-bb9fbee623f2",
     "prev": "d479976e-d996-48d3-b98a-dfe56b58f333",
     "regions": {
      "0a96d92f-1d52-434a-92fa-522b522e85d5": {
       "attrs": {
        "height": 0.8,
        "width": 0.8,
        "x": 0.1,
        "y": 0.1
       },
       "content": {
        "cell": "1fa8402e-5e77-49df-9a4f-0c827df0db8f",
        "part": "whole"
       },
       "id": "0a96d92f-1d52-434a-92fa-522b522e85d5"
      }
     }
    },
    "a78dc9f0-68b7-4c9c-8f77-0993cbc2afd0": {
     "id": "a78dc9f0-68b7-4c9c-8f77-0993cbc2afd0",
     "prev": "97ae4234-39be-420e-98b1-19537db702bd",
     "regions": {
      "39e61237-c607-4a2c-8a07-d598beec070b": {
       "attrs": {
        "height": 0.8,
        "width": 0.8,
        "x": 0.1,
        "y": 0.1
       },
       "content": {
        "cell": "57721f93-5525-42b5-9b45-cb3af46cf990",
        "part": "whole"
       },
       "id": "39e61237-c607-4a2c-8a07-d598beec070b"
      }
     }
    },
    "adc8c2eb-25ca-4684-afec-d4bc2cc37484": {
     "id": "adc8c2eb-25ca-4684-afec-d4bc2cc37484",
     "prev": "c780ac43-a1da-4cbc-addd-94625820bdd0",
     "regions": {
      "12cf45a9-0c2c-4079-9207-42f58505ff15": {
       "attrs": {
        "height": 0.8,
        "width": 0.8,
        "x": 0.1,
        "y": 0.1
       },
       "content": {
        "cell": "1584ae54-a6d5-4685-8ffc-587ba2d101cf",
        "part": "whole"
       },
       "id": "12cf45a9-0c2c-4079-9207-42f58505ff15"
      }
     }
    },
    "b35ad8b5-9645-400a-807b-df8f613295a7": {
     "id": "b35ad8b5-9645-400a-807b-df8f613295a7",
     "prev": null,
     "regions": {
      "df4da520-7885-4227-b2a1-136a5ce3eb48": {
       "attrs": {
        "height": 0.8,
        "width": 0.8,
        "x": 0.1,
        "y": 0.1
       },
       "content": {
        "cell": "60ee7103-185e-4237-bbfd-9b681c5850a0",
        "part": "whole"
       },
       "id": "df4da520-7885-4227-b2a1-136a5ce3eb48"
      }
     }
    },
    "b4c9fc39-e462-4cca-8631-77d5c61a8975": {
     "id": "b4c9fc39-e462-4cca-8631-77d5c61a8975",
     "prev": "8478bd8e-bc99-48fd-9efe-a41c5d7a6db1",
     "regions": {
      "82ada15c-81f1-4ca8-a975-da1db8b4b5a8": {
       "attrs": {
        "height": 0.8,
        "width": 0.8,
        "x": 0.1,
        "y": 0.1
       },
       "content": {
        "cell": "9aa7c83f-d1e3-4b21-a633-23c5b14ae2a6",
        "part": "whole"
       },
       "id": "82ada15c-81f1-4ca8-a975-da1db8b4b5a8"
      }
     }
    },
    "b787ef9e-f990-4f58-9c70-d937341cb543": {
     "id": "b787ef9e-f990-4f58-9c70-d937341cb543",
     "prev": "bb8117a7-1e54-4889-802a-b9361bf0eed2",
     "regions": {
      "d1e01cad-840d-4704-99c9-49ea3a49fbfa": {
       "attrs": {
        "height": 0.8,
        "width": 0.8,
        "x": 0.1,
        "y": 0.1
       },
       "content": {
        "cell": "99f03da4-9e2c-4f32-81f8-582963d3b34c",
        "part": "whole"
       },
       "id": "d1e01cad-840d-4704-99c9-49ea3a49fbfa"
      }
     }
    },
    "b9430bc3-6415-4d4b-be65-a75ccdb8357a": {
     "id": "b9430bc3-6415-4d4b-be65-a75ccdb8357a",
     "prev": "8e65bd51-336e-419a-af6f-092a61c5e83f",
     "regions": {
      "d08801a7-3a65-4bbb-a6f6-db4ff29b8fdb": {
       "attrs": {
        "height": 0.8,
        "width": 0.8,
        "x": 0.1,
        "y": 0.1
       },
       "content": {
        "cell": "5b1a0e21-3296-4043-a94f-5534394daac3",
        "part": "whole"
       },
       "id": "d08801a7-3a65-4bbb-a6f6-db4ff29b8fdb"
      }
     }
    },
    "baa32e49-ecc1-4109-a738-92d1d235769f": {
     "id": "baa32e49-ecc1-4109-a738-92d1d235769f",
     "prev": "bbec5662-b675-4a23-9a40-6c2e92624c06",
     "regions": {
      "014fae47-34fc-4314-b2c4-a90badd0fda9": {
       "attrs": {
        "height": 0.8,
        "width": 0.8,
        "x": 0.1,
        "y": 0.1
       },
       "content": {
        "cell": "53e8be12-a79d-40a4-8388-d8b5222eaeb4",
        "part": "whole"
       },
       "id": "014fae47-34fc-4314-b2c4-a90badd0fda9"
      }
     }
    },
    "bb8117a7-1e54-4889-802a-b9361bf0eed2": {
     "id": "bb8117a7-1e54-4889-802a-b9361bf0eed2",
     "prev": "d9c924cb-8ed4-4375-a0bc-3eb2265caeb7",
     "regions": {
      "9c74bee4-9950-420d-8698-67b3441322ef": {
       "attrs": {
        "height": 0.8,
        "width": 0.8,
        "x": 0.1,
        "y": 0.1
       },
       "content": {
        "cell": "1c2d04c0-6b58-4af2-9d60-3acdd0a7bca2",
        "part": "whole"
       },
       "id": "9c74bee4-9950-420d-8698-67b3441322ef"
      }
     }
    },
    "bb917a6d-9c3d-4556-a94a-fe57128e42b8": {
     "id": "bb917a6d-9c3d-4556-a94a-fe57128e42b8",
     "prev": "d54a400f-52ed-4c30-ae06-1c62337c4fe6",
     "regions": {
      "e6e56bf9-f09c-4695-a532-f3f6ffcd9d84": {
       "attrs": {
        "height": 0.8,
        "width": 0.8,
        "x": 0.1,
        "y": 0.1
       },
       "content": {
        "cell": "c550a962-e5e7-4a1d-8ecc-98004b58fb1b",
        "part": "whole"
       },
       "id": "e6e56bf9-f09c-4695-a532-f3f6ffcd9d84"
      }
     }
    },
    "bbec5662-b675-4a23-9a40-6c2e92624c06": {
     "id": "bbec5662-b675-4a23-9a40-6c2e92624c06",
     "prev": "cb52ada5-421c-4fd3-93dd-0cafc035bbec",
     "regions": {
      "f0af4674-da42-4adf-b66c-ce93ae0a75d0": {
       "attrs": {
        "height": 0.8,
        "width": 0.8,
        "x": 0.1,
        "y": 0.1
       },
       "content": {
        "cell": "aa01cc91-9c52-4edd-8355-83f7c41d3cb5",
        "part": "whole"
       },
       "id": "f0af4674-da42-4adf-b66c-ce93ae0a75d0"
      }
     }
    },
    "c780ac43-a1da-4cbc-addd-94625820bdd0": {
     "id": "c780ac43-a1da-4cbc-addd-94625820bdd0",
     "prev": "bb917a6d-9c3d-4556-a94a-fe57128e42b8",
     "regions": {
      "833bf812-c617-4412-bcf4-ab70719614cf": {
       "attrs": {
        "height": 0.8,
        "width": 0.8,
        "x": 0.1,
        "y": 0.1
       },
       "content": {
        "cell": "ea16fd23-4ba8-40a8-8208-43f0361355a3",
        "part": "whole"
       },
       "id": "833bf812-c617-4412-bcf4-ab70719614cf"
      }
     }
    },
    "cb52ada5-421c-4fd3-93dd-0cafc035bbec": {
     "id": "cb52ada5-421c-4fd3-93dd-0cafc035bbec",
     "prev": "86c63c9d-a0c7-400f-bc97-2517e88e1b17",
     "regions": {
      "56e08cb6-d03d-450a-902b-e1a584ca0ce9": {
       "attrs": {
        "height": 0.8,
        "width": 0.8,
        "x": 0.1,
        "y": 0.1
       },
       "content": {
        "cell": "cbfa3f35-10bd-457b-a8e2-4898be8b7cd1",
        "part": "whole"
       },
       "id": "56e08cb6-d03d-450a-902b-e1a584ca0ce9"
      }
     }
    },
    "cdd33999-bcd7-46a4-a826-32da295add44": {
     "id": "cdd33999-bcd7-46a4-a826-32da295add44",
     "prev": "2d302e8a-c83b-4e91-bc12-89c29a835df5",
     "regions": {
      "6f69e9d9-84d1-4cc4-894c-9397af7573d2": {
       "attrs": {
        "height": 0.8,
        "width": 0.8,
        "x": 0.1,
        "y": 0.1
       },
       "content": {
        "cell": "bacc3ba0-ac4f-4382-a047-3da08ffe5243",
        "part": "whole"
       },
       "id": "6f69e9d9-84d1-4cc4-894c-9397af7573d2"
      }
     }
    },
    "d231288f-cce3-465c-baac-b70ee4b33895": {
     "id": "d231288f-cce3-465c-baac-b70ee4b33895",
     "prev": "7f5dfe50-6d00-4b99-8c53-1bbcd4b93cb3",
     "regions": {
      "66a5c151-58bd-425b-bf8b-a073d6b3b2c6": {
       "attrs": {
        "height": 0.8,
        "width": 0.8,
        "x": 0.1,
        "y": 0.1
       },
       "content": {
        "cell": "b30036f7-267c-4e98-955e-3fe8c001806f",
        "part": "whole"
       },
       "id": "66a5c151-58bd-425b-bf8b-a073d6b3b2c6"
      }
     }
    },
    "d46f1685-dfc9-4f1a-ad16-81b635d070aa": {
     "id": "d46f1685-dfc9-4f1a-ad16-81b635d070aa",
     "prev": "adc8c2eb-25ca-4684-afec-d4bc2cc37484",
     "regions": {
      "91671cf8-a535-4457-86a1-e3619286a8e9": {
       "attrs": {
        "height": 0.8,
        "width": 0.8,
        "x": 0.1,
        "y": 0.1
       },
       "content": {
        "cell": "0af95ba4-a775-4e42-b48d-9fea85591150",
        "part": "whole"
       },
       "id": "91671cf8-a535-4457-86a1-e3619286a8e9"
      }
     }
    },
    "d479976e-d996-48d3-b98a-dfe56b58f333": {
     "id": "d479976e-d996-48d3-b98a-dfe56b58f333",
     "prev": "95409481-4e72-45a5-a16b-e660425ca8c0",
     "regions": {
      "8fe9c7e9-8d29-4e8f-b13d-f5d23672b3ee": {
       "attrs": {
        "height": 0.8,
        "width": 0.8,
        "x": 0.1,
        "y": 0.1
       },
       "content": {
        "cell": "2b2069c1-f099-432d-aa77-a8827e6602b3",
        "part": "whole"
       },
       "id": "8fe9c7e9-8d29-4e8f-b13d-f5d23672b3ee"
      }
     }
    },
    "d54a400f-52ed-4c30-ae06-1c62337c4fe6": {
     "id": "d54a400f-52ed-4c30-ae06-1c62337c4fe6",
     "prev": "77fc096a-940d-46ef-beb9-4c986358f4ba",
     "regions": {
      "656fe2ed-e4d2-4d46-b768-1d18ca6aaa35": {
       "attrs": {
        "height": 0.8,
        "width": 0.8,
        "x": 0.1,
        "y": 0.1
       },
       "content": {
        "cell": "4b42b9ca-ebbb-493b-8a20-861e4ee9a64f",
        "part": "whole"
       },
       "id": "656fe2ed-e4d2-4d46-b768-1d18ca6aaa35"
      }
     }
    },
    "d9c924cb-8ed4-4375-a0bc-3eb2265caeb7": {
     "id": "d9c924cb-8ed4-4375-a0bc-3eb2265caeb7",
     "prev": "13ccff57-2294-4ca6-8148-51754ee99341",
     "regions": {
      "60f2c825-56b3-4e6b-b341-7b1029d69a9a": {
       "attrs": {
        "height": 0.8,
        "width": 0.8,
        "x": 0.1,
        "y": 0.1
       },
       "content": {
        "cell": "31c85ffd-e932-4675-a136-8bc24688ec2a",
        "part": "whole"
       },
       "id": "60f2c825-56b3-4e6b-b341-7b1029d69a9a"
      }
     }
    },
    "e80db102-8ec3-4d58-998c-66733443620a": {
     "id": "e80db102-8ec3-4d58-998c-66733443620a",
     "prev": "51ba46be-b360-4e1b-b73f-d7f20c1b642d",
     "regions": {
      "fc357bd6-277e-4540-946c-7f87c13d90ac": {
       "attrs": {
        "height": 0.8,
        "width": 0.8,
        "x": 0.1,
        "y": 0.1
       },
       "content": {
        "cell": "dfab3f70-1001-46ca-a07f-e070f9aa5474",
        "part": "whole"
       },
       "id": "fc357bd6-277e-4540-946c-7f87c13d90ac"
      }
     }
    },
    "f79b3633-b274-4a5c-a716-5f3e6651073d": {
     "id": "f79b3633-b274-4a5c-a716-5f3e6651073d",
     "prev": "7c88d05b-a6cf-4d84-bb5a-a1b894a98586",
     "regions": {
      "71acc01b-b5e6-4cd1-93fe-8f2aa7e59f96": {
       "attrs": {
        "height": 0.8,
        "width": 0.8,
        "x": 0.1,
        "y": 0.1
       },
       "content": {
        "cell": "87b0933c-3253-48de-9635-05c38685ae3d",
        "part": "whole"
       },
       "id": "71acc01b-b5e6-4cd1-93fe-8f2aa7e59f96"
      }
     }
    }
   },
   "themes": {
    "default": "d3a05750-9eae-4a45-80e5-37bda78b3591",
    "theme": {
     "d3a05750-9eae-4a45-80e5-37bda78b3591": {
      "id": "d3a05750-9eae-4a45-80e5-37bda78b3591",
      "palette": {
       "19cc588f-0593-49c9-9f4b-e4d7cc113b1c": {
        "id": "19cc588f-0593-49c9-9f4b-e4d7cc113b1c",
        "rgb": [
         252,
         252,
         252
        ]
       },
       "31af15d2-7e15-44c5-ab5e-e04b16a89eff": {
        "id": "31af15d2-7e15-44c5-ab5e-e04b16a89eff",
        "rgb": [
         68,
         68,
         68
        ]
       },
       "50f92c45-a630-455b-aec3-788680ec7410": {
        "id": "50f92c45-a630-455b-aec3-788680ec7410",
        "rgb": [
         155,
         177,
         192
        ]
       },
       "c5cc3653-2ee1-402a-aba2-7caae1da4f6c": {
        "id": "c5cc3653-2ee1-402a-aba2-7caae1da4f6c",
        "rgb": [
         43,
         126,
         184
        ]
       },
       "efa7f048-9acb-414c-8b04-a26811511a21": {
        "id": "efa7f048-9acb-414c-8b04-a26811511a21",
        "rgb": [
         25.118061674008803,
         73.60176211453744,
         107.4819383259912
        ]
       }
      },
      "rules": {
       "blockquote": {
        "color": "50f92c45-a630-455b-aec3-788680ec7410"
       },
       "code": {
        "font-family": "Anonymous Pro"
       },
       "h1": {
        "color": "c5cc3653-2ee1-402a-aba2-7caae1da4f6c",
        "font-family": "Lato",
        "font-size": 8
       },
       "h2": {
        "color": "c5cc3653-2ee1-402a-aba2-7caae1da4f6c",
        "font-family": "Lato",
        "font-size": 6
       },
       "h3": {
        "color": "50f92c45-a630-455b-aec3-788680ec7410",
        "font-family": "Lato",
        "font-size": 5.5
       },
       "h4": {
        "color": "c5cc3653-2ee1-402a-aba2-7caae1da4f6c",
        "font-family": "Lato",
        "font-size": 5
       },
       "h5": {
        "font-family": "Lato"
       },
       "h6": {
        "font-family": "Lato"
       },
       "h7": {
        "font-family": "Lato"
       },
       "pre": {
        "font-family": "Anonymous Pro",
        "font-size": 4
       }
      },
      "text-base": {
       "font-family": "Merriweather",
       "font-size": 4
      }
     }
    }
   }
  },
  "toc": {
   "base_numbering": 1,
   "nav_menu": {},
   "number_sections": false,
   "sideBar": true,
   "skip_h1_title": false,
   "title_cell": "Table of Contents",
   "title_sidebar": "Contents",
   "toc_cell": false,
   "toc_position": {},
   "toc_section_display": true,
   "toc_window_display": false
  },
  "varInspector": {
   "cols": {
    "lenName": 16,
    "lenType": 16,
    "lenVar": 40
   },
   "kernels_config": {
    "python": {
     "delete_cmd_postfix": "",
     "delete_cmd_prefix": "del ",
     "library": "var_list.py",
     "varRefreshCmd": "print(var_dic_list())"
    },
    "r": {
     "delete_cmd_postfix": ") ",
     "delete_cmd_prefix": "rm(",
     "library": "var_list.r",
     "varRefreshCmd": "cat(var_dic_list()) "
    }
   },
   "types_to_exclude": [
    "module",
    "function",
    "builtin_function_or_method",
    "instance",
    "_Feature"
   ],
   "window_display": false
  }
 },
 "nbformat": 4,
 "nbformat_minor": 2
}
