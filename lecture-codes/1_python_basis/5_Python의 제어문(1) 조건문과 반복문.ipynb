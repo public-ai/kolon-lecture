{
 "cells": [
  {
   "cell_type": "markdown",
   "metadata": {
    "colab_type": "text",
    "id": "bnRkfoZERYmH",
    "nbpresent": {
     "id": "3d78213a-8527-4216-a68a-823aea3421d8"
    }
   },
   "source": [
    "<i><b>Public AI</b></i>\n",
    "\n",
    "### **&nbsp;&nbsp;Week1. Python 기본기 다지기**\n",
    "# Section 5. Python에서의 제어문 (1) 조건문과 반복문\n",
    "\n",
    "제어문은 실행순서를 변경시키거나 실행할 코드에 조건을 부여하여 프로그램의 흐름을 제어합니다. Python에서 제공하는 제어문은 크게 3가지, 조건문(if) / 반복문(while) / 순회문(for)입니다. 각각의 개념과 작동 방식을 명확히 이해해야 여러 제어문을 종합적으로 사용하는 프로그램을 만들어 볼 수 있습니다. \n",
    "<br> \n",
    "Section 5에서는 조건문과 반복문 각각의 개념을 이해하고, 어떻게 작동하는지 살펴보겠습니다. "
   ]
  },
  {
   "cell_type": "markdown",
   "metadata": {
    "nbpresent": {
     "id": "7a52c633-2cc7-4902-b4e6-200956e5a144"
    }
   },
   "source": [
    "### _Objective_\n",
    "1. **제어문의 블록문** : 모든 제어문에서 기본적인 형식인 블록문을 이해합니다. <br>\n",
    "1. **조건문(if)** : 조건문을 이해하고, 실습을 통해 활용해봅니다. <br>\n",
    "2. **반복문(while)** : 반복문을 이해하고, 실습을 통해 활용해봅니다.<br>"
   ]
  },
  {
   "cell_type": "markdown",
   "metadata": {
    "nbpresent": {
     "id": "954b6ae5-6a25-4de3-9d30-3b90d7c49560"
    }
   },
   "source": [
    "<br>\n",
    "\n",
    "# \\[ 1. 제어문의 블록문 \\]\n",
    "\n",
    "\n",
    "블록문이란 연속된 코드의 묶음을 뜻합니다. 제어문에서 코드는 다수의 블록문으로 구성되어 있습니다. 블록문 안에 다수의 블록문을 넣어 중첩되는 구조를 만들 수도 있습니다. 어떤 제어문의 영향을 받느냐는 어떤 블록에 속하느냐에 따라 달라집니다."
   ]
  },
  {
   "cell_type": "markdown",
   "metadata": {
    "nbpresent": {
     "id": "ec8e920d-8728-4631-ad78-8e98414fd304"
    }
   },
   "source": [
    "<br>\n",
    "\n",
    "## 1. 블록문의 기본 구조\n",
    "\n",
    "+ Python에서는 들여쓰기(indent)로 블록을 구분합니다. Python에서는 들여쓰기에 따라 어디까지 연속된 수행문인지를 판단할 수 있습니다. 블록이 없다면 코드의 연속성이 어떤지 확인할 방법이 없습니다.\n",
    "+ 블록문을 만드는 방법은 크게 **4칸 띄어쓰기**와 **탭**있지만, Python은 탭보다는 띄어쓰기를 사용하길 권장합니다. (참고: [PEP 8: Tab or Space?](https://www.python.org/dev/peps/pep-0008/#tabs-or-spaces))\n",
    "+ 아래는 제어문 중 if 조건문의 예시입니다. \n",
    "+ 앞으로 각 제어문마다 들여쓰기의 차이로 인해 어떤 식으로 동작이 차이나는지 배워보겠습니다. \n",
    "\n",
    "``` python \n",
    "if condition_statement: # 제어문\n",
    "    print(\"조건문이 참입니다.\") # 블록문. 4칸 띄어쓰기로 들여씀\n",
    "```"
   ]
  },
  {
   "cell_type": "markdown",
   "metadata": {
    "nbpresent": {
     "id": "df654e9e-ec9e-4b5c-9fc1-5496627e7d23"
    }
   },
   "source": [
    "<br>\n",
    "\n",
    "## 2.블록문 작성시 주의사항\n",
    "\n",
    "\n",
    "+ 하나의 제어문 안에서 띄어쓰기와 탭 두 가지 방식이 혼용될 경우 오류를 반환합니다.\n",
    "+ 주피터 노트북 환경에서만 작성된 코드는 tab을 사용해도 4칸 띄어쓰기로 작동하기 때문에 오류가 발생하지 않지만, 다른 편집기에서 `.py`로 작성하면서 탭을 이용해 들여쓰기를 한 경우, 오류가 발생할 수 있음에 주의해야 합니다. "
   ]
  },
  {
   "cell_type": "code",
   "execution_count": null,
   "metadata": {
    "nbpresent": {
     "id": "b77d3edc-eba7-4fed-bbcb-279669a4f454"
    }
   },
   "outputs": [],
   "source": [
    "if True:\n",
    "\tprint('탭을 이용한 들여쓰기') # 탬만 이용한 경우 문제가 발생하지 않음"
   ]
  },
  {
   "cell_type": "code",
   "execution_count": 25,
   "metadata": {
    "nbpresent": {
     "id": "b463911f-4641-4ab8-8487-164356de7a52"
    }
   },
   "outputs": [
    {
     "ename": "IndentationError",
     "evalue": "unindent does not match any outer indentation level (<ipython-input-25-3b97be4e5393>, line 3)",
     "output_type": "error",
     "traceback": [
      "\u001b[0;36m  File \u001b[0;32m\"<ipython-input-25-3b97be4e5393>\"\u001b[0;36m, line \u001b[0;32m3\u001b[0m\n\u001b[0;31m    print('4칸 띄어쓰기를 이용한 들여쓰기') # 하나의 블록문 안에서 탭과 4칸 들여쓰기를 모두 사용하면 오류를 반환함\u001b[0m\n\u001b[0m                                                                        ^\u001b[0m\n\u001b[0;31mIndentationError\u001b[0m\u001b[0;31m:\u001b[0m unindent does not match any outer indentation level\n"
     ]
    }
   ],
   "source": [
    "if True:\n",
    "\tprint('탭을 이용한 들여쓰기')    \n",
    "    print('4칸 띄어쓰기를 이용한 들여쓰기') # 하나의 블록문 안에서 탭과 4칸 들여쓰기를 모두 사용하면 오류를 반환함"
   ]
  },
  {
   "cell_type": "markdown",
   "metadata": {
    "colab_type": "text",
    "id": "GT4iQKYiRYmM",
    "nbpresent": {
     "id": "40d073ce-20f2-46a2-96c5-6835adac0c1e"
    }
   },
   "source": [
    "<br>\n",
    "\n",
    "# \\[ 2. 조건문(if) \\]\n",
    "\n",
    "\n",
    "조건문은 조건의 만족 여부에 따라 명령문을 수행하게 만드는 제어문입니다. 조건문의 기본 구조와 조건으로 제시할 수 있는 다양한 자료형을 살펴보고, 조건문을 중첩해서 작성하면 어떻게 작동하는지 알아보겠습니다."
   ]
  },
  {
   "cell_type": "markdown",
   "metadata": {
    "colab_type": "text",
    "id": "Fvex3t1kRYm-",
    "nbpresent": {
     "id": "e202f95a-cc35-4f10-836d-02cccd4eb9b9"
    }
   },
   "source": [
    "<br>\n",
    "\n",
    "## 1. 조건문의 기본 구조\n",
    "\n",
    "\n",
    "+ Python에서 가장 기본적인 조건문은 `if`입니다. \n",
    "+ `if` 다음에 제시될 조건에는 단순히 `True`, `False`만이 아니라, 다양한 값들을 `True`와 `False`와 같이 이용할 수 있습니다.\n",
    "+ 조건문에서는 **if만 필수**이고 elif와 else는 없어도 됩니다."
   ]
  },
  {
   "cell_type": "markdown",
   "metadata": {
    "nbpresent": {
     "id": "2063618b-7874-467e-bfa8-0045d6e44b56"
    }
   },
   "source": [
    "조건문의 기본 구조는 아래와 같습니다.\n",
    "\n",
    "```python\n",
    "if 조건1: # 조건1을 만족하면 `수행할 문장1`과 `수행할 문장2` 수행\n",
    "    수행할 문장1\n",
    "    수행할 문장2\n",
    "    ...\n",
    "elif 조건2: # 조건2를 만족하면 `수행할 문장a`과 `수행할 문장b` 수행\n",
    "    수행할 문장a\n",
    "    수행할 문장b\n",
    "    ...\n",
    "else: #  두 조건 모두 만족하지 않으면 `수행할 문장A`과 `수행할 문장B` 수행\n",
    "    수행할 문장A\n",
    "    수행할 문장B\n",
    "    ...\n",
    "```"
   ]
  },
  {
   "cell_type": "markdown",
   "metadata": {
    "colab_type": "text",
    "id": "lIxgoW9wRYmW",
    "nbpresent": {
     "id": "15843b8e-82d5-442f-b39f-0e44f67a7056"
    }
   },
   "source": [
    "### (1) 조건이 \"참\" 일 때\n",
    "조건이 참일때, 블록문 안의 문장을 실행합니다. "
   ]
  },
  {
   "cell_type": "code",
   "execution_count": null,
   "metadata": {
    "colab": {
     "base_uri": "https://localhost:8080/",
     "height": 51
    },
    "colab_type": "code",
    "executionInfo": {
     "elapsed": 680,
     "status": "ok",
     "timestamp": 1551059304188,
     "user": {
      "displayName": "최선열",
      "photoUrl": "",
      "userId": "00663027191814710813"
     },
     "user_tz": -540
    },
    "id": "HiA6xmI3RYma",
    "nbpresent": {
     "id": "10261f77-1469-46bf-a410-d2d1d6b2871b"
    },
    "outputId": "56a37b07-0d9f-42d1-ce0d-380b2cf2482f"
   },
   "outputs": [],
   "source": [
    "condition_statement = True\n",
    "\n",
    "if condition_statement:\n",
    "    print(\"조건이 참입니다.\")\n",
    "\n",
    "    print(\"조건문에 해당하는 수행문은 여기까지 입니다.\")"
   ]
  },
  {
   "cell_type": "markdown",
   "metadata": {
    "colab_type": "text",
    "id": "HsZTYYePRYmz",
    "nbpresent": {
     "id": "d1bd2548-3c6e-46d3-be58-ee584431ea83"
    }
   },
   "source": [
    "### (2) 조건이 \"거짓\" 일 때\n",
    "조건이 거짓일 때, 블록문 안의 문장을 실행하지 않고 넘어갑니다. "
   ]
  },
  {
   "cell_type": "code",
   "execution_count": null,
   "metadata": {
    "colab": {},
    "colab_type": "code",
    "id": "ph6vFejgRYm0",
    "nbpresent": {
     "id": "f53181cb-57fc-48f0-97db-2b341321bc12"
    }
   },
   "outputs": [],
   "source": [
    "condition_statement = False\n",
    "\n",
    "if condition_statement:\n",
    "    print(\"조건이 참입니다.\")\n",
    "    \n",
    "    print(\"조건에 해당하는 수행문은 여기까지 입니다.\")"
   ]
  },
  {
   "cell_type": "markdown",
   "metadata": {
    "nbpresent": {
     "id": "d0149613-3725-42a1-9dff-d6105721e2d5"
    }
   },
   "source": [
    "### (3) 조건문의 블록문 작동 방식\n",
    "조건문은 4칸 들여쓰기로 들여쓴 블록문까지만 영향을 미칩니다. `print(\"조건문에 해당하는 수행문은 여기까지 입니다.\")` 구문은 조건문이 참일 때만 출력되며, 아래에서는 들여쓰기t가 되지 않았기 때문에 조건문이 거짓이었음에도 불구하고 출력되게 되었습니다."
   ]
  },
  {
   "cell_type": "code",
   "execution_count": null,
   "metadata": {
    "colab": {},
    "colab_type": "code",
    "id": "Ael7XGjgRYmq",
    "nbpresent": {
     "id": "64e5dce1-db51-410e-94fd-c7f120e4eaba"
    },
    "outputId": "88d53a25-2389-4998-c3c5-0adce5d547b1"
   },
   "outputs": [],
   "source": [
    "condition_statement = False\n",
    "\n",
    "if condition_statement:\n",
    "    print(\"조건이 참입니다.\") # 블록문\n",
    "\n",
    "print(\"이 수행문은 조건문에 해당하지 않습니다.\") # 조건문 외부"
   ]
  },
  {
   "cell_type": "markdown",
   "metadata": {
    "colab_type": "text",
    "id": "FWPzCc12RYoB",
    "nbpresent": {
     "id": "7069f694-affe-422f-9e7b-d28195d73d5c"
    }
   },
   "source": [
    "### 예시 1.) 돈으로 물건 구매하기\n",
    "\n",
    "가진 돈에 따라 편의점에서 어떤 물건을 구매할 수 있는지를 알려주는 코드를 만들어봅시다. <br>\n",
    "\n",
    "* 현재 가진 돈 : 5000\n",
    "\n",
    "* 편의점 재화 리스트\n",
    "\n",
    "| 제품 | 가격 |\n",
    "| --- | --- |\n",
    "| 콜라 | 3800|\n",
    "| 과자 | 1500 |\n",
    "| 계란 | 600 |"
   ]
  },
  {
   "cell_type": "code",
   "execution_count": 3,
   "metadata": {
    "colab": {
     "base_uri": "https://localhost:8080/",
     "height": 34
    },
    "colab_type": "code",
    "executionInfo": {
     "elapsed": 731,
     "status": "ok",
     "timestamp": 1551061756000,
     "user": {
      "displayName": "최선열",
      "photoUrl": "",
      "userId": "00663027191814710813"
     },
     "user_tz": -540
    },
    "id": "CCgJ2qSDRYoC",
    "nbpresent": {
     "id": "c7dcf69a-3227-425f-aef7-4dd8c570d268"
    },
    "outputId": "efd990a2-47fd-420a-e7cc-106530a3e80d"
   },
   "outputs": [],
   "source": [
    "money = 5000\n",
    "\n",
    "# TODO 1) 현재 돈에 따라 편의점에서 살 수 있는 제품 이름들을 출력하기"
   ]
  },
  {
   "cell_type": "code",
   "execution_count": 2,
   "metadata": {
    "colab": {},
    "colab_type": "code",
    "id": "wjlsNNwzRYoI",
    "nbpresent": {
     "id": "6d21b0f9-dc32-43a4-b285-19a37947ba2c"
    },
    "outputId": "7f4e947f-386e-47dc-be91-a1617808417c"
   },
   "outputs": [],
   "source": [
    "money = 2000\n",
    "\n",
    "# TODO 2) 현재 돈에 따라 편의점에서 살 수 있는 가장 비싼 제품 출력하기"
   ]
  },
  {
   "cell_type": "markdown",
   "metadata": {
    "colab_type": "text",
    "id": "Fvex3t1kRYm-",
    "nbpresent": {
     "id": "76ff5b87-d3a2-4cbf-acec-1d831fc82fc0"
    }
   },
   "source": [
    "## 2. 다양한 형태의 조건\n",
    "\n",
    "+ Python의 조건문 if에서는 `True`, `False` 외에도 다양한 값을 조건으로 사용할 수 있습니다. <br>\n",
    "+ `if 조건:`에서 `조건` 자리에는 논리형, 숫자형, 문자열형, 리스트형 등의 자료가 제시될 수 있습니다. <br> \n",
    "+ 각 경우마다 어떻게 참과 거짓을 판단하여 작동하는지 살펴보겠습니다. "
   ]
  },
  {
   "cell_type": "markdown",
   "metadata": {
    "colab_type": "text",
    "id": "sYWKqT-dRYm-",
    "nbpresent": {
     "id": "6d8c9aaf-89b7-47b8-b1c0-48a679d6a61d"
    }
   },
   "source": [
    "### (1) 논리형 조건에서의 참 거짓\n",
    "가장 기본적인 조건문입니다.\n",
    "\n",
    "````python\n",
    "if True:\n",
    "    print(\"참입니다.\")\n",
    "if False: # 실행되지 않음\n",
    "    print(\"거짓입니다.\")\n",
    "````"
   ]
  },
  {
   "cell_type": "code",
   "execution_count": 11,
   "metadata": {
    "colab": {},
    "colab_type": "code",
    "id": "VY3wuKzURYnN",
    "nbpresent": {
     "id": "d06095a2-ed79-4b52-b5c0-78383a69a5b7"
    },
    "outputId": "f0bc29f7-f870-4098-bc1b-2860188b11e1"
   },
   "outputs": [
    {
     "name": "stdout",
     "output_type": "stream",
     "text": [
      "x가 y보다 큽니다.\n"
     ]
    }
   ],
   "source": [
    "x = 5\n",
    "y = 2\n",
    "\n",
    "if x > y:\n",
    "    print(\"x가 y보다 큽니다.\")\n",
    "else:\n",
    "    print(\"x가 y보다 작습니다.\")"
   ]
  },
  {
   "cell_type": "markdown",
   "metadata": {
    "colab_type": "text",
    "id": "xQsI3k35RYnQ",
    "nbpresent": {
     "id": "7cda7650-be31-46ca-bc22-c8d2156658f1"
    }
   },
   "source": [
    "### (2) 숫자형 조건에서의 참거짓"
   ]
  },
  {
   "cell_type": "code",
   "execution_count": 8,
   "metadata": {
    "colab": {},
    "colab_type": "code",
    "id": "t8WuRLPtRYnR",
    "nbpresent": {
     "id": "2e464794-fa28-412d-9470-e3aa6988aa07"
    },
    "outputId": "dabc954b-8d9f-4177-af6a-d5ab6eeadbdd"
   },
   "outputs": [
    {
     "name": "stdout",
     "output_type": "stream",
     "text": [
      "1\n",
      "-3\n"
     ]
    }
   ],
   "source": [
    "if 1:\n",
    "    print(\"1\")\n",
    "    \n",
    "if 0:\n",
    "    print(\"0\")\n",
    "\n",
    "if -3:\n",
    "    print(\"-3\")"
   ]
  },
  {
   "cell_type": "markdown",
   "metadata": {
    "nbpresent": {
     "id": "c71d1380-32d2-4939-9fde-61d8bc1c3ac6"
    }
   },
   "source": [
    "숫자는 0을 제외하고는 모두 참으로 인정됩니다."
   ]
  },
  {
   "cell_type": "markdown",
   "metadata": {
    "colab_type": "text",
    "id": "Tvkw3q-JRYnZ",
    "nbpresent": {
     "id": "af0ad3a0-5570-49b3-9ab1-2450e13dc16d"
    }
   },
   "source": [
    "### (3) 문자열형 조건에서의 참 거짓"
   ]
  },
  {
   "cell_type": "code",
   "execution_count": 9,
   "metadata": {
    "colab": {},
    "colab_type": "code",
    "id": "0gZC314JRYna",
    "nbpresent": {
     "id": "43f37512-171b-48a0-8e50-54fb6af06e9c"
    },
    "outputId": "0c5a2b18-6ffe-4643-c586-8c647a93af42"
   },
   "outputs": [
    {
     "name": "stdout",
     "output_type": "stream",
     "text": [
      "hello~\n",
      "0\n"
     ]
    }
   ],
   "source": [
    "if \"hello~\":\n",
    "    print(\"hello~\")\n",
    "    \n",
    "if \"0\":\n",
    "    print(\"0\")\n",
    "    \n",
    "if \"\":\n",
    "    print(\"\")    "
   ]
  },
  {
   "cell_type": "markdown",
   "metadata": {
    "nbpresent": {
     "id": "ff14e0ad-d2fe-46d2-aff7-8ae478e023d7"
    }
   },
   "source": [
    "빈 문자열을 제외하고 모두 참으로 인정됩니다."
   ]
  },
  {
   "cell_type": "markdown",
   "metadata": {
    "colab_type": "text",
    "id": "rGXyh-FRRYns",
    "nbpresent": {
     "id": "8c7177e9-cb05-4d18-b6c1-4aa475781f23"
    }
   },
   "source": [
    "### (4) 리스트 조건에서의 참 거짓"
   ]
  },
  {
   "cell_type": "code",
   "execution_count": 10,
   "metadata": {
    "colab": {
     "base_uri": "https://localhost:8080/",
     "height": 34
    },
    "colab_type": "code",
    "executionInfo": {
     "elapsed": 1346,
     "status": "ok",
     "timestamp": 1551061610069,
     "user": {
      "displayName": "최선열",
      "photoUrl": "",
      "userId": "00663027191814710813"
     },
     "user_tz": -540
    },
    "id": "oO80YGgORYns",
    "nbpresent": {
     "id": "47938735-a396-4c40-862b-4c8a6fa70bc3"
    },
    "outputId": "1655ae4b-072f-4c6e-d43d-f6599ac9c318"
   },
   "outputs": [
    {
     "name": "stdout",
     "output_type": "stream",
     "text": [
      "[1,2,3] 통과\n"
     ]
    }
   ],
   "source": [
    "lst = [1,2,3]\n",
    "\n",
    "if lst:\n",
    "    print(\"[1,2,3] 통과\")\n",
    "    \n",
    "    \n",
    "lst = []\n",
    "\n",
    "if lst:\n",
    "    print(\"[] 통과\")    "
   ]
  },
  {
   "cell_type": "markdown",
   "metadata": {
    "nbpresent": {
     "id": "7a6bb900-3331-45a3-9b32-7de3dd683d95"
    }
   },
   "source": [
    "빈 리스트을 제외하고 모두 참으로 인정됩니다."
   ]
  },
  {
   "cell_type": "markdown",
   "metadata": {
    "colab_type": "text",
    "id": "2I-zVdA8RYoR",
    "nbpresent": {
     "id": "618588aa-c258-4ed6-b3aa-822ec2d5bf83"
    }
   },
   "source": [
    "## 3. 중첩 조건문\n",
    "\n",
    "+ 조건문 안에 조건문을 작성할 때는 4칸 들여쓰기를 한 번 더 해줍니다. \n",
    "+ 중첩된 조건문은 중첩된 순서에 따라 동작을 평가합니다. \n",
    "+ 두 가지 이상의 조건이 있는 예시를 살펴보며 어떻게 작동하는지 살펴보겠습니다.<br>\n",
    "\n",
    "````python\n",
    "if condition_statement1:\n",
    "    첫번째 조건이 통과되었을 때 실행\n",
    "    \n",
    "    if condition_statment2:\n",
    "        첫번째 조건과 두번째 조건이 동시에 통과되었을 때 실행\n",
    "````"
   ]
  },
  {
   "cell_type": "markdown",
   "metadata": {
    "nbpresent": {
     "id": "15f1b755-e32d-445f-9c76-c5a30dc6e270"
    }
   },
   "source": [
    "### 예시 2) 허용된 예산과 칼로리 안에서 콜라 구매 여부 결정하기\n",
    "현재 가진 돈(`money`)과 자신에게 허용된 칼로리(`calorie`)에 따라 콜라의 구매를 결정해봅시다. \n",
    "\n",
    "* 콜라 가격 : 1000<br>\n",
    "* 콜라 칼로리 :  500<br>"
   ]
  },
  {
   "cell_type": "code",
   "execution_count": 12,
   "metadata": {
    "colab": {},
    "colab_type": "code",
    "id": "oefbkmr6RYoR",
    "nbpresent": {
     "id": "e7469440-1c73-4280-8ca4-a1353a93b6f4"
    },
    "outputId": "3b61d1ff-fd75-4002-decc-e0b431611f4d"
   },
   "outputs": [],
   "source": [
    "money = 3800  # 현재 잔고\n",
    "calorie = 1000 # 오늘 허용된 칼로리\n"
   ]
  },
  {
   "cell_type": "markdown",
   "metadata": {
    "colab_type": "text",
    "id": "iUTMMJj2RYop",
    "nbpresent": {
     "id": "8ceb240d-867d-41c8-9ec3-2a93bc5f4b1e"
    }
   },
   "source": [
    "<br>\n",
    "\n",
    "# \\[ 2. 반복문(while) \\]\n",
    "\n",
    "\n",
    "반복문은 `조건문`의 조건이 충족될때까지 `수행할 문장`에 제시된 코드를 반복하는 제어문입니다. 반복문의 기본 구조는 아래와 같습니다. while문은 조건이 참인 동안에 while 문 아래에 속하는 문장들이 반복해서 수행됩니다."
   ]
  },
  {
   "cell_type": "markdown",
   "metadata": {
    "colab_type": "text",
    "id": "CmWL7r_-hE_0",
    "nbpresent": {
     "id": "295fd482-57a6-49d1-8d24-f852fda468c1"
    }
   },
   "source": [
    "## 1. 반복문 살펴보기\n",
    "\n",
    "\n",
    "+ Python에서 가장 기본적인 반복문은 `while` 구문입니다. <br>\n",
    "+ `while` 다음에 제시되는 조건이 참인 동안에 `수행할 문장`을 반복해서 실행하게 됩니다. <br>\n",
    "+ `조건`에는 앞서 `조건문 if`에서 논리형 자료 외에도 숫자형, 문자열형, 리스트형 등의 자료의 참과 거짓을 판단하는 방법이 동일하게 적용됩니다.<br>\n",
    "<br>\n",
    "반복문의 기본 구조는 다음과 같습니다. \n",
    "```python\n",
    "while 조건:\n",
    "    수행할 문장1\n",
    "    수행할 문장2\n",
    "    수행할 문장3\n",
    "    ...\n",
    "```\n",
    "\n"
   ]
  },
  {
   "cell_type": "markdown",
   "metadata": {
    "colab_type": "text",
    "id": "aWyDaIK2RYoq",
    "nbpresent": {
     "id": "2010e98e-c62b-4205-9151-602182e7181e"
    }
   },
   "source": [
    "### 예시 3.) 10부터 1까지 출력하는 카운터\n",
    "\n",
    "`조건`인 `counter`에서 사용하는 변수의 값을 바뀌면서 10부터 1까지 차례대로 하나씩 값을 출력하는 카운터 프로그램을 만들어 봅시다. <br> "
   ]
  },
  {
   "cell_type": "code",
   "execution_count": 14,
   "metadata": {
    "colab": {
     "base_uri": "https://localhost:8080/",
     "height": 187
    },
    "colab_type": "code",
    "executionInfo": {
     "elapsed": 601,
     "status": "ok",
     "timestamp": 1551062455486,
     "user": {
      "displayName": "최선열",
      "photoUrl": "",
      "userId": "00663027191814710813"
     },
     "user_tz": -540
    },
    "id": "at6_KarJRYoq",
    "nbpresent": {
     "id": "a75390ed-f257-44f0-b12d-ac1b943e913f"
    },
    "outputId": "83a14c02-3f49-4225-a69e-b6b76e794c74"
   },
   "outputs": [],
   "source": [
    "counter = 10\n",
    "# TODO : while 문을 이용해 10부터 1까지 순차대로 출력하는 카운터 만들기"
   ]
  },
  {
   "cell_type": "markdown",
   "metadata": {
    "colab_type": "text",
    "id": "CmWL7r_-hE_0",
    "nbpresent": {
     "id": "84e95549-7a22-4e01-942f-c73d2eeccd1e"
    }
   },
   "source": [
    "<br>\n",
    "\n",
    "## 2. 반복문의 다양한 형태\n",
    "\n",
    "+ 반복문은 조건이 계속 참이면 끝없이 문장을 실행하게 됩니다. 이런 **무한루프**에 빠지지 않도록 주의해야 합니다. \n",
    "+ 반복문 `while`은 조건문`if`와 함께 사용할 수 있습니다. `if`에서 배운 `continue`와 `break`가 이 경우에는 어떻게 작동하는지 정확히 이해하고 있어야 합니다. "
   ]
  },
  {
   "cell_type": "markdown",
   "metadata": {
    "colab_type": "text",
    "id": "POmc0VrqRYo8",
    "nbpresent": {
     "id": "6bacf76a-11dc-472f-901b-8d127409d578"
    }
   },
   "source": [
    "### (1) 무한루프\n",
    "\n",
    "조건이 계속 참인 경우에는, **무한 루프**라는 현상이 발생하여 파이썬 프로그램이 해당 연산만 끝없이 수행하게 됩니다. 이럴 경우, 강제로 해당 Cell을 정지시켜주어야 합니다."
   ]
  },
  {
   "cell_type": "code",
   "execution_count": null,
   "metadata": {
    "nbpresent": {
     "id": "1c79b475-420f-4155-acdd-0e99c8b65dd4"
    }
   },
   "outputs": [],
   "source": [
    "while True:\n",
    "    # 조건문이 계속 참이므로, 무한 루프 상태에 빠지게 됨\n",
    "    print(\"hello!!!\")"
   ]
  },
  {
   "cell_type": "markdown",
   "metadata": {
    "colab_type": "text",
    "id": "f0y2S7TPRYov",
    "nbpresent": {
     "id": "ea67f0a5-2825-4421-9428-d7980d183e54"
    }
   },
   "source": [
    "### (2) 반복문에서의 조건문\n",
    "\n",
    "`while`문에서 사용되는 **조건문**은 if 조건문에서와 같이 꼭 `True`나 `False` 값이 아니어도 됩니다. 아래와 같이 변수에 값이 비어있거나 0이 아니면 while문은 반복됩니다. "
   ]
  },
  {
   "cell_type": "code",
   "execution_count": 15,
   "metadata": {
    "colab": {
     "base_uri": "https://localhost:8080/",
     "height": 102
    },
    "colab_type": "code",
    "executionInfo": {
     "elapsed": 684,
     "status": "ok",
     "timestamp": 1551062493569,
     "user": {
      "displayName": "최선열",
      "photoUrl": "",
      "userId": "00663027191814710813"
     },
     "user_tz": -540
    },
    "id": "5X4oq6y_RYow",
    "nbpresent": {
     "id": "1bc556de-0707-43f6-b808-71d28703faa6"
    },
    "outputId": "f323bc76-3581-48c7-fd07-fa3e9c3cc635"
   },
   "outputs": [
    {
     "name": "stdout",
     "output_type": "stream",
     "text": [
      "5 [1, 2, 3, 4]\n",
      "4 [1, 2, 3]\n",
      "3 [1, 2]\n",
      "2 [1]\n",
      "1 []\n"
     ]
    }
   ],
   "source": [
    "a = [1,2,3,4,5]\n",
    "\n",
    "while a:\n",
    "    print(a.pop(), a)"
   ]
  },
  {
   "cell_type": "code",
   "execution_count": 18,
   "metadata": {
    "colab": {
     "base_uri": "https://localhost:8080/",
     "height": 102
    },
    "colab_type": "code",
    "executionInfo": {
     "elapsed": 543,
     "status": "ok",
     "timestamp": 1551062493570,
     "user": {
      "displayName": "최선열",
      "photoUrl": "",
      "userId": "00663027191814710813"
     },
     "user_tz": -540
    },
    "id": "G9w-K5ciRYo1",
    "nbpresent": {
     "id": "677235cc-3912-4c43-bb3d-bb1c528a9063"
    },
    "outputId": "ae7f94ff-f2b6-483b-ec43-7cd915d565a8"
   },
   "outputs": [
    {
     "name": "stdout",
     "output_type": "stream",
     "text": [
      "5\n",
      "4\n",
      "3\n",
      "2\n",
      "1\n"
     ]
    }
   ],
   "source": [
    "a = 5\n",
    "\n",
    "while a:\n",
    "    print(a)\n",
    "    a = a - 1"
   ]
  },
  {
   "cell_type": "markdown",
   "metadata": {
    "colab_type": "text",
    "id": "0igPaE8SRYo_",
    "nbpresent": {
     "id": "60ca9ebb-72c9-4778-b40b-ea5519792236"
    }
   },
   "source": [
    "### (3) 반복문에서의 `break`\n",
    "\n",
    "반복문에서 빠져나가기 위해서는, `break` 구문을 이용하면 됩니다. 무한 루프 상황에서`break`를 사용해보겠습니다. "
   ]
  },
  {
   "cell_type": "code",
   "execution_count": null,
   "metadata": {
    "colab": {},
    "colab_type": "code",
    "id": "wcM5qoANRYo_",
    "nbpresent": {
     "id": "efff7bb6-1ca8-4c0c-af6f-759f994eb5d9"
    },
    "outputId": "2c5b34dc-8157-41cf-e3fa-c6fa5cb2cd1d"
   },
   "outputs": [],
   "source": [
    "count = 5\n",
    "\n",
    "while True:\n",
    "    # 조건문이 계속 참이므로, 무한 루프 상태에 빠지게 됨\n",
    "    print(\"hello!!!\")\n",
    "    count = count - 1 # count가 하나씩 차감됨\n",
    "    if count == 0:\n",
    "        # count가 0이 되는 순간 break로 반복문 탈출\n",
    "        break"
   ]
  },
  {
   "cell_type": "markdown",
   "metadata": {
    "nbpresent": {
     "id": "0e0b27b1-2b95-4352-a9a6-cff6248f7ee6"
    }
   },
   "source": [
    "### (4) 반복문에서의 `continue`\n",
    "\n",
    "반복문에서 `continue`는 이후 실행할 구문을 건너뛰게 해줍니다."
   ]
  },
  {
   "cell_type": "code",
   "execution_count": null,
   "metadata": {
    "nbpresent": {
     "id": "df0b1f80-148e-429c-a77d-d4465e9c61e9"
    }
   },
   "outputs": [],
   "source": [
    "count = 5\n",
    "\n",
    "while count:\n",
    "    count = count - 1 # count가 하나씩 차감됨\n",
    "    \n",
    "    if count % 2 == 0:\n",
    "        # count가 홀수 일때는 출력 생략하고 다시 처음으로 올라감\n",
    "        continue\n",
    "        \n",
    "    print(\"counter : \", count)"
   ]
  },
  {
   "cell_type": "markdown",
   "metadata": {
    "colab_type": "text",
    "id": "EDCnf6BBRYpE",
    "nbpresent": {
     "id": "b9b56674-1cf0-49f6-8dd6-bc4073414c72"
    }
   },
   "source": [
    "### 예시 4.) 음료수 행사 기계\n",
    "\n",
    "이번에는 음료수 행사 기계를 예로 들어 지금까지 살펴본 `while` 반복문에서의 `if`, `break`, `continue` 활용 방법을 살펴보겠습니다. <br>\n",
    "100개만큼 재고가 있는 음료수 기계가 있습니다. 이 기계는 사람들이 원하는 만큼 음료수를 줍니다. 그 기계에 들어갈 프로그램을 한번 짜봅시다. "
   ]
  },
  {
   "cell_type": "code",
   "execution_count": null,
   "metadata": {
    "nbpresent": {
     "id": "2671323c-6285-4f7a-9e69-56016bbf2f82"
    }
   },
   "outputs": [],
   "source": [
    "num_drink = 100\n",
    "\n",
    "while True:\n",
    "    # 사용자로부터 입력을 받는 부분\n",
    "    purchase = int(input(\"입력한 숫자만큼 음료수를 드립니다.\"))\n",
    "    # TODO 1) 현재 재고가 충분한지 확인, 충분하지 않으면 동작을 종료\n",
    "    \n",
    "    # TODO 2) 충분하다면, 물건을 꺼내주고 물건 갯수를 출력 \n",
    "    # ex) \"3개를 가져왔습니다. 남은 재고는 97개 입니다\"\n",
    "    "
   ]
  },
  {
   "cell_type": "markdown",
   "metadata": {
    "colab_type": "text",
    "id": "XA1YHpeURYpH",
    "nbpresent": {
     "id": "145911a8-bceb-4156-be1f-28e8c655213f"
    }
   },
   "source": [
    "#  \n",
    "\n",
    "<hr>\n",
    "\n",
    "Copyright(c) 2019 by Public AI. All rights reserved.<br>\n",
    "Writen by PAI, SangJae Kang ( rocketgrowthsj@publicai.co.kr )  last updated on 2019/02/25\n",
    "<hr>"
   ]
  }
 ],
 "metadata": {
  "colab": {
   "collapsed_sections": [
    "lIxgoW9wRYmW",
    "HsZTYYePRYmz",
    "sYWKqT-dRYm-",
    "xQsI3k35RYnQ",
    "Tvkw3q-JRYnZ",
    "rGXyh-FRRYns",
    "FWPzCc12RYoB",
    "2I-zVdA8RYoR",
    "aWyDaIK2RYoq",
    "f0y2S7TPRYov",
    "POmc0VrqRYo8",
    "0igPaE8SRYo_",
    "EDCnf6BBRYpE"
   ],
   "name": "5_Python의 제어문(1) 조건문과 반복문.ipynb",
   "provenance": [],
   "toc_visible": true,
   "version": "0.3.2"
  },
  "kernelspec": {
   "display_name": "Python 3",
   "language": "python",
   "name": "python3"
  },
  "language_info": {
   "codemirror_mode": {
    "name": "ipython",
    "version": 3
   },
   "file_extension": ".py",
   "mimetype": "text/x-python",
   "name": "python",
   "nbconvert_exporter": "python",
   "pygments_lexer": "ipython3",
   "version": "3.6.6"
  },
  "nbpresent": {
   "slides": {
    "0094bf9b-cfc1-40c9-a218-10055e9f0f0d": {
     "id": "0094bf9b-cfc1-40c9-a218-10055e9f0f0d",
     "prev": "b1c3a9c8-1fa8-442d-94bf-ea36d7a7e079",
     "regions": {
      "808fd06d-75b8-4841-8676-3e54a549a2ab": {
       "attrs": {
        "height": 0.8,
        "width": 0.8,
        "x": 0.1,
        "y": 0.1
       },
       "content": {
        "cell": "15f1b755-e32d-445f-9c76-c5a30dc6e270",
        "part": "whole"
       },
       "id": "808fd06d-75b8-4841-8676-3e54a549a2ab"
      }
     }
    },
    "0192621a-4891-4281-a784-6d514fb35f77": {
     "id": "0192621a-4891-4281-a784-6d514fb35f77",
     "prev": "d5271d4e-2918-4383-8300-d248a9360078",
     "regions": {
      "5d479665-a362-454d-901b-5705a12c779c": {
       "attrs": {
        "height": 0.8,
        "width": 0.8,
        "x": 0.1,
        "y": 0.1
       },
       "content": {
        "cell": "2e464794-fa28-412d-9470-e3aa6988aa07",
        "part": "whole"
       },
       "id": "5d479665-a362-454d-901b-5705a12c779c"
      }
     }
    },
    "06a0f8a8-8272-4645-a1e5-2d158a2ec88f": {
     "id": "06a0f8a8-8272-4645-a1e5-2d158a2ec88f",
     "prev": "5d3917a9-cc3d-432c-bc50-c68899152ceb",
     "regions": {
      "4fde10cf-c267-4e40-8e23-54dcff6fffd5": {
       "attrs": {
        "height": 0.8,
        "width": 0.8,
        "x": 0.1,
        "y": 0.1
       },
       "content": {
        "cell": "64e5dce1-db51-410e-94fd-c7f120e4eaba",
        "part": "whole"
       },
       "id": "4fde10cf-c267-4e40-8e23-54dcff6fffd5"
      }
     }
    },
    "0be846d9-96eb-406b-908f-b9365461d5a5": {
     "id": "0be846d9-96eb-406b-908f-b9365461d5a5",
     "prev": "06a0f8a8-8272-4645-a1e5-2d158a2ec88f",
     "regions": {
      "4e0837be-793f-4f44-bcab-bb959014091f": {
       "attrs": {
        "height": 0.8,
        "width": 0.8,
        "x": 0.1,
        "y": 0.1
       },
       "content": {
        "cell": "7069f694-affe-422f-9e7b-d28195d73d5c",
        "part": "whole"
       },
       "id": "4e0837be-793f-4f44-bcab-bb959014091f"
      }
     }
    },
    "0c2db91c-fe71-48de-803e-89b2eba0f807": {
     "id": "0c2db91c-fe71-48de-803e-89b2eba0f807",
     "prev": "7d2a3422-5954-46de-a1ad-b59537e55a45",
     "regions": {
      "c967736b-f731-492c-ba57-c3e3ad5a29ef": {
       "attrs": {
        "height": 0.8,
        "width": 0.8,
        "x": 0.1,
        "y": 0.1
       },
       "content": {
        "cell": "6bacf76a-11dc-472f-901b-8d127409d578",
        "part": "whole"
       },
       "id": "c967736b-f731-492c-ba57-c3e3ad5a29ef"
      }
     }
    },
    "0d23e0e3-2811-46a7-ac9e-d598eae1f919": {
     "id": "0d23e0e3-2811-46a7-ac9e-d598eae1f919",
     "prev": "ee8303d8-cc20-40ae-b19b-8b9eae06cd8c",
     "regions": {
      "7d87c3d2-60b0-4d88-b94d-1218beff244f": {
       "attrs": {
        "height": 0.8,
        "width": 0.8,
        "x": 0.1,
        "y": 0.1
       },
       "content": {
        "cell": "677235cc-3912-4c43-bb3d-bb1c528a9063",
        "part": "whole"
       },
       "id": "7d87c3d2-60b0-4d88-b94d-1218beff244f"
      }
     }
    },
    "148502a8-9a27-4bbc-aaf8-26d02d2b7a39": {
     "id": "148502a8-9a27-4bbc-aaf8-26d02d2b7a39",
     "prev": "c9fe8b8b-407a-4922-b960-501aefe306ff",
     "regions": {
      "2f041de8-a37a-4caf-bd54-8238e904c40d": {
       "attrs": {
        "height": 0.8,
        "width": 0.8,
        "x": 0.1,
        "y": 0.1
       },
       "content": {
        "cell": "ea67f0a5-2825-4421-9428-d7980d183e54",
        "part": "whole"
       },
       "id": "2f041de8-a37a-4caf-bd54-8238e904c40d"
      }
     }
    },
    "26ae0616-b7c8-400a-bcb1-45e5a9ae65f3": {
     "id": "26ae0616-b7c8-400a-bcb1-45e5a9ae65f3",
     "prev": "c1c5dd72-fa62-47ba-91ff-f7c5acb6121e",
     "regions": {
      "5e70ebf7-3805-4055-9976-7ac57e24c21b": {
       "attrs": {
        "height": 0.8,
        "width": 0.8,
        "x": 0.1,
        "y": 0.1
       },
       "content": {
        "cell": "ec8e920d-8728-4631-ad78-8e98414fd304",
        "part": "whole"
       },
       "id": "5e70ebf7-3805-4055-9976-7ac57e24c21b"
      }
     }
    },
    "2db71f28-0358-49af-af32-11de283e68c8": {
     "id": "2db71f28-0358-49af-af32-11de283e68c8",
     "prev": "857ebb12-7eff-4f2c-8c0f-2733141ae9c5",
     "regions": {
      "49fd63f3-4f8c-42ac-82ab-4108749c014b": {
       "attrs": {
        "height": 0.8,
        "width": 0.8,
        "x": 0.1,
        "y": 0.1
       },
       "content": {
        "cell": "0e0b27b1-2b95-4352-a9a6-cff6248f7ee6",
        "part": "whole"
       },
       "id": "49fd63f3-4f8c-42ac-82ab-4108749c014b"
      }
     }
    },
    "2f1b0eda-2b4d-4787-b246-0049619f0b41": {
     "id": "2f1b0eda-2b4d-4787-b246-0049619f0b41",
     "prev": "c2b03bfc-ea4a-49a4-bc3a-e3d3ef5cebcd",
     "regions": {
      "c0875cde-4c53-4c66-bab6-8fe49a98d86a": {
       "attrs": {
        "height": 0.8,
        "width": 0.8,
        "x": 0.1,
        "y": 0.1
       },
       "content": {
        "cell": "295fd482-57a6-49d1-8d24-f852fda468c1",
        "part": "whole"
       },
       "id": "c0875cde-4c53-4c66-bab6-8fe49a98d86a"
      }
     }
    },
    "4a827fbb-b366-4f8c-9d0f-68c120dbeaf0": {
     "id": "4a827fbb-b366-4f8c-9d0f-68c120dbeaf0",
     "prev": "cd576ce8-4f20-49f2-9841-685f5bcea8f7",
     "regions": {
      "37309314-82e9-4e2a-9827-49166bf9b976": {
       "attrs": {
        "height": 0.8,
        "width": 0.8,
        "x": 0.1,
        "y": 0.1
       },
       "content": {
        "cell": "43f37512-171b-48a0-8e50-54fb6af06e9c",
        "part": "whole"
       },
       "id": "37309314-82e9-4e2a-9827-49166bf9b976"
      }
     }
    },
    "55ae080f-ca47-4ca0-841b-d19b34ccca80": {
     "id": "55ae080f-ca47-4ca0-841b-d19b34ccca80",
     "prev": "853c64dd-0fec-4f90-97ef-d2ef5e4c2e02",
     "regions": {
      "61686d87-8323-4c88-a215-620c8768f47f": {
       "attrs": {
        "height": 0.8,
        "width": 0.8,
        "x": 0.1,
        "y": 0.1
       },
       "content": {
        "cell": "7a6bb900-3331-45a3-9b32-7de3dd683d95",
        "part": "whole"
       },
       "id": "61686d87-8323-4c88-a215-620c8768f47f"
      }
     }
    },
    "576c189f-59f9-4a13-a331-a35b68bfb4a6": {
     "id": "576c189f-59f9-4a13-a331-a35b68bfb4a6",
     "prev": "f9596766-2fc0-4515-a3a5-6bfd8b75ea3e",
     "regions": {
      "397d9cc6-c417-47f0-9ef0-fc4c201ee057": {
       "attrs": {
        "height": 0.8,
        "width": 0.8,
        "x": 0.1,
        "y": 0.1
       },
       "content": {
        "cell": "6d8c9aaf-89b7-47b8-b1c0-48a679d6a61d",
        "part": "whole"
       },
       "id": "397d9cc6-c417-47f0-9ef0-fc4c201ee057"
      }
     }
    },
    "59699a0c-c974-4913-ad63-ea820feba64f": {
     "id": "59699a0c-c974-4913-ad63-ea820feba64f",
     "prev": "26ae0616-b7c8-400a-bcb1-45e5a9ae65f3",
     "regions": {
      "5a3879c8-c9c6-461f-8b8b-b0a26a3384bb": {
       "attrs": {
        "height": 0.8,
        "width": 0.8,
        "x": 0.1,
        "y": 0.1
       },
       "content": {
        "cell": "df654e9e-ec9e-4b5c-9fc1-5496627e7d23",
        "part": "whole"
       },
       "id": "5a3879c8-c9c6-461f-8b8b-b0a26a3384bb"
      }
     }
    },
    "5bc5236f-c460-47d8-91c4-dbba7e1fd66d": {
     "id": "5bc5236f-c460-47d8-91c4-dbba7e1fd66d",
     "prev": "7e6a56f7-37e0-440a-88c6-02329c88e6b1",
     "regions": {
      "fe8fa794-0cb2-43f8-8b8d-9d9bc82772e4": {
       "attrs": {
        "height": 0.8,
        "width": 0.8,
        "x": 0.1,
        "y": 0.1
       },
       "content": {
        "cell": "7a52c633-2cc7-4902-b4e6-200956e5a144",
        "part": "whole"
       },
       "id": "fe8fa794-0cb2-43f8-8b8d-9d9bc82772e4"
      }
     }
    },
    "5d3917a9-cc3d-432c-bc50-c68899152ceb": {
     "id": "5d3917a9-cc3d-432c-bc50-c68899152ceb",
     "prev": "da3d521e-e0b2-46df-94ce-436b5d8cea9f",
     "regions": {
      "ad6856c4-73ac-4306-9581-441f9acc4216": {
       "attrs": {
        "height": 0.8,
        "width": 0.8,
        "x": 0.1,
        "y": 0.1
       },
       "content": {
        "cell": "d0149613-3725-42a1-9dff-d6105721e2d5",
        "part": "whole"
       },
       "id": "ad6856c4-73ac-4306-9581-441f9acc4216"
      }
     }
    },
    "6262892a-5ece-4a54-815e-46460828de51": {
     "id": "6262892a-5ece-4a54-815e-46460828de51",
     "prev": "0094bf9b-cfc1-40c9-a218-10055e9f0f0d",
     "regions": {
      "38298794-c1f3-4955-88c6-4c3aaf0525e8": {
       "attrs": {
        "height": 0.8,
        "width": 0.8,
        "x": 0.1,
        "y": 0.1
       },
       "content": {
        "cell": "e7469440-1c73-4280-8ca4-a1353a93b6f4",
        "part": "whole"
       },
       "id": "38298794-c1f3-4955-88c6-4c3aaf0525e8"
      }
     }
    },
    "64f38a53-0630-4258-94db-7792d1460c46": {
     "id": "64f38a53-0630-4258-94db-7792d1460c46",
     "prev": "dd9bf026-8f49-4660-bc64-d8a32e2c6351",
     "regions": {
      "72f2a41f-b61b-47e6-abff-e486c8493a60": {
       "attrs": {
        "height": 0.8,
        "width": 0.8,
        "x": 0.1,
        "y": 0.1
       },
       "content": {
        "cell": "d1bd2548-3c6e-46d3-be58-ee584431ea83",
        "part": "whole"
       },
       "id": "72f2a41f-b61b-47e6-abff-e486c8493a60"
      }
     }
    },
    "7d2a3422-5954-46de-a1ad-b59537e55a45": {
     "id": "7d2a3422-5954-46de-a1ad-b59537e55a45",
     "prev": "a58ce7b7-7942-48fa-8a35-6e9fcc56c6de",
     "regions": {
      "667c46a8-34a1-4813-81ef-6fdf79a28519": {
       "attrs": {
        "height": 0.8,
        "width": 0.8,
        "x": 0.1,
        "y": 0.1
       },
       "content": {
        "cell": "84e95549-7a22-4e01-942f-c73d2eeccd1e",
        "part": "whole"
       },
       "id": "667c46a8-34a1-4813-81ef-6fdf79a28519"
      }
     }
    },
    "7e6a56f7-37e0-440a-88c6-02329c88e6b1": {
     "id": "7e6a56f7-37e0-440a-88c6-02329c88e6b1",
     "prev": null,
     "regions": {
      "47c3c72a-1494-4212-9182-ea5e810115b9": {
       "attrs": {
        "height": 0.8,
        "width": 0.8,
        "x": 0.1,
        "y": 0.1
       },
       "content": {
        "cell": "3d78213a-8527-4216-a68a-823aea3421d8",
        "part": "whole"
       },
       "id": "47c3c72a-1494-4212-9182-ea5e810115b9"
      }
     }
    },
    "7f9a4bc0-4204-4593-8649-46a4cf272962": {
     "id": "7f9a4bc0-4204-4593-8649-46a4cf272962",
     "prev": "0d23e0e3-2811-46a7-ac9e-d598eae1f919",
     "regions": {
      "86e415f3-b23b-4d7c-b801-4bf1a6fb6aa1": {
       "attrs": {
        "height": 0.8,
        "width": 0.8,
        "x": 0.1,
        "y": 0.1
       },
       "content": {
        "cell": "60ca9ebb-72c9-4778-b40b-ea5519792236",
        "part": "whole"
       },
       "id": "86e415f3-b23b-4d7c-b801-4bf1a6fb6aa1"
      }
     }
    },
    "7fbddcd3-bf1d-4730-91b7-7603c7d97365": {
     "id": "7fbddcd3-bf1d-4730-91b7-7603c7d97365",
     "prev": "9828b140-4552-4832-8da8-7a36a2f97460",
     "regions": {
      "9023cbe5-877b-41ae-bfbc-4c2198722e8f": {
       "attrs": {
        "height": 0.8,
        "width": 0.8,
        "x": 0.1,
        "y": 0.1
       },
       "content": {
        "cell": "2063618b-7874-467e-bfa8-0045d6e44b56",
        "part": "whole"
       },
       "id": "9023cbe5-877b-41ae-bfbc-4c2198722e8f"
      }
     }
    },
    "84c1fa72-b077-49df-aeec-6c907815eba9": {
     "id": "84c1fa72-b077-49df-aeec-6c907815eba9",
     "prev": "576c189f-59f9-4a13-a331-a35b68bfb4a6",
     "regions": {
      "96a2c62f-29a2-454d-a5e0-e97c0fb5eadf": {
       "attrs": {
        "height": 0.8,
        "width": 0.8,
        "x": 0.1,
        "y": 0.1
       },
       "content": {
        "cell": "d06095a2-ed79-4b52-b5c0-78383a69a5b7",
        "part": "whole"
       },
       "id": "96a2c62f-29a2-454d-a5e0-e97c0fb5eadf"
      }
     }
    },
    "853c64dd-0fec-4f90-97ef-d2ef5e4c2e02": {
     "id": "853c64dd-0fec-4f90-97ef-d2ef5e4c2e02",
     "prev": "935ea738-e752-447e-9b89-17f0a52ff4b0",
     "regions": {
      "f2b61308-59c9-47da-a93c-bec818c04f25": {
       "attrs": {
        "height": 0.8,
        "width": 0.8,
        "x": 0.1,
        "y": 0.1
       },
       "content": {
        "cell": "47938735-a396-4c40-862b-4c8a6fa70bc3",
        "part": "whole"
       },
       "id": "f2b61308-59c9-47da-a93c-bec818c04f25"
      }
     }
    },
    "857ebb12-7eff-4f2c-8c0f-2733141ae9c5": {
     "id": "857ebb12-7eff-4f2c-8c0f-2733141ae9c5",
     "prev": "7f9a4bc0-4204-4593-8649-46a4cf272962",
     "regions": {
      "e1d4055f-2f93-4bf9-a7d2-8a4cb2e98bcd": {
       "attrs": {
        "height": 0.8,
        "width": 0.8,
        "x": 0.1,
        "y": 0.1
       },
       "content": {
        "cell": "efff7bb6-1ca8-4c0c-af6f-759f994eb5d9",
        "part": "whole"
       },
       "id": "e1d4055f-2f93-4bf9-a7d2-8a4cb2e98bcd"
      }
     }
    },
    "935ea738-e752-447e-9b89-17f0a52ff4b0": {
     "id": "935ea738-e752-447e-9b89-17f0a52ff4b0",
     "prev": "bc150c34-6a0e-4751-ae6b-922dcd78d46a",
     "regions": {
      "76be6667-7d22-4fa8-9ea5-d426e70457cb": {
       "attrs": {
        "height": 0.8,
        "width": 0.8,
        "x": 0.1,
        "y": 0.1
       },
       "content": {
        "cell": "8c7177e9-cb05-4d18-b6c1-4aa475781f23",
        "part": "whole"
       },
       "id": "76be6667-7d22-4fa8-9ea5-d426e70457cb"
      }
     }
    },
    "95eaf799-3e4f-44d6-a012-d60d2bfb070c": {
     "id": "95eaf799-3e4f-44d6-a012-d60d2bfb070c",
     "prev": "0192621a-4891-4281-a784-6d514fb35f77",
     "regions": {
      "5ec78642-7710-498b-a31f-383e0e81f7dd": {
       "attrs": {
        "height": 0.8,
        "width": 0.8,
        "x": 0.1,
        "y": 0.1
       },
       "content": {
        "cell": "c71d1380-32d2-4939-9fde-61d8bc1c3ac6",
        "part": "whole"
       },
       "id": "5ec78642-7710-498b-a31f-383e0e81f7dd"
      }
     }
    },
    "9828b140-4552-4832-8da8-7a36a2f97460": {
     "id": "9828b140-4552-4832-8da8-7a36a2f97460",
     "prev": "d91d6fc1-bd09-46e8-981c-15fc85ea77fe",
     "regions": {
      "f38f2dc5-e90e-4e74-8b10-07335b6ee15a": {
       "attrs": {
        "height": 0.8,
        "width": 0.8,
        "x": 0.1,
        "y": 0.1
       },
       "content": {
        "cell": "e202f95a-cc35-4f10-836d-02cccd4eb9b9",
        "part": "whole"
       },
       "id": "f38f2dc5-e90e-4e74-8b10-07335b6ee15a"
      }
     }
    },
    "a13ba7f2-2205-4236-bed5-7e69401e9b8c": {
     "id": "a13ba7f2-2205-4236-bed5-7e69401e9b8c",
     "prev": "e6cb69b0-4cc1-46ed-8be0-47a809346e64",
     "regions": {
      "f3f189be-431d-4b7c-b478-ed6bab99ea86": {
       "attrs": {
        "height": 0.8,
        "width": 0.8,
        "x": 0.1,
        "y": 0.1
       },
       "content": {
        "cell": "b463911f-4641-4ab8-8487-164356de7a52",
        "part": "whole"
       },
       "id": "f3f189be-431d-4b7c-b478-ed6bab99ea86"
      }
     }
    },
    "a36102f7-2384-4e64-aef9-d72fde302d1c": {
     "id": "a36102f7-2384-4e64-aef9-d72fde302d1c",
     "prev": "2f1b0eda-2b4d-4787-b246-0049619f0b41",
     "regions": {
      "826d7d72-bba9-4f8c-a428-d3043d8b759d": {
       "attrs": {
        "height": 0.8,
        "width": 0.8,
        "x": 0.1,
        "y": 0.1
       },
       "content": {
        "cell": "2010e98e-c62b-4205-9151-602182e7181e",
        "part": "whole"
       },
       "id": "826d7d72-bba9-4f8c-a428-d3043d8b759d"
      }
     }
    },
    "a58ce7b7-7942-48fa-8a35-6e9fcc56c6de": {
     "id": "a58ce7b7-7942-48fa-8a35-6e9fcc56c6de",
     "prev": "a36102f7-2384-4e64-aef9-d72fde302d1c",
     "regions": {
      "eb4ae9c3-1f9f-4089-9d5c-4184f67dd802": {
       "attrs": {
        "height": 0.8,
        "width": 0.8,
        "x": 0.1,
        "y": 0.1
       },
       "content": {
        "cell": "a75390ed-f257-44f0-b12d-ac1b943e913f",
        "part": "whole"
       },
       "id": "eb4ae9c3-1f9f-4089-9d5c-4184f67dd802"
      }
     }
    },
    "a984cac3-751f-490e-bba6-85bd7b5e5191": {
     "id": "a984cac3-751f-490e-bba6-85bd7b5e5191",
     "prev": "c4bacdf7-6bfc-48c2-95be-a093d5af37f5",
     "regions": {
      "c5f074a4-3745-4d5c-8c37-4d6aa4bec40c": {
       "attrs": {
        "height": 0.8,
        "width": 0.8,
        "x": 0.1,
        "y": 0.1
       },
       "content": {
        "cell": "2671323c-6285-4f7a-9e69-56016bbf2f82",
        "part": "whole"
       },
       "id": "c5f074a4-3745-4d5c-8c37-4d6aa4bec40c"
      }
     }
    },
    "b1c3a9c8-1fa8-442d-94bf-ea36d7a7e079": {
     "id": "b1c3a9c8-1fa8-442d-94bf-ea36d7a7e079",
     "prev": "55ae080f-ca47-4ca0-841b-d19b34ccca80",
     "regions": {
      "c92307a0-d366-4e66-9c36-a4209c527223": {
       "attrs": {
        "height": 0.8,
        "width": 0.8,
        "x": 0.1,
        "y": 0.1
       },
       "content": {
        "cell": "618588aa-c258-4ed6-b3aa-822ec2d5bf83",
        "part": "whole"
       },
       "id": "c92307a0-d366-4e66-9c36-a4209c527223"
      }
     }
    },
    "b9ef75bd-6056-4665-a801-1444361171b5": {
     "id": "b9ef75bd-6056-4665-a801-1444361171b5",
     "prev": "0be846d9-96eb-406b-908f-b9365461d5a5",
     "regions": {
      "460ed315-ad2d-455a-95fd-8921aad56d22": {
       "attrs": {
        "height": 0.8,
        "width": 0.8,
        "x": 0.1,
        "y": 0.1
       },
       "content": {
        "cell": "c7dcf69a-3227-425f-aef7-4dd8c570d268",
        "part": "whole"
       },
       "id": "460ed315-ad2d-455a-95fd-8921aad56d22"
      }
     }
    },
    "bc150c34-6a0e-4751-ae6b-922dcd78d46a": {
     "id": "bc150c34-6a0e-4751-ae6b-922dcd78d46a",
     "prev": "4a827fbb-b366-4f8c-9d0f-68c120dbeaf0",
     "regions": {
      "09adb4cb-38b1-40d5-a261-af8caa988d9d": {
       "attrs": {
        "height": 0.8,
        "width": 0.8,
        "x": 0.1,
        "y": 0.1
       },
       "content": {
        "cell": "ff14e0ad-d2fe-46d2-aff7-8ae478e023d7",
        "part": "whole"
       },
       "id": "09adb4cb-38b1-40d5-a261-af8caa988d9d"
      }
     }
    },
    "bd8d484a-ba93-4c1a-baf3-0ae79e6d5067": {
     "id": "bd8d484a-ba93-4c1a-baf3-0ae79e6d5067",
     "prev": "2db71f28-0358-49af-af32-11de283e68c8",
     "regions": {
      "a18e28a6-3c94-481c-a580-630043581407": {
       "attrs": {
        "height": 0.8,
        "width": 0.8,
        "x": 0.1,
        "y": 0.1
       },
       "content": {
        "cell": "df0b1f80-148e-429c-a77d-d4465e9c61e9",
        "part": "whole"
       },
       "id": "a18e28a6-3c94-481c-a580-630043581407"
      }
     }
    },
    "be7b6952-e5a0-4cd4-a12c-0fda0487c85b": {
     "id": "be7b6952-e5a0-4cd4-a12c-0fda0487c85b",
     "prev": "7fbddcd3-bf1d-4730-91b7-7603c7d97365",
     "regions": {
      "2c62e3a6-c1a6-4242-8b74-6262911060a5": {
       "attrs": {
        "height": 0.8,
        "width": 0.8,
        "x": 0.1,
        "y": 0.1
       },
       "content": {
        "cell": "15843b8e-82d5-442f-b39f-0e44f67a7056",
        "part": "whole"
       },
       "id": "2c62e3a6-c1a6-4242-8b74-6262911060a5"
      }
     }
    },
    "c1c5dd72-fa62-47ba-91ff-f7c5acb6121e": {
     "id": "c1c5dd72-fa62-47ba-91ff-f7c5acb6121e",
     "prev": "5bc5236f-c460-47d8-91c4-dbba7e1fd66d",
     "regions": {
      "2e87dde2-717a-45e5-9abb-0434520f473d": {
       "attrs": {
        "height": 0.8,
        "width": 0.8,
        "x": 0.1,
        "y": 0.1
       },
       "content": {
        "cell": "954b6ae5-6a25-4de3-9d30-3b90d7c49560",
        "part": "whole"
       },
       "id": "2e87dde2-717a-45e5-9abb-0434520f473d"
      }
     }
    },
    "c2b03bfc-ea4a-49a4-bc3a-e3d3ef5cebcd": {
     "id": "c2b03bfc-ea4a-49a4-bc3a-e3d3ef5cebcd",
     "prev": "6262892a-5ece-4a54-815e-46460828de51",
     "regions": {
      "b713e94b-f8b7-45e9-a13e-6a98aee9a79e": {
       "attrs": {
        "height": 0.8,
        "width": 0.8,
        "x": 0.1,
        "y": 0.1
       },
       "content": {
        "cell": "8ceb240d-867d-41c8-9ec3-2a93bc5f4b1e",
        "part": "whole"
       },
       "id": "b713e94b-f8b7-45e9-a13e-6a98aee9a79e"
      }
     }
    },
    "c4bacdf7-6bfc-48c2-95be-a093d5af37f5": {
     "id": "c4bacdf7-6bfc-48c2-95be-a093d5af37f5",
     "prev": "bd8d484a-ba93-4c1a-baf3-0ae79e6d5067",
     "regions": {
      "509359e1-3105-4a2f-b54a-84ccecaa4259": {
       "attrs": {
        "height": 0.8,
        "width": 0.8,
        "x": 0.1,
        "y": 0.1
       },
       "content": {
        "cell": "b9b56674-1cf0-49f6-8dd6-bc4073414c72",
        "part": "whole"
       },
       "id": "509359e1-3105-4a2f-b54a-84ccecaa4259"
      }
     }
    },
    "c9fe8b8b-407a-4922-b960-501aefe306ff": {
     "id": "c9fe8b8b-407a-4922-b960-501aefe306ff",
     "prev": "0c2db91c-fe71-48de-803e-89b2eba0f807",
     "regions": {
      "4bc1c220-deb8-4c4b-98ef-0a110ea315b3": {
       "attrs": {
        "height": 0.8,
        "width": 0.8,
        "x": 0.1,
        "y": 0.1
       },
       "content": {
        "cell": "1c79b475-420f-4155-acdd-0e99c8b65dd4",
        "part": "whole"
       },
       "id": "4bc1c220-deb8-4c4b-98ef-0a110ea315b3"
      }
     }
    },
    "cd576ce8-4f20-49f2-9841-685f5bcea8f7": {
     "id": "cd576ce8-4f20-49f2-9841-685f5bcea8f7",
     "prev": "95eaf799-3e4f-44d6-a012-d60d2bfb070c",
     "regions": {
      "73c34f6e-b598-4c65-99e9-0937a483616a": {
       "attrs": {
        "height": 0.8,
        "width": 0.8,
        "x": 0.1,
        "y": 0.1
       },
       "content": {
        "cell": "af0ad3a0-5570-49b3-9ab1-2450e13dc16d",
        "part": "whole"
       },
       "id": "73c34f6e-b598-4c65-99e9-0937a483616a"
      }
     }
    },
    "d5271d4e-2918-4383-8300-d248a9360078": {
     "id": "d5271d4e-2918-4383-8300-d248a9360078",
     "prev": "84c1fa72-b077-49df-aeec-6c907815eba9",
     "regions": {
      "c7f544d2-9e84-4766-af39-1b80be080c90": {
       "attrs": {
        "height": 0.8,
        "width": 0.8,
        "x": 0.1,
        "y": 0.1
       },
       "content": {
        "cell": "7cda7650-be31-46ca-bc22-c8d2156658f1",
        "part": "whole"
       },
       "id": "c7f544d2-9e84-4766-af39-1b80be080c90"
      }
     }
    },
    "d77e7715-b54e-495e-8202-63a180dc7eac": {
     "id": "d77e7715-b54e-495e-8202-63a180dc7eac",
     "prev": "b9ef75bd-6056-4665-a801-1444361171b5",
     "regions": {
      "91a0ce62-b3b8-4ead-bc86-3f21cbab9df8": {
       "attrs": {
        "height": 0.8,
        "width": 0.8,
        "x": 0.1,
        "y": 0.1
       },
       "content": {
        "cell": "6d21b0f9-dc32-43a4-b285-19a37947ba2c",
        "part": "whole"
       },
       "id": "91a0ce62-b3b8-4ead-bc86-3f21cbab9df8"
      }
     }
    },
    "d91d6fc1-bd09-46e8-981c-15fc85ea77fe": {
     "id": "d91d6fc1-bd09-46e8-981c-15fc85ea77fe",
     "prev": "a13ba7f2-2205-4236-bed5-7e69401e9b8c",
     "regions": {
      "ef6cc298-9b79-4459-a2de-d0f1e4768a4b": {
       "attrs": {
        "height": 0.8,
        "width": 0.8,
        "x": 0.1,
        "y": 0.1
       },
       "content": {
        "cell": "40d073ce-20f2-46a2-96c5-6835adac0c1e",
        "part": "whole"
       },
       "id": "ef6cc298-9b79-4459-a2de-d0f1e4768a4b"
      }
     }
    },
    "da3d521e-e0b2-46df-94ce-436b5d8cea9f": {
     "id": "da3d521e-e0b2-46df-94ce-436b5d8cea9f",
     "prev": "64f38a53-0630-4258-94db-7792d1460c46",
     "regions": {
      "e7cb27a7-5641-4fd8-8210-34e79a1072e9": {
       "attrs": {
        "height": 0.8,
        "width": 0.8,
        "x": 0.1,
        "y": 0.1
       },
       "content": {
        "cell": "f53181cb-57fc-48f0-97db-2b341321bc12",
        "part": "whole"
       },
       "id": "e7cb27a7-5641-4fd8-8210-34e79a1072e9"
      }
     }
    },
    "dd9bf026-8f49-4660-bc64-d8a32e2c6351": {
     "id": "dd9bf026-8f49-4660-bc64-d8a32e2c6351",
     "prev": "be7b6952-e5a0-4cd4-a12c-0fda0487c85b",
     "regions": {
      "2b212512-0189-4231-aa68-9d6fa50fb0f9": {
       "attrs": {
        "height": 0.8,
        "width": 0.8,
        "x": 0.1,
        "y": 0.1
       },
       "content": {
        "cell": "10261f77-1469-46bf-a410-d2d1d6b2871b",
        "part": "whole"
       },
       "id": "2b212512-0189-4231-aa68-9d6fa50fb0f9"
      }
     }
    },
    "e6cb69b0-4cc1-46ed-8be0-47a809346e64": {
     "id": "e6cb69b0-4cc1-46ed-8be0-47a809346e64",
     "prev": "59699a0c-c974-4913-ad63-ea820feba64f",
     "regions": {
      "fc909778-39dc-4c66-830c-510c8ebfccfb": {
       "attrs": {
        "height": 0.8,
        "width": 0.8,
        "x": 0.1,
        "y": 0.1
       },
       "content": {
        "cell": "b77d3edc-eba7-4fed-bbcb-279669a4f454",
        "part": "whole"
       },
       "id": "fc909778-39dc-4c66-830c-510c8ebfccfb"
      }
     }
    },
    "ebc9d5ef-b0f5-4a1b-a39d-82b707675d2e": {
     "id": "ebc9d5ef-b0f5-4a1b-a39d-82b707675d2e",
     "prev": "a984cac3-751f-490e-bba6-85bd7b5e5191",
     "regions": {
      "773538c4-e5b6-492e-9986-3cf0c9f3a988": {
       "attrs": {
        "height": 0.8,
        "width": 0.8,
        "x": 0.1,
        "y": 0.1
       },
       "content": {
        "cell": "145911a8-bceb-4156-be1f-28e8c655213f",
        "part": "whole"
       },
       "id": "773538c4-e5b6-492e-9986-3cf0c9f3a988"
      }
     }
    },
    "ee8303d8-cc20-40ae-b19b-8b9eae06cd8c": {
     "id": "ee8303d8-cc20-40ae-b19b-8b9eae06cd8c",
     "prev": "148502a8-9a27-4bbc-aaf8-26d02d2b7a39",
     "regions": {
      "4e661d70-3733-4032-b7ad-2a133e34ffb3": {
       "attrs": {
        "height": 0.8,
        "width": 0.8,
        "x": 0.1,
        "y": 0.1
       },
       "content": {
        "cell": "1bc556de-0707-43f6-b808-71d28703faa6",
        "part": "whole"
       },
       "id": "4e661d70-3733-4032-b7ad-2a133e34ffb3"
      }
     }
    },
    "f9596766-2fc0-4515-a3a5-6bfd8b75ea3e": {
     "id": "f9596766-2fc0-4515-a3a5-6bfd8b75ea3e",
     "prev": "d77e7715-b54e-495e-8202-63a180dc7eac",
     "regions": {
      "478035fc-acfc-47bc-9feb-0bcdc245742d": {
       "attrs": {
        "height": 0.8,
        "width": 0.8,
        "x": 0.1,
        "y": 0.1
       },
       "content": {
        "cell": "76ff5b87-d3a2-4cbf-acec-1d831fc82fc0",
        "part": "whole"
       },
       "id": "478035fc-acfc-47bc-9feb-0bcdc245742d"
      }
     }
    }
   },
   "themes": {
    "default": "d13ae68e-a9c8-48e1-b467-270d493c3f34",
    "theme": {
     "d13ae68e-a9c8-48e1-b467-270d493c3f34": {
      "id": "d13ae68e-a9c8-48e1-b467-270d493c3f34",
      "palette": {
       "19cc588f-0593-49c9-9f4b-e4d7cc113b1c": {
        "id": "19cc588f-0593-49c9-9f4b-e4d7cc113b1c",
        "rgb": [
         252,
         252,
         252
        ]
       },
       "31af15d2-7e15-44c5-ab5e-e04b16a89eff": {
        "id": "31af15d2-7e15-44c5-ab5e-e04b16a89eff",
        "rgb": [
         68,
         68,
         68
        ]
       },
       "50f92c45-a630-455b-aec3-788680ec7410": {
        "id": "50f92c45-a630-455b-aec3-788680ec7410",
        "rgb": [
         155,
         177,
         192
        ]
       },
       "c5cc3653-2ee1-402a-aba2-7caae1da4f6c": {
        "id": "c5cc3653-2ee1-402a-aba2-7caae1da4f6c",
        "rgb": [
         43,
         126,
         184
        ]
       },
       "efa7f048-9acb-414c-8b04-a26811511a21": {
        "id": "efa7f048-9acb-414c-8b04-a26811511a21",
        "rgb": [
         25.118061674008803,
         73.60176211453744,
         107.4819383259912
        ]
       }
      },
      "rules": {
       "blockquote": {
        "color": "50f92c45-a630-455b-aec3-788680ec7410"
       },
       "code": {
        "font-family": "Anonymous Pro"
       },
       "h1": {
        "color": "c5cc3653-2ee1-402a-aba2-7caae1da4f6c",
        "font-family": "Lato",
        "font-size": 8
       },
       "h2": {
        "color": "c5cc3653-2ee1-402a-aba2-7caae1da4f6c",
        "font-family": "Lato",
        "font-size": 6
       },
       "h3": {
        "color": "50f92c45-a630-455b-aec3-788680ec7410",
        "font-family": "Lato",
        "font-size": 5.5
       },
       "h4": {
        "color": "c5cc3653-2ee1-402a-aba2-7caae1da4f6c",
        "font-family": "Lato",
        "font-size": 5
       },
       "h5": {
        "font-family": "Lato"
       },
       "h6": {
        "font-family": "Lato"
       },
       "h7": {
        "font-family": "Lato"
       },
       "pre": {
        "font-family": "Anonymous Pro",
        "font-size": 4
       }
      },
      "text-base": {
       "font-family": "Merriweather",
       "font-size": 4
      }
     },
     "fd7367b2-5933-4184-b8c2-2281bf78a044": {
      "id": "fd7367b2-5933-4184-b8c2-2281bf78a044",
      "palette": {
       "19cc588f-0593-49c9-9f4b-e4d7cc113b1c": {
        "id": "19cc588f-0593-49c9-9f4b-e4d7cc113b1c",
        "rgb": [
         252,
         252,
         252
        ]
       },
       "31af15d2-7e15-44c5-ab5e-e04b16a89eff": {
        "id": "31af15d2-7e15-44c5-ab5e-e04b16a89eff",
        "rgb": [
         68,
         68,
         68
        ]
       },
       "50f92c45-a630-455b-aec3-788680ec7410": {
        "id": "50f92c45-a630-455b-aec3-788680ec7410",
        "rgb": [
         155,
         177,
         192
        ]
       },
       "c5cc3653-2ee1-402a-aba2-7caae1da4f6c": {
        "id": "c5cc3653-2ee1-402a-aba2-7caae1da4f6c",
        "rgb": [
         43,
         126,
         184
        ]
       },
       "efa7f048-9acb-414c-8b04-a26811511a21": {
        "id": "efa7f048-9acb-414c-8b04-a26811511a21",
        "rgb": [
         25.118061674008803,
         73.60176211453744,
         107.4819383259912
        ]
       }
      },
      "rules": {
       "blockquote": {
        "color": "50f92c45-a630-455b-aec3-788680ec7410"
       },
       "code": {
        "font-family": "Anonymous Pro"
       },
       "h1": {
        "color": "c5cc3653-2ee1-402a-aba2-7caae1da4f6c",
        "font-family": "Lato",
        "font-size": 8
       },
       "h2": {
        "color": "c5cc3653-2ee1-402a-aba2-7caae1da4f6c",
        "font-family": "Lato",
        "font-size": 6
       },
       "h3": {
        "color": "50f92c45-a630-455b-aec3-788680ec7410",
        "font-family": "Lato",
        "font-size": 5.5
       },
       "h4": {
        "color": "c5cc3653-2ee1-402a-aba2-7caae1da4f6c",
        "font-family": "Lato",
        "font-size": 5
       },
       "h5": {
        "font-family": "Lato"
       },
       "h6": {
        "font-family": "Lato"
       },
       "h7": {
        "font-family": "Lato"
       },
       "pre": {
        "font-family": "Anonymous Pro",
        "font-size": 4
       }
      },
      "text-base": {
       "font-family": "Merriweather",
       "font-size": 4
      }
     }
    }
   }
  },
  "toc": {
   "base_numbering": 1,
   "nav_menu": {},
   "number_sections": false,
   "sideBar": true,
   "skip_h1_title": false,
   "title_cell": "Table of Contents",
   "title_sidebar": "Contents",
   "toc_cell": false,
   "toc_position": {},
   "toc_section_display": true,
   "toc_window_display": false
  },
  "varInspector": {
   "cols": {
    "lenName": 16,
    "lenType": 16,
    "lenVar": 40
   },
   "kernels_config": {
    "python": {
     "delete_cmd_postfix": "",
     "delete_cmd_prefix": "del ",
     "library": "var_list.py",
     "varRefreshCmd": "print(var_dic_list())"
    },
    "r": {
     "delete_cmd_postfix": ") ",
     "delete_cmd_prefix": "rm(",
     "library": "var_list.r",
     "varRefreshCmd": "cat(var_dic_list()) "
    }
   },
   "position": {
    "height": "470px",
    "left": "1550px",
    "right": "20px",
    "top": "120px",
    "width": "350px"
   },
   "types_to_exclude": [
    "module",
    "function",
    "builtin_function_or_method",
    "instance",
    "_Feature"
   ],
   "window_display": false
  }
 },
 "nbformat": 4,
 "nbformat_minor": 2
}
