{
 "cells": [
  {
   "cell_type": "markdown",
   "metadata": {},
   "source": [
    " ╔══<i><b>Alai-DeepLearning</b></i>════════════════════════╗\n",
    "###  &nbsp;&nbsp; **✎&nbsp;&nbsp;Week 1. Python Basis**\n",
    "# Homework. 파이썬 기초 문제 리스트\n",
    "\n",
    "### _Objective_\n",
    "1. 문제 은행 내 여러가지 파이썬 문제들을 풀어보면서, 파이썬 문법에 대해 친숙해지도록 합니다. <br>\n",
    "\n",
    "╚═════════════════════════════════════╝"
   ]
  },
  {
   "cell_type": "markdown",
   "metadata": {},
   "source": [
    "## 이번 주 과제 : 코딩 문제 풀기"
   ]
  },
  {
   "cell_type": "markdown",
   "metadata": {},
   "source": [
    "# \\[ 문제 1. 숫자열 정렬 \\]"
   ]
  },
  {
   "cell_type": "markdown",
   "metadata": {},
   "source": [
    "자연수 N이 주어졌을 때, 그 수의 각 자리수를 내림차순으로 정렬하는 프로그램을 만들어주세요\n",
    "\n",
    "* 예시\n",
    "\n",
    "22145289 >> 98542221\n",
    "\n",
    "\n",
    "1234 >> 4321"
   ]
  },
  {
   "cell_type": "markdown",
   "metadata": {},
   "source": [
    "#### 답안지 입력란\n",
    "* 아래에 답을 서술하여 주세요\n",
    "* 메소드 이름은 `sorting`으로 해주세요"
   ]
  },
  {
   "cell_type": "code",
   "execution_count": 22,
   "metadata": {},
   "outputs": [],
   "source": [
    "def sorting(num):\n",
    "    ############\n",
    "    # CODE HERE!\n",
    "    ############\n",
    "    sort = sorted(str(num), reverse=True)\n",
    "    ans = ''\n",
    "    for i in sort:\n",
    "        ans += i\n",
    "    return int(ans)"
   ]
  },
  {
   "cell_type": "markdown",
   "metadata": {},
   "source": [
    "#### 정답 확인\n",
    "* 정답을 입력한 후, 아래를 실행시키면 정답인지 확인합니다."
   ]
  },
  {
   "cell_type": "code",
   "execution_count": 23,
   "metadata": {},
   "outputs": [
    {
     "name": "stdout",
     "output_type": "stream",
     "text": [
      "정답입니다!!\n"
     ]
    }
   ],
   "source": [
    "assert 'sorting' in globals(), \"메소드 명을 sorting으로 해주세요\"\n",
    "f = sorting\n",
    "assert f(1234) == 4321, \"(num)==(1234)일때, 결과 값은 4321이 나와야 합니다.\"\n",
    "assert f(22145289) == 98542221, \"(num)==(22145289)일때, 결과 값은 98542221이 나와야 합니다.\"\n",
    "assert f(925) == 952, \"(num)==(925)일때, 결과 값은 952가 나와야 합니다.\"\n",
    "print(\"정답입니다!!\")"
   ]
  },
  {
   "cell_type": "markdown",
   "metadata": {},
   "source": [
    "# \\[ 문제 2. 한수의 갯수 \\]"
   ]
  },
  {
   "cell_type": "markdown",
   "metadata": {},
   "source": [
    "자연수 `X`의 자리수가 등차수열을 이룰 때, 그 수를 `한수`라고 합시다. 즉 주어진 자연수에서 각 자리수가 등차수열을 이루면 `한수`입니다. `1000`보다 작은 자연수 `N`이 주어졌을 때, 1보다 크거나 같고, N보다 작거나 같은 한수의 개수를 출력하는 프로그램을 작성해주세요\n",
    "\n",
    "* 참고 : 등차수열\n",
    "\n",
    ">등차수열이란 각 항이 그 앞의 항에 일정한 수(공차)를 더한 것으로 이루어진 수열을 말합니다. 첫째 항이 $a$, 공차(더해지는 일정한 수)를 $d$라 하면 등차수열은 아래와 같이 전개됩니다. \n",
    "$$a,~a+d,~a+d+d,~a+3d,~a+4d,~...,a+(n-1)d$$\n",
    "\n",
    "* 한수의 예 : 369 (3, 3+3, 3+3+3)\n",
    "\n",
    "\n",
    "* 힌트 : 99 이하의 수는 모두 등차수열을 이룹니다!"
   ]
  },
  {
   "cell_type": "markdown",
   "metadata": {},
   "source": [
    "#### 답안지 입력란\n",
    "* 아래에 답을 서술하여 주세요\n",
    "* 메소드 이름은 `hansu`로 해주세요"
   ]
  },
  {
   "cell_type": "code",
   "execution_count": 24,
   "metadata": {
    "scrolled": true
   },
   "outputs": [],
   "source": [
    "def hansu(N):\n",
    "    ############\n",
    "    # CODE HERE!\n",
    "    ############\n",
    "    count = 0\n",
    "    if (N < 100):\n",
    "        return N\n",
    "    else:\n",
    "        for i in range(100, (N+1)):\n",
    "            hund = (i//100)\n",
    "            ten = ((i%100)//10)\n",
    "            one = ((i%100)%10)\n",
    "            if ((hund - ten) == (ten - one)):\n",
    "                count += 1\n",
    "        return (count+99)"
   ]
  },
  {
   "cell_type": "markdown",
   "metadata": {},
   "source": [
    "#### 정답 확인\n",
    "* 정답을 입력한 후, 아래를 실행시키면 정답인지 확인합니다."
   ]
  },
  {
   "cell_type": "code",
   "execution_count": 25,
   "metadata": {},
   "outputs": [
    {
     "name": "stdout",
     "output_type": "stream",
     "text": [
      "정답입니다!!\n"
     ]
    }
   ],
   "source": [
    "assert 'hansu' in globals(), \"메소드 명을 hansu로 해주세요\"\n",
    "f = hansu\n",
    "assert f(7) == 7, \"(n)==(7)일때, 한수의 갯수는 7이 나와야 합니다.\"\n",
    "assert f(29) == 29, \"(n)==(29)일때, 한수의 갯수는 29가 나와야 합니다.\"\n",
    "assert f(100) == 99, \"(n)==(100)일때, 한수의 갯수는 99가 나와야 합니다.\"\n",
    "assert f(222) == 106, \"(n)==(222)일때, 한수의 갯수는 106이 나와야 합니다.\"\n",
    "assert f(871) == 137, \"(n)==(871)일때, 한수의 갯수는 137이 나와야 합니다.\"\n",
    "assert f(999) == 144, \"(n)==(999)일때, 한수의 갯수는 144가 나와야 합니다.\"\n",
    "print(\"정답입니다!!\")"
   ]
  },
  {
   "cell_type": "markdown",
   "metadata": {},
   "source": [
    "# \\[ 문제 3. 플러스 사이클 \\]\n"
   ]
  },
  {
   "cell_type": "markdown",
   "metadata": {},
   "source": [
    "* 0보다 크거나 같고 99보다 작거나 같은 정수 `N`이 주어졌을 때, 다음과 같은 연산을 하여 연산 횟수를 출력하는 프로그램을 작성해주세요\n",
    "\n",
    "주어진 수가 10보다 작다면 앞에 0을 붙여 두 자리 수로 만들고, 각 자리의 수를 더합니다. 그 다음, 주어진 수의 가장 오른쪽 자리 수와 앞에서 구한 합의 가장 오른쪽 자리 수를 이어 붙이면 새로운 수를 만들 수 있습니다. 다음은 연산의 예시입니다.\n",
    "\n",
    "* 예시\n",
    "\n",
    "|연산횟수|N = 26일 때|N = 5일 때|\n",
    "|--|---|---|\n",
    "|1|26 >> 2 + '6' = '8' >> 68| 5 >> 0 + '5' = '5' >> 55|\n",
    "|2|68 >> 6 + '8' = 1'4' >> 84| 55 >> 5 + '5' = 1'0' >> 50|\n",
    "|3|84 >> 8 + '4' = 1'2' >> 42| 50 >> 5 + '0' = '5' >> 05|\n",
    "|4|42 >> 4 + '2' = '6' >> 26||\n",
    "|출력값|4|3| "
   ]
  },
  {
   "cell_type": "markdown",
   "metadata": {},
   "source": [
    "#### 답안지 입력란\n",
    "* 아래에 답을 서술하여 주세요\n",
    "* 메소드 이름은 `plus_cycle`로 해주세요"
   ]
  },
  {
   "cell_type": "code",
   "execution_count": 26,
   "metadata": {},
   "outputs": [],
   "source": [
    "def plus_cycle(input_number):\n",
    "    ############\n",
    "    # CODE HERE!\n",
    "    ############\n",
    "    tmp = input_number\n",
    "    operation_counter = 1\n",
    "    while True:\n",
    "        ten = tmp//10\n",
    "        one = tmp%10\n",
    "        added_number = ten + one\n",
    "        next_number = one*10 + added_number%10\n",
    "        tmp = next_number\n",
    "        if (next_number == input_number):\n",
    "            break\n",
    "        else:\n",
    "            operation_counter += 1\n",
    "    return operation_counter"
   ]
  },
  {
   "cell_type": "markdown",
   "metadata": {},
   "source": [
    "#### 정답 확인\n",
    "* 정답을 입력한 후, 아래를 실행시키면 정답인지 확인합니다."
   ]
  },
  {
   "cell_type": "code",
   "execution_count": 27,
   "metadata": {
    "scrolled": true
   },
   "outputs": [
    {
     "name": "stdout",
     "output_type": "stream",
     "text": [
      "정답입니다!!\n"
     ]
    }
   ],
   "source": [
    "assert 'plus_cycle' in globals(), \"메소드 명을 plus_cycle로 해주세요\"\n",
    "f = plus_cycle\n",
    "assert f(26) == 4, \"(n)==(26)일때, 연산 횟수는 7이 나와야 합니다.\"\n",
    "assert f(55) == 3, \"(n)==(29)일때, 연산 횟수는 29가 나와야 합니다.\"\n",
    "assert f(22) == 20, \"(n)==(22)일때, 연산 횟수는 20이 나와야 합니다.\"\n",
    "assert f(67) == 60, \"(n)==(67)일때, 연산 횟수는 60이 나와야 합니다.\"\n",
    "assert f(92) == 12, \"(n)==(92)일때, 연산 횟수는 12가 나와야 합니다.\"\n",
    "print(\"정답입니다!!\")"
   ]
  },
  {
   "cell_type": "markdown",
   "metadata": {},
   "source": [
    "# \\[ 문제 4. 토너먼트 \\]"
   ]
  },
  {
   "cell_type": "markdown",
   "metadata": {},
   "source": [
    "`A`, `B`가 `N`명이 참가하는 토너먼트에 참가합니다. 토너먼트는 다음과 같이 진행됩니다. `N`명의 참가자는 번호가 `1`번부터 `N`번까지 배정받습니다. 그 후 인접한 번호끼리 대결을 합니다. 이긴 사람은 다음 라운드에 진출하고, 진 사람은 그 라운드에서 탈락합니다. 만약 그 라운드의 참가자가 홀수라면, 마지막 번호를 가진 참가자는 다음 라운드로 자동으로 진출합니다. 그 후 다음 라운드에서는 다시 참가자의 번호를 `1`번부터 매깁니다. 이 때 번호를 매기는 순서는 처음 번호의 순서는 유지하며 `1`번부터 매깁니다. 이 말은 `1`라운드에서 `1`번과 `2`번이 대결을해서 `1`번이 진출하고 `3`번과 `4`번이 대결을 해서 `4`번이 진출했다면, `4`번은 다음 라운드에서 번호 `2`번을 배정받는다는 말입니다. 번호를 배정받은 후에 한 명만 남을 때까지 대결은 이어집니다.\n",
    "* A와 B가 서로 대결하기 전까지 항상 이긴다고 가정하고 1라운드에서 A와 B의 번호가 주어졌을 때, A와 B가 몇 라운드에서 대결하는지를 출력하는 프로그램을 작성해 주세요\n",
    "\n",
    "\n",
    "* N=12, A=8, B=9일 때 예시 사진\n",
    "\n",
    "![N=12, A=8, B=9일 때 예시 사진](https://i.imgur.com/jOAjk7J.png)\n",
    "\n",
    "\n",
    "* 참고 : 문제에 따르면 num이 홀수 일 때 맨 끝 번호를 배정받은 사람은 결승까지 직행하게 됩니다. 참고하세요!"
   ]
  },
  {
   "cell_type": "markdown",
   "metadata": {},
   "source": [
    "#### 답안지 입력란\n",
    "* 아래에 답을 서술하여 주세요\n",
    "* 메소드 이름은 `when_will_meet`으로 해주세요"
   ]
  },
  {
   "cell_type": "code",
   "execution_count": 30,
   "metadata": {},
   "outputs": [],
   "source": [
    "def when_will_meet(num, A, B):\n",
    "    ############\n",
    "    # CODE HERE!\n",
    "    ############\n",
    "    count = 0\n",
    "    while True:\n",
    "        count += 1\n",
    "        A = (A+1)//2\n",
    "        B = (B+1)//2\n",
    "        if A == B:\n",
    "            break\n",
    "    return count"
   ]
  },
  {
   "cell_type": "markdown",
   "metadata": {},
   "source": [
    "#### 정답 확인\n",
    "* 정답을 입력한 후, 아래를 실행시키면 정답인지 확인합니다."
   ]
  },
  {
   "cell_type": "code",
   "execution_count": 31,
   "metadata": {
    "scrolled": true
   },
   "outputs": [
    {
     "name": "stdout",
     "output_type": "stream",
     "text": [
      "정답입니다!!\n"
     ]
    }
   ],
   "source": [
    "assert 'when_will_meet' in globals(), \"메소드 명을 when_will_meet으로 해주세요\"\n",
    "f = when_will_meet\n",
    "assert f(12, 8, 9) == 4, \"(num, A, B)==(12, 8, 9)일때, A와 B는는 4라운드에서 만납니다.\"\n",
    "assert f(16, 8, 9) == 4, \"(num, A, B)==(16, 8, 9)일때, A와 B는는 4라운드에서 만납니다.\"\n",
    "assert f(17, 12, 17) == 5, \"(num, A, B)==(17, 12, 17)일때, A와 B는는 5라운드에서 만납니다.\"\n",
    "assert f(29, 23, 27) == 4, \"(num, A, B)==(29, 23, 27)일때, A와 B는는 4라운드에서 만납니다.\"\n",
    "assert f(31, 17, 18) == 1, \"(num, A, B)==(31, 17, 18)일때, A와 B는는 1라운드에서 만납니다.\"\n",
    "assert f(64, 1, 64) == 6, \"(num, A, B)==(64, 1, 64)일때, A와 B는는 6라운드에서 만납니다.\"\n",
    "print(\"정답입니다!!\")"
   ]
  },
  {
   "cell_type": "markdown",
   "metadata": {},
   "source": [
    "#  \n",
    "\n",
    "---\n",
    "\n",
    "    Copyright(c) 2019 by Public AI. All rights reserved.\n",
    "    Writen by PAI, DoYeong Kim ( ka2k@publicai.co.kr )  last updated on 2019/07/12\n",
    "\n",
    "---"
   ]
  }
 ],
 "metadata": {
  "kernelspec": {
   "display_name": "Python 3",
   "language": "python",
   "name": "python3"
  },
  "language_info": {
   "codemirror_mode": {
    "name": "ipython",
    "version": 3
   },
   "file_extension": ".py",
   "mimetype": "text/x-python",
   "name": "python",
   "nbconvert_exporter": "python",
   "pygments_lexer": "ipython3",
   "version": "3.7.3"
  }
 },
 "nbformat": 4,
 "nbformat_minor": 2
}
