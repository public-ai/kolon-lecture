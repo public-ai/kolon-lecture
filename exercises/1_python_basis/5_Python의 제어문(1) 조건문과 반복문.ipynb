{
 "cells": [
  {
   "cell_type": "markdown",
   "metadata": {},
   "source": [
    "# Python에서의 제어문(1) 조건문과 반복문\n",
    "\n",
    "* Python에서 제공하는 제어문은 크게 3가지 조건문(if) / 반복문(while) / 순회문(for)이 존재합니다. 이번 수업에서는 조건문과 반복문에 대해서 배우도록 하겠습니다.\n"
   ]
  },
  {
   "cell_type": "markdown",
   "metadata": {},
   "source": [
    "#### 예제) 시합에서의 음성 분석\n",
    "\n",
    "검도 대회에서 선수는 공격할 때 \"얍\"이라고 기합을 내고, 공격을 당할 때는 \"앗\"이라고 소리를 낸다. 아래는 시합 중 있었던 한 선수의 기합 소리를 정리해둔 리스트이다. \n",
    "\n",
    "````python\n",
    "['얍', '얍', '얍', '얍', '얍', '얍', '얍', '얍', '얍', '얍', \n",
    " '얍', '얍', '얍', '얍', '얍', '앗', '얍', '얍', '얍', '얍', \n",
    " '앗', '얍', '얍', '얍', '앗', '얍', '얍', '얍', '얍', '얍', \n",
    " '얍', '얍', '앗', '얍', '얍', '얍', '얍', '얍', '얍', '얍', \n",
    " '얍', '얍', '얍', '얍', '얍', '얍', '얍', '앗', '얍', '얍']\n",
    "````\n",
    "\n",
    "위의 정보를 해석해 보자면\n",
    "* 총 50번의 소리를 내질렀다.\n",
    "* 첫 번째로 내지른 소리는 공격할 때의 소리 \"얍\"이었고,\n",
    "* 16 번째로 처음 공격을 당하게 되면서, \"앗\"이라는 소리를 내게 된다. \n",
    "\n",
    "위의 정보로 선수의 승부를 분석해 보자."
   ]
  },
  {
   "cell_type": "markdown",
   "metadata": {},
   "source": [
    "## 문제 1. 공격횟수 `얍` 세기\n",
    "\n",
    "* `while`과 `if`를 통해, 선수의 기합 중 공격 소리인 `얍`의 횟수를 세어주세요"
   ]
  },
  {
   "cell_type": "code",
   "execution_count": 1,
   "metadata": {},
   "outputs": [],
   "source": [
    "sound = ['얍', '얍', '얍', '얍', '얍', '얍', '얍', '얍', '얍', '얍', \n",
    " '얍', '얍', '얍', '얍', '얍', '앗', '얍', '얍', '얍', '얍', \n",
    " '앗', '얍', '얍', '얍', '앗', '얍', '얍', '얍', '얍', '얍', \n",
    " '얍', '얍', '앗', '얍', '얍', '얍', '얍', '얍', '얍', '얍', \n",
    " '얍', '얍', '얍', '얍', '얍', '얍', '얍', '앗', '얍', '얍']"
   ]
  },
  {
   "cell_type": "markdown",
   "metadata": {},
   "source": [
    "#### 답안지 입력란\n",
    "* 아래에 답을 서술하여 주세요\n",
    "* 결과값은 `answer1`에 담아주세요"
   ]
  },
  {
   "cell_type": "code",
   "execution_count": 2,
   "metadata": {},
   "outputs": [],
   "source": [
    "##########\n",
    "# CODE HERE\n",
    "##########"
   ]
  },
  {
   "cell_type": "markdown",
   "metadata": {},
   "source": [
    "#### 정답 확인\n",
    "* 정답을 입력한 후, 아래를 실행시키면 정답인지 확인합니다."
   ]
  },
  {
   "cell_type": "code",
   "execution_count": 3,
   "metadata": {},
   "outputs": [
    {
     "name": "stdout",
     "output_type": "stream",
     "text": [
      "정답입니다!!!!\n"
     ]
    }
   ],
   "source": [
    "assert 'answer1' in globals(), \"결과를 answer1이라는 변수에 담아주세요!, answer1의 값을 보고 평가합니다.\"\n",
    "\n",
    "if (answer1 == 45):\n",
    "    print(\"정답입니다!!!!\")\n",
    "else:\n",
    "    raise ValueError(\"결과는 45가 나와야합니다. 다시 확인해주세요!\")"
   ]
  },
  {
   "cell_type": "markdown",
   "metadata": {},
   "source": [
    "## 문제 2. 승점 세기\n",
    "\n",
    "* 선수가 공격을 할 때, 승점이 1점 올라가고, 선수가 공격을 당할 때, 승점이 1점 내려간다고 할 때, 우리의 선수는 몇 점을 얻었는지 계산해주세요"
   ]
  },
  {
   "cell_type": "code",
   "execution_count": 4,
   "metadata": {},
   "outputs": [],
   "source": [
    "sound = ['얍', '얍', '얍', '얍', '얍', '얍', '얍', '얍', '얍', '얍', \n",
    " '얍', '얍', '얍', '얍', '얍', '앗', '얍', '얍', '얍', '얍', \n",
    " '앗', '얍', '얍', '얍', '앗', '얍', '얍', '얍', '얍', '얍', \n",
    " '얍', '얍', '앗', '얍', '얍', '얍', '얍', '얍', '얍', '얍', \n",
    " '얍', '얍', '얍', '얍', '얍', '얍', '얍', '앗', '얍', '얍']"
   ]
  },
  {
   "cell_type": "markdown",
   "metadata": {},
   "source": [
    "#### 답안지 입력란\n",
    "* 아래에 답을 서술하여 주세요\n",
    "* 결과값은 `answer2`에 담아주세요"
   ]
  },
  {
   "cell_type": "code",
   "execution_count": 5,
   "metadata": {},
   "outputs": [],
   "source": [
    "##########\n",
    "# CODE HERE\n",
    "##########"
   ]
  },
  {
   "cell_type": "markdown",
   "metadata": {},
   "source": [
    "#### 정답 확인\n",
    "* 정답을 입력한 후, 아래를 실행시키면 정답인지 확인합니다."
   ]
  },
  {
   "cell_type": "code",
   "execution_count": 6,
   "metadata": {},
   "outputs": [
    {
     "name": "stdout",
     "output_type": "stream",
     "text": [
      "정답입니다!!!!\n"
     ]
    }
   ],
   "source": [
    "assert 'answer2' in globals(), \"결과를 answer2라는 변수에 담아주세요!, answer2의 값을 보고 평가합니다.\"\n",
    "\n",
    "if (answer2 == 40):\n",
    "    print(\"정답입니다!!!!\")\n",
    "else:\n",
    "    raise ValueError(\"결과는 40이 나와야합니다. 다시 확인해주세요!\")\n",
    "    "
   ]
  },
  {
   "cell_type": "markdown",
   "metadata": {},
   "source": [
    "## 문제 3. 첫 공격 횟수 세기\n",
    "\n",
    "* 선수가 첫 공격 당하기 전까지(==처음 앗 소리가 나오기 전까지) 몇 번이나 공격을 했는지 계산해주세요"
   ]
  },
  {
   "cell_type": "code",
   "execution_count": 7,
   "metadata": {},
   "outputs": [],
   "source": [
    "sound = ['얍', '얍', '얍', '얍', '얍', '얍', '얍', '얍', '얍', '얍', \n",
    " '얍', '얍', '얍', '얍', '얍', '앗', '얍', '얍', '얍', '얍', \n",
    " '앗', '얍', '얍', '얍', '앗', '얍', '얍', '얍', '얍', '얍', \n",
    " '얍', '얍', '앗', '얍', '얍', '얍', '얍', '얍', '얍', '얍', \n",
    " '얍', '얍', '얍', '얍', '얍', '얍', '얍', '앗', '얍', '얍']"
   ]
  },
  {
   "cell_type": "markdown",
   "metadata": {},
   "source": [
    "#### 답안지 입력란\n",
    "* 아래에 답을 서술하여 주세요\n",
    "* 결과값은 `answer3`에 담아주세요"
   ]
  },
  {
   "cell_type": "code",
   "execution_count": 1,
   "metadata": {},
   "outputs": [],
   "source": [
    "##########\n",
    "# CODE HERE\n",
    "##########"
   ]
  },
  {
   "cell_type": "markdown",
   "metadata": {},
   "source": [
    "#### 정답 확인\n",
    "* 정답을 입력한 후, 아래를 실행시키면 정답인지 확인합니다."
   ]
  },
  {
   "cell_type": "code",
   "execution_count": 9,
   "metadata": {},
   "outputs": [
    {
     "name": "stdout",
     "output_type": "stream",
     "text": [
      "정답입니다!!!!\n"
     ]
    }
   ],
   "source": [
    "assert 'answer3' in globals(), \"결과를 answer3이라는 변수에 담아주세요!, answer3의 값을 보고 평가합니다.\"\n",
    "\n",
    "if (answer3 == 15):\n",
    "    print(\"정답입니다!!!!\")\n",
    "else:\n",
    "    raise ValueError(\"결과는 15가 나와야합니다. 다시 확인해주세요!\")\n",
    "    "
   ]
  },
  {
   "cell_type": "markdown",
   "metadata": {},
   "source": [
    "## 문제 4. 최대 연속 공격 횟수 세기\n",
    "\n",
    "* 선수가 가장 길게 연속으로 공격한 횟수(얍 전까지 최대 공격 횟수)가 얼마인지 계산해주세요\n",
    "\n",
    "예시) \n",
    "````python\n",
    "['얍','얍','앗','얍','얍','얍','얍','앗','얍','얍','얍']\n",
    "````\n",
    "위에서 연속 공격은 아래와 같다.\n",
    "* 첫번째 연속 공격 : ['얍','얍']\n",
    "* 두번째 연속 공격 : ['얍','얍','얍',얍']\n",
    "* 세번째 연속 공격 : ['얍','얍','얍]\n",
    "\n",
    "이 중 2번째 연속 공격의 숫자 4가 제일 크므로, 정답은 4이다."
   ]
  },
  {
   "cell_type": "code",
   "execution_count": 10,
   "metadata": {},
   "outputs": [],
   "source": [
    "sound = ['얍', '얍', '얍', '얍', '얍', '얍', '얍', '얍', '얍', '얍', \n",
    " '얍', '얍', '얍', '얍', '얍', '앗', '얍', '얍', '얍', '얍', \n",
    " '앗', '얍', '얍', '얍', '앗', '얍', '얍', '얍', '얍', '얍', \n",
    " '얍', '얍', '앗', '얍', '얍', '얍', '얍', '얍', '얍', '얍', \n",
    " '얍', '얍', '얍', '얍', '얍', '얍', '얍', '앗', '얍', '얍']"
   ]
  },
  {
   "cell_type": "markdown",
   "metadata": {},
   "source": [
    "#### 답안지 입력란\n",
    "* 아래에 답을 서술하여 주세요\n",
    "* 결과값은 `answer4`에 담아주세요"
   ]
  },
  {
   "cell_type": "code",
   "execution_count": 2,
   "metadata": {},
   "outputs": [],
   "source": [
    "##########\n",
    "# CODE HERE\n",
    "##########"
   ]
  },
  {
   "cell_type": "markdown",
   "metadata": {},
   "source": [
    "#### 정답 확인\n",
    "* 정답을 입력한 후, 아래를 실행시키면 정답인지 확인합니다."
   ]
  },
  {
   "cell_type": "code",
   "execution_count": 12,
   "metadata": {},
   "outputs": [
    {
     "name": "stdout",
     "output_type": "stream",
     "text": [
      "정답입니다!!!!\n"
     ]
    }
   ],
   "source": [
    "assert 'answer4' in globals(), \"결과를 answer4라는 변수에 담아주세요!, answer4의 값을 보고 평가합니다.\"\n",
    "\n",
    "if (answer4 == 15):\n",
    "    print(\"정답입니다!!!!\")\n",
    "else:\n",
    "    raise ValueError(\"결과는 15가 나와야합니다. 다시 확인해주세요!\")\n",
    "    "
   ]
  },
  {
   "cell_type": "markdown",
   "metadata": {},
   "source": [
    "## 문제 5. 조건문 이해하기\n",
    "\n",
    "* 주어진 코드의 결과가 어떻게 될지 생각해 보세요!\n",
    "\n",
    "```python\n",
    "str1 = \"Life is too short, you need python\"\n",
    "\n",
    "if \"wife\" in str1:\n",
    "    print(\"wife\")\n",
    "elif \"python\" in str1 and \"you\" not in str1:\n",
    "    print(\"python\")\n",
    "elif \"shirt\" not in str1:\n",
    "    print(\"shirt\")\n",
    "elif \"need\" in str1:\n",
    "    print(\"need\")\n",
    "else:\n",
    "    print(\"none\")\n",
    "```"
   ]
  },
  {
   "cell_type": "markdown",
   "metadata": {},
   "source": [
    "#### 답안지 입력란\n",
    "* 아래에 답을 서술하여 주세요\n",
    "* 결과값은 `answer5`에 담아주세요"
   ]
  },
  {
   "cell_type": "code",
   "execution_count": 3,
   "metadata": {
    "scrolled": true
   },
   "outputs": [],
   "source": [
    "##########\n",
    "# CODE HERE\n",
    "##########"
   ]
  },
  {
   "cell_type": "markdown",
   "metadata": {},
   "source": [
    "#### 정답 확인\n",
    "* 정답을 입력한 후, 아래를 실행시키면 정답인지 확인합니다."
   ]
  },
  {
   "cell_type": "code",
   "execution_count": 14,
   "metadata": {
    "scrolled": true
   },
   "outputs": [
    {
     "name": "stdout",
     "output_type": "stream",
     "text": [
      "정답입니다!!!!\n"
     ]
    }
   ],
   "source": [
    "assert 'answer5' in globals(), \"결과를 answer5라는 변수에 담아주세요!, answer5의 값을 보고 평가합니다.\"\n",
    "\n",
    "if answer5 == \"shirt\":\n",
    "    print(\"정답입니다!!!!\")\n",
    "else:\n",
    "    raise ValueError(\"결과는 'shirt'가 나와야 합니다, 문제에 주어진 코드를 다시 확인해 보세요!\")"
   ]
  },
  {
   "cell_type": "markdown",
   "metadata": {},
   "source": [
    "## 문제 6. 학점 계산하기\n",
    "\n",
    "A 대학교의 학점 기준은 다음과 같습니다\n",
    "```\n",
    "90이상 100이하 >> A\n",
    "80이상 89이하  >> B\n",
    "70이상 79이하  >> C\n",
    "60이상 69이하  >> D\n",
    "60미만 >> F\n",
    "```\n",
    "주어진 점수의 학점을 평가하는 프로그램을 작성해주세요"
   ]
  },
  {
   "cell_type": "markdown",
   "metadata": {},
   "source": [
    "#### 답안지 입력란\n",
    "* 아래에 답을 서술하여 주세요\n",
    "* 결과값은 `answer6`에 담아주세요"
   ]
  },
  {
   "cell_type": "code",
   "execution_count": 15,
   "metadata": {
    "scrolled": false
   },
   "outputs": [
    {
     "name": "stdout",
     "output_type": "stream",
     "text": [
      "점수를 입력해주세요: 87\n"
     ]
    }
   ],
   "source": [
    "# 우선 실행한 후 input_score를 이용해 프로그램을 만들어주세요\n",
    "input_score = int(input(\"점수를 입력해주세요: \"))"
   ]
  },
  {
   "cell_type": "code",
   "execution_count": 4,
   "metadata": {
    "scrolled": true
   },
   "outputs": [],
   "source": [
    "##########\n",
    "# CODE HERE\n",
    "##########"
   ]
  },
  {
   "cell_type": "markdown",
   "metadata": {},
   "source": [
    "#### 정답 확인\n",
    "* 정답을 입력한 후, 아래를 실행시키면 정답인지 확인합니다."
   ]
  },
  {
   "cell_type": "code",
   "execution_count": 17,
   "metadata": {
    "scrolled": true
   },
   "outputs": [
    {
     "name": "stdout",
     "output_type": "stream",
     "text": [
      "정답입니다!!!!\n"
     ]
    }
   ],
   "source": [
    "i = input_score\n",
    "a = answer6\n",
    "if i < 0:\n",
    "    raise ValueError(\"점수(score)는 음수가 될 수 없습니다! 올바른 값을 넣어주세요\")\n",
    "\n",
    "assert 'answer6' in globals(), \"결과를 answer6이라는 변수에 담아주세요!, answer6의 값을 보고 평가합니다.\"\n",
    "assert not ((i >= 90) ^ (a == \"A\")), \"90점 이상이면 A가 나와야합니다.\"\n",
    "assert not (((i < 90) and (i >= 80)) ^ (a == \"B\")), \"90점 미만, 80점 이상 이면 B가 나와야합니다.\"\n",
    "assert not (((i < 80) and (i >= 70)) ^ (a == \"C\")), \"80점 미만, 70점 이상 이면 C가 나와야합니다.\"\n",
    "assert not (((i < 70) and (i >= 60)) ^ (a == \"D\")), \"70점 미만, 60점 이상 이면 D가 나와야합니다.\"\n",
    "assert not ((i < 60) ^ (a == \"F\")), \"60점 미만이면 F가 나와야합니다.\"\n",
    "\n",
    "print(\"정답입니다!!!!\")"
   ]
  },
  {
   "cell_type": "markdown",
   "metadata": {},
   "source": [
    "## 문제 7. 교통카드 잔액 확인하기\n",
    "\n",
    "현재 서울시내 교통요금은 다음과 같습니다.\n",
    "* 어린이(초등학생, 만 7세 이상 12세 이하): 650원\n",
    "* 청소년(중∙고등학생, 만 13세 이상 18세 이하): 1,050원\n",
    "* 어른(일반, 만 19세 이상): 1,250원\n",
    "\n",
    "현재 교통카드 `나이(age)`와 `잔액(balance)`를 입력하면 교통요금 결제 후 금액을 계산해주는 프로그램을 만들어주세요\n",
    "* 조건 : 교통요금은 `charge`라는 변수에 저장해주세요"
   ]
  },
  {
   "cell_type": "markdown",
   "metadata": {},
   "source": [
    "#### 답안지 입력란\n",
    "* 아래에 답을 서술하여 주세요\n",
    "* 결과값은 `answer7`에 담아주세요"
   ]
  },
  {
   "cell_type": "code",
   "execution_count": 18,
   "metadata": {},
   "outputs": [
    {
     "name": "stdout",
     "output_type": "stream",
     "text": [
      "나이를 입력해주세요: 29\n",
      "현재 잔액을 입력해주세요: 8600\n"
     ]
    }
   ],
   "source": [
    "# 우선 실행한 후 input_age와 input_balance를 이용해 프로그램을 만들어주세요\n",
    "input_age = int(input(\"나이를 입력해주세요: \"))\n",
    "input_balance = int(input(\"현재 잔액을 입력해주세요: \"))"
   ]
  },
  {
   "cell_type": "code",
   "execution_count": 5,
   "metadata": {
    "scrolled": true
   },
   "outputs": [],
   "source": [
    "##########\n",
    "# CODE HERE\n",
    "##########"
   ]
  },
  {
   "cell_type": "markdown",
   "metadata": {},
   "source": [
    "#### 정답 확인\n",
    "* 정답을 입력한 후, 아래를 실행시키면 정답인지 확인합니다."
   ]
  },
  {
   "cell_type": "code",
   "execution_count": 20,
   "metadata": {
    "scrolled": true
   },
   "outputs": [
    {
     "name": "stdout",
     "output_type": "stream",
     "text": [
      "정답입니다!!!!\n"
     ]
    }
   ],
   "source": [
    "assert 'answer7' in globals(), \"결과를 answer7이라는 변수에 담아주세요!, answer7의 값을 보고 평가합니다.\"\n",
    "\n",
    "i = input_age\n",
    "b = input_balance\n",
    "assert not ((7<=i<=12) ^ charge==650), \"7세 ~ 12세 사이면 charge는 650이 되어야 합니다\"\n",
    "assert not ((13<=i<=18) ^ charge==1050), \"13세 ~ 18세 사이면 charge는 1050이 되어야 합니다\"\n",
    "assert not ((i>=19) ^ charge==1250), \"19세 이상이면 charge는 1250이 되어야 합니다\"\n",
    "\n",
    "if i < 7: \n",
    "    raise ValueError(\"'input_age'에 7 이상의 수를 넣어주세요!\")\n",
    "if b < 1250:\n",
    "    raise ValueError(\"잔액이 부족합니다. input_balance에 1250원 이상의 값을 넣어주세요!\")\n",
    "if answer7 == b - charge:\n",
    "    print(\"정답입니다!!!!\")\n",
    "else:\n",
    "    raise ValueError(\"결과는 {}가 나와야 합니다, 파이썬 수식에서 오류가 있는지 확인해주세요\".format(answer))"
   ]
  },
  {
   "cell_type": "markdown",
   "metadata": {},
   "source": [
    "## 문제 8. 윤년 계산하기\n",
    "\n",
    "윤년이란, 태양력과 실제 시간의 흐름을 맞추기 위하여 2월 29일 하루를 추가하는 해를 말합니다.\n",
    "\n",
    "윤년에는 일정한 규칙이 있으며, 그 규칙은 다음과 같습니다.\n",
    "\n",
    "* 연도가 4로 나누어지면서 100으로 나누어지지 않던가, 400으로 나누어지면 윤년이다.\n",
    "\n",
    "즉, 4로 나누었을 때 0인 수 중 100으로 나누어 떨어지면 윤년이 아니지만, 400으로 나누어떨어지면 윤년입니다.\n",
    "\n",
    "`if`를 이용하여 윤년인지 확인하고 싶은 `연도(year)`를 입력했을 때, 윤년이면 `윤년입니다!`를, 윤년이 아니면 `윤년이 아닙니다.`를 출력하는 프로그램을 만들어주세요"
   ]
  },
  {
   "cell_type": "markdown",
   "metadata": {},
   "source": [
    "* 힌트 : 조건이 `True`면 `answer8`가 `윤년입니다!`값을 갖고 `False`면 `answer8`가 `윤년이 아닙니다.` 값을 갖게 프로그램을 만들어 보세요"
   ]
  },
  {
   "cell_type": "markdown",
   "metadata": {},
   "source": [
    "#### 답안지 입력란\n",
    "* 아래에 답을 서술하여 주세요\n",
    "* 결과값은 `answer8`에 담아주세요"
   ]
  },
  {
   "cell_type": "code",
   "execution_count": 21,
   "metadata": {
    "scrolled": true
   },
   "outputs": [
    {
     "name": "stdout",
     "output_type": "stream",
     "text": [
      "확인하고 싶은 연도를 입력해주세요: 2800\n"
     ]
    }
   ],
   "source": [
    "# 우선 실행한 후 input_year를 이용해 프로그램을 만들어 주세요\n",
    "input_year = int(input(\"확인하고 싶은 연도를 입력해주세요: \"))"
   ]
  },
  {
   "cell_type": "code",
   "execution_count": 6,
   "metadata": {
    "scrolled": true
   },
   "outputs": [],
   "source": [
    "##########\n",
    "# CODE HERE\n",
    "##########"
   ]
  },
  {
   "cell_type": "markdown",
   "metadata": {},
   "source": [
    "#### 정답 확인\n",
    "* 정답을 입력한 후, 아래를 실행시키면 정답인지 확인합니다."
   ]
  },
  {
   "cell_type": "code",
   "execution_count": 23,
   "metadata": {
    "scrolled": false
   },
   "outputs": [
    {
     "name": "stdout",
     "output_type": "stream",
     "text": [
      "정답입니다!!!!\n"
     ]
    }
   ],
   "source": [
    "assert 'answer8' in globals(), \"결과를 answer8이라는 변수에 담아주세요!, answer8의 값을 보고 평가합니다.\"\n",
    "\n",
    "if input_year < 0:\n",
    "    raise ValueError(\"연도(year)는 음수가 될 수 없습니다! 올바른 값을 넣어주세요\")\n",
    "    \n",
    "assert not ((input_year % 4 == 0) and (input_year % 100 != 0 or input_year % 400 == 0) ^ (answer8==\"윤년입니다!\")), \"결과는 윤년입니다! 가 나와야 합니다. 파이썬 코드를 다시 확인해주세요\"\n",
    "\n",
    "assert ((input_year % 4 == 0) and (input_year % 100 != 0 or input_year % 400 == 0) ^ (answer8==\"윤년이 아닙니다.\")), \"결과는 윤년이 아닙니다. 가 나와야 합니다. 파이썬 코드를 다시 확인해주세요\"\n",
    "\n",
    "print(\"정답입니다!!!!\")"
   ]
  },
  {
   "cell_type": "markdown",
   "metadata": {},
   "source": [
    "## 문제 9. 약수의 합 계산하기\n",
    "\n",
    "약수란, 어떤 수를 나누었을 때 나누어떨어지게 하는 자연수를 뜻합니다.\n",
    "\n",
    "`while`을 이용하여 `2048`의 모든 약수의 합을 구해 보세요"
   ]
  },
  {
   "cell_type": "markdown",
   "metadata": {},
   "source": [
    "#### 답안지 입력란\n",
    "* 아래에 답을 서술하여 주세요\n",
    "* 결과값은 `answer9`에 담아주세요"
   ]
  },
  {
   "cell_type": "code",
   "execution_count": 7,
   "metadata": {},
   "outputs": [],
   "source": [
    "##########\n",
    "# CODE HERE\n",
    "##########"
   ]
  },
  {
   "cell_type": "markdown",
   "metadata": {},
   "source": [
    "#### 정답 확인\n",
    "* 정답을 입력한 후, 아래를 실행시키면 정답인지 확인합니다."
   ]
  },
  {
   "cell_type": "code",
   "execution_count": 25,
   "metadata": {
    "scrolled": true
   },
   "outputs": [
    {
     "name": "stdout",
     "output_type": "stream",
     "text": [
      "정답입니다!!!!\n"
     ]
    }
   ],
   "source": [
    "assert 'answer9' in globals(), \"결과를 answer9라는 변수에 담아주세요!, answer9의 값을 보고 평가합니다.\"\n",
    "\n",
    "if answer9 == 4095:\n",
    "    print(\"정답입니다!!!!\")\n",
    "else:\n",
    "    raise ValueError(\"결과는 4095가 나와야 합니다, 파이썬 수식에서 오류가 있는지 확인해 보세요!\")"
   ]
  },
  {
   "cell_type": "markdown",
   "metadata": {},
   "source": [
    "## 문제 10. 배수의 합 계산하기\n",
    "\n",
    "배수란, 어떤 정수와 다른 정수를 곱했을 때 나오는 수를 뜻합니다.\n",
    "\n",
    "`while`을 이용하여 `1`부터 `1000`까지의 자연수 중 7의 배수의 합을 구해보세요"
   ]
  },
  {
   "cell_type": "markdown",
   "metadata": {},
   "source": [
    "#### 답안지 입력란\n",
    "* 아래에 답을 서술하여 주세요\n",
    "* 결과값은 `answer10`에 담아주세요"
   ]
  },
  {
   "cell_type": "code",
   "execution_count": 8,
   "metadata": {},
   "outputs": [],
   "source": [
    "##########\n",
    "# CODE HERE\n",
    "##########"
   ]
  },
  {
   "cell_type": "markdown",
   "metadata": {},
   "source": [
    "#### 정답 확인\n",
    "* 정답을 입력한 후, 아래를 실행시키면 정답인지 확인합니다."
   ]
  },
  {
   "cell_type": "code",
   "execution_count": 27,
   "metadata": {
    "scrolled": false
   },
   "outputs": [
    {
     "name": "stdout",
     "output_type": "stream",
     "text": [
      "정답입니다!!!!\n"
     ]
    }
   ],
   "source": [
    "assert 'answer10' in globals(), \"결과를 answer10이라는 변수에 담아주세요!, answer10의 값을 보고 평가합니다.\"\n",
    "\n",
    "if answer10 == 71071:\n",
    "    print(\"정답입니다!!!!\")\n",
    "else:\n",
    "    raise ValueError(\"결과는 71071이 나와야 합니다, 파이썬 수식에서 오류가 있는지 확인해 보세요!\")"
   ]
  },
  {
   "cell_type": "markdown",
   "metadata": {},
   "source": [
    "## 문제 11. 소수의 합 계산하기\n",
    "\n",
    "소수란, 1과 그 수 자신 이외의 자연수로는 나눌 수 없는 1보다 큰 자연수를 뜻합니다.\n",
    "\n",
    "`while`을 이용하여 2~100 사이의 모든 소수의 합을 구해주세요\n",
    "\n",
    "* 힌트 : 소수는 2부터 시작되며 자기자신으로만 나누어 떨어지면 소수입니다."
   ]
  },
  {
   "cell_type": "markdown",
   "metadata": {},
   "source": [
    "#### 답안지 입력란\n",
    "* 아래에 답을 서술하여 주세요\n",
    "* 결과값은 `answer11`에 담아주세요"
   ]
  },
  {
   "cell_type": "code",
   "execution_count": 28,
   "metadata": {
    "scrolled": true
   },
   "outputs": [],
   "source": [
    "##########\n",
    "# CODE HERE\n",
    "##########"
   ]
  },
  {
   "cell_type": "markdown",
   "metadata": {},
   "source": [
    "#### 정답 확인\n",
    "* 정답을 입력한 후, 아래를 실행시키면 정답인지 확인합니다."
   ]
  },
  {
   "cell_type": "code",
   "execution_count": 29,
   "metadata": {
    "scrolled": true
   },
   "outputs": [
    {
     "name": "stdout",
     "output_type": "stream",
     "text": [
      "정답입니다!!!!\n"
     ]
    }
   ],
   "source": [
    "assert 'answer11' in globals(), \"결과를 answer11이라는 변수에 담아주세요!, answer11의 값을 보고 평가합니다.\"\n",
    "\n",
    "if answer11 == 1060:\n",
    "    print(\"정답입니다!!!!\")\n",
    "else:\n",
    "    raise ValueError(\"결과는 1060이 나와야 합니다, 파이썬 수식에서 오류가 있는지 확인해 보세요!\")"
   ]
  },
  {
   "cell_type": "markdown",
   "metadata": {},
   "source": [
    "## 문제 12. 피보나치 수열의 합 계산하기\n",
    "\n",
    "피보나치 수열이란 1 1 2 3 5 8 .... 처럼 앞의 두개를 더해서 다음수가 되는 수열을 말합니다.\n",
    "\n",
    "`while`을 이용하여 `1번째 피보나치 수(=1)`부터 `15번째 피보나치 수`의 총합을 구해보세요\n",
    "\n",
    "* 힌트 : 0번째 피보나치 수인 0이 존재한다고 생각하고 문제에 접근해 보세요"
   ]
  },
  {
   "cell_type": "markdown",
   "metadata": {},
   "source": [
    "#### 답안지 입력란\n",
    "* 아래에 답을 서술하여 주세요\n",
    "* 결과값은 `answer12`에 담아주세요"
   ]
  },
  {
   "cell_type": "code",
   "execution_count": 9,
   "metadata": {},
   "outputs": [],
   "source": [
    "##########\n",
    "# CODE HERE\n",
    "##########"
   ]
  },
  {
   "cell_type": "markdown",
   "metadata": {},
   "source": [
    "#### 정답 확인\n",
    "* 정답을 입력한 후, 아래를 실행시키면 정답인지 확인합니다."
   ]
  },
  {
   "cell_type": "code",
   "execution_count": 31,
   "metadata": {
    "scrolled": true
   },
   "outputs": [
    {
     "name": "stdout",
     "output_type": "stream",
     "text": [
      "정답입니다!!!!\n"
     ]
    }
   ],
   "source": [
    "assert 'answer12' in globals(), \"결과를 answer12라는 변수에 담아주세요!, answer12의 값을 보고 평가합니다.\"\n",
    "\n",
    "if answer12 == 1596:\n",
    "    print(\"정답입니다!!!!\")\n",
    "else:\n",
    "    raise ValueError(\"결과는 1596dl 나와야 합니다, 파이썬 수식에서 오류가 있거나 1번째 수 부터 15번째 수까지 더해진 것이 맞는지 확인해 보세요!\")"
   ]
  },
  {
   "cell_type": "markdown",
   "metadata": {},
   "source": [
    "#  \n",
    "\n",
    "\n",
    "<hr>\n",
    "\n",
    "Copyright(c) 2019 by Public AI. All rights reserved.<br>\n",
    "Writen by PAI, DoYeong Kim ( ka2k@publicai.co.kr )  last updated on 2019/07/12\n",
    "<hr>"
   ]
  }
 ],
 "metadata": {
  "kernelspec": {
   "display_name": "Python 3",
   "language": "python",
   "name": "python3"
  },
  "language_info": {
   "codemirror_mode": {
    "name": "ipython",
    "version": 3
   },
   "file_extension": ".py",
   "mimetype": "text/x-python",
   "name": "python",
   "nbconvert_exporter": "python",
   "pygments_lexer": "ipython3",
   "version": "3.6.6"
  },
  "toc": {
   "base_numbering": 1,
   "nav_menu": {},
   "number_sections": false,
   "sideBar": true,
   "skip_h1_title": false,
   "title_cell": "Table of Contents",
   "title_sidebar": "Contents",
   "toc_cell": false,
   "toc_position": {},
   "toc_section_display": true,
   "toc_window_display": false
  },
  "varInspector": {
   "cols": {
    "lenName": 16,
    "lenType": 16,
    "lenVar": 40
   },
   "kernels_config": {
    "python": {
     "delete_cmd_postfix": "",
     "delete_cmd_prefix": "del ",
     "library": "var_list.py",
     "varRefreshCmd": "print(var_dic_list())"
    },
    "r": {
     "delete_cmd_postfix": ") ",
     "delete_cmd_prefix": "rm(",
     "library": "var_list.r",
     "varRefreshCmd": "cat(var_dic_list()) "
    }
   },
   "types_to_exclude": [
    "module",
    "function",
    "builtin_function_or_method",
    "instance",
    "_Feature"
   ],
   "window_display": false
  }
 },
 "nbformat": 4,
 "nbformat_minor": 2
}
