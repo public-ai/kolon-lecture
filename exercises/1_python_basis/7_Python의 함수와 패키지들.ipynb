{
 "cells": [
  {
   "cell_type": "markdown",
   "metadata": {},
   "source": [
    "# Python의 함수와 패키지들"
   ]
  },
  {
   "cell_type": "markdown",
   "metadata": {},
   "source": [
    "## 문제 1. 평균값을 구하는 함수 만들기\n",
    "\n",
    "* 세 개의 수(`x1`,`x2`,`x3`)를 받았을 때, 세 수의 평균을 구하는 함수를 작성해주세요"
   ]
  },
  {
   "cell_type": "markdown",
   "metadata": {},
   "source": [
    "#### 답안지 입력란\n",
    "* 아래에 답을 서술하여 주세요\n",
    "* 메소드 이름은 `calculate_average`로 해주세요"
   ]
  },
  {
   "cell_type": "code",
   "execution_count": 1,
   "metadata": {},
   "outputs": [],
   "source": [
    "def calculate_average(x1,x2,x3):\n",
    "    ############\n",
    "    # CODE HERE!\n",
    "    ############\n",
    "    return "
   ]
  },
  {
   "cell_type": "markdown",
   "metadata": {},
   "source": [
    "#### 정답 확인\n",
    "* 정답을 입력한 후, 아래를 실행시키면 정답인지 확인합니다."
   ]
  },
  {
   "cell_type": "code",
   "execution_count": 3,
   "metadata": {},
   "outputs": [
    {
     "name": "stdout",
     "output_type": "stream",
     "text": [
      "정답입니다!!\n"
     ]
    }
   ],
   "source": [
    "assert 'calculate_average' in globals(), \"메소드 명을 calculate_average로 해주세요\"\n",
    "f = calculate_average\n",
    "assert f(1,1,1) == 1, \"(x1,x2,x3)==(1,1,1)일때, 평균이 1이 나와야 합니다.\"\n",
    "assert f(1,2,3) == 2, \"(x1,x2,x3)==(1,2,3)일때, 평균이 2이 나와야 합니다.\"\n",
    "assert f(3,3,6) == 4, \"(x1,x2,x3)==(3,3,6)일때, 평균이 4이 나와야 합니다.\"\n",
    "assert f(5,4,6) == 5, \"(x1,x2,x3)==(5,4,6)일때, 평균이 5이 나와야 합니다.\"\n",
    "\n",
    "print(\"정답입니다!!\")"
   ]
  },
  {
   "cell_type": "markdown",
   "metadata": {},
   "source": [
    "## 문제 2. 홀수인지 짝수인지 판별해주는 함수 만들기\n",
    "\n",
    "* 주어진 자연수가 홀수면 `True`, 짝수면 `False`를 반환하는 함수를 작성해주세요\n"
   ]
  },
  {
   "cell_type": "markdown",
   "metadata": {},
   "source": [
    "#### 답안지 입력란\n",
    "* 아래에 답을 서술하여 주세요\n",
    "* 메소드 이름은 `is_odd`로 해주세요"
   ]
  },
  {
   "cell_type": "code",
   "execution_count": 4,
   "metadata": {},
   "outputs": [],
   "source": [
    "def is_odd(number):\n",
    "    ############\n",
    "    # CODE HERE!\n",
    "    ############\n",
    "    return "
   ]
  },
  {
   "cell_type": "markdown",
   "metadata": {},
   "source": [
    "#### 정답 확인\n",
    "* 정답을 입력한 후, 아래를 실행시키면 정답인지 확인합니다."
   ]
  },
  {
   "cell_type": "code",
   "execution_count": 5,
   "metadata": {},
   "outputs": [
    {
     "name": "stdout",
     "output_type": "stream",
     "text": [
      "정답입니다!!\n"
     ]
    }
   ],
   "source": [
    "assert 'is_odd' in globals(), \"메소드 명을 is_odd로 해주세요\"\n",
    "f = is_odd\n",
    "assert f(1) == True, \"number == (1)일때, True가 나와야 합니다.\"\n",
    "assert f(2) == False, \"number == (2)일때, False가 나와야 합니다.\"\n",
    "assert f(37) == True, \"number == (37)일때, True가 나와야 합니다.\"\n",
    "assert f(88) == False, \"number == (88)일때, False가 나와야 합니다.\"\n",
    "print(\"정답입니다!!\")"
   ]
  },
  {
   "cell_type": "markdown",
   "metadata": {},
   "source": [
    "## 문제 3. 맨해튼거리(L1 distance)를 구하는 함수 만들기\n",
    "\n",
    "* 두 점의 좌표 ($x_{1}$, $y_{1}$), ($x_{2}$, $y_{2}$)를 받았을 때, 두 점 사이의 맨해튼거리(L1 distance)를 구하는 함수를 만들어주세요\n",
    "\n",
    "\n",
    "* 참고 : 맨해튼거리(L1 distance)\n",
    "\n",
    "> 맨해튼거리는 거리 계산법 중 하나로, 19세기 수학자 민코프스키에 의해 고안되었습니다. 거리 공간을 공간상에서 좌표의 각 성분의 차를 이용하여 거리를 정의합니다. 두 점 $$(x_{1},y_{1})~,~~ (x_{2},y_{2})$$이 주어졌을 때 두점 사이의 맨해튼거리를 계산하는 수식은 다음과 같습니다.\n",
    "\n",
    "$$L1~distance = |x_{1}-x_{2}| + |y_{1}-y_{2}|$$"
   ]
  },
  {
   "cell_type": "markdown",
   "metadata": {},
   "source": [
    "#### 답안지 입력란\n",
    "* 아래에 답을 서술하여 주세요\n",
    "* 메소드 이름은 `manhattan_distance`로 해주세요"
   ]
  },
  {
   "cell_type": "code",
   "execution_count": 6,
   "metadata": {},
   "outputs": [],
   "source": [
    "def manhattan_distance(x1, y1, x2, y2):\n",
    "    ############\n",
    "    # CODE HERE!\n",
    "    ############\n",
    "    return "
   ]
  },
  {
   "cell_type": "markdown",
   "metadata": {},
   "source": [
    "#### 정답 확인\n",
    "* 정답을 입력한 후, 아래를 실행시키면 정답인지 확인합니다."
   ]
  },
  {
   "cell_type": "code",
   "execution_count": 7,
   "metadata": {},
   "outputs": [
    {
     "name": "stdout",
     "output_type": "stream",
     "text": [
      "정답입니다!!\n"
     ]
    }
   ],
   "source": [
    "assert 'manhattan_distance' in globals(), \"메소드 명을 manhattan_distance로 해주세요\"\n",
    "f = manhattan_distance\n",
    "assert f(1,2,3,4) == 4, \"(x1,y1,x2,y2) == (1,2,3,4)일때, 두 점 사이의 L1 distance는 4가 나와야 합니다.\"\n",
    "assert f(5,7,12,21) == 21, \"(x1,y1,x2,y2) == (5,7,12,21)일때, 두 점 사이의 L1 distance는 21이 나와야 합니다.\"\n",
    "assert f(-5,7,12,21) == 31, \"(x1,y1,x2,y2) == (-5,7,12,21)일때, 두 점 사이의 L1 distance는 31가 나와야 합니다.\"\n",
    "assert f(-3,-7,6,11) == 27, \"(x1,y1,x2,y2) == (-3,-7,6,11)일때, 두 점 사이의 L1 distance는 27이 나와야 합니다.\"\n",
    "assert f(-121,-291,871,1024) == 2307, \"(x1,y1,x2,y2) == (-121,-291,871,1024)일때, 두 점 사이의 L1 distance는 2307이 나와야 합니다.\"\n",
    "print(\"정답입니다!!\")"
   ]
  },
  {
   "cell_type": "markdown",
   "metadata": {},
   "source": [
    "## 문제 4. 시간을 초로 환산하는 함수 만들기\n",
    "\n",
    "* (시간, 분, 초)를 입력 받았을 때, 총 시간을 초로 환산해주세요\n",
    "\n",
    "예시) \n",
    "$$1시간\\ 10분\\ 5초 = 3600 * 1 + 60 * 10 + 5 = 3665초$$"
   ]
  },
  {
   "cell_type": "markdown",
   "metadata": {},
   "source": [
    "#### 답안지 입력란\n",
    "* 아래에 답을 서술하여 주세요\n",
    "* 메소드 이름은 `calculate_second`로 해주세요"
   ]
  },
  {
   "cell_type": "code",
   "execution_count": 1,
   "metadata": {},
   "outputs": [],
   "source": [
    "def calculate_second(hour,minute,second):\n",
    "    ############\n",
    "    # CODE HERE!\n",
    "    ############\n",
    "    return"
   ]
  },
  {
   "cell_type": "markdown",
   "metadata": {},
   "source": [
    "#### 정답 확인\n",
    "* 정답을 입력한 후, 아래를 실행시키면 정답인지 확인합니다."
   ]
  },
  {
   "cell_type": "code",
   "execution_count": 9,
   "metadata": {},
   "outputs": [
    {
     "name": "stdout",
     "output_type": "stream",
     "text": [
      "정답입니다!!\n"
     ]
    }
   ],
   "source": [
    "assert 'calculate_second' in globals(), \"메소드 명을 calculate_second 해주세요\"\n",
    "f = calculate_second\n",
    "assert f(1,1,1) == 3661, \"(x1,x2,x3)==(1,1,1)일때, 평균이 3661이 나와야 합니다.\"\n",
    "assert f(5,2,3) == 18123, \"(x1,x2,x3)==(1,2,3)일때, 평균이 18123이 나와야 합니다.\"\n",
    "assert f(3,3,6) == 10986, \"(x1,x2,x3)==(3,3,6)일때, 평균이 10986이 나와야 합니다.\"\n",
    "assert f(5,4,6) == 18246, \"(x1,x2,x3)==(5,4,6)일때, 평균이 18246이 나와야 합니다.\"\n",
    "print(\"정답입니다!!\")"
   ]
  },
  {
   "cell_type": "markdown",
   "metadata": {},
   "source": [
    "## 문제 5. 범위 내 수 들의 합을 구하는 함수\n",
    "\n",
    "`a`와 `b`를 입력 받았을 때, `a`와 `b` 사이 모든 정수들의 합을 반환하고, 입력값이 없을 떄는 `1`과 `10`사이 모든 정수들의 합을 반환하는 함수를 만들어주세요\n",
    "\n",
    "* 초기값 설정에 유의해주세요\n",
    "* $a<b$ 인 경우와 $a \\ge b$인 경우 모두 돌아가도록 작성해 주세요\n",
    "\n",
    "````python\n",
    "sum_in_range(1,3) # >>>>> 1 + 2 + 3 = 6\n",
    "sum_in_range(3,1) # >>>>> 3 + 2 + 1 = 6\n",
    "````\n"
   ]
  },
  {
   "cell_type": "markdown",
   "metadata": {},
   "source": [
    "#### 답안지 입력란\n",
    "* 아래에 답을 서술하여 주세요\n",
    "* 메소드 이름은 `sum_in_range`로 해주세요"
   ]
  },
  {
   "cell_type": "code",
   "execution_count": 10,
   "metadata": {},
   "outputs": [],
   "source": [
    "def sum_in_range(a=1, b=10):\n",
    "    ############\n",
    "    # CODE HERE!\n",
    "    ############\n",
    "    return "
   ]
  },
  {
   "cell_type": "markdown",
   "metadata": {},
   "source": [
    "#### 정답 확인\n",
    "* 정답을 입력한 후, 아래를 실행시키면 정답인지 확인합니다."
   ]
  },
  {
   "cell_type": "code",
   "execution_count": 11,
   "metadata": {},
   "outputs": [
    {
     "name": "stdout",
     "output_type": "stream",
     "text": [
      "정답입니다!!\n"
     ]
    }
   ],
   "source": [
    "assert 'sum_in_range' in globals(), \"메소드 명을 sum_in_range로 해주세요\"\n",
    "f = sum_in_range\n",
    "assert f() == 55, \"입력값이 없을 때, 1과 10사이 정수의 합인 55가 나와야 합니다.\"\n",
    "assert f(2,9) == 44, \"(a,b)==(2,9)일때, 44가 나와야 합니다.\"\n",
    "assert f(29,7) == 414, \"(a,b)==(29,7)일때, 414가 나와야 합니다. 파이썬 코드와 조건을 다시 확인해주세요\"\n",
    "assert f(1328, 2398) == 1995273, \"(a,b)==(1328,2398)일때, 1995273가 나와야 합니다.\"\n",
    "print(\"정답입니다!!\")"
   ]
  },
  {
   "cell_type": "markdown",
   "metadata": {},
   "source": [
    "## 문제 6. 별 나열하기\n",
    "\n",
    "* `n`를 입력 받았을 때, 아래와 같은 규칙으로 별(`*`)로 이루어진 문자열을 반환해주세요\n",
    "\n",
    "예시) \n",
    "* n = 1 일 때, 결과 = `\"*\"`\n",
    "* n = 2 일 때, 결과 = `\"* **\"`\n",
    "* n = 3 일 때, 결과 = `\"* ** ***\"`\n",
    "* n = 4 일 때, 결과 = `\"* ** *** ****\"`\n",
    "* n = 5 일 때, 결과 = `\"* ** *** **** *****\"`"
   ]
  },
  {
   "cell_type": "markdown",
   "metadata": {},
   "source": [
    "#### 답안지 입력란\n",
    "* 아래에 답을 서술하여 주세요\n",
    "* 메소드 이름은 `draw_star`로 해주세요"
   ]
  },
  {
   "cell_type": "code",
   "execution_count": 12,
   "metadata": {},
   "outputs": [],
   "source": [
    "def draw_star(n):\n",
    "    ############\n",
    "    # CODE HERE!\n",
    "    ############\n",
    "    return "
   ]
  },
  {
   "cell_type": "markdown",
   "metadata": {},
   "source": [
    "#### 정답 확인\n",
    "* 정답을 입력한 후, 아래를 실행시키면 정답인지 확인합니다."
   ]
  },
  {
   "cell_type": "code",
   "execution_count": 13,
   "metadata": {},
   "outputs": [
    {
     "name": "stdout",
     "output_type": "stream",
     "text": [
      "정답입니다!!\n"
     ]
    }
   ],
   "source": [
    "assert 'draw_star' in globals(), \"메소드 명을 draw_star 해주세요\"\n",
    "f = draw_star\n",
    "assert f(1) == '*', (\n",
    "    \"f(1)일 때, '*'을 반환해야 합니다. 앞뒤에 공백이 붙었는지 확인해주세요\"\n",
    ")\n",
    "assert f(2) == '* **', (\n",
    "    \"f(2)일 때, '* **'을 반환해야 합니다. 앞뒤에 공백이 붙었는지 확인해주세요\"\n",
    ")\n",
    "assert f(5) == '* ** *** **** *****', (\n",
    "    \"f(5)일 때, '* ** *** **** *****'을 반환해야 합니다. 앞뒤에 공백이 붙었는지 확인해주세요\"\n",
    ")\n",
    "assert f(10) == '* ** *** **** ***** ****** ******* ******** ********* **********', (\n",
    "    \"f(10)일 때, '* ** *** **** ***** ****** ******* ******** ********* **********'을 반환해야 합니다. 앞뒤에 공백이 붙었는지 확인해주세요\"\n",
    ")\n",
    "\n",
    "print(\"정답입니다!!\")"
   ]
  },
  {
   "cell_type": "markdown",
   "metadata": {},
   "source": [
    "## 문제 7. 가장 큰 값 찾기\n",
    "\n",
    "* dictionary를 입력 받았을 때, dictionary의 value 중 가장 큰 값을 찾아주세요\n",
    "\n",
    "예시) \n",
    "````python\n",
    "{\n",
    "    \"x\":1,\n",
    "    \"y\":2,\n",
    "    \"z\":5\n",
    "}\n",
    "````\n",
    "가 주어졌을 때, 가장 큰 값은 `z`의 value인 5이다."
   ]
  },
  {
   "cell_type": "markdown",
   "metadata": {},
   "source": [
    "#### 답안지 입력란\n",
    "* 아래에 답을 서술하여 주세요\n",
    "* 메소드 이름은 `find_max_value`로 해주세요"
   ]
  },
  {
   "cell_type": "code",
   "execution_count": 14,
   "metadata": {},
   "outputs": [],
   "source": [
    "def find_max_value(X):\n",
    "    ############\n",
    "    # CODE HERE!\n",
    "    ############\n",
    "    return "
   ]
  },
  {
   "cell_type": "markdown",
   "metadata": {},
   "source": [
    "#### 정답 확인\n",
    "* 정답을 입력한 후, 아래를 실행시키면 정답인지 확인합니다."
   ]
  },
  {
   "cell_type": "code",
   "execution_count": 15,
   "metadata": {},
   "outputs": [
    {
     "name": "stdout",
     "output_type": "stream",
     "text": [
      "정답입니다!!\n"
     ]
    }
   ],
   "source": [
    "assert 'find_max_value' in globals(), \"메소드 명을 find_max_value 해주세요\"\n",
    "f = find_max_value\n",
    "\n",
    "A = {}\n",
    "A[\"X\"] = 1\n",
    "assert f(A) == 1, (\n",
    "    \"{} 경우, 최대값은 {}이어야 합니다.\".format(A, 1)\n",
    ")\n",
    "A[\"y\"] = 5\n",
    "assert f(A) == 5, (\n",
    "    \"{} 경우, 최대값은 {}이어야 합니다.\".format(A, 5)\n",
    ")\n",
    "\n",
    "A[\"z\"] = -1\n",
    "assert f(A) == 5, (\n",
    "    \"{} 경우, 최대값은 {}이어야 합니다.\".format(A, 5)\n",
    ")\n",
    "\n",
    "A[\"Q\"] = 100\n",
    "assert f(A) == 100, (\n",
    "    \"{} 경우, 최대값은 {}이어야 합니다.\".format(A, 100)\n",
    ")\n",
    "\n",
    "print(\"정답입니다!!\")"
   ]
  },
  {
   "cell_type": "markdown",
   "metadata": {},
   "source": [
    "## 문제 8. 복권 번호를 추첨해주는 함수\n",
    "\n",
    "`random`패키지를 이용해 7개의 복권 번호를 추천해주는 함수를 만들어주세요\n",
    "* 조건 : 복권번호들은 1에서 50까지의 겹치지 않는 정수입니다.\n",
    "\n",
    "\n",
    "* 참고 : `random` 패키지의 `sample`메소드\n",
    "\n",
    "파이썬에서 무작위로 값을 만들어주거나, 고르거나, 섞을 때 주로 이용하는 패키지인 `random`패키지 안에는 `sample`이라는 메소드가 있습니다. `sample`메소드는 주어진 범위 내에서 한번에 랜덤하게 여러 개의 원소를 선택하여 리스트로 반환합니다.\n",
    "```python\n",
    "# 예시\n",
    "print(random.sample(range(0,5), 3) # 결과 >> [4,0,1] (실행할 때마다 random하게 값이 바뀝니다)\n",
    "```"
   ]
  },
  {
   "cell_type": "markdown",
   "metadata": {},
   "source": [
    "#### 답안지 입력란\n",
    "* 아래에 답을 서술하여 주세요\n",
    "* 메소드 이름은 `lottery`로 해주세요"
   ]
  },
  {
   "cell_type": "code",
   "execution_count": 16,
   "metadata": {},
   "outputs": [],
   "source": [
    "import random\n",
    "def lottery():\n",
    "    ############\n",
    "    # CODE HERE!\n",
    "    ############    \n",
    "    return "
   ]
  },
  {
   "cell_type": "markdown",
   "metadata": {},
   "source": [
    "#### 정답 확인\n",
    "* 정답을 입력한 후, 아래를 실행시키면 정답인지 확인합니다."
   ]
  },
  {
   "cell_type": "code",
   "execution_count": 17,
   "metadata": {},
   "outputs": [
    {
     "name": "stdout",
     "output_type": "stream",
     "text": [
      "정답입니다!!\n"
     ]
    }
   ],
   "source": [
    "assert 'lottery' in globals(), \"메소드 명을 lottery로 해주세요\"\n",
    "f = lottery\n",
    "prev = None\n",
    "for _ in range(10):\n",
    "    curr = f()\n",
    "    assert min(curr) >= 1, \"복권번호의 최소 정수는 1입니다. 파이썬 코드를 다시 확인해주세요\"\n",
    "    assert len(curr) == 7, \"복권번호는 총 7개 입니다. 파이썬 코드를 다시 확인해주세요\"\n",
    "    assert max(curr) <= 50, \"복권번호의 최대 정수는 50입니다. 파이썬 코드를 다시 확인해주세요\"\n",
    "\n",
    "    if prev is None:\n",
    "        prev = curr\n",
    "    else:\n",
    "        assert curr != prev, \"복권 번호는 랜덤이어야 합니다. 매번 같은 수가 나오는 것이 아닌지 확인해주세요\"\n",
    "    prev = curr\n",
    "        \n",
    "print(\"정답입니다!!\")"
   ]
  },
  {
   "cell_type": "markdown",
   "metadata": {},
   "source": [
    "## 문제 9. 짝수를 담고 있는 List\n",
    "\n",
    "* 1~100 사이의 모든 짝수를 담고 있는 `list`를 `filter()`와 `lambda` 함수를 이용해 만들어주세요"
   ]
  },
  {
   "cell_type": "markdown",
   "metadata": {},
   "source": [
    "#### 답안지 입력란\n",
    "* 아래에 답을 서술하여 주세요\n",
    "* 결과 값은 `answer9`에 담아주세요"
   ]
  },
  {
   "cell_type": "code",
   "execution_count": 18,
   "metadata": {},
   "outputs": [],
   "source": [
    "############\n",
    "# CODE HERE!\n",
    "############"
   ]
  },
  {
   "cell_type": "markdown",
   "metadata": {},
   "source": [
    "#### 정답 확인\n",
    "* 정답을 입력한 후, 아래를 실행시키면 정답인지 확인합니다."
   ]
  },
  {
   "cell_type": "code",
   "execution_count": 19,
   "metadata": {},
   "outputs": [
    {
     "name": "stdout",
     "output_type": "stream",
     "text": [
      "정답입니다!!!!\n"
     ]
    }
   ],
   "source": [
    "assert 'answer9' in globals(), \"결과를 answer9라는 변수에 담아주세요!, answer9의 값을 보고 평가합니다.\"\n",
    "\n",
    "A = [2, 4, 6, 8, 10, 12, 14, 16, 18, 20,\n",
    " 22, 24, 26, 28, 30, 32, 34, 36, 38, 40,\n",
    " 42, 44, 46, 48, 50, 52, 54, 56, 58, 60,\n",
    " 62, 64, 66, 68, 70, 72, 74, 76, 78, 80,\n",
    " 82, 84, 86, 88, 90, 92, 94, 96, 98, 100]\n",
    "\n",
    "\n",
    "assert len(A) == len(answer9), \"갯수가 맞지 않습니다\"\n",
    "for _A,_answer in zip(A, answer9):\n",
    "    assert _answer == _A, \"\\n정답  : \\n{}\\n현재값 : \\n{}\\n입니다. 다시 수정해서 제출해주세요!\".format(A,answer9)\n",
    "else:\n",
    "    print(\"정답입니다!!!!\")"
   ]
  },
  {
   "cell_type": "markdown",
   "metadata": {},
   "source": [
    "## 문제 10. 조건에 맞는 결과 도출하기\n",
    "\n",
    "주어진 리스트 num_list\n",
    "```python\n",
    "num_list = [1,2,3,4,5,6,7,8,9,10]\n",
    "```\n",
    "에 대하여 3이하의 수는 2를 곱하고 7이상의 수는 제곱을 하고, 나머지 수에는 5를 더한 결과를 담은 `list`를 `map`과 `lambda`함수를 이용해 만들어주세요\n",
    "$$\n",
    "f(n) = \\begin{cases}\n",
    "n*2, & \\mbox{if } n \\le 3 \\\\\n",
    "n^2, & \\mbox{if } n \\ge 7 \\\\\n",
    "n+5, & \\mbox{else }\n",
    "\\end{cases}\n",
    "$$\n",
    "\n",
    "\n",
    "* 참고 : lambda 식에 if가 들어간다면 반드시 else를 사용해야 하며, elif는 사용할 수 없습니다"
   ]
  },
  {
   "cell_type": "code",
   "execution_count": 20,
   "metadata": {},
   "outputs": [],
   "source": [
    "num_list = [1,2,3,4,5,6,7,8,9,10]"
   ]
  },
  {
   "cell_type": "markdown",
   "metadata": {},
   "source": [
    "#### 답안지 입력란\n",
    "* 아래에 답을 서술하여 주세요\n",
    "* 결과 값은 `answer10`에 담아주세요"
   ]
  },
  {
   "cell_type": "code",
   "execution_count": 21,
   "metadata": {},
   "outputs": [],
   "source": [
    "############\n",
    "# CODE HERE!\n",
    "############"
   ]
  },
  {
   "cell_type": "markdown",
   "metadata": {},
   "source": [
    "#### 정답 확인\n",
    "* 정답을 입력한 후, 아래를 실행시키면 정답인지 확인합니다."
   ]
  },
  {
   "cell_type": "code",
   "execution_count": 22,
   "metadata": {},
   "outputs": [
    {
     "name": "stdout",
     "output_type": "stream",
     "text": [
      "정답입니다!!!!\n",
      "\n",
      "사실 이렇게 복잡하고 직관적이지 않은 경우 억지로 람다함수를 사용하지 않고 def로 함수를 만들고 if, elif, else를 사용하는 것이 더 좋습니다.\n",
      "\n"
     ]
    }
   ],
   "source": [
    "assert 'answer10' in globals(), \"결과를 answer10이라는 변수에 담아주세요!, answer10의 값을 보고 평가합니다.\"\n",
    "\n",
    "A = [2, 4, 6, 9, 10, 11, 49, 64, 81, 100]\n",
    "\n",
    "assert isinstance(A,list), \"결과값들을 'list'형식으로 담아주세요\"\n",
    "\n",
    "assert len(A) == len(answer10), \"갯수가 맞지 않습니다\"\n",
    "for _A,_answer in zip(A, answer10):\n",
    "    assert _answer == _A, (\"\\n정답  : \\n{}\\n현재값 : \\n{}\\n입니다. 다시 수정해서 제출해주세요!\".format(A,answer10))\n",
    "else:\n",
    "    print(\"정답입니다!!!!\\n\\n사실 이렇게 복잡하고 직관적이지 않은 경우 억지로 람다함수를 사용하지 않고 def로 함수를 만들고 if, elif, else를 사용하는 것이 더 좋습니다.\\n\")\n"
   ]
  },
  {
   "cell_type": "markdown",
   "metadata": {},
   "source": [
    "## 문제 11. 가변인수를 사용해 함수 만들기(1)\n",
    "\n",
    "`가변인수`를 사용해 입력값이 여러개일 때 그 입력값을 모두 더하는 함수를 만들어주세요\n",
    "* 참고 : `가변인수` 란?\n",
    "입력값이 몇 개인지 모를 때 매개변수를 어떻게 정의해야 할까요? 입력값이 몇 개인지 모를 때 생기는 문제를 해결하기 위해 python에는 `가변인수`를 사용합니다. 가변인수를 사용하면 같은 함수에 인수 한 개를 넣을 수도 있고, 열 개를 넣을 수도 있습니다. 또는, 인수를 넣지 않을 수도 있습니다.\n",
    "\n",
    "가변인수 함수는 기본적으로 매개변수 앞에 `*`를 붙여 다음과 같이 활용합니다\n",
    "```python\n",
    "def 함수이름(*매개변수):\n",
    "    코드\n",
    "# 예시\n",
    "def print_numbers(*args):\n",
    "\tfor arg in args:\n",
    "        print(arg)\n",
    "\n",
    "print_numbers(1,2) # 결과 >> 각각 다른 줄에 1 2 출력\n",
    "print_numbers(3,4,5,6,7) # 결과 >> 각각 다른 줄에 3 4 5 6 7 출력\n",
    "```"
   ]
  },
  {
   "cell_type": "markdown",
   "metadata": {},
   "source": [
    "#### 답안지 입력란\n",
    "* 아래에 답을 서술하여 주세요\n",
    "* 메소드 이름은 `add_many`로 해주세요"
   ]
  },
  {
   "cell_type": "code",
   "execution_count": 23,
   "metadata": {},
   "outputs": [],
   "source": [
    "def add_many(*args): \n",
    "    ############\n",
    "    # CODE HERE!\n",
    "    ############\n",
    "    return "
   ]
  },
  {
   "cell_type": "markdown",
   "metadata": {},
   "source": [
    "#### 정답 확인\n",
    "* 정답을 입력한 후, 아래를 실행시키면 정답인지 확인합니다."
   ]
  },
  {
   "cell_type": "code",
   "execution_count": 24,
   "metadata": {},
   "outputs": [
    {
     "name": "stdout",
     "output_type": "stream",
     "text": [
      "정답입니다!!\n"
     ]
    }
   ],
   "source": [
    "assert 'add_many' in globals(), \"메소드 명을 add_many로 해주세요\"\n",
    "f = add_many\n",
    "assert f(6,7) == 13, \"입력 된 인수들이 (6,7)일때, 결과는 13이 나와야 합니다.\"\n",
    "assert f(9,7,2) == 18, \"입력 된 인수들이 (9,7,2)일때, 결과는 18이 나와야 합니다.\"\n",
    "assert f(1,2,3,4) == 10, \"입력 된 인수들이 (1,2,3,4)일때, 결과는 10이 나와야 합니다.\"\n",
    "assert f(1,2,3,4,5) == 15, \"입력 된 인수들이 (1,2,3,4,5)일때, 결과는 15가 나와야 합니다.\"\n",
    "assert f(1,2,3,4,5,6) == 21, \"입력 된 인수들이 (1,2,3,4,5,6)일때, 결과는 21이 나와야 합니다.\"\n",
    "assert f(1,2,3,4,5,6,7) == 28, \"입력 된 인수들이 (1,2,3,4,5,6,7)일때, 결과는 28이 나와야 합니다.\"\n",
    "assert f(1,2,3,4,5,6,7,8) == 36, \"입력 된 인수들이 (1,2,3,4,5,6,7,8)일때, 결과는 36이 나와야 합니다.\"\n",
    "assert f(1,2,3,4,5,6,7,8,9) == 45, \"입력 된 인수들이 (1,2,3,4,5,6,7,8,9)일때, 결과는 45가 나와야 합니다.\"\n",
    "assert f(1,2,3,4,5,6,7,8,9,10) == 55, \"입력 된 인수들이 (1,2,3,4,5,6,7,8,9,10)일때, 결과는 55가 나와야 합니다.\"\n",
    "\n",
    "print(\"정답입니다!!\")"
   ]
  },
  {
   "cell_type": "markdown",
   "metadata": {},
   "source": [
    "## 문제 12. 가변인수를 사용해 함수 만들기(2)\n",
    "\n",
    "`가변인수`를 사용해 `\"add\"`를 입력받으면 입력받은 수 들의 합을 계산하고, `\"mul\"`을 입력받으면 입력받은 수들의 합을 계산하고, `\"add\"`와 `\"mul\"`이외의 값을 입력받으면 `'choice에 \"add\" 혹은 \"mul\"을 입력해주세요'`라는 string을 리턴하는 함수를 만들어주세요\n",
    "```python\n",
    "# 예시\n",
    "add_mul('add', 1,2,3) # 결과 >> 6\n",
    "add_mul('mul', 1,2,3,4) # 결과 >> 24\n",
    "add_mul('hi', 1,2,3) # 결과 >> 'choice에 \"add\" 혹은 \"mul\"을 입력해주세요'\n",
    "```"
   ]
  },
  {
   "cell_type": "markdown",
   "metadata": {},
   "source": [
    "#### 답안지 입력란\n",
    "* 아래에 답을 서술하여 주세요\n",
    "* 메소드 이름은 `add_mul`로 해주세요"
   ]
  },
  {
   "cell_type": "code",
   "execution_count": 25,
   "metadata": {},
   "outputs": [],
   "source": [
    "def add_mul(choice, *args):\n",
    "    ############\n",
    "    # CODE HERE!\n",
    "    ############\n",
    "    return "
   ]
  },
  {
   "cell_type": "markdown",
   "metadata": {},
   "source": [
    "#### 정답 확인\n",
    "* 정답을 입력한 후, 아래를 실행시키면 정답인지 확인합니다."
   ]
  },
  {
   "cell_type": "code",
   "execution_count": 26,
   "metadata": {},
   "outputs": [
    {
     "name": "stdout",
     "output_type": "stream",
     "text": [
      "정답입니다!!\n"
     ]
    }
   ],
   "source": [
    "assert 'add_mul' in globals(), \"메소드 명을 add_mul로 해주세요\"\n",
    "f = add_mul\n",
    "\n",
    "assert f(1,6,7) == 'choice에 \"add\" 혹은 \"mul\"을 입력해주세요', \"'choice'에 'add'혹은 'mul'이 입력되지 않았을 때, 주어진 조건에 맞는 문구를 출력해야 합니다. 파이썬 코드나 wording에 주의하세요\"\n",
    "assert f('hi',6,7) == 'choice에 \"add\" 혹은 \"mul\"을 입력해주세요', \"'choice'에 'add'혹은 'mul'이 입력되지 않았을 때, 주어진 조건에 맞는 문구를 출력해야 합니다. 파이썬 코드나 wording에 주의하세요\"\n",
    "assert f(1424,6,7) == 'choice에 \"add\" 혹은 \"mul\"을 입력해주세요', \"'choice'에 'add'혹은 'mul'이 입력되지 않았을 때, 주어진 조건에 맞는 문구를 출력해야 합니다. 파이썬 코드나 wording에 주의하세요\"\n",
    "assert f('add',6,7) == 13, \"입력 된 인수들이 ('add',6,7)일때, 결과는 13이 나와야 합니다.\"\n",
    "assert f('mul',6,7) == 42, \"입력 된 인수들이 ('mul',6,7)일때, 결과는 42가 나와야 합니다.\"\n",
    "assert f('add',2,3,4) == 9, \"입력 된 인수들이 ('add',2,3,4)일때, 결과는 9가 나와야 합니다.\"\n",
    "assert f('mul',2,3,4) == 24, \"입력 된 인수들이 ('mul',2,3,4)일때, 결과는 24가 나와야 합니다.\"\n",
    "assert f('add',2,3,4,5) == 14, \"입력 된 인수들이 ('add',2,3,4,5)일때, 결과는 14가 나와야 합니다.\"\n",
    "assert f('mul',2,3,4,5) == 120, \"입력 된 인수들이 ('mul',2,3,4,5)일때, 결과는 120이 나와야 합니다.\"\n",
    "assert f('add',4,12,32,91,83) == 222, \"입력 된 인수들이 ('add',4,12,32,91,83)일때, 결과는 222가 나와야 합니다.\"\n",
    "assert f('mul',4,12,32,91,83) == 11601408, \"입력 된 인수들이 ('mul',4,12,32,91,83)일때, 결과는 11601408이 나와야 합니다.\"\n",
    "assert f('add',6,7) == 13, \"입력 된 인수들이 ('add',6,7)일때, 결과는 13이 나와야 합니다.\"\n",
    "\n",
    "print(\"정답입니다!!\")"
   ]
  },
  {
   "cell_type": "markdown",
   "metadata": {},
   "source": [
    "\n",
    "\n",
    "<hr>\n",
    "\n",
    "Copyright(c) 2019 by Public AI. All rights reserved.<br>\n",
    "Writen by PAI, DoYeong Kim ( ka2k@publicai.co.kr )  last updated on 2019/07/12\n",
    "<hr>"
   ]
  }
 ],
 "metadata": {
  "kernelspec": {
   "display_name": "Python 3",
   "language": "python",
   "name": "python3"
  },
  "language_info": {
   "codemirror_mode": {
    "name": "ipython",
    "version": 3
   },
   "file_extension": ".py",
   "mimetype": "text/x-python",
   "name": "python",
   "nbconvert_exporter": "python",
   "pygments_lexer": "ipython3",
   "version": "3.6.6"
  },
  "toc": {
   "base_numbering": 1,
   "nav_menu": {},
   "number_sections": false,
   "sideBar": true,
   "skip_h1_title": false,
   "title_cell": "Table of Contents",
   "title_sidebar": "Contents",
   "toc_cell": false,
   "toc_position": {},
   "toc_section_display": true,
   "toc_window_display": false
  },
  "varInspector": {
   "cols": {
    "lenName": 16,
    "lenType": 16,
    "lenVar": 40
   },
   "kernels_config": {
    "python": {
     "delete_cmd_postfix": "",
     "delete_cmd_prefix": "del ",
     "library": "var_list.py",
     "varRefreshCmd": "print(var_dic_list())"
    },
    "r": {
     "delete_cmd_postfix": ") ",
     "delete_cmd_prefix": "rm(",
     "library": "var_list.r",
     "varRefreshCmd": "cat(var_dic_list()) "
    }
   },
   "types_to_exclude": [
    "module",
    "function",
    "builtin_function_or_method",
    "instance",
    "_Feature"
   ],
   "window_display": false
  }
 },
 "nbformat": 4,
 "nbformat_minor": 2
}
