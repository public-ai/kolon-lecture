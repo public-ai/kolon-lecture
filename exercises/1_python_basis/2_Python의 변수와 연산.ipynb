{
 "cells": [
  {
   "cell_type": "markdown",
   "metadata": {},
   "source": [
    "## Python의 변수와 연산\n",
    "\n",
    "## Objective\n",
    "1. **변수를 만들고, 저장하는 방법을 배웁니다.**\n",
    "2. **Python으로, 숫자를 계산하는 방법을 배웁니다.**"
   ]
  },
  {
   "cell_type": "markdown",
   "metadata": {},
   "source": [
    "## 문제 1. 변수에 값 담기\n",
    "\n",
    "`x`라는 변수에 `1234`라는 정수값을 담아보세요"
   ]
  },
  {
   "cell_type": "markdown",
   "metadata": {},
   "source": [
    "#### 답안지 입력란\n",
    "* 아래에 답을 서술하여 주세요"
   ]
  },
  {
   "cell_type": "code",
   "execution_count": null,
   "metadata": {},
   "outputs": [],
   "source": [
    "##########\n",
    "# CODE HERE\n",
    "##########"
   ]
  },
  {
   "cell_type": "markdown",
   "metadata": {},
   "source": [
    "#### 정답 확인\n",
    "* 정답을 입력한 후, 아래를 실행시키면 정답인지 확인합니다."
   ]
  },
  {
   "cell_type": "code",
   "execution_count": null,
   "metadata": {
    "scrolled": true
   },
   "outputs": [],
   "source": [
    "# 변수 이름을 적절히 넣었는지 확인\n",
    "assert 'x' in globals(), \"x에 값을 담았는지 확인해주세요\"\n",
    "\n",
    "if x == 1234:\n",
    "    print(\"정답입니다!!!!\")\n",
    "else:\n",
    "    raise ValueError(\"x가 1234인지 확인해주세요\")"
   ]
  },
  {
   "cell_type": "markdown",
   "metadata": {},
   "source": [
    "## 문제 2. 변수에 변수를 저장하기\n",
    "위에서 변수 `x`에 `1234`라는 정수값을 담아보았습니다.\n",
    "\n",
    "이번에는 변수 `x`에 `5678`이라는 정수값을 담은 후 변수 `x`를 `answer2`라는 변수에 담아보세요"
   ]
  },
  {
   "cell_type": "markdown",
   "metadata": {},
   "source": [
    "#### 답안지 입력란\n",
    "* 아래에 답을 서술하여 주세요\n",
    "* 결과값은 `answer2`에 담아주세요"
   ]
  },
  {
   "cell_type": "code",
   "execution_count": null,
   "metadata": {},
   "outputs": [],
   "source": [
    "##########\n",
    "# CODE HERE\n",
    "##########"
   ]
  },
  {
   "cell_type": "markdown",
   "metadata": {},
   "source": [
    "#### 정답 확인\n",
    "* 정답을 입력한 후, 아래를 실행시키면 정답인지 확인합니다."
   ]
  },
  {
   "cell_type": "code",
   "execution_count": null,
   "metadata": {},
   "outputs": [],
   "source": [
    "assert 'answer2' in globals(), \"결과를 answer2라는 변수에 담아주세요!, answer2의 값을 보고 평가합니다.\"\n",
    "\n",
    "if answer2 == 5678:\n",
    "    print(\"정답입니다!!!!!\")\n",
    "else :\n",
    "    if x!=5678:\n",
    "        raise ValueError(\"x에는 5678이 담겨 있어야 합니다. x=5678이 맞는지 확인해주세요\")\n",
    "\n",
    "    raise ValueError(\"결과는 5678이 나와야 합니다, 파이썬 수식에서 오류가 있는지 확인해주세요\")"
   ]
  },
  {
   "cell_type": "markdown",
   "metadata": {},
   "source": [
    "## 문제 3. 변수끼리 값을 바꾸기\n",
    "* 현재 `x`와 `y`에는 각각 1234, 312의 값이 들어가 있습니다. `x`에 312, `y`에는 1234가 들어가도록 값을 넣어주세요"
   ]
  },
  {
   "cell_type": "code",
   "execution_count": null,
   "metadata": {},
   "outputs": [],
   "source": [
    "# 우선 실행해주세요\n",
    "x = 1234\n",
    "y = 312"
   ]
  },
  {
   "cell_type": "markdown",
   "metadata": {},
   "source": [
    "#### 답안지 입력란\n",
    "* 아래에 답을 서술하여 주세요"
   ]
  },
  {
   "cell_type": "code",
   "execution_count": null,
   "metadata": {},
   "outputs": [],
   "source": [
    "##########\n",
    "# CODE HERE\n",
    "##########"
   ]
  },
  {
   "cell_type": "markdown",
   "metadata": {},
   "source": [
    "#### 정답 확인\n",
    "* 정답을 입력한 후, 아래를 실행시키면 정답인지 확인합니다."
   ]
  },
  {
   "cell_type": "code",
   "execution_count": null,
   "metadata": {},
   "outputs": [],
   "source": [
    "assert 'x' in globals(), \"x에 값이 누락되어 있는지 확인해주세요\"\n",
    "assert 'y' in globals(), \"y에 값이 누락되어 있는지 확인해주세요\"\n",
    "\n",
    "if (x == 312):\n",
    "    if (y == 1234):\n",
    "        print(\"정답입니다!!!!\")\n",
    "    else:\n",
    "        raise ValueError(\"y에는 1234가 들어가야 합니다.\")\n",
    "else:\n",
    "    if (y == 1234):\n",
    "        raise ValueError(\"x에는 312가 들어가야 합니다.\")\n",
    "    else:\n",
    "        raise ValueError(\"x에는 312, y에는 1234가 들어가야 합니다.\")"
   ]
  },
  {
   "cell_type": "markdown",
   "metadata": {},
   "source": [
    "## 문제 4. 수식 풀기(1)\n",
    "아래의 수식의 결과를 파이썬으로 풀어주세요\n",
    "\n",
    "$$\n",
    "x = 12 , y = 3 일때, \n",
    "\\frac{(x^2 + 2y)}{3}의 결과값을\n",
    "$$\n",
    "변수 `answer4`에 담아주세요."
   ]
  },
  {
   "cell_type": "code",
   "execution_count": null,
   "metadata": {},
   "outputs": [],
   "source": [
    "# 우선 실행해주세요\n",
    "x = 12\n",
    "y = 3"
   ]
  },
  {
   "cell_type": "markdown",
   "metadata": {},
   "source": [
    "#### 답안지 입력란\n",
    "* 아래에 답을 서술하여 주세요\n",
    "* 결과값은 `answer4`에 담아주세요"
   ]
  },
  {
   "cell_type": "code",
   "execution_count": null,
   "metadata": {},
   "outputs": [],
   "source": [
    "##########\n",
    "# CODE HERE\n",
    "##########"
   ]
  },
  {
   "cell_type": "markdown",
   "metadata": {},
   "source": [
    "#### 정답 확인\n",
    "* 정답을 입력한 후, 아래를 실행시키면 정답인지 확인합니다."
   ]
  },
  {
   "cell_type": "code",
   "execution_count": null,
   "metadata": {},
   "outputs": [],
   "source": [
    "assert 'answer4' in globals(), \"결과를 answer4라는 변수에 담아주세요!, answer4의 값을 보고 평가합니다.\"\n",
    "\n",
    "if answer4 == 50.0:\n",
    "    print(\"정답입니다!!!!!\")\n",
    "else :\n",
    "    if x!=12 or y!=3:\n",
    "        raise ValueError(\"x에는 12, y에는 3이 담겨 있어야 합니다. x=12,y=3이 있는지 확인해주세요\")\n",
    "\n",
    "    raise ValueError(\"결과는 50.0이 나와야 합니다, 파이썬 수식에서 오류가 있는지 확인해주세요\")"
   ]
  },
  {
   "cell_type": "markdown",
   "metadata": {},
   "source": [
    "## 문제 5. 수식 풀기(2)\n",
    "아래의 수식의 결과를 파이썬으로 풀어주세요\n",
    "\n",
    "$$\n",
    "x = 12 , y = 3 일때, \n",
    "result = \\frac{(x^2 + 2y)^3}{5}+(5x+2y)\n",
    "$$"
   ]
  },
  {
   "cell_type": "code",
   "execution_count": null,
   "metadata": {},
   "outputs": [],
   "source": [
    "# 우선 실행해주세요\n",
    "x = 12\n",
    "y = 3"
   ]
  },
  {
   "cell_type": "markdown",
   "metadata": {},
   "source": [
    "#### 답안지 입력란\n",
    "* 아래에 답을 서술하여 주세요\n",
    "* 결과값은 `answer5`에 담아주세요"
   ]
  },
  {
   "cell_type": "code",
   "execution_count": null,
   "metadata": {},
   "outputs": [],
   "source": [
    "##########\n",
    "# CODE HERE\n",
    "##########"
   ]
  },
  {
   "cell_type": "markdown",
   "metadata": {},
   "source": [
    "#### 정답 확인\n",
    "* 정답을 입력한 후, 아래를 실행시키면 정답인지 확인합니다."
   ]
  },
  {
   "cell_type": "code",
   "execution_count": null,
   "metadata": {
    "scrolled": true
   },
   "outputs": [],
   "source": [
    "assert 'answer5' in globals(), \"결과를 answer5라는 변수에 담아주세요!, answer5 값을 보고 평가합니다.\"\n",
    "    \n",
    "if answer5 == 675066.0:\n",
    "    print(\"정답입니다!!!!!\")\n",
    "else :\n",
    "    if x!=12 or y!=3:\n",
    "        raise ValueError(\"x에는 12, y에는 3이 담겨 있어야 합니다. x=12,y=3이 있는지 확인해주세요\")\n",
    "\n",
    "    raise ValueError(\"결과는 사실 675066.0이 나와야 합니다, 파이썬 수식에서 오류가 있는지 확인해주세요\")\n"
   ]
  },
  {
   "cell_type": "markdown",
   "metadata": {},
   "source": [
    "## 문제 6. 논리형 데이터 다루기(1)\n",
    "\n",
    "다음 연산들의 결과값을 예시와 같이 `answer5`에 담아주세요\n",
    "\n",
    "`(4 <= 2 * 3) and (7 + 1 == 8)`\n",
    "\n",
    "`(12 > 6 * 2) or ( 7 >= 3 + 4)`\n",
    "\n",
    "`(3 ** 2 + 1 != 30 / 3`\n",
    "\n",
    "`(9 - 4) * 2 == 77 / 7 - 1`\n",
    "\n",
    "* 예시 : answer6 = True, False, True, False"
   ]
  },
  {
   "cell_type": "markdown",
   "metadata": {},
   "source": [
    "#### 답안지 입력란\n",
    "* 아래에 답을 서술하여 주세요\n",
    "* 결과값은 `answer6`에 담아주세요"
   ]
  },
  {
   "cell_type": "code",
   "execution_count": null,
   "metadata": {},
   "outputs": [],
   "source": [
    "##########\n",
    "# CODE HERE\n",
    "##########"
   ]
  },
  {
   "cell_type": "markdown",
   "metadata": {},
   "source": [
    "#### 정답 확인\n",
    "* 정답을 입력한 후, 아래를 실행시키면 정답인지 확인합니다."
   ]
  },
  {
   "cell_type": "code",
   "execution_count": null,
   "metadata": {},
   "outputs": [],
   "source": [
    "assert 'answer6' in globals(), \"결과를 answer6이라는 변수에 담아주세요!, answer6의 값을 보고 평가합니다.\"\n",
    "\n",
    "if (answer6[0] == True) and (answer6[1] == True) and (answer6[2] == False) and (answer6[3] == True):\n",
    "    print(\"정답입니다!!!!!\")\n",
    "else :\n",
    "    raise ValueError(\"제출하신 결과가 정답과 다릅니다. 연산들의 결과를 다시 확인해주세요\")\n"
   ]
  },
  {
   "cell_type": "markdown",
   "metadata": {},
   "source": [
    "## 문제 7. 논리형 데이터 다루기(2)\n",
    "\n",
    "한 대학교의 통과점수가 국어, 영어, 수학, 과학 전 과목 각각 80점 이상이어야 한다고 할 때, 주어진 점수가 합격이면 `True`, 불합격이면 `False`를 출력해주세요\n"
   ]
  },
  {
   "cell_type": "code",
   "execution_count": null,
   "metadata": {},
   "outputs": [],
   "source": [
    "# 우선 실행해주세요\n",
    "korean = 80\n",
    "mathemetics = 100\n",
    "english = 96\n",
    "science = 73"
   ]
  },
  {
   "cell_type": "markdown",
   "metadata": {},
   "source": [
    "#### 답안지 입력란\n",
    "* 아래에 답을 서술하여 주세요\n",
    "* 결과값은 `answer7`에 담아주세요"
   ]
  },
  {
   "cell_type": "code",
   "execution_count": null,
   "metadata": {},
   "outputs": [],
   "source": [
    "##########\n",
    "# CODE HERE\n",
    "##########"
   ]
  },
  {
   "cell_type": "markdown",
   "metadata": {},
   "source": [
    "#### 정답 확인\n",
    "* 정답을 입력한 후, 아래를 실행시키면 정답인지 확인합니다."
   ]
  },
  {
   "cell_type": "code",
   "execution_count": null,
   "metadata": {},
   "outputs": [],
   "source": [
    "assert 'answer7' in globals(), \"결과를 answer7이라는 변수에 담아주세요!, answer7의 값을 보고 평가합니다.\"\n",
    "    \n",
    "if answer7 == False:\n",
    "    print(\"정답입니다!!!!!\")\n",
    "else :\n",
    "    raise ValueError(\"결과는 False가 나와야 합니다, 파이썬 수식에서 오류가 있는지 확인해주세요\")\n"
   ]
  },
  {
   "cell_type": "markdown",
   "metadata": {},
   "source": [
    "## 문제 8. 문자열형 데이터 다루기\n",
    "\n",
    "문자열 더하기와 문자열 곱하기를 이용하여 아래 문장과 같이 출력해주세요\n",
    "\n",
    "`토끼가 깡총깡총 토끼가 깡총깡총 토끼가 깡총깡총`\n"
   ]
  },
  {
   "cell_type": "code",
   "execution_count": null,
   "metadata": {},
   "outputs": [],
   "source": [
    "# 우선 실행해주세요\n",
    "str1 = \"토끼가\"\n",
    "str2 = \"깡총깡총\""
   ]
  },
  {
   "cell_type": "markdown",
   "metadata": {},
   "source": [
    "#### 답안지 입력란\n",
    "* 아래에 답을 서술하여 주세요\n",
    "* 결과값은 `answer8`에 담아주세요"
   ]
  },
  {
   "cell_type": "code",
   "execution_count": null,
   "metadata": {},
   "outputs": [],
   "source": [
    "##########\n",
    "# CODE HERE\n",
    "##########"
   ]
  },
  {
   "cell_type": "markdown",
   "metadata": {},
   "source": [
    "#### 정답 확인\n",
    "* 정답을 입력한 후, 아래를 실행시키면 정답인지 확인합니다."
   ]
  },
  {
   "cell_type": "code",
   "execution_count": null,
   "metadata": {},
   "outputs": [],
   "source": [
    "assert 'answer8' in globals(), \"결과를 answer8이라는 변수에 담아주세요!, answer8의 값을 보고 평가합니다.\"\n",
    "    \n",
    "if answer8.strip() == \"토끼가 깡총깡총 토끼가 깡총깡총 토끼가 깡총깡총\":\n",
    "    print(\"정답입니다!!!!!\")\n",
    "else :\n",
    "    if str1!=\"토끼가\" or str2!=\"깡총깡총\":\n",
    "        raise ValueError(\"str1에는 '토끼가', str2에는 '깡총깡총'이 담겨 있어야 합니다. str1='토끼가',str2='깡총깡총'이 맞는지 확인해주세요\")\n",
    "\n",
    "    raise ValueError(\"결과는 '토끼가 깡총깡총 토끼가 깡총깡총 토끼가 깡총깡총'이 나와야 합니다, 띄어쓰기 및 파이썬 수식에서 오류가 있는지 확인해주세요\")\n"
   ]
  },
  {
   "cell_type": "markdown",
   "metadata": {},
   "source": [
    "## 문제 9. 문자열 접근하기\n",
    "\n",
    "문자열 인덱싱을 이용하여 \n",
    "\n",
    "`고달픈 삶의 길에, 당신은 선물인걸, 이 사랑이 녹슬지 않도록, 늘 닦아 비출게요`\n",
    "\n",
    "의 문자열에서 \n",
    "\n",
    "`당신은 선물인걸` \n",
    "\n",
    "부분을 변수 `answer9`에 담아주세요\n"
   ]
  },
  {
   "cell_type": "code",
   "execution_count": null,
   "metadata": {},
   "outputs": [],
   "source": [
    "# 우선 실행해주세요\n",
    "lyrics = \"고달픈 삶의 길에, 당신은 선물인걸, 이 사랑이 녹슬지 않도록, 늘 닦아 비출게요\""
   ]
  },
  {
   "cell_type": "markdown",
   "metadata": {},
   "source": [
    "#### 답안지 입력란\n",
    "* 아래에 답을 서술하여 주세요\n",
    "* 결과값은 `answer9`에 담아주세요"
   ]
  },
  {
   "cell_type": "code",
   "execution_count": null,
   "metadata": {},
   "outputs": [],
   "source": [
    "##########\n",
    "# CODE HERE\n",
    "##########"
   ]
  },
  {
   "cell_type": "markdown",
   "metadata": {},
   "source": [
    "#### 정답 확인\n",
    "* 정답을 입력한 후, 아래를 실행시키면 정답인지 확인합니다."
   ]
  },
  {
   "cell_type": "code",
   "execution_count": null,
   "metadata": {
    "scrolled": true
   },
   "outputs": [],
   "source": [
    "assert 'answer9' in globals(), \"결과를 answer9라는 변수에 담아주세요!, answer9의 값을 보고 평가합니다.\"\n",
    "    \n",
    "if answer9.strip() == \"당신은 선물인걸\":\n",
    "    print(\"정답입니다!!!!!\")\n",
    "else :\n",
    "    raise ValueError(\"결과는 '당신은 선물인걸'이 나와야 합니다, 파이썬 수식에서 오류가 있는지 확인해주세요\")\n"
   ]
  },
  {
   "cell_type": "markdown",
   "metadata": {},
   "source": [
    "## 문제 10. 문자열 인덱싱\n",
    "\n",
    "문자열 인덱싱을 이용하여 전화번호 `010-1111-2222`를 \n",
    "\n",
    "`01011112222`의 형태로 출력해주세요."
   ]
  },
  {
   "cell_type": "code",
   "execution_count": null,
   "metadata": {},
   "outputs": [],
   "source": [
    "# 우선 실행해주세요\n",
    "phone_number = \"010-1111-2222\""
   ]
  },
  {
   "cell_type": "markdown",
   "metadata": {},
   "source": [
    "#### 답안지 입력란\n",
    "* 아래에 답을 서술하여 주세요\n",
    "* 결과값은 `answer10`에 담아주세요"
   ]
  },
  {
   "cell_type": "code",
   "execution_count": null,
   "metadata": {},
   "outputs": [],
   "source": [
    "##########\n",
    "# CODE HERE\n",
    "##########"
   ]
  },
  {
   "cell_type": "markdown",
   "metadata": {},
   "source": [
    "#### 정답 확인\n",
    "* 정답을 입력한 후, 아래를 실행시키면 정답인지 확인합니다."
   ]
  },
  {
   "cell_type": "code",
   "execution_count": null,
   "metadata": {},
   "outputs": [],
   "source": [
    "assert 'answer10' in globals(), \"결과를 answer10이라는 변수에 담아주세요!, answer10의 값을 보고 평가합니다.\"\n",
    "    \n",
    "if answer10.strip() == \"01011112222\":\n",
    "    print(\"정답입니다!!!!!\")\n",
    "else :\n",
    "    if phone_number != \"010-1111-2222\":\n",
    "        raise ValueError(\"phone_number에는 '010-1111-2222'가 담겨 있어야 합니다. phone_number='010-1111-2222'가 맞는지 확인해주세요\")\n",
    "\n",
    "    raise ValueError(\"결과는 '01011112222'가 나와야 합니다, 파이썬 수식에서 오류가 있는지 확인해주세요\")\n"
   ]
  },
  {
   "cell_type": "markdown",
   "metadata": {},
   "source": [
    "## 문제 11. 문자열 쪼개기\n",
    "\n",
    "문자열 쪼개기 기능을 이용하여 \n",
    "\n",
    "`고달픈 삶의 길에, 당신은 선물인걸, 이 사랑이 녹슬지 않도록, 늘 닦아 비출게요`\n",
    "\n",
    "의 문자열에서 `,`을 기준으로 나누어주세요."
   ]
  },
  {
   "cell_type": "code",
   "execution_count": null,
   "metadata": {},
   "outputs": [],
   "source": [
    "# 우선 실행해주세요\n",
    "lyrics = \"고달픈 삶의 길에, 당신은 선물인걸, 이 사랑이 녹슬지 않도록, 늘 닦아 비출게요\""
   ]
  },
  {
   "cell_type": "markdown",
   "metadata": {},
   "source": [
    "#### 답안지 입력란\n",
    "* 아래에 답을 서술하여 주세요\n",
    "* 결과값은 `answer11`에 담아주세요"
   ]
  },
  {
   "cell_type": "code",
   "execution_count": null,
   "metadata": {},
   "outputs": [],
   "source": [
    "##########\n",
    "# CODE HERE\n",
    "##########"
   ]
  },
  {
   "cell_type": "markdown",
   "metadata": {},
   "source": [
    "#### 정답 확인\n",
    "* 정답을 입력한 후, 아래를 실행시키면 정답인지 확인합니다."
   ]
  },
  {
   "cell_type": "code",
   "execution_count": null,
   "metadata": {},
   "outputs": [],
   "source": [
    "assert 'answer11' in globals(),(\n",
    "    \"결과를 answer11이라는 변수에 담아주세요!, answer11의 값을 보고 평가합니다.\")\n",
    "    \n",
    "A = ['고달픈 삶의 길에',\n",
    "     ' 당신은 선물인걸',\n",
    "     ' 이 사랑이 녹슬지 않도록',\n",
    "     ' 늘 닦아 비출게요']\n",
    "for idx, (_answer, _A) in enumerate(zip(answer11,A)):\n",
    "    if _answer != _A:\n",
    "        raise ValueError(\"{}번째 원소가 {}가 되어야 합니다.\".format(idx,_A))\n",
    "else:\n",
    "    print(\"정답입니다!!!!\")"
   ]
  },
  {
   "cell_type": "markdown",
   "metadata": {},
   "source": [
    "## 문제 12. 문자열 포맷팅\n",
    "\n",
    "두 수 a, b의 산술(arithmetic), 기하(geometric), 조화(harmonic) 평균은 다음과 같습니다.\n",
    "\n",
    "$$ arithmetic = \\frac{a+b}{2}~~,~~geometric=\\sqrt{ab}~~,~~harmonic = \\frac{2ab}{a+b} $$\n",
    "\n",
    "문자열 포맷팅을 이용해 빈칸을 채워주세요\n",
    "\n",
    "`두 수 a, b의 산술 평균은 ㅇ이고, 기하 평균은 ㅇ, 조화 평균은 ㅇ이다.`\n",
    "* 참고 : python에서의 루트 표현은 math.sqrt(x) 를 사용합니다\n",
    "\n",
    "````python\n",
    "import math\n",
    "math.sqrt(2) # >>> 1.4142135623730951\n",
    "````\n"
   ]
  },
  {
   "cell_type": "code",
   "execution_count": null,
   "metadata": {},
   "outputs": [],
   "source": [
    "# 우선 실행해주세요\n",
    "import math\n",
    "a = 4\n",
    "b = 4"
   ]
  },
  {
   "cell_type": "markdown",
   "metadata": {},
   "source": [
    "#### 답안지 입력란\n",
    "* 아래에 답을 서술하여 주세요\n",
    "* 결과값은 `answer12`에 담아주세요"
   ]
  },
  {
   "cell_type": "code",
   "execution_count": null,
   "metadata": {},
   "outputs": [],
   "source": [
    "##########\n",
    "# CODE HERE\n",
    "##########"
   ]
  },
  {
   "cell_type": "markdown",
   "metadata": {},
   "source": [
    "#### 정답 확인\n",
    "* 정답을 입력한 후, 아래를 실행시키면 정답인지 확인합니다."
   ]
  },
  {
   "cell_type": "code",
   "execution_count": null,
   "metadata": {},
   "outputs": [],
   "source": [
    "assert 'answer12' in globals(), \"결과를 answer12라는 변수에 담아주세요!, answer12의 값을 보고 평가합니다.\"\n",
    "    \n",
    "if answer12.strip() == \"두 수 a, b의 산술 평균은 4.0이고, 기하 평균은 4.0, 조화 평균은 4.0이다.\":\n",
    "    print(\"정답입니다!!!!!\")\n",
    "else :\n",
    "    if a!=4 or b!=4:\n",
    "        raise ValueError(\"a에는 4, b에는 4가 담겨 있어야 합니다. a=4, b=4가 맞는지 확인해주세요\")\n",
    "\n",
    "    raise ValueError(\"결과는 '두 수 a, b의 산술 평균은 4.0이고, 기하 평균은 4.0, 조화 평균은 4.0이다.'가 나와야 합니다, 파이썬 수식에서 오류가 있는지 확인해주세요\")\n"
   ]
  },
  {
   "cell_type": "markdown",
   "metadata": {},
   "source": [
    "<hr>\n",
    "\n",
    "Copyright(c) 2019 by Public AI. All rights reserved.<br>\n",
    "Writen by PAI, DoYeong Kim ( ka2k@publicai.co.kr )  last updated on 2019/07/12\n",
    "<hr>"
   ]
  }
 ],
 "metadata": {
  "kernelspec": {
   "display_name": "Python 3",
   "language": "python",
   "name": "python3"
  },
  "language_info": {
   "codemirror_mode": {
    "name": "ipython",
    "version": 3
   },
   "file_extension": ".py",
   "mimetype": "text/x-python",
   "name": "python",
   "nbconvert_exporter": "python",
   "pygments_lexer": "ipython3",
   "version": "3.6.6"
  },
  "toc": {
   "base_numbering": 1,
   "nav_menu": {},
   "number_sections": false,
   "sideBar": true,
   "skip_h1_title": false,
   "title_cell": "Table of Contents",
   "title_sidebar": "Contents",
   "toc_cell": false,
   "toc_position": {},
   "toc_section_display": true,
   "toc_window_display": false
  },
  "varInspector": {
   "cols": {
    "lenName": 16,
    "lenType": 16,
    "lenVar": 40
   },
   "kernels_config": {
    "python": {
     "delete_cmd_postfix": "",
     "delete_cmd_prefix": "del ",
     "library": "var_list.py",
     "varRefreshCmd": "print(var_dic_list())"
    },
    "r": {
     "delete_cmd_postfix": ") ",
     "delete_cmd_prefix": "rm(",
     "library": "var_list.r",
     "varRefreshCmd": "cat(var_dic_list()) "
    }
   },
   "types_to_exclude": [
    "module",
    "function",
    "builtin_function_or_method",
    "instance",
    "_Feature"
   ],
   "window_display": false
  }
 },
 "nbformat": 4,
 "nbformat_minor": 2
}
