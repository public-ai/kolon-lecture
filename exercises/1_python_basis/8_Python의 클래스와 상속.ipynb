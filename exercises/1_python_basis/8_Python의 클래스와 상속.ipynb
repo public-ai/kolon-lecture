{
 "cells": [
  {
   "cell_type": "markdown",
   "metadata": {},
   "source": [
    "# Python의 클래스와 상속"
   ]
  },
  {
   "cell_type": "markdown",
   "metadata": {},
   "source": [
    "## 문제 1. 네임스페이스 확인하기\n",
    "\n",
    "`네임스페이스`란 변수가 객체를 바인딩할 때 그 둘 사이의 관계를 저장하고 있는 공간을 의미합니다.\n",
    "\n",
    "예를 들어, `a = 2` 라고 했을 때 `a`라는 변수가 `2`라는 객체의 주소를 가지고 있는데 이러한 연결 관계가 저장된 공간이 바로 `네임스페이스`입니다.\n",
    "\n",
    "매직메소드 `__dict__` 사용하면 현재 인스턴스와 클래스의 속성이 저장되어 있는 `네임스페이스`를 딕셔너리로 확인할 수 있습니다."
   ]
  },
  {
   "cell_type": "markdown",
   "metadata": {},
   "source": [
    "* 매직메소드 `__dict__`을 사용해 아래 class의 네임스페이스를 확인해 보세요"
   ]
  },
  {
   "cell_type": "code",
   "execution_count": null,
   "metadata": {},
   "outputs": [],
   "source": [
    "class Stock:\n",
    "    \"\"\"주식 정보를 담당하는 Class\"\"\"\n",
    "    market = \"kospi\""
   ]
  },
  {
   "cell_type": "code",
   "execution_count": null,
   "metadata": {
    "scrolled": true
   },
   "outputs": [],
   "source": [
    "Stock.__dict__"
   ]
  },
  {
   "cell_type": "markdown",
   "metadata": {},
   "source": [
    "## 문제 2. 매직메소드 `__repr__`\n",
    "\n",
    "* 매직메소드 `__repr__`을 사용한 클래스가 있습니다. 코드를 실행시켰을 어떤 결과가 나올지를 `answer2`에 담아주세요 \n",
    "\n",
    "\n",
    "* 참고 : 매직메소드 `__str__`\n",
    "\n",
    "파이썬의 매직메소드에는 `__str__`도 있습니다. `__str__`는 인스턴스 자체를 `출력(print)`할 때 인스턴스가 어떻게 표현될지를 결정해주는 역할을 합니다.\n",
    "\n",
    "\n",
    "```python\n",
    "class User:\n",
    "    def __init__(self, name):\n",
    "        self.name = name\n",
    "    \n",
    "    def __repr__(self):\n",
    "        return \"안녕 {}!\".format(self.name)\n",
    "\n",
    "    def __str__(self):\n",
    "        return \"반가워 {}!\".format(self.name)\n",
    "    \n",
    "spiderman = User(\"Spiderman\")\n",
    "print(spiderman)\n",
    "```"
   ]
  },
  {
   "cell_type": "markdown",
   "metadata": {},
   "source": [
    "#### 답안지 입력란\n",
    "* 아래에 답을 서술하여 주세요\n",
    "* 결과값은 `answer2`에 담아주세요"
   ]
  },
  {
   "cell_type": "code",
   "execution_count": null,
   "metadata": {},
   "outputs": [],
   "source": [
    "###########\n",
    "# CODE HERE\n",
    "###########"
   ]
  },
  {
   "cell_type": "markdown",
   "metadata": {},
   "source": [
    "#### 정답 확인\n",
    "* 정답을 입력한 후, 아래를 실행시키면 정답인지 확인합니다."
   ]
  },
  {
   "cell_type": "code",
   "execution_count": null,
   "metadata": {},
   "outputs": [],
   "source": [
    "assert 'answer2' in globals(), \"answer2에 값을 담았는지 확인해주세요\"\n",
    "\n",
    "if str(answer2) == '반가워 Spiderman!':\n",
    "    print(\"정답입니다!!!!\")\n",
    "else:\n",
    "    raise ValueError(\"정답이 아닙니다. 주어진 코드 또는 wording을 다시 확인해주세요\")"
   ]
  },
  {
   "cell_type": "markdown",
   "metadata": {},
   "source": [
    "## 문제 3. 속성과 인스턴스\n",
    "\n",
    "* 아래 코드안의 (1) ~ (9) 중 틀린 것을 모두 골라주세요\n",
    "\n",
    "```python\n",
    "class Cake:\n",
    "    coating = \"생크림\"\n",
    "\n",
    "cake1 = Cake()\n",
    "cake2 = Cake()\n",
    "Cake.coating # 결과 : 생크림         ---(1)\n",
    "cake1.coating # 결과 : 생크림        ---(2)\n",
    "cake2.coating # 결과 : 생크림        ---(3)\n",
    "\n",
    "Cake.coating = \"초콜릿\"\n",
    "Cake.coating # 결과 : 초콜릿         ---(4)\n",
    "cake1.coating # 결과 : 초콜릿        ---(5)\n",
    "cake3 = Cake()\n",
    "cake3.coating # 결과 : 초콜릿        ---(6)\n",
    "cake3.price = 4000\n",
    "Cake.price # 결과 : 4000           ---(7)\n",
    "\n",
    "cake1.coating = \"아이스크림\"\n",
    "cake1.coating # 결과 : 아이스크림     ---(8)\n",
    "Cake.coating # 결과 : 아이스크림      ---(9)\n",
    "```"
   ]
  },
  {
   "cell_type": "code",
   "execution_count": null,
   "metadata": {},
   "outputs": [],
   "source": [
    "class Cake:\n",
    "    coating = \"생크림\""
   ]
  },
  {
   "cell_type": "markdown",
   "metadata": {},
   "source": [
    "#### 답안지 입력란\n",
    "* 아래에 답을 서술하여 주세요\n",
    "* 틀린 것들을 `answer3에` 예시와 같이 `list`에 담아주세요\n",
    "\n",
    "```python\n",
    "예시) answer3 = [1, 2, 9]\n",
    "```"
   ]
  },
  {
   "cell_type": "code",
   "execution_count": null,
   "metadata": {
    "scrolled": true
   },
   "outputs": [],
   "source": [
    "###########\n",
    "# CODE HERE\n",
    "###########"
   ]
  },
  {
   "cell_type": "markdown",
   "metadata": {},
   "source": [
    "#### 정답 확인\n",
    "* 정답을 입력한 후, 아래를 실행시키면 정답인지 확인합니다."
   ]
  },
  {
   "cell_type": "code",
   "execution_count": null,
   "metadata": {},
   "outputs": [],
   "source": [
    "assert 'answer3' in globals(), \"결과를 answer3이라는 변수에 담아주세요!, answer3의 값을 보고 평가합니다.\"\n",
    "\n",
    "A = [int(chr(55)), int(chr(57))]\n",
    "\n",
    "try:\n",
    "    assert len(A) == len(answer3), \"갯수가 맞지 않습니다\"\n",
    "    for idx, _A in enumerate(A):\n",
    "        answer = answer3[idx]\n",
    "        assert answer == _A\n",
    "    else:\n",
    "        print(\"정답입니다!!!!\")\n",
    "except:\n",
    "    raise ValueError(\"정답이 아닙니다. 다시 확인해 주세요\")\n"
   ]
  },
  {
   "cell_type": "markdown",
   "metadata": {},
   "source": [
    "## 문제 4. 유클리드거리(L2 distance)를 구하는 class 만들기\n",
    "\n",
    "* 두 점의 좌표 ($x_{1}$, $y_{1}$), ($x_{2}$, $y_{2}$)를 받았을 때, 두 점 사이의 유클리드거리(L2 distance)를 구하는 클래스를 만들어주세요\n",
    "\n",
    "\n",
    "* 참고 : 유클리드거리(L2 distance)\n",
    "\n",
    "> 유클리드거리는 거리 계산법 중 하나로, 우리가 일반적으로 사용하는 거리 계산법입니다. 두 점 $$(x_{1},y_{1})~,~~ (x_{2},y_{2})$$이 주어졌을 때 두 점 사이의 유클리드거리를 계산하는 수식은 다음과 같습니다.\n",
    "\n",
    "$$L2~distance = \\sqrt{(x_{1}-x_{2})^{2} + (y_{1}-y_{2})^{2}}$$"
   ]
  },
  {
   "cell_type": "markdown",
   "metadata": {},
   "source": [
    "#### 답안지 입력란\n",
    "* 아래에 답을 서술하여 주세요\n",
    "* 클래스 이름은 `EuclideanDistance`로 해주세요"
   ]
  },
  {
   "cell_type": "code",
   "execution_count": null,
   "metadata": {},
   "outputs": [],
   "source": [
    "import math\n",
    "\n",
    "class EuclideanDistance:\n",
    "    def __init__(self ,x1, y1, x2, y2):\n",
    "        ############\n",
    "        # CODE HERE!\n",
    "        ############\n",
    "    \n",
    "    def calculate_distance(self):\n",
    "        ############\n",
    "        # CODE HERE!\n",
    "        ############\n",
    "        return "
   ]
  },
  {
   "cell_type": "markdown",
   "metadata": {},
   "source": [
    "#### 정답 확인\n",
    "* 정답을 입력한 후, 아래를 실행시키면 정답인지 확인합니다."
   ]
  },
  {
   "cell_type": "code",
   "execution_count": null,
   "metadata": {},
   "outputs": [],
   "source": [
    "assert 'EuclideanDistance' in globals(), \"클래스 명을 EuclideanDistance로 해주세요\"\n",
    "\n",
    "euc_dis = EuclideanDistance(1,2,3,4)\n",
    "assert \"%0.7f\" % float(euc_dis.calculate_distance()) == \"%0.7f\" % 2.8284271247461903, \"(x1,y1,x2,y2)=(1,2,3,4) 일 때 'calculate_distance' 메소드를 호출했을 때의 결과가 틀립니다. 파이썬 코드를 다시 확인해주세요\"\n",
    "\n",
    "euc_dis2 = EuclideanDistance(-3,5,7,12)\n",
    "assert \"%0.7f\" % float(euc_dis2.calculate_distance()) == \"%0.7f\" % 12.206555615733702, \"(x1,y1,x2,y2)=(-3,5,7,12) 일 때 'calculate_distance' 메소드를 호출했을 때의 결과가 틀립니다. 파이썬 코드를 다시 확인해주세요\"\n",
    "print(\"정답입니다!!\")"
   ]
  },
  {
   "cell_type": "markdown",
   "metadata": {},
   "source": [
    "## 문제 5. 계산기 class 만들기(1)\n",
    "\n",
    "* 두 수 간의 사칙연산을 쉽게 해주는 클래스를 만들어주세요"
   ]
  },
  {
   "cell_type": "markdown",
   "metadata": {},
   "source": [
    "#### 답안지 입력란\n",
    "* 아래에 답을 서술하여 주세요\n",
    "* 클래스 이름은 `Calculator`로 해주세요"
   ]
  },
  {
   "cell_type": "code",
   "execution_count": null,
   "metadata": {},
   "outputs": [],
   "source": [
    "class Calculator():\n",
    "    def __init__(self, a, b):\n",
    "        ############\n",
    "        # CODE HERE!\n",
    "        ############\n",
    "        return\n",
    "    def addition(self):\n",
    "        ############\n",
    "        # CODE HERE!\n",
    "        ############\n",
    "        return\n",
    "    def subtraction(self):\n",
    "        ############\n",
    "        # CODE HERE!\n",
    "        ############\n",
    "        return\n",
    "    def multiplication(self):\n",
    "        ############\n",
    "        # CODE HERE!\n",
    "        ############\n",
    "        return\n",
    "    def division(self):\n",
    "        ############\n",
    "        # CODE HERE!\n",
    "        ############\n",
    "        return"
   ]
  },
  {
   "cell_type": "markdown",
   "metadata": {},
   "source": [
    "#### 정답 확인\n",
    "* 정답을 입력한 후, 아래를 실행시키면 정답인지 확인합니다."
   ]
  },
  {
   "cell_type": "code",
   "execution_count": null,
   "metadata": {},
   "outputs": [],
   "source": [
    "assert 'Calculator' in globals(), \"클래스 명을 AdvancedCalculator로 해주세요\"\n",
    "cal = Calculator(32, 4)\n",
    "assert cal.addition() == 36, \"(a,b)=(32,4) 일 때 'addition' 메소드를 호출했을 때의 결과가 36이 나와야 합니다\"\n",
    "assert cal.subtraction() == 28, \"(a,b)=(32,4) 일 때 'subtraction' 메소드를 호출했을 때의 결과가 28이 나와야 합니다\"\n",
    "assert cal.multiplication() == 128, \"(a,b)=(32,4) 일 때 'multiplication' 메소드를 호출했을 때의 결과가 128이 나와야 합니다\"\n",
    "assert cal.division() == 8.0, \"(a,b)=(32,4) 일 때 'division' 메소드를 호출했을 때의 결과가 8.0이 나와야 합니다\"\n",
    "\n",
    "\n",
    "print(\"정답입니다!!\")"
   ]
  },
  {
   "cell_type": "markdown",
   "metadata": {},
   "source": [
    "## 문제 6. 계산기 class 만들기(2)\n",
    "\n",
    "* 위의 Calculator class를 상속받아, 더 많은 기능을 구현하는 계산기 클래스를 구현해주세요\n",
    "\n",
    "\n",
    "* 구현하고자 하는 기능은 다음과 같습니다.\n",
    "\n",
    "\n",
    "1. a, b를 입력했을 때 $a^{b}$를 구하는 기능\n",
    "2. a, b를 입력한 후 나눗셈을 할 때 b의 값이 `0` 이면 `'0은 나눌 수 없습니다'`를 출력하는 기능"
   ]
  },
  {
   "cell_type": "markdown",
   "metadata": {},
   "source": [
    "#### 답안지 입력란\n",
    "* 아래에 답을 서술하여 주세요\n",
    "* 클래스 이름은 `AdvancedCalculator`로 해주세요"
   ]
  },
  {
   "cell_type": "code",
   "execution_count": null,
   "metadata": {},
   "outputs": [],
   "source": [
    "class AdvancedCalculator(Calculator):\n",
    "    def power(self):\n",
    "        ############\n",
    "        # CODE HERE!\n",
    "        ############\n",
    "        return\n",
    "  \n",
    "    def division(self):\n",
    "        ############\n",
    "        # CODE HERE!\n",
    "        ############"
   ]
  },
  {
   "cell_type": "markdown",
   "metadata": {},
   "source": [
    "#### 정답 확인\n",
    "* 정답을 입력한 후, 아래를 실행시키면 정답인지 확인합니다."
   ]
  },
  {
   "cell_type": "code",
   "execution_count": null,
   "metadata": {},
   "outputs": [],
   "source": [
    "assert 'AdvancedCalculator' in globals(), \"클래스 명을 AdvancedCalculator로 해주세요\"\n",
    "assert issubclass(AdvancedCalculator,Calculator), (\n",
    "    \"AdvancedCalculator는 Calculator을 상속받아서 구현해주세요\")\n",
    "_calf = AdvancedCalculator(32, 4)\n",
    "assert _calf.addition() == 36, \"(a,b)=(32,4) 일 때 'addition' 메소드를 호출했을 때의 결과가 36이 나와야 합니다\"\n",
    "assert _calf.subtraction() == 28, \"(a,b)=(32,4) 일 때 'subtraction' 메소드를 호출했을 때의 결과가 28이 나와야 합니다\"\n",
    "assert _calf.multiplication() == 128, \"(a,b)=(32,4) 일 때 'multiplication' 메소드를 호출했을 때의 결과가 128이 나와야 합니다\"\n",
    "assert _calf.division() == 8.0, \"(a,b)=(32,4) 일 때 'division' 메소드를 호출했을 때의 결과가 8.0이 나와야 합니다\"\n",
    "assert _calf.power() == 1048576, \"(a,b)=(32,4) 일 때 'power' 메소드를 호출했을 때의 결과가 1048576이 나와야 합니다\"\n",
    "\n",
    "\n",
    "_cals = AdvancedCalculator(30, 0)\n",
    "assert _cals.addition() == 30, \"(a,b)=(30, 0) 일 때 'addition' 메소드를 호출했을 때의 결과가 30이 나와야 합니다\"\n",
    "assert _cals.subtraction() == 30, \"(a,b)=(30, 0) 일 때 'subtraction' 메소드를 호출했을 때의 결과가 30이 나와야 합니다\"\n",
    "assert _cals.multiplication() == 0, \"(a,b)=(30, 0) 일 때 'multiplication' 메소드를 호출했을 때의 결과가 30이 나와야 합니다\"\n",
    "assert _cals.division() == '0은 나눌 수 없습니다', \"(a,b)=(30, 0) 일 때 'division' 메소드를 호출했을 때 '0은 나눌 수 없습니다'를 출력해야 합니다\"\n",
    "assert _cals.power() == 1, \"(a,b)=(30, 0) 일 때 'power' 메소드를 호출했을 때의 결과가 1이 나와야 합니다\"\n",
    "\n",
    "\n",
    "print(\"정답입니다!!\")"
   ]
  },
  {
   "cell_type": "markdown",
   "metadata": {},
   "source": [
    "## 문제 7. 직사각형의 넓이를 구하는 class 만들기\n",
    "\n",
    "* 밑변의 길이(base)와 높이(height)가 주어졌을 때, 사각형의 넓이를 구하는 class를 만들어주세요\n"
   ]
  },
  {
   "cell_type": "markdown",
   "metadata": {},
   "source": [
    "#### 답안지 입력란\n",
    "* 아래에 답을 서술하여 주세요\n",
    "* 클래스 이름은 `Rectangle`로 해주세요"
   ]
  },
  {
   "cell_type": "code",
   "execution_count": null,
   "metadata": {},
   "outputs": [],
   "source": [
    "class Rectangle:\n",
    "    def __init__(self, length, width):\n",
    "        ############\n",
    "        # CODE HERE!\n",
    "        ############\n",
    "\n",
    "    def area(self):\n",
    "        ############\n",
    "        # CODE HERE!\n",
    "        ###########\n",
    "        return"
   ]
  },
  {
   "cell_type": "markdown",
   "metadata": {},
   "source": [
    "#### 정답 확인\n",
    "* 정답을 입력한 후, 아래를 실행시키면 정답인지 확인합니다."
   ]
  },
  {
   "cell_type": "code",
   "execution_count": null,
   "metadata": {},
   "outputs": [],
   "source": [
    "assert 'Rectangle' in globals(), \"클래스 명을 Rectangle로 해주세요\"\n",
    "\n",
    "area1 = Rectangle(6,21)\n",
    "assert area1.area() == 126, \"(height, base)=(6, 21) 일 때 'area' 메소드를 호출했을 때의 결과는 126이 나와야 합니다. 파이썬 코드를 다시 확인해주세요\"\n",
    "\n",
    "area2 = Rectangle(7,9)\n",
    "assert area2.area() == 63, \"(height, base)=(7, 9) 일 때 'area' 메소드를 호출했을 때의 결과는 63이 나와야 합니다. 파이썬 코드를 다시 확인해주세요\"\n",
    "print(\"정답입니다!!\")"
   ]
  },
  {
   "cell_type": "markdown",
   "metadata": {},
   "source": [
    "## 문제 8. 정사각형의 넓이를 구하는 class 만들기\n",
    "\n",
    "* 위의 `Rectangle` 클래스를 상속받아 한 변의 길이(length)가 주어졌을 때 정사각형의 넓이를 구하는 class를 `super()`를 사용해 구현해주세요"
   ]
  },
  {
   "cell_type": "markdown",
   "metadata": {},
   "source": [
    "#### 답안지 입력란\n",
    "* 아래에 답을 서술하여 주세요\n",
    "* 클래스 이름은 `Square`로 해주세요"
   ]
  },
  {
   "cell_type": "code",
   "execution_count": null,
   "metadata": {},
   "outputs": [],
   "source": [
    "class Square(Rectangle):\n",
    "    def __init__(self, length):\n",
    "        ############\n",
    "        # CODE HERE!\n",
    "        ############"
   ]
  },
  {
   "cell_type": "markdown",
   "metadata": {},
   "source": [
    "#### 정답 확인\n",
    "* 정답을 입력한 후, 아래를 실행시키면 정답인지 확인합니다."
   ]
  },
  {
   "cell_type": "code",
   "execution_count": null,
   "metadata": {
    "scrolled": true
   },
   "outputs": [],
   "source": [
    "assert 'Square' in globals(), \"클래스 명을 Square로 해주세요\"\n",
    "\n",
    "assert issubclass(Square,Rectangle), (\n",
    "    \"Square는 Rectangle을 상속받아서 구현해주세요\")\n",
    "\n",
    "sq1 = Square(9)\n",
    "assert sq1.area() == 81, \"(length)=(9) 일 때 'area' 메소드를 호출했을 때의 결과는 81이 나와야 합니다. 파이썬 코드를 다시 확인해주세요\"\n",
    "\n",
    "sq2 = Square(20)\n",
    "assert sq2.area() == 400, \"(length)=(20) 일 때 'area' 메소드를 호출했을 때의 결과는 400이 나와야 합니다. 파이썬 코드를 다시 확인해주세요\"\n",
    "print(\"정답입니다!!\")"
   ]
  },
  {
   "cell_type": "markdown",
   "metadata": {},
   "source": [
    "## 문제 9. 정육면체의 겉넓이와 부피를 구하는 class 만들기\n",
    "\n",
    "* 위의 `Square` 클래스를 상속받아 한 변의 길이(length)가 주어졌을 때 정육면체의 겉넓이(surface area)와 부피(volume)를 구하는 class를 구현해주세요\n",
    "\n",
    "\n",
    "* 참고 : 정육면체의 겉넓이와 부피\n",
    "한 변의 길이가 `a`인 정육면체의 겉넓이와 부피를 구하는 공식은 다음과 같습니다.\n",
    "$$Surface~area = a\\times a\\times 6 ,~~ Volume = a\\times a\\times a$$\n",
    "\n",
    "\n",
    "* 힌트 : \n",
    "`Square` 클래스의 결과 값은 length * length 입니다. `Square` 클래스를 상속받았다는 것을 잊지 마세요!"
   ]
  },
  {
   "cell_type": "markdown",
   "metadata": {},
   "source": [
    "#### 답안지 입력란\n",
    "* 아래에 답을 서술하여 주세요\n",
    "* 클래스 이름은 `Cube`로 해주세요"
   ]
  },
  {
   "cell_type": "code",
   "execution_count": null,
   "metadata": {},
   "outputs": [],
   "source": [
    "class Cube(Square):\n",
    "    def surface_area(self):\n",
    "        ############\n",
    "        # CODE HERE!\n",
    "        ############\n",
    "        return\n",
    "\n",
    "    def volume(self):\n",
    "        ############\n",
    "        # CODE HERE!\n",
    "        ############\n",
    "        return"
   ]
  },
  {
   "cell_type": "markdown",
   "metadata": {},
   "source": [
    "#### 정답 확인\n",
    "* 정답을 입력한 후, 아래를 실행시키면 정답인지 확인합니다."
   ]
  },
  {
   "cell_type": "code",
   "execution_count": null,
   "metadata": {
    "scrolled": true
   },
   "outputs": [],
   "source": [
    "assert 'Cube' in globals(), \"클래스 명을 Cube로 해주세요\"\n",
    "\n",
    "assert issubclass(Cube,Square), (\n",
    "    \"Cube는 Square를 상속받아서 구현해주세요\")\n",
    "\n",
    "cube1 = Cube(4)\n",
    "assert cube1.surface_area() == 96, \"(length)=(4) 일 때 'surface_area' 메소드를 호출했을 때의 결과는 96이 나와야 합니다. 파이썬 코드를 다시 확인해주세요\"\n",
    "assert cube1.volume() == 64, \"(length)=(4) 일 때 'volume' 메소드를 호출했을 때의 결과는 64가 나와야 합니다. 파이썬 코드를 다시 확인해주세요\"\n",
    "\n",
    "cube2 = Cube(13)\n",
    "assert cube2.surface_area() == 1014, \"(length)=(13) 일 때 'surface_area' 메소드를 호출했을 때의 결과는 1014가 나와야 합니다. 파이썬 코드를 다시 확인해주세요\"\n",
    "assert cube2.volume() == 2197, \"(length)=(13) 일 때 'volume' 메소드를 호출했을 때의 결과는 2197이 나와야 합니다. 파이썬 코드를 다시 확인해주세요\"\n",
    "\n",
    "print(\"정답입니다!!\")"
   ]
  },
  {
   "cell_type": "markdown",
   "metadata": {},
   "source": [
    "## 문제 10. Vector Class 만들기\n",
    "\n",
    "* Vector는 (x,y)으로 이루어진 좌표 점입니다. Vector간의 연산 (더하기, 빼기)를 구현한 클래스를 만들어주세요.\n",
    "\n",
    "````python\n",
    "vec1 = Vector(1,2)\n",
    "vec2 = Vector(2,3)\n",
    "vec1 + vec2\n",
    ">>> <Vector : (3,5)>\n",
    "vec1 - vec2              \n",
    ">>> <Vector : (-1,-1)>\n",
    "````"
   ]
  },
  {
   "cell_type": "markdown",
   "metadata": {},
   "source": [
    "#### 답안지 입력란\n",
    "* 아래에 답을 서술하여 주세요\n",
    "* 클래스 이름은 `Vector`로 해주세요"
   ]
  },
  {
   "cell_type": "code",
   "execution_count": null,
   "metadata": {},
   "outputs": [],
   "source": [
    "class Vector():\n",
    "    def __init__(self, x, y):\n",
    "        self.x = x\n",
    "        self.y = y\n",
    "        \n",
    "    def __repr__(self):\n",
    "        return \"<Vector : ({},{})>\".format(self.x, self.y)\n",
    "        \n",
    "    def __add__(self, other):\n",
    "        ############\n",
    "        # CODE HERE!\n",
    "        ############\n",
    "        return\n",
    "    \n",
    "    def __sub__(self, other):\n",
    "        ############\n",
    "        # CODE HERE!\n",
    "        ############        \n",
    "        return "
   ]
  },
  {
   "cell_type": "markdown",
   "metadata": {},
   "source": [
    "#### 정답 확인\n",
    "* 정답을 입력한 후, 아래를 실행시키면 정답인지 확인합니다."
   ]
  },
  {
   "cell_type": "code",
   "execution_count": null,
   "metadata": {},
   "outputs": [],
   "source": [
    "assert 'Vector' in globals(), \"클래스 명을 Vector로 해주세요\"\n",
    "_vec1 = Vector(10,3)\n",
    "_vec2 = Vector(2,5)\n",
    "_add = _vec1 + _vec2\n",
    "_sub = _vec1 - _vec2\n",
    "assert _add.x == 12 and _add.y == 8,(\n",
    "    \"Vector(10,3) + Vector(2,5) => Vector(12,8)이 되어야 합니다.\")\n",
    "assert _sub.x == 8  and _sub.y == -2,(\n",
    "    \"Vector(10,3) - Vector(2,5) => Vector(8,-2)이 되어야 합니다.\")\n",
    "\n",
    "print(\"정답입니다!!\")"
   ]
  },
  {
   "cell_type": "markdown",
   "metadata": {},
   "source": [
    "## 문제 11. WeightedVector Class 만들기\n",
    "\n",
    "* WeightedVector는 Vector Class와 마찬가지로, 위치 점을 가지고 있고, 그것에 더해 weight라는 인스턴스 변수를 가지고 있는 함수입니다. Vector를 상속받아, weight를 구현해주세요\n",
    "\n",
    "````python\n",
    "vec1 = WeightedVector(1,2,0.5)\n",
    ">>> <WeightedVector : (1,2,0.5)>\n",
    "vec2 = WeightedVector(2,5,1.5)\n",
    ">>> <WeightedVector : (2,5,1.5)>\n",
    "````"
   ]
  },
  {
   "cell_type": "markdown",
   "metadata": {},
   "source": [
    "#### 답안지 입력란\n",
    "* 아래에 답을 서술하여 주세요\n",
    "* 클래스 이름은 `WeightedVector`로 해주세요"
   ]
  },
  {
   "cell_type": "code",
   "execution_count": null,
   "metadata": {},
   "outputs": [],
   "source": [
    "class WeightedVector(Vector):\n",
    "    def __init__(self, x, y, weight):\n",
    "        ############\n",
    "        # CODE HERE!\n",
    "        ############\n",
    "        pass\n",
    "        \n",
    "    def __repr__(self):\n",
    "        ############\n",
    "        # CODE HERE!\n",
    "        ############\n",
    "        return "
   ]
  },
  {
   "cell_type": "markdown",
   "metadata": {},
   "source": [
    "#### 정답 확인\n",
    "* 정답을 입력한 후, 아래를 실행시키면 정답인지 확인합니다."
   ]
  },
  {
   "cell_type": "code",
   "execution_count": null,
   "metadata": {},
   "outputs": [],
   "source": [
    "assert 'WeightedVector' in globals(), \"클래스 명을 WeightedVector 해주세요\"\n",
    "Vec = WeightedVector\n",
    "assert issubclass(Vec,Vector), (\n",
    "    \"WeightedVector는 Vector을 상속받아서 구현해주세요\")\n",
    "assert repr(Vec(1,2,.5))==\"<WeightedVector : (1,2,0.5)>\",(\n",
    "    \"WeightedVector(1,2,.5)의 repr은 <WeightedVector : (1,2,0.5)>와 같게 나와야 합니다.\")\n",
    "assert repr(Vec(2,5,1.5))==\"<WeightedVector : (2,5,1.5)>\",(\n",
    "    \"WeightedVector(2,5,1.5)의 repr은 <WeightedVector : (2,5,1.5)>와 같게 나와야 합니다.\")\n",
    "\n",
    "print(\"정답입니다!!\")"
   ]
  },
  {
   "cell_type": "markdown",
   "metadata": {},
   "source": [
    "## 문제 12. WeightedVector의 무게 중심 구하는 Method 구현하기\n",
    "\n",
    "* 서로 다른 무게를 가진 두 점(pt1, pt2)이 있을 때, 두 점의 무게 중심점은 아래처럼 구할 수 있습니다.\n",
    "$$\n",
    "pt_1 = (x_1,y_1,m_1), pt_2 = (x_2,y_2,m_2) \\mbox{일때}\\\\\n",
    "\\mbox{무게중심 x : }x_{center} = \\frac{m_1*x_1 + m_2*x_2}{m_1+m_2}\\\\\n",
    "\\mbox{무게중심 y : }y_{center} = \\frac{m_1*y_1 + m_2*y_2}{m_1+m_2}\\\\\n",
    "$$\n",
    "\n",
    "\n",
    "* 위의 수식을 이용해서, WeightedVector간의 무게 중심을 구하는 `center_from`을 구현해주세요.\n",
    "\n",
    "```python\n",
    "wvec1 = WeightedVector(1.,1.,1.)\n",
    "wvec1\n",
    ">>> <WeightedVector : (1.0,1.0,1.0)>\n",
    "wvec2 = WeightedVector(5.,5.,3.)\n",
    "wvec2\n",
    ">>> <WeightedVector : (5.0,5.0,3.0)>\n",
    "wvec1.center_from(wvec2)\n",
    ">>> <Vector : (4.0,4.0)>\n",
    "```"
   ]
  },
  {
   "cell_type": "markdown",
   "metadata": {},
   "source": [
    "#### 답안지 입력란\n",
    "* 아래에 답을 서술하여 주세요\n",
    "* 클래스 이름은 `WeightedVector`로, \n",
    "  구현하는 메소드 이름은 `center_from`으로 해주세요"
   ]
  },
  {
   "cell_type": "code",
   "execution_count": null,
   "metadata": {},
   "outputs": [],
   "source": [
    "class WeightedVector(Vector):\n",
    "    def __init__(self, x, y, weight):\n",
    "        ############\n",
    "        # CODE HERE!\n",
    "        # 위에서 작성한 Weighted Vector와 \n",
    "        # 동일하게 구현하시면 됩니다.\n",
    "        ############\n",
    "        pass\n",
    "        \n",
    "    def __repr__(self):\n",
    "        ############\n",
    "        # CODE HERE!\n",
    "        # 위에서 작성한 Weighted Vector와 \n",
    "        # 동일하게 구현하시면 됩니다.        \n",
    "        ############\n",
    "        return \n",
    "    \n",
    "    def center_from(self, other):\n",
    "        ############\n",
    "        # CODE HERE!\n",
    "        ############\n",
    "        return"
   ]
  },
  {
   "cell_type": "markdown",
   "metadata": {},
   "source": [
    "#### 정답 확인\n",
    "* 정답을 입력한 후, 아래를 실행시키면 정답인지 확인합니다."
   ]
  },
  {
   "cell_type": "code",
   "execution_count": null,
   "metadata": {},
   "outputs": [],
   "source": [
    "assert 'WeightedVector' in globals(), \"클래스 명을 WeightedVector 해주세요\"\n",
    "assert \"center_from\" in dir(WeightedVector), \"WeightedVector 내 메소드로 center_from을 구현해주세요\"\n",
    "\n",
    "_wvec1 = WeightedVector(1.,1.,1.)\n",
    "_wvec2 = WeightedVector(5.,5.,3.)\n",
    "\n",
    "_result = _wvec1.center_from(_wvec2)\n",
    "assert issubclass(WeightedVector, Vector), (\n",
    "    \"WeightedVector는 Vector을 상속받아서 구현해주세요\")\n",
    "assert repr(_wvec1)==\"<WeightedVector : (1.0,1.0,1.0)>\",(\n",
    "    \"WeightedVector(1.,1.,1.)의 repr은 <WeightedVector : (1.0,1.0,1.0)>와 같게 나와야 합니다.\")\n",
    "assert repr(_wvec2)==\"<WeightedVector : (5.0,5.0,3.0)>\",(\n",
    "    \"WeightedVector(5.,5.,3.)의 repr은 <WeightedVector : (5.0,5.0,3.0)>와 같게 나와야 합니다.\")\n",
    "assert isinstance(_result, Vector), (\n",
    "    \"center_from의 반환값의 Class는 Vector이어야 합니다.\")\n",
    "assert _result.x == 4. and _result.y == 4., (\n",
    "    '''\n",
    "    WeightedVector(1.,1.,1.).center_from(WeightedVector(5.,5.,3.))은\n",
    "    Vector(4.0,4.0)을 반환해야 합니다.\n",
    "    ''')\n",
    "\n",
    "print(\"정답입니다!!\")"
   ]
  },
  {
   "cell_type": "markdown",
   "metadata": {},
   "source": [
    "\n",
    "\n",
    "<hr>\n",
    "\n",
    "Copyright(c) 2019 by Public AI. All rights reserved.<br>\n",
    "Writen by PAI, DoYeong Kim ( ka2k@publicai.co.kr )  last updated on 2019/07/12\n",
    "<hr>"
   ]
  }
 ],
 "metadata": {
  "kernelspec": {
   "display_name": "Python 3",
   "language": "python",
   "name": "python3"
  },
  "language_info": {
   "codemirror_mode": {
    "name": "ipython",
    "version": 3
   },
   "file_extension": ".py",
   "mimetype": "text/x-python",
   "name": "python",
   "nbconvert_exporter": "python",
   "pygments_lexer": "ipython3",
   "version": "3.6.6"
  },
  "toc": {
   "base_numbering": 1,
   "nav_menu": {},
   "number_sections": false,
   "sideBar": true,
   "skip_h1_title": false,
   "title_cell": "Table of Contents",
   "title_sidebar": "Contents",
   "toc_cell": false,
   "toc_position": {},
   "toc_section_display": true,
   "toc_window_display": false
  },
  "varInspector": {
   "cols": {
    "lenName": 16,
    "lenType": 16,
    "lenVar": 40
   },
   "kernels_config": {
    "python": {
     "delete_cmd_postfix": "",
     "delete_cmd_prefix": "del ",
     "library": "var_list.py",
     "varRefreshCmd": "print(var_dic_list())"
    },
    "r": {
     "delete_cmd_postfix": ") ",
     "delete_cmd_prefix": "rm(",
     "library": "var_list.r",
     "varRefreshCmd": "cat(var_dic_list()) "
    }
   },
   "types_to_exclude": [
    "module",
    "function",
    "builtin_function_or_method",
    "instance",
    "_Feature"
   ],
   "window_display": false
  }
 },
 "nbformat": 4,
 "nbformat_minor": 2
}
