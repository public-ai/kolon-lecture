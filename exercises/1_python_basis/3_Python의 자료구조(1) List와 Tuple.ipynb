{
 "cells": [
  {
   "cell_type": "markdown",
   "metadata": {},
   "source": [
    "# Python의 자료구조(1) List와 Tuple\n",
    "\n",
    "> 파이썬에서는 기본 변수이외에도 List, Tuple, Set, Dictionary 와 같은 다양한 자료구조를 지원합니다. 이번 시간에는 그 중 순서가 있는 자료형인 List와 Tuple에 대해 다루어 보도록 하겠습니다.\n"
   ]
  },
  {
   "cell_type": "markdown",
   "metadata": {},
   "source": [
    "#### 예제) alai 동물원에 존재하는 동물 리스트들\n",
    "\n",
    "```\n",
    "['골리앗창뿔풍뎅이', '시베리아호랑이', '개미', '고메라큰도마뱀', \n",
    " '메추라기', '아메리카새우', '뉴질랜드검은머리흰죽지', '에콰도르산왕부리', \n",
    " '알락꼬리고양이', '매가오리과', '심해어', '납지리', '솔개류', '귀상어', \n",
    " '쇠찌르레기', '스페인스라소니', '붉은따오기', '에콰도르분홍발톱타란튤라', \n",
    " '부채꼬리뇌조', '무지개아마존앵무']\n",
    "```"
   ]
  },
  {
   "cell_type": "markdown",
   "metadata": {},
   "source": [
    "## 문제 1. 리스트에서 값 가져오기(1)"
   ]
  },
  {
   "cell_type": "markdown",
   "metadata": {},
   "source": [
    "* 리스트의 인덱싱을 활용하여 동물원의 동물 리스트에서 3번째 원소값인(고메라큰도마뱀)을 가져와주세요\n",
    "\n",
    "**주의 : 프로그래밍에서는 일반적으로 0번째부터 1번째, 2번째 순으로 인덱스를 셉니다**"
   ]
  },
  {
   "cell_type": "code",
   "execution_count": null,
   "metadata": {},
   "outputs": [],
   "source": [
    "# 우선 실행해주세요\n",
    "animals = ['골리앗창뿔풍뎅이', '시베리아호랑이', '개미', '고메라큰도마뱀', \n",
    " '메추라기', '아메리카새우', '뉴질랜드검은머리흰죽지', '에콰도르산왕부리', \n",
    " '알락꼬리고양이', '매가오리과', '심해어', '납지리', '솔개류', '귀상어', \n",
    " '쇠찌르레기', '스페인스라소니', '붉은따오기', '에콰도르분홍발톱타란튤라', \n",
    " '부채꼬리뇌조', '무지개아마존앵무']"
   ]
  },
  {
   "cell_type": "markdown",
   "metadata": {},
   "source": [
    "#### 답안지 입력란\n",
    "* 아래에 답을 서술하여 주세요\n",
    "* 결과값은 `answer1`에 담아주세요"
   ]
  },
  {
   "cell_type": "code",
   "execution_count": null,
   "metadata": {},
   "outputs": [],
   "source": [
    "##########\n",
    "# CODE HERE\n",
    "##########"
   ]
  },
  {
   "cell_type": "markdown",
   "metadata": {},
   "source": [
    "#### 정답 확인\n",
    "* 정답을 입력한 후, 아래를 실행시키면 정답인지 확인합니다."
   ]
  },
  {
   "cell_type": "code",
   "execution_count": null,
   "metadata": {},
   "outputs": [],
   "source": [
    "assert 'answer1' in globals(), \"결과를 answer1이라는 변수에 담아주세요!, answer1의 값을 보고 평가합니다.\"\n",
    "\n",
    "if (answer1 == '고메라큰도마뱀'):\n",
    "    print(\"정답입니다!!!!\")\n",
    "else:\n",
    "    raise ValueError(\"결과는 고메라큰도마뱀이 나와야합니다. 파이썬에서의 인덱스는 0부터 시작해요 주의해주세요!\")\n",
    "    "
   ]
  },
  {
   "cell_type": "markdown",
   "metadata": {},
   "source": [
    "## 문제 2. 리스트에서 값 가져오기(2)"
   ]
  },
  {
   "cell_type": "markdown",
   "metadata": {},
   "source": [
    "* 리스트의 인덱싱을 활용하여 동물 이름 리스트에서 **5번째 부터 8번째**의 동물이름('아메리카새우', '뉴질랜드검은머리흰죽지', '에콰도르산왕부리')들을 가져와주세요!"
   ]
  },
  {
   "cell_type": "code",
   "execution_count": null,
   "metadata": {},
   "outputs": [],
   "source": [
    "# 우선 실행해주세요\n",
    "animals = ['골리앗창뿔풍뎅이', '시베리아호랑이', '개미', '고메라큰도마뱀', \n",
    " '메추라기', '아메리카새우', '뉴질랜드검은머리흰죽지', '에콰도르산왕부리', \n",
    " '알락꼬리고양이', '매가오리과', '심해어', '납지리', '솔개류', '귀상어', \n",
    " '쇠찌르레기', '스페인스라소니', '붉은따오기', '에콰도르분홍발톱타란튤라', \n",
    " '부채꼬리뇌조', '무지개아마존앵무']"
   ]
  },
  {
   "cell_type": "markdown",
   "metadata": {},
   "source": [
    "#### 답안지 입력란\n",
    "* 아래에 답을 서술하여 주세요\n",
    "* 결과값은 `answer2`에 담아주세요"
   ]
  },
  {
   "cell_type": "code",
   "execution_count": null,
   "metadata": {},
   "outputs": [],
   "source": [
    "##########\n",
    "# CODE HERE\n",
    "##########"
   ]
  },
  {
   "cell_type": "markdown",
   "metadata": {},
   "source": [
    "#### 정답 확인\n",
    "* 정답을 입력한 후, 아래를 실행시키면 정답인지 확인합니다."
   ]
  },
  {
   "cell_type": "code",
   "execution_count": null,
   "metadata": {},
   "outputs": [],
   "source": [
    "assert 'answer2' in globals(), \"결과를 answer2라는 변수에 담아주세요!, answer2의 값을 보고 평가합니다.\"\n",
    "\n",
    "\n",
    "A = ['아메리카새우', '뉴질랜드검은머리흰죽지', '에콰도르산왕부리']\n",
    "\n",
    "\n",
    "try:\n",
    "    assert len(A) == len(answer2), \"갯수가 맞지 않습니다\"\n",
    "    for idx, _A in enumerate(A):\n",
    "        answer = answer2[idx]\n",
    "        assert answer == _A\n",
    "    else:\n",
    "        print(\"정답입니다!!!!\")\n",
    "except:\n",
    "    raise ValueError(\"\\n정답  : {}\\n현재값 : {}\\n입니다.다시 수정해서 제출해주세요!\".format(A,answer2))\n"
   ]
  },
  {
   "cell_type": "markdown",
   "metadata": {},
   "source": [
    "## 문제 3. 리스트에서 값 가져오기(3)"
   ]
  },
  {
   "cell_type": "markdown",
   "metadata": {},
   "source": [
    "* 리스트의 인덱싱을 활용하여 동물 이름 리스트에서 **1,3,5,7번째 인덱스**에 있는 동물 이름들을 가져와주세요!"
   ]
  },
  {
   "cell_type": "code",
   "execution_count": null,
   "metadata": {},
   "outputs": [],
   "source": [
    "# 우선 실행해주세요\n",
    "animals = ['골리앗창뿔풍뎅이', '시베리아호랑이', '개미', '고메라큰도마뱀', \n",
    " '메추라기', '아메리카새우', '뉴질랜드검은머리흰죽지', '에콰도르산왕부리', \n",
    " '알락꼬리고양이', '매가오리과', '심해어', '납지리', '솔개류', '귀상어', \n",
    " '쇠찌르레기', '스페인스라소니', '붉은따오기', '에콰도르분홍발톱타란튤라', \n",
    " '부채꼬리뇌조', '무지개아마존앵무']"
   ]
  },
  {
   "cell_type": "markdown",
   "metadata": {},
   "source": [
    "#### 답안지 입력란\n",
    "* 아래에 답을 서술하여 주세요\n",
    "* 결과값은 `answer3`에 담아주세요"
   ]
  },
  {
   "cell_type": "code",
   "execution_count": null,
   "metadata": {},
   "outputs": [],
   "source": [
    "##########\n",
    "# CODE HERE\n",
    "##########"
   ]
  },
  {
   "cell_type": "markdown",
   "metadata": {},
   "source": [
    "#### 정답 확인\n",
    "* 정답을 입력한 후, 아래를 실행시키면 정답인지 확인합니다."
   ]
  },
  {
   "cell_type": "code",
   "execution_count": null,
   "metadata": {},
   "outputs": [],
   "source": [
    "assert 'answer3' in globals(), \"결과를 answer3이라는 변수에 담아주세요!, answer3의 값을 보고 평가합니다.\"\n",
    "\n",
    "A = ['시베리아호랑이', '고메라큰도마뱀', '아메리카새우', '에콰도르산왕부리']\n",
    "\n",
    "try:\n",
    "    assert len(A) == len(answer3), \"갯수가 맞지 않습니다\"\n",
    "    for idx, _A in enumerate(A):\n",
    "        answer = answer3[idx]\n",
    "        assert answer == _A\n",
    "    else:\n",
    "        print(\"정답입니다!!!!\")\n",
    "except:\n",
    "    raise ValueError(\"\\n정답  : {}\\n현재값 : {}\\n입니다.다시 수정해서 제출해주세요!\".format(A,answer3))\n"
   ]
  },
  {
   "cell_type": "markdown",
   "metadata": {},
   "source": [
    "## 문제 4. 문자열에서 값을 가져와 리스트에 저장하기"
   ]
  },
  {
   "cell_type": "markdown",
   "metadata": {},
   "source": [
    "* 리스트의 인덱싱을 활용하여, 동물 이름 문자열에서 동물 이름들을 리스트에 저장해주세요!"
   ]
  },
  {
   "cell_type": "code",
   "execution_count": null,
   "metadata": {},
   "outputs": [],
   "source": [
    "# 우선 실행해주세요\n",
    "animals = '골리앗창뿔풍뎅이,시베리아호랑이,개미,고메라큰도마뱀,메추라기'"
   ]
  },
  {
   "cell_type": "markdown",
   "metadata": {},
   "source": [
    "#### 답안지 입력란\n",
    "* 아래에 답을 서술하여 주세요\n",
    "* 결과 값은 `answer4`에 담아주세요"
   ]
  },
  {
   "cell_type": "code",
   "execution_count": null,
   "metadata": {},
   "outputs": [],
   "source": [
    "##########\n",
    "# CODE HERE\n",
    "##########"
   ]
  },
  {
   "cell_type": "markdown",
   "metadata": {},
   "source": [
    "#### 정답 확인\n",
    "* 정답을 입력한 후, 아래를 실행시키면 정답인지 확인합니다."
   ]
  },
  {
   "cell_type": "code",
   "execution_count": null,
   "metadata": {
    "scrolled": false
   },
   "outputs": [],
   "source": [
    "assert 'answer4' in globals(), \"결과를 answer4라는 변수에 담아주세요!, answer4의 값을 보고 평가합니다.\"\n",
    "\n",
    "A = ['골리앗창뿔풍뎅이', '시베리아호랑이', '개미', '고메라큰도마뱀', '메추라기']\n",
    "\n",
    "try:\n",
    "    assert len(A) == len(answer4), \"갯수가 맞지 않습니다\"\n",
    "    for idx, (_A,_answer) in enumerate(zip(A, answer4)):\n",
    "        assert _answer == _A\n",
    "    else:\n",
    "        print(\"정답입니다!!!!\")\n",
    "except:\n",
    "    raise ValueError(\"\\n정답  : \\n{}\\n현재값 : \\n{}\\n입니다.다시 수정해서 제출해주세요!\".format(A,answer4))\n"
   ]
  },
  {
   "cell_type": "markdown",
   "metadata": {},
   "source": [
    "## 문제 5. 리스트에서 값 추가하기"
   ]
  },
  {
   "cell_type": "markdown",
   "metadata": {},
   "source": [
    "* 리스트의 인덱싱을 활용하여, 동물 이름 리스트에서 **0번째 인덱스**에 \"강아지\"라는 동물이름을 추가해주세요!"
   ]
  },
  {
   "cell_type": "code",
   "execution_count": null,
   "metadata": {},
   "outputs": [],
   "source": [
    "# 우선 실행해주세요\n",
    "animals = ['골리앗창뿔풍뎅이', '시베리아호랑이', '개미', '고메라큰도마뱀', \n",
    " '메추라기', '아메리카새우', '뉴질랜드검은머리흰죽지', '에콰도르산왕부리', \n",
    " '알락꼬리고양이', '매가오리과', '심해어', '납지리', '솔개류', '귀상어', \n",
    " '쇠찌르레기', '스페인스라소니', '붉은따오기', '에콰도르분홍발톱타란튤라', \n",
    " '부채꼬리뇌조', '무지개아마존앵무']"
   ]
  },
  {
   "cell_type": "markdown",
   "metadata": {},
   "source": [
    "#### 답안지 입력란\n",
    "* 아래에 답을 서술하여 주세요\n",
    "* 결과 값은 `animals`에 담아주세요"
   ]
  },
  {
   "cell_type": "code",
   "execution_count": null,
   "metadata": {},
   "outputs": [],
   "source": [
    "##########\n",
    "# CODE HERE\n",
    "##########"
   ]
  },
  {
   "cell_type": "markdown",
   "metadata": {},
   "source": [
    "#### 정답 확인\n",
    "* 정답을 입력한 후, 아래를 실행시키면 정답인지 확인합니다."
   ]
  },
  {
   "cell_type": "code",
   "execution_count": null,
   "metadata": {},
   "outputs": [],
   "source": [
    "assert 'animals' in globals(), \"insert 함수는 animals에 원소를 추가하고 반환하지 않습니다\"\n",
    "\n",
    "assert animals[0] == \"강아지\", \"animals의 0번째 원소값이 강아지가 되어야 합니다.\""
   ]
  },
  {
   "cell_type": "markdown",
   "metadata": {},
   "source": [
    "## 문제 6. 리스트에서 값 수정하기(1)"
   ]
  },
  {
   "cell_type": "markdown",
   "metadata": {},
   "source": [
    "* 리스트의 인덱싱을 활용하여, 동물 이름 리스트에서 **솔개류**를 \"솔개\"로 바꿔주세요!"
   ]
  },
  {
   "cell_type": "code",
   "execution_count": null,
   "metadata": {},
   "outputs": [],
   "source": [
    "# 우선 실행해주세요\n",
    "animals = ['골리앗창뿔풍뎅이', '시베리아호랑이', '개미', '고메라큰도마뱀', \n",
    " '메추라기', '아메리카새우', '뉴질랜드검은머리흰죽지', '에콰도르산왕부리', \n",
    " '알락꼬리고양이', '매가오리과', '심해어', '납지리', '솔개류', '귀상어', \n",
    " '쇠찌르레기', '스페인스라소니', '붉은따오기', '에콰도르분홍발톱타란튤라', \n",
    " '부채꼬리뇌조', '무지개아마존앵무']"
   ]
  },
  {
   "cell_type": "markdown",
   "metadata": {},
   "source": [
    "#### 답안지 입력란\n",
    "* 아래에 답을 서술하여 주세요\n",
    "* 결과 값은 `animals`에 담아주세요"
   ]
  },
  {
   "cell_type": "code",
   "execution_count": null,
   "metadata": {},
   "outputs": [],
   "source": [
    "##########\n",
    "# CODE HERE\n",
    "##########"
   ]
  },
  {
   "cell_type": "markdown",
   "metadata": {},
   "source": [
    "#### 정답 확인\n",
    "* 정답을 입력한 후, 아래를 실행시키면 정답인지 확인합니다."
   ]
  },
  {
   "cell_type": "code",
   "execution_count": null,
   "metadata": {},
   "outputs": [],
   "source": [
    "assert 'animals' in globals(), \"insert 함수는 animals에 원소를 추가하고 반환하지 않습니다\"\n",
    "IDX = 12\n",
    "assert animals[IDX] == \"솔개\", \"animals의 12번째 원소값이 솔개가 되어야 합니다.\"\n",
    "\n",
    "print(\"정답입니다!!!!\")"
   ]
  },
  {
   "cell_type": "markdown",
   "metadata": {},
   "source": [
    "## 문제 7. 리스트에서 값 제거하기"
   ]
  },
  {
   "cell_type": "markdown",
   "metadata": {},
   "source": [
    "* 리스트의 인덱싱을 활용하여, 동물 이름 리스트의 마지막 요소 3개를 삭제해주세요!"
   ]
  },
  {
   "cell_type": "code",
   "execution_count": null,
   "metadata": {},
   "outputs": [],
   "source": [
    "# 우선 실행해주세요\n",
    "animals = ['골리앗창뿔풍뎅이', '시베리아호랑이', '개미', '고메라큰도마뱀', \n",
    " '메추라기', '아메리카새우', '뉴질랜드검은머리흰죽지', '에콰도르산왕부리', \n",
    " '알락꼬리고양이', '매가오리과', '심해어', '납지리', '솔개류', '귀상어', \n",
    " '쇠찌르레기', '스페인스라소니', '붉은따오기', '에콰도르분홍발톱타란튤라', \n",
    " '부채꼬리뇌조', '무지개아마존앵무']"
   ]
  },
  {
   "cell_type": "markdown",
   "metadata": {},
   "source": [
    "#### 답안지 입력란\n",
    "* 아래에 답을 서술하여 주세요\n",
    "* 결과 값은 `answer7`에 담아주세요"
   ]
  },
  {
   "cell_type": "code",
   "execution_count": null,
   "metadata": {},
   "outputs": [],
   "source": [
    "##########\n",
    "# CODE HERE\n",
    "##########"
   ]
  },
  {
   "cell_type": "markdown",
   "metadata": {},
   "source": [
    "#### 정답 확인\n",
    "* 정답을 입력한 후, 아래를 실행시키면 정답인지 확인합니다."
   ]
  },
  {
   "cell_type": "code",
   "execution_count": null,
   "metadata": {},
   "outputs": [],
   "source": [
    "assert 'answer7' in globals(), \"결과를 answer7이라는 변수에 담아주세요!, answer7의 값을 보고 평가합니다.\"\n",
    "\n",
    "A = ['골리앗창뿔풍뎅이', '시베리아호랑이', '개미', '고메라큰도마뱀', \n",
    " '메추라기', '아메리카새우', '뉴질랜드검은머리흰죽지', '에콰도르산왕부리', \n",
    " '알락꼬리고양이', '매가오리과', '심해어', '납지리', '솔개류', '귀상어', \n",
    " '쇠찌르레기', '스페인스라소니', '붉은따오기']\n",
    "\n",
    "try:\n",
    "    assert len(A) == len(answer7), \"갯수가 맞지 않습니다\"\n",
    "    for idx, (_A,_answer) in enumerate(zip(A, answer7)):\n",
    "        assert _answer == _A\n",
    "    else:\n",
    "        print(\"정답입니다!!!!\")\n",
    "except:\n",
    "    raise ValueError(\"\\n정답  : \\n{}\\n현재값 : \\n{}\\n입니다.다시 수정해서 제출해주세요!\".format(A,answer7))\n"
   ]
  },
  {
   "cell_type": "markdown",
   "metadata": {},
   "source": [
    "## 문제 8. 리스트에서 원소 갯수 구하기"
   ]
  },
  {
   "cell_type": "markdown",
   "metadata": {},
   "source": [
    "* 내장된 함수를 이용하여, 동물 이름 리스트에 몇개의 원소가 있는지 세어주세요!"
   ]
  },
  {
   "cell_type": "code",
   "execution_count": null,
   "metadata": {},
   "outputs": [],
   "source": [
    "# 우선 실행해주세요\n",
    "animals = ['골리앗창뿔풍뎅이', '시베리아호랑이', '개미', '고메라큰도마뱀', \n",
    " '메추라기', '아메리카새우', '뉴질랜드검은머리흰죽지', '에콰도르산왕부리', \n",
    " '알락꼬리고양이', '매가오리과', '심해어', '납지리', '솔개류', '귀상어', \n",
    " '쇠찌르레기', '스페인스라소니', '붉은따오기', '에콰도르분홍발톱타란튤라', \n",
    " '부채꼬리뇌조', '무지개아마존앵무']"
   ]
  },
  {
   "cell_type": "markdown",
   "metadata": {},
   "source": [
    "#### 답안지 입력란\n",
    "* 아래에 답을 서술하여 주세요\n",
    "* 결과 값은 `answer8`에 담아주세요"
   ]
  },
  {
   "cell_type": "code",
   "execution_count": null,
   "metadata": {},
   "outputs": [],
   "source": [
    "##########\n",
    "# CODE HERE\n",
    "##########"
   ]
  },
  {
   "cell_type": "markdown",
   "metadata": {},
   "source": [
    "#### 정답 확인\n",
    "* 정답을 입력한 후, 아래를 실행시키면 정답인지 확인합니다."
   ]
  },
  {
   "cell_type": "code",
   "execution_count": null,
   "metadata": {},
   "outputs": [],
   "source": [
    "assert 'answer8' in globals(), \"결과를 answer8이라는 변수에 담아주세요!, answer8의 값을 보고 평가합니다.\"\n",
    "\n",
    "assert answer8 == 20, \"동물의 수는 20개입니다. 다시 확인해주세요!\"\n",
    "\n",
    "print(\"정답입니다!!!!\")"
   ]
  },
  {
   "cell_type": "markdown",
   "metadata": {},
   "source": [
    "## 문제 9. 리스트를 정렬하기"
   ]
  },
  {
   "cell_type": "markdown",
   "metadata": {},
   "source": [
    "* 동물 이름 리스트를 이름 순으로 오름차순으로 정렬해주세요!"
   ]
  },
  {
   "cell_type": "code",
   "execution_count": null,
   "metadata": {},
   "outputs": [],
   "source": [
    "# 우선 실행해주세요\n",
    "animals = ['골리앗창뿔풍뎅이', '시베리아호랑이', '개미', '고메라큰도마뱀', \n",
    " '메추라기', '아메리카새우', '뉴질랜드검은머리흰죽지', '에콰도르산왕부리', \n",
    " '알락꼬리고양이', '매가오리과', '심해어', '납지리', '솔개류', '귀상어', \n",
    " '쇠찌르레기', '스페인스라소니', '붉은따오기', '에콰도르분홍발톱타란튤라', \n",
    " '부채꼬리뇌조', '무지개아마존앵무']"
   ]
  },
  {
   "cell_type": "markdown",
   "metadata": {},
   "source": [
    "#### 답안지 입력란\n",
    "* 아래에 답을 서술하여 주세요\n",
    "* 결과 값은 `answer9`에 담아주세요"
   ]
  },
  {
   "cell_type": "code",
   "execution_count": null,
   "metadata": {},
   "outputs": [],
   "source": [
    "##########\n",
    "# CODE HERE\n",
    "##########"
   ]
  },
  {
   "cell_type": "markdown",
   "metadata": {},
   "source": [
    "#### 정답 확인\n",
    "* 정답을 입력한 후, 아래를 실행시키면 정답인지 확인합니다."
   ]
  },
  {
   "cell_type": "code",
   "execution_count": null,
   "metadata": {
    "scrolled": false
   },
   "outputs": [],
   "source": [
    "assert 'answer9' in globals(), \"결과를 answer9라는 변수에 담아주세요!, answer9의 값을 보고 평가합니다.\"\n",
    "\n",
    "A = ['개미', '고메라큰도마뱀', '골리앗창뿔풍뎅이', \n",
    "     '귀상어', '납지리', '뉴질랜드검은머리흰죽지', \n",
    "     '매가오리과', '메추라기', '무지개아마존앵무', \n",
    "     '부채꼬리뇌조', '붉은따오기', '솔개류', '쇠찌르레기', \n",
    "     '스페인스라소니', '시베리아호랑이', '심해어', '아메리카새우', \n",
    "     '알락꼬리고양이', '에콰도르분홍발톱타란튤라', '에콰도르산왕부리']\n",
    "\n",
    "try:\n",
    "    assert len(A) == len(answer9), \"갯수가 맞지 않습니다\"\n",
    "    for idx, (_A,_answer) in enumerate(zip(A, answer9)):\n",
    "        assert _answer == _A\n",
    "    else:\n",
    "        print(\"정답입니다!!!!\")\n",
    "except:\n",
    "    raise ValueError(\"\\n정답  : \\n{}\\n현재값 : \\n{}\\n입니다.다시 수정해서 제출해주세요!\".format(A,answer9))\n"
   ]
  },
  {
   "cell_type": "markdown",
   "metadata": {},
   "source": [
    "## 문제 10. 리스트의 연산자 및 함수"
   ]
  },
  {
   "cell_type": "markdown",
   "metadata": {},
   "source": [
    "* 동물 이름 리스트에서 `'ㄱ'`과 `'ㅇ'`으로 시작하는 동물들만 가져와주세요!"
   ]
  },
  {
   "cell_type": "code",
   "execution_count": null,
   "metadata": {},
   "outputs": [],
   "source": [
    "# 우선 실행해주세요\n",
    "animals = ['골리앗창뿔풍뎅이', '시베리아호랑이', '개미', '고메라큰도마뱀', \n",
    " '메추라기', '아메리카새우', '뉴질랜드검은머리흰죽지', '에콰도르산왕부리', \n",
    " '알락꼬리고양이', '매가오리과', '심해어', '납지리', '솔개류', '귀상어', \n",
    " '쇠찌르레기', '스페인스라소니', '붉은따오기', '에콰도르분홍발톱타란튤라', \n",
    " '부채꼬리뇌조', '무지개아마존앵무']"
   ]
  },
  {
   "cell_type": "markdown",
   "metadata": {},
   "source": [
    "#### 답안지 입력란\n",
    "* 아래에 답을 서술하여 주세요\n",
    "* 결과 값은 `answer10`에 담아주세요"
   ]
  },
  {
   "cell_type": "code",
   "execution_count": null,
   "metadata": {},
   "outputs": [],
   "source": [
    "##########\n",
    "# CODE HERE\n",
    "##########"
   ]
  },
  {
   "cell_type": "markdown",
   "metadata": {},
   "source": [
    "#### 정답 확인\n",
    "* 정답을 입력한 후, 아래를 실행시키면 정답인지 확인합니다."
   ]
  },
  {
   "cell_type": "code",
   "execution_count": null,
   "metadata": {
    "scrolled": false
   },
   "outputs": [],
   "source": [
    "assert 'answer10' in globals(), \"결과를 answer10이라는 변수에 담아주세요!, answer10의 값을 보고 평가합니다.\"\n",
    "\n",
    "A = ['개미', '고메라큰도마뱀', '골리앗창뿔풍뎅이', \n",
    "     '귀상어', '아메리카새우', '알락꼬리고양이', \n",
    "     '에콰도르분홍발톱타란튤라', '에콰도르산왕부리']\n",
    "\n",
    "try:\n",
    "    assert len(A) == len(answer10), \"갯수가 맞지 않습니다\"\n",
    "    for idx, (_A,_answer) in enumerate(zip(A, answer10)):\n",
    "        assert _answer == _A\n",
    "    else:\n",
    "        print(\"정답입니다!!!!\")\n",
    "except:\n",
    "    raise ValueError(\"\\n정답  : \\n{}\\n현재값 : \\n{}\\n입니다.다시 수정해서 제출해주세요!\".format(A,answer10))\n"
   ]
  },
  {
   "cell_type": "markdown",
   "metadata": {},
   "source": [
    "## 문제 11. 리스트에서 값 수정하기(2)-1"
   ]
  },
  {
   "cell_type": "markdown",
   "metadata": {},
   "source": [
    "* 다음 코드의 결과값을 예측해보세요\n",
    "```python\n",
    "animals_0 = ['골리앗창뿔풍뎅이', '시베리아호랑이', '개미']\n",
    "animals_1 = animals_0\n",
    "animals_1[0] = '무지개아마존앵무'\n",
    "print(animals_0)\n",
    "```"
   ]
  },
  {
   "cell_type": "markdown",
   "metadata": {},
   "source": [
    "#### 답안지 입력란\n",
    "* 아래에 답을 서술하여 주세요\n",
    "* 결과 값은 `answer11`에 담아주세요"
   ]
  },
  {
   "cell_type": "code",
   "execution_count": null,
   "metadata": {},
   "outputs": [],
   "source": [
    "##########\n",
    "# CODE HERE\n",
    "##########"
   ]
  },
  {
   "cell_type": "markdown",
   "metadata": {},
   "source": [
    "#### 정답 확인\n",
    "* 정답을 입력한 후, 아래를 실행시키면 정답인지 확인합니다."
   ]
  },
  {
   "cell_type": "code",
   "execution_count": null,
   "metadata": {
    "scrolled": false
   },
   "outputs": [],
   "source": [
    "assert 'answer11' in globals(), \"결과를 answer11이라는 변수에 담아주세요!, answer11의 값을 보고 평가합니다.\"\n",
    "\n",
    "A = ['무지개아마존앵무', '시베리아호랑이', '개미']\n",
    "\n",
    "try:\n",
    "    assert len(A) == len(answer11), \"갯수가 맞지 않습니다\"\n",
    "    for idx, (_A,_answer) in enumerate(zip(A, answer11)):\n",
    "        assert _answer == _A\n",
    "    else:\n",
    "        print(\"정답입니다!!!!\")\n",
    "except:\n",
    "    raise ValueError(\"\\n정답  : \\n{}\\n현재값 : \\n{}\\n입니다.다시 수정해서 제출해주세요!\".format(A,answer11))\n"
   ]
  },
  {
   "cell_type": "markdown",
   "metadata": {},
   "source": [
    "## 문제 12. 리스트에서 값 수정하기(2)-2"
   ]
  },
  {
   "cell_type": "markdown",
   "metadata": {},
   "source": [
    "* 다음 코드의 결과값을 예측해보세요\n",
    "```python\n",
    "animals_0 = ['골리앗창뿔풍뎅이', '시베리아호랑이', '개미']\n",
    "animals_1 = animals_0[:2]\n",
    "animals_1[0] = '무지개아마존앵무'\n",
    "print(animals_0)\n",
    "```"
   ]
  },
  {
   "cell_type": "markdown",
   "metadata": {},
   "source": [
    "#### 답안지 입력란\n",
    "* 아래에 답을 서술하여 주세요\n",
    "* 결과 값은 `answer12`에 담아주세요"
   ]
  },
  {
   "cell_type": "code",
   "execution_count": null,
   "metadata": {},
   "outputs": [],
   "source": [
    "##########\n",
    "# CODE HERE\n",
    "##########"
   ]
  },
  {
   "cell_type": "markdown",
   "metadata": {},
   "source": [
    "#### 정답 확인\n",
    "* 정답을 입력한 후, 아래를 실행시키면 정답인지 확인합니다."
   ]
  },
  {
   "cell_type": "code",
   "execution_count": null,
   "metadata": {
    "scrolled": false
   },
   "outputs": [],
   "source": [
    "assert 'answer12' in globals(), \"결과를 answer12라는 변수에 담아주세요!, answer12의 값을 보고 평가합니다.\"\n",
    "\n",
    "A = ['골리앗창뿔풍뎅이', '시베리아호랑이', '개미']\n",
    "\n",
    "try:\n",
    "    assert len(A) == len(answer12), \"갯수가 맞지 않습니다\"\n",
    "    for idx, (_A,_answer) in enumerate(zip(A, answer12)):\n",
    "        assert _answer == _A\n",
    "    else:\n",
    "        print(\"정답입니다!!!!\")\n",
    "except:\n",
    "    raise ValueError(\"\\n정답  : \\n{}\\n현재값 : \\n{}\\n입니다.다시 수정해서 제출해주세요!\".format(A,answer12))\n"
   ]
  },
  {
   "cell_type": "markdown",
   "metadata": {},
   "source": [
    "## 문제 13. 두 리스트 교차하기"
   ]
  },
  {
   "cell_type": "markdown",
   "metadata": {},
   "source": [
    "각각 이름과 성을 담고 있는 두개의 리스트가 있습니다.\n",
    "\n",
    "`first_name = ['크리스', '크리스', '마크', '스칼렛']`\n",
    "\n",
    "`last_name = ['에반스', '햄스워스', '러팔로', '요한슨']`\n",
    "\n",
    "이름과 성이 순서대로 엮인 리스트를 만들어 주세요\n"
   ]
  },
  {
   "cell_type": "code",
   "execution_count": null,
   "metadata": {},
   "outputs": [],
   "source": [
    "# 우선 실행해주세요\n",
    "first_name = ['크리스', '크리스', '마크', '스칼렛']\n",
    "last_name = ['에반스', '햄스워스', '러팔로', '요한슨']"
   ]
  },
  {
   "cell_type": "markdown",
   "metadata": {},
   "source": [
    "#### 답안지 입력란\n",
    "* 아래에 답을 서술하여 주세요\n",
    "* 결과 값은 `answer13`에 담아주세요"
   ]
  },
  {
   "cell_type": "code",
   "execution_count": null,
   "metadata": {},
   "outputs": [],
   "source": [
    "##########\n",
    "# CODE HERE\n",
    "##########"
   ]
  },
  {
   "cell_type": "markdown",
   "metadata": {},
   "source": [
    "#### 정답 확인\n",
    "* 정답을 입력한 후, 아래를 실행시키면 정답인지 확인합니다."
   ]
  },
  {
   "cell_type": "code",
   "execution_count": null,
   "metadata": {
    "scrolled": false
   },
   "outputs": [],
   "source": [
    "assert 'answer13' in globals(), \"결과를 answer13이라는 변수에 담아주세요!, answer13의 값을 보고 평가합니다.\"\n",
    "\n",
    "A = [('크리스', '에반스'), ('크리스', '햄스워스'), \n",
    "     ('마크', '러팔로'), ('스칼렛', '요한슨')]\n",
    "\n",
    "try:\n",
    "    assert len(A) == len(answer13), \"갯수가 맞지 않습니다\"\n",
    "    for idx, (_A,_answer) in enumerate(zip(A, answer13)):\n",
    "        assert _answer == _A\n",
    "    else:\n",
    "        print(\"정답입니다!!!!\")\n",
    "except:\n",
    "    raise ValueError(\"\\n정답  : \\n{}\\n현재값 : \\n{}\\n입니다.다시 수정해서 제출해주세요!\".format(A,answer13))\n"
   ]
  },
  {
   "cell_type": "markdown",
   "metadata": {},
   "source": [
    "#  \n",
    "\n",
    "\n",
    "<hr>\n",
    "\n",
    "Copyright(c) 2019 by Public AI. All rights reserved.<br>\n",
    "Writen by PAI, DoYeong Kim ( ka2k@publicai.co.kr )  last updated on 2019/07/12\n",
    "<hr>"
   ]
  }
 ],
 "metadata": {
  "kernelspec": {
   "display_name": "Python 3",
   "language": "python",
   "name": "python3"
  },
  "language_info": {
   "codemirror_mode": {
    "name": "ipython",
    "version": 3
   },
   "file_extension": ".py",
   "mimetype": "text/x-python",
   "name": "python",
   "nbconvert_exporter": "python",
   "pygments_lexer": "ipython3",
   "version": "3.6.6"
  },
  "toc": {
   "base_numbering": 1,
   "nav_menu": {},
   "number_sections": false,
   "sideBar": true,
   "skip_h1_title": false,
   "title_cell": "Table of Contents",
   "title_sidebar": "Contents",
   "toc_cell": false,
   "toc_position": {},
   "toc_section_display": true,
   "toc_window_display": false
  },
  "varInspector": {
   "cols": {
    "lenName": 16,
    "lenType": 16,
    "lenVar": 40
   },
   "kernels_config": {
    "python": {
     "delete_cmd_postfix": "",
     "delete_cmd_prefix": "del ",
     "library": "var_list.py",
     "varRefreshCmd": "print(var_dic_list())"
    },
    "r": {
     "delete_cmd_postfix": ") ",
     "delete_cmd_prefix": "rm(",
     "library": "var_list.r",
     "varRefreshCmd": "cat(var_dic_list()) "
    }
   },
   "types_to_exclude": [
    "module",
    "function",
    "builtin_function_or_method",
    "instance",
    "_Feature"
   ],
   "window_display": false
  }
 },
 "nbformat": 4,
 "nbformat_minor": 2
}
