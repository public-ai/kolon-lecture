{
 "cells": [
  {
   "cell_type": "markdown",
   "metadata": {},
   "source": [
    "# Python에서의 제어문(2) 순회문\n",
    "\n",
    "* Python에서 제공하는 제어문은 크게 3가지 조건문(if) / 반복문(while) / 순회문(for)이 존재합니다. 이번 수업에서는 순회문에 대해서 배우도록 하겠습니다.\n"
   ]
  },
  {
   "cell_type": "markdown",
   "metadata": {},
   "source": [
    "#### 예제) 시합에서의 음성 분석\n",
    "\n",
    "검도 대회에서 선수는 공격할 때 \"얍\"이라고 기합을 내고, 공격을 당할 때는 \"앗\"이라고 소리를 낸다. 아래는 시합 중 있었던 한 선수의 기합 소리를 정리해둔 리스트이다. \n",
    "\n",
    "````python\n",
    "['얍', '얍', '얍', '얍', '얍', '얍', '얍', '얍', '얍', '얍', \n",
    " '얍', '얍', '얍', '얍', '얍', '앗', '얍', '얍', '얍', '얍', \n",
    " '앗', '얍', '얍', '얍', '앗', '얍', '얍', '얍', '얍', '얍', \n",
    " '얍', '얍', '앗', '얍', '얍', '얍', '얍', '얍', '얍', '얍', \n",
    " '얍', '얍', '얍', '얍', '얍', '얍', '얍', '앗', '얍', '얍']\n",
    "````\n",
    "\n",
    "위의 정보를 해석해 보자면\n",
    "* 총 50번의 소리를 내질렀다.\n",
    "* 첫 번째로 내지른 소리는 공격할 때의 소리 \"얍\"이었고,\n",
    "* 16 번째로 처음 공격을 당하게 되면서, \"앗\"이라는 소리를 내게 된다. \n",
    "\n",
    "위의 정보로 선수의 승부를 분석해 보자.\n"
   ]
  },
  {
   "cell_type": "markdown",
   "metadata": {},
   "source": [
    "> 이번 문제들은 반복문에서 다룬 예시들을 순회문으로 다시 풀어봐주세요!"
   ]
  },
  {
   "cell_type": "markdown",
   "metadata": {},
   "source": [
    "## 문제 1. 공격횟수 `얍` 세기\n",
    "\n",
    "* `for`을 이용해, 선수의 기합 중 공격 소리인 `얍`의 횟수를 세어주세요"
   ]
  },
  {
   "cell_type": "code",
   "execution_count": 1,
   "metadata": {},
   "outputs": [],
   "source": [
    "sound = ['얍', '얍', '얍', '얍', '얍', '얍', '얍', '얍', '얍', '얍', \n",
    " '얍', '얍', '얍', '얍', '얍', '앗', '얍', '얍', '얍', '얍', \n",
    " '앗', '얍', '얍', '얍', '앗', '얍', '얍', '얍', '얍', '얍', \n",
    " '얍', '얍', '앗', '얍', '얍', '얍', '얍', '얍', '얍', '얍', \n",
    " '얍', '얍', '얍', '얍', '얍', '얍', '얍', '앗', '얍', '얍']"
   ]
  },
  {
   "cell_type": "markdown",
   "metadata": {},
   "source": [
    "#### 답안지 입력란\n",
    "* 아래에 답을 서술하여 주세요\n",
    "* 결과값은 `answer1`에 담아주세요"
   ]
  },
  {
   "cell_type": "code",
   "execution_count": 2,
   "metadata": {},
   "outputs": [],
   "source": [
    "answer1 = 0\n",
    "idx = 0 \n",
    "for s in sound:\n",
    "    if s == \"얍\":\n",
    "        answer1 = answer1 + 1"
   ]
  },
  {
   "cell_type": "markdown",
   "metadata": {},
   "source": [
    "#### 정답 확인\n",
    "* 정답을 입력한 후, 아래를 실행시키면 정답인지 확인합니다."
   ]
  },
  {
   "cell_type": "code",
   "execution_count": 3,
   "metadata": {},
   "outputs": [
    {
     "name": "stdout",
     "output_type": "stream",
     "text": [
      "정답입니다!!!!\n"
     ]
    }
   ],
   "source": [
    "assert 'answer1' in globals(), \"결과를 answer1이라는 변수에 담아주세요!, answer1의 값을 보고 평가합니다.\"\n",
    "\n",
    "if (answer1 == 45):\n",
    "    print(\"정답입니다!!!!\")\n",
    "else:\n",
    "    raise ValueError(\"결과는 45가 나와야합니다. 다시 확인해주세요!\")"
   ]
  },
  {
   "cell_type": "markdown",
   "metadata": {},
   "source": [
    "## 문제 2. 승점 세기\n",
    "\n",
    "* 선수가 공격을 할 때, 승점이 1점 올라가고, 선수가 공격을 당할 때, 승점이 1점 내려간다고 할 때, 우리의 선수는 몇 점을 얻었는지 계산해주세요"
   ]
  },
  {
   "cell_type": "code",
   "execution_count": 4,
   "metadata": {},
   "outputs": [],
   "source": [
    "sound = ['얍', '얍', '얍', '얍', '얍', '얍', '얍', '얍', '얍', '얍', \n",
    " '얍', '얍', '얍', '얍', '얍', '앗', '얍', '얍', '얍', '얍', \n",
    " '앗', '얍', '얍', '얍', '앗', '얍', '얍', '얍', '얍', '얍', \n",
    " '얍', '얍', '앗', '얍', '얍', '얍', '얍', '얍', '얍', '얍', \n",
    " '얍', '얍', '얍', '얍', '얍', '얍', '얍', '앗', '얍', '얍']"
   ]
  },
  {
   "cell_type": "markdown",
   "metadata": {},
   "source": [
    "#### 답안지 입력란\n",
    "* 아래에 답을 서술하여 주세요\n",
    "* 결과값은 `answer2`에 담아주세요"
   ]
  },
  {
   "cell_type": "code",
   "execution_count": 5,
   "metadata": {},
   "outputs": [],
   "source": [
    "answer2 = 0\n",
    "idx = 0 \n",
    "for s in sound:\n",
    "    if s == \"얍\":\n",
    "        answer2 = answer2 + 1\n",
    "    else:\n",
    "        answer2 = answer2 - 1"
   ]
  },
  {
   "cell_type": "markdown",
   "metadata": {},
   "source": [
    "#### 정답 확인\n",
    "* 정답을 입력한 후, 아래를 실행시키면 정답인지 확인합니다."
   ]
  },
  {
   "cell_type": "code",
   "execution_count": 6,
   "metadata": {},
   "outputs": [
    {
     "name": "stdout",
     "output_type": "stream",
     "text": [
      "정답입니다!!!!\n"
     ]
    }
   ],
   "source": [
    "assert 'answer2' in globals(), \"결과를 answer2라는 변수에 담아주세요!, answer2의 값을 보고 평가합니다.\"\n",
    "\n",
    "if (answer2 == 40):\n",
    "    print(\"정답입니다!!!!\")\n",
    "else:\n",
    "    raise ValueError(\"결과는 40이 나와야합니다. 다시 확인해주세요!\")\n",
    "    "
   ]
  },
  {
   "cell_type": "markdown",
   "metadata": {},
   "source": [
    "## 문제 3. 첫 공격 횟수 세기\n",
    "\n",
    "* 선수가 첫 공격 당하기 전까지(==처음 앗 소리가 나오기 전까지) 몇 번이나 공격을 했는지 계산해주세요"
   ]
  },
  {
   "cell_type": "code",
   "execution_count": 7,
   "metadata": {},
   "outputs": [],
   "source": [
    "sound = ['얍', '얍', '얍', '얍', '얍', '얍', '얍', '얍', '얍', '얍', \n",
    " '얍', '얍', '얍', '얍', '얍', '앗', '얍', '얍', '얍', '얍', \n",
    " '앗', '얍', '얍', '얍', '앗', '얍', '얍', '얍', '얍', '얍', \n",
    " '얍', '얍', '앗', '얍', '얍', '얍', '얍', '얍', '얍', '얍', \n",
    " '얍', '얍', '얍', '얍', '얍', '얍', '얍', '앗', '얍', '얍']"
   ]
  },
  {
   "cell_type": "markdown",
   "metadata": {},
   "source": [
    "#### 답안지 입력란\n",
    "* 아래에 답을 서술하여 주세요\n",
    "* 결과값은 `answer3`에 담아주세요"
   ]
  },
  {
   "cell_type": "code",
   "execution_count": 8,
   "metadata": {},
   "outputs": [],
   "source": [
    "answer3 = 0\n",
    "idx = 0 \n",
    "for s in sound:\n",
    "    if s == \"얍\":\n",
    "        answer3 = answer3 + 1\n",
    "    else:\n",
    "        break"
   ]
  },
  {
   "cell_type": "markdown",
   "metadata": {},
   "source": [
    "#### 정답 확인\n",
    "* 정답을 입력한 후, 아래를 실행시키면 정답인지 확인합니다."
   ]
  },
  {
   "cell_type": "code",
   "execution_count": 9,
   "metadata": {},
   "outputs": [
    {
     "name": "stdout",
     "output_type": "stream",
     "text": [
      "정답입니다!!!!\n"
     ]
    }
   ],
   "source": [
    "assert 'answer3' in globals(), \"결과를 answer3이라는 변수에 담아주세요!, answer3의 값을 보고 평가합니다.\"\n",
    "\n",
    "if (answer3 == 15):\n",
    "    print(\"정답입니다!!!!\")\n",
    "else:\n",
    "    raise ValueError(\"결과는 15가 나와야합니다. 다시 확인해주세요!\")\n",
    "    "
   ]
  },
  {
   "cell_type": "markdown",
   "metadata": {},
   "source": [
    "## 문제 4. 최대 연속 공격 횟수 세기\n",
    "\n",
    "* 선수가 가장 길게 연속으로 공격한 횟수(얍 전까지 최대 공격 횟수)가 얼마인지 계산해주세요\n",
    "\n",
    "예시) \n",
    "````python\n",
    "['얍','얍','앗','얍','얍','얍','얍','앗','얍','얍','얍']\n",
    "````\n",
    "위에서 연속 공격은 아래와 같다.\n",
    "* 첫번째 연속 공격 : ['얍','얍']\n",
    "* 두번째 연속 공격 : ['얍','얍','얍',얍']\n",
    "* 세번째 연속 공격 : ['얍','얍','얍]\n",
    "\n",
    "이 중 2번째 연속 공격의 숫자 4가 제일 크므로, 정답은 4이다."
   ]
  },
  {
   "cell_type": "code",
   "execution_count": 10,
   "metadata": {},
   "outputs": [],
   "source": [
    "sound = ['얍', '얍', '얍', '얍', '얍', '얍', '얍', '얍', '얍', '얍', \n",
    " '얍', '얍', '얍', '얍', '얍', '앗', '얍', '얍', '얍', '얍', \n",
    " '앗', '얍', '얍', '얍', '앗', '얍', '얍', '얍', '얍', '얍', \n",
    " '얍', '얍', '앗', '얍', '얍', '얍', '얍', '얍', '얍', '얍', \n",
    " '얍', '얍', '얍', '얍', '얍', '얍', '얍', '앗', '얍', '얍']"
   ]
  },
  {
   "cell_type": "markdown",
   "metadata": {},
   "source": [
    "#### 답안지 입력란\n",
    "* 아래에 답을 서술하여 주세요\n",
    "* 결과값은 `answer4`에 담아주세요"
   ]
  },
  {
   "cell_type": "code",
   "execution_count": 11,
   "metadata": {},
   "outputs": [],
   "source": [
    "count = 0\n",
    "max_count = 0\n",
    "\n",
    "for s in sound:\n",
    "    if s == \"얍\":\n",
    "        count = count + 1\n",
    "    else:\n",
    "        if count > max_count:\n",
    "            max_count = count\n",
    "        count = 0\n",
    "\n",
    "answer4 = max_count"
   ]
  },
  {
   "cell_type": "markdown",
   "metadata": {},
   "source": [
    "#### 정답 확인\n",
    "* 정답을 입력한 후, 아래를 실행시키면 정답인지 확인합니다."
   ]
  },
  {
   "cell_type": "code",
   "execution_count": 12,
   "metadata": {},
   "outputs": [
    {
     "name": "stdout",
     "output_type": "stream",
     "text": [
      "정답입니다!!!!\n"
     ]
    }
   ],
   "source": [
    "assert 'answer4' in globals(), \"결과를 answer4라는 변수에 담아주세요!, answer4의 값을 보고 평가합니다.\"\n",
    "\n",
    "if (answer4 == 15):\n",
    "    print(\"정답입니다!!!!\")\n",
    "else:\n",
    "    raise ValueError(\"결과는 15가 나와야합니다. 다시 확인해주세요!\")\n",
    "    "
   ]
  },
  {
   "cell_type": "markdown",
   "metadata": {},
   "source": [
    "## 문제 5. 학급의 평균 구하기\n",
    "\n",
    "* `for`을 이용해, 학급의 평균 점수를 구해주세요"
   ]
  },
  {
   "cell_type": "code",
   "execution_count": 13,
   "metadata": {},
   "outputs": [],
   "source": [
    "# 우선 실행해주세요!\n",
    "scores = [70, 60, 55, 75, 95, 90, 80, 80, 85, 100]"
   ]
  },
  {
   "cell_type": "markdown",
   "metadata": {},
   "source": [
    "#### 답안지 입력란\n",
    "* 아래에 답을 서술하여 주세요\n",
    "* 결과값은 `answer4`에 담아주세요"
   ]
  },
  {
   "cell_type": "code",
   "execution_count": 14,
   "metadata": {},
   "outputs": [],
   "source": [
    "total = 0\n",
    "for score in scores:\n",
    "    total += score\n",
    "\n",
    "answer5 = total / len(scores)"
   ]
  },
  {
   "cell_type": "markdown",
   "metadata": {},
   "source": [
    "#### 정답 확인\n",
    "* 정답을 입력한 후, 아래를 실행시키면 정답인지 확인합니다."
   ]
  },
  {
   "cell_type": "code",
   "execution_count": 15,
   "metadata": {},
   "outputs": [
    {
     "name": "stdout",
     "output_type": "stream",
     "text": [
      "정답입니다!!!!\n"
     ]
    }
   ],
   "source": [
    "assert 'answer5' in globals(), \"결과를 answer5라는 변수에 담아주세요!, answer5의 값을 보고 평가합니다.\"\n",
    "\n",
    "if (answer5 == 79.0):\n",
    "    print(\"정답입니다!!!!\")\n",
    "else:\n",
    "    raise ValueError(\"결과는 79.0가 나와야합니다. 다시 확인해주세요!\")\n",
    "    "
   ]
  },
  {
   "cell_type": "markdown",
   "metadata": {},
   "source": [
    "## 문제 6. 구구단을 담고 있는 List 만들기\n",
    "\n",
    "* 구구단이란 1부터 9까지의 두 수를 곱한 9×9 곱셈표입니다. 2단부터 시작하는 구구단의 결과를 모두 `list`에 담아주세요"
   ]
  },
  {
   "cell_type": "markdown",
   "metadata": {},
   "source": [
    "#### 답안지 입력란\n",
    "* 아래에 답을 서술하여 주세요\n",
    "* 결과값은 `answer6`에 담아주세요"
   ]
  },
  {
   "cell_type": "code",
   "execution_count": 16,
   "metadata": {
    "scrolled": true
   },
   "outputs": [],
   "source": [
    "multiplication_list = [x*y for x in range(2,10) for y in range(1,10)]\n",
    "answer6 = multiplication_list"
   ]
  },
  {
   "cell_type": "markdown",
   "metadata": {},
   "source": [
    "#### 정답 확인\n",
    "* 정답을 입력한 후, 아래를 실행시키면 정답인지 확인합니다."
   ]
  },
  {
   "cell_type": "code",
   "execution_count": 17,
   "metadata": {},
   "outputs": [
    {
     "name": "stdout",
     "output_type": "stream",
     "text": [
      "정답입니다!!!!\n"
     ]
    }
   ],
   "source": [
    "assert 'answer6' in globals(), \"결과를 answer6이라는 변수에 담아주세요!, answer6의 값을 보고 평가합니다.\"\n",
    "\n",
    "A = [2, 4, 6, 8, 10, 12, 14, 16, 18,\n",
    "     3, 6, 9, 12, 15, 18, 21, 24, 27,\n",
    "     4, 8, 12, 16, 20, 24, 28, 32, 36,\n",
    "     5, 10, 15, 20, 25, 30, 35, 40, 45,\n",
    "     6, 12, 18, 24, 30, 36, 42, 48, 54,\n",
    "     7, 14, 21, 28, 35, 42, 49, 56, 63,\n",
    "     8, 16, 24, 32, 40, 48, 56, 64, 72,\n",
    "     9, 18, 27, 36, 45, 54, 63, 72, 81]\n",
    "\n",
    "try:\n",
    "    assert len(A) == len(answer6), \"갯수가 맞지 않습니다\"\n",
    "    for idx, (_A,_answer) in enumerate(zip(A, answer6)):\n",
    "        assert _answer == _A\n",
    "    else:\n",
    "        print(\"정답입니다!!!!\")\n",
    "except:\n",
    "    raise ValueError(\"\\n정답  : \\n{}\\n현재값 : \\n{}\\n입니다.다시 수정해서 제출해주세요!\".format(A,answer6))\n"
   ]
  },
  {
   "cell_type": "markdown",
   "metadata": {},
   "source": [
    "## 문제 7. 피타고라스의 정리의 해 구하기\n",
    "\n",
    "기하학에는 피타고라스의 정리라는 것이 있습니다. 피타고라스의 정리는 다음과 같습니다.\n",
    "\n",
    "직각삼각형에서 직각을 낀 두 변의 길이를 각각 a, b라 하고, 빗변의 길이를 c라 하면 다음의 식이 성립한다\n",
    "\n",
    "$$\n",
    "a^{2} + b^{2} = c^{2},(a \\le b \\le c)\n",
    "$$\n",
    "\n",
    "피타고라스의 정리를 만족하는 20이하의 정수 a,b,c의 조합을 `tuple`형태로 담고 있는 `list`를만들어 주세요\n",
    "\n",
    "* 힌트 : $a \\le b \\le c$ 입니다! range의 범위를 잘 생각해 보세요"
   ]
  },
  {
   "cell_type": "markdown",
   "metadata": {},
   "source": [
    "#### 답안지 입력란\n",
    "* 아래에 답을 서술하여 주세요\n",
    "* 결과값은 `answer7`에 담아주세요"
   ]
  },
  {
   "cell_type": "code",
   "execution_count": 18,
   "metadata": {
    "scrolled": false
   },
   "outputs": [],
   "source": [
    "pythagorean_list = [(a, b, c) \n",
    "                    for a in range(1, 21) \n",
    "                    for b in range(a, 21) \n",
    "                    for c in range(b, 21)\n",
    "                    if a**2 + b**2 == c**2]\n",
    "answer7 = pythagorean_list"
   ]
  },
  {
   "cell_type": "markdown",
   "metadata": {},
   "source": [
    "#### 정답 확인\n",
    "* 정답을 입력한 후, 아래를 실행시키면 정답인지 확인합니다."
   ]
  },
  {
   "cell_type": "code",
   "execution_count": 19,
   "metadata": {
    "scrolled": true
   },
   "outputs": [
    {
     "name": "stdout",
     "output_type": "stream",
     "text": [
      "정답입니다!!!!\n"
     ]
    }
   ],
   "source": [
    "assert 'answer7' in globals(), \"결과를 answer7이라는 변수에 담아주세요!, answer7의 값을 보고 평가합니다.\"\n",
    "\n",
    "A = [(3, 4, 5), (5, 12, 13), (6, 8, 10), (8, 15, 17), (9, 12, 15), (12, 16, 20)]\n",
    "\n",
    "try:\n",
    "    assert len(A) == len(answer7), \"갯수가 맞지 않습니다\"\n",
    "    for tuples in answer7:\n",
    "        assert str(type(tuples)) == \"<class 'tuple'>\", \"a,b,c의 조합을 'tuple'형식으로 담아주세요\"\n",
    "    for idx, (_A,_answer) in enumerate(zip(A, answer7)):\n",
    "        assert _answer == _A\n",
    "    else:\n",
    "        print(\"정답입니다!!!!\")\n",
    "except:\n",
    "    raise ValueError(\"\\n정답  : \\n{}\\n현재값 : \\n{}\\n입니다.다시 수정해서 제출해주세요!\".format(A,answer7))\n"
   ]
  },
  {
   "cell_type": "markdown",
   "metadata": {},
   "source": [
    "## 문제 8. 피보나치 수를 담고 있는 List 만들기\n",
    "\n",
    "피보나치 수열이란 1 1 2 3 5 8 .... 처럼 앞의 두개를 더해서 다음수가 되는 수열을 말합니다.\n",
    "\n",
    "`for`을 이용하여 `1번째 피보나치 수(=1)`부터 `15번째 피보나치 수`까지의 피보나치 수를 담고 있는 `list`를 만들어주세요\n",
    "\n",
    "* 힌트 : for는 순회문이라는 것일 기억하며 첫번째와 두번째 피보나치 수를 담고 있는 list에서 시작해 보세요."
   ]
  },
  {
   "cell_type": "markdown",
   "metadata": {},
   "source": [
    "#### 답안지 입력란\n",
    "* 아래에 답을 서술하여 주세요\n",
    "* 결과값은 `answer8`에 담아주세요"
   ]
  },
  {
   "cell_type": "code",
   "execution_count": 20,
   "metadata": {},
   "outputs": [],
   "source": [
    "fibo_list = [1, 1]\n",
    "for i in range(3,15+1):\n",
    "    next_fibo = fibo_list[-2] + fibo_list[-1]\n",
    "    fibo_list.append(next_fibo)\n",
    "answer8 = fibo_list"
   ]
  },
  {
   "cell_type": "markdown",
   "metadata": {},
   "source": [
    "#### 정답 확인\n",
    "* 정답을 입력한 후, 아래를 실행시키면 정답인지 확인합니다."
   ]
  },
  {
   "cell_type": "code",
   "execution_count": 21,
   "metadata": {
    "scrolled": true
   },
   "outputs": [
    {
     "name": "stdout",
     "output_type": "stream",
     "text": [
      "정답입니다!!!!\n"
     ]
    }
   ],
   "source": [
    "assert 'answer8' in globals(), \"결과를 answer8이라는 변수에 담아주세요!, answer8의 값을 보고 평가합니다.\"\n",
    "\n",
    "A = [1, 1, 2, 3, 5, 8, 13, 21, 34, 55, 89, 144, 233, 377, 610]\n",
    "\n",
    "try:\n",
    "    assert len(A) == len(answer8), \"갯수가 맞지 않습니다\"\n",
    "    for idx, (_A,_answer) in enumerate(zip(A, answer8)):\n",
    "        assert _answer == _A\n",
    "    else:\n",
    "        print(\"정답입니다!!!!\")\n",
    "except:\n",
    "    raise ValueError(\"\\n정답  : \\n{}\\n현재값 : \\n{}\\n입니다.다시 수정해서 제출해주세요!\".format(A,answer8))\n"
   ]
  },
  {
   "cell_type": "markdown",
   "metadata": {},
   "source": [
    "## 문제 9. 소수를 담고 있는 List 만들기\n",
    "\n",
    "소수란, 1과 그 수 자신 이외의 자연수로는 나눌 수 없는 1보다 큰 자연수를 뜻합니다.\n",
    "\n",
    "`for`을 이용하여 `2`부터 `50`까지의 소수를 담고 있는 `list`를 만들어주세요\n"
   ]
  },
  {
   "cell_type": "markdown",
   "metadata": {},
   "source": [
    "#### 답안지 입력란\n",
    "* 아래에 답을 서술하여 주세요\n",
    "* 결과값은 `answer9`에 담아주세요"
   ]
  },
  {
   "cell_type": "code",
   "execution_count": 22,
   "metadata": {
    "scrolled": true
   },
   "outputs": [],
   "source": [
    "prime_list = []\n",
    "for n in range(2, 51):\n",
    "    flag = False\n",
    "    for i in range(2, n):\n",
    "        if n % i == 0:\n",
    "            flag = True\n",
    "            break\n",
    "    if not flag:\n",
    "        prime_list.append(n)\n",
    "answer9 = prime_list"
   ]
  },
  {
   "cell_type": "code",
   "execution_count": 23,
   "metadata": {},
   "outputs": [],
   "source": [
    "prime_list = []\n",
    "for n in range(2, 51):\n",
    "    for i in range(2, n):\n",
    "        if n % i == 0:\n",
    "            break\n",
    "    else:\n",
    "        prime_list.append(n)\n",
    "answer9 = prime_list"
   ]
  },
  {
   "cell_type": "markdown",
   "metadata": {},
   "source": [
    "#### 정답 확인\n",
    "* 정답을 입력한 후, 아래를 실행시키면 정답인지 확인합니다."
   ]
  },
  {
   "cell_type": "code",
   "execution_count": 24,
   "metadata": {
    "scrolled": true
   },
   "outputs": [
    {
     "name": "stdout",
     "output_type": "stream",
     "text": [
      "정답입니다!!!!\n"
     ]
    }
   ],
   "source": [
    "assert 'answer9' in globals(), \"결과를 answer9라는 변수에 담아주세요!, answer9의 값을 보고 평가합니다.\"\n",
    "\n",
    "A = [2, 3, 5, 7, 11, 13, 17, 19, 23, 29, 31, 37, 41, 43, 47]\n",
    "\n",
    "try:\n",
    "    assert len(A) == len(answer9), \"갯수가 맞지 않습니다\"\n",
    "    for idx, (_A,_answer) in enumerate(zip(A, answer9)):\n",
    "        assert _answer == _A\n",
    "    else:\n",
    "        print(\"정답입니다!!!!\")\n",
    "except:\n",
    "    raise ValueError(\"\\n정답  : \\n{}\\n현재값 : \\n{}\\n입니다.다시 수정해서 제출해주세요!\".format(A,answer9))\n"
   ]
  },
  {
   "cell_type": "markdown",
   "metadata": {},
   "source": [
    "## 문제 10. 공배수를 담고 있는 Set 만들기\n",
    "\n",
    "공배수란 두 개 이상의 자연수의 공통인 배수를 말합니다. 예를 들어 3과 4의 공배수는 3의 배수이기도 하고 4의 배수이기도 한 것입니다.\n",
    "\n",
    "1 부터 100까지의 `3`과 `5`의 공배수를 `set`형태로 저장해주세요\n"
   ]
  },
  {
   "cell_type": "markdown",
   "metadata": {},
   "source": [
    "#### 답안지 입력란\n",
    "* 아래에 답을 서술하여 주세요\n",
    "* 결과값은 `answer10`에 담아주세요"
   ]
  },
  {
   "cell_type": "code",
   "execution_count": 25,
   "metadata": {
    "scrolled": true
   },
   "outputs": [],
   "source": [
    "answer10 = {i for i in range(1, 101) if (i % 3 == 0 and i % 5 == 0)}"
   ]
  },
  {
   "cell_type": "markdown",
   "metadata": {},
   "source": [
    "#### 정답 확인\n",
    "* 정답을 입력한 후, 아래를 실행시키면 정답인지 확인합니다."
   ]
  },
  {
   "cell_type": "code",
   "execution_count": 26,
   "metadata": {
    "scrolled": true
   },
   "outputs": [
    {
     "name": "stdout",
     "output_type": "stream",
     "text": [
      "정답입니다!!!!\n"
     ]
    }
   ],
   "source": [
    "assert 'answer10' in globals(), \"결과를 answer10이라는 변수에 담아주세요!, answer10의 값을 보고 평가합니다.\"\n",
    "\n",
    "A = {15, 30, 45, 60, 75, 90}\n",
    "\n",
    "assert str(type(answer10)) == \"<class 'set'>\", \"결과값들을 'set'형식으로 담아주세요\"\n",
    "assert len(A) == len(answer10), \"갯수가 맞지 않습니다\"\n",
    "if answer10 == A:\n",
    "    print(\"정답입니다!!!!\")\n",
    "else:\n",
    "    raise ValueError(\"\\n정답  : \\n{}\\n현재값 : \\n{}\\n입니다.다시 수정해서 제출해주세요!\".format(A,answer10))\n"
   ]
  },
  {
   "cell_type": "markdown",
   "metadata": {},
   "source": [
    "## 문제 11. 시험 통과자들을 담고 있는 List 만들기\n",
    "\n",
    "학생들의 이름과 시험점수를 담고 있는 딕셔너리 scores가 있습니다.\n",
    "```python\n",
    "scores = {'예지':90, '리아':25, '류진':67, '채령':45, '유나':80}\n",
    "```\n",
    "시험점수가 60점 이상인 경우에만 통과라고 할 때, 통과한 학생들의 이름을 `list`형태로 저장해주세요\n"
   ]
  },
  {
   "cell_type": "code",
   "execution_count": 27,
   "metadata": {
    "scrolled": true
   },
   "outputs": [],
   "source": [
    "# 우선 실행해주세요!\n",
    "scores = {'예지':90, '리아':25, '류진':67, '채령':45, '유나':80}"
   ]
  },
  {
   "cell_type": "markdown",
   "metadata": {},
   "source": [
    "#### 답안지 입력란\n",
    "* 아래에 답을 서술하여 주세요\n",
    "* 결과값은 `answer11`에 담아주세요"
   ]
  },
  {
   "cell_type": "code",
   "execution_count": 28,
   "metadata": {
    "scrolled": true
   },
   "outputs": [],
   "source": [
    "passed_list=[]\n",
    "for key, value in scores.items():\n",
    "    if value < 60:\n",
    "        continue \n",
    "    passed_list.append(key)\n",
    "answer11 = passed_list"
   ]
  },
  {
   "cell_type": "markdown",
   "metadata": {},
   "source": [
    "#### 정답 확인\n",
    "* 정답을 입력한 후, 아래를 실행시키면 정답인지 확인합니다."
   ]
  },
  {
   "cell_type": "code",
   "execution_count": 29,
   "metadata": {
    "scrolled": true
   },
   "outputs": [
    {
     "name": "stdout",
     "output_type": "stream",
     "text": [
      "정답입니다!!!!\n"
     ]
    }
   ],
   "source": [
    "assert 'answer11' in globals(), \"결과를 answer11이라는 변수에 담아주세요!, answer11의 값을 보고 평가합니다.\"\n",
    "\n",
    "A = ['예지', '류진', '유나']\n",
    "\n",
    "assert str(type(answer11)) == \"<class 'list'>\", \"결과값들을 'list'형식으로 담아주세요\"\n",
    "assert len(A) == len(answer11), \"갯수가 맞지 않습니다\"\n",
    "\n",
    "if sorted(answer11) == sorted(A):\n",
    "    print(\"정답입니다!!!!\")\n",
    "else:\n",
    "    raise ValueError(\"\\n정답  : \\n{}\\n현재값 : \\n{}\\n입니다.다시 수정해서 제출해주세요!\".format(A,answer11))\n"
   ]
  },
  {
   "cell_type": "markdown",
   "metadata": {},
   "source": [
    "## 문제 12. 신규회원의 정보를 담고 있는 Dictionary 만들기\n",
    "\n",
    "한 헬스장의 신규 회원들의 리스트는 다음과 같습니다\n",
    "```python\n",
    "members = ['ironman', 'spiderman', 'thor', 'hulk', 'groot']\n",
    "```\n",
    "회원들의 정보를 딕셔너리 형태로 보관하고자 합니다. members의 인덱스를 key로, members의 name을 value로 갖는 딕셔너리를 만들어주세요\n",
    "* 조건 : dictionary의 첫번째 key값은 `1`이 되도록 해주세요!"
   ]
  },
  {
   "cell_type": "code",
   "execution_count": 30,
   "metadata": {},
   "outputs": [],
   "source": [
    "# 우선 실행해주세요!\n",
    "members = ['ironman', 'spiderman', 'thor', 'hulk', 'groot']"
   ]
  },
  {
   "cell_type": "markdown",
   "metadata": {},
   "source": [
    "#### 답안지 입력란\n",
    "* 아래에 답을 서술하여 주세요\n",
    "* 결과값은 `answer12`에 담아주세요"
   ]
  },
  {
   "cell_type": "code",
   "execution_count": 31,
   "metadata": {},
   "outputs": [],
   "source": [
    "members_dict = {}\n",
    "for idx, name in enumerate(members, 1):\n",
    "    members_dict[idx] = name\n",
    "answer12 = members_dict"
   ]
  },
  {
   "cell_type": "markdown",
   "metadata": {},
   "source": [
    "#### 정답 확인\n",
    "* 정답을 입력한 후, 아래를 실행시키면 정답인지 확인합니다."
   ]
  },
  {
   "cell_type": "code",
   "execution_count": 32,
   "metadata": {},
   "outputs": [
    {
     "name": "stdout",
     "output_type": "stream",
     "text": [
      "정답입니다!!!\n"
     ]
    }
   ],
   "source": [
    "assert 'answer12' in globals(), \"결과를 answer12라는 변수에 담아주세요!, answer12의 값을 보고 평가합니다.\"\n",
    "\n",
    "A = {1: 'ironman', 2: 'spiderman', 3: 'thor', 4: 'hulk', 5: 'groot'}\n",
    "assert set(answer12.keys())== set(A.keys()), '''\n",
    "제출한 키가 정답과 다릅니다.\n",
    "정답  : {}\n",
    "현재값 : {}\n",
    "조건을 다시 확인해주세요!\n",
    "'''.format(set(A.keys()), set(answer12.keys()))\n",
    "\n",
    "for idx, name in A.items():\n",
    "    _name = answer12[idx]\n",
    "    if set(name) != set(_name):\n",
    "        raise ValueError(\n",
    "'''\n",
    "키 {}에 담긴 회원의 이름이 틀립니다.\n",
    "정답  : {}\n",
    "현재값 : {}\n",
    "입니다. 확인해주세요\n",
    "'''.format(idx, name, _name))\n",
    "    \n",
    "else:\n",
    "    print(\"정답입니다!!!\")\n"
   ]
  },
  {
   "cell_type": "markdown",
   "metadata": {},
   "source": [
    "#  \n",
    "\n",
    "\n",
    "<hr>\n",
    "\n",
    "Copyright(c) 2019 by Public AI. All rights reserved.<br>\n",
    "Writen by PAI, DoYeong Kim ( ka2k@publicai.co.kr )  last updated on 2019/07/12\n",
    "<hr>"
   ]
  }
 ],
 "metadata": {
  "kernelspec": {
   "display_name": "Python 3",
   "language": "python",
   "name": "python3"
  },
  "language_info": {
   "codemirror_mode": {
    "name": "ipython",
    "version": 3
   },
   "file_extension": ".py",
   "mimetype": "text/x-python",
   "name": "python",
   "nbconvert_exporter": "python",
   "pygments_lexer": "ipython3",
   "version": "3.7.3"
  }
 },
 "nbformat": 4,
 "nbformat_minor": 2
}
