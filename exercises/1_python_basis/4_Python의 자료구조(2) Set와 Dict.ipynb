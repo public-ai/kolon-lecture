{
 "cells": [
  {
   "cell_type": "markdown",
   "metadata": {},
   "source": [
    "# Python의 자료구조(2) Set와 Dict\n",
    "\n",
    "* 파이썬에서는 기본 변수이외에도 List, Tuple, Set, Dictionary 와 같은 다양한 자료구조를 지원합니다. 이번 시간에는 그 중 순서가 따로 정해지지 않은 자료형인 Set와 Dict에 대해 다루어 보도록 하겠습니다.\n"
   ]
  },
  {
   "cell_type": "markdown",
   "metadata": {},
   "source": [
    "## 문제 1. Dictionary의 또다른 의미\n",
    "\n",
    "우리는 지금까지 변수를 생성하고 생성한 변수에 값을 할당을 해왔습니다.\n",
    "\n",
    "우리가 생성한 변수와 그 값들은 어떤식으로 저장이 될까요?\n",
    "\n",
    "바로 변수를 key로, 값을 value로 갖는 `globals()`라는 딕셔너리형태로 저장이 됩니다."
   ]
  },
  {
   "cell_type": "markdown",
   "metadata": {},
   "source": [
    "* 간단하게 변수를 생성하고 값을 할당한 뒤, `globals()`를 통해 어떤식으로 저장되는지 확인해보세요"
   ]
  },
  {
   "cell_type": "code",
   "execution_count": null,
   "metadata": {},
   "outputs": [],
   "source": [
    "# 변수를 생성하고 값을 할당해주세요\n",
    "x = 3"
   ]
  },
  {
   "cell_type": "code",
   "execution_count": null,
   "metadata": {},
   "outputs": [],
   "source": [
    "# globals()에 어떤식으로 저장되는지 확인해 봅시다\n",
    "globals()"
   ]
  },
  {
   "cell_type": "markdown",
   "metadata": {},
   "source": [
    "#### 예제) AOA 팀 멤버 분석\n",
    "\n",
    "AOA은 크게 3개의 유닛이 있고, 탈퇴한 사람들이 존재하다. 그 정보는 아래와 같다. \n",
    "\n",
    "| 유닛  | 멤버 |\n",
    "| ---- |---- |\n",
    "| 블랙  | 지민, 유나, 유경, 초아 |\n",
    "| 화이트 | 설현, 혜정, 찬미 |\n",
    "| 크림 | 유나, 혜정, 찬미 |\n",
    "| 탈퇴 | 유경, 초아 |"
   ]
  },
  {
   "cell_type": "markdown",
   "metadata": {},
   "source": [
    "## 문제 2. Set의 크기 세기\n",
    "\n",
    "* 유닛 `화이트`의 멤버 수를 세어주세요"
   ]
  },
  {
   "cell_type": "code",
   "execution_count": null,
   "metadata": {},
   "outputs": [],
   "source": [
    "# 우선 실행해주세요\n",
    "white = {\"설현\",\"혜정\", \"찬미\"}"
   ]
  },
  {
   "cell_type": "markdown",
   "metadata": {},
   "source": [
    "#### 답안지 입력란\n",
    "* 아래에 답을 서술하여 주세요\n",
    "* 결과값은 `answer2`에 담아주세요"
   ]
  },
  {
   "cell_type": "code",
   "execution_count": null,
   "metadata": {},
   "outputs": [],
   "source": [
    "##########\n",
    "# CODE HERE\n",
    "##########"
   ]
  },
  {
   "cell_type": "markdown",
   "metadata": {},
   "source": [
    "#### 정답 확인\n",
    "* 정답을 입력한 후, 아래를 실행시키면 정답인지 확인합니다."
   ]
  },
  {
   "cell_type": "code",
   "execution_count": null,
   "metadata": {
    "scrolled": true
   },
   "outputs": [],
   "source": [
    "assert 'answer2' in globals(), \"결과를 answer2라는 변수에 담아주세요!, answer2의 값을 보고 평가합니다.\"\n",
    "\n",
    "if (answer2 == 3):\n",
    "    print(\"정답입니다!!!!\")\n",
    "else:\n",
    "    raise ValueError(\"결과는 3이 나와야합니다. 다시 확인해주세요!\")"
   ]
  },
  {
   "cell_type": "markdown",
   "metadata": {},
   "source": [
    "## 문제 3. Set에 값 추가하기\n",
    "\n",
    "* 유닛 `화이트`에 `유나`와 `지민`을 추가해주세요 "
   ]
  },
  {
   "cell_type": "code",
   "execution_count": null,
   "metadata": {},
   "outputs": [],
   "source": [
    "# 우선 실행해주세요\n",
    "white = {\"설현\",\"혜정\", \"찬미\"}"
   ]
  },
  {
   "cell_type": "markdown",
   "metadata": {},
   "source": [
    "#### 답안지 입력란\n",
    "* 아래에 답을 서술하여 주세요\n",
    "* 결과값은 `answer3`에 담아주세요"
   ]
  },
  {
   "cell_type": "code",
   "execution_count": null,
   "metadata": {},
   "outputs": [],
   "source": [
    "##########\n",
    "# CODE HERE\n",
    "##########"
   ]
  },
  {
   "cell_type": "markdown",
   "metadata": {},
   "source": [
    "#### 정답 확인\n",
    "* 정답을 입력한 후, 아래를 실행시키면 정답인지 확인합니다."
   ]
  },
  {
   "cell_type": "code",
   "execution_count": null,
   "metadata": {},
   "outputs": [],
   "source": [
    "assert 'answer3' in globals(), \"결과를 answer3이라는 변수에 담아주세요!, answer3의 값을 보고 평가합니다.\"\n",
    "\n",
    "A = {'설현', '유나', '지민', '찬미', '혜정'}\n",
    "if (answer3 == A):\n",
    "    print(\"정답입니다!!!!\")\n",
    "else:\n",
    "    raise ValueError(\n",
    "'''\n",
    "정답  : {}\n",
    "현재값 : {}\n",
    "입니다. 확인해주세요\n",
    "'''.format(A, answer3))"
   ]
  },
  {
   "cell_type": "markdown",
   "metadata": {},
   "source": [
    "## 문제 4. 두 Set의 교집합 구하기\n",
    "\n",
    "* 유닛 `화이트`와 `크림`에 같이 있는 멤버들 집합을 구해주세요"
   ]
  },
  {
   "cell_type": "code",
   "execution_count": null,
   "metadata": {},
   "outputs": [],
   "source": [
    "# 우선 실행해주세요\n",
    "white = {\"혜정\", \"찬미\", \"설현\"}\n",
    "cream = {\"유나\", \"혜정\", \"찬미\"}"
   ]
  },
  {
   "cell_type": "markdown",
   "metadata": {},
   "source": [
    "#### 답안지 입력란\n",
    "* 아래에 답을 서술하여 주세요\n",
    "* 결과값은 `answer4`에 담아주세요"
   ]
  },
  {
   "cell_type": "code",
   "execution_count": null,
   "metadata": {},
   "outputs": [],
   "source": [
    "##########\n",
    "# CODE HERE\n",
    "##########"
   ]
  },
  {
   "cell_type": "markdown",
   "metadata": {},
   "source": [
    "#### 정답 확인\n",
    "* 정답을 입력한 후, 아래를 실행시키면 정답인지 확인합니다."
   ]
  },
  {
   "cell_type": "code",
   "execution_count": null,
   "metadata": {},
   "outputs": [],
   "source": [
    "assert 'answer4' in globals(), \"결과를 answer4라는 변수에 담아주세요!, answer4의 값을 보고 평가합니다.\"\n",
    "\n",
    "A = {'찬미', '혜정'}\n",
    "if (answer4 == A):\n",
    "    print(\"정답입니다!!!!\")\n",
    "else:\n",
    "    raise ValueError(\n",
    "'''\n",
    "정답  : {}\n",
    "현재값 : {}\n",
    "입니다. 확인해주세요\n",
    "'''.format(A, answer4))\n",
    "    "
   ]
  },
  {
   "cell_type": "markdown",
   "metadata": {},
   "source": [
    "## 문제 5. 두 Set의 합집합 구하기\n",
    "\n",
    "* AOA 모든 멤버들의 집합을 구해주세요"
   ]
  },
  {
   "cell_type": "code",
   "execution_count": null,
   "metadata": {},
   "outputs": [],
   "source": [
    "# 우선 실행해주세요\n",
    "black = {\"지민\", \"유나\", \"유경\", \"초아\"}\n",
    "white = {\"설현\",\"혜정\", \"찬미\"}\n",
    "cream = {\"유나\", \"혜정\", \"찬미\"}"
   ]
  },
  {
   "cell_type": "markdown",
   "metadata": {},
   "source": [
    "#### 답안지 입력란\n",
    "* 아래에 답을 서술하여 주세요\n",
    "* 결과값은 `answer5`에 담아주세요"
   ]
  },
  {
   "cell_type": "code",
   "execution_count": null,
   "metadata": {},
   "outputs": [],
   "source": [
    "##########\n",
    "# CODE HERE\n",
    "##########"
   ]
  },
  {
   "cell_type": "markdown",
   "metadata": {},
   "source": [
    "#### 정답 확인\n",
    "* 정답을 입력한 후, 아래를 실행시키면 정답인지 확인합니다."
   ]
  },
  {
   "cell_type": "code",
   "execution_count": null,
   "metadata": {},
   "outputs": [],
   "source": [
    "assert 'answer5' in globals(), \"결과를 answer5라는 변수에 담아주세요!, answer5의 값을 보고 평가합니다.\"\n",
    "\n",
    "A = {'찬미', '설현', '지민', '유경', '초아', '유나', '혜정'}\n",
    "if (answer5 == A):\n",
    "    print(\"정답입니다!!!!\")\n",
    "else:\n",
    "    raise ValueError(\n",
    "'''\n",
    "정답  : {}\n",
    "현재값 : {}\n",
    "입니다. 확인해주세요\n",
    "'''.format(A, answer5))\n",
    "    "
   ]
  },
  {
   "cell_type": "markdown",
   "metadata": {},
   "source": [
    "## 문제 6. Dictionary 만들기(1)\n",
    "\n",
    "* AOA 유닛의 이름이 Key, AOA 유닛의 멤버들의 리스트가 Value로 들어가는 dictionary를 만들어주세요\n",
    "\n",
    "|key | value |\n",
    "|---|---|\n",
    "| 블랙 | '지민', '유나', '유경', '초아' |\n",
    "| 화이트 | '설현', '혜정', '찬미' |\n",
    "| 크림 | '유나', '혜정', '찬미'"
   ]
  },
  {
   "cell_type": "markdown",
   "metadata": {},
   "source": [
    "#### 답안지 입력란\n",
    "* 아래에 답을 서술하여 주세요\n",
    "* 결과값은 `answer6`에 담아주세요"
   ]
  },
  {
   "cell_type": "code",
   "execution_count": null,
   "metadata": {},
   "outputs": [],
   "source": [
    "##########\n",
    "# CODE HERE\n",
    "##########"
   ]
  },
  {
   "cell_type": "markdown",
   "metadata": {},
   "source": [
    "#### 정답 확인\n",
    "* 정답을 입력한 후, 아래를 실행시키면 정답인지 확인합니다."
   ]
  },
  {
   "cell_type": "code",
   "execution_count": null,
   "metadata": {},
   "outputs": [],
   "source": [
    "assert 'answer6' in globals(), \"결과를 answer6이라는 변수에 담아주세요!, answer6의 값을 보고 평가합니다.\"\n",
    "\n",
    "A = {\n",
    " '블랙': ['지민', '유나', '유경', '초아'],\n",
    " '화이트': ['설현', '혜정', '찬미'],\n",
    " '크림': ['유나', '혜정', '찬미']\n",
    "}\n",
    "\n",
    "assert set(answer6.keys())== set(A.keys()), '''\n",
    "제출한 키가 정답과 다릅니다.\n",
    "정답  : {}\n",
    "현재값 : {}\n",
    "확인해주세요!\n",
    "'''.format(set(A.keys()), set(answer6.keys()))\n",
    "\n",
    "\n",
    "for unit_name, members in A.items():\n",
    "    _members = answer6[unit_name]\n",
    "    if set(members) != set(_members):\n",
    "        raise ValueError(\n",
    "'''\n",
    "키 {}에 담긴 멤버들의 이름이 틀립니다.\n",
    "정답  : {}\n",
    "현재값 : {}\n",
    "입니다. 확인해주세요\n",
    "'''.format(unit_name, members, _members))\n",
    "    \n",
    "else:\n",
    "    print(\"정답입니다!!!\")\n"
   ]
  },
  {
   "cell_type": "markdown",
   "metadata": {},
   "source": [
    "## 문제 7. Dictionary에서 값 가져오기\n",
    "\n",
    "* AOA의 멤버정보가 들어간 dictionary에서 블랙 멤버 중 0번째, 1번째 멤버들의 이름을 가져와주세요"
   ]
  },
  {
   "cell_type": "code",
   "execution_count": null,
   "metadata": {},
   "outputs": [],
   "source": [
    "# 우선 실행해주세요\n",
    "aoa = {\n",
    " '블랙': ['지민', '유나', '유경', '초아'],\n",
    " '화이트': ['설현', '혜정', '찬미'],\n",
    " '크림': ['유나', '혜정', '찬미']\n",
    "}"
   ]
  },
  {
   "cell_type": "markdown",
   "metadata": {},
   "source": [
    "#### 답안지 입력란\n",
    "* 아래에 답을 서술하여 주세요\n",
    "* 결과값은 `answer7`에 담아주세요"
   ]
  },
  {
   "cell_type": "code",
   "execution_count": null,
   "metadata": {},
   "outputs": [],
   "source": [
    "##########\n",
    "# CODE HERE\n",
    "##########"
   ]
  },
  {
   "cell_type": "markdown",
   "metadata": {},
   "source": [
    "#### 정답 확인\n",
    "* 정답을 입력한 후, 아래를 실행시키면 정답인지 확인합니다."
   ]
  },
  {
   "cell_type": "code",
   "execution_count": null,
   "metadata": {},
   "outputs": [],
   "source": [
    "assert 'answer7' in globals(), \"결과를 answer7이라는 변수에 담아주세요!, answer7의 값을 보고 평가합니다.\"\n",
    "\n",
    "A = [\"지민\", \"유나\"]\n",
    "\n",
    "assert len(A) == len(answer7), '''\n",
    "멤버 수가 다릅니다.\n",
    "정답  : {}\n",
    "현재값 : {}\n",
    "입니다. 확인해 주세요.\n",
    "'''.format(A, answer7)\n",
    "\n",
    "for member, _member in zip(A,answer7):\n",
    "    if member != _member:\n",
    "        raise ValueError(\n",
    "'''\n",
    "멤버들의 순서 혹은 이름이 다릅니다.\n",
    "정답  : {}\n",
    "현재값 : {}\n",
    "입니다. 확인해주세요\n",
    "'''.format(A,answer7)) \n",
    "else:\n",
    "    print(\"정답입니다!!!\")\n"
   ]
  },
  {
   "cell_type": "markdown",
   "metadata": {},
   "source": [
    "## 문제 8. Dictionary 값 추가하기\n",
    "\n",
    "* AOA의 멤버정보가 들어간 dictionary에 `골드`라는 유닛 이름으로, `['설현','지민']`을 추가해주세요."
   ]
  },
  {
   "cell_type": "code",
   "execution_count": null,
   "metadata": {},
   "outputs": [],
   "source": [
    "# 우선 실행해주세요\n",
    "aoa = {\n",
    " '블랙': ['지민', '유나', '유경', '초아'],\n",
    " '화이트': ['설현', '혜정', '찬미'],\n",
    " '크림': ['유나', '혜정', '찬미']\n",
    "}"
   ]
  },
  {
   "cell_type": "markdown",
   "metadata": {},
   "source": [
    "#### 답안지 입력란\n",
    "* 아래에 답을 서술하여 주세요\n",
    "* 결과값은 `aoa`에 담아주세요"
   ]
  },
  {
   "cell_type": "code",
   "execution_count": null,
   "metadata": {},
   "outputs": [],
   "source": [
    "##########\n",
    "# CODE HERE\n",
    "##########"
   ]
  },
  {
   "cell_type": "markdown",
   "metadata": {},
   "source": [
    "#### 정답 확인\n",
    "* 정답을 입력한 후, 아래를 실행시키면 정답인지 확인합니다."
   ]
  },
  {
   "cell_type": "code",
   "execution_count": null,
   "metadata": {
    "scrolled": false
   },
   "outputs": [],
   "source": [
    "assert 'aoa' in globals(), \"결과를 aoa라는 변수에 담아주세요!, aoa 값을 보고 평가합니다.\"\n",
    "\n",
    "A = {'블랙': ['지민', '유나', '유경', '초아'],\n",
    " '화이트': ['설현', '혜정', '찬미'],\n",
    " '크림': ['유나', '혜정', '찬미'],\n",
    " '골드': ['설현', '지민']}\n",
    "\n",
    "assert '골드' in aoa, \"aoa에 골드라는 이름으로 키값을 추가시켜 주세요\"\n",
    "\n",
    "assert set(aoa['골드']) == set(A['골드']), '''\n",
    "골드의 멤버 이름이 다릅니다.\n",
    "정답  : {},\n",
    "현재값 : {}\n",
    "다시 한번 확인해주세요\n",
    "'''.format(A['골드'], aoa[\"골드\"])\n",
    "\n",
    "print(\"정답입니다!!!\")"
   ]
  },
  {
   "cell_type": "markdown",
   "metadata": {},
   "source": [
    "## 문제 9. Dictionary의 특정 원소 제거하기\n",
    "\n",
    "* AOA의 멤버정보가 들어간 dictionary에서 탈퇴한 멤버인 `유경`과 `지민`을 제거해주세요."
   ]
  },
  {
   "cell_type": "code",
   "execution_count": null,
   "metadata": {},
   "outputs": [],
   "source": [
    "# 우선 실행해주세요\n",
    "aoa = {\n",
    " '블랙': ['지민', '유나', '유경', '초아'],\n",
    " '화이트': ['설현', '혜정', '찬미'],\n",
    " '크림': ['유나', '혜정', '찬미']\n",
    "}"
   ]
  },
  {
   "cell_type": "markdown",
   "metadata": {},
   "source": [
    "#### 답안지 입력란\n",
    "* 아래에 답을 서술하여 주세요\n",
    "* 결과값은 `answer9`에 담아주세요"
   ]
  },
  {
   "cell_type": "code",
   "execution_count": null,
   "metadata": {},
   "outputs": [],
   "source": [
    "##########\n",
    "# CODE HERE\n",
    "##########"
   ]
  },
  {
   "cell_type": "markdown",
   "metadata": {},
   "source": [
    "#### 정답 확인\n",
    "* 정답을 입력한 후, 아래를 실행시키면 정답인지 확인합니다."
   ]
  },
  {
   "cell_type": "code",
   "execution_count": null,
   "metadata": {
    "scrolled": true
   },
   "outputs": [],
   "source": [
    "assert 'answer9' in globals(), \"결과를 answer9라는 변수에 담아주세요!, answer9의 값을 보고 평가합니다.\"\n",
    "\n",
    "A = {\n",
    " '블랙': ['지민', '유나'],\n",
    " '화이트': ['설현', '혜정', '찬미'],\n",
    " '크림': ['유나', '혜정', '찬미']\n",
    "}\n",
    "\n",
    "assert set(answer9.keys())== set(A.keys()), '''\n",
    "제출한 키가 정답과 다릅니다.\n",
    "정답  : {}\n",
    "현재값 : {}\n",
    "확인해주세요!\n",
    "'''.format(set(A.keys()), set(answer9.keys()))\n",
    "\n",
    "\n",
    "for unit_name, members in A.items():\n",
    "    _members = answer9[unit_name]\n",
    "    if set(members) != set(_members):\n",
    "        raise ValueError(\n",
    "'''\n",
    "키 {}에 담긴 멤버들의 이름이 틀립니다.\n",
    "정답  : {}\n",
    "현재값 : {}\n",
    "입니다. 확인해주세요\n",
    "'''.format(unit_name, members, _members))\n",
    "    \n",
    "else:\n",
    "    print(\"정답입니다!!!\")\n"
   ]
  },
  {
   "cell_type": "markdown",
   "metadata": {},
   "source": [
    "## 문제 10. Dictionary에서 값 얻기\n",
    "\n",
    "다음은 AOA 각 유닛의 활동 주차 별 음원점수 입니다.\n",
    "\n",
    "| 유닛  | 1주차 | 2주차 | 3주차 | 4주차 |\n",
    "| ---- |---- |---- |---- |---- |\n",
    "| 블랙  | 83 | 84 | 75 | 72 |\n",
    "| 화이트 | 82 | 86 | 88 | 90 |\n",
    "| 크림 | 68 | 69 | 82 | 93 | \n",
    "\n",
    "* 유닛 `블랙` 의 평균 음원점수를 계산해 보세요\n",
    "\n",
    "* 참고 : python에서의 총 합은 sum(x) 함수를 통해 구할 수 있습니다.\n",
    "\n",
    "````python\n",
    "_list = [1, 2, 3, 4]\n",
    "sum(_list) # >>> 10\n",
    "````"
   ]
  },
  {
   "cell_type": "code",
   "execution_count": null,
   "metadata": {},
   "outputs": [],
   "source": [
    "# 우선 실행해주세요\n",
    "aoa = {\n",
    " '블랙': [83, 84, 75, 72],\n",
    " '화이트': [82, 86, 88, 90],\n",
    " '크림': [68, 69, 82, 93]\n",
    "}"
   ]
  },
  {
   "cell_type": "markdown",
   "metadata": {},
   "source": [
    "#### 답안지 입력란\n",
    "* 아래에 답을 서술하여 주세요\n",
    "* 결과값은 `answer10`에 담아주세요"
   ]
  },
  {
   "cell_type": "code",
   "execution_count": null,
   "metadata": {},
   "outputs": [],
   "source": [
    "##########\n",
    "# CODE HERE\n",
    "##########"
   ]
  },
  {
   "cell_type": "markdown",
   "metadata": {},
   "source": [
    "#### 정답 확인\n",
    "* 정답을 입력한 후, 아래를 실행시키면 정답인지 확인합니다."
   ]
  },
  {
   "cell_type": "code",
   "execution_count": null,
   "metadata": {
    "scrolled": true
   },
   "outputs": [],
   "source": [
    "assert 'answer10' in globals(), \"결과를 answer10이라는 변수에 담아주세요!, answer10의 값을 보고 평가합니다.\"\n",
    "\n",
    "\n",
    "if answer10 == 78.5:\n",
    "    print(\"정답입니다!!!!\")\n",
    "else:\n",
    "    raise ValueError(\"결과는 78.5가 나와야 합니다, 파이썬 수식에서 오류가 있는지 확인해주세요\")"
   ]
  },
  {
   "cell_type": "markdown",
   "metadata": {},
   "source": [
    "## 문제 11. Dictionary의 연산자 및 함수\n",
    "\n",
    "* AOA 각 유닛의 음원점수 총합의 평균을 계산해 보세요"
   ]
  },
  {
   "cell_type": "code",
   "execution_count": null,
   "metadata": {},
   "outputs": [],
   "source": [
    "# 우선 실행해주세요\n",
    "aoa = {\n",
    " '블랙': [83, 84, 75, 72],\n",
    " '화이트': [82, 86, 88, 90],\n",
    " '크림': [68, 69, 82, 93]\n",
    "}"
   ]
  },
  {
   "cell_type": "markdown",
   "metadata": {},
   "source": [
    "#### 답안지 입력란\n",
    "* 아래에 답을 서술하여 주세요\n",
    "* 결과값은 `answer11`에 담아주세요"
   ]
  },
  {
   "cell_type": "code",
   "execution_count": null,
   "metadata": {},
   "outputs": [],
   "source": [
    "##########\n",
    "# CODE HERE\n",
    "##########"
   ]
  },
  {
   "cell_type": "markdown",
   "metadata": {},
   "source": [
    "#### 정답 확인\n",
    "* 정답을 입력한 후, 아래를 실행시키면 정답인지 확인합니다."
   ]
  },
  {
   "cell_type": "code",
   "execution_count": null,
   "metadata": {},
   "outputs": [],
   "source": [
    "assert 'answer11' in globals(), \"결과를 answer11이라는 변수에 담아주세요!, answer11의 값을 보고 평가합니다.\"\n",
    "\n",
    "\n",
    "if answer11 == 324.0:\n",
    "    print(\"정답입니다!!!!\")\n",
    "else:\n",
    "    raise ValueError(\"결과는 324.0가 나와야 합니다, 유닛 별 점수 평균의 평균이 아닌 유닛 별 점수 총합의 평균임을 잊지마세요!\")"
   ]
  },
  {
   "cell_type": "markdown",
   "metadata": {},
   "source": [
    "## 문제 12. Dictionary 생성하기(2)\n",
    "\n",
    "여기 lol 이라는 게임 내의 캐릭터이름, 정보, 캐릭터별 능력치 를 담고 있는 리스트들이 있습니다.\n",
    "\n",
    "`이름 = ['이즈리얼', '엘리스', '그라가스', '렉사이']`\n",
    "\n",
    "`정보 = ['체력', '공격력', '방어력', '이동속도']`\n",
    "\n",
    "`이즈리얼 = [491, 60, 22, 325]`\n",
    "\n",
    "`엘리스 = [534, 55, 27, 330]`\n",
    "\n",
    "`그라가스 = [600, 65, 35, 335]`\n",
    "\n",
    "`렉사이 = [570, 64, 33, 340]`\n",
    "\n",
    "이름에 따른 정보와 능력치를 이중 딕셔너리 형태로 정렬해주세요\n",
    "\n",
    "예시) \n",
    "````python\n",
    "{'이즈리얼': {'체력': 491, '공격력': 60, '방어력': 22, '이동속도': 325},\n",
    " '엘리스': {'체력': 534, '공격력': 55, '방어력': 27, '이동속도': 330}}\n",
    "````\n",
    "\n",
    "* 힌트 : 정보를 key로 하고 캐릭터별 능력치를 value로 하는 dictionary를 먼저 만든 후 진행해 보세요"
   ]
  },
  {
   "cell_type": "code",
   "execution_count": null,
   "metadata": {},
   "outputs": [],
   "source": [
    "# 우선 실행해주세요\n",
    "이름 = ['이즈리얼', '엘리스', '그라가스', '렉사이']\n",
    "상태 = ['체력', '공격력', '방어력', '이동속도']\n",
    "이즈리얼 = [491, 60, 22, 325]\n",
    "엘리스 = [534, 55, 27, 330]\n",
    "그라가스 = [600, 65, 35, 335]\n",
    "렉사이 = [570, 64, 33, 340]"
   ]
  },
  {
   "cell_type": "markdown",
   "metadata": {},
   "source": [
    "#### 답안지 입력란\n",
    "* 아래에 답을 서술하여 주세요\n",
    "* 결과값은 `answer12`에 담아주세요"
   ]
  },
  {
   "cell_type": "code",
   "execution_count": null,
   "metadata": {},
   "outputs": [],
   "source": [
    "##########\n",
    "# CODE HERE\n",
    "##########"
   ]
  },
  {
   "cell_type": "markdown",
   "metadata": {},
   "source": [
    "#### 정답 확인\n",
    "* 정답을 입력한 후, 아래를 실행시키면 정답인지 확인합니다."
   ]
  },
  {
   "cell_type": "code",
   "execution_count": null,
   "metadata": {
    "scrolled": true
   },
   "outputs": [],
   "source": [
    "assert 'answer12' in globals(), \"결과를 answer12라는 변수에 담아주세요!, answer12의 값을 보고 평가합니다.\"\n",
    "\n",
    "A = {'이즈리얼': {'체력': 491, '공격력': 60, '방어력': 22, '이동속도': 325},\n",
    " '엘리스': {'체력': 534, '공격력': 55, '방어력': 27, '이동속도': 330},\n",
    " '그라가스': {'체력': 600, '공격력': 65, '방어력': 35, '이동속도': 335},\n",
    " '렉사이': {'체력': 570, '공격력': 64, '방어력': 33, '이동속도': 340}}\n",
    "\n",
    "assert len(set(answer12) ^ set(A)) == 0, '''\n",
    "제출한 키가 정답과 다릅니다.\n",
    "정답  : {}\n",
    "현재값 : {}\n",
    "확인해주세요!\n",
    "'''.format(set(A.keys()), set(answer12.keys()))\n",
    "\n",
    "value_list = []\n",
    "_value_list = []\n",
    "for name, status in A.items():\n",
    "    _status = answer12[name]\n",
    "    if len(set(status) ^ set(_status)) > 0:\n",
    "        raise ValueError(\n",
    "'''\n",
    "키 {}에 담긴 정보가 틀립니다.\n",
    "정답  : {}\n",
    "현재값 : {}\n",
    "입니다. 확인해주세요\n",
    "'''.format(name, status, _status))\n",
    "    else:\n",
    "        for status_name, value in status.items():\n",
    "            value_list.append(value)\n",
    "        for _status_name, _value in _status.items():\n",
    "            _value_list.append(_value)\n",
    "        if sorted(value_list) != sorted(_value_list):\n",
    "            raise ValueError('키에 담긴 캐릭터별 능력치의 값이 틀립니다. 파이썬 코드를 다시 확인해주세요')\n",
    "\n",
    "else:\n",
    "    print(\"정답입니다!!!\")\n"
   ]
  },
  {
   "cell_type": "markdown",
   "metadata": {},
   "source": [
    "#  \n",
    "\n",
    "\n",
    "<hr>\n",
    "\n",
    "Copyright(c) 2019 by Public AI. All rights reserved.<br>\n",
    "Writen by PAI, DoYeong Kim ( ka2k@publicai.co.kr )  last updated on 2019/07/12\n",
    "<hr>"
   ]
  }
 ],
 "metadata": {
  "kernelspec": {
   "display_name": "Python 3",
   "language": "python",
   "name": "python3"
  },
  "language_info": {
   "codemirror_mode": {
    "name": "ipython",
    "version": 3
   },
   "file_extension": ".py",
   "mimetype": "text/x-python",
   "name": "python",
   "nbconvert_exporter": "python",
   "pygments_lexer": "ipython3",
   "version": "3.6.6"
  },
  "toc": {
   "base_numbering": 1,
   "nav_menu": {},
   "number_sections": false,
   "sideBar": true,
   "skip_h1_title": false,
   "title_cell": "Table of Contents",
   "title_sidebar": "Contents",
   "toc_cell": false,
   "toc_position": {},
   "toc_section_display": true,
   "toc_window_display": false
  },
  "varInspector": {
   "cols": {
    "lenName": 16,
    "lenType": 16,
    "lenVar": 40
   },
   "kernels_config": {
    "python": {
     "delete_cmd_postfix": "",
     "delete_cmd_prefix": "del ",
     "library": "var_list.py",
     "varRefreshCmd": "print(var_dic_list())"
    },
    "r": {
     "delete_cmd_postfix": ") ",
     "delete_cmd_prefix": "rm(",
     "library": "var_list.r",
     "varRefreshCmd": "cat(var_dic_list()) "
    }
   },
   "types_to_exclude": [
    "module",
    "function",
    "builtin_function_or_method",
    "instance",
    "_Feature"
   ],
   "window_display": false
  }
 },
 "nbformat": 4,
 "nbformat_minor": 2
}
