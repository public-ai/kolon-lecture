{
 "cells": [
  {
   "cell_type": "markdown",
   "metadata": {},
   "source": [
    "## Numpy의 필요성\n",
    "\n",
    "## Objective\n",
    ">  **Numpy로 배열을 다루기 전에, 우선 List로 배열을 다루는 방법을 복습합니다.**"
   ]
  },
  {
   "cell_type": "markdown",
   "metadata": {},
   "source": [
    "#### table-1) 중간고사, 학생들의 국영수 성적표\n",
    "\n",
    "\n",
    "| 학생 번호 | 국어 | 영어 | 수학 | 사회 | 과학 |\n",
    "|  ----   | --- |---| --- | --- | --- |\n",
    "|0 |80 |92 |70 | 65 | 92 |\n",
    "|1 |91 |75 |90 | 68 | 85 | \n",
    "|2 |86 |76 |42 | 72 | 88 |\n",
    "|3 |77 |92 |52 | 60 | 80 |\n",
    "|4 |75 |85 |85 | 92 | 95 |\n",
    "|5 |96 |90 |95 | 81 | 72 |"
   ]
  },
  {
   "cell_type": "markdown",
   "metadata": {},
   "source": [
    "## 문제 1. 특정 원소 가져오기\n",
    "* 학생 번호 **2번의 사회 성적**을 가져와 주세요.\n",
    "\n",
    "정답 >>> \n",
    "```python\n",
    "72\n",
    "```"
   ]
  },
  {
   "cell_type": "code",
   "execution_count": 1,
   "metadata": {},
   "outputs": [],
   "source": [
    "# 우선 실행해주세요\n",
    "scores = [\n",
    "    [80,92,70,65,92],\n",
    "    [91,75,90,68,85],\n",
    "    [86,76,42,72,88],\n",
    "    [77,92,52,60,80],\n",
    "    [75,85,85,92,95],\n",
    "    [96,90,95,81,72]\n",
    "]"
   ]
  },
  {
   "cell_type": "markdown",
   "metadata": {},
   "source": [
    "#### 답안지 입력란\n",
    "* 아래에 답을 서술하여 주세요\n",
    "* 결과는 `answer1`에 담아주세요"
   ]
  },
  {
   "cell_type": "code",
   "execution_count": 2,
   "metadata": {},
   "outputs": [],
   "source": [
    "answer1 = scores[2][3]"
   ]
  },
  {
   "cell_type": "markdown",
   "metadata": {},
   "source": [
    "#### 정답 확인\n",
    "* 정답을 입력한 후, 아래를 실행시키면 정답인지 확인합니다."
   ]
  },
  {
   "cell_type": "code",
   "execution_count": 3,
   "metadata": {},
   "outputs": [
    {
     "name": "stdout",
     "output_type": "stream",
     "text": [
      "정답입니다!!!!\n"
     ]
    }
   ],
   "source": [
    "assert 'answer1' in globals(), \"결과를 answer1이라는 변수에 담아주세요!, answer1의 값을 보고 평가합니다.\"\n",
    "\n",
    "if (answer1 == 72):\n",
    "    print(\"정답입니다!!!!\")\n",
    "else:\n",
    "    raise ValueError(\"정답은 72가 나와야 합니다. 코드를 다시 확인해주세요!\")"
   ]
  },
  {
   "cell_type": "markdown",
   "metadata": {},
   "source": [
    "## 문제 2. 특정 부분 가져오기\n",
    "* 학생 번호 **2번부터 4번까지의 국영수 성적**을 가져와 주세요\n",
    "\n",
    "정답 >>> \n",
    "```python\n",
    "[[86, 76, 42], [77, 92, 52]]\n",
    "```"
   ]
  },
  {
   "cell_type": "code",
   "execution_count": 4,
   "metadata": {},
   "outputs": [],
   "source": [
    "# 우선 실행해주세요\n",
    "scores = [\n",
    "    [80,92,70,65,92],\n",
    "    [91,75,90,68,85],\n",
    "    [86,76,42,72,88],\n",
    "    [77,92,52,60,80],\n",
    "    [75,85,85,92,95],\n",
    "    [96,90,95,81,72]\n",
    "]"
   ]
  },
  {
   "cell_type": "markdown",
   "metadata": {},
   "source": [
    "#### 답안지 입력란\n",
    "* 아래에 답을 서술하여 주세요\n",
    "* 결과는 `answer2`에 담아주세요"
   ]
  },
  {
   "cell_type": "code",
   "execution_count": 5,
   "metadata": {},
   "outputs": [
    {
     "data": {
      "text/plain": [
       "[[86, 76, 42], [77, 92, 52]]"
      ]
     },
     "execution_count": 5,
     "metadata": {},
     "output_type": "execute_result"
    }
   ],
   "source": [
    "answer2 = []\n",
    "for student_score in scores[2:4] :\n",
    "    score = student_score[0:3]\n",
    "    answer2.append(score)\n",
    "answer2"
   ]
  },
  {
   "cell_type": "markdown",
   "metadata": {},
   "source": [
    "#### 정답 확인\n",
    "* 정답을 입력한 후, 아래를 실행시키면 정답인지 확인합니다."
   ]
  },
  {
   "cell_type": "code",
   "execution_count": 6,
   "metadata": {},
   "outputs": [
    {
     "name": "stdout",
     "output_type": "stream",
     "text": [
      "정답입니다!!!\n"
     ]
    }
   ],
   "source": [
    "from unittest import TestCase as tc\n",
    "\n",
    "assert 'answer2' in globals(), \"결과를 answer2라는 변수에 담아주세요!, answer2의 값을 보고 평가합니다.\"\n",
    "\n",
    "A = [[86, 76, 42], [77, 92, 52]]\n",
    "\n",
    "tc().assertListEqual(A,answer2,\"\\n\\n정답은 \\n{}\\n입니다. 코드를 다시 확인해주세요\".format(A))\n",
    "print(\"정답입니다!!!\")"
   ]
  },
  {
   "cell_type": "markdown",
   "metadata": {},
   "source": [
    "## 문제 3. 중간고사 과목별 평균 성적\n",
    "* 중간고사 과목 별(국영수사과)로 학생들의 평균 성적을 구해주세요\n",
    "\n",
    "정답 >>> \n",
    "```python\n",
    "[84.16666666666667, 85.0, 72.33333333333333, 73.0, 85.33333333333333]\n",
    "```"
   ]
  },
  {
   "cell_type": "code",
   "execution_count": 7,
   "metadata": {},
   "outputs": [],
   "source": [
    "# 우선 실행해주세요\n",
    "scores = [\n",
    "    [80,92,70,65,92],\n",
    "    [91,75,90,68,85],\n",
    "    [86,76,42,72,88],\n",
    "    [77,92,52,60,80],\n",
    "    [75,85,85,92,95],\n",
    "    [96,90,95,81,72]\n",
    "]"
   ]
  },
  {
   "cell_type": "markdown",
   "metadata": {},
   "source": [
    "#### 답안지 입력란\n",
    "* 아래에 답을 서술하여 주세요\n",
    "* 결과는 `answer3`에 담아주세요"
   ]
  },
  {
   "cell_type": "code",
   "execution_count": 8,
   "metadata": {},
   "outputs": [],
   "source": [
    "total_language_score = 0\n",
    "total_math_score = 0\n",
    "total_english_score = 0\n",
    "total_society_score = 0\n",
    "total_science_score = 0\n",
    "\n",
    "for score in scores:\n",
    "    total_language_score = total_language_score + score[0]\n",
    "    total_math_score = total_math_score + score[1]\n",
    "    total_english_score = total_english_score + score[2]\n",
    "    total_society_score = total_society_score + score[3]\n",
    "    total_science_score = total_science_score + score[4]\n",
    "\n",
    "avg_language_score = total_language_score / len(scores)\n",
    "avg_math_score = total_math_score / len(scores)\n",
    "avg_english_score = total_english_score / len(scores)\n",
    "avg_society_score = total_society_score / len(scores)\n",
    "avg_science_score = total_science_score / len(scores)\n",
    "\n",
    "answer3 = [avg_language_score, \n",
    "           avg_math_score,\n",
    "           avg_english_score,\n",
    "           avg_society_score,\n",
    "           avg_science_score]"
   ]
  },
  {
   "cell_type": "markdown",
   "metadata": {},
   "source": [
    "#### 정답 확인\n",
    "* 정답을 입력한 후, 아래를 실행시키면 정답인지 확인합니다."
   ]
  },
  {
   "cell_type": "code",
   "execution_count": 9,
   "metadata": {},
   "outputs": [
    {
     "name": "stdout",
     "output_type": "stream",
     "text": [
      "정답입니다!!!\n"
     ]
    }
   ],
   "source": [
    "from numpy.testing import assert_array_almost_equal\n",
    "\n",
    "assert 'answer3' in globals(), \"결과를 answer3이라는 변수에 담아주세요!, answer3의 값을 보고 평가합니다.\"\n",
    "\n",
    "A = [84.167, 85. , 72.333, 73. , 85.333]\n",
    "\n",
    "assert_array_almost_equal(A,answer3,decimal=2,\n",
    "                          err_msg=\"\\n\\n정답은 \\n{}\\n입니다. 코드를 다시 확인해주세요\".format(A))\n",
    "\n",
    "print(\"정답입니다!!!\")"
   ]
  },
  {
   "cell_type": "markdown",
   "metadata": {},
   "source": [
    "## 문제 4. 중간고사 과목별 최대 성적\n",
    "* 중간고사 과목 별(국영수사과)로 학생들의 최대 성적을 구해주세요\n",
    "\n",
    "정답 >>> \n",
    "```python\n",
    "[96, 92, 95, 92, 95]\n",
    "```"
   ]
  },
  {
   "cell_type": "code",
   "execution_count": 10,
   "metadata": {},
   "outputs": [],
   "source": [
    "# 우선 실행해주세요\n",
    "scores = [\n",
    "    [80,92,70,65,92],\n",
    "    [91,75,90,68,85],\n",
    "    [86,76,42,72,88],\n",
    "    [77,92,52,60,80],\n",
    "    [75,85,85,92,95],\n",
    "    [96,90,95,81,72]\n",
    "]"
   ]
  },
  {
   "cell_type": "markdown",
   "metadata": {},
   "source": [
    "#### 답안지 입력란\n",
    "* 아래에 답을 서술하여 주세요\n",
    "* 결과는 `answer4`에 담아주세요"
   ]
  },
  {
   "cell_type": "code",
   "execution_count": 11,
   "metadata": {},
   "outputs": [],
   "source": [
    "max_language_score = 0\n",
    "max_math_score = 0\n",
    "max_english_score = 0\n",
    "max_society_score = 0\n",
    "max_science_score = 0\n",
    "\n",
    "for score in scores:\n",
    "    if max_language_score < score[0]:\n",
    "        max_language_score = score[0]\n",
    "    if max_math_score < score[1]:\n",
    "        max_math_score = score[1]\n",
    "    if max_english_score < score[2]:\n",
    "        max_english_score = score[2]\n",
    "    if max_society_score < score[3]:\n",
    "        max_society_score = score[3]\n",
    "    if max_science_score < score[4]:\n",
    "        max_science_score = score[4]\n",
    "\n",
    "answer4 = [max_language_score, \n",
    "           max_math_score,\n",
    "           max_english_score,\n",
    "           max_society_score,\n",
    "           max_science_score]"
   ]
  },
  {
   "cell_type": "markdown",
   "metadata": {},
   "source": [
    "#### 정답 확인\n",
    "* 정답을 입력한 후, 아래를 실행시키면 정답인지 확인합니다."
   ]
  },
  {
   "cell_type": "code",
   "execution_count": 12,
   "metadata": {},
   "outputs": [
    {
     "name": "stdout",
     "output_type": "stream",
     "text": [
      "정답입니다!!!\n"
     ]
    }
   ],
   "source": [
    "from numpy.testing import assert_array_almost_equal\n",
    "\n",
    "assert 'answer4' in globals(), \"결과를 answer4라는 변수에 담아주세요!, answer4의 값을 보고 평가합니다.\"\n",
    "\n",
    "A = [96, 92, 95, 92, 95]\n",
    "\n",
    "assert_array_almost_equal(A,answer4,decimal=2,\n",
    "                          err_msg=\"\\n\\n정답은 \\n{}\\n입니다. 코드를 다시 확인해주세요\".format(A))\n",
    "\n",
    "print(\"정답입니다!!!\")"
   ]
  },
  {
   "cell_type": "markdown",
   "metadata": {},
   "source": [
    "## 문제 5. 학생들이 평균 대비 각각 몇점씩 틀렸는지 표로 만들기\n",
    "* 학생들이 평균 대비 각각 몇점씩 틀렸는지 표로 만들어주세요\n",
    "\n",
    "정답 >>> \n",
    "```python\n",
    "[[4.166666666666671, -7.0, 2.3333333333333286, 8.0, -6.666666666666671],\n",
    " [-6.833333333333329, 10.0, -17.66666666666667, 5.0, 0.3333333333333286],\n",
    " [-1.8333333333333286, 9.0, 30.33333333333333, 1.0, -2.6666666666666714],\n",
    " [7.166666666666671, -7.0, 20.33333333333333, 13.0, 5.333333333333329],\n",
    " [9.166666666666671, 0.0, -12.666666666666671, -19.0, -9.666666666666671],\n",
    " [-11.833333333333329, -5.0, -22.66666666666667, -8.0, 13.333333333333329]]\n",
    "```"
   ]
  },
  {
   "cell_type": "code",
   "execution_count": 13,
   "metadata": {},
   "outputs": [],
   "source": [
    "# 우선 실행해주세요\n",
    "scores = [\n",
    "    [80,92,70,65,92],\n",
    "    [91,75,90,68,85],\n",
    "    [86,76,42,72,88],\n",
    "    [77,92,52,60,80],\n",
    "    [75,85,85,92,95],\n",
    "    [96,90,95,81,72]\n",
    "]"
   ]
  },
  {
   "cell_type": "markdown",
   "metadata": {},
   "source": [
    "#### 답안지 입력란\n",
    "* 아래에 답을 서술하여 주세요\n",
    "* 결과는 `answer5`에 담아주세요"
   ]
  },
  {
   "cell_type": "code",
   "execution_count": 14,
   "metadata": {},
   "outputs": [],
   "source": [
    "total_language_score = 0\n",
    "total_math_score = 0\n",
    "total_english_score = 0\n",
    "total_society_score = 0\n",
    "total_science_score = 0\n",
    "\n",
    "for score in scores:\n",
    "    total_language_score = total_language_score + score[0]\n",
    "    total_math_score = total_math_score + score[1]\n",
    "    total_english_score = total_english_score + score[2]\n",
    "    total_society_score = total_society_score + score[3]\n",
    "    total_science_score = total_science_score + score[4]\n",
    "\n",
    "avg_language_score = total_language_score / len(scores)\n",
    "avg_math_score = total_math_score / len(scores)\n",
    "avg_english_score = total_english_score / len(scores)\n",
    "avg_society_score = total_society_score / len(scores)\n",
    "avg_science_score = total_science_score / len(scores)\n",
    "avg_scores = [avg_language_score, avg_math_score, avg_english_score, \n",
    "             avg_society_score, avg_science_score]\n",
    "\n",
    "miss_scores = []\n",
    "for score in scores:\n",
    "    miss_score = []\n",
    "    for i in range(5):\n",
    "        miss = avg_scores[i] - score[i]\n",
    "        miss_score.append(miss)\n",
    "    miss_scores.append(miss_score)\n",
    "    \n",
    "answer5 = miss_scores"
   ]
  },
  {
   "cell_type": "markdown",
   "metadata": {},
   "source": [
    "#### 정답 확인\n",
    "* 정답을 입력한 후, 아래를 실행시키면 정답인지 확인합니다."
   ]
  },
  {
   "cell_type": "code",
   "execution_count": 15,
   "metadata": {},
   "outputs": [
    {
     "name": "stdout",
     "output_type": "stream",
     "text": [
      "정답입니다!!!\n"
     ]
    }
   ],
   "source": [
    "from numpy.testing import assert_array_almost_equal\n",
    "\n",
    "assert 'answer5' in globals(), \"결과를 answer5라는 변수에 담아주세요!, answer5의 값을 보고 평가합니다.\"\n",
    "\n",
    "A = [[4.166666666666671, -7.0, 2.3333333333333286, 8.0, -6.666666666666671],\n",
    " [-6.833333333333329, 10.0, -17.66666666666667, 5.0, 0.3333333333333286],\n",
    " [-1.8333333333333286, 9.0, 30.33333333333333, 1.0, -2.6666666666666714],\n",
    " [7.166666666666671, -7.0, 20.33333333333333, 13.0, 5.333333333333329],\n",
    " [9.166666666666671, 0.0, -12.666666666666671, -19.0, -9.666666666666671],\n",
    " [-11.833333333333329, -5.0, -22.66666666666667, -8.0, 13.333333333333329]]\n",
    "\n",
    "assert_array_almost_equal(A,answer5,decimal=2,\n",
    "                          err_msg=\"\\n\\n정답은 \\n{}\\n입니다. 코드를 다시 확인해주세요\".format(A))\n",
    "\n",
    "print(\"정답입니다!!!\")"
   ]
  },
  {
   "cell_type": "markdown",
   "metadata": {},
   "source": [
    "#### table-2) 2012년~2018년 삼성전자 분기별 매출과 합계\n",
    "\n",
    "| (단위:조원) | 1분기 | 2분기 | 3분기 | 4분기 | 합계   |\n",
    "| ------ | ----- | ----- | ----- | ----- | ------ |\n",
    "| 2012년 | 45.27 | 47.60 | 52.18 | 56.06 | 201.10 |\n",
    "| 2013년 | 52.87 | 57.46 | 59.08 | 59.28 | 228.69 |\n",
    "| 2014년 | 53.68 | 52.35 | 47.45 | 52.73 | 206.21 |\n",
    "| 2015년 | 47.12 | 48.54 | 51.68 | 53.32 | 200.65 |\n",
    "| 2016년 | 49.78 | 50.94 | 47.82 | 53.33 | 201.87 |\n",
    "| 2017년 | 50.55 | 61.99 | 62.05 | 65.98 | 240.57 |\n",
    "| 2018년 | 60.56 | 58.48 | 65.46 | 59.27 | 243.77 |"
   ]
  },
  {
   "cell_type": "markdown",
   "metadata": {},
   "source": [
    "## 문제 6. 인덱싱을 이용해 새로운 리스트 만들기\n",
    "* 현재 분기별 매출 표에는 `합계`까지 포함되어 있습니다. 인덱싱을 이용해 합계는 제외하고 매출만 남아있는 리스트를 만들어주세요\n",
    "\n",
    "정답 >>>\n",
    "```python\n",
    "[[45.27, 47.6, 52.18, 56.06],\n",
    " [52.87, 57.46, 59.08, 59.28],\n",
    " [53.68, 52.35, 47.45, 52.73],\n",
    " [47.12, 48.54, 51.68, 53.32],\n",
    " [49.78, 50.94, 47.82, 53.33],\n",
    " [50.55, 61.99, 62.05, 65.98],\n",
    " [60.56, 58.48, 65.46, 59.27]]\n",
    "```"
   ]
  },
  {
   "cell_type": "code",
   "execution_count": 16,
   "metadata": {},
   "outputs": [],
   "source": [
    "# 우선 실행해주세요\n",
    "sales_with_sum = [\n",
    "    [45.27, 47.60, 52.18, 56.06, 201.10],\n",
    "    [52.87, 57.46, 59.08, 59.28, 228.69],\n",
    "    [53.68, 52.35, 47.45, 52.73, 206.21],\n",
    "    [47.12, 48.54, 51.68, 53.32, 200.65],\n",
    "    [49.78, 50.94, 47.82, 53.33, 201.87],\n",
    "    [50.55, 61.99, 62.05, 65.98, 240.57],\n",
    "    [60.56, 58.48, 65.46, 59.27, 243.77]\n",
    "]"
   ]
  },
  {
   "cell_type": "markdown",
   "metadata": {},
   "source": [
    "#### 답안지 입력란\n",
    "* 아래에 답을 서술하여 주세요\n",
    "* 결과는 `answer6`에 담아주세요"
   ]
  },
  {
   "cell_type": "code",
   "execution_count": 17,
   "metadata": {
    "scrolled": false
   },
   "outputs": [],
   "source": [
    "only_sales = []\n",
    "for sales in sales_with_sum:\n",
    "    only_sales.append(sales[:-1])\n",
    "\n",
    "answer6 = only_sales"
   ]
  },
  {
   "cell_type": "markdown",
   "metadata": {},
   "source": [
    "#### 정답 확인\n",
    "* 정답을 입력한 후, 아래를 실행시키면 정답인지 확인합니다."
   ]
  },
  {
   "cell_type": "code",
   "execution_count": 18,
   "metadata": {},
   "outputs": [
    {
     "name": "stdout",
     "output_type": "stream",
     "text": [
      "정답입니다!!!\n"
     ]
    }
   ],
   "source": [
    "from numpy.testing import assert_array_almost_equal\n",
    "\n",
    "assert 'answer6' in globals(), \"결과를 answer6이라는 변수에 담아주세요!, answer6의 값을 보고 평가합니다.\"\n",
    "\n",
    "A = [[45.27, 47.6, 52.18, 56.06],\n",
    " [52.87, 57.46, 59.08, 59.28],\n",
    " [53.68, 52.35, 47.45, 52.73],\n",
    " [47.12, 48.54, 51.68, 53.32],\n",
    " [49.78, 50.94, 47.82, 53.33],\n",
    " [50.55, 61.99, 62.05, 65.98],\n",
    " [60.56, 58.48, 65.46, 59.27]]\n",
    "\n",
    "assert_array_almost_equal(A,answer6,decimal=2,\n",
    "                          err_msg=\"\\n\\n정답은 \\n{}\\n입니다. 코드를 다시 확인해주세요\".format(A))\n",
    "\n",
    "print(\"정답입니다!!!\")"
   ]
  },
  {
   "cell_type": "markdown",
   "metadata": {},
   "source": [
    "#### table-3) 2012년~2018년 삼성전자 분기별 매출\n",
    "\n",
    "| (단위:조원) | 1분기 | 2분기 | 3분기 | 4분기 |\n",
    "| ------ | ----- | ----- | ----- | ----- |\n",
    "| 2012년 | 45.27 | 47.60 | 52.18 | 56.06 |\n",
    "| 2013년 | 52.87 | 57.46 | 59.08 | 59.28 |\n",
    "| 2014년 | 53.68 | 52.35 | 47.45 | 52.73 |\n",
    "| 2015년 | 47.12 | 48.54 | 51.68 | 53.32 |\n",
    "| 2016년 | 49.78 | 50.94 | 47.82 | 53.33 |\n",
    "| 2017년 | 50.55 | 61.99 | 62.05 | 65.98 |\n",
    "| 2018년 | 60.56 | 58.48 | 65.46 | 59.27 |"
   ]
  },
  {
   "cell_type": "markdown",
   "metadata": {},
   "source": [
    "## 문제 7. 특정 원소 가져오기(1)\n",
    "* 삼성전자의 **2016년 3분기 매출**을 가져와주세요.\n",
    "\n",
    "정답 >>> \n",
    "```python\n",
    "47.82\n",
    "```"
   ]
  },
  {
   "cell_type": "code",
   "execution_count": 19,
   "metadata": {},
   "outputs": [],
   "source": [
    "# 우선 실행해주세요\n",
    "sales = [\n",
    "    [45.27, 47.60, 52.18, 56.06],\n",
    "    [52.87, 57.46, 59.08, 59.28],\n",
    "    [53.68, 52.35, 47.45, 52.73],\n",
    "    [47.12, 48.54, 51.68, 53.32],\n",
    "    [49.78, 50.94, 47.82, 53.33],\n",
    "    [50.55, 61.99, 62.05, 65.98],\n",
    "    [60.56, 58.48, 65.46, 59.27]\n",
    "]"
   ]
  },
  {
   "cell_type": "markdown",
   "metadata": {},
   "source": [
    "#### 답안지 입력란\n",
    "* 아래에 답을 서술하여 주세요\n",
    "* 결과는 `answer7`에 담아주세요"
   ]
  },
  {
   "cell_type": "code",
   "execution_count": 20,
   "metadata": {},
   "outputs": [],
   "source": [
    "answer7 = sales[4][2]"
   ]
  },
  {
   "cell_type": "markdown",
   "metadata": {},
   "source": [
    "#### 정답 확인\n",
    "* 정답을 입력한 후, 아래를 실행시키면 정답인지 확인합니다."
   ]
  },
  {
   "cell_type": "code",
   "execution_count": 21,
   "metadata": {
    "scrolled": true
   },
   "outputs": [
    {
     "name": "stdout",
     "output_type": "stream",
     "text": [
      "정답입니다!!!!\n"
     ]
    }
   ],
   "source": [
    "assert 'answer7' in globals(), \"결과를 answer7이라는 변수에 담아주세요!, answer7의 값을 보고 평가합니다.\"\n",
    "\n",
    "if (answer7 == 47.82):\n",
    "    print(\"정답입니다!!!!\")\n",
    "else:\n",
    "    raise ValueError(\"정답은 47.82가 나와야 합니다. 코드를 다시 확인해 주세요!\")"
   ]
  },
  {
   "cell_type": "markdown",
   "metadata": {},
   "source": [
    "## 문제 8. 특정 원소 가져오기(2)\n",
    "* 삼성전자의 **짝수년 1,3분기 매출**을 가져와주세요.\n",
    "\n",
    "정답 >>> \n",
    "```python\n",
    "[[45.27, 52.18], [53.68, 47.45], \n",
    "[49.78, 47.82], [60.56, 65.46]]\n",
    "```"
   ]
  },
  {
   "cell_type": "code",
   "execution_count": 22,
   "metadata": {},
   "outputs": [],
   "source": [
    "# 우선 실행해주세요\n",
    "sales = [\n",
    "    [45.27, 47.60, 52.18, 56.06],\n",
    "    [52.87, 57.46, 59.08, 59.28],\n",
    "    [53.68, 52.35, 47.45, 52.73],\n",
    "    [47.12, 48.54, 51.68, 53.32],\n",
    "    [49.78, 50.94, 47.82, 53.33],\n",
    "    [50.55, 61.99, 62.05, 65.98],\n",
    "    [60.56, 58.48, 65.46, 59.27]\n",
    "]"
   ]
  },
  {
   "cell_type": "markdown",
   "metadata": {},
   "source": [
    "#### 답안지 입력란\n",
    "* 아래에 답을 서술하여 주세요\n",
    "* 결과는 `answer8`에 담아주세요"
   ]
  },
  {
   "cell_type": "code",
   "execution_count": 23,
   "metadata": {},
   "outputs": [],
   "source": [
    "even_year = []\n",
    "for sale in sales[::2]:\n",
    "    quarter = [sale[0], sale[2]]\n",
    "    even_year.append(quarter)\n",
    "answer8 = even_year"
   ]
  },
  {
   "cell_type": "markdown",
   "metadata": {},
   "source": [
    "#### 정답 확인\n",
    "* 정답을 입력한 후, 아래를 실행시키면 정답인지 확인합니다."
   ]
  },
  {
   "cell_type": "code",
   "execution_count": 24,
   "metadata": {},
   "outputs": [
    {
     "name": "stdout",
     "output_type": "stream",
     "text": [
      "정답입니다!!!\n"
     ]
    }
   ],
   "source": [
    "from numpy.testing import assert_array_almost_equal\n",
    "\n",
    "assert 'answer8' in globals(), \"결과를 answer8이라는 변수에 담아주세요!, answer8의 값을 보고 평가합니다.\"\n",
    "\n",
    "A = [[45.27, 52.18], [53.68, 47.45], [49.78, 47.82], [60.56, 65.46]]\n",
    "\n",
    "assert_array_almost_equal(A,answer8,decimal=2,\n",
    "                          err_msg=\"\\n\\n정답은 \\n{}\\n입니다. 코드를 다시 확인해 주세요\".format(A))\n",
    "\n",
    "print(\"정답입니다!!!\")"
   ]
  },
  {
   "cell_type": "markdown",
   "metadata": {},
   "source": [
    "## 문제 9. 특정 원소 가져오기(3)\n",
    "* 삼성전자의 **각 연도별 4분기 매출**을 가져와주세요.\n",
    "\n",
    "정답 >>> \n",
    "```python\n",
    "[56.06, 59.28, 52.73, 53.32, 53.33, 65.98, 59.27]\n",
    "```"
   ]
  },
  {
   "cell_type": "code",
   "execution_count": 25,
   "metadata": {},
   "outputs": [],
   "source": [
    "# 우선 실행해주세요\n",
    "sales = [\n",
    "    [45.27, 47.60, 52.18, 56.06],\n",
    "    [52.87, 57.46, 59.08, 59.28],\n",
    "    [53.68, 52.35, 47.45, 52.73],\n",
    "    [47.12, 48.54, 51.68, 53.32],\n",
    "    [49.78, 50.94, 47.82, 53.33],\n",
    "    [50.55, 61.99, 62.05, 65.98],\n",
    "    [60.56, 58.48, 65.46, 59.27]\n",
    "]"
   ]
  },
  {
   "cell_type": "markdown",
   "metadata": {},
   "source": [
    "#### 답안지 입력란\n",
    "* 아래에 답을 서술하여 주세요\n",
    "* 결과는 `answer9`에 담아주세요"
   ]
  },
  {
   "cell_type": "code",
   "execution_count": 26,
   "metadata": {},
   "outputs": [],
   "source": [
    "fourth_quarter = []\n",
    "for sale in sales:\n",
    "    fourth_quarter.append(sale[-1])\n",
    "\n",
    "answer9 = fourth_quarter"
   ]
  },
  {
   "cell_type": "markdown",
   "metadata": {},
   "source": [
    "#### 정답 확인\n",
    "* 정답을 입력한 후, 아래를 실행시키면 정답인지 확인합니다."
   ]
  },
  {
   "cell_type": "code",
   "execution_count": 27,
   "metadata": {},
   "outputs": [
    {
     "name": "stdout",
     "output_type": "stream",
     "text": [
      "정답입니다!!!\n"
     ]
    }
   ],
   "source": [
    "from numpy.testing import assert_array_almost_equal\n",
    "\n",
    "assert 'answer9' in globals(), \"결과를 answer9라는 변수에 담아주세요!, answer9의 값을 보고 평가합니다.\"\n",
    "\n",
    "A = [56.06, 59.28, 52.73, 53.32, 53.33, 65.98, 59.27]\n",
    "\n",
    "assert_array_almost_equal(A,answer9,decimal=2,\n",
    "                          err_msg=\"\\n\\n정답은 \\n{}\\n입니다. 코드를 다시 확인해 주세요\".format(A))\n",
    "\n",
    "print(\"정답입니다!!!\")"
   ]
  },
  {
   "cell_type": "markdown",
   "metadata": {},
   "source": [
    "## 문제 10. 모든 매출의 평균\n",
    "* 삼성전자의 **모든 매출의 평균**을 가져와주세요.\n",
    "\n",
    "정답 >>> \n",
    "```python\n",
    "54.388571428571424\n",
    "```"
   ]
  },
  {
   "cell_type": "code",
   "execution_count": 28,
   "metadata": {},
   "outputs": [],
   "source": [
    "# 우선 실행해주세요\n",
    "sales = [\n",
    "    [45.27, 47.60, 52.18, 56.06],\n",
    "    [52.87, 57.46, 59.08, 59.28],\n",
    "    [53.68, 52.35, 47.45, 52.73],\n",
    "    [47.12, 48.54, 51.68, 53.32],\n",
    "    [49.78, 50.94, 47.82, 53.33],\n",
    "    [50.55, 61.99, 62.05, 65.98],\n",
    "    [60.56, 58.48, 65.46, 59.27]\n",
    "]"
   ]
  },
  {
   "cell_type": "markdown",
   "metadata": {},
   "source": [
    "#### 답안지 입력란\n",
    "* 아래에 답을 서술하여 주세요\n",
    "* 결과는 `answer10`에 담아주세요"
   ]
  },
  {
   "cell_type": "code",
   "execution_count": 29,
   "metadata": {},
   "outputs": [],
   "source": [
    "total_sales = 0\n",
    "for sale in sales:\n",
    "    for won in sale:\n",
    "        total_sales += won\n",
    "\n",
    "average_sales = total_sales / (len(sales) * len(sale))\n",
    "answer10 = average_sales"
   ]
  },
  {
   "cell_type": "markdown",
   "metadata": {},
   "source": [
    "#### 정답 확인\n",
    "* 정답을 입력한 후, 아래를 실행시키면 정답인지 확인합니다."
   ]
  },
  {
   "cell_type": "code",
   "execution_count": 30,
   "metadata": {
    "scrolled": false
   },
   "outputs": [
    {
     "name": "stdout",
     "output_type": "stream",
     "text": [
      "정답입니다!!!!\n"
     ]
    }
   ],
   "source": [
    "assert 'answer10' in globals(), \"결과를 answer10이라는 변수에 담아주세요!, answer10의 값을 보고 평가합니다.\"\n",
    "\n",
    "if (round(answer10, 5) == round(54.388571428571424, 5)):\n",
    "    print(\"정답입니다!!!!\")\n",
    "else:\n",
    "    raise ValueError(\"정답은 54.388571428571424가 나와야 합니다. 코드를 다시 확인해 주세요!\")"
   ]
  },
  {
   "cell_type": "markdown",
   "metadata": {},
   "source": [
    "## 문제 11. 연도별 최대 매출\n",
    "* 각 연도별로 최대 매출이 얼마인지 표로 만들어주세요\n",
    "\n",
    "정답 >>> \n",
    "```python\n",
    "[56.06, 59.28, 53.68, 53.32, 53.33, 65.98, 65.46]\n",
    "```"
   ]
  },
  {
   "cell_type": "code",
   "execution_count": 31,
   "metadata": {},
   "outputs": [],
   "source": [
    "# 우선 실행해주세요\n",
    "sales = [\n",
    "    [45.27, 47.60, 52.18, 56.06],\n",
    "    [52.87, 57.46, 59.08, 59.28],\n",
    "    [53.68, 52.35, 47.45, 52.73],\n",
    "    [47.12, 48.54, 51.68, 53.32],\n",
    "    [49.78, 50.94, 47.82, 53.33],\n",
    "    [50.55, 61.99, 62.05, 65.98],\n",
    "    [60.56, 58.48, 65.46, 59.27]\n",
    "]"
   ]
  },
  {
   "cell_type": "markdown",
   "metadata": {},
   "source": [
    "#### 답안지 입력란\n",
    "* 아래에 답을 서술하여 주세요\n",
    "* 결과는 `answer11`에 담아주세요"
   ]
  },
  {
   "cell_type": "code",
   "execution_count": 32,
   "metadata": {},
   "outputs": [],
   "source": [
    "max_sales = []\n",
    "for sale in sales:\n",
    "    max_sales.append(max(sale))\n",
    "answer11 = max_sales"
   ]
  },
  {
   "cell_type": "markdown",
   "metadata": {},
   "source": [
    "#### 정답 확인\n",
    "* 정답을 입력한 후, 아래를 실행시키면 정답인지 확인합니다."
   ]
  },
  {
   "cell_type": "code",
   "execution_count": 33,
   "metadata": {},
   "outputs": [
    {
     "name": "stdout",
     "output_type": "stream",
     "text": [
      "정답입니다!!!\n"
     ]
    }
   ],
   "source": [
    "from numpy.testing import assert_array_almost_equal\n",
    "\n",
    "assert 'answer11' in globals(), \"결과를 answer11이라는 변수에 담아주세요!, answer11의 값을 보고 평가합니다.\"\n",
    "\n",
    "A = [56.06, 59.28, 53.68, 53.32, 53.33, 65.98, 65.46]\n",
    "\n",
    "assert_array_almost_equal(A,answer11,decimal=2,\n",
    "                          err_msg=\"\\n\\n정답은 \\n{}\\n입니다. 코드를 다시 확인해주세요\".format(A))\n",
    "\n",
    "print(\"정답입니다!!!\")"
   ]
  },
  {
   "cell_type": "markdown",
   "metadata": {},
   "source": [
    "## 문제 12. 평균 대비 매출\n",
    "* 전체 매출의 평균과 각 매출이 얼마나 차이나는지 표로 만들어주세요\n",
    "    \n",
    "    `평균 대비 매출` = `매출` - `전체 매출의 평균`\n",
    "\n",
    "정답 >>> \n",
    "```python\n",
    "[[-9.118571428571421, -6.788571428571423, -2.2085714285714246, 1.671428571428578],\n",
    " [-1.518571428571427, 3.0714285714285765, 4.691428571428574, 4.891428571428577],\n",
    " [-0.7085714285714246, -2.038571428571423, -6.9385714285714215, -1.6585714285714275],\n",
    " [-7.268571428571427, -5.848571428571425, -2.7085714285714246, -1.068571428571424],\n",
    " [-4.608571428571423, -3.4485714285714266, -6.568571428571424, -1.058571428571426],\n",
    " [-3.838571428571427, 7.601428571428578, 7.661428571428573, 11.59142857142858],\n",
    " [6.171428571428578, 4.0914285714285725, 11.07142857142857, 4.881428571428579]]\n",
    "```"
   ]
  },
  {
   "cell_type": "code",
   "execution_count": 34,
   "metadata": {},
   "outputs": [],
   "source": [
    "# 우선 실행해주세요\n",
    "sales = [\n",
    "    [45.27, 47.60, 52.18, 56.06],\n",
    "    [52.87, 57.46, 59.08, 59.28],\n",
    "    [53.68, 52.35, 47.45, 52.73],\n",
    "    [47.12, 48.54, 51.68, 53.32],\n",
    "    [49.78, 50.94, 47.82, 53.33],\n",
    "    [50.55, 61.99, 62.05, 65.98],\n",
    "    [60.56, 58.48, 65.46, 59.27]\n",
    "]"
   ]
  },
  {
   "cell_type": "markdown",
   "metadata": {},
   "source": [
    "#### 답안지 입력란\n",
    "* 아래에 답을 서술하여 주세요\n",
    "* 결과는 `answer12`에 담아주세요"
   ]
  },
  {
   "cell_type": "code",
   "execution_count": 35,
   "metadata": {},
   "outputs": [],
   "source": [
    "total_sales = 0\n",
    "for sale in sales:\n",
    "    for won in sale:\n",
    "        total_sales += won\n",
    "\n",
    "average_sales = total_sales / (len(sales) * len(sale))\n",
    "\n",
    "diff_sales = []\n",
    "for sale in sales:\n",
    "    diff_sale = []\n",
    "    for won in sale:\n",
    "        diff = won - average_sales\n",
    "        diff_sale.append(diff)\n",
    "    diff_sales.append(diff_sale)\n",
    "\n",
    "answer12 = diff_sales"
   ]
  },
  {
   "cell_type": "markdown",
   "metadata": {},
   "source": [
    "#### 정답 확인\n",
    "* 정답을 입력한 후, 아래를 실행시키면 정답인지 확인합니다."
   ]
  },
  {
   "cell_type": "code",
   "execution_count": 36,
   "metadata": {},
   "outputs": [
    {
     "name": "stdout",
     "output_type": "stream",
     "text": [
      "정답입니다!!!\n"
     ]
    }
   ],
   "source": [
    "from numpy.testing import assert_array_almost_equal\n",
    "\n",
    "assert 'answer12' in globals(), \"결과를 answer12라는 변수에 담아주세요!, answer12의 값을 보고 평가합니다.\"\n",
    "\n",
    "A = [[-9.118571428571421, -6.788571428571423, -2.2085714285714246, 1.671428571428578],\n",
    " [-1.518571428571427, 3.0714285714285765, 4.691428571428574, 4.891428571428577],\n",
    " [-0.7085714285714246, -2.038571428571423, -6.9385714285714215, -1.6585714285714275],\n",
    " [-7.268571428571427, -5.848571428571425, -2.7085714285714246, -1.068571428571424],\n",
    " [-4.608571428571423, -3.4485714285714266, -6.568571428571424, -1.058571428571426],\n",
    " [-3.838571428571427, 7.601428571428578, 7.661428571428573, 11.59142857142858],\n",
    " [6.171428571428578, 4.0914285714285725, 11.07142857142857, 4.881428571428579]]\n",
    "assert_array_almost_equal(A,answer12,decimal=2,\n",
    "                          err_msg=\"\\n\\n정답은 \\n{}\\n입니다. 코드를 다시 확인해주세요\".format(A))\n",
    "\n",
    "print(\"정답입니다!!!\")"
   ]
  },
  {
   "cell_type": "markdown",
   "metadata": {},
   "source": [
    "## 문제 13. 전반기 대비 후반기 매출\n",
    "* 각 연도별로 `전반기`(1분기, 2분기)에 비해 `후반기`(3분기, 4분기)의 매출이 어떻게 변했는지를 표로 만들어주세요\n",
    "\n",
    "    `전반기 대비 후반기 매출` = `후반기 총 매출` - `전반기 총 매출`\n",
    "\n",
    "정답 >>> \n",
    "```python\n",
    "[15.370000000000005,\n",
    " 8.030000000000001,\n",
    " -5.849999999999994,\n",
    " 9.340000000000003,\n",
    " 0.4300000000000068,\n",
    " 15.490000000000009,\n",
    " 5.689999999999998]\n",
    "```\n",
    "\n",
    "* 힌트 : 전반기에 비해 **후반기의 매출**이 어떻게 변했는지가 문제입니다."
   ]
  },
  {
   "cell_type": "code",
   "execution_count": 37,
   "metadata": {},
   "outputs": [],
   "source": [
    "# 우선 실행해주세요\n",
    "sales = [\n",
    "    [45.27, 47.60, 52.18, 56.06],\n",
    "    [52.87, 57.46, 59.08, 59.28],\n",
    "    [53.68, 52.35, 47.45, 52.73],\n",
    "    [47.12, 48.54, 51.68, 53.32],\n",
    "    [49.78, 50.94, 47.82, 53.33],\n",
    "    [50.55, 61.99, 62.05, 65.98],\n",
    "    [60.56, 58.48, 65.46, 59.27]\n",
    "]"
   ]
  },
  {
   "cell_type": "markdown",
   "metadata": {},
   "source": [
    "#### 답안지 입력란\n",
    "* 아래에 답을 서술하여 주세요\n",
    "* 결과는 `answer13`에 담아주세요"
   ]
  },
  {
   "cell_type": "code",
   "execution_count": 38,
   "metadata": {},
   "outputs": [],
   "source": [
    "first_half_list = []\n",
    "second_half_list = []\n",
    "for sale in sales:\n",
    "    first_half_list.append(sale[0]+sale[1])\n",
    "    second_half_list.append(sale[2]+sale[3])\n",
    "\n",
    "diff_sales = []\n",
    "for first_half, second_half in zip(first_half_list, second_half_list):\n",
    "    diff = second_half - first_half\n",
    "    diff_sales.append(diff)\n",
    "answer13 = diff_sales"
   ]
  },
  {
   "cell_type": "code",
   "execution_count": 39,
   "metadata": {
    "scrolled": true
   },
   "outputs": [],
   "source": [
    "diff_sales = []\n",
    "for sale in sales:\n",
    "    diff_sales.append((sale[2]+sale[3]) - (sale[0]+sale[1]))\n",
    "answer13 = diff_sales"
   ]
  },
  {
   "cell_type": "markdown",
   "metadata": {},
   "source": [
    "#### 정답 확인\n",
    "* 정답을 입력한 후, 아래를 실행시키면 정답인지 확인합니다."
   ]
  },
  {
   "cell_type": "code",
   "execution_count": 40,
   "metadata": {},
   "outputs": [
    {
     "name": "stdout",
     "output_type": "stream",
     "text": [
      "정답입니다!!!\n"
     ]
    }
   ],
   "source": [
    "from numpy.testing import assert_array_almost_equal\n",
    "\n",
    "assert 'answer13' in globals(), \"결과를 answer13 변수에 담아주세요!, answer13 값을 보고 평가합니다.\"\n",
    "\n",
    "A = [15.370000000000005,\n",
    " 8.030000000000001,\n",
    " -5.849999999999994,\n",
    " 9.340000000000003,\n",
    " 0.4300000000000068,\n",
    " 15.490000000000009,\n",
    " 5.689999999999998]\n",
    "\n",
    "assert_array_almost_equal(A,answer13,decimal=2,\n",
    "                          err_msg=\"\\n\\n정답은 \\n{}\\n입니다. 코드를 다시 확인해주세요\".format(A))\n",
    "\n",
    "print(\"정답입니다!!!\")"
   ]
  },
  {
   "cell_type": "markdown",
   "metadata": {},
   "source": [
    "#  \n",
    "\n",
    "<hr>\n",
    "<div style = \"background-image: url('https://algorithmai.io/static/media/logo.665798c4.png');background-repeat: no-repeat; background-position: right; background-size: 220px 40px; padding : 5px 10px 5px 5px;\">\n",
    "    Copyright(c) 2019 by Public AI. All rights reserved.<br>\n",
    "    Writen by PAI, DoYeong Kim ( ka2k@publicai.co.kr )  last updated on 2019/07/12\n",
    "</div>\n",
    "<hr>"
   ]
  }
 ],
 "metadata": {
  "kernelspec": {
   "display_name": "Python 3",
   "language": "python",
   "name": "python3"
  },
  "language_info": {
   "codemirror_mode": {
    "name": "ipython",
    "version": 3
   },
   "file_extension": ".py",
   "mimetype": "text/x-python",
   "name": "python",
   "nbconvert_exporter": "python",
   "pygments_lexer": "ipython3",
   "version": "3.7.3"
  }
 },
 "nbformat": 4,
 "nbformat_minor": 2
}
