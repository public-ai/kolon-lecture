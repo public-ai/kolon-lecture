{
 "cells": [
  {
   "cell_type": "markdown",
   "metadata": {},
   "source": [
    "## Numpy의 shape, dtype, creation\n"
   ]
  },
  {
   "cell_type": "code",
   "execution_count": 1,
   "metadata": {},
   "outputs": [],
   "source": [
    "# 우선 실행해주세요\n",
    "import numpy as np"
   ]
  },
  {
   "cell_type": "markdown",
   "metadata": {},
   "source": [
    "## 문제 1. 배열 생성\n",
    "* shape이 (2,3)이고, datatype이 `np.float`이고, 모든 값이 1인 `numpy array`를 만들어주세요"
   ]
  },
  {
   "cell_type": "markdown",
   "metadata": {},
   "source": [
    "#### 답안지 입력란\n",
    "* 아래에 답을 서술하여 주세요\n",
    "* 결과는 `answer1`에 담아주세요"
   ]
  },
  {
   "cell_type": "code",
   "execution_count": 2,
   "metadata": {},
   "outputs": [],
   "source": [
    "answer1 = np.ones((2,3),dtype=np.float)"
   ]
  },
  {
   "cell_type": "markdown",
   "metadata": {},
   "source": [
    "#### 정답 확인\n",
    "* 정답을 입력한 후, 아래를 실행시키면 정답인지 확인합니다."
   ]
  },
  {
   "cell_type": "code",
   "execution_count": 3,
   "metadata": {},
   "outputs": [
    {
     "name": "stdout",
     "output_type": "stream",
     "text": [
      "정답입니다!!!\n"
     ]
    }
   ],
   "source": [
    "from numpy.testing import assert_array_equal\n",
    "\n",
    "assert 'answer1' in globals(), \"결과를 answer1 변수에 담아주세요!, answer1 값을 보고 평가합니다.\"\n",
    "\n",
    "A = np.array([\n",
    "    [1,1,1],\n",
    "    [1,1,1]\n",
    "],dtype=np.float)\n",
    "\n",
    "assert_array_equal(A, answer1, \n",
    "               err_msg=\"\\n정답은 \\n{}\\n입니다. 코드를 다시 확인해주세요\\n\".format(A))\n",
    "\n",
    "print(\"정답입니다!!!\")"
   ]
  },
  {
   "cell_type": "markdown",
   "metadata": {},
   "source": [
    "## 문제 2. 행렬의 data type 바꾸기\n",
    "* 아래의 행렬, `arr`의 data type이 `np.float`이 되도록 바꾸어 주세요\n"
   ]
  },
  {
   "cell_type": "code",
   "execution_count": 4,
   "metadata": {},
   "outputs": [
    {
     "data": {
      "text/plain": [
       "array([[1, 1, 1],\n",
       "       [1, 1, 1],\n",
       "       [1, 1, 1],\n",
       "       [1, 1, 1],\n",
       "       [1, 1, 1]])"
      ]
     },
     "execution_count": 4,
     "metadata": {},
     "output_type": "execute_result"
    }
   ],
   "source": [
    "# 우선 실행해주세요\n",
    "arr = np.ones([5,3], dtype=np.int64)\n",
    "arr"
   ]
  },
  {
   "cell_type": "markdown",
   "metadata": {},
   "source": [
    "#### 답안지 입력란\n",
    "* 아래에 답을 서술하여 주세요\n",
    "* 결과는 `answer2`에 담아주세요"
   ]
  },
  {
   "cell_type": "code",
   "execution_count": 5,
   "metadata": {},
   "outputs": [],
   "source": [
    "answer2 = arr.astype(np.float)"
   ]
  },
  {
   "cell_type": "markdown",
   "metadata": {},
   "source": [
    "#### 정답 확인\n",
    "* 정답을 입력한 후, 아래를 실행시키면 정답인지 확인합니다."
   ]
  },
  {
   "cell_type": "code",
   "execution_count": 6,
   "metadata": {},
   "outputs": [
    {
     "name": "stdout",
     "output_type": "stream",
     "text": [
      "정답입니다!!!\n"
     ]
    }
   ],
   "source": [
    "from numpy.testing import assert_array_equal\n",
    "\n",
    "assert 'answer2' in globals(), \"결과를 answer2 변수에 담아주세요!, answer2 값을 보고 평가합니다.\"\n",
    "\n",
    "A = np.ones([5,3], dtype=np.float)\n",
    "\n",
    "assert_array_equal(A,answer2,\n",
    "                   err_msg=\"\\n\\n정답은 \\n{}\\n입니다. 코드를 다시 확인해주세요\".format(A))\n",
    "\n",
    "print(\"정답입니다!!!\")"
   ]
  },
  {
   "cell_type": "markdown",
   "metadata": {},
   "source": [
    "## 문제 3. 같은 간격의 행렬 만들기(1)\n",
    "* 아래와 같은 행렬을 `np.arange`를 이용해 만들어 주세요\n",
    "\n",
    "정답 >>>\n",
    "```python\n",
    "np.array([ 1.5,  4.5,  7.5, 10.5, 13.5])\n",
    "```"
   ]
  },
  {
   "cell_type": "markdown",
   "metadata": {},
   "source": [
    "#### 답안지 입력란\n",
    "* 아래에 답을 서술하여 주세요\n",
    "* 결과는 `answer3`에 담아주세요"
   ]
  },
  {
   "cell_type": "code",
   "execution_count": 7,
   "metadata": {},
   "outputs": [],
   "source": [
    "answer3 = np.arange(1.5,14,3)"
   ]
  },
  {
   "cell_type": "markdown",
   "metadata": {},
   "source": [
    "#### 정답 확인\n",
    "* 정답을 입력한 후, 아래를 실행시키면 정답인지 확인합니다."
   ]
  },
  {
   "cell_type": "code",
   "execution_count": 8,
   "metadata": {},
   "outputs": [
    {
     "name": "stdout",
     "output_type": "stream",
     "text": [
      "정답입니다!!!\n"
     ]
    }
   ],
   "source": [
    "from numpy.testing import assert_array_almost_equal\n",
    "\n",
    "assert 'answer3' in globals(), \"결과를 answer3이라는 변수에 담아주세요!, answer3의 값을 보고 평가합니다.\"\n",
    "\n",
    "A = np.array([ 1.5,  4.5,  7.5, 10.5, 13.5])\n",
    "\n",
    "assert_array_almost_equal(A,answer3,decimal=2,\n",
    "                          err_msg=\"\\n\\n정답은 \\n{}\\n입니다. 코드를 다시 확인해주세요\".format(A))\n",
    "\n",
    "print(\"정답입니다!!!\")"
   ]
  },
  {
   "cell_type": "markdown",
   "metadata": {},
   "source": [
    "## 문제 4. 같은 간격의 행렬 만들기(2)\n",
    "* 아래와 같은 행렬을 `np.linspace`를 이용해 만들어 주세요\n",
    "\n",
    "정답 >>>\n",
    "```python\n",
    "np.array([ 1.5,  4.5,  7.5, 10.5, 13.5])\n",
    "```"
   ]
  },
  {
   "cell_type": "markdown",
   "metadata": {},
   "source": [
    "#### 답안지 입력란\n",
    "* 아래에 답을 서술하여 주세요\n",
    "* 결과는 `answer4`에 담아주세요"
   ]
  },
  {
   "cell_type": "code",
   "execution_count": 9,
   "metadata": {
    "scrolled": false
   },
   "outputs": [],
   "source": [
    "answer4 = np.linspace(1.5,13.5,5)"
   ]
  },
  {
   "cell_type": "markdown",
   "metadata": {},
   "source": [
    "#### 정답 확인\n",
    "* 정답을 입력한 후, 아래를 실행시키면 정답인지 확인합니다."
   ]
  },
  {
   "cell_type": "code",
   "execution_count": 10,
   "metadata": {},
   "outputs": [
    {
     "name": "stdout",
     "output_type": "stream",
     "text": [
      "정답입니다!!!\n"
     ]
    }
   ],
   "source": [
    "from numpy.testing import assert_array_almost_equal\n",
    "\n",
    "assert 'answer4' in globals(), \"결과를 answer4라는 변수에 담아주세요!, answer4의 값을 보고 평가합니다.\"\n",
    "\n",
    "A = np.array([ 1.5,  4.5,  7.5, 10.5, 13.5])\n",
    "\n",
    "assert_array_almost_equal(A,answer4,decimal=2,\n",
    "                          err_msg=\"\\n\\n정답은 \\n{}\\n입니다. 코드를 다시 확인해주세요\".format(A))\n",
    "\n",
    "print(\"정답입니다!!!\")"
   ]
  },
  {
   "cell_type": "markdown",
   "metadata": {},
   "source": [
    "> 문제 5번~8번은 지난 exercise에 있던 예제들입니다. list가 아닌 numpy로 풀어보세요!"
   ]
  },
  {
   "cell_type": "markdown",
   "metadata": {},
   "source": [
    "#### table-1) 2012년~2018년 삼성전자 분기별 매출과 합계\n",
    "\n",
    "| (단위:조원) | 1분기 | 2분기 | 3분기 | 4분기 | 합계   |\n",
    "| ------ | ----- | ----- | ----- | ----- | ------ |\n",
    "| 2012년 | 45.27 | 47.60 | 52.18 | 56.06 | 201.10 |\n",
    "| 2013년 | 52.87 | 57.46 | 59.08 | 59.28 | 228.69 |\n",
    "| 2014년 | 53.68 | 52.35 | 47.45 | 52.73 | 206.21 |\n",
    "| 2015년 | 47.12 | 48.54 | 51.68 | 53.32 | 200.65 |\n",
    "| 2016년 | 49.78 | 50.94 | 47.82 | 53.33 | 201.87 |\n",
    "| 2017년 | 50.55 | 61.99 | 62.05 | 65.98 | 240.57 |\n",
    "| 2018년 | 60.56 | 58.48 | 65.46 | 59.27 | 243.77 |"
   ]
  },
  {
   "cell_type": "markdown",
   "metadata": {},
   "source": [
    "## 문제 5. 인덱싱을 이용해 새로운 Numpy Array 만들기\n",
    "* 현재 분기별 매출 표에는 `합계`까지 포함되어 있습니다. 인덱싱을 이용해 합계는 제외하고 매출만 남아있는 Numpy Array를 만들어주세요\n",
    "\n",
    "정답 >>>\n",
    "```python\n",
    "np.array([[45.27, 47.6 , 52.18, 56.06],\n",
    "       [52.87, 57.46, 59.08, 59.28],\n",
    "       [53.68, 52.35, 47.45, 52.73],\n",
    "       [47.12, 48.54, 51.68, 53.32],\n",
    "       [49.78, 50.94, 47.82, 53.33],\n",
    "       [50.55, 61.99, 62.05, 65.98],\n",
    "       [60.56, 58.48, 65.46, 59.27]])\n",
    "```"
   ]
  },
  {
   "cell_type": "code",
   "execution_count": 11,
   "metadata": {},
   "outputs": [],
   "source": [
    "# 우선 실행해주세요\n",
    "sales_with_sum = np.array([\n",
    "    [45.27, 47.60, 52.18, 56.06, 201.10],\n",
    "    [52.87, 57.46, 59.08, 59.28, 228.69],\n",
    "    [53.68, 52.35, 47.45, 52.73, 206.21],\n",
    "    [47.12, 48.54, 51.68, 53.32, 200.65],\n",
    "    [49.78, 50.94, 47.82, 53.33, 201.87],\n",
    "    [50.55, 61.99, 62.05, 65.98, 240.57],\n",
    "    [60.56, 58.48, 65.46, 59.27, 243.77]\n",
    "])"
   ]
  },
  {
   "cell_type": "markdown",
   "metadata": {},
   "source": [
    "#### 답안지 입력란\n",
    "* 아래에 답을 서술하여 주세요\n",
    "* 결과는 `answer5`에 담아주세요"
   ]
  },
  {
   "cell_type": "code",
   "execution_count": 12,
   "metadata": {},
   "outputs": [],
   "source": [
    "answer5 = sales_with_sum[:, 0:4]"
   ]
  },
  {
   "cell_type": "markdown",
   "metadata": {},
   "source": [
    "#### 정답 확인\n",
    "* 정답을 입력한 후, 아래를 실행시키면 정답인지 확인합니다."
   ]
  },
  {
   "cell_type": "code",
   "execution_count": 13,
   "metadata": {},
   "outputs": [
    {
     "name": "stdout",
     "output_type": "stream",
     "text": [
      "정답입니다!!!\n"
     ]
    }
   ],
   "source": [
    "from numpy.testing import assert_array_almost_equal\n",
    "\n",
    "assert 'answer5' in globals(), \"결과를 answer5라는 변수에 담아주세요!, answer5의 값을 보고 평가합니다.\"\n",
    "assert isinstance(answer5, np.ndarray), \"결과값들을 'numpy array'형식으로 담아주세요\"\n",
    "A = np.array([[45.27, 47.6 , 52.18, 56.06],\n",
    "       [52.87, 57.46, 59.08, 59.28],\n",
    "       [53.68, 52.35, 47.45, 52.73],\n",
    "       [47.12, 48.54, 51.68, 53.32],\n",
    "       [49.78, 50.94, 47.82, 53.33],\n",
    "       [50.55, 61.99, 62.05, 65.98],\n",
    "       [60.56, 58.48, 65.46, 59.27]])\n",
    "\n",
    "assert_array_almost_equal(A,answer5,decimal=2,\n",
    "                          err_msg=\"\\n\\n정답은 \\n{}\\n입니다. 코드를 다시 확인해주세요\".format(A))\n",
    "\n",
    "print(\"정답입니다!!!\")"
   ]
  },
  {
   "cell_type": "markdown",
   "metadata": {},
   "source": [
    "#### table-2) 2012년~2018년 삼성전자 분기별 매출\n",
    "\n",
    "| (단위:조원) | 1분기 | 2분기 | 3분기 | 4분기 |\n",
    "| ------ | ----- | ----- | ----- | ----- |\n",
    "| 2012년 | 45.27 | 47.60 | 52.18 | 56.06 |\n",
    "| 2013년 | 52.87 | 57.46 | 59.08 | 59.28 |\n",
    "| 2014년 | 53.68 | 52.35 | 47.45 | 52.73 |\n",
    "| 2015년 | 47.12 | 48.54 | 51.68 | 53.32 |\n",
    "| 2016년 | 49.78 | 50.94 | 47.82 | 53.33 |\n",
    "| 2017년 | 50.55 | 61.99 | 62.05 | 65.98 |\n",
    "| 2018년 | 60.56 | 58.48 | 65.46 | 59.27 |"
   ]
  },
  {
   "cell_type": "markdown",
   "metadata": {},
   "source": [
    "## 문제 6. 특정 원소 가져오기(1)\n",
    "* 삼성전자의 **2016년 3분기 매출**을 가져와주세요.\n",
    "\n",
    "정답 >>> \n",
    "```python\n",
    "47.82\n",
    "```"
   ]
  },
  {
   "cell_type": "code",
   "execution_count": 14,
   "metadata": {},
   "outputs": [],
   "source": [
    "# 우선 실행해주세요\n",
    "sales = np.array([\n",
    "    [45.27, 47.60, 52.18, 56.06],\n",
    "    [52.87, 57.46, 59.08, 59.28],\n",
    "    [53.68, 52.35, 47.45, 52.73],\n",
    "    [47.12, 48.54, 51.68, 53.32],\n",
    "    [49.78, 50.94, 47.82, 53.33],\n",
    "    [50.55, 61.99, 62.05, 65.98],\n",
    "    [60.56, 58.48, 65.46, 59.27]\n",
    "])"
   ]
  },
  {
   "cell_type": "markdown",
   "metadata": {},
   "source": [
    "#### 답안지 입력란\n",
    "* 아래에 답을 서술하여 주세요\n",
    "* 결과는 `answer6`에 담아주세요"
   ]
  },
  {
   "cell_type": "code",
   "execution_count": 15,
   "metadata": {},
   "outputs": [],
   "source": [
    "answer6 = sales[4][2]"
   ]
  },
  {
   "cell_type": "markdown",
   "metadata": {},
   "source": [
    "#### 정답 확인\n",
    "* 정답을 입력한 후, 아래를 실행시키면 정답인지 확인합니다."
   ]
  },
  {
   "cell_type": "code",
   "execution_count": 16,
   "metadata": {
    "scrolled": true
   },
   "outputs": [
    {
     "name": "stdout",
     "output_type": "stream",
     "text": [
      "정답입니다!!!!\n"
     ]
    }
   ],
   "source": [
    "assert 'answer6' in globals(), \"결과를 answer6이라는 변수에 담아주세요!, answer6의 값을 보고 평가합니다.\"\n",
    "\n",
    "if (answer6 == 47.82):\n",
    "    print(\"정답입니다!!!!\")\n",
    "else:\n",
    "    raise ValueError(\"정답은 47.82가 나와야 합니다. 코드를 다시 확인해주세요!\")"
   ]
  },
  {
   "cell_type": "markdown",
   "metadata": {},
   "source": [
    "## 문제 7. 특정 원소 가져오기(2)\n",
    "* 삼성전자의 **짝수년 1,3분기 매출**을 가져와주세요.\n",
    "\n",
    "정답 >>> \n",
    "```python\n",
    "np.array([[45.27, 52.18], [53.68, 47.45], \n",
    "[49.78, 47.82], [60.56, 65.46]])\n",
    "```"
   ]
  },
  {
   "cell_type": "code",
   "execution_count": 17,
   "metadata": {},
   "outputs": [],
   "source": [
    "# 우선 실행해주세요\n",
    "sales = np.array([\n",
    "    [45.27, 47.60, 52.18, 56.06],\n",
    "    [52.87, 57.46, 59.08, 59.28],\n",
    "    [53.68, 52.35, 47.45, 52.73],\n",
    "    [47.12, 48.54, 51.68, 53.32],\n",
    "    [49.78, 50.94, 47.82, 53.33],\n",
    "    [50.55, 61.99, 62.05, 65.98],\n",
    "    [60.56, 58.48, 65.46, 59.27]\n",
    "])"
   ]
  },
  {
   "cell_type": "markdown",
   "metadata": {},
   "source": [
    "#### 답안지 입력란\n",
    "* 아래에 답을 서술하여 주세요\n",
    "* 결과는 `answer7`에 담아주세요"
   ]
  },
  {
   "cell_type": "code",
   "execution_count": 18,
   "metadata": {},
   "outputs": [],
   "source": [
    "answer7 = sales[::2, [0,2]] "
   ]
  },
  {
   "cell_type": "markdown",
   "metadata": {},
   "source": [
    "#### 정답 확인\n",
    "* 정답을 입력한 후, 아래를 실행시키면 정답인지 확인합니다."
   ]
  },
  {
   "cell_type": "code",
   "execution_count": 19,
   "metadata": {},
   "outputs": [
    {
     "name": "stdout",
     "output_type": "stream",
     "text": [
      "정답입니다!!!\n"
     ]
    }
   ],
   "source": [
    "from numpy.testing import assert_array_almost_equal\n",
    "\n",
    "assert 'answer7' in globals(), \"결과를 answer7이라는 변수에 담아주세요!, answer7의 값을 보고 평가합니다.\"\n",
    "assert isinstance(answer7, np.ndarray), \"결과값들을 'numpy array'형식으로 담아주세요\"\n",
    "\n",
    "A = np.array([[45.27, 52.18], [53.68, 47.45], [49.78, 47.82], [60.56, 65.46]])\n",
    "\n",
    "assert_array_almost_equal(A,answer7,decimal=2,\n",
    "                          err_msg=\"\\n\\n정답은 \\n{}\\n입니다. 코드를 다시 확인해주세요\".format(A))\n",
    "\n",
    "print(\"정답입니다!!!\")"
   ]
  },
  {
   "cell_type": "markdown",
   "metadata": {},
   "source": [
    "## 문제 8. 특정 원소 가져오기(3)\n",
    "* 삼성전자의 **각 연도별 4분기 매출**을 가져와주세요.\n",
    "\n",
    "정답 >>> \n",
    "```python\n",
    "np.array([56.06, 59.28, 52.73, 53.32, 53.33, 65.98, 59.27])\n",
    "```"
   ]
  },
  {
   "cell_type": "code",
   "execution_count": 20,
   "metadata": {},
   "outputs": [],
   "source": [
    "# 우선 실행해주세요\n",
    "sales = np.array([\n",
    "    [45.27, 47.60, 52.18, 56.06],\n",
    "    [52.87, 57.46, 59.08, 59.28],\n",
    "    [53.68, 52.35, 47.45, 52.73],\n",
    "    [47.12, 48.54, 51.68, 53.32],\n",
    "    [49.78, 50.94, 47.82, 53.33],\n",
    "    [50.55, 61.99, 62.05, 65.98],\n",
    "    [60.56, 58.48, 65.46, 59.27]\n",
    "])"
   ]
  },
  {
   "cell_type": "markdown",
   "metadata": {},
   "source": [
    "#### 답안지 입력란\n",
    "* 아래에 답을 서술하여 주세요\n",
    "* 결과는 `answer7`에 담아주세요"
   ]
  },
  {
   "cell_type": "code",
   "execution_count": 21,
   "metadata": {},
   "outputs": [],
   "source": [
    "answer8 = sales[:, 3]"
   ]
  },
  {
   "cell_type": "markdown",
   "metadata": {},
   "source": [
    "#### 정답 확인\n",
    "* 정답을 입력한 후, 아래를 실행시키면 정답인지 확인합니다."
   ]
  },
  {
   "cell_type": "code",
   "execution_count": 22,
   "metadata": {
    "scrolled": true
   },
   "outputs": [
    {
     "name": "stdout",
     "output_type": "stream",
     "text": [
      "정답입니다!!!\n"
     ]
    }
   ],
   "source": [
    "from numpy.testing import assert_array_almost_equal\n",
    "\n",
    "assert 'answer8' in globals(), \"결과를 answer8이라는 변수에 담아주세요!, answer8의 값을 보고 평가합니다.\"\n",
    "assert isinstance(answer8, np.ndarray), \"결과값들을 'numpy array'형식으로 담아주세요\"\n",
    "\n",
    "A = np.array([56.06, 59.28, 52.73, 53.32, 53.33, 65.98, 59.27])\n",
    "\n",
    "assert_array_almost_equal(A,answer8,decimal=2,\n",
    "                          err_msg=\"\\n\\n정답은 \\n{}\\n입니다. 코드를 다시 확인해주세요\".format(A))\n",
    "\n",
    "print(\"정답입니다!!!\")"
   ]
  },
  {
   "cell_type": "markdown",
   "metadata": {},
   "source": [
    "#### table-3) 중간고사, 기말고사 학생들의 성적표\n",
    "\n",
    "* 중간고사, 학생들의 국영수사과 성적표\n",
    "\n",
    "| 학생 번호 | 국어 | 영어 | 수학 | 사회 | 과학 |\n",
    "|  ----   | --- |---| --- | --- | --- |\n",
    "|0 |80 |92 |70 | 65 | 92 |\n",
    "|1 |91 |75 |90 | 68 | 85 | \n",
    "|2 |86 |76 |42 | 72 | 88 |\n",
    "|3 |77 |92 |52 | 60 | 80 |\n",
    "|4 |75 |85 |85 | 92 | 95 |\n",
    "|5 |96 |90 |95 | 81 | 72 |\n",
    "\n",
    "\n",
    "* 기말고사, 학생들의 국영수사과 성적표\n",
    "\n",
    "| 학생 번호 | 국어 | 영어 | 수학 | 사회 | 과학 |\n",
    "|  ----   | --- |---| --- | --- | --- |\n",
    "|0 |85 |95 |90 | 66 | 93 |\n",
    "|1 |93 |70 |80 | 60 | 81 | \n",
    "|2 |89 |78 |55 | 75 | 80 |\n",
    "|3 |80 |94 |59 | 72 | 90 |\n",
    "|4 |70 |82 |81 | 95 | 72 |\n",
    "|5 |90 |76 |93 | 82 | 89 |"
   ]
  },
  {
   "cell_type": "code",
   "execution_count": 23,
   "metadata": {},
   "outputs": [],
   "source": [
    "scores = np.array([[[80, 92, 70, 65, 92],\n",
    "        [91, 75, 90, 68, 85],\n",
    "        [86, 76, 42, 72, 88],\n",
    "        [77, 92, 52, 60, 80],\n",
    "        [75, 85, 85, 92, 95],\n",
    "        [96, 90, 95, 81, 72]],\n",
    "\n",
    "       [[85, 95, 90, 66, 93],\n",
    "        [93, 70, 80, 60, 81],\n",
    "        [89, 78, 55, 75, 80],\n",
    "        [80, 94, 59, 72, 90],\n",
    "        [70, 82, 81, 95, 72],\n",
    "        [90, 76, 93, 82, 89]]])"
   ]
  },
  {
   "cell_type": "markdown",
   "metadata": {},
   "source": [
    "## 문제 9. 배열 원소 Indexing 하기\n",
    "* 3번 학생의 중간고사 사회 성적을 가져와주세요\n",
    "\n",
    "정답 >>> \n",
    "```python\n",
    "60\n",
    "```"
   ]
  },
  {
   "cell_type": "code",
   "execution_count": 24,
   "metadata": {},
   "outputs": [],
   "source": [
    "# 우선 실행해주세요\n",
    "scores = np.array([[[80, 92, 70, 65, 92],\n",
    "        [91, 75, 90, 68, 85],\n",
    "        [86, 76, 42, 72, 88],\n",
    "        [77, 92, 52, 60, 80],\n",
    "        [75, 85, 85, 92, 95],\n",
    "        [96, 90, 95, 81, 72]],\n",
    "\n",
    "       [[85, 95, 90, 66, 93],\n",
    "        [93, 70, 80, 60, 81],\n",
    "        [89, 78, 55, 75, 80],\n",
    "        [80, 94, 59, 72, 90],\n",
    "        [70, 82, 81, 95, 72],\n",
    "        [90, 76, 93, 82, 89]]])"
   ]
  },
  {
   "cell_type": "markdown",
   "metadata": {},
   "source": [
    "#### 답안지 입력란\n",
    "* 아래에 답을 서술하여 주세요\n",
    "* 결과는 `answer9`에 담아주세요"
   ]
  },
  {
   "cell_type": "code",
   "execution_count": 25,
   "metadata": {},
   "outputs": [],
   "source": [
    "answer9 = scores[0,3,3]"
   ]
  },
  {
   "cell_type": "markdown",
   "metadata": {},
   "source": [
    "#### 정답 확인\n",
    "* 정답을 입력한 후, 아래를 실행시키면 정답인지 확인합니다."
   ]
  },
  {
   "cell_type": "code",
   "execution_count": 26,
   "metadata": {
    "scrolled": true
   },
   "outputs": [
    {
     "name": "stdout",
     "output_type": "stream",
     "text": [
      "정답입니다!!!!\n"
     ]
    }
   ],
   "source": [
    "assert 'answer9' in globals(), \"결과를 answer9라는 변수에 담아주세요!, answer9의 값을 보고 평가합니다.\"\n",
    "\n",
    "if (answer9 == 60):\n",
    "    print(\"정답입니다!!!!\")\n",
    "else:\n",
    "    raise ValueError(\"정답은 60이 나와야 합니다. 코드를 다시 확인해주세요!\")"
   ]
  },
  {
   "cell_type": "markdown",
   "metadata": {},
   "source": [
    "## 문제 10. 배열 특정 범위 가져오기\n",
    "* 2번 학생부터 4번 학생까지의 기말고사 국어,영어,수학 성적을 가져와주세요\n",
    "\n",
    "정답 >>>\n",
    "```python\n",
    "np.array([[89, 78, 55],\n",
    "       [80, 94, 59],\n",
    "       [70, 82, 81]])\n",
    "```"
   ]
  },
  {
   "cell_type": "code",
   "execution_count": 27,
   "metadata": {},
   "outputs": [],
   "source": [
    "# 우선 실행해주세요\n",
    "scores = np.array([[[80, 92, 70, 65, 92],\n",
    "        [91, 75, 90, 68, 85],\n",
    "        [86, 76, 42, 72, 88],\n",
    "        [77, 92, 52, 60, 80],\n",
    "        [75, 85, 85, 92, 95],\n",
    "        [96, 90, 95, 81, 72]],\n",
    "\n",
    "       [[85, 95, 90, 66, 93],\n",
    "        [93, 70, 80, 60, 81],\n",
    "        [89, 78, 55, 75, 80],\n",
    "        [80, 94, 59, 72, 90],\n",
    "        [70, 82, 81, 95, 72],\n",
    "        [90, 76, 93, 82, 89]]])"
   ]
  },
  {
   "cell_type": "markdown",
   "metadata": {},
   "source": [
    "#### 답안지 입력란\n",
    "* 아래에 답을 서술하여 주세요\n",
    "* 결과는 `answer10`에 담아주세요"
   ]
  },
  {
   "cell_type": "code",
   "execution_count": 28,
   "metadata": {},
   "outputs": [],
   "source": [
    "answer10 = scores[1,2:5,:3]"
   ]
  },
  {
   "cell_type": "markdown",
   "metadata": {},
   "source": [
    "#### 정답 확인\n",
    "* 정답을 입력한 후, 아래를 실행시키면 정답인지 확인합니다."
   ]
  },
  {
   "cell_type": "code",
   "execution_count": 29,
   "metadata": {},
   "outputs": [
    {
     "name": "stdout",
     "output_type": "stream",
     "text": [
      "정답입니다!!!\n"
     ]
    }
   ],
   "source": [
    "from numpy.testing import assert_array_almost_equal\n",
    "\n",
    "assert 'answer10' in globals(), \"결과를 answer10이라는 변수에 담아주세요!, answer10의 값을 보고 평가합니다.\"\n",
    "\n",
    "A = np.array([[89, 78, 55],\n",
    "       [80, 94, 59],\n",
    "       [70, 82, 81]])\n",
    "\n",
    "assert_array_almost_equal(A,answer10,decimal=2,\n",
    "                          err_msg=\"\\n\\n정답은 \\n{}\\n입니다. 코드를 다시 확인해주세요\".format(A))\n",
    "\n",
    "print(\"정답입니다!!!\")"
   ]
  },
  {
   "cell_type": "markdown",
   "metadata": {},
   "source": [
    "## 문제 11. 조건문으로 가져오기\n",
    "* 중간고사, 기말고사 통틀어, 한번이라도 **수학 성적이 90과 같거나 큰 학생**들의 전 과목 성적을 가져와주세요\n",
    "\n",
    "정답 >>> \n",
    "```python\n",
    "np.array([[91, 75, 90, 68, 85],\n",
    "       [96, 90, 95, 81, 72],\n",
    "       [85, 95, 90, 66, 93],\n",
    "       [90, 76, 93, 82, 89]])\n",
    "```"
   ]
  },
  {
   "cell_type": "code",
   "execution_count": 30,
   "metadata": {},
   "outputs": [],
   "source": [
    "# 우선 실행해주세요\n",
    "scores = np.array([[[80, 92, 70, 65, 92],\n",
    "        [91, 75, 90, 68, 85],\n",
    "        [86, 76, 42, 72, 88],\n",
    "        [77, 92, 52, 60, 80],\n",
    "        [75, 85, 85, 92, 95],\n",
    "        [96, 90, 95, 81, 72]],\n",
    "\n",
    "       [[85, 95, 90, 66, 93],\n",
    "        [93, 70, 80, 60, 81],\n",
    "        [89, 78, 55, 75, 80],\n",
    "        [80, 94, 59, 72, 90],\n",
    "        [70, 82, 81, 95, 72],\n",
    "        [90, 76, 93, 82, 89]]])"
   ]
  },
  {
   "cell_type": "markdown",
   "metadata": {},
   "source": [
    "#### 답안지 입력란\n",
    "* 아래에 답을 서술하여 주세요\n",
    "* 결과는 `answer11`에 담아주세요"
   ]
  },
  {
   "cell_type": "code",
   "execution_count": 31,
   "metadata": {
    "scrolled": false
   },
   "outputs": [],
   "source": [
    "over_90 = scores[:,:,2]>=90\n",
    "\n",
    "answer11 = scores[over_90]"
   ]
  },
  {
   "cell_type": "markdown",
   "metadata": {},
   "source": [
    "#### 정답 확인\n",
    "* 정답을 입력한 후, 아래를 실행시키면 정답인지 확인합니다."
   ]
  },
  {
   "cell_type": "code",
   "execution_count": 32,
   "metadata": {},
   "outputs": [
    {
     "name": "stdout",
     "output_type": "stream",
     "text": [
      "정답입니다!!!\n"
     ]
    }
   ],
   "source": [
    "from numpy.testing import assert_array_almost_equal\n",
    "\n",
    "assert 'answer11' in globals(), \"결과를 answer11이라는 변수에 담아주세요!, answer11의 값을 보고 평가합니다.\"\n",
    "\n",
    "A = np.array([[91, 75, 90, 68, 85],\n",
    "       [96, 90, 95, 81, 72],\n",
    "       [85, 95, 90, 66, 93],\n",
    "       [90, 76, 93, 82, 89]])\n",
    "\n",
    "assert_array_almost_equal(A,answer11,decimal=2,\n",
    "                          err_msg=\"\\n\\n정답은 \\n{}\\n입니다. 코드를 다시 확인해주세요\".format(A))\n",
    "\n",
    "print(\"정답입니다!!!\")"
   ]
  },
  {
   "cell_type": "markdown",
   "metadata": {},
   "source": [
    "## 문제 12. 조건문으로 가져오기\n",
    "* 각 과목별로 점수가 75점이 넘지 않는 과목은 재시험을 봐야합니다. 학생 4번의 기말고사 성적에 대해, 재시험을 봐야한다면 \"재시험\"을, 아니라면 \"통과\"를 출력해주세요.\n",
    "\n",
    "정답 >>> \n",
    "```python\n",
    "np.array(['재시험', '통과', '통과', '통과', '재시험'], dtype='<U3')\n",
    "```"
   ]
  },
  {
   "cell_type": "code",
   "execution_count": 33,
   "metadata": {},
   "outputs": [],
   "source": [
    "# 우선 실행해주세요\n",
    "scores = np.array([[[80, 92, 70, 65, 92],\n",
    "        [91, 75, 90, 68, 85],\n",
    "        [86, 76, 42, 72, 88],\n",
    "        [77, 92, 52, 60, 80],\n",
    "        [75, 85, 85, 92, 95],\n",
    "        [96, 90, 95, 81, 72]],\n",
    "\n",
    "       [[85, 95, 90, 66, 93],\n",
    "        [93, 70, 80, 60, 81],\n",
    "        [89, 78, 55, 75, 80],\n",
    "        [80, 94, 59, 72, 90],\n",
    "        [70, 82, 81, 95, 72],\n",
    "        [90, 76, 93, 82, 89]]])"
   ]
  },
  {
   "cell_type": "markdown",
   "metadata": {},
   "source": [
    "#### 답안지 입력란\n",
    "* 아래에 답을 서술하여 주세요\n",
    "* 결과는 `answer12`에 담아주세요"
   ]
  },
  {
   "cell_type": "code",
   "execution_count": 34,
   "metadata": {
    "scrolled": true
   },
   "outputs": [],
   "source": [
    "answer12 = np.where(scores[1,4] > 75, \"통과\", \"재시험\")"
   ]
  },
  {
   "cell_type": "markdown",
   "metadata": {},
   "source": [
    "#### 정답 확인\n",
    "* 정답을 입력한 후, 아래를 실행시키면 정답인지 확인합니다."
   ]
  },
  {
   "cell_type": "code",
   "execution_count": 35,
   "metadata": {},
   "outputs": [
    {
     "name": "stdout",
     "output_type": "stream",
     "text": [
      "정답입니다!!!\n"
     ]
    }
   ],
   "source": [
    "from numpy.testing import assert_equal\n",
    "\n",
    "assert 'answer12' in globals(), \"결과를 answer12이라는 변수에 담아주세요!, answer12의 값을 보고 평가합니다.\"\n",
    "\n",
    "A = np.array(['재시험', '통과', '통과', '통과', '재시험'], dtype='<U3')\n",
    "\n",
    "assert_equal(A,answer12,err_msg=\"\\n\\n정답은 \\n{}\\n입니다. 코드를 다시 확인해주세요\".format(A))\n",
    "\n",
    "print(\"정답입니다!!!\")"
   ]
  },
  {
   "cell_type": "markdown",
   "metadata": {},
   "source": [
    "#  \n",
    "\n",
    "<hr>\n",
    "<div style = \"background-image: url('https://algorithmai.io/static/media/logo.665798c4.png');background-repeat: no-repeat; background-position: right; background-size: 220px 40px; padding : 5px 10px 5px 5px;\">\n",
    "    Copyright(c) 2019 by Public AI. All rights reserved.<br>\n",
    "    Writen by PAI, DoYeong Kim ( ka2k@publicai.co.kr )  last updated on 2019/07/12\n",
    "</div>\n",
    "<hr>"
   ]
  }
 ],
 "metadata": {
  "kernelspec": {
   "display_name": "Python 3",
   "language": "python",
   "name": "python3"
  },
  "language_info": {
   "codemirror_mode": {
    "name": "ipython",
    "version": 3
   },
   "file_extension": ".py",
   "mimetype": "text/x-python",
   "name": "python",
   "nbconvert_exporter": "python",
   "pygments_lexer": "ipython3",
   "version": "3.7.3"
  }
 },
 "nbformat": 4,
 "nbformat_minor": 2
}
